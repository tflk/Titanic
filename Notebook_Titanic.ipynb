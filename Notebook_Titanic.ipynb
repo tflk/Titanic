{
 "nbformat": 4,
 "nbformat_minor": 2,
 "metadata": {
  "language_info": {
   "name": "python",
   "codemirror_mode": {
    "name": "ipython",
    "version": 3
   },
   "version": "3.7.6-final"
  },
  "orig_nbformat": 2,
  "file_extension": ".py",
  "mimetype": "text/x-python",
  "name": "python",
  "npconvert_exporter": "python",
  "pygments_lexer": "ipython3",
  "version": 3,
  "kernelspec": {
   "name": "python3",
   "display_name": "Python 3"
  }
 },
 "cells": [
  {
   "cell_type": "markdown",
   "metadata": {},
   "source": [
    "# Importation des BD"
   ]
  },
  {
   "cell_type": "code",
   "execution_count": 116,
   "metadata": {},
   "outputs": [],
   "source": [
    "import pandas as pd\n",
    "import plotly.express as px\n",
    "import plotly.graph_objects as go\n",
    "import matplotlib.pyplot as plt\n",
    "import plotly.offline as pyo\n",
    "import numpy as np\n",
    "import scipy\n",
    "from statsmodels.stats import weightstats\n",
    "import seaborn as sns"
   ]
  },
  {
   "cell_type": "code",
   "execution_count": 117,
   "metadata": {},
   "outputs": [],
   "source": [
    "gender = pd.read_csv(\"D:/Simplon/Brief projet/Titanic/gender_submission.csv\")\n",
    "test = pd.read_csv(\"D:/Simplon/Brief projet/Titanic/test.csv\")\n",
    "train = pd.read_csv(\"D:/Simplon/Brief projet/Titanic/train.csv\")"
   ]
  },
  {
   "cell_type": "markdown",
   "metadata": {},
   "source": [
    "# Analyse des données"
   ]
  },
  {
   "cell_type": "code",
   "execution_count": 118,
   "metadata": {},
   "outputs": [
    {
     "output_type": "execute_result",
     "data": {
      "text/plain": "   PassengerId  Survived  Pclass  \\\n0            1         0       3   \n1            2         1       1   \n2            3         1       3   \n3            4         1       1   \n4            5         0       3   \n\n                                                Name     Sex   Age  SibSp  \\\n0                            Braund, Mr. Owen Harris    male  22.0      1   \n1  Cumings, Mrs. John Bradley (Florence Briggs Th...  female  38.0      1   \n2                             Heikkinen, Miss. Laina  female  26.0      0   \n3       Futrelle, Mrs. Jacques Heath (Lily May Peel)  female  35.0      1   \n4                           Allen, Mr. William Henry    male  35.0      0   \n\n   Parch            Ticket     Fare Cabin Embarked  \n0      0         A/5 21171   7.2500   NaN        S  \n1      0          PC 17599  71.2833   C85        C  \n2      0  STON/O2. 3101282   7.9250   NaN        S  \n3      0            113803  53.1000  C123        S  \n4      0            373450   8.0500   NaN        S  ",
      "text/html": "<div>\n<style scoped>\n    .dataframe tbody tr th:only-of-type {\n        vertical-align: middle;\n    }\n\n    .dataframe tbody tr th {\n        vertical-align: top;\n    }\n\n    .dataframe thead th {\n        text-align: right;\n    }\n</style>\n<table border=\"1\" class=\"dataframe\">\n  <thead>\n    <tr style=\"text-align: right;\">\n      <th></th>\n      <th>PassengerId</th>\n      <th>Survived</th>\n      <th>Pclass</th>\n      <th>Name</th>\n      <th>Sex</th>\n      <th>Age</th>\n      <th>SibSp</th>\n      <th>Parch</th>\n      <th>Ticket</th>\n      <th>Fare</th>\n      <th>Cabin</th>\n      <th>Embarked</th>\n    </tr>\n  </thead>\n  <tbody>\n    <tr>\n      <th>0</th>\n      <td>1</td>\n      <td>0</td>\n      <td>3</td>\n      <td>Braund, Mr. Owen Harris</td>\n      <td>male</td>\n      <td>22.0</td>\n      <td>1</td>\n      <td>0</td>\n      <td>A/5 21171</td>\n      <td>7.2500</td>\n      <td>NaN</td>\n      <td>S</td>\n    </tr>\n    <tr>\n      <th>1</th>\n      <td>2</td>\n      <td>1</td>\n      <td>1</td>\n      <td>Cumings, Mrs. John Bradley (Florence Briggs Th...</td>\n      <td>female</td>\n      <td>38.0</td>\n      <td>1</td>\n      <td>0</td>\n      <td>PC 17599</td>\n      <td>71.2833</td>\n      <td>C85</td>\n      <td>C</td>\n    </tr>\n    <tr>\n      <th>2</th>\n      <td>3</td>\n      <td>1</td>\n      <td>3</td>\n      <td>Heikkinen, Miss. Laina</td>\n      <td>female</td>\n      <td>26.0</td>\n      <td>0</td>\n      <td>0</td>\n      <td>STON/O2. 3101282</td>\n      <td>7.9250</td>\n      <td>NaN</td>\n      <td>S</td>\n    </tr>\n    <tr>\n      <th>3</th>\n      <td>4</td>\n      <td>1</td>\n      <td>1</td>\n      <td>Futrelle, Mrs. Jacques Heath (Lily May Peel)</td>\n      <td>female</td>\n      <td>35.0</td>\n      <td>1</td>\n      <td>0</td>\n      <td>113803</td>\n      <td>53.1000</td>\n      <td>C123</td>\n      <td>S</td>\n    </tr>\n    <tr>\n      <th>4</th>\n      <td>5</td>\n      <td>0</td>\n      <td>3</td>\n      <td>Allen, Mr. William Henry</td>\n      <td>male</td>\n      <td>35.0</td>\n      <td>0</td>\n      <td>0</td>\n      <td>373450</td>\n      <td>8.0500</td>\n      <td>NaN</td>\n      <td>S</td>\n    </tr>\n  </tbody>\n</table>\n</div>"
     },
     "metadata": {},
     "execution_count": 118
    }
   ],
   "source": [
    "train.head()"
   ]
  },
  {
   "cell_type": "code",
   "execution_count": 119,
   "metadata": {},
   "outputs": [
    {
     "output_type": "stream",
     "name": "stdout",
     "text": "Il y a 0 , soit 0.0 % de doublons dans la table Train.\n"
    }
   ],
   "source": [
    "trainn = train.drop_duplicates()\n",
    "doublons = train.shape[0] - trainn.shape[0]\n",
    "doublons_pct = doublons/train.shape[0]*100\n",
    "print(\"Il y a\", doublons, \", soit\", round(doublons_pct, 4), \"% de doublons dans la table Train.\")"
   ]
  },
  {
   "cell_type": "code",
   "execution_count": 120,
   "metadata": {},
   "outputs": [
    {
     "output_type": "stream",
     "name": "stdout",
     "text": "PassengerId     0.000000\nSurvived        0.000000\nPclass          0.000000\nName            0.000000\nSex             0.000000\nAge            19.865320\nSibSp           0.000000\nParch           0.000000\nTicket          0.000000\nFare            0.000000\nCabin          77.104377\nEmbarked        0.224467\ndtype: float64\n"
    }
   ],
   "source": [
    "print(train.isnull().sum()/train.shape[0]*100)"
   ]
  },
  {
   "cell_type": "code",
   "execution_count": 121,
   "metadata": {},
   "outputs": [],
   "source": [
    "train[\"Age\"].fillna(train[\"Age\"].mean(), inplace = True)\n",
    "del train[\"Cabin\"]\n",
    "train.dropna(inplace= True)"
   ]
  },
  {
   "cell_type": "code",
   "execution_count": 122,
   "metadata": {},
   "outputs": [
    {
     "output_type": "stream",
     "name": "stdout",
     "text": "PassengerId    0.0\nSurvived       0.0\nPclass         0.0\nName           0.0\nSex            0.0\nAge            0.0\nSibSp          0.0\nParch          0.0\nTicket         0.0\nFare           0.0\nEmbarked       0.0\ndtype: float64\n"
    }
   ],
   "source": [
    "print(train.isnull().sum()/train.shape[0]*100)"
   ]
  },
  {
   "cell_type": "markdown",
   "metadata": {},
   "source": [
    "# DATAVIZ"
   ]
  },
  {
   "cell_type": "code",
   "execution_count": 123,
   "metadata": {},
   "outputs": [
    {
     "output_type": "execute_result",
     "data": {
      "text/plain": "Sex     Survived\nfemale  1           231\n        0            81\nmale    0           468\n        1           109\nName: Survived, dtype: int64"
     },
     "metadata": {},
     "execution_count": 123
    }
   ],
   "source": [
    "train.Survived.groupby(train.Sex).value_counts()"
   ]
  },
  {
   "cell_type": "code",
   "execution_count": 124,
   "metadata": {},
   "outputs": [
    {
     "output_type": "display_data",
     "data": {
      "application/vnd.plotly.v1+json": {
       "config": {
        "plotlyServerURL": "https://plot.ly"
       },
       "data": [
        {
         "name": "Morts",
         "type": "bar",
         "x": [
          "female",
          "male"
         ],
         "y": [
          81,
          468
         ]
        },
        {
         "name": "En vie",
         "type": "bar",
         "x": [
          "female",
          "male"
         ],
         "y": [
          231,
          109
         ]
        }
       ],
       "layout": {
        "barmode": "group",
        "template": {
         "data": {
          "bar": [
           {
            "error_x": {
             "color": "#2a3f5f"
            },
            "error_y": {
             "color": "#2a3f5f"
            },
            "marker": {
             "line": {
              "color": "#E5ECF6",
              "width": 0.5
             }
            },
            "type": "bar"
           }
          ],
          "barpolar": [
           {
            "marker": {
             "line": {
              "color": "#E5ECF6",
              "width": 0.5
             }
            },
            "type": "barpolar"
           }
          ],
          "carpet": [
           {
            "aaxis": {
             "endlinecolor": "#2a3f5f",
             "gridcolor": "white",
             "linecolor": "white",
             "minorgridcolor": "white",
             "startlinecolor": "#2a3f5f"
            },
            "baxis": {
             "endlinecolor": "#2a3f5f",
             "gridcolor": "white",
             "linecolor": "white",
             "minorgridcolor": "white",
             "startlinecolor": "#2a3f5f"
            },
            "type": "carpet"
           }
          ],
          "choropleth": [
           {
            "colorbar": {
             "outlinewidth": 0,
             "ticks": ""
            },
            "type": "choropleth"
           }
          ],
          "contour": [
           {
            "colorbar": {
             "outlinewidth": 0,
             "ticks": ""
            },
            "colorscale": [
             [
              0,
              "#0d0887"
             ],
             [
              0.1111111111111111,
              "#46039f"
             ],
             [
              0.2222222222222222,
              "#7201a8"
             ],
             [
              0.3333333333333333,
              "#9c179e"
             ],
             [
              0.4444444444444444,
              "#bd3786"
             ],
             [
              0.5555555555555556,
              "#d8576b"
             ],
             [
              0.6666666666666666,
              "#ed7953"
             ],
             [
              0.7777777777777778,
              "#fb9f3a"
             ],
             [
              0.8888888888888888,
              "#fdca26"
             ],
             [
              1,
              "#f0f921"
             ]
            ],
            "type": "contour"
           }
          ],
          "contourcarpet": [
           {
            "colorbar": {
             "outlinewidth": 0,
             "ticks": ""
            },
            "type": "contourcarpet"
           }
          ],
          "heatmap": [
           {
            "colorbar": {
             "outlinewidth": 0,
             "ticks": ""
            },
            "colorscale": [
             [
              0,
              "#0d0887"
             ],
             [
              0.1111111111111111,
              "#46039f"
             ],
             [
              0.2222222222222222,
              "#7201a8"
             ],
             [
              0.3333333333333333,
              "#9c179e"
             ],
             [
              0.4444444444444444,
              "#bd3786"
             ],
             [
              0.5555555555555556,
              "#d8576b"
             ],
             [
              0.6666666666666666,
              "#ed7953"
             ],
             [
              0.7777777777777778,
              "#fb9f3a"
             ],
             [
              0.8888888888888888,
              "#fdca26"
             ],
             [
              1,
              "#f0f921"
             ]
            ],
            "type": "heatmap"
           }
          ],
          "heatmapgl": [
           {
            "colorbar": {
             "outlinewidth": 0,
             "ticks": ""
            },
            "colorscale": [
             [
              0,
              "#0d0887"
             ],
             [
              0.1111111111111111,
              "#46039f"
             ],
             [
              0.2222222222222222,
              "#7201a8"
             ],
             [
              0.3333333333333333,
              "#9c179e"
             ],
             [
              0.4444444444444444,
              "#bd3786"
             ],
             [
              0.5555555555555556,
              "#d8576b"
             ],
             [
              0.6666666666666666,
              "#ed7953"
             ],
             [
              0.7777777777777778,
              "#fb9f3a"
             ],
             [
              0.8888888888888888,
              "#fdca26"
             ],
             [
              1,
              "#f0f921"
             ]
            ],
            "type": "heatmapgl"
           }
          ],
          "histogram": [
           {
            "marker": {
             "colorbar": {
              "outlinewidth": 0,
              "ticks": ""
             }
            },
            "type": "histogram"
           }
          ],
          "histogram2d": [
           {
            "colorbar": {
             "outlinewidth": 0,
             "ticks": ""
            },
            "colorscale": [
             [
              0,
              "#0d0887"
             ],
             [
              0.1111111111111111,
              "#46039f"
             ],
             [
              0.2222222222222222,
              "#7201a8"
             ],
             [
              0.3333333333333333,
              "#9c179e"
             ],
             [
              0.4444444444444444,
              "#bd3786"
             ],
             [
              0.5555555555555556,
              "#d8576b"
             ],
             [
              0.6666666666666666,
              "#ed7953"
             ],
             [
              0.7777777777777778,
              "#fb9f3a"
             ],
             [
              0.8888888888888888,
              "#fdca26"
             ],
             [
              1,
              "#f0f921"
             ]
            ],
            "type": "histogram2d"
           }
          ],
          "histogram2dcontour": [
           {
            "colorbar": {
             "outlinewidth": 0,
             "ticks": ""
            },
            "colorscale": [
             [
              0,
              "#0d0887"
             ],
             [
              0.1111111111111111,
              "#46039f"
             ],
             [
              0.2222222222222222,
              "#7201a8"
             ],
             [
              0.3333333333333333,
              "#9c179e"
             ],
             [
              0.4444444444444444,
              "#bd3786"
             ],
             [
              0.5555555555555556,
              "#d8576b"
             ],
             [
              0.6666666666666666,
              "#ed7953"
             ],
             [
              0.7777777777777778,
              "#fb9f3a"
             ],
             [
              0.8888888888888888,
              "#fdca26"
             ],
             [
              1,
              "#f0f921"
             ]
            ],
            "type": "histogram2dcontour"
           }
          ],
          "mesh3d": [
           {
            "colorbar": {
             "outlinewidth": 0,
             "ticks": ""
            },
            "type": "mesh3d"
           }
          ],
          "parcoords": [
           {
            "line": {
             "colorbar": {
              "outlinewidth": 0,
              "ticks": ""
             }
            },
            "type": "parcoords"
           }
          ],
          "pie": [
           {
            "automargin": true,
            "type": "pie"
           }
          ],
          "scatter": [
           {
            "marker": {
             "colorbar": {
              "outlinewidth": 0,
              "ticks": ""
             }
            },
            "type": "scatter"
           }
          ],
          "scatter3d": [
           {
            "line": {
             "colorbar": {
              "outlinewidth": 0,
              "ticks": ""
             }
            },
            "marker": {
             "colorbar": {
              "outlinewidth": 0,
              "ticks": ""
             }
            },
            "type": "scatter3d"
           }
          ],
          "scattercarpet": [
           {
            "marker": {
             "colorbar": {
              "outlinewidth": 0,
              "ticks": ""
             }
            },
            "type": "scattercarpet"
           }
          ],
          "scattergeo": [
           {
            "marker": {
             "colorbar": {
              "outlinewidth": 0,
              "ticks": ""
             }
            },
            "type": "scattergeo"
           }
          ],
          "scattergl": [
           {
            "marker": {
             "colorbar": {
              "outlinewidth": 0,
              "ticks": ""
             }
            },
            "type": "scattergl"
           }
          ],
          "scattermapbox": [
           {
            "marker": {
             "colorbar": {
              "outlinewidth": 0,
              "ticks": ""
             }
            },
            "type": "scattermapbox"
           }
          ],
          "scatterpolar": [
           {
            "marker": {
             "colorbar": {
              "outlinewidth": 0,
              "ticks": ""
             }
            },
            "type": "scatterpolar"
           }
          ],
          "scatterpolargl": [
           {
            "marker": {
             "colorbar": {
              "outlinewidth": 0,
              "ticks": ""
             }
            },
            "type": "scatterpolargl"
           }
          ],
          "scatterternary": [
           {
            "marker": {
             "colorbar": {
              "outlinewidth": 0,
              "ticks": ""
             }
            },
            "type": "scatterternary"
           }
          ],
          "surface": [
           {
            "colorbar": {
             "outlinewidth": 0,
             "ticks": ""
            },
            "colorscale": [
             [
              0,
              "#0d0887"
             ],
             [
              0.1111111111111111,
              "#46039f"
             ],
             [
              0.2222222222222222,
              "#7201a8"
             ],
             [
              0.3333333333333333,
              "#9c179e"
             ],
             [
              0.4444444444444444,
              "#bd3786"
             ],
             [
              0.5555555555555556,
              "#d8576b"
             ],
             [
              0.6666666666666666,
              "#ed7953"
             ],
             [
              0.7777777777777778,
              "#fb9f3a"
             ],
             [
              0.8888888888888888,
              "#fdca26"
             ],
             [
              1,
              "#f0f921"
             ]
            ],
            "type": "surface"
           }
          ],
          "table": [
           {
            "cells": {
             "fill": {
              "color": "#EBF0F8"
             },
             "line": {
              "color": "white"
             }
            },
            "header": {
             "fill": {
              "color": "#C8D4E3"
             },
             "line": {
              "color": "white"
             }
            },
            "type": "table"
           }
          ]
         },
         "layout": {
          "annotationdefaults": {
           "arrowcolor": "#2a3f5f",
           "arrowhead": 0,
           "arrowwidth": 1
          },
          "coloraxis": {
           "colorbar": {
            "outlinewidth": 0,
            "ticks": ""
           }
          },
          "colorscale": {
           "diverging": [
            [
             0,
             "#8e0152"
            ],
            [
             0.1,
             "#c51b7d"
            ],
            [
             0.2,
             "#de77ae"
            ],
            [
             0.3,
             "#f1b6da"
            ],
            [
             0.4,
             "#fde0ef"
            ],
            [
             0.5,
             "#f7f7f7"
            ],
            [
             0.6,
             "#e6f5d0"
            ],
            [
             0.7,
             "#b8e186"
            ],
            [
             0.8,
             "#7fbc41"
            ],
            [
             0.9,
             "#4d9221"
            ],
            [
             1,
             "#276419"
            ]
           ],
           "sequential": [
            [
             0,
             "#0d0887"
            ],
            [
             0.1111111111111111,
             "#46039f"
            ],
            [
             0.2222222222222222,
             "#7201a8"
            ],
            [
             0.3333333333333333,
             "#9c179e"
            ],
            [
             0.4444444444444444,
             "#bd3786"
            ],
            [
             0.5555555555555556,
             "#d8576b"
            ],
            [
             0.6666666666666666,
             "#ed7953"
            ],
            [
             0.7777777777777778,
             "#fb9f3a"
            ],
            [
             0.8888888888888888,
             "#fdca26"
            ],
            [
             1,
             "#f0f921"
            ]
           ],
           "sequentialminus": [
            [
             0,
             "#0d0887"
            ],
            [
             0.1111111111111111,
             "#46039f"
            ],
            [
             0.2222222222222222,
             "#7201a8"
            ],
            [
             0.3333333333333333,
             "#9c179e"
            ],
            [
             0.4444444444444444,
             "#bd3786"
            ],
            [
             0.5555555555555556,
             "#d8576b"
            ],
            [
             0.6666666666666666,
             "#ed7953"
            ],
            [
             0.7777777777777778,
             "#fb9f3a"
            ],
            [
             0.8888888888888888,
             "#fdca26"
            ],
            [
             1,
             "#f0f921"
            ]
           ]
          },
          "colorway": [
           "#636efa",
           "#EF553B",
           "#00cc96",
           "#ab63fa",
           "#FFA15A",
           "#19d3f3",
           "#FF6692",
           "#B6E880",
           "#FF97FF",
           "#FECB52"
          ],
          "font": {
           "color": "#2a3f5f"
          },
          "geo": {
           "bgcolor": "white",
           "lakecolor": "white",
           "landcolor": "#E5ECF6",
           "showlakes": true,
           "showland": true,
           "subunitcolor": "white"
          },
          "hoverlabel": {
           "align": "left"
          },
          "hovermode": "closest",
          "mapbox": {
           "style": "light"
          },
          "paper_bgcolor": "white",
          "plot_bgcolor": "#E5ECF6",
          "polar": {
           "angularaxis": {
            "gridcolor": "white",
            "linecolor": "white",
            "ticks": ""
           },
           "bgcolor": "#E5ECF6",
           "radialaxis": {
            "gridcolor": "white",
            "linecolor": "white",
            "ticks": ""
           }
          },
          "scene": {
           "xaxis": {
            "backgroundcolor": "#E5ECF6",
            "gridcolor": "white",
            "gridwidth": 2,
            "linecolor": "white",
            "showbackground": true,
            "ticks": "",
            "zerolinecolor": "white"
           },
           "yaxis": {
            "backgroundcolor": "#E5ECF6",
            "gridcolor": "white",
            "gridwidth": 2,
            "linecolor": "white",
            "showbackground": true,
            "ticks": "",
            "zerolinecolor": "white"
           },
           "zaxis": {
            "backgroundcolor": "#E5ECF6",
            "gridcolor": "white",
            "gridwidth": 2,
            "linecolor": "white",
            "showbackground": true,
            "ticks": "",
            "zerolinecolor": "white"
           }
          },
          "shapedefaults": {
           "line": {
            "color": "#2a3f5f"
           }
          },
          "ternary": {
           "aaxis": {
            "gridcolor": "white",
            "linecolor": "white",
            "ticks": ""
           },
           "baxis": {
            "gridcolor": "white",
            "linecolor": "white",
            "ticks": ""
           },
           "bgcolor": "#E5ECF6",
           "caxis": {
            "gridcolor": "white",
            "linecolor": "white",
            "ticks": ""
           }
          },
          "title": {
           "x": 0.05
          },
          "xaxis": {
           "automargin": true,
           "gridcolor": "white",
           "linecolor": "white",
           "ticks": "",
           "title": {
            "standoff": 15
           },
           "zerolinecolor": "white",
           "zerolinewidth": 2
          },
          "yaxis": {
           "automargin": true,
           "gridcolor": "white",
           "linecolor": "white",
           "ticks": "",
           "title": {
            "standoff": 15
           },
           "zerolinecolor": "white",
           "zerolinewidth": 2
          }
         }
        },
        "title": {
         "text": "Etat des passager en fonction du sexe",
         "x": 0.5,
         "xanchor": "center",
         "y": 0.9,
         "yanchor": "top"
        }
       }
      }
     },
     "metadata": {}
    }
   ],
   "source": [
    "labels1 = train.Sex[train.Survived == 0].groupby(train.Sex).count().index\n",
    "labels2 = train.Sex[train.Survived == 1].groupby(train.Sex).count().index\n",
    "values1 = train.Sex[train.Survived == 0].groupby(train.Sex).count().values\n",
    "values2 = train.Sex[train.Survived == 1].groupby(train.Sex).count().values\n",
    "\n",
    "fig1 = go.Figure(data=[\n",
    "    go.Bar(name='Morts', x=labels1, y=values1),\n",
    "    go.Bar(name='En vie', x=labels2, y=values2)\n",
    "])\n",
    "\n",
    "title = \"Etat des passager en fonction du sexe\"\n",
    "# Change the bar mode\n",
    "fig1.update_layout(title={'text' : title, 'y':0.9, 'x':0.5, 'xanchor': 'center', 'yanchor': 'top'}, barmode='group')\n",
    "fig1.show()"
   ]
  },
  {
   "cell_type": "code",
   "execution_count": 125,
   "metadata": {},
   "outputs": [
    {
     "output_type": "execute_result",
     "data": {
      "text/plain": "Pclass  Survived\n1       1           134\n        0            80\n2       0            97\n        1            87\n3       0           372\n        1           119\nName: Survived, dtype: int64"
     },
     "metadata": {},
     "execution_count": 125
    }
   ],
   "source": [
    "train.Survived.groupby(train.Pclass).value_counts()"
   ]
  },
  {
   "cell_type": "code",
   "execution_count": 126,
   "metadata": {},
   "outputs": [
    {
     "output_type": "display_data",
     "data": {
      "application/vnd.plotly.v1+json": {
       "config": {
        "plotlyServerURL": "https://plot.ly"
       },
       "data": [
        {
         "name": "Morts",
         "type": "bar",
         "x": [
          1,
          2,
          3
         ],
         "y": [
          80,
          97,
          372
         ]
        },
        {
         "name": "En vie",
         "type": "bar",
         "x": [
          1,
          2,
          3
         ],
         "y": [
          134,
          87,
          119
         ]
        }
       ],
       "layout": {
        "barmode": "group",
        "template": {
         "data": {
          "bar": [
           {
            "error_x": {
             "color": "#2a3f5f"
            },
            "error_y": {
             "color": "#2a3f5f"
            },
            "marker": {
             "line": {
              "color": "#E5ECF6",
              "width": 0.5
             }
            },
            "type": "bar"
           }
          ],
          "barpolar": [
           {
            "marker": {
             "line": {
              "color": "#E5ECF6",
              "width": 0.5
             }
            },
            "type": "barpolar"
           }
          ],
          "carpet": [
           {
            "aaxis": {
             "endlinecolor": "#2a3f5f",
             "gridcolor": "white",
             "linecolor": "white",
             "minorgridcolor": "white",
             "startlinecolor": "#2a3f5f"
            },
            "baxis": {
             "endlinecolor": "#2a3f5f",
             "gridcolor": "white",
             "linecolor": "white",
             "minorgridcolor": "white",
             "startlinecolor": "#2a3f5f"
            },
            "type": "carpet"
           }
          ],
          "choropleth": [
           {
            "colorbar": {
             "outlinewidth": 0,
             "ticks": ""
            },
            "type": "choropleth"
           }
          ],
          "contour": [
           {
            "colorbar": {
             "outlinewidth": 0,
             "ticks": ""
            },
            "colorscale": [
             [
              0,
              "#0d0887"
             ],
             [
              0.1111111111111111,
              "#46039f"
             ],
             [
              0.2222222222222222,
              "#7201a8"
             ],
             [
              0.3333333333333333,
              "#9c179e"
             ],
             [
              0.4444444444444444,
              "#bd3786"
             ],
             [
              0.5555555555555556,
              "#d8576b"
             ],
             [
              0.6666666666666666,
              "#ed7953"
             ],
             [
              0.7777777777777778,
              "#fb9f3a"
             ],
             [
              0.8888888888888888,
              "#fdca26"
             ],
             [
              1,
              "#f0f921"
             ]
            ],
            "type": "contour"
           }
          ],
          "contourcarpet": [
           {
            "colorbar": {
             "outlinewidth": 0,
             "ticks": ""
            },
            "type": "contourcarpet"
           }
          ],
          "heatmap": [
           {
            "colorbar": {
             "outlinewidth": 0,
             "ticks": ""
            },
            "colorscale": [
             [
              0,
              "#0d0887"
             ],
             [
              0.1111111111111111,
              "#46039f"
             ],
             [
              0.2222222222222222,
              "#7201a8"
             ],
             [
              0.3333333333333333,
              "#9c179e"
             ],
             [
              0.4444444444444444,
              "#bd3786"
             ],
             [
              0.5555555555555556,
              "#d8576b"
             ],
             [
              0.6666666666666666,
              "#ed7953"
             ],
             [
              0.7777777777777778,
              "#fb9f3a"
             ],
             [
              0.8888888888888888,
              "#fdca26"
             ],
             [
              1,
              "#f0f921"
             ]
            ],
            "type": "heatmap"
           }
          ],
          "heatmapgl": [
           {
            "colorbar": {
             "outlinewidth": 0,
             "ticks": ""
            },
            "colorscale": [
             [
              0,
              "#0d0887"
             ],
             [
              0.1111111111111111,
              "#46039f"
             ],
             [
              0.2222222222222222,
              "#7201a8"
             ],
             [
              0.3333333333333333,
              "#9c179e"
             ],
             [
              0.4444444444444444,
              "#bd3786"
             ],
             [
              0.5555555555555556,
              "#d8576b"
             ],
             [
              0.6666666666666666,
              "#ed7953"
             ],
             [
              0.7777777777777778,
              "#fb9f3a"
             ],
             [
              0.8888888888888888,
              "#fdca26"
             ],
             [
              1,
              "#f0f921"
             ]
            ],
            "type": "heatmapgl"
           }
          ],
          "histogram": [
           {
            "marker": {
             "colorbar": {
              "outlinewidth": 0,
              "ticks": ""
             }
            },
            "type": "histogram"
           }
          ],
          "histogram2d": [
           {
            "colorbar": {
             "outlinewidth": 0,
             "ticks": ""
            },
            "colorscale": [
             [
              0,
              "#0d0887"
             ],
             [
              0.1111111111111111,
              "#46039f"
             ],
             [
              0.2222222222222222,
              "#7201a8"
             ],
             [
              0.3333333333333333,
              "#9c179e"
             ],
             [
              0.4444444444444444,
              "#bd3786"
             ],
             [
              0.5555555555555556,
              "#d8576b"
             ],
             [
              0.6666666666666666,
              "#ed7953"
             ],
             [
              0.7777777777777778,
              "#fb9f3a"
             ],
             [
              0.8888888888888888,
              "#fdca26"
             ],
             [
              1,
              "#f0f921"
             ]
            ],
            "type": "histogram2d"
           }
          ],
          "histogram2dcontour": [
           {
            "colorbar": {
             "outlinewidth": 0,
             "ticks": ""
            },
            "colorscale": [
             [
              0,
              "#0d0887"
             ],
             [
              0.1111111111111111,
              "#46039f"
             ],
             [
              0.2222222222222222,
              "#7201a8"
             ],
             [
              0.3333333333333333,
              "#9c179e"
             ],
             [
              0.4444444444444444,
              "#bd3786"
             ],
             [
              0.5555555555555556,
              "#d8576b"
             ],
             [
              0.6666666666666666,
              "#ed7953"
             ],
             [
              0.7777777777777778,
              "#fb9f3a"
             ],
             [
              0.8888888888888888,
              "#fdca26"
             ],
             [
              1,
              "#f0f921"
             ]
            ],
            "type": "histogram2dcontour"
           }
          ],
          "mesh3d": [
           {
            "colorbar": {
             "outlinewidth": 0,
             "ticks": ""
            },
            "type": "mesh3d"
           }
          ],
          "parcoords": [
           {
            "line": {
             "colorbar": {
              "outlinewidth": 0,
              "ticks": ""
             }
            },
            "type": "parcoords"
           }
          ],
          "pie": [
           {
            "automargin": true,
            "type": "pie"
           }
          ],
          "scatter": [
           {
            "marker": {
             "colorbar": {
              "outlinewidth": 0,
              "ticks": ""
             }
            },
            "type": "scatter"
           }
          ],
          "scatter3d": [
           {
            "line": {
             "colorbar": {
              "outlinewidth": 0,
              "ticks": ""
             }
            },
            "marker": {
             "colorbar": {
              "outlinewidth": 0,
              "ticks": ""
             }
            },
            "type": "scatter3d"
           }
          ],
          "scattercarpet": [
           {
            "marker": {
             "colorbar": {
              "outlinewidth": 0,
              "ticks": ""
             }
            },
            "type": "scattercarpet"
           }
          ],
          "scattergeo": [
           {
            "marker": {
             "colorbar": {
              "outlinewidth": 0,
              "ticks": ""
             }
            },
            "type": "scattergeo"
           }
          ],
          "scattergl": [
           {
            "marker": {
             "colorbar": {
              "outlinewidth": 0,
              "ticks": ""
             }
            },
            "type": "scattergl"
           }
          ],
          "scattermapbox": [
           {
            "marker": {
             "colorbar": {
              "outlinewidth": 0,
              "ticks": ""
             }
            },
            "type": "scattermapbox"
           }
          ],
          "scatterpolar": [
           {
            "marker": {
             "colorbar": {
              "outlinewidth": 0,
              "ticks": ""
             }
            },
            "type": "scatterpolar"
           }
          ],
          "scatterpolargl": [
           {
            "marker": {
             "colorbar": {
              "outlinewidth": 0,
              "ticks": ""
             }
            },
            "type": "scatterpolargl"
           }
          ],
          "scatterternary": [
           {
            "marker": {
             "colorbar": {
              "outlinewidth": 0,
              "ticks": ""
             }
            },
            "type": "scatterternary"
           }
          ],
          "surface": [
           {
            "colorbar": {
             "outlinewidth": 0,
             "ticks": ""
            },
            "colorscale": [
             [
              0,
              "#0d0887"
             ],
             [
              0.1111111111111111,
              "#46039f"
             ],
             [
              0.2222222222222222,
              "#7201a8"
             ],
             [
              0.3333333333333333,
              "#9c179e"
             ],
             [
              0.4444444444444444,
              "#bd3786"
             ],
             [
              0.5555555555555556,
              "#d8576b"
             ],
             [
              0.6666666666666666,
              "#ed7953"
             ],
             [
              0.7777777777777778,
              "#fb9f3a"
             ],
             [
              0.8888888888888888,
              "#fdca26"
             ],
             [
              1,
              "#f0f921"
             ]
            ],
            "type": "surface"
           }
          ],
          "table": [
           {
            "cells": {
             "fill": {
              "color": "#EBF0F8"
             },
             "line": {
              "color": "white"
             }
            },
            "header": {
             "fill": {
              "color": "#C8D4E3"
             },
             "line": {
              "color": "white"
             }
            },
            "type": "table"
           }
          ]
         },
         "layout": {
          "annotationdefaults": {
           "arrowcolor": "#2a3f5f",
           "arrowhead": 0,
           "arrowwidth": 1
          },
          "coloraxis": {
           "colorbar": {
            "outlinewidth": 0,
            "ticks": ""
           }
          },
          "colorscale": {
           "diverging": [
            [
             0,
             "#8e0152"
            ],
            [
             0.1,
             "#c51b7d"
            ],
            [
             0.2,
             "#de77ae"
            ],
            [
             0.3,
             "#f1b6da"
            ],
            [
             0.4,
             "#fde0ef"
            ],
            [
             0.5,
             "#f7f7f7"
            ],
            [
             0.6,
             "#e6f5d0"
            ],
            [
             0.7,
             "#b8e186"
            ],
            [
             0.8,
             "#7fbc41"
            ],
            [
             0.9,
             "#4d9221"
            ],
            [
             1,
             "#276419"
            ]
           ],
           "sequential": [
            [
             0,
             "#0d0887"
            ],
            [
             0.1111111111111111,
             "#46039f"
            ],
            [
             0.2222222222222222,
             "#7201a8"
            ],
            [
             0.3333333333333333,
             "#9c179e"
            ],
            [
             0.4444444444444444,
             "#bd3786"
            ],
            [
             0.5555555555555556,
             "#d8576b"
            ],
            [
             0.6666666666666666,
             "#ed7953"
            ],
            [
             0.7777777777777778,
             "#fb9f3a"
            ],
            [
             0.8888888888888888,
             "#fdca26"
            ],
            [
             1,
             "#f0f921"
            ]
           ],
           "sequentialminus": [
            [
             0,
             "#0d0887"
            ],
            [
             0.1111111111111111,
             "#46039f"
            ],
            [
             0.2222222222222222,
             "#7201a8"
            ],
            [
             0.3333333333333333,
             "#9c179e"
            ],
            [
             0.4444444444444444,
             "#bd3786"
            ],
            [
             0.5555555555555556,
             "#d8576b"
            ],
            [
             0.6666666666666666,
             "#ed7953"
            ],
            [
             0.7777777777777778,
             "#fb9f3a"
            ],
            [
             0.8888888888888888,
             "#fdca26"
            ],
            [
             1,
             "#f0f921"
            ]
           ]
          },
          "colorway": [
           "#636efa",
           "#EF553B",
           "#00cc96",
           "#ab63fa",
           "#FFA15A",
           "#19d3f3",
           "#FF6692",
           "#B6E880",
           "#FF97FF",
           "#FECB52"
          ],
          "font": {
           "color": "#2a3f5f"
          },
          "geo": {
           "bgcolor": "white",
           "lakecolor": "white",
           "landcolor": "#E5ECF6",
           "showlakes": true,
           "showland": true,
           "subunitcolor": "white"
          },
          "hoverlabel": {
           "align": "left"
          },
          "hovermode": "closest",
          "mapbox": {
           "style": "light"
          },
          "paper_bgcolor": "white",
          "plot_bgcolor": "#E5ECF6",
          "polar": {
           "angularaxis": {
            "gridcolor": "white",
            "linecolor": "white",
            "ticks": ""
           },
           "bgcolor": "#E5ECF6",
           "radialaxis": {
            "gridcolor": "white",
            "linecolor": "white",
            "ticks": ""
           }
          },
          "scene": {
           "xaxis": {
            "backgroundcolor": "#E5ECF6",
            "gridcolor": "white",
            "gridwidth": 2,
            "linecolor": "white",
            "showbackground": true,
            "ticks": "",
            "zerolinecolor": "white"
           },
           "yaxis": {
            "backgroundcolor": "#E5ECF6",
            "gridcolor": "white",
            "gridwidth": 2,
            "linecolor": "white",
            "showbackground": true,
            "ticks": "",
            "zerolinecolor": "white"
           },
           "zaxis": {
            "backgroundcolor": "#E5ECF6",
            "gridcolor": "white",
            "gridwidth": 2,
            "linecolor": "white",
            "showbackground": true,
            "ticks": "",
            "zerolinecolor": "white"
           }
          },
          "shapedefaults": {
           "line": {
            "color": "#2a3f5f"
           }
          },
          "ternary": {
           "aaxis": {
            "gridcolor": "white",
            "linecolor": "white",
            "ticks": ""
           },
           "baxis": {
            "gridcolor": "white",
            "linecolor": "white",
            "ticks": ""
           },
           "bgcolor": "#E5ECF6",
           "caxis": {
            "gridcolor": "white",
            "linecolor": "white",
            "ticks": ""
           }
          },
          "title": {
           "x": 0.05
          },
          "xaxis": {
           "automargin": true,
           "gridcolor": "white",
           "linecolor": "white",
           "ticks": "",
           "title": {
            "standoff": 15
           },
           "zerolinecolor": "white",
           "zerolinewidth": 2
          },
          "yaxis": {
           "automargin": true,
           "gridcolor": "white",
           "linecolor": "white",
           "ticks": "",
           "title": {
            "standoff": 15
           },
           "zerolinecolor": "white",
           "zerolinewidth": 2
          }
         }
        },
        "title": {
         "text": "Etat des passager en fonction de la classe de ticket",
         "x": 0.5,
         "xanchor": "center",
         "y": 0.9,
         "yanchor": "top"
        }
       }
      }
     },
     "metadata": {}
    }
   ],
   "source": [
    "labels1 = train.Pclass[train.Survived == 0].groupby(train.Pclass).count().index\n",
    "labels2 = train.Pclass[train.Survived == 1].groupby(train.Pclass).count().index\n",
    "values1 = train.Pclass[train.Survived == 0].groupby(train.Pclass).count().values\n",
    "values2 = train.Pclass[train.Survived == 1].groupby(train.Pclass).count().values\n",
    "\n",
    "\n",
    "fig2 = go.Figure(data=[\n",
    "    go.Bar(name='Morts', x=labels1, y=values1),\n",
    "    go.Bar(name='En vie', x=labels2, y=values2)\n",
    "])\n",
    "\n",
    "title = \"Etat des passager en fonction de la classe de ticket\"\n",
    "# Change the bar mode\n",
    "fig2.update_layout(title={'text' : title, 'y':0.9, 'x':0.5, 'xanchor': 'center', 'yanchor': 'top'}, barmode='group')\n",
    "fig2.show()"
   ]
  },
  {
   "cell_type": "code",
   "execution_count": 127,
   "metadata": {},
   "outputs": [
    {
     "output_type": "execute_result",
     "data": {
      "text/plain": "Embarked  Survived\nC         1            93\n          0            75\nQ         0            47\n          1            30\nS         0           427\n          1           217\nName: Survived, dtype: int64"
     },
     "metadata": {},
     "execution_count": 127
    }
   ],
   "source": [
    "train.Survived.groupby(train.Embarked).value_counts()"
   ]
  },
  {
   "cell_type": "code",
   "execution_count": 128,
   "metadata": {},
   "outputs": [],
   "source": [
    "def legend_embarked(liste) :\n",
    "    L = liste.to_list()\n",
    "    for k in range(len(L)) :\n",
    "        if L[k] == \"C\" :\n",
    "            L[k] = \"Cherbourg\"\n",
    "        elif L[k] == \"Q\" :\n",
    "            L[k] = \"Queenstown\"\n",
    "        elif L[k] == \"S\" :\n",
    "            L[k] = \"Southampton\"\n",
    "    return L"
   ]
  },
  {
   "cell_type": "code",
   "execution_count": 129,
   "metadata": {},
   "outputs": [
    {
     "output_type": "display_data",
     "data": {
      "application/vnd.plotly.v1+json": {
       "config": {
        "plotlyServerURL": "https://plot.ly"
       },
       "data": [
        {
         "name": "Morts",
         "type": "bar",
         "x": [
          "Cherbourg",
          "Queenstown",
          "Southampton"
         ],
         "y": [
          75,
          47,
          427
         ]
        },
        {
         "name": "En vie",
         "type": "bar",
         "x": [
          "Cherbourg",
          "Queenstown",
          "Southampton"
         ],
         "y": [
          93,
          30,
          217
         ]
        }
       ],
       "layout": {
        "barmode": "group",
        "template": {
         "data": {
          "bar": [
           {
            "error_x": {
             "color": "#2a3f5f"
            },
            "error_y": {
             "color": "#2a3f5f"
            },
            "marker": {
             "line": {
              "color": "#E5ECF6",
              "width": 0.5
             }
            },
            "type": "bar"
           }
          ],
          "barpolar": [
           {
            "marker": {
             "line": {
              "color": "#E5ECF6",
              "width": 0.5
             }
            },
            "type": "barpolar"
           }
          ],
          "carpet": [
           {
            "aaxis": {
             "endlinecolor": "#2a3f5f",
             "gridcolor": "white",
             "linecolor": "white",
             "minorgridcolor": "white",
             "startlinecolor": "#2a3f5f"
            },
            "baxis": {
             "endlinecolor": "#2a3f5f",
             "gridcolor": "white",
             "linecolor": "white",
             "minorgridcolor": "white",
             "startlinecolor": "#2a3f5f"
            },
            "type": "carpet"
           }
          ],
          "choropleth": [
           {
            "colorbar": {
             "outlinewidth": 0,
             "ticks": ""
            },
            "type": "choropleth"
           }
          ],
          "contour": [
           {
            "colorbar": {
             "outlinewidth": 0,
             "ticks": ""
            },
            "colorscale": [
             [
              0,
              "#0d0887"
             ],
             [
              0.1111111111111111,
              "#46039f"
             ],
             [
              0.2222222222222222,
              "#7201a8"
             ],
             [
              0.3333333333333333,
              "#9c179e"
             ],
             [
              0.4444444444444444,
              "#bd3786"
             ],
             [
              0.5555555555555556,
              "#d8576b"
             ],
             [
              0.6666666666666666,
              "#ed7953"
             ],
             [
              0.7777777777777778,
              "#fb9f3a"
             ],
             [
              0.8888888888888888,
              "#fdca26"
             ],
             [
              1,
              "#f0f921"
             ]
            ],
            "type": "contour"
           }
          ],
          "contourcarpet": [
           {
            "colorbar": {
             "outlinewidth": 0,
             "ticks": ""
            },
            "type": "contourcarpet"
           }
          ],
          "heatmap": [
           {
            "colorbar": {
             "outlinewidth": 0,
             "ticks": ""
            },
            "colorscale": [
             [
              0,
              "#0d0887"
             ],
             [
              0.1111111111111111,
              "#46039f"
             ],
             [
              0.2222222222222222,
              "#7201a8"
             ],
             [
              0.3333333333333333,
              "#9c179e"
             ],
             [
              0.4444444444444444,
              "#bd3786"
             ],
             [
              0.5555555555555556,
              "#d8576b"
             ],
             [
              0.6666666666666666,
              "#ed7953"
             ],
             [
              0.7777777777777778,
              "#fb9f3a"
             ],
             [
              0.8888888888888888,
              "#fdca26"
             ],
             [
              1,
              "#f0f921"
             ]
            ],
            "type": "heatmap"
           }
          ],
          "heatmapgl": [
           {
            "colorbar": {
             "outlinewidth": 0,
             "ticks": ""
            },
            "colorscale": [
             [
              0,
              "#0d0887"
             ],
             [
              0.1111111111111111,
              "#46039f"
             ],
             [
              0.2222222222222222,
              "#7201a8"
             ],
             [
              0.3333333333333333,
              "#9c179e"
             ],
             [
              0.4444444444444444,
              "#bd3786"
             ],
             [
              0.5555555555555556,
              "#d8576b"
             ],
             [
              0.6666666666666666,
              "#ed7953"
             ],
             [
              0.7777777777777778,
              "#fb9f3a"
             ],
             [
              0.8888888888888888,
              "#fdca26"
             ],
             [
              1,
              "#f0f921"
             ]
            ],
            "type": "heatmapgl"
           }
          ],
          "histogram": [
           {
            "marker": {
             "colorbar": {
              "outlinewidth": 0,
              "ticks": ""
             }
            },
            "type": "histogram"
           }
          ],
          "histogram2d": [
           {
            "colorbar": {
             "outlinewidth": 0,
             "ticks": ""
            },
            "colorscale": [
             [
              0,
              "#0d0887"
             ],
             [
              0.1111111111111111,
              "#46039f"
             ],
             [
              0.2222222222222222,
              "#7201a8"
             ],
             [
              0.3333333333333333,
              "#9c179e"
             ],
             [
              0.4444444444444444,
              "#bd3786"
             ],
             [
              0.5555555555555556,
              "#d8576b"
             ],
             [
              0.6666666666666666,
              "#ed7953"
             ],
             [
              0.7777777777777778,
              "#fb9f3a"
             ],
             [
              0.8888888888888888,
              "#fdca26"
             ],
             [
              1,
              "#f0f921"
             ]
            ],
            "type": "histogram2d"
           }
          ],
          "histogram2dcontour": [
           {
            "colorbar": {
             "outlinewidth": 0,
             "ticks": ""
            },
            "colorscale": [
             [
              0,
              "#0d0887"
             ],
             [
              0.1111111111111111,
              "#46039f"
             ],
             [
              0.2222222222222222,
              "#7201a8"
             ],
             [
              0.3333333333333333,
              "#9c179e"
             ],
             [
              0.4444444444444444,
              "#bd3786"
             ],
             [
              0.5555555555555556,
              "#d8576b"
             ],
             [
              0.6666666666666666,
              "#ed7953"
             ],
             [
              0.7777777777777778,
              "#fb9f3a"
             ],
             [
              0.8888888888888888,
              "#fdca26"
             ],
             [
              1,
              "#f0f921"
             ]
            ],
            "type": "histogram2dcontour"
           }
          ],
          "mesh3d": [
           {
            "colorbar": {
             "outlinewidth": 0,
             "ticks": ""
            },
            "type": "mesh3d"
           }
          ],
          "parcoords": [
           {
            "line": {
             "colorbar": {
              "outlinewidth": 0,
              "ticks": ""
             }
            },
            "type": "parcoords"
           }
          ],
          "pie": [
           {
            "automargin": true,
            "type": "pie"
           }
          ],
          "scatter": [
           {
            "marker": {
             "colorbar": {
              "outlinewidth": 0,
              "ticks": ""
             }
            },
            "type": "scatter"
           }
          ],
          "scatter3d": [
           {
            "line": {
             "colorbar": {
              "outlinewidth": 0,
              "ticks": ""
             }
            },
            "marker": {
             "colorbar": {
              "outlinewidth": 0,
              "ticks": ""
             }
            },
            "type": "scatter3d"
           }
          ],
          "scattercarpet": [
           {
            "marker": {
             "colorbar": {
              "outlinewidth": 0,
              "ticks": ""
             }
            },
            "type": "scattercarpet"
           }
          ],
          "scattergeo": [
           {
            "marker": {
             "colorbar": {
              "outlinewidth": 0,
              "ticks": ""
             }
            },
            "type": "scattergeo"
           }
          ],
          "scattergl": [
           {
            "marker": {
             "colorbar": {
              "outlinewidth": 0,
              "ticks": ""
             }
            },
            "type": "scattergl"
           }
          ],
          "scattermapbox": [
           {
            "marker": {
             "colorbar": {
              "outlinewidth": 0,
              "ticks": ""
             }
            },
            "type": "scattermapbox"
           }
          ],
          "scatterpolar": [
           {
            "marker": {
             "colorbar": {
              "outlinewidth": 0,
              "ticks": ""
             }
            },
            "type": "scatterpolar"
           }
          ],
          "scatterpolargl": [
           {
            "marker": {
             "colorbar": {
              "outlinewidth": 0,
              "ticks": ""
             }
            },
            "type": "scatterpolargl"
           }
          ],
          "scatterternary": [
           {
            "marker": {
             "colorbar": {
              "outlinewidth": 0,
              "ticks": ""
             }
            },
            "type": "scatterternary"
           }
          ],
          "surface": [
           {
            "colorbar": {
             "outlinewidth": 0,
             "ticks": ""
            },
            "colorscale": [
             [
              0,
              "#0d0887"
             ],
             [
              0.1111111111111111,
              "#46039f"
             ],
             [
              0.2222222222222222,
              "#7201a8"
             ],
             [
              0.3333333333333333,
              "#9c179e"
             ],
             [
              0.4444444444444444,
              "#bd3786"
             ],
             [
              0.5555555555555556,
              "#d8576b"
             ],
             [
              0.6666666666666666,
              "#ed7953"
             ],
             [
              0.7777777777777778,
              "#fb9f3a"
             ],
             [
              0.8888888888888888,
              "#fdca26"
             ],
             [
              1,
              "#f0f921"
             ]
            ],
            "type": "surface"
           }
          ],
          "table": [
           {
            "cells": {
             "fill": {
              "color": "#EBF0F8"
             },
             "line": {
              "color": "white"
             }
            },
            "header": {
             "fill": {
              "color": "#C8D4E3"
             },
             "line": {
              "color": "white"
             }
            },
            "type": "table"
           }
          ]
         },
         "layout": {
          "annotationdefaults": {
           "arrowcolor": "#2a3f5f",
           "arrowhead": 0,
           "arrowwidth": 1
          },
          "coloraxis": {
           "colorbar": {
            "outlinewidth": 0,
            "ticks": ""
           }
          },
          "colorscale": {
           "diverging": [
            [
             0,
             "#8e0152"
            ],
            [
             0.1,
             "#c51b7d"
            ],
            [
             0.2,
             "#de77ae"
            ],
            [
             0.3,
             "#f1b6da"
            ],
            [
             0.4,
             "#fde0ef"
            ],
            [
             0.5,
             "#f7f7f7"
            ],
            [
             0.6,
             "#e6f5d0"
            ],
            [
             0.7,
             "#b8e186"
            ],
            [
             0.8,
             "#7fbc41"
            ],
            [
             0.9,
             "#4d9221"
            ],
            [
             1,
             "#276419"
            ]
           ],
           "sequential": [
            [
             0,
             "#0d0887"
            ],
            [
             0.1111111111111111,
             "#46039f"
            ],
            [
             0.2222222222222222,
             "#7201a8"
            ],
            [
             0.3333333333333333,
             "#9c179e"
            ],
            [
             0.4444444444444444,
             "#bd3786"
            ],
            [
             0.5555555555555556,
             "#d8576b"
            ],
            [
             0.6666666666666666,
             "#ed7953"
            ],
            [
             0.7777777777777778,
             "#fb9f3a"
            ],
            [
             0.8888888888888888,
             "#fdca26"
            ],
            [
             1,
             "#f0f921"
            ]
           ],
           "sequentialminus": [
            [
             0,
             "#0d0887"
            ],
            [
             0.1111111111111111,
             "#46039f"
            ],
            [
             0.2222222222222222,
             "#7201a8"
            ],
            [
             0.3333333333333333,
             "#9c179e"
            ],
            [
             0.4444444444444444,
             "#bd3786"
            ],
            [
             0.5555555555555556,
             "#d8576b"
            ],
            [
             0.6666666666666666,
             "#ed7953"
            ],
            [
             0.7777777777777778,
             "#fb9f3a"
            ],
            [
             0.8888888888888888,
             "#fdca26"
            ],
            [
             1,
             "#f0f921"
            ]
           ]
          },
          "colorway": [
           "#636efa",
           "#EF553B",
           "#00cc96",
           "#ab63fa",
           "#FFA15A",
           "#19d3f3",
           "#FF6692",
           "#B6E880",
           "#FF97FF",
           "#FECB52"
          ],
          "font": {
           "color": "#2a3f5f"
          },
          "geo": {
           "bgcolor": "white",
           "lakecolor": "white",
           "landcolor": "#E5ECF6",
           "showlakes": true,
           "showland": true,
           "subunitcolor": "white"
          },
          "hoverlabel": {
           "align": "left"
          },
          "hovermode": "closest",
          "mapbox": {
           "style": "light"
          },
          "paper_bgcolor": "white",
          "plot_bgcolor": "#E5ECF6",
          "polar": {
           "angularaxis": {
            "gridcolor": "white",
            "linecolor": "white",
            "ticks": ""
           },
           "bgcolor": "#E5ECF6",
           "radialaxis": {
            "gridcolor": "white",
            "linecolor": "white",
            "ticks": ""
           }
          },
          "scene": {
           "xaxis": {
            "backgroundcolor": "#E5ECF6",
            "gridcolor": "white",
            "gridwidth": 2,
            "linecolor": "white",
            "showbackground": true,
            "ticks": "",
            "zerolinecolor": "white"
           },
           "yaxis": {
            "backgroundcolor": "#E5ECF6",
            "gridcolor": "white",
            "gridwidth": 2,
            "linecolor": "white",
            "showbackground": true,
            "ticks": "",
            "zerolinecolor": "white"
           },
           "zaxis": {
            "backgroundcolor": "#E5ECF6",
            "gridcolor": "white",
            "gridwidth": 2,
            "linecolor": "white",
            "showbackground": true,
            "ticks": "",
            "zerolinecolor": "white"
           }
          },
          "shapedefaults": {
           "line": {
            "color": "#2a3f5f"
           }
          },
          "ternary": {
           "aaxis": {
            "gridcolor": "white",
            "linecolor": "white",
            "ticks": ""
           },
           "baxis": {
            "gridcolor": "white",
            "linecolor": "white",
            "ticks": ""
           },
           "bgcolor": "#E5ECF6",
           "caxis": {
            "gridcolor": "white",
            "linecolor": "white",
            "ticks": ""
           }
          },
          "title": {
           "x": 0.05
          },
          "xaxis": {
           "automargin": true,
           "gridcolor": "white",
           "linecolor": "white",
           "ticks": "",
           "title": {
            "standoff": 15
           },
           "zerolinecolor": "white",
           "zerolinewidth": 2
          },
          "yaxis": {
           "automargin": true,
           "gridcolor": "white",
           "linecolor": "white",
           "ticks": "",
           "title": {
            "standoff": 15
           },
           "zerolinecolor": "white",
           "zerolinewidth": 2
          }
         }
        },
        "title": {
         "text": "Etat des passager en fonction du point d'embarquement",
         "x": 0.5,
         "xanchor": "center",
         "y": 0.9,
         "yanchor": "top"
        }
       }
      }
     },
     "metadata": {}
    }
   ],
   "source": [
    "labels1 = train.Embarked[train.Survived == 0].groupby(train.Embarked).count().index\n",
    "labels2 = train.Embarked[train.Survived == 1].groupby(train.Embarked).count().index\n",
    "values1 = train.Embarked[train.Survived == 0].groupby(train.Embarked).count().values\n",
    "values2 = train.Embarked[train.Survived == 1].groupby(train.Embarked).count().values\n",
    "\n",
    "fig3 = go.Figure(data=[\n",
    "    go.Bar(name='Morts', x=legend_embarked(labels1), y=values1),\n",
    "    go.Bar(name='En vie', x=legend_embarked(labels2), y=values2)\n",
    "])\n",
    "\n",
    "title = \"Etat des passager en fonction du point d'embarquement\"\n",
    "# Change the bar mode\n",
    "fig3.update_layout(title={'text' : title, 'y':0.9, 'x':0.5, 'xanchor': 'center', 'yanchor': 'top'}, barmode='group')\n",
    "fig3.show()"
   ]
  },
  {
   "cell_type": "code",
   "execution_count": 130,
   "metadata": {},
   "outputs": [],
   "source": [
    "def process_age(df, cut_points, labels) :\n",
    "    df[\"Age_categorie\"] = pd.cut(df[\"Age\"], cut_points, labels = labels)\n",
    "    return df\n",
    "\n",
    "cut_points = [0, 5, 18, 30, 60, 100]\n",
    "labels = [\"Baby\", \"Child\", \"Junior\", \"Adult\", \"Senior\"]\n",
    "\n",
    "train = process_age(train, cut_points, labels)"
   ]
  },
  {
   "cell_type": "code",
   "execution_count": 131,
   "metadata": {},
   "outputs": [
    {
     "output_type": "execute_result",
     "data": {
      "text/plain": "Age_categorie  Survived\nBaby           1            31\n               0            13\nChild          0            56\n               1            39\nJunior         0           299\n               1           148\nAdult          0           164\n               1           118\nSenior         0            17\n               1             4\nName: Survived, dtype: int64"
     },
     "metadata": {},
     "execution_count": 131
    }
   ],
   "source": [
    "train.Survived.groupby(train.Age_categorie).value_counts()"
   ]
  },
  {
   "cell_type": "code",
   "execution_count": 132,
   "metadata": {},
   "outputs": [
    {
     "output_type": "execute_result",
     "data": {
      "text/plain": "Age_categorie\nBaby       13\nChild      56\nJunior    299\nAdult     164\nSenior     17\nName: Age, dtype: int64"
     },
     "metadata": {},
     "execution_count": 132
    }
   ],
   "source": [
    "train.Age[train.Survived == 0].groupby(train.Age_categorie[train.Survived == 0]).count()"
   ]
  },
  {
   "cell_type": "code",
   "execution_count": 133,
   "metadata": {},
   "outputs": [
    {
     "output_type": "display_data",
     "data": {
      "application/vnd.plotly.v1+json": {
       "config": {
        "plotlyServerURL": "https://plot.ly"
       },
       "data": [
        {
         "name": "Morts",
         "type": "bar",
         "x": [
          "Baby",
          "Child",
          "Junior",
          "Adult",
          "Senior"
         ],
         "y": [
          13,
          56,
          299,
          164,
          17
         ]
        },
        {
         "name": "En vie",
         "type": "bar",
         "x": [
          "Baby",
          "Child",
          "Junior",
          "Adult",
          "Senior"
         ],
         "y": [
          31,
          39,
          148,
          118,
          4
         ]
        }
       ],
       "layout": {
        "barmode": "group",
        "template": {
         "data": {
          "bar": [
           {
            "error_x": {
             "color": "#2a3f5f"
            },
            "error_y": {
             "color": "#2a3f5f"
            },
            "marker": {
             "line": {
              "color": "#E5ECF6",
              "width": 0.5
             }
            },
            "type": "bar"
           }
          ],
          "barpolar": [
           {
            "marker": {
             "line": {
              "color": "#E5ECF6",
              "width": 0.5
             }
            },
            "type": "barpolar"
           }
          ],
          "carpet": [
           {
            "aaxis": {
             "endlinecolor": "#2a3f5f",
             "gridcolor": "white",
             "linecolor": "white",
             "minorgridcolor": "white",
             "startlinecolor": "#2a3f5f"
            },
            "baxis": {
             "endlinecolor": "#2a3f5f",
             "gridcolor": "white",
             "linecolor": "white",
             "minorgridcolor": "white",
             "startlinecolor": "#2a3f5f"
            },
            "type": "carpet"
           }
          ],
          "choropleth": [
           {
            "colorbar": {
             "outlinewidth": 0,
             "ticks": ""
            },
            "type": "choropleth"
           }
          ],
          "contour": [
           {
            "colorbar": {
             "outlinewidth": 0,
             "ticks": ""
            },
            "colorscale": [
             [
              0,
              "#0d0887"
             ],
             [
              0.1111111111111111,
              "#46039f"
             ],
             [
              0.2222222222222222,
              "#7201a8"
             ],
             [
              0.3333333333333333,
              "#9c179e"
             ],
             [
              0.4444444444444444,
              "#bd3786"
             ],
             [
              0.5555555555555556,
              "#d8576b"
             ],
             [
              0.6666666666666666,
              "#ed7953"
             ],
             [
              0.7777777777777778,
              "#fb9f3a"
             ],
             [
              0.8888888888888888,
              "#fdca26"
             ],
             [
              1,
              "#f0f921"
             ]
            ],
            "type": "contour"
           }
          ],
          "contourcarpet": [
           {
            "colorbar": {
             "outlinewidth": 0,
             "ticks": ""
            },
            "type": "contourcarpet"
           }
          ],
          "heatmap": [
           {
            "colorbar": {
             "outlinewidth": 0,
             "ticks": ""
            },
            "colorscale": [
             [
              0,
              "#0d0887"
             ],
             [
              0.1111111111111111,
              "#46039f"
             ],
             [
              0.2222222222222222,
              "#7201a8"
             ],
             [
              0.3333333333333333,
              "#9c179e"
             ],
             [
              0.4444444444444444,
              "#bd3786"
             ],
             [
              0.5555555555555556,
              "#d8576b"
             ],
             [
              0.6666666666666666,
              "#ed7953"
             ],
             [
              0.7777777777777778,
              "#fb9f3a"
             ],
             [
              0.8888888888888888,
              "#fdca26"
             ],
             [
              1,
              "#f0f921"
             ]
            ],
            "type": "heatmap"
           }
          ],
          "heatmapgl": [
           {
            "colorbar": {
             "outlinewidth": 0,
             "ticks": ""
            },
            "colorscale": [
             [
              0,
              "#0d0887"
             ],
             [
              0.1111111111111111,
              "#46039f"
             ],
             [
              0.2222222222222222,
              "#7201a8"
             ],
             [
              0.3333333333333333,
              "#9c179e"
             ],
             [
              0.4444444444444444,
              "#bd3786"
             ],
             [
              0.5555555555555556,
              "#d8576b"
             ],
             [
              0.6666666666666666,
              "#ed7953"
             ],
             [
              0.7777777777777778,
              "#fb9f3a"
             ],
             [
              0.8888888888888888,
              "#fdca26"
             ],
             [
              1,
              "#f0f921"
             ]
            ],
            "type": "heatmapgl"
           }
          ],
          "histogram": [
           {
            "marker": {
             "colorbar": {
              "outlinewidth": 0,
              "ticks": ""
             }
            },
            "type": "histogram"
           }
          ],
          "histogram2d": [
           {
            "colorbar": {
             "outlinewidth": 0,
             "ticks": ""
            },
            "colorscale": [
             [
              0,
              "#0d0887"
             ],
             [
              0.1111111111111111,
              "#46039f"
             ],
             [
              0.2222222222222222,
              "#7201a8"
             ],
             [
              0.3333333333333333,
              "#9c179e"
             ],
             [
              0.4444444444444444,
              "#bd3786"
             ],
             [
              0.5555555555555556,
              "#d8576b"
             ],
             [
              0.6666666666666666,
              "#ed7953"
             ],
             [
              0.7777777777777778,
              "#fb9f3a"
             ],
             [
              0.8888888888888888,
              "#fdca26"
             ],
             [
              1,
              "#f0f921"
             ]
            ],
            "type": "histogram2d"
           }
          ],
          "histogram2dcontour": [
           {
            "colorbar": {
             "outlinewidth": 0,
             "ticks": ""
            },
            "colorscale": [
             [
              0,
              "#0d0887"
             ],
             [
              0.1111111111111111,
              "#46039f"
             ],
             [
              0.2222222222222222,
              "#7201a8"
             ],
             [
              0.3333333333333333,
              "#9c179e"
             ],
             [
              0.4444444444444444,
              "#bd3786"
             ],
             [
              0.5555555555555556,
              "#d8576b"
             ],
             [
              0.6666666666666666,
              "#ed7953"
             ],
             [
              0.7777777777777778,
              "#fb9f3a"
             ],
             [
              0.8888888888888888,
              "#fdca26"
             ],
             [
              1,
              "#f0f921"
             ]
            ],
            "type": "histogram2dcontour"
           }
          ],
          "mesh3d": [
           {
            "colorbar": {
             "outlinewidth": 0,
             "ticks": ""
            },
            "type": "mesh3d"
           }
          ],
          "parcoords": [
           {
            "line": {
             "colorbar": {
              "outlinewidth": 0,
              "ticks": ""
             }
            },
            "type": "parcoords"
           }
          ],
          "pie": [
           {
            "automargin": true,
            "type": "pie"
           }
          ],
          "scatter": [
           {
            "marker": {
             "colorbar": {
              "outlinewidth": 0,
              "ticks": ""
             }
            },
            "type": "scatter"
           }
          ],
          "scatter3d": [
           {
            "line": {
             "colorbar": {
              "outlinewidth": 0,
              "ticks": ""
             }
            },
            "marker": {
             "colorbar": {
              "outlinewidth": 0,
              "ticks": ""
             }
            },
            "type": "scatter3d"
           }
          ],
          "scattercarpet": [
           {
            "marker": {
             "colorbar": {
              "outlinewidth": 0,
              "ticks": ""
             }
            },
            "type": "scattercarpet"
           }
          ],
          "scattergeo": [
           {
            "marker": {
             "colorbar": {
              "outlinewidth": 0,
              "ticks": ""
             }
            },
            "type": "scattergeo"
           }
          ],
          "scattergl": [
           {
            "marker": {
             "colorbar": {
              "outlinewidth": 0,
              "ticks": ""
             }
            },
            "type": "scattergl"
           }
          ],
          "scattermapbox": [
           {
            "marker": {
             "colorbar": {
              "outlinewidth": 0,
              "ticks": ""
             }
            },
            "type": "scattermapbox"
           }
          ],
          "scatterpolar": [
           {
            "marker": {
             "colorbar": {
              "outlinewidth": 0,
              "ticks": ""
             }
            },
            "type": "scatterpolar"
           }
          ],
          "scatterpolargl": [
           {
            "marker": {
             "colorbar": {
              "outlinewidth": 0,
              "ticks": ""
             }
            },
            "type": "scatterpolargl"
           }
          ],
          "scatterternary": [
           {
            "marker": {
             "colorbar": {
              "outlinewidth": 0,
              "ticks": ""
             }
            },
            "type": "scatterternary"
           }
          ],
          "surface": [
           {
            "colorbar": {
             "outlinewidth": 0,
             "ticks": ""
            },
            "colorscale": [
             [
              0,
              "#0d0887"
             ],
             [
              0.1111111111111111,
              "#46039f"
             ],
             [
              0.2222222222222222,
              "#7201a8"
             ],
             [
              0.3333333333333333,
              "#9c179e"
             ],
             [
              0.4444444444444444,
              "#bd3786"
             ],
             [
              0.5555555555555556,
              "#d8576b"
             ],
             [
              0.6666666666666666,
              "#ed7953"
             ],
             [
              0.7777777777777778,
              "#fb9f3a"
             ],
             [
              0.8888888888888888,
              "#fdca26"
             ],
             [
              1,
              "#f0f921"
             ]
            ],
            "type": "surface"
           }
          ],
          "table": [
           {
            "cells": {
             "fill": {
              "color": "#EBF0F8"
             },
             "line": {
              "color": "white"
             }
            },
            "header": {
             "fill": {
              "color": "#C8D4E3"
             },
             "line": {
              "color": "white"
             }
            },
            "type": "table"
           }
          ]
         },
         "layout": {
          "annotationdefaults": {
           "arrowcolor": "#2a3f5f",
           "arrowhead": 0,
           "arrowwidth": 1
          },
          "coloraxis": {
           "colorbar": {
            "outlinewidth": 0,
            "ticks": ""
           }
          },
          "colorscale": {
           "diverging": [
            [
             0,
             "#8e0152"
            ],
            [
             0.1,
             "#c51b7d"
            ],
            [
             0.2,
             "#de77ae"
            ],
            [
             0.3,
             "#f1b6da"
            ],
            [
             0.4,
             "#fde0ef"
            ],
            [
             0.5,
             "#f7f7f7"
            ],
            [
             0.6,
             "#e6f5d0"
            ],
            [
             0.7,
             "#b8e186"
            ],
            [
             0.8,
             "#7fbc41"
            ],
            [
             0.9,
             "#4d9221"
            ],
            [
             1,
             "#276419"
            ]
           ],
           "sequential": [
            [
             0,
             "#0d0887"
            ],
            [
             0.1111111111111111,
             "#46039f"
            ],
            [
             0.2222222222222222,
             "#7201a8"
            ],
            [
             0.3333333333333333,
             "#9c179e"
            ],
            [
             0.4444444444444444,
             "#bd3786"
            ],
            [
             0.5555555555555556,
             "#d8576b"
            ],
            [
             0.6666666666666666,
             "#ed7953"
            ],
            [
             0.7777777777777778,
             "#fb9f3a"
            ],
            [
             0.8888888888888888,
             "#fdca26"
            ],
            [
             1,
             "#f0f921"
            ]
           ],
           "sequentialminus": [
            [
             0,
             "#0d0887"
            ],
            [
             0.1111111111111111,
             "#46039f"
            ],
            [
             0.2222222222222222,
             "#7201a8"
            ],
            [
             0.3333333333333333,
             "#9c179e"
            ],
            [
             0.4444444444444444,
             "#bd3786"
            ],
            [
             0.5555555555555556,
             "#d8576b"
            ],
            [
             0.6666666666666666,
             "#ed7953"
            ],
            [
             0.7777777777777778,
             "#fb9f3a"
            ],
            [
             0.8888888888888888,
             "#fdca26"
            ],
            [
             1,
             "#f0f921"
            ]
           ]
          },
          "colorway": [
           "#636efa",
           "#EF553B",
           "#00cc96",
           "#ab63fa",
           "#FFA15A",
           "#19d3f3",
           "#FF6692",
           "#B6E880",
           "#FF97FF",
           "#FECB52"
          ],
          "font": {
           "color": "#2a3f5f"
          },
          "geo": {
           "bgcolor": "white",
           "lakecolor": "white",
           "landcolor": "#E5ECF6",
           "showlakes": true,
           "showland": true,
           "subunitcolor": "white"
          },
          "hoverlabel": {
           "align": "left"
          },
          "hovermode": "closest",
          "mapbox": {
           "style": "light"
          },
          "paper_bgcolor": "white",
          "plot_bgcolor": "#E5ECF6",
          "polar": {
           "angularaxis": {
            "gridcolor": "white",
            "linecolor": "white",
            "ticks": ""
           },
           "bgcolor": "#E5ECF6",
           "radialaxis": {
            "gridcolor": "white",
            "linecolor": "white",
            "ticks": ""
           }
          },
          "scene": {
           "xaxis": {
            "backgroundcolor": "#E5ECF6",
            "gridcolor": "white",
            "gridwidth": 2,
            "linecolor": "white",
            "showbackground": true,
            "ticks": "",
            "zerolinecolor": "white"
           },
           "yaxis": {
            "backgroundcolor": "#E5ECF6",
            "gridcolor": "white",
            "gridwidth": 2,
            "linecolor": "white",
            "showbackground": true,
            "ticks": "",
            "zerolinecolor": "white"
           },
           "zaxis": {
            "backgroundcolor": "#E5ECF6",
            "gridcolor": "white",
            "gridwidth": 2,
            "linecolor": "white",
            "showbackground": true,
            "ticks": "",
            "zerolinecolor": "white"
           }
          },
          "shapedefaults": {
           "line": {
            "color": "#2a3f5f"
           }
          },
          "ternary": {
           "aaxis": {
            "gridcolor": "white",
            "linecolor": "white",
            "ticks": ""
           },
           "baxis": {
            "gridcolor": "white",
            "linecolor": "white",
            "ticks": ""
           },
           "bgcolor": "#E5ECF6",
           "caxis": {
            "gridcolor": "white",
            "linecolor": "white",
            "ticks": ""
           }
          },
          "title": {
           "x": 0.05
          },
          "xaxis": {
           "automargin": true,
           "gridcolor": "white",
           "linecolor": "white",
           "ticks": "",
           "title": {
            "standoff": 15
           },
           "zerolinecolor": "white",
           "zerolinewidth": 2
          },
          "yaxis": {
           "automargin": true,
           "gridcolor": "white",
           "linecolor": "white",
           "ticks": "",
           "title": {
            "standoff": 15
           },
           "zerolinecolor": "white",
           "zerolinewidth": 2
          }
         }
        },
        "title": {
         "text": "Etat des passager en fonction de leur âge",
         "x": 0.5,
         "xanchor": "center",
         "y": 0.9,
         "yanchor": "top"
        }
       }
      }
     },
     "metadata": {}
    }
   ],
   "source": [
    "labels1 = train.Age[train.Survived == 0].groupby(train.Age_categorie[train.Survived == 0]).count().index\n",
    "labels2 = train.Age[train.Survived == 1].groupby(train.Age_categorie[train.Survived == 1]).count().index\n",
    "values1 = train.Age[train.Survived == 0].groupby(train.Age_categorie[train.Survived == 0]).count().values\n",
    "values2 = train.Age[train.Survived == 1].groupby(train.Age_categorie[train.Survived == 1]).count().values\n",
    "\n",
    "\n",
    "fig4 = go.Figure(data=[\n",
    "    go.Bar(name='Morts', x=labels1, y=values1),\n",
    "    go.Bar(name='En vie', x=labels2, y=values2)\n",
    "])\n",
    "\n",
    "title = \"Etat des passager en fonction de leur âge\"\n",
    "# Change the bar mode\n",
    "fig4.update_layout(title={'text' : title, 'y':0.9, 'x':0.5, 'xanchor': 'center', 'yanchor': 'top'}, barmode='group')\n",
    "fig4.show()"
   ]
  },
  {
   "cell_type": "code",
   "execution_count": 134,
   "metadata": {},
   "outputs": [
    {
     "output_type": "execute_result",
     "data": {
      "text/plain": "Age_categorie\nBaby       44\nChild      95\nJunior    447\nAdult     282\nSenior     21\nName: Age, dtype: int64"
     },
     "metadata": {},
     "execution_count": 134
    }
   ],
   "source": [
    "train.Age.groupby(train.Age_categorie).count()"
   ]
  },
  {
   "cell_type": "code",
   "execution_count": 135,
   "metadata": {},
   "outputs": [
    {
     "output_type": "display_data",
     "data": {
      "application/vnd.plotly.v1+json": {
       "config": {
        "plotlyServerURL": "https://plot.ly"
       },
       "data": [
        {
         "name": "Morts",
         "type": "bar",
         "x": [
          "Baby",
          "Child",
          "Junior",
          "Adult",
          "Senior"
         ],
         "y": [
          13,
          56,
          299,
          164,
          17
         ]
        },
        {
         "name": "En vie",
         "type": "bar",
         "x": [
          "Baby",
          "Child",
          "Junior",
          "Adult",
          "Senior"
         ],
         "y": [
          31,
          39,
          148,
          118,
          4
         ]
        }
       ],
       "layout": {
        "barmode": "group",
        "template": {
         "data": {
          "bar": [
           {
            "error_x": {
             "color": "#2a3f5f"
            },
            "error_y": {
             "color": "#2a3f5f"
            },
            "marker": {
             "line": {
              "color": "#E5ECF6",
              "width": 0.5
             }
            },
            "type": "bar"
           }
          ],
          "barpolar": [
           {
            "marker": {
             "line": {
              "color": "#E5ECF6",
              "width": 0.5
             }
            },
            "type": "barpolar"
           }
          ],
          "carpet": [
           {
            "aaxis": {
             "endlinecolor": "#2a3f5f",
             "gridcolor": "white",
             "linecolor": "white",
             "minorgridcolor": "white",
             "startlinecolor": "#2a3f5f"
            },
            "baxis": {
             "endlinecolor": "#2a3f5f",
             "gridcolor": "white",
             "linecolor": "white",
             "minorgridcolor": "white",
             "startlinecolor": "#2a3f5f"
            },
            "type": "carpet"
           }
          ],
          "choropleth": [
           {
            "colorbar": {
             "outlinewidth": 0,
             "ticks": ""
            },
            "type": "choropleth"
           }
          ],
          "contour": [
           {
            "colorbar": {
             "outlinewidth": 0,
             "ticks": ""
            },
            "colorscale": [
             [
              0,
              "#0d0887"
             ],
             [
              0.1111111111111111,
              "#46039f"
             ],
             [
              0.2222222222222222,
              "#7201a8"
             ],
             [
              0.3333333333333333,
              "#9c179e"
             ],
             [
              0.4444444444444444,
              "#bd3786"
             ],
             [
              0.5555555555555556,
              "#d8576b"
             ],
             [
              0.6666666666666666,
              "#ed7953"
             ],
             [
              0.7777777777777778,
              "#fb9f3a"
             ],
             [
              0.8888888888888888,
              "#fdca26"
             ],
             [
              1,
              "#f0f921"
             ]
            ],
            "type": "contour"
           }
          ],
          "contourcarpet": [
           {
            "colorbar": {
             "outlinewidth": 0,
             "ticks": ""
            },
            "type": "contourcarpet"
           }
          ],
          "heatmap": [
           {
            "colorbar": {
             "outlinewidth": 0,
             "ticks": ""
            },
            "colorscale": [
             [
              0,
              "#0d0887"
             ],
             [
              0.1111111111111111,
              "#46039f"
             ],
             [
              0.2222222222222222,
              "#7201a8"
             ],
             [
              0.3333333333333333,
              "#9c179e"
             ],
             [
              0.4444444444444444,
              "#bd3786"
             ],
             [
              0.5555555555555556,
              "#d8576b"
             ],
             [
              0.6666666666666666,
              "#ed7953"
             ],
             [
              0.7777777777777778,
              "#fb9f3a"
             ],
             [
              0.8888888888888888,
              "#fdca26"
             ],
             [
              1,
              "#f0f921"
             ]
            ],
            "type": "heatmap"
           }
          ],
          "heatmapgl": [
           {
            "colorbar": {
             "outlinewidth": 0,
             "ticks": ""
            },
            "colorscale": [
             [
              0,
              "#0d0887"
             ],
             [
              0.1111111111111111,
              "#46039f"
             ],
             [
              0.2222222222222222,
              "#7201a8"
             ],
             [
              0.3333333333333333,
              "#9c179e"
             ],
             [
              0.4444444444444444,
              "#bd3786"
             ],
             [
              0.5555555555555556,
              "#d8576b"
             ],
             [
              0.6666666666666666,
              "#ed7953"
             ],
             [
              0.7777777777777778,
              "#fb9f3a"
             ],
             [
              0.8888888888888888,
              "#fdca26"
             ],
             [
              1,
              "#f0f921"
             ]
            ],
            "type": "heatmapgl"
           }
          ],
          "histogram": [
           {
            "marker": {
             "colorbar": {
              "outlinewidth": 0,
              "ticks": ""
             }
            },
            "type": "histogram"
           }
          ],
          "histogram2d": [
           {
            "colorbar": {
             "outlinewidth": 0,
             "ticks": ""
            },
            "colorscale": [
             [
              0,
              "#0d0887"
             ],
             [
              0.1111111111111111,
              "#46039f"
             ],
             [
              0.2222222222222222,
              "#7201a8"
             ],
             [
              0.3333333333333333,
              "#9c179e"
             ],
             [
              0.4444444444444444,
              "#bd3786"
             ],
             [
              0.5555555555555556,
              "#d8576b"
             ],
             [
              0.6666666666666666,
              "#ed7953"
             ],
             [
              0.7777777777777778,
              "#fb9f3a"
             ],
             [
              0.8888888888888888,
              "#fdca26"
             ],
             [
              1,
              "#f0f921"
             ]
            ],
            "type": "histogram2d"
           }
          ],
          "histogram2dcontour": [
           {
            "colorbar": {
             "outlinewidth": 0,
             "ticks": ""
            },
            "colorscale": [
             [
              0,
              "#0d0887"
             ],
             [
              0.1111111111111111,
              "#46039f"
             ],
             [
              0.2222222222222222,
              "#7201a8"
             ],
             [
              0.3333333333333333,
              "#9c179e"
             ],
             [
              0.4444444444444444,
              "#bd3786"
             ],
             [
              0.5555555555555556,
              "#d8576b"
             ],
             [
              0.6666666666666666,
              "#ed7953"
             ],
             [
              0.7777777777777778,
              "#fb9f3a"
             ],
             [
              0.8888888888888888,
              "#fdca26"
             ],
             [
              1,
              "#f0f921"
             ]
            ],
            "type": "histogram2dcontour"
           }
          ],
          "mesh3d": [
           {
            "colorbar": {
             "outlinewidth": 0,
             "ticks": ""
            },
            "type": "mesh3d"
           }
          ],
          "parcoords": [
           {
            "line": {
             "colorbar": {
              "outlinewidth": 0,
              "ticks": ""
             }
            },
            "type": "parcoords"
           }
          ],
          "pie": [
           {
            "automargin": true,
            "type": "pie"
           }
          ],
          "scatter": [
           {
            "marker": {
             "colorbar": {
              "outlinewidth": 0,
              "ticks": ""
             }
            },
            "type": "scatter"
           }
          ],
          "scatter3d": [
           {
            "line": {
             "colorbar": {
              "outlinewidth": 0,
              "ticks": ""
             }
            },
            "marker": {
             "colorbar": {
              "outlinewidth": 0,
              "ticks": ""
             }
            },
            "type": "scatter3d"
           }
          ],
          "scattercarpet": [
           {
            "marker": {
             "colorbar": {
              "outlinewidth": 0,
              "ticks": ""
             }
            },
            "type": "scattercarpet"
           }
          ],
          "scattergeo": [
           {
            "marker": {
             "colorbar": {
              "outlinewidth": 0,
              "ticks": ""
             }
            },
            "type": "scattergeo"
           }
          ],
          "scattergl": [
           {
            "marker": {
             "colorbar": {
              "outlinewidth": 0,
              "ticks": ""
             }
            },
            "type": "scattergl"
           }
          ],
          "scattermapbox": [
           {
            "marker": {
             "colorbar": {
              "outlinewidth": 0,
              "ticks": ""
             }
            },
            "type": "scattermapbox"
           }
          ],
          "scatterpolar": [
           {
            "marker": {
             "colorbar": {
              "outlinewidth": 0,
              "ticks": ""
             }
            },
            "type": "scatterpolar"
           }
          ],
          "scatterpolargl": [
           {
            "marker": {
             "colorbar": {
              "outlinewidth": 0,
              "ticks": ""
             }
            },
            "type": "scatterpolargl"
           }
          ],
          "scatterternary": [
           {
            "marker": {
             "colorbar": {
              "outlinewidth": 0,
              "ticks": ""
             }
            },
            "type": "scatterternary"
           }
          ],
          "surface": [
           {
            "colorbar": {
             "outlinewidth": 0,
             "ticks": ""
            },
            "colorscale": [
             [
              0,
              "#0d0887"
             ],
             [
              0.1111111111111111,
              "#46039f"
             ],
             [
              0.2222222222222222,
              "#7201a8"
             ],
             [
              0.3333333333333333,
              "#9c179e"
             ],
             [
              0.4444444444444444,
              "#bd3786"
             ],
             [
              0.5555555555555556,
              "#d8576b"
             ],
             [
              0.6666666666666666,
              "#ed7953"
             ],
             [
              0.7777777777777778,
              "#fb9f3a"
             ],
             [
              0.8888888888888888,
              "#fdca26"
             ],
             [
              1,
              "#f0f921"
             ]
            ],
            "type": "surface"
           }
          ],
          "table": [
           {
            "cells": {
             "fill": {
              "color": "#EBF0F8"
             },
             "line": {
              "color": "white"
             }
            },
            "header": {
             "fill": {
              "color": "#C8D4E3"
             },
             "line": {
              "color": "white"
             }
            },
            "type": "table"
           }
          ]
         },
         "layout": {
          "annotationdefaults": {
           "arrowcolor": "#2a3f5f",
           "arrowhead": 0,
           "arrowwidth": 1
          },
          "coloraxis": {
           "colorbar": {
            "outlinewidth": 0,
            "ticks": ""
           }
          },
          "colorscale": {
           "diverging": [
            [
             0,
             "#8e0152"
            ],
            [
             0.1,
             "#c51b7d"
            ],
            [
             0.2,
             "#de77ae"
            ],
            [
             0.3,
             "#f1b6da"
            ],
            [
             0.4,
             "#fde0ef"
            ],
            [
             0.5,
             "#f7f7f7"
            ],
            [
             0.6,
             "#e6f5d0"
            ],
            [
             0.7,
             "#b8e186"
            ],
            [
             0.8,
             "#7fbc41"
            ],
            [
             0.9,
             "#4d9221"
            ],
            [
             1,
             "#276419"
            ]
           ],
           "sequential": [
            [
             0,
             "#0d0887"
            ],
            [
             0.1111111111111111,
             "#46039f"
            ],
            [
             0.2222222222222222,
             "#7201a8"
            ],
            [
             0.3333333333333333,
             "#9c179e"
            ],
            [
             0.4444444444444444,
             "#bd3786"
            ],
            [
             0.5555555555555556,
             "#d8576b"
            ],
            [
             0.6666666666666666,
             "#ed7953"
            ],
            [
             0.7777777777777778,
             "#fb9f3a"
            ],
            [
             0.8888888888888888,
             "#fdca26"
            ],
            [
             1,
             "#f0f921"
            ]
           ],
           "sequentialminus": [
            [
             0,
             "#0d0887"
            ],
            [
             0.1111111111111111,
             "#46039f"
            ],
            [
             0.2222222222222222,
             "#7201a8"
            ],
            [
             0.3333333333333333,
             "#9c179e"
            ],
            [
             0.4444444444444444,
             "#bd3786"
            ],
            [
             0.5555555555555556,
             "#d8576b"
            ],
            [
             0.6666666666666666,
             "#ed7953"
            ],
            [
             0.7777777777777778,
             "#fb9f3a"
            ],
            [
             0.8888888888888888,
             "#fdca26"
            ],
            [
             1,
             "#f0f921"
            ]
           ]
          },
          "colorway": [
           "#636efa",
           "#EF553B",
           "#00cc96",
           "#ab63fa",
           "#FFA15A",
           "#19d3f3",
           "#FF6692",
           "#B6E880",
           "#FF97FF",
           "#FECB52"
          ],
          "font": {
           "color": "#2a3f5f"
          },
          "geo": {
           "bgcolor": "white",
           "lakecolor": "white",
           "landcolor": "#E5ECF6",
           "showlakes": true,
           "showland": true,
           "subunitcolor": "white"
          },
          "hoverlabel": {
           "align": "left"
          },
          "hovermode": "closest",
          "mapbox": {
           "style": "light"
          },
          "paper_bgcolor": "white",
          "plot_bgcolor": "#E5ECF6",
          "polar": {
           "angularaxis": {
            "gridcolor": "white",
            "linecolor": "white",
            "ticks": ""
           },
           "bgcolor": "#E5ECF6",
           "radialaxis": {
            "gridcolor": "white",
            "linecolor": "white",
            "ticks": ""
           }
          },
          "scene": {
           "xaxis": {
            "backgroundcolor": "#E5ECF6",
            "gridcolor": "white",
            "gridwidth": 2,
            "linecolor": "white",
            "showbackground": true,
            "ticks": "",
            "zerolinecolor": "white"
           },
           "yaxis": {
            "backgroundcolor": "#E5ECF6",
            "gridcolor": "white",
            "gridwidth": 2,
            "linecolor": "white",
            "showbackground": true,
            "ticks": "",
            "zerolinecolor": "white"
           },
           "zaxis": {
            "backgroundcolor": "#E5ECF6",
            "gridcolor": "white",
            "gridwidth": 2,
            "linecolor": "white",
            "showbackground": true,
            "ticks": "",
            "zerolinecolor": "white"
           }
          },
          "shapedefaults": {
           "line": {
            "color": "#2a3f5f"
           }
          },
          "ternary": {
           "aaxis": {
            "gridcolor": "white",
            "linecolor": "white",
            "ticks": ""
           },
           "baxis": {
            "gridcolor": "white",
            "linecolor": "white",
            "ticks": ""
           },
           "bgcolor": "#E5ECF6",
           "caxis": {
            "gridcolor": "white",
            "linecolor": "white",
            "ticks": ""
           }
          },
          "title": {
           "x": 0.05
          },
          "xaxis": {
           "automargin": true,
           "gridcolor": "white",
           "linecolor": "white",
           "ticks": "",
           "title": {
            "standoff": 15
           },
           "zerolinecolor": "white",
           "zerolinewidth": 2
          },
          "yaxis": {
           "automargin": true,
           "gridcolor": "white",
           "linecolor": "white",
           "ticks": "",
           "title": {
            "standoff": 15
           },
           "zerolinecolor": "white",
           "zerolinewidth": 2
          }
         }
        },
        "title": {
         "text": "Etat des passager en fonction de leur âge",
         "x": 0.5,
         "xanchor": "center",
         "y": 0.9,
         "yanchor": "top"
        }
       }
      }
     },
     "metadata": {}
    }
   ],
   "source": [
    "labels1 = train.Age[train.Survived == 0].groupby(train.Age_categorie[train.Survived == 0]).count().index\n",
    "labels2 = train.Age[train.Survived == 1].groupby(train.Age_categorie[train.Survived == 1]).count().index\n",
    "values1 = train.Age[train.Survived == 0].groupby(train.Age_categorie[train.Survived == 0]).count().values\n",
    "values2 = train.Age[train.Survived == 1].groupby(train.Age_categorie[train.Survived == 1]).count().values\n",
    "\n",
    "\n",
    "fig5 = go.Figure(data=[\n",
    "    go.Bar(name='Morts', x=labels1, y=values1),\n",
    "    go.Bar(name='En vie', x=labels2, y=values2)\n",
    "])\n",
    "\n",
    "title = \"Etat des passager en fonction de leur âge\"\n",
    "# Change the bar mode\n",
    "fig5.update_layout(title={'text' : title, 'y':0.9, 'x':0.5, 'xanchor': 'center', 'yanchor': 'top'}, barmode='group')\n",
    "fig5.show()"
   ]
  },
  {
   "cell_type": "code",
   "execution_count": 136,
   "metadata": {},
   "outputs": [
    {
     "output_type": "execute_result",
     "data": {
      "text/plain": "count    889.000000\nmean      32.096681\nstd       49.697504\nmin        0.000000\n25%        7.895800\n50%       14.454200\n75%       31.000000\nmax      512.329200\nName: Fare, dtype: float64"
     },
     "metadata": {},
     "execution_count": 136
    }
   ],
   "source": [
    "train.Fare.describe()"
   ]
  },
  {
   "cell_type": "code",
   "execution_count": 137,
   "metadata": {},
   "outputs": [],
   "source": [
    "def process_fare(df, cut_points, labels) :\n",
    "    df[\"Fare_categorie\"] = pd.cut(df[\"Fare\"], cut_points, labels = labels)\n",
    "    return df\n",
    "\n",
    "cut_points = [0, 8, 15, 30, 1000]\n",
    "labels = [\"Cheap\", \"Low\", \"High\", \"Expensive\"]\n",
    "\n",
    "train = process_fare(train, cut_points, labels)"
   ]
  },
  {
   "cell_type": "code",
   "execution_count": 138,
   "metadata": {},
   "outputs": [
    {
     "output_type": "execute_result",
     "data": {
      "text/plain": "Fare_categorie  Survived\nCheap           0           175\n                1            51\nLow             0           155\n                1            62\nHigh            0           107\n                1            92\nExpensive       1           134\n                0            98\nName: Survived, dtype: int64"
     },
     "metadata": {},
     "execution_count": 138
    }
   ],
   "source": [
    "train.Survived.groupby(train.Fare_categorie).value_counts()"
   ]
  },
  {
   "cell_type": "code",
   "execution_count": 139,
   "metadata": {},
   "outputs": [
    {
     "output_type": "display_data",
     "data": {
      "application/vnd.plotly.v1+json": {
       "config": {
        "plotlyServerURL": "https://plot.ly"
       },
       "data": [
        {
         "name": "Morts",
         "type": "bar",
         "x": [
          "Cheap",
          "Low",
          "High",
          "Expensive"
         ],
         "y": [
          175,
          155,
          107,
          98
         ]
        },
        {
         "name": "En vie",
         "type": "bar",
         "x": [
          "Cheap",
          "Low",
          "High",
          "Expensive"
         ],
         "y": [
          51,
          62,
          92,
          134
         ]
        }
       ],
       "layout": {
        "barmode": "group",
        "template": {
         "data": {
          "bar": [
           {
            "error_x": {
             "color": "#2a3f5f"
            },
            "error_y": {
             "color": "#2a3f5f"
            },
            "marker": {
             "line": {
              "color": "#E5ECF6",
              "width": 0.5
             }
            },
            "type": "bar"
           }
          ],
          "barpolar": [
           {
            "marker": {
             "line": {
              "color": "#E5ECF6",
              "width": 0.5
             }
            },
            "type": "barpolar"
           }
          ],
          "carpet": [
           {
            "aaxis": {
             "endlinecolor": "#2a3f5f",
             "gridcolor": "white",
             "linecolor": "white",
             "minorgridcolor": "white",
             "startlinecolor": "#2a3f5f"
            },
            "baxis": {
             "endlinecolor": "#2a3f5f",
             "gridcolor": "white",
             "linecolor": "white",
             "minorgridcolor": "white",
             "startlinecolor": "#2a3f5f"
            },
            "type": "carpet"
           }
          ],
          "choropleth": [
           {
            "colorbar": {
             "outlinewidth": 0,
             "ticks": ""
            },
            "type": "choropleth"
           }
          ],
          "contour": [
           {
            "colorbar": {
             "outlinewidth": 0,
             "ticks": ""
            },
            "colorscale": [
             [
              0,
              "#0d0887"
             ],
             [
              0.1111111111111111,
              "#46039f"
             ],
             [
              0.2222222222222222,
              "#7201a8"
             ],
             [
              0.3333333333333333,
              "#9c179e"
             ],
             [
              0.4444444444444444,
              "#bd3786"
             ],
             [
              0.5555555555555556,
              "#d8576b"
             ],
             [
              0.6666666666666666,
              "#ed7953"
             ],
             [
              0.7777777777777778,
              "#fb9f3a"
             ],
             [
              0.8888888888888888,
              "#fdca26"
             ],
             [
              1,
              "#f0f921"
             ]
            ],
            "type": "contour"
           }
          ],
          "contourcarpet": [
           {
            "colorbar": {
             "outlinewidth": 0,
             "ticks": ""
            },
            "type": "contourcarpet"
           }
          ],
          "heatmap": [
           {
            "colorbar": {
             "outlinewidth": 0,
             "ticks": ""
            },
            "colorscale": [
             [
              0,
              "#0d0887"
             ],
             [
              0.1111111111111111,
              "#46039f"
             ],
             [
              0.2222222222222222,
              "#7201a8"
             ],
             [
              0.3333333333333333,
              "#9c179e"
             ],
             [
              0.4444444444444444,
              "#bd3786"
             ],
             [
              0.5555555555555556,
              "#d8576b"
             ],
             [
              0.6666666666666666,
              "#ed7953"
             ],
             [
              0.7777777777777778,
              "#fb9f3a"
             ],
             [
              0.8888888888888888,
              "#fdca26"
             ],
             [
              1,
              "#f0f921"
             ]
            ],
            "type": "heatmap"
           }
          ],
          "heatmapgl": [
           {
            "colorbar": {
             "outlinewidth": 0,
             "ticks": ""
            },
            "colorscale": [
             [
              0,
              "#0d0887"
             ],
             [
              0.1111111111111111,
              "#46039f"
             ],
             [
              0.2222222222222222,
              "#7201a8"
             ],
             [
              0.3333333333333333,
              "#9c179e"
             ],
             [
              0.4444444444444444,
              "#bd3786"
             ],
             [
              0.5555555555555556,
              "#d8576b"
             ],
             [
              0.6666666666666666,
              "#ed7953"
             ],
             [
              0.7777777777777778,
              "#fb9f3a"
             ],
             [
              0.8888888888888888,
              "#fdca26"
             ],
             [
              1,
              "#f0f921"
             ]
            ],
            "type": "heatmapgl"
           }
          ],
          "histogram": [
           {
            "marker": {
             "colorbar": {
              "outlinewidth": 0,
              "ticks": ""
             }
            },
            "type": "histogram"
           }
          ],
          "histogram2d": [
           {
            "colorbar": {
             "outlinewidth": 0,
             "ticks": ""
            },
            "colorscale": [
             [
              0,
              "#0d0887"
             ],
             [
              0.1111111111111111,
              "#46039f"
             ],
             [
              0.2222222222222222,
              "#7201a8"
             ],
             [
              0.3333333333333333,
              "#9c179e"
             ],
             [
              0.4444444444444444,
              "#bd3786"
             ],
             [
              0.5555555555555556,
              "#d8576b"
             ],
             [
              0.6666666666666666,
              "#ed7953"
             ],
             [
              0.7777777777777778,
              "#fb9f3a"
             ],
             [
              0.8888888888888888,
              "#fdca26"
             ],
             [
              1,
              "#f0f921"
             ]
            ],
            "type": "histogram2d"
           }
          ],
          "histogram2dcontour": [
           {
            "colorbar": {
             "outlinewidth": 0,
             "ticks": ""
            },
            "colorscale": [
             [
              0,
              "#0d0887"
             ],
             [
              0.1111111111111111,
              "#46039f"
             ],
             [
              0.2222222222222222,
              "#7201a8"
             ],
             [
              0.3333333333333333,
              "#9c179e"
             ],
             [
              0.4444444444444444,
              "#bd3786"
             ],
             [
              0.5555555555555556,
              "#d8576b"
             ],
             [
              0.6666666666666666,
              "#ed7953"
             ],
             [
              0.7777777777777778,
              "#fb9f3a"
             ],
             [
              0.8888888888888888,
              "#fdca26"
             ],
             [
              1,
              "#f0f921"
             ]
            ],
            "type": "histogram2dcontour"
           }
          ],
          "mesh3d": [
           {
            "colorbar": {
             "outlinewidth": 0,
             "ticks": ""
            },
            "type": "mesh3d"
           }
          ],
          "parcoords": [
           {
            "line": {
             "colorbar": {
              "outlinewidth": 0,
              "ticks": ""
             }
            },
            "type": "parcoords"
           }
          ],
          "pie": [
           {
            "automargin": true,
            "type": "pie"
           }
          ],
          "scatter": [
           {
            "marker": {
             "colorbar": {
              "outlinewidth": 0,
              "ticks": ""
             }
            },
            "type": "scatter"
           }
          ],
          "scatter3d": [
           {
            "line": {
             "colorbar": {
              "outlinewidth": 0,
              "ticks": ""
             }
            },
            "marker": {
             "colorbar": {
              "outlinewidth": 0,
              "ticks": ""
             }
            },
            "type": "scatter3d"
           }
          ],
          "scattercarpet": [
           {
            "marker": {
             "colorbar": {
              "outlinewidth": 0,
              "ticks": ""
             }
            },
            "type": "scattercarpet"
           }
          ],
          "scattergeo": [
           {
            "marker": {
             "colorbar": {
              "outlinewidth": 0,
              "ticks": ""
             }
            },
            "type": "scattergeo"
           }
          ],
          "scattergl": [
           {
            "marker": {
             "colorbar": {
              "outlinewidth": 0,
              "ticks": ""
             }
            },
            "type": "scattergl"
           }
          ],
          "scattermapbox": [
           {
            "marker": {
             "colorbar": {
              "outlinewidth": 0,
              "ticks": ""
             }
            },
            "type": "scattermapbox"
           }
          ],
          "scatterpolar": [
           {
            "marker": {
             "colorbar": {
              "outlinewidth": 0,
              "ticks": ""
             }
            },
            "type": "scatterpolar"
           }
          ],
          "scatterpolargl": [
           {
            "marker": {
             "colorbar": {
              "outlinewidth": 0,
              "ticks": ""
             }
            },
            "type": "scatterpolargl"
           }
          ],
          "scatterternary": [
           {
            "marker": {
             "colorbar": {
              "outlinewidth": 0,
              "ticks": ""
             }
            },
            "type": "scatterternary"
           }
          ],
          "surface": [
           {
            "colorbar": {
             "outlinewidth": 0,
             "ticks": ""
            },
            "colorscale": [
             [
              0,
              "#0d0887"
             ],
             [
              0.1111111111111111,
              "#46039f"
             ],
             [
              0.2222222222222222,
              "#7201a8"
             ],
             [
              0.3333333333333333,
              "#9c179e"
             ],
             [
              0.4444444444444444,
              "#bd3786"
             ],
             [
              0.5555555555555556,
              "#d8576b"
             ],
             [
              0.6666666666666666,
              "#ed7953"
             ],
             [
              0.7777777777777778,
              "#fb9f3a"
             ],
             [
              0.8888888888888888,
              "#fdca26"
             ],
             [
              1,
              "#f0f921"
             ]
            ],
            "type": "surface"
           }
          ],
          "table": [
           {
            "cells": {
             "fill": {
              "color": "#EBF0F8"
             },
             "line": {
              "color": "white"
             }
            },
            "header": {
             "fill": {
              "color": "#C8D4E3"
             },
             "line": {
              "color": "white"
             }
            },
            "type": "table"
           }
          ]
         },
         "layout": {
          "annotationdefaults": {
           "arrowcolor": "#2a3f5f",
           "arrowhead": 0,
           "arrowwidth": 1
          },
          "coloraxis": {
           "colorbar": {
            "outlinewidth": 0,
            "ticks": ""
           }
          },
          "colorscale": {
           "diverging": [
            [
             0,
             "#8e0152"
            ],
            [
             0.1,
             "#c51b7d"
            ],
            [
             0.2,
             "#de77ae"
            ],
            [
             0.3,
             "#f1b6da"
            ],
            [
             0.4,
             "#fde0ef"
            ],
            [
             0.5,
             "#f7f7f7"
            ],
            [
             0.6,
             "#e6f5d0"
            ],
            [
             0.7,
             "#b8e186"
            ],
            [
             0.8,
             "#7fbc41"
            ],
            [
             0.9,
             "#4d9221"
            ],
            [
             1,
             "#276419"
            ]
           ],
           "sequential": [
            [
             0,
             "#0d0887"
            ],
            [
             0.1111111111111111,
             "#46039f"
            ],
            [
             0.2222222222222222,
             "#7201a8"
            ],
            [
             0.3333333333333333,
             "#9c179e"
            ],
            [
             0.4444444444444444,
             "#bd3786"
            ],
            [
             0.5555555555555556,
             "#d8576b"
            ],
            [
             0.6666666666666666,
             "#ed7953"
            ],
            [
             0.7777777777777778,
             "#fb9f3a"
            ],
            [
             0.8888888888888888,
             "#fdca26"
            ],
            [
             1,
             "#f0f921"
            ]
           ],
           "sequentialminus": [
            [
             0,
             "#0d0887"
            ],
            [
             0.1111111111111111,
             "#46039f"
            ],
            [
             0.2222222222222222,
             "#7201a8"
            ],
            [
             0.3333333333333333,
             "#9c179e"
            ],
            [
             0.4444444444444444,
             "#bd3786"
            ],
            [
             0.5555555555555556,
             "#d8576b"
            ],
            [
             0.6666666666666666,
             "#ed7953"
            ],
            [
             0.7777777777777778,
             "#fb9f3a"
            ],
            [
             0.8888888888888888,
             "#fdca26"
            ],
            [
             1,
             "#f0f921"
            ]
           ]
          },
          "colorway": [
           "#636efa",
           "#EF553B",
           "#00cc96",
           "#ab63fa",
           "#FFA15A",
           "#19d3f3",
           "#FF6692",
           "#B6E880",
           "#FF97FF",
           "#FECB52"
          ],
          "font": {
           "color": "#2a3f5f"
          },
          "geo": {
           "bgcolor": "white",
           "lakecolor": "white",
           "landcolor": "#E5ECF6",
           "showlakes": true,
           "showland": true,
           "subunitcolor": "white"
          },
          "hoverlabel": {
           "align": "left"
          },
          "hovermode": "closest",
          "mapbox": {
           "style": "light"
          },
          "paper_bgcolor": "white",
          "plot_bgcolor": "#E5ECF6",
          "polar": {
           "angularaxis": {
            "gridcolor": "white",
            "linecolor": "white",
            "ticks": ""
           },
           "bgcolor": "#E5ECF6",
           "radialaxis": {
            "gridcolor": "white",
            "linecolor": "white",
            "ticks": ""
           }
          },
          "scene": {
           "xaxis": {
            "backgroundcolor": "#E5ECF6",
            "gridcolor": "white",
            "gridwidth": 2,
            "linecolor": "white",
            "showbackground": true,
            "ticks": "",
            "zerolinecolor": "white"
           },
           "yaxis": {
            "backgroundcolor": "#E5ECF6",
            "gridcolor": "white",
            "gridwidth": 2,
            "linecolor": "white",
            "showbackground": true,
            "ticks": "",
            "zerolinecolor": "white"
           },
           "zaxis": {
            "backgroundcolor": "#E5ECF6",
            "gridcolor": "white",
            "gridwidth": 2,
            "linecolor": "white",
            "showbackground": true,
            "ticks": "",
            "zerolinecolor": "white"
           }
          },
          "shapedefaults": {
           "line": {
            "color": "#2a3f5f"
           }
          },
          "ternary": {
           "aaxis": {
            "gridcolor": "white",
            "linecolor": "white",
            "ticks": ""
           },
           "baxis": {
            "gridcolor": "white",
            "linecolor": "white",
            "ticks": ""
           },
           "bgcolor": "#E5ECF6",
           "caxis": {
            "gridcolor": "white",
            "linecolor": "white",
            "ticks": ""
           }
          },
          "title": {
           "x": 0.05
          },
          "xaxis": {
           "automargin": true,
           "gridcolor": "white",
           "linecolor": "white",
           "ticks": "",
           "title": {
            "standoff": 15
           },
           "zerolinecolor": "white",
           "zerolinewidth": 2
          },
          "yaxis": {
           "automargin": true,
           "gridcolor": "white",
           "linecolor": "white",
           "ticks": "",
           "title": {
            "standoff": 15
           },
           "zerolinecolor": "white",
           "zerolinewidth": 2
          }
         }
        },
        "title": {
         "text": "Etat des passager en fonction du prix du ticket",
         "x": 0.5,
         "xanchor": "center",
         "y": 0.9,
         "yanchor": "top"
        }
       }
      }
     },
     "metadata": {}
    }
   ],
   "source": [
    "labels1 = train.Fare[train.Survived == 0].groupby(train.Fare_categorie[train.Survived == 0]).count().index\n",
    "labels2 = train.Fare[train.Survived == 1].groupby(train.Fare_categorie[train.Survived == 1]).count().index\n",
    "values1 = train.Fare[train.Survived == 0].groupby(train.Fare_categorie[train.Survived == 0]).count().values\n",
    "values2 = train.Fare[train.Survived == 1].groupby(train.Fare_categorie[train.Survived == 1]).count().values\n",
    "\n",
    "\n",
    "fig6 = go.Figure(data=[\n",
    "    go.Bar(name='Morts', x=labels1, y=values1),\n",
    "    go.Bar(name='En vie', x=labels2, y=values2)\n",
    "])\n",
    "\n",
    "title = \"Etat des passager en fonction du prix du ticket\"\n",
    "# Change the bar mode\n",
    "fig6.update_layout(title={'text' : title, 'y':0.9, 'x':0.5, 'xanchor': 'center', 'yanchor': 'top'}, barmode='group')\n",
    "fig6.show()"
   ]
  },
  {
   "cell_type": "code",
   "execution_count": 140,
   "metadata": {},
   "outputs": [
    {
     "output_type": "execute_result",
     "data": {
      "text/plain": "Embarked\nC    59.954144\nQ    13.276030\nS    27.079812\nName: Fare, dtype: float64"
     },
     "metadata": {},
     "execution_count": 140
    }
   ],
   "source": [
    "a = train.Fare.groupby(train.Embarked).mean()\n",
    "a"
   ]
  },
  {
   "cell_type": "code",
   "execution_count": 141,
   "metadata": {},
   "outputs": [
    {
     "output_type": "display_data",
     "data": {
      "application/vnd.plotly.v1+json": {
       "config": {
        "plotlyServerURL": "https://plot.ly"
       },
       "data": [
        {
         "alignmentgroup": "True",
         "hovertemplate": "x=%{x}<br>y=%{y}<extra></extra>",
         "legendgroup": "",
         "marker": {
          "color": "#636efa"
         },
         "name": "",
         "offsetgroup": "",
         "orientation": "v",
         "showlegend": false,
         "textposition": "auto",
         "type": "bar",
         "x": [
          "Cherbourg",
          "Queenstown",
          "Southampton"
         ],
         "xaxis": "x",
         "y": [
          59.95414404761905,
          13.276029870129872,
          27.07981180124218
         ],
         "yaxis": "y"
        }
       ],
       "layout": {
        "barmode": "relative",
        "legend": {
         "tracegroupgap": 0
        },
        "template": {
         "data": {
          "bar": [
           {
            "error_x": {
             "color": "#2a3f5f"
            },
            "error_y": {
             "color": "#2a3f5f"
            },
            "marker": {
             "line": {
              "color": "#E5ECF6",
              "width": 0.5
             }
            },
            "type": "bar"
           }
          ],
          "barpolar": [
           {
            "marker": {
             "line": {
              "color": "#E5ECF6",
              "width": 0.5
             }
            },
            "type": "barpolar"
           }
          ],
          "carpet": [
           {
            "aaxis": {
             "endlinecolor": "#2a3f5f",
             "gridcolor": "white",
             "linecolor": "white",
             "minorgridcolor": "white",
             "startlinecolor": "#2a3f5f"
            },
            "baxis": {
             "endlinecolor": "#2a3f5f",
             "gridcolor": "white",
             "linecolor": "white",
             "minorgridcolor": "white",
             "startlinecolor": "#2a3f5f"
            },
            "type": "carpet"
           }
          ],
          "choropleth": [
           {
            "colorbar": {
             "outlinewidth": 0,
             "ticks": ""
            },
            "type": "choropleth"
           }
          ],
          "contour": [
           {
            "colorbar": {
             "outlinewidth": 0,
             "ticks": ""
            },
            "colorscale": [
             [
              0,
              "#0d0887"
             ],
             [
              0.1111111111111111,
              "#46039f"
             ],
             [
              0.2222222222222222,
              "#7201a8"
             ],
             [
              0.3333333333333333,
              "#9c179e"
             ],
             [
              0.4444444444444444,
              "#bd3786"
             ],
             [
              0.5555555555555556,
              "#d8576b"
             ],
             [
              0.6666666666666666,
              "#ed7953"
             ],
             [
              0.7777777777777778,
              "#fb9f3a"
             ],
             [
              0.8888888888888888,
              "#fdca26"
             ],
             [
              1,
              "#f0f921"
             ]
            ],
            "type": "contour"
           }
          ],
          "contourcarpet": [
           {
            "colorbar": {
             "outlinewidth": 0,
             "ticks": ""
            },
            "type": "contourcarpet"
           }
          ],
          "heatmap": [
           {
            "colorbar": {
             "outlinewidth": 0,
             "ticks": ""
            },
            "colorscale": [
             [
              0,
              "#0d0887"
             ],
             [
              0.1111111111111111,
              "#46039f"
             ],
             [
              0.2222222222222222,
              "#7201a8"
             ],
             [
              0.3333333333333333,
              "#9c179e"
             ],
             [
              0.4444444444444444,
              "#bd3786"
             ],
             [
              0.5555555555555556,
              "#d8576b"
             ],
             [
              0.6666666666666666,
              "#ed7953"
             ],
             [
              0.7777777777777778,
              "#fb9f3a"
             ],
             [
              0.8888888888888888,
              "#fdca26"
             ],
             [
              1,
              "#f0f921"
             ]
            ],
            "type": "heatmap"
           }
          ],
          "heatmapgl": [
           {
            "colorbar": {
             "outlinewidth": 0,
             "ticks": ""
            },
            "colorscale": [
             [
              0,
              "#0d0887"
             ],
             [
              0.1111111111111111,
              "#46039f"
             ],
             [
              0.2222222222222222,
              "#7201a8"
             ],
             [
              0.3333333333333333,
              "#9c179e"
             ],
             [
              0.4444444444444444,
              "#bd3786"
             ],
             [
              0.5555555555555556,
              "#d8576b"
             ],
             [
              0.6666666666666666,
              "#ed7953"
             ],
             [
              0.7777777777777778,
              "#fb9f3a"
             ],
             [
              0.8888888888888888,
              "#fdca26"
             ],
             [
              1,
              "#f0f921"
             ]
            ],
            "type": "heatmapgl"
           }
          ],
          "histogram": [
           {
            "marker": {
             "colorbar": {
              "outlinewidth": 0,
              "ticks": ""
             }
            },
            "type": "histogram"
           }
          ],
          "histogram2d": [
           {
            "colorbar": {
             "outlinewidth": 0,
             "ticks": ""
            },
            "colorscale": [
             [
              0,
              "#0d0887"
             ],
             [
              0.1111111111111111,
              "#46039f"
             ],
             [
              0.2222222222222222,
              "#7201a8"
             ],
             [
              0.3333333333333333,
              "#9c179e"
             ],
             [
              0.4444444444444444,
              "#bd3786"
             ],
             [
              0.5555555555555556,
              "#d8576b"
             ],
             [
              0.6666666666666666,
              "#ed7953"
             ],
             [
              0.7777777777777778,
              "#fb9f3a"
             ],
             [
              0.8888888888888888,
              "#fdca26"
             ],
             [
              1,
              "#f0f921"
             ]
            ],
            "type": "histogram2d"
           }
          ],
          "histogram2dcontour": [
           {
            "colorbar": {
             "outlinewidth": 0,
             "ticks": ""
            },
            "colorscale": [
             [
              0,
              "#0d0887"
             ],
             [
              0.1111111111111111,
              "#46039f"
             ],
             [
              0.2222222222222222,
              "#7201a8"
             ],
             [
              0.3333333333333333,
              "#9c179e"
             ],
             [
              0.4444444444444444,
              "#bd3786"
             ],
             [
              0.5555555555555556,
              "#d8576b"
             ],
             [
              0.6666666666666666,
              "#ed7953"
             ],
             [
              0.7777777777777778,
              "#fb9f3a"
             ],
             [
              0.8888888888888888,
              "#fdca26"
             ],
             [
              1,
              "#f0f921"
             ]
            ],
            "type": "histogram2dcontour"
           }
          ],
          "mesh3d": [
           {
            "colorbar": {
             "outlinewidth": 0,
             "ticks": ""
            },
            "type": "mesh3d"
           }
          ],
          "parcoords": [
           {
            "line": {
             "colorbar": {
              "outlinewidth": 0,
              "ticks": ""
             }
            },
            "type": "parcoords"
           }
          ],
          "pie": [
           {
            "automargin": true,
            "type": "pie"
           }
          ],
          "scatter": [
           {
            "marker": {
             "colorbar": {
              "outlinewidth": 0,
              "ticks": ""
             }
            },
            "type": "scatter"
           }
          ],
          "scatter3d": [
           {
            "line": {
             "colorbar": {
              "outlinewidth": 0,
              "ticks": ""
             }
            },
            "marker": {
             "colorbar": {
              "outlinewidth": 0,
              "ticks": ""
             }
            },
            "type": "scatter3d"
           }
          ],
          "scattercarpet": [
           {
            "marker": {
             "colorbar": {
              "outlinewidth": 0,
              "ticks": ""
             }
            },
            "type": "scattercarpet"
           }
          ],
          "scattergeo": [
           {
            "marker": {
             "colorbar": {
              "outlinewidth": 0,
              "ticks": ""
             }
            },
            "type": "scattergeo"
           }
          ],
          "scattergl": [
           {
            "marker": {
             "colorbar": {
              "outlinewidth": 0,
              "ticks": ""
             }
            },
            "type": "scattergl"
           }
          ],
          "scattermapbox": [
           {
            "marker": {
             "colorbar": {
              "outlinewidth": 0,
              "ticks": ""
             }
            },
            "type": "scattermapbox"
           }
          ],
          "scatterpolar": [
           {
            "marker": {
             "colorbar": {
              "outlinewidth": 0,
              "ticks": ""
             }
            },
            "type": "scatterpolar"
           }
          ],
          "scatterpolargl": [
           {
            "marker": {
             "colorbar": {
              "outlinewidth": 0,
              "ticks": ""
             }
            },
            "type": "scatterpolargl"
           }
          ],
          "scatterternary": [
           {
            "marker": {
             "colorbar": {
              "outlinewidth": 0,
              "ticks": ""
             }
            },
            "type": "scatterternary"
           }
          ],
          "surface": [
           {
            "colorbar": {
             "outlinewidth": 0,
             "ticks": ""
            },
            "colorscale": [
             [
              0,
              "#0d0887"
             ],
             [
              0.1111111111111111,
              "#46039f"
             ],
             [
              0.2222222222222222,
              "#7201a8"
             ],
             [
              0.3333333333333333,
              "#9c179e"
             ],
             [
              0.4444444444444444,
              "#bd3786"
             ],
             [
              0.5555555555555556,
              "#d8576b"
             ],
             [
              0.6666666666666666,
              "#ed7953"
             ],
             [
              0.7777777777777778,
              "#fb9f3a"
             ],
             [
              0.8888888888888888,
              "#fdca26"
             ],
             [
              1,
              "#f0f921"
             ]
            ],
            "type": "surface"
           }
          ],
          "table": [
           {
            "cells": {
             "fill": {
              "color": "#EBF0F8"
             },
             "line": {
              "color": "white"
             }
            },
            "header": {
             "fill": {
              "color": "#C8D4E3"
             },
             "line": {
              "color": "white"
             }
            },
            "type": "table"
           }
          ]
         },
         "layout": {
          "annotationdefaults": {
           "arrowcolor": "#2a3f5f",
           "arrowhead": 0,
           "arrowwidth": 1
          },
          "coloraxis": {
           "colorbar": {
            "outlinewidth": 0,
            "ticks": ""
           }
          },
          "colorscale": {
           "diverging": [
            [
             0,
             "#8e0152"
            ],
            [
             0.1,
             "#c51b7d"
            ],
            [
             0.2,
             "#de77ae"
            ],
            [
             0.3,
             "#f1b6da"
            ],
            [
             0.4,
             "#fde0ef"
            ],
            [
             0.5,
             "#f7f7f7"
            ],
            [
             0.6,
             "#e6f5d0"
            ],
            [
             0.7,
             "#b8e186"
            ],
            [
             0.8,
             "#7fbc41"
            ],
            [
             0.9,
             "#4d9221"
            ],
            [
             1,
             "#276419"
            ]
           ],
           "sequential": [
            [
             0,
             "#0d0887"
            ],
            [
             0.1111111111111111,
             "#46039f"
            ],
            [
             0.2222222222222222,
             "#7201a8"
            ],
            [
             0.3333333333333333,
             "#9c179e"
            ],
            [
             0.4444444444444444,
             "#bd3786"
            ],
            [
             0.5555555555555556,
             "#d8576b"
            ],
            [
             0.6666666666666666,
             "#ed7953"
            ],
            [
             0.7777777777777778,
             "#fb9f3a"
            ],
            [
             0.8888888888888888,
             "#fdca26"
            ],
            [
             1,
             "#f0f921"
            ]
           ],
           "sequentialminus": [
            [
             0,
             "#0d0887"
            ],
            [
             0.1111111111111111,
             "#46039f"
            ],
            [
             0.2222222222222222,
             "#7201a8"
            ],
            [
             0.3333333333333333,
             "#9c179e"
            ],
            [
             0.4444444444444444,
             "#bd3786"
            ],
            [
             0.5555555555555556,
             "#d8576b"
            ],
            [
             0.6666666666666666,
             "#ed7953"
            ],
            [
             0.7777777777777778,
             "#fb9f3a"
            ],
            [
             0.8888888888888888,
             "#fdca26"
            ],
            [
             1,
             "#f0f921"
            ]
           ]
          },
          "colorway": [
           "#636efa",
           "#EF553B",
           "#00cc96",
           "#ab63fa",
           "#FFA15A",
           "#19d3f3",
           "#FF6692",
           "#B6E880",
           "#FF97FF",
           "#FECB52"
          ],
          "font": {
           "color": "#2a3f5f"
          },
          "geo": {
           "bgcolor": "white",
           "lakecolor": "white",
           "landcolor": "#E5ECF6",
           "showlakes": true,
           "showland": true,
           "subunitcolor": "white"
          },
          "hoverlabel": {
           "align": "left"
          },
          "hovermode": "closest",
          "mapbox": {
           "style": "light"
          },
          "paper_bgcolor": "white",
          "plot_bgcolor": "#E5ECF6",
          "polar": {
           "angularaxis": {
            "gridcolor": "white",
            "linecolor": "white",
            "ticks": ""
           },
           "bgcolor": "#E5ECF6",
           "radialaxis": {
            "gridcolor": "white",
            "linecolor": "white",
            "ticks": ""
           }
          },
          "scene": {
           "xaxis": {
            "backgroundcolor": "#E5ECF6",
            "gridcolor": "white",
            "gridwidth": 2,
            "linecolor": "white",
            "showbackground": true,
            "ticks": "",
            "zerolinecolor": "white"
           },
           "yaxis": {
            "backgroundcolor": "#E5ECF6",
            "gridcolor": "white",
            "gridwidth": 2,
            "linecolor": "white",
            "showbackground": true,
            "ticks": "",
            "zerolinecolor": "white"
           },
           "zaxis": {
            "backgroundcolor": "#E5ECF6",
            "gridcolor": "white",
            "gridwidth": 2,
            "linecolor": "white",
            "showbackground": true,
            "ticks": "",
            "zerolinecolor": "white"
           }
          },
          "shapedefaults": {
           "line": {
            "color": "#2a3f5f"
           }
          },
          "ternary": {
           "aaxis": {
            "gridcolor": "white",
            "linecolor": "white",
            "ticks": ""
           },
           "baxis": {
            "gridcolor": "white",
            "linecolor": "white",
            "ticks": ""
           },
           "bgcolor": "#E5ECF6",
           "caxis": {
            "gridcolor": "white",
            "linecolor": "white",
            "ticks": ""
           }
          },
          "title": {
           "x": 0.05
          },
          "xaxis": {
           "automargin": true,
           "gridcolor": "white",
           "linecolor": "white",
           "ticks": "",
           "title": {
            "standoff": 15
           },
           "zerolinecolor": "white",
           "zerolinewidth": 2
          },
          "yaxis": {
           "automargin": true,
           "gridcolor": "white",
           "linecolor": "white",
           "ticks": "",
           "title": {
            "standoff": 15
           },
           "zerolinecolor": "white",
           "zerolinewidth": 2
          }
         }
        },
        "title": {
         "text": "Moyenne des tarifs par lieu d'embarquement",
         "x": 0.5,
         "xanchor": "center",
         "y": 0.9,
         "yanchor": "top"
        },
        "xaxis": {
         "anchor": "y",
         "domain": [
          0,
          1
         ],
         "title": {
          "text": "x"
         }
        },
        "yaxis": {
         "anchor": "x",
         "domain": [
          0,
          1
         ],
         "title": {
          "text": "y"
         }
        }
       }
      }
     },
     "metadata": {}
    }
   ],
   "source": [
    "title = \"Moyenne des tarifs par lieu d'embarquement\"\n",
    "\n",
    "fig7 = px.bar(a, x = legend_embarked(a.index), y = a.values, title = {'text' : title, 'y':0.9, 'x':0.5, 'xanchor': 'center', 'yanchor': 'top'})\n",
    "fig7.show()"
   ]
  },
  {
   "cell_type": "code",
   "execution_count": 143,
   "metadata": {},
   "outputs": [
    {
     "output_type": "execute_result",
     "data": {
      "text/plain": "<matplotlib.collections.PathCollection at 0x22e059a3348>"
     },
     "metadata": {},
     "execution_count": 143
    },
    {
     "output_type": "display_data",
     "data": {
      "text/plain": "<Figure size 432x288 with 1 Axes>",
      "image/svg+xml": "<?xml version=\"1.0\" encoding=\"utf-8\" standalone=\"no\"?>\r\n<!DOCTYPE svg PUBLIC \"-//W3C//DTD SVG 1.1//EN\"\r\n  \"http://www.w3.org/Graphics/SVG/1.1/DTD/svg11.dtd\">\r\n<!-- Created with matplotlib (https://matplotlib.org/) -->\r\n<svg height=\"248.518125pt\" version=\"1.1\" viewBox=\"0 0 368.925 248.518125\" width=\"368.925pt\" xmlns=\"http://www.w3.org/2000/svg\" xmlns:xlink=\"http://www.w3.org/1999/xlink\">\r\n <defs>\r\n  <style type=\"text/css\">\r\n*{stroke-linecap:butt;stroke-linejoin:round;}\r\n  </style>\r\n </defs>\r\n <g id=\"figure_1\">\r\n  <g id=\"patch_1\">\r\n   <path d=\"M -0 248.518125 \r\nL 368.925 248.518125 \r\nL 368.925 0 \r\nL -0 0 \r\nz\r\n\" style=\"fill:none;\"/>\r\n  </g>\r\n  <g id=\"axes_1\">\r\n   <g id=\"patch_2\">\r\n    <path d=\"M 26.925 224.64 \r\nL 361.725 224.64 \r\nL 361.725 7.2 \r\nL 26.925 7.2 \r\nz\r\n\" style=\"fill:#ffffff;\"/>\r\n   </g>\r\n   <g id=\"PathCollection_1\">\r\n    <defs>\r\n     <path d=\"M 0 3 \r\nC 0.795609 3 1.55874 2.683901 2.12132 2.12132 \r\nC 2.683901 1.55874 3 0.795609 3 0 \r\nC 3 -0.795609 2.683901 -1.55874 2.12132 -2.12132 \r\nC 1.55874 -2.683901 0.795609 -3 0 -3 \r\nC -0.795609 -3 -1.55874 -2.683901 -2.12132 -2.12132 \r\nC -2.683901 -1.55874 -3 -0.795609 -3 0 \r\nC -3 0.795609 -2.683901 1.55874 -2.12132 2.12132 \r\nC -1.55874 2.683901 -0.795609 3 0 3 \r\nz\r\n\" id=\"C0_0_0a42719704\"/>\r\n    </defs>\r\n    <g clip-path=\"url(#p2652fecc80)\">\r\n     <use style=\"fill:#7f3b08;stroke:#7f3b08;\" x=\"46.455422\" xlink:href=\"#C0_0_0a42719704\" y=\"161.137048\"/>\r\n    </g>\r\n    <g clip-path=\"url(#p2652fecc80)\">\r\n     <use style=\"fill:#2d004b;stroke:#2d004b;\" x=\"84.494882\" xlink:href=\"#C0_0_0a42719704\" y=\"121.407626\"/>\r\n    </g>\r\n    <g clip-path=\"url(#p2652fecc80)\">\r\n     <use style=\"fill:#2d004b;stroke:#2d004b;\" x=\"46.85641\" xlink:href=\"#C0_0_0a42719704\" y=\"151.204692\"/>\r\n    </g>\r\n    <g clip-path=\"url(#p2652fecc80)\">\r\n     <use style=\"fill:#2d004b;stroke:#2d004b;\" x=\"73.692957\" xlink:href=\"#C0_0_0a42719704\" y=\"128.856893\"/>\r\n    </g>\r\n    <g clip-path=\"url(#p2652fecc80)\">\r\n     <use style=\"fill:#7f3b08;stroke:#7f3b08;\" x=\"46.930668\" xlink:href=\"#C0_0_0a42719704\" y=\"128.856893\"/>\r\n    </g>\r\n    <g clip-path=\"url(#p2652fecc80)\">\r\n     <use style=\"fill:#7f3b08;stroke:#7f3b08;\" x=\"47.173221\" xlink:href=\"#C0_0_0a42719704\" y=\"142.019455\"/>\r\n    </g>\r\n    <g clip-path=\"url(#p2652fecc80)\">\r\n     <use style=\"fill:#7f3b08;stroke:#7f3b08;\" x=\"72.957811\" xlink:href=\"#C0_0_0a42719704\" y=\"81.678205\"/>\r\n    </g>\r\n    <g clip-path=\"url(#p2652fecc80)\">\r\n     <use style=\"fill:#7f3b08;stroke:#7f3b08;\" x=\"54.668266\" xlink:href=\"#C0_0_0a42719704\" y=\"210.798824\"/>\r\n    </g>\r\n    <g clip-path=\"url(#p2652fecc80)\">\r\n     <use style=\"fill:#2d004b;stroke:#2d004b;\" x=\"48.762325\" xlink:href=\"#C0_0_0a42719704\" y=\"148.721603\"/>\r\n    </g>\r\n    <g clip-path=\"url(#p2652fecc80)\">\r\n     <use style=\"fill:#2d004b;stroke:#2d004b;\" x=\"60.012288\" xlink:href=\"#C0_0_0a42719704\" y=\"181.001758\"/>\r\n    </g>\r\n    <g clip-path=\"url(#p2652fecc80)\">\r\n     <use style=\"fill:#2d004b;stroke:#2d004b;\" x=\"52.069265\" xlink:href=\"#C0_0_0a42719704\" y=\"205.832647\"/>\r\n    </g>\r\n    <g clip-path=\"url(#p2652fecc80)\">\r\n     <use style=\"fill:#2d004b;stroke:#2d004b;\" x=\"57.920731\" xlink:href=\"#C0_0_0a42719704\" y=\"71.74585\"/>\r\n    </g>\r\n    <g clip-path=\"url(#p2652fecc80)\">\r\n     <use style=\"fill:#7f3b08;stroke:#7f3b08;\" x=\"46.930668\" xlink:href=\"#C0_0_0a42719704\" y=\"166.103225\"/>\r\n    </g>\r\n    <g clip-path=\"url(#p2652fecc80)\">\r\n     <use style=\"fill:#7f3b08;stroke:#7f3b08;\" x=\"60.727652\" xlink:href=\"#C0_0_0a42719704\" y=\"118.924537\"/>\r\n    </g>\r\n    <g clip-path=\"url(#p2652fecc80)\">\r\n     <use style=\"fill:#7f3b08;stroke:#7f3b08;\" x=\"46.814351\" xlink:href=\"#C0_0_0a42719704\" y=\"181.001758\"/>\r\n    </g>\r\n    <g clip-path=\"url(#p2652fecc80)\">\r\n     <use style=\"fill:#2d004b;stroke:#2d004b;\" x=\"51.653424\" xlink:href=\"#C0_0_0a42719704\" y=\"79.195116\"/>\r\n    </g>\r\n    <g clip-path=\"url(#p2652fecc80)\">\r\n     <use style=\"fill:#7f3b08;stroke:#7f3b08;\" x=\"59.450429\" xlink:href=\"#C0_0_0a42719704\" y=\"210.798824\"/>\r\n    </g>\r\n    <g clip-path=\"url(#p2652fecc80)\">\r\n     <use style=\"fill:#2d004b;stroke:#2d004b;\" x=\"49.871252\" xlink:href=\"#C0_0_0a42719704\" y=\"142.019455\"/>\r\n    </g>\r\n    <g clip-path=\"url(#p2652fecc80)\">\r\n     <use style=\"fill:#7f3b08;stroke:#7f3b08;\" x=\"52.841539\" xlink:href=\"#C0_0_0a42719704\" y=\"138.789248\"/>\r\n    </g>\r\n    <g clip-path=\"url(#p2652fecc80)\">\r\n     <use style=\"fill:#2d004b;stroke:#2d004b;\" x=\"46.44057\" xlink:href=\"#C0_0_0a42719704\" y=\"142.019455\"/>\r\n    </g>\r\n    <g clip-path=\"url(#p2652fecc80)\">\r\n     <use style=\"fill:#7f3b08;stroke:#7f3b08;\" x=\"57.593999\" xlink:href=\"#C0_0_0a42719704\" y=\"128.856893\"/>\r\n    </g>\r\n    <g clip-path=\"url(#p2652fecc80)\">\r\n     <use style=\"fill:#2d004b;stroke:#2d004b;\" x=\"49.871252\" xlink:href=\"#C0_0_0a42719704\" y=\"131.339982\"/>\r\n    </g>\r\n    <g clip-path=\"url(#p2652fecc80)\">\r\n     <use style=\"fill:#2d004b;stroke:#2d004b;\" x=\"46.918311\" xlink:href=\"#C0_0_0a42719704\" y=\"178.518669\"/>\r\n    </g>\r\n    <g clip-path=\"url(#p2652fecc80)\">\r\n     <use style=\"fill:#2d004b;stroke:#2d004b;\" x=\"63.237545\" xlink:href=\"#C0_0_0a42719704\" y=\"146.238515\"/>\r\n    </g>\r\n    <g clip-path=\"url(#p2652fecc80)\">\r\n     <use style=\"fill:#7f3b08;stroke:#7f3b08;\" x=\"54.668266\" xlink:href=\"#C0_0_0a42719704\" y=\"195.900291\"/>\r\n    </g>\r\n    <g clip-path=\"url(#p2652fecc80)\">\r\n     <use style=\"fill:#2d004b;stroke:#2d004b;\" x=\"60.794484\" xlink:href=\"#C0_0_0a42719704\" y=\"121.407626\"/>\r\n    </g>\r\n    <g clip-path=\"url(#p2652fecc80)\">\r\n     <use style=\"fill:#7f3b08;stroke:#7f3b08;\" x=\"46.44057\" xlink:href=\"#C0_0_0a42719704\" y=\"142.019455\"/>\r\n    </g>\r\n    <g clip-path=\"url(#p2652fecc80)\">\r\n     <use style=\"fill:#7f3b08;stroke:#7f3b08;\" x=\"198.38562\" xlink:href=\"#C0_0_0a42719704\" y=\"168.586314\"/>\r\n    </g>\r\n    <g clip-path=\"url(#p2652fecc80)\">\r\n     <use style=\"fill:#2d004b;stroke:#2d004b;\" x=\"46.829203\" xlink:href=\"#C0_0_0a42719704\" y=\"142.019455\"/>\r\n    </g>\r\n    <g clip-path=\"url(#p2652fecc80)\">\r\n     <use style=\"fill:#7f3b08;stroke:#7f3b08;\" x=\"46.839064\" xlink:href=\"#C0_0_0a42719704\" y=\"142.019455\"/>\r\n    </g>\r\n    <g clip-path=\"url(#p2652fecc80)\">\r\n     <use style=\"fill:#7f3b08;stroke:#7f3b08;\" x=\"58.616253\" xlink:href=\"#C0_0_0a42719704\" y=\"116.441449\"/>\r\n    </g>\r\n    <g clip-path=\"url(#p2652fecc80)\">\r\n     <use style=\"fill:#2d004b;stroke:#2d004b;\" x=\"129.190281\" xlink:href=\"#C0_0_0a42719704\" y=\"142.019455\"/>\r\n    </g>\r\n    <g clip-path=\"url(#p2652fecc80)\">\r\n     <use style=\"fill:#2d004b;stroke:#2d004b;\" x=\"46.75245\" xlink:href=\"#C0_0_0a42719704\" y=\"142.019455\"/>\r\n    </g>\r\n    <g clip-path=\"url(#p2652fecc80)\">\r\n     <use style=\"fill:#7f3b08;stroke:#7f3b08;\" x=\"48.386108\" xlink:href=\"#C0_0_0a42719704\" y=\"51.881139\"/>\r\n    </g>\r\n    <g clip-path=\"url(#p2652fecc80)\">\r\n     <use style=\"fill:#7f3b08;stroke:#7f3b08;\" x=\"90.962683\" xlink:href=\"#C0_0_0a42719704\" y=\"146.238515\"/>\r\n    </g>\r\n    <g clip-path=\"url(#p2652fecc80)\">\r\n     <use style=\"fill:#7f3b08;stroke:#7f3b08;\" x=\"73.039494\" xlink:href=\"#C0_0_0a42719704\" y=\"111.475271\"/>\r\n    </g>\r\n    <g clip-path=\"url(#p2652fecc80)\">\r\n     <use style=\"fill:#2d004b;stroke:#2d004b;\" x=\"46.443065\" xlink:href=\"#C0_0_0a42719704\" y=\"142.019455\"/>\r\n    </g>\r\n    <g clip-path=\"url(#p2652fecc80)\">\r\n     <use style=\"fill:#7f3b08;stroke:#7f3b08;\" x=\"46.930668\" xlink:href=\"#C0_0_0a42719704\" y=\"163.620136\"/>\r\n    </g>\r\n    <g clip-path=\"url(#p2652fecc80)\">\r\n     <use style=\"fill:#7f3b08;stroke:#7f3b08;\" x=\"52.841539\" xlink:href=\"#C0_0_0a42719704\" y=\"171.069403\"/>\r\n    </g>\r\n    <g clip-path=\"url(#p2652fecc80)\">\r\n     <use style=\"fill:#2d004b;stroke:#2d004b;\" x=\"48.826721\" xlink:href=\"#C0_0_0a42719704\" y=\"181.001758\"/>\r\n    </g>\r\n    <g clip-path=\"url(#p2652fecc80)\">\r\n     <use style=\"fill:#7f3b08;stroke:#7f3b08;\" x=\"47.777199\" xlink:href=\"#C0_0_0a42719704\" y=\"116.441449\"/>\r\n    </g>\r\n    <g clip-path=\"url(#p2652fecc80)\">\r\n     <use style=\"fill:#7f3b08;stroke:#7f3b08;\" x=\"54.623712\" xlink:href=\"#C0_0_0a42719704\" y=\"148.721603\"/>\r\n    </g>\r\n    <g clip-path=\"url(#p2652fecc80)\">\r\n     <use style=\"fill:#7f3b08;stroke:#7f3b08;\" x=\"46.839064\" xlink:href=\"#C0_0_0a42719704\" y=\"142.019455\"/>\r\n    </g>\r\n    <g clip-path=\"url(#p2652fecc80)\">\r\n     <use style=\"fill:#2d004b;stroke:#2d004b;\" x=\"66.848939\" xlink:href=\"#C0_0_0a42719704\" y=\"208.315735\"/>\r\n    </g>\r\n    <g clip-path=\"url(#p2652fecc80)\">\r\n     <use style=\"fill:#2d004b;stroke:#2d004b;\" x=\"46.829203\" xlink:href=\"#C0_0_0a42719704\" y=\"168.586314\"/>\r\n    </g>\r\n    <g clip-path=\"url(#p2652fecc80)\">\r\n     <use style=\"fill:#7f3b08;stroke:#7f3b08;\" x=\"46.930668\" xlink:href=\"#C0_0_0a42719704\" y=\"142.019455\"/>\r\n    </g>\r\n    <g clip-path=\"url(#p2652fecc80)\">\r\n     <use style=\"fill:#7f3b08;stroke:#7f3b08;\" x=\"51.356396\" xlink:href=\"#C0_0_0a42719704\" y=\"142.019455\"/>\r\n    </g>\r\n    <g clip-path=\"url(#p2652fecc80)\">\r\n     <use style=\"fill:#2d004b;stroke:#2d004b;\" x=\"46.75245\" xlink:href=\"#C0_0_0a42719704\" y=\"142.019455\"/>\r\n    </g>\r\n    <g clip-path=\"url(#p2652fecc80)\">\r\n     <use style=\"fill:#7f3b08;stroke:#7f3b08;\" x=\"55.027196\" xlink:href=\"#C0_0_0a42719704\" y=\"142.019455\"/>\r\n    </g>\r\n    <g clip-path=\"url(#p2652fecc80)\">\r\n     <use style=\"fill:#7f3b08;stroke:#7f3b08;\" x=\"52.722728\" xlink:href=\"#C0_0_0a42719704\" y=\"171.069403\"/>\r\n    </g>\r\n    <g clip-path=\"url(#p2652fecc80)\">\r\n     <use style=\"fill:#7f3b08;stroke:#7f3b08;\" x=\"65.725161\" xlink:href=\"#C0_0_0a42719704\" y=\"198.38338\"/>\r\n    </g>\r\n    <g clip-path=\"url(#p2652fecc80)\">\r\n     <use style=\"fill:#7f3b08;stroke:#7f3b08;\" x=\"46.782153\" xlink:href=\"#C0_0_0a42719704\" y=\"163.620136\"/>\r\n    </g>\r\n    <g clip-path=\"url(#p2652fecc80)\">\r\n     <use style=\"fill:#2d004b;stroke:#2d004b;\" x=\"87.73006\" xlink:href=\"#C0_0_0a42719704\" y=\"94.093649\"/>\r\n    </g>\r\n    <g clip-path=\"url(#p2652fecc80)\">\r\n     <use style=\"fill:#2d004b;stroke:#2d004b;\" x=\"57.593999\" xlink:href=\"#C0_0_0a42719704\" y=\"143.755426\"/>\r\n    </g>\r\n    <g clip-path=\"url(#p2652fecc80)\">\r\n     <use style=\"fill:#7f3b08;stroke:#7f3b08;\" x=\"78.967712\" xlink:href=\"#C0_0_0a42719704\" y=\"54.364228\"/>\r\n    </g>\r\n    <g clip-path=\"url(#p2652fecc80)\">\r\n     <use style=\"fill:#2d004b;stroke:#2d004b;\" x=\"63.237545\" xlink:href=\"#C0_0_0a42719704\" y=\"142.019455\"/>\r\n    </g>\r\n    <g clip-path=\"url(#p2652fecc80)\">\r\n     <use style=\"fill:#2d004b;stroke:#2d004b;\" x=\"48.386108\" xlink:href=\"#C0_0_0a42719704\" y=\"163.620136\"/>\r\n    </g>\r\n    <g clip-path=\"url(#p2652fecc80)\">\r\n     <use style=\"fill:#7f3b08;stroke:#7f3b08;\" x=\"46.443065\" xlink:href=\"#C0_0_0a42719704\" y=\"144.99697\"/>\r\n    </g>\r\n    <g clip-path=\"url(#p2652fecc80)\">\r\n     <use style=\"fill:#2d004b;stroke:#2d004b;\" x=\"58.6336\" xlink:href=\"#C0_0_0a42719704\" y=\"203.349558\"/>\r\n    </g>\r\n    <g clip-path=\"url(#p2652fecc80)\">\r\n     <use style=\"fill:#7f3b08;stroke:#7f3b08;\" x=\"70.0098\" xlink:href=\"#C0_0_0a42719704\" y=\"188.451025\"/>\r\n    </g>\r\n    <g clip-path=\"url(#p2652fecc80)\">\r\n     <use style=\"fill:#7f3b08;stroke:#7f3b08;\" x=\"46.443065\" xlink:href=\"#C0_0_0a42719704\" y=\"161.137048\"/>\r\n    </g>\r\n    <g clip-path=\"url(#p2652fecc80)\">\r\n     <use style=\"fill:#7f3b08;stroke:#7f3b08;\" x=\"91.737453\" xlink:href=\"#C0_0_0a42719704\" y=\"104.026004\"/>\r\n    </g>\r\n    <g clip-path=\"url(#p2652fecc80)\">\r\n     <use style=\"fill:#7f3b08;stroke:#7f3b08;\" x=\"58.722708\" xlink:href=\"#C0_0_0a42719704\" y=\"205.832647\"/>\r\n    </g>\r\n    <g clip-path=\"url(#p2652fecc80)\">\r\n     <use style=\"fill:#7f3b08;stroke:#7f3b08;\" x=\"58.616253\" xlink:href=\"#C0_0_0a42719704\" y=\"142.019455\"/>\r\n    </g>\r\n    <g clip-path=\"url(#p2652fecc80)\">\r\n     <use style=\"fill:#2d004b;stroke:#2d004b;\" x=\"51.205386\" xlink:href=\"#C0_0_0a42719704\" y=\"142.019455\"/>\r\n    </g>\r\n    <g clip-path=\"url(#p2652fecc80)\">\r\n     <use style=\"fill:#2d004b;stroke:#2d004b;\" x=\"48.386108\" xlink:href=\"#C0_0_0a42719704\" y=\"143.755426\"/>\r\n    </g>\r\n    <g clip-path=\"url(#p2652fecc80)\">\r\n     <use style=\"fill:#7f3b08;stroke:#7f3b08;\" x=\"46.995004\" xlink:href=\"#C0_0_0a42719704\" y=\"168.586314\"/>\r\n    </g>\r\n    <g clip-path=\"url(#p2652fecc80)\">\r\n     <use style=\"fill:#2d004b;stroke:#2d004b;\" x=\"46.85641\" xlink:href=\"#C0_0_0a42719704\" y=\"173.552492\"/>\r\n    </g>\r\n    <g clip-path=\"url(#p2652fecc80)\">\r\n     <use style=\"fill:#7f3b08;stroke:#7f3b08;\" x=\"47.294528\" xlink:href=\"#C0_0_0a42719704\" y=\"151.204692\"/>\r\n    </g>\r\n    <g clip-path=\"url(#p2652fecc80)\">\r\n     <use style=\"fill:#7f3b08;stroke:#7f3b08;\" x=\"48.386108\" xlink:href=\"#C0_0_0a42719704\" y=\"136.306159\"/>\r\n    </g>\r\n    <g clip-path=\"url(#p2652fecc80)\">\r\n     <use style=\"fill:#7f3b08;stroke:#7f3b08;\" x=\"70.0098\" xlink:href=\"#C0_0_0a42719704\" y=\"176.035581\"/>\r\n    </g>\r\n    <g clip-path=\"url(#p2652fecc80)\">\r\n     <use style=\"fill:#7f3b08;stroke:#7f3b08;\" x=\"85.811729\" xlink:href=\"#C0_0_0a42719704\" y=\"163.620136\"/>\r\n    </g>\r\n    <g clip-path=\"url(#p2652fecc80)\">\r\n     <use style=\"fill:#7f3b08;stroke:#7f3b08;\" x=\"50.73513\" xlink:href=\"#C0_0_0a42719704\" y=\"151.204692\"/>\r\n    </g>\r\n    <g clip-path=\"url(#p2652fecc80)\">\r\n     <use style=\"fill:#2d004b;stroke:#2d004b;\" x=\"75.710257\" xlink:href=\"#C0_0_0a42719704\" y=\"136.306159\"/>\r\n    </g>\r\n    <g clip-path=\"url(#p2652fecc80)\">\r\n     <use style=\"fill:#7f3b08;stroke:#7f3b08;\" x=\"46.693045\" xlink:href=\"#C0_0_0a42719704\" y=\"153.687781\"/>\r\n    </g>\r\n    <g clip-path=\"url(#p2652fecc80)\">\r\n     <use style=\"fill:#7f3b08;stroke:#7f3b08;\" x=\"46.839064\" xlink:href=\"#C0_0_0a42719704\" y=\"142.019455\"/>\r\n    </g>\r\n    <g clip-path=\"url(#p2652fecc80)\">\r\n     <use style=\"fill:#7f3b08;stroke:#7f3b08;\" x=\"46.930668\" xlink:href=\"#C0_0_0a42719704\" y=\"142.019455\"/>\r\n    </g>\r\n    <g clip-path=\"url(#p2652fecc80)\">\r\n     <use style=\"fill:#2d004b;stroke:#2d004b;\" x=\"59.376172\" xlink:href=\"#C0_0_0a42719704\" y=\"213.704038\"/>\r\n    </g>\r\n    <g clip-path=\"url(#p2652fecc80)\">\r\n     <use style=\"fill:#2d004b;stroke:#2d004b;\" x=\"49.559372\" xlink:href=\"#C0_0_0a42719704\" y=\"141.272337\"/>\r\n    </g>\r\n    <g clip-path=\"url(#p2652fecc80)\">\r\n     <use style=\"fill:#7f3b08;stroke:#7f3b08;\" x=\"47.495022\" xlink:href=\"#C0_0_0a42719704\" y=\"161.137048\"/>\r\n    </g>\r\n    <g clip-path=\"url(#p2652fecc80)\">\r\n     <use style=\"fill:#2d004b;stroke:#2d004b;\" x=\"47.792051\" xlink:href=\"#C0_0_0a42719704\" y=\"143.755426\"/>\r\n    </g>\r\n    <g clip-path=\"url(#p2652fecc80)\">\r\n     <use style=\"fill:#2d004b;stroke:#2d004b;\" x=\"46.774727\" xlink:href=\"#C0_0_0a42719704\" y=\"142.019455\"/>\r\n    </g>\r\n    <g clip-path=\"url(#p2652fecc80)\">\r\n     <use style=\"fill:#7f3b08;stroke:#7f3b08;\" x=\"70.128612\" xlink:href=\"#C0_0_0a42719704\" y=\"146.238515\"/>\r\n    </g>\r\n    <g clip-path=\"url(#p2652fecc80)\">\r\n     <use style=\"fill:#2d004b;stroke:#2d004b;\" x=\"48.386108\" xlink:href=\"#C0_0_0a42719704\" y=\"173.552492\"/>\r\n    </g>\r\n    <g clip-path=\"url(#p2652fecc80)\">\r\n     <use style=\"fill:#2d004b;stroke:#2d004b;\" x=\"51.564316\" xlink:href=\"#C0_0_0a42719704\" y=\"133.82307\"/>\r\n    </g>\r\n    <g clip-path=\"url(#p2652fecc80)\">\r\n     <use style=\"fill:#7f3b08;stroke:#7f3b08;\" x=\"62.569231\" xlink:href=\"#C0_0_0a42719704\" y=\"176.035581\"/>\r\n    </g>\r\n    <g clip-path=\"url(#p2652fecc80)\">\r\n     <use style=\"fill:#7f3b08;stroke:#7f3b08;\" x=\"46.930668\" xlink:href=\"#C0_0_0a42719704\" y=\"142.019455\"/>\r\n    </g>\r\n    <g clip-path=\"url(#p2652fecc80)\">\r\n     <use style=\"fill:#2d004b;stroke:#2d004b;\" x=\"198.38562\" xlink:href=\"#C0_0_0a42719704\" y=\"158.653959\"/>\r\n    </g>\r\n    <g clip-path=\"url(#p2652fecc80)\">\r\n     <use style=\"fill:#7f3b08;stroke:#7f3b08;\" x=\"46.930668\" xlink:href=\"#C0_0_0a42719704\" y=\"156.17087\"/>\r\n    </g>\r\n    <g clip-path=\"url(#p2652fecc80)\">\r\n     <use style=\"fill:#7f3b08;stroke:#7f3b08;\" x=\"46.930668\" xlink:href=\"#C0_0_0a42719704\" y=\"143.755426\"/>\r\n    </g>\r\n    <g clip-path=\"url(#p2652fecc80)\">\r\n     <use style=\"fill:#7f3b08;stroke:#7f3b08;\" x=\"46.814351\" xlink:href=\"#C0_0_0a42719704\" y=\"166.103225\"/>\r\n    </g>\r\n    <g clip-path=\"url(#p2652fecc80)\">\r\n     <use style=\"fill:#7f3b08;stroke:#7f3b08;\" x=\"78.489971\" xlink:href=\"#C0_0_0a42719704\" y=\"101.542916\"/>\r\n    </g>\r\n    <g clip-path=\"url(#p2652fecc80)\">\r\n     <use style=\"fill:#7f3b08;stroke:#7f3b08;\" x=\"54.371237\" xlink:href=\"#C0_0_0a42719704\" y=\"151.204692\"/>\r\n    </g>\r\n    <g clip-path=\"url(#p2652fecc80)\">\r\n     <use style=\"fill:#7f3b08;stroke:#7f3b08;\" x=\"46.455422\" xlink:href=\"#C0_0_0a42719704\" y=\"69.262761\"/>\r\n    </g>\r\n    <g clip-path=\"url(#p2652fecc80)\">\r\n     <use style=\"fill:#7f3b08;stroke:#7f3b08;\" x=\"46.930668\" xlink:href=\"#C0_0_0a42719704\" y=\"142.019455\"/>\r\n    </g>\r\n    <g clip-path=\"url(#p2652fecc80)\">\r\n     <use style=\"fill:#7f3b08;stroke:#7f3b08;\" x=\"62.735091\" xlink:href=\"#C0_0_0a42719704\" y=\"39.465695\"/>\r\n    </g>\r\n    <g clip-path=\"url(#p2652fecc80)\">\r\n     <use style=\"fill:#2d004b;stroke:#2d004b;\" x=\"79.786977\" xlink:href=\"#C0_0_0a42719704\" y=\"158.653959\"/>\r\n    </g>\r\n    <g clip-path=\"url(#p2652fecc80)\">\r\n     <use style=\"fill:#2d004b;stroke:#2d004b;\" x=\"55.811827\" xlink:href=\"#C0_0_0a42719704\" y=\"131.339982\"/>\r\n    </g>\r\n    <g clip-path=\"url(#p2652fecc80)\">\r\n     <use style=\"fill:#7f3b08;stroke:#7f3b08;\" x=\"57.593999\" xlink:href=\"#C0_0_0a42719704\" y=\"131.339982\"/>\r\n    </g>\r\n    <g clip-path=\"url(#p2652fecc80)\">\r\n     <use style=\"fill:#7f3b08;stroke:#7f3b08;\" x=\"46.839064\" xlink:href=\"#C0_0_0a42719704\" y=\"146.238515\"/>\r\n    </g>\r\n    <g clip-path=\"url(#p2652fecc80)\">\r\n     <use style=\"fill:#7f3b08;stroke:#7f3b08;\" x=\"46.839064\" xlink:href=\"#C0_0_0a42719704\" y=\"142.019455\"/>\r\n    </g>\r\n    <g clip-path=\"url(#p2652fecc80)\">\r\n     <use style=\"fill:#7f3b08;stroke:#7f3b08;\" x=\"88.061722\" xlink:href=\"#C0_0_0a42719704\" y=\"163.620136\"/>\r\n    </g>\r\n    <g clip-path=\"url(#p2652fecc80)\">\r\n     <use style=\"fill:#7f3b08;stroke:#7f3b08;\" x=\"47.289597\" xlink:href=\"#C0_0_0a42719704\" y=\"133.82307\"/>\r\n    </g>\r\n    <g clip-path=\"url(#p2652fecc80)\">\r\n     <use style=\"fill:#7f3b08;stroke:#7f3b08;\" x=\"46.85641\" xlink:href=\"#C0_0_0a42719704\" y=\"123.890715\"/>\r\n    </g>\r\n    <g clip-path=\"url(#p2652fecc80)\">\r\n     <use style=\"fill:#7f3b08;stroke:#7f3b08;\" x=\"46.839064\" xlink:href=\"#C0_0_0a42719704\" y=\"146.238515\"/>\r\n    </g>\r\n    <g clip-path=\"url(#p2652fecc80)\">\r\n     <use style=\"fill:#2d004b;stroke:#2d004b;\" x=\"46.693045\" xlink:href=\"#C0_0_0a42719704\" y=\"163.620136\"/>\r\n    </g>\r\n    <g clip-path=\"url(#p2652fecc80)\">\r\n     <use style=\"fill:#2d004b;stroke:#2d004b;\" x=\"46.767302\" xlink:href=\"#C0_0_0a42719704\" y=\"142.019455\"/>\r\n    </g>\r\n    <g clip-path=\"url(#p2652fecc80)\">\r\n     <use style=\"fill:#7f3b08;stroke:#7f3b08;\" x=\"46.839064\" xlink:href=\"#C0_0_0a42719704\" y=\"121.407626\"/>\r\n    </g>\r\n    <g clip-path=\"url(#p2652fecc80)\">\r\n     <use style=\"fill:#2d004b;stroke:#2d004b;\" x=\"56.494993\" xlink:href=\"#C0_0_0a42719704\" y=\"142.019455\"/>\r\n    </g>\r\n    <g clip-path=\"url(#p2652fecc80)\">\r\n     <use style=\"fill:#7f3b08;stroke:#7f3b08;\" x=\"73.039494\" xlink:href=\"#C0_0_0a42719704\" y=\"99.059827\"/>\r\n    </g>\r\n    <g clip-path=\"url(#p2652fecc80)\">\r\n     <use style=\"fill:#7f3b08;stroke:#7f3b08;\" x=\"50.73513\" xlink:href=\"#C0_0_0a42719704\" y=\"179.760214\"/>\r\n    </g>\r\n    <g clip-path=\"url(#p2652fecc80)\">\r\n     <use style=\"fill:#7f3b08;stroke:#7f3b08;\" x=\"46.930668\" xlink:href=\"#C0_0_0a42719704\" y=\"161.137048\"/>\r\n    </g>\r\n    <g clip-path=\"url(#p2652fecc80)\">\r\n     <use style=\"fill:#7f3b08;stroke:#7f3b08;\" x=\"47.98512\" xlink:href=\"#C0_0_0a42719704\" y=\"166.103225\"/>\r\n    </g>\r\n    <g clip-path=\"url(#p2652fecc80)\">\r\n     <use style=\"fill:#7f3b08;stroke:#7f3b08;\" x=\"50.737566\" xlink:href=\"#C0_0_0a42719704\" y=\"173.552492\"/>\r\n    </g>\r\n    <g clip-path=\"url(#p2652fecc80)\">\r\n     <use style=\"fill:#7f3b08;stroke:#7f3b08;\" x=\"46.85641\" xlink:href=\"#C0_0_0a42719704\" y=\"163.620136\"/>\r\n    </g>\r\n    <g clip-path=\"url(#p2652fecc80)\">\r\n     <use style=\"fill:#7f3b08;stroke:#7f3b08;\" x=\"46.75245\" xlink:href=\"#C0_0_0a42719704\" y=\"40.707239\"/>\r\n    </g>\r\n    <g clip-path=\"url(#p2652fecc80)\">\r\n     <use style=\"fill:#7f3b08;stroke:#7f3b08;\" x=\"54.623712\" xlink:href=\"#C0_0_0a42719704\" y=\"143.755426\"/>\r\n    </g>\r\n    <g clip-path=\"url(#p2652fecc80)\">\r\n     <use style=\"fill:#7f3b08;stroke:#7f3b08;\" x=\"189.190086\" xlink:href=\"#C0_0_0a42719704\" y=\"156.17087\"/>\r\n    </g>\r\n    <g clip-path=\"url(#p2652fecc80)\">\r\n     <use style=\"fill:#7f3b08;stroke:#7f3b08;\" x=\"60.727652\" xlink:href=\"#C0_0_0a42719704\" y=\"210.798824\"/>\r\n    </g>\r\n    <g clip-path=\"url(#p2652fecc80)\">\r\n     <use style=\"fill:#7f3b08;stroke:#7f3b08;\" x=\"85.811729\" xlink:href=\"#C0_0_0a42719704\" y=\"163.620136\"/>\r\n    </g>\r\n    <g clip-path=\"url(#p2652fecc80)\">\r\n     <use style=\"fill:#7f3b08;stroke:#7f3b08;\" x=\"46.930668\" xlink:href=\"#C0_0_0a42719704\" y=\"142.019455\"/>\r\n    </g>\r\n    <g clip-path=\"url(#p2652fecc80)\">\r\n     <use style=\"fill:#7f3b08;stroke:#7f3b08;\" x=\"60.012288\" xlink:href=\"#C0_0_0a42719704\" y=\"135.064615\"/>\r\n    </g>\r\n    <g clip-path=\"url(#p2652fecc80)\">\r\n     <use style=\"fill:#2d004b;stroke:#2d004b;\" x=\"49.871252\" xlink:href=\"#C0_0_0a42719704\" y=\"135.064615\"/>\r\n    </g>\r\n    <g clip-path=\"url(#p2652fecc80)\">\r\n     <use style=\"fill:#7f3b08;stroke:#7f3b08;\" x=\"88.061722\" xlink:href=\"#C0_0_0a42719704\" y=\"81.678205\"/>\r\n    </g>\r\n    <g clip-path=\"url(#p2652fecc80)\">\r\n     <use style=\"fill:#2d004b;stroke:#2d004b;\" x=\"48.826721\" xlink:href=\"#C0_0_0a42719704\" y=\"185.967936\"/>\r\n    </g>\r\n    <g clip-path=\"url(#p2652fecc80)\">\r\n     <use style=\"fill:#7f3b08;stroke:#7f3b08;\" x=\"46.75245\" xlink:href=\"#C0_0_0a42719704\" y=\"142.019455\"/>\r\n    </g>\r\n    <g clip-path=\"url(#p2652fecc80)\">\r\n     <use style=\"fill:#2d004b;stroke:#2d004b;\" x=\"46.391085\" xlink:href=\"#C0_0_0a42719704\" y=\"156.17087\"/>\r\n    </g>\r\n    <g clip-path=\"url(#p2652fecc80)\">\r\n     <use style=\"fill:#2d004b;stroke:#2d004b;\" x=\"55.43062\" xlink:href=\"#C0_0_0a42719704\" y=\"142.019455\"/>\r\n    </g>\r\n    <g clip-path=\"url(#p2652fecc80)\">\r\n     <use style=\"fill:#7f3b08;stroke:#7f3b08;\" x=\"46.292056\" xlink:href=\"#C0_0_0a42719704\" y=\"104.026004\"/>\r\n    </g>\r\n    <g clip-path=\"url(#p2652fecc80)\">\r\n     <use style=\"fill:#7f3b08;stroke:#7f3b08;\" x=\"46.839064\" xlink:href=\"#C0_0_0a42719704\" y=\"133.82307\"/>\r\n    </g>\r\n    <g clip-path=\"url(#p2652fecc80)\">\r\n     <use style=\"fill:#7f3b08;stroke:#7f3b08;\" x=\"46.33661\" xlink:href=\"#C0_0_0a42719704\" y=\"166.103225\"/>\r\n    </g>\r\n    <g clip-path=\"url(#p2652fecc80)\">\r\n     <use style=\"fill:#7f3b08;stroke:#7f3b08;\" x=\"50.762338\" xlink:href=\"#C0_0_0a42719704\" y=\"99.059827\"/>\r\n    </g>\r\n    <g clip-path=\"url(#p2652fecc80)\">\r\n     <use style=\"fill:#2d004b;stroke:#2d004b;\" x=\"57.593999\" xlink:href=\"#C0_0_0a42719704\" y=\"143.755426\"/>\r\n    </g>\r\n    <g clip-path=\"url(#p2652fecc80)\">\r\n     <use style=\"fill:#7f3b08;stroke:#7f3b08;\" x=\"49.871252\" xlink:href=\"#C0_0_0a42719704\" y=\"153.687781\"/>\r\n    </g>\r\n    <g clip-path=\"url(#p2652fecc80)\">\r\n     <use style=\"fill:#7f3b08;stroke:#7f3b08;\" x=\"51.086575\" xlink:href=\"#C0_0_0a42719704\" y=\"158.653959\"/>\r\n    </g>\r\n    <g clip-path=\"url(#p2652fecc80)\">\r\n     <use style=\"fill:#2d004b;stroke:#2d004b;\" x=\"57.762296\" xlink:href=\"#C0_0_0a42719704\" y=\"168.586314\"/>\r\n    </g>\r\n    <g clip-path=\"url(#p2652fecc80)\">\r\n     <use style=\"fill:#7f3b08;stroke:#7f3b08;\" x=\"73.692957\" xlink:href=\"#C0_0_0a42719704\" y=\"123.890715\"/>\r\n    </g>\r\n    <g clip-path=\"url(#p2652fecc80)\">\r\n     <use style=\"fill:#7f3b08;stroke:#7f3b08;\" x=\"47.623754\" xlink:href=\"#C0_0_0a42719704\" y=\"176.035581\"/>\r\n    </g>\r\n    <g clip-path=\"url(#p2652fecc80)\">\r\n     <use style=\"fill:#7f3b08;stroke:#7f3b08;\" x=\"89.197857\" xlink:href=\"#C0_0_0a42719704\" y=\"156.17087\"/>\r\n    </g>\r\n    <g clip-path=\"url(#p2652fecc80)\">\r\n     <use style=\"fill:#7f3b08;stroke:#7f3b08;\" x=\"51.205386\" xlink:href=\"#C0_0_0a42719704\" y=\"142.019455\"/>\r\n    </g>\r\n    <g clip-path=\"url(#p2652fecc80)\">\r\n     <use style=\"fill:#2d004b;stroke:#2d004b;\" x=\"46.75245\" xlink:href=\"#C0_0_0a42719704\" y=\"161.137048\"/>\r\n    </g>\r\n    <g clip-path=\"url(#p2652fecc80)\">\r\n     <use style=\"fill:#2d004b;stroke:#2d004b;\" x=\"51.564316\" xlink:href=\"#C0_0_0a42719704\" y=\"156.17087\"/>\r\n    </g>\r\n    <g clip-path=\"url(#p2652fecc80)\">\r\n     <use style=\"fill:#7f3b08;stroke:#7f3b08;\" x=\"46.158393\" xlink:href=\"#C0_0_0a42719704\" y=\"168.586314\"/>\r\n    </g>\r\n    <g clip-path=\"url(#p2652fecc80)\">\r\n     <use style=\"fill:#7f3b08;stroke:#7f3b08;\" x=\"48.980166\" xlink:href=\"#C0_0_0a42719704\" y=\"171.069403\"/>\r\n    </g>\r\n    <g clip-path=\"url(#p2652fecc80)\">\r\n     <use style=\"fill:#7f3b08;stroke:#7f3b08;\" x=\"63.980117\" xlink:href=\"#C0_0_0a42719704\" y=\"168.586314\"/>\r\n    </g>\r\n    <g clip-path=\"url(#p2652fecc80)\">\r\n     <use style=\"fill:#2d004b;stroke:#2d004b;\" x=\"46.779658\" xlink:href=\"#C0_0_0a42719704\" y=\"148.721603\"/>\r\n    </g>\r\n    <g clip-path=\"url(#p2652fecc80)\">\r\n     <use style=\"fill:#7f3b08;stroke:#7f3b08;\" x=\"62.569231\" xlink:href=\"#C0_0_0a42719704\" y=\"193.417202\"/>\r\n    </g>\r\n    <g clip-path=\"url(#p2652fecc80)\">\r\n     <use style=\"fill:#7f3b08;stroke:#7f3b08;\" x=\"57.593999\" xlink:href=\"#C0_0_0a42719704\" y=\"125.13226\"/>\r\n    </g>\r\n    <g clip-path=\"url(#p2652fecc80)\">\r\n     <use style=\"fill:#7f3b08;stroke:#7f3b08;\" x=\"49.871252\" xlink:href=\"#C0_0_0a42719704\" y=\"111.475271\"/>\r\n    </g>\r\n    <g clip-path=\"url(#p2652fecc80)\">\r\n     <use style=\"fill:#7f3b08;stroke:#7f3b08;\" x=\"49.589075\" xlink:href=\"#C0_0_0a42719704\" y=\"89.127471\"/>\r\n    </g>\r\n    <g clip-path=\"url(#p2652fecc80)\">\r\n     <use style=\"fill:#2d004b;stroke:#2d004b;\" x=\"81.712733\" xlink:href=\"#C0_0_0a42719704\" y=\"161.137048\"/>\r\n    </g>\r\n    <g clip-path=\"url(#p2652fecc80)\">\r\n     <use style=\"fill:#7f3b08;stroke:#7f3b08;\" x=\"46.930668\" xlink:href=\"#C0_0_0a42719704\" y=\"77.953572\"/>\r\n    </g>\r\n    <g clip-path=\"url(#p2652fecc80)\">\r\n     <use style=\"fill:#7f3b08;stroke:#7f3b08;\" x=\"50.762338\" xlink:href=\"#C0_0_0a42719704\" y=\"115.199904\"/>\r\n    </g>\r\n    <g clip-path=\"url(#p2652fecc80)\">\r\n     <use style=\"fill:#7f3b08;stroke:#7f3b08;\" x=\"46.49255\" xlink:href=\"#C0_0_0a42719704\" y=\"142.019455\"/>\r\n    </g>\r\n    <g clip-path=\"url(#p2652fecc80)\">\r\n     <use style=\"fill:#7f3b08;stroke:#7f3b08;\" x=\"78.611277\" xlink:href=\"#C0_0_0a42719704\" y=\"89.127471\"/>\r\n    </g>\r\n    <g clip-path=\"url(#p2652fecc80)\">\r\n     <use style=\"fill:#2d004b;stroke:#2d004b;\" x=\"46.74253\" xlink:href=\"#C0_0_0a42719704\" y=\"176.035581\"/>\r\n    </g>\r\n    <g clip-path=\"url(#p2652fecc80)\">\r\n     <use style=\"fill:#7f3b08;stroke:#7f3b08;\" x=\"46.930668\" xlink:href=\"#C0_0_0a42719704\" y=\"141.272337\"/>\r\n    </g>\r\n    <g clip-path=\"url(#p2652fecc80)\">\r\n     <use style=\"fill:#7f3b08;stroke:#7f3b08;\" x=\"47.294528\" xlink:href=\"#C0_0_0a42719704\" y=\"142.019455\"/>\r\n    </g>\r\n    <g clip-path=\"url(#p2652fecc80)\">\r\n     <use style=\"fill:#7f3b08;stroke:#7f3b08;\" x=\"83.465202\" xlink:href=\"#C0_0_0a42719704\" y=\"142.019455\"/>\r\n    </g>\r\n    <g clip-path=\"url(#p2652fecc80)\">\r\n     <use style=\"fill:#7f3b08;stroke:#7f3b08;\" x=\"51.71283\" xlink:href=\"#C0_0_0a42719704\" y=\"106.509093\"/>\r\n    </g>\r\n    <g clip-path=\"url(#p2652fecc80)\">\r\n     <use style=\"fill:#2d004b;stroke:#2d004b;\" x=\"51.50491\" xlink:href=\"#C0_0_0a42719704\" y=\"116.441449\"/>\r\n    </g>\r\n    <g clip-path=\"url(#p2652fecc80)\">\r\n     <use style=\"fill:#7f3b08;stroke:#7f3b08;\" x=\"46.767302\" xlink:href=\"#C0_0_0a42719704\" y=\"151.204692\"/>\r\n    </g>\r\n    <g clip-path=\"url(#p2652fecc80)\">\r\n     <use style=\"fill:#7f3b08;stroke:#7f3b08;\" x=\"47.294528\" xlink:href=\"#C0_0_0a42719704\" y=\"173.552492\"/>\r\n    </g>\r\n    <g clip-path=\"url(#p2652fecc80)\">\r\n     <use style=\"fill:#7f3b08;stroke:#7f3b08;\" x=\"65.725161\" xlink:href=\"#C0_0_0a42719704\" y=\"213.281913\"/>\r\n    </g>\r\n    <g clip-path=\"url(#p2652fecc80)\">\r\n     <use style=\"fill:#2d004b;stroke:#2d004b;\" x=\"54.341535\" xlink:href=\"#C0_0_0a42719704\" y=\"193.417202\"/>\r\n    </g>\r\n    <g clip-path=\"url(#p2652fecc80)\">\r\n     <use style=\"fill:#2d004b;stroke:#2d004b;\" x=\"74.821666\" xlink:href=\"#C0_0_0a42719704\" y=\"142.019455\"/>\r\n    </g>\r\n    <g clip-path=\"url(#p2652fecc80)\">\r\n     <use style=\"fill:#7f3b08;stroke:#7f3b08;\" x=\"58.722708\" xlink:href=\"#C0_0_0a42719704\" y=\"104.026004\"/>\r\n    </g>\r\n    <g clip-path=\"url(#p2652fecc80)\">\r\n     <use style=\"fill:#7f3b08;stroke:#7f3b08;\" x=\"57.549445\" xlink:href=\"#C0_0_0a42719704\" y=\"142.019455\"/>\r\n    </g>\r\n    <g clip-path=\"url(#p2652fecc80)\">\r\n     <use style=\"fill:#7f3b08;stroke:#7f3b08;\" x=\"75.710257\" xlink:href=\"#C0_0_0a42719704\" y=\"146.238515\"/>\r\n    </g>\r\n    <g clip-path=\"url(#p2652fecc80)\">\r\n     <use style=\"fill:#7f3b08;stroke:#7f3b08;\" x=\"62.04943\" xlink:href=\"#C0_0_0a42719704\" y=\"64.296583\"/>\r\n    </g>\r\n    <g clip-path=\"url(#p2652fecc80)\">\r\n     <use style=\"fill:#7f3b08;stroke:#7f3b08;\" x=\"59.450429\" xlink:href=\"#C0_0_0a42719704\" y=\"205.832647\"/>\r\n    </g>\r\n    <g clip-path=\"url(#p2652fecc80)\">\r\n     <use style=\"fill:#2d004b;stroke:#2d004b;\" x=\"48.762325\" xlink:href=\"#C0_0_0a42719704\" y=\"213.281913\"/>\r\n    </g>\r\n    <g clip-path=\"url(#p2652fecc80)\">\r\n     <use style=\"fill:#7f3b08;stroke:#7f3b08;\" x=\"46.85641\" xlink:href=\"#C0_0_0a42719704\" y=\"163.620136\"/>\r\n    </g>\r\n    <g clip-path=\"url(#p2652fecc80)\">\r\n     <use style=\"fill:#7f3b08;stroke:#7f3b08;\" x=\"60.383574\" xlink:href=\"#C0_0_0a42719704\" y=\"76.712027\"/>\r\n    </g>\r\n    <g clip-path=\"url(#p2652fecc80)\">\r\n     <use style=\"fill:#7f3b08;stroke:#7f3b08;\" x=\"46.814351\" xlink:href=\"#C0_0_0a42719704\" y=\"171.069403\"/>\r\n    </g>\r\n    <g clip-path=\"url(#p2652fecc80)\">\r\n     <use style=\"fill:#7f3b08;stroke:#7f3b08;\" x=\"57.277188\" xlink:href=\"#C0_0_0a42719704\" y=\"142.019455\"/>\r\n    </g>\r\n    <g clip-path=\"url(#p2652fecc80)\">\r\n     <use style=\"fill:#7f3b08;stroke:#7f3b08;\" x=\"59.20538\" xlink:href=\"#C0_0_0a42719704\" y=\"91.61056\"/>\r\n    </g>\r\n    <g clip-path=\"url(#p2652fecc80)\">\r\n     <use style=\"fill:#7f3b08;stroke:#7f3b08;\" x=\"49.871252\" xlink:href=\"#C0_0_0a42719704\" y=\"141.272337\"/>\r\n    </g>\r\n    <g clip-path=\"url(#p2652fecc80)\">\r\n     <use style=\"fill:#7f3b08;stroke:#7f3b08;\" x=\"42.148505\" xlink:href=\"#C0_0_0a42719704\" y=\"126.373804\"/>\r\n    </g>\r\n    <g clip-path=\"url(#p2652fecc80)\">\r\n     <use style=\"fill:#7f3b08;stroke:#7f3b08;\" x=\"83.465202\" xlink:href=\"#C0_0_0a42719704\" y=\"142.019455\"/>\r\n    </g>\r\n    <g clip-path=\"url(#p2652fecc80)\">\r\n     <use style=\"fill:#7f3b08;stroke:#7f3b08;\" x=\"51.08907\" xlink:href=\"#C0_0_0a42719704\" y=\"142.019455\"/>\r\n    </g>\r\n    <g clip-path=\"url(#p2652fecc80)\">\r\n     <use style=\"fill:#7f3b08;stroke:#7f3b08;\" x=\"60.794484\" xlink:href=\"#C0_0_0a42719704\" y=\"193.417202\"/>\r\n    </g>\r\n    <g clip-path=\"url(#p2652fecc80)\">\r\n     <use style=\"fill:#2d004b;stroke:#2d004b;\" x=\"65.316746\" xlink:href=\"#C0_0_0a42719704\" y=\"213.281913\"/>\r\n    </g>\r\n    <g clip-path=\"url(#p2652fecc80)\">\r\n     <use style=\"fill:#2d004b;stroke:#2d004b;\" x=\"55.232621\" xlink:href=\"#C0_0_0a42719704\" y=\"205.832647\"/>\r\n    </g>\r\n    <g clip-path=\"url(#p2652fecc80)\">\r\n     <use style=\"fill:#7f3b08;stroke:#7f3b08;\" x=\"71.851379\" xlink:href=\"#C0_0_0a42719704\" y=\"142.019455\"/>\r\n    </g>\r\n    <g clip-path=\"url(#p2652fecc80)\">\r\n     <use style=\"fill:#2d004b;stroke:#2d004b;\" x=\"51.356396\" xlink:href=\"#C0_0_0a42719704\" y=\"142.019455\"/>\r\n    </g>\r\n    <g clip-path=\"url(#p2652fecc80)\">\r\n     <use style=\"fill:#2d004b;stroke:#2d004b;\" x=\"57.920731\" xlink:href=\"#C0_0_0a42719704\" y=\"104.026004\"/>\r\n    </g>\r\n    <g clip-path=\"url(#p2652fecc80)\">\r\n     <use style=\"fill:#7f3b08;stroke:#7f3b08;\" x=\"51.356396\" xlink:href=\"#C0_0_0a42719704\" y=\"116.441449\"/>\r\n    </g>\r\n    <g clip-path=\"url(#p2652fecc80)\">\r\n     <use style=\"fill:#7f3b08;stroke:#7f3b08;\" x=\"46.839064\" xlink:href=\"#C0_0_0a42719704\" y=\"126.373804\"/>\r\n    </g>\r\n    <g clip-path=\"url(#p2652fecc80)\">\r\n     <use style=\"fill:#2d004b;stroke:#2d004b;\" x=\"49.871252\" xlink:href=\"#C0_0_0a42719704\" y=\"136.306159\"/>\r\n    </g>\r\n    <g clip-path=\"url(#p2652fecc80)\">\r\n     <use style=\"fill:#7f3b08;stroke:#7f3b08;\" x=\"49.871252\" xlink:href=\"#C0_0_0a42719704\" y=\"168.586314\"/>\r\n    </g>\r\n    <g clip-path=\"url(#p2652fecc80)\">\r\n     <use style=\"fill:#2d004b;stroke:#2d004b;\" x=\"46.814351\" xlink:href=\"#C0_0_0a42719704\" y=\"168.586314\"/>\r\n    </g>\r\n    <g clip-path=\"url(#p2652fecc80)\">\r\n     <use style=\"fill:#2d004b;stroke:#2d004b;\" x=\"57.593999\" xlink:href=\"#C0_0_0a42719704\" y=\"208.315735\"/>\r\n    </g>\r\n    <g clip-path=\"url(#p2652fecc80)\">\r\n     <use style=\"fill:#2d004b;stroke:#2d004b;\" x=\"58.616253\" xlink:href=\"#C0_0_0a42719704\" y=\"106.509093\"/>\r\n    </g>\r\n    <g clip-path=\"url(#p2652fecc80)\">\r\n     <use style=\"fill:#2d004b;stroke:#2d004b;\" x=\"129.190281\" xlink:href=\"#C0_0_0a42719704\" y=\"71.74585\"/>\r\n    </g>\r\n    <g clip-path=\"url(#p2652fecc80)\">\r\n     <use style=\"fill:#7f3b08;stroke:#7f3b08;\" x=\"46.75245\" xlink:href=\"#C0_0_0a42719704\" y=\"142.019455\"/>\r\n    </g>\r\n    <g clip-path=\"url(#p2652fecc80)\">\r\n     <use style=\"fill:#7f3b08;stroke:#7f3b08;\" x=\"47.141083\" xlink:href=\"#C0_0_0a42719704\" y=\"111.475271\"/>\r\n    </g>\r\n    <g clip-path=\"url(#p2652fecc80)\">\r\n     <use style=\"fill:#2d004b;stroke:#2d004b;\" x=\"46.75245\" xlink:href=\"#C0_0_0a42719704\" y=\"142.019455\"/>\r\n    </g>\r\n    <g clip-path=\"url(#p2652fecc80)\">\r\n     <use style=\"fill:#7f3b08;stroke:#7f3b08;\" x=\"49.871252\" xlink:href=\"#C0_0_0a42719704\" y=\"156.17087\"/>\r\n    </g>\r\n    <g clip-path=\"url(#p2652fecc80)\">\r\n     <use style=\"fill:#7f3b08;stroke:#7f3b08;\" x=\"47.792051\" xlink:href=\"#C0_0_0a42719704\" y=\"146.238515\"/>\r\n    </g>\r\n    <g clip-path=\"url(#p2652fecc80)\">\r\n     <use style=\"fill:#7f3b08;stroke:#7f3b08;\" x=\"83.465202\" xlink:href=\"#C0_0_0a42719704\" y=\"142.019455\"/>\r\n    </g>\r\n    <g clip-path=\"url(#p2652fecc80)\">\r\n     <use style=\"fill:#7f3b08;stroke:#7f3b08;\" x=\"46.007383\" xlink:href=\"#C0_0_0a42719704\" y=\"131.339982\"/>\r\n    </g>\r\n    <g clip-path=\"url(#p2652fecc80)\">\r\n     <use style=\"fill:#7f3b08;stroke:#7f3b08;\" x=\"46.44057\" xlink:href=\"#C0_0_0a42719704\" y=\"102.78446\"/>\r\n    </g>\r\n    <g clip-path=\"url(#p2652fecc80)\">\r\n     <use style=\"fill:#2d004b;stroke:#2d004b;\" x=\"46.930668\" xlink:href=\"#C0_0_0a42719704\" y=\"171.069403\"/>\r\n    </g>\r\n    <g clip-path=\"url(#p2652fecc80)\">\r\n     <use style=\"fill:#7f3b08;stroke:#7f3b08;\" x=\"48.363831\" xlink:href=\"#C0_0_0a42719704\" y=\"210.798824\"/>\r\n    </g>\r\n    <g clip-path=\"url(#p2652fecc80)\">\r\n     <use style=\"fill:#7f3b08;stroke:#7f3b08;\" x=\"51.564316\" xlink:href=\"#C0_0_0a42719704\" y=\"136.306159\"/>\r\n    </g>\r\n    <g clip-path=\"url(#p2652fecc80)\">\r\n     <use style=\"fill:#2d004b;stroke:#2d004b;\" x=\"53.30936\" xlink:href=\"#C0_0_0a42719704\" y=\"151.204692\"/>\r\n    </g>\r\n    <g clip-path=\"url(#p2652fecc80)\">\r\n     <use style=\"fill:#2d004b;stroke:#2d004b;\" x=\"46.75245\" xlink:href=\"#C0_0_0a42719704\" y=\"176.035581\"/>\r\n    </g>\r\n    <g clip-path=\"url(#p2652fecc80)\">\r\n     <use style=\"fill:#2d004b;stroke:#2d004b;\" x=\"60.564287\" xlink:href=\"#C0_0_0a42719704\" y=\"116.441449\"/>\r\n    </g>\r\n    <g clip-path=\"url(#p2652fecc80)\">\r\n     <use style=\"fill:#7f3b08;stroke:#7f3b08;\" x=\"46.33661\" xlink:href=\"#C0_0_0a42719704\" y=\"156.17087\"/>\r\n    </g>\r\n    <g clip-path=\"url(#p2652fecc80)\">\r\n     <use style=\"fill:#2d004b;stroke:#2d004b;\" x=\"54.623712\" xlink:href=\"#C0_0_0a42719704\" y=\"128.856893\"/>\r\n    </g>\r\n    <g clip-path=\"url(#p2652fecc80)\">\r\n     <use style=\"fill:#7f3b08;stroke:#7f3b08;\" x=\"46.455422\" xlink:href=\"#C0_0_0a42719704\" y=\"161.137048\"/>\r\n    </g>\r\n    <g clip-path=\"url(#p2652fecc80)\">\r\n     <use style=\"fill:#7f3b08;stroke:#7f3b08;\" x=\"49.871252\" xlink:href=\"#C0_0_0a42719704\" y=\"141.272337\"/>\r\n    </g>\r\n    <g clip-path=\"url(#p2652fecc80)\">\r\n     <use style=\"fill:#7f3b08;stroke:#7f3b08;\" x=\"46.75245\" xlink:href=\"#C0_0_0a42719704\" y=\"142.019455\"/>\r\n    </g>\r\n    <g clip-path=\"url(#p2652fecc80)\">\r\n     <use style=\"fill:#2d004b;stroke:#2d004b;\" x=\"109.440365\" xlink:href=\"#C0_0_0a42719704\" y=\"138.789248\"/>\r\n    </g>\r\n    <g clip-path=\"url(#p2652fecc80)\">\r\n     <use style=\"fill:#2d004b;stroke:#2d004b;\" x=\"46.85641\" xlink:href=\"#C0_0_0a42719704\" y=\"148.721603\"/>\r\n    </g>\r\n    <g clip-path=\"url(#p2652fecc80)\">\r\n     <use style=\"fill:#7f3b08;stroke:#7f3b08;\" x=\"58.188057\" xlink:href=\"#C0_0_0a42719704\" y=\"111.475271\"/>\r\n    </g>\r\n    <g clip-path=\"url(#p2652fecc80)\">\r\n     <use style=\"fill:#2d004b;stroke:#2d004b;\" x=\"87.470159\" xlink:href=\"#C0_0_0a42719704\" y=\"136.306159\"/>\r\n    </g>\r\n    <g clip-path=\"url(#p2652fecc80)\">\r\n     <use style=\"fill:#7f3b08;stroke:#7f3b08;\" x=\"48.386108\" xlink:href=\"#C0_0_0a42719704\" y=\"141.272337\"/>\r\n    </g>\r\n    <g clip-path=\"url(#p2652fecc80)\">\r\n     <use style=\"fill:#2d004b;stroke:#2d004b;\" x=\"46.930668\" xlink:href=\"#C0_0_0a42719704\" y=\"176.035581\"/>\r\n    </g>\r\n    <g clip-path=\"url(#p2652fecc80)\">\r\n     <use style=\"fill:#7f3b08;stroke:#7f3b08;\" x=\"49.871252\" xlink:href=\"#C0_0_0a42719704\" y=\"148.721603\"/>\r\n    </g>\r\n    <g clip-path=\"url(#p2652fecc80)\">\r\n     <use style=\"fill:#7f3b08;stroke:#7f3b08;\" x=\"46.930668\" xlink:href=\"#C0_0_0a42719704\" y=\"89.127471\"/>\r\n    </g>\r\n    <g clip-path=\"url(#p2652fecc80)\">\r\n     <use style=\"fill:#7f3b08;stroke:#7f3b08;\" x=\"46.839064\" xlink:href=\"#C0_0_0a42719704\" y=\"142.019455\"/>\r\n    </g>\r\n    <g clip-path=\"url(#p2652fecc80)\">\r\n     <use style=\"fill:#2d004b;stroke:#2d004b;\" x=\"95.613678\" xlink:href=\"#C0_0_0a42719704\" y=\"121.407626\"/>\r\n    </g>\r\n    <g clip-path=\"url(#p2652fecc80)\">\r\n     <use style=\"fill:#7f3b08;stroke:#7f3b08;\" x=\"47.702942\" xlink:href=\"#C0_0_0a42719704\" y=\"161.137048\"/>\r\n    </g>\r\n    <g clip-path=\"url(#p2652fecc80)\">\r\n     <use style=\"fill:#2d004b;stroke:#2d004b;\" x=\"48.386108\" xlink:href=\"#C0_0_0a42719704\" y=\"168.586314\"/>\r\n    </g>\r\n    <g clip-path=\"url(#p2652fecc80)\">\r\n     <use style=\"fill:#7f3b08;stroke:#7f3b08;\" x=\"46.455422\" xlink:href=\"#C0_0_0a42719704\" y=\"164.861681\"/>\r\n    </g>\r\n    <g clip-path=\"url(#p2652fecc80)\">\r\n     <use style=\"fill:#7f3b08;stroke:#7f3b08;\" x=\"49.871252\" xlink:href=\"#C0_0_0a42719704\" y=\"171.069403\"/>\r\n    </g>\r\n    <g clip-path=\"url(#p2652fecc80)\">\r\n     <use style=\"fill:#7f3b08;stroke:#7f3b08;\" x=\"57.277188\" xlink:href=\"#C0_0_0a42719704\" y=\"142.019455\"/>\r\n    </g>\r\n    <g clip-path=\"url(#p2652fecc80)\">\r\n     <use style=\"fill:#2d004b;stroke:#2d004b;\" x=\"91.737453\" xlink:href=\"#C0_0_0a42719704\" y=\"128.856893\"/>\r\n    </g>\r\n    <g clip-path=\"url(#p2652fecc80)\">\r\n     <use style=\"fill:#7f3b08;stroke:#7f3b08;\" x=\"46.767302\" xlink:href=\"#C0_0_0a42719704\" y=\"143.755426\"/>\r\n    </g>\r\n    <g clip-path=\"url(#p2652fecc80)\">\r\n     <use style=\"fill:#7f3b08;stroke:#7f3b08;\" x=\"50.168281\" xlink:href=\"#C0_0_0a42719704\" y=\"69.262761\"/>\r\n    </g>\r\n    <g clip-path=\"url(#p2652fecc80)\">\r\n     <use style=\"fill:#2d004b;stroke:#2d004b;\" x=\"60.794484\" xlink:href=\"#C0_0_0a42719704\" y=\"203.349558\"/>\r\n    </g>\r\n    <g clip-path=\"url(#p2652fecc80)\">\r\n     <use style=\"fill:#7f3b08;stroke:#7f3b08;\" x=\"48.386108\" xlink:href=\"#C0_0_0a42719704\" y=\"156.17087\"/>\r\n    </g>\r\n    <g clip-path=\"url(#p2652fecc80)\">\r\n     <use style=\"fill:#7f3b08;stroke:#7f3b08;\" x=\"46.633639\" xlink:href=\"#C0_0_0a42719704\" y=\"142.019455\"/>\r\n    </g>\r\n    <g clip-path=\"url(#p2652fecc80)\">\r\n     <use style=\"fill:#7f3b08;stroke:#7f3b08;\" x=\"57.593999\" xlink:href=\"#C0_0_0a42719704\" y=\"106.509093\"/>\r\n    </g>\r\n    <g clip-path=\"url(#p2652fecc80)\">\r\n     <use style=\"fill:#2d004b;stroke:#2d004b;\" x=\"57.742514\" xlink:href=\"#C0_0_0a42719704\" y=\"195.900291\"/>\r\n    </g>\r\n    <g clip-path=\"url(#p2652fecc80)\">\r\n     <use style=\"fill:#7f3b08;stroke:#7f3b08;\" x=\"48.386108\" xlink:href=\"#C0_0_0a42719704\" y=\"168.586314\"/>\r\n    </g>\r\n    <g clip-path=\"url(#p2652fecc80)\">\r\n     <use style=\"fill:#7f3b08;stroke:#7f3b08;\" x=\"49.44056\" xlink:href=\"#C0_0_0a42719704\" y=\"133.82307\"/>\r\n    </g>\r\n    <g clip-path=\"url(#p2652fecc80)\">\r\n     <use style=\"fill:#7f3b08;stroke:#7f3b08;\" x=\"50.73513\" xlink:href=\"#C0_0_0a42719704\" y=\"142.019455\"/>\r\n    </g>\r\n    <g clip-path=\"url(#p2652fecc80)\">\r\n     <use style=\"fill:#2d004b;stroke:#2d004b;\" x=\"51.356396\" xlink:href=\"#C0_0_0a42719704\" y=\"142.019455\"/>\r\n    </g>\r\n    <g clip-path=\"url(#p2652fecc80)\">\r\n     <use style=\"fill:#7f3b08;stroke:#7f3b08;\" x=\"48.386108\" xlink:href=\"#C0_0_0a42719704\" y=\"143.755426\"/>\r\n    </g>\r\n    <g clip-path=\"url(#p2652fecc80)\">\r\n     <use style=\"fill:#7f3b08;stroke:#7f3b08;\" x=\"46.381164\" xlink:href=\"#C0_0_0a42719704\" y=\"161.137048\"/>\r\n    </g>\r\n    <g clip-path=\"url(#p2652fecc80)\">\r\n     <use style=\"fill:#7f3b08;stroke:#7f3b08;\" x=\"46.44057\" xlink:href=\"#C0_0_0a42719704\" y=\"141.272337\"/>\r\n    </g>\r\n    <g clip-path=\"url(#p2652fecc80)\">\r\n     <use style=\"fill:#7f3b08;stroke:#7f3b08;\" x=\"95.613678\" xlink:href=\"#C0_0_0a42719704\" y=\"106.509093\"/>\r\n    </g>\r\n    <g clip-path=\"url(#p2652fecc80)\">\r\n     <use style=\"fill:#7f3b08;stroke:#7f3b08;\" x=\"46.767302\" xlink:href=\"#C0_0_0a42719704\" y=\"153.687781\"/>\r\n    </g>\r\n    <g clip-path=\"url(#p2652fecc80)\">\r\n     <use style=\"fill:#2d004b;stroke:#2d004b;\" x=\"50.762338\" xlink:href=\"#C0_0_0a42719704\" y=\"156.17087\"/>\r\n    </g>\r\n    <g clip-path=\"url(#p2652fecc80)\">\r\n     <use style=\"fill:#2d004b;stroke:#2d004b;\" x=\"73.36872\" xlink:href=\"#C0_0_0a42719704\" y=\"123.890715\"/>\r\n    </g>\r\n    <g clip-path=\"url(#p2652fecc80)\">\r\n     <use style=\"fill:#7f3b08;stroke:#7f3b08;\" x=\"57.593999\" xlink:href=\"#C0_0_0a42719704\" y=\"81.678205\"/>\r\n    </g>\r\n    <g clip-path=\"url(#p2652fecc80)\">\r\n     <use style=\"fill:#7f3b08;stroke:#7f3b08;\" x=\"46.455422\" xlink:href=\"#C0_0_0a42719704\" y=\"142.019455\"/>\r\n    </g>\r\n    <g clip-path=\"url(#p2652fecc80)\">\r\n     <use style=\"fill:#7f3b08;stroke:#7f3b08;\" x=\"48.363831\" xlink:href=\"#C0_0_0a42719704\" y=\"143.755426\"/>\r\n    </g>\r\n    <g clip-path=\"url(#p2652fecc80)\">\r\n     <use style=\"fill:#7f3b08;stroke:#7f3b08;\" x=\"57.920731\" xlink:href=\"#C0_0_0a42719704\" y=\"61.813494\"/>\r\n    </g>\r\n    <g clip-path=\"url(#p2652fecc80)\">\r\n     <use style=\"fill:#7f3b08;stroke:#7f3b08;\" x=\"51.71283\" xlink:href=\"#C0_0_0a42719704\" y=\"141.272337\"/>\r\n    </g>\r\n    <g clip-path=\"url(#p2652fecc80)\">\r\n     <use style=\"fill:#7f3b08;stroke:#7f3b08;\" x=\"54.155892\" xlink:href=\"#C0_0_0a42719704\" y=\"113.95836\"/>\r\n    </g>\r\n    <g clip-path=\"url(#p2652fecc80)\">\r\n     <use style=\"fill:#2d004b;stroke:#2d004b;\" x=\"51.205386\" xlink:href=\"#C0_0_0a42719704\" y=\"143.755426\"/>\r\n    </g>\r\n    <g clip-path=\"url(#p2652fecc80)\">\r\n     <use style=\"fill:#2d004b;stroke:#2d004b;\" x=\"89.197857\" xlink:href=\"#C0_0_0a42719704\" y=\"142.019455\"/>\r\n    </g>\r\n    <g clip-path=\"url(#p2652fecc80)\">\r\n     <use style=\"fill:#2d004b;stroke:#2d004b;\" x=\"93.534476\" xlink:href=\"#C0_0_0a42719704\" y=\"141.272337\"/>\r\n    </g>\r\n    <g clip-path=\"url(#p2652fecc80)\">\r\n     <use style=\"fill:#2d004b;stroke:#2d004b;\" x=\"346.501495\" xlink:href=\"#C0_0_0a42719704\" y=\"128.856893\"/>\r\n    </g>\r\n    <g clip-path=\"url(#p2652fecc80)\">\r\n     <use style=\"fill:#2d004b;stroke:#2d004b;\" x=\"57.593999\" xlink:href=\"#C0_0_0a42719704\" y=\"91.61056\"/>\r\n    </g>\r\n    <g clip-path=\"url(#p2652fecc80)\">\r\n     <use style=\"fill:#7f3b08;stroke:#7f3b08;\" x=\"46.75245\" xlink:href=\"#C0_0_0a42719704\" y=\"142.019455\"/>\r\n    </g>\r\n    <g clip-path=\"url(#p2652fecc80)\">\r\n     <use style=\"fill:#2d004b;stroke:#2d004b;\" x=\"60.794484\" xlink:href=\"#C0_0_0a42719704\" y=\"208.315735\"/>\r\n    </g>\r\n    <g clip-path=\"url(#p2652fecc80)\">\r\n     <use style=\"fill:#7f3b08;stroke:#7f3b08;\" x=\"89.465183\" xlink:href=\"#C0_0_0a42719704\" y=\"86.644383\"/>\r\n    </g>\r\n    <g clip-path=\"url(#p2652fecc80)\">\r\n     <use style=\"fill:#7f3b08;stroke:#7f3b08;\" x=\"42.148505\" xlink:href=\"#C0_0_0a42719704\" y=\"116.441449\"/>\r\n    </g>\r\n    <g clip-path=\"url(#p2652fecc80)\">\r\n     <use style=\"fill:#7f3b08;stroke:#7f3b08;\" x=\"46.75245\" xlink:href=\"#C0_0_0a42719704\" y=\"142.019455\"/>\r\n    </g>\r\n    <g clip-path=\"url(#p2652fecc80)\">\r\n     <use style=\"fill:#7f3b08;stroke:#7f3b08;\" x=\"48.386108\" xlink:href=\"#C0_0_0a42719704\" y=\"126.373804\"/>\r\n    </g>\r\n    <g clip-path=\"url(#p2652fecc80)\">\r\n     <use style=\"fill:#7f3b08;stroke:#7f3b08;\" x=\"65.725161\" xlink:href=\"#C0_0_0a42719704\" y=\"176.035581\"/>\r\n    </g>\r\n    <g clip-path=\"url(#p2652fecc80)\">\r\n     <use style=\"fill:#2d004b;stroke:#2d004b;\" x=\"46.767302\" xlink:href=\"#C0_0_0a42719704\" y=\"153.687781\"/>\r\n    </g>\r\n    <g clip-path=\"url(#p2652fecc80)\">\r\n     <use style=\"fill:#2d004b;stroke:#2d004b;\" x=\"133.31405\" xlink:href=\"#C0_0_0a42719704\" y=\"71.74585\"/>\r\n    </g>\r\n    <g clip-path=\"url(#p2652fecc80)\">\r\n     <use style=\"fill:#2d004b;stroke:#2d004b;\" x=\"122.72248\" xlink:href=\"#C0_0_0a42719704\" y=\"128.856893\"/>\r\n    </g>\r\n    <g clip-path=\"url(#p2652fecc80)\">\r\n     <use style=\"fill:#7f3b08;stroke:#7f3b08;\" x=\"60.564287\" xlink:href=\"#C0_0_0a42719704\" y=\"142.019455\"/>\r\n    </g>\r\n    <g clip-path=\"url(#p2652fecc80)\">\r\n     <use style=\"fill:#2d004b;stroke:#2d004b;\" x=\"42.148505\" xlink:href=\"#C0_0_0a42719704\" y=\"153.687781\"/>\r\n    </g>\r\n    <g clip-path=\"url(#p2652fecc80)\">\r\n     <use style=\"fill:#2d004b;stroke:#2d004b;\" x=\"53.732626\" xlink:href=\"#C0_0_0a42719704\" y=\"113.95836\"/>\r\n    </g>\r\n    <g clip-path=\"url(#p2652fecc80)\">\r\n     <use style=\"fill:#7f3b08;stroke:#7f3b08;\" x=\"59.792012\" xlink:href=\"#C0_0_0a42719704\" y=\"123.890715\"/>\r\n    </g>\r\n    <g clip-path=\"url(#p2652fecc80)\">\r\n     <use style=\"fill:#2d004b;stroke:#2d004b;\" x=\"46.75245\" xlink:href=\"#C0_0_0a42719704\" y=\"142.019455\"/>\r\n    </g>\r\n    <g clip-path=\"url(#p2652fecc80)\">\r\n     <use style=\"fill:#2d004b;stroke:#2d004b;\" x=\"88.460216\" xlink:href=\"#C0_0_0a42719704\" y=\"59.330405\"/>\r\n    </g>\r\n    <g clip-path=\"url(#p2652fecc80)\">\r\n     <use style=\"fill:#7f3b08;stroke:#7f3b08;\" x=\"46.75245\" xlink:href=\"#C0_0_0a42719704\" y=\"104.026004\"/>\r\n    </g>\r\n    <g clip-path=\"url(#p2652fecc80)\">\r\n     <use style=\"fill:#7f3b08;stroke:#7f3b08;\" x=\"42.148505\" xlink:href=\"#C0_0_0a42719704\" y=\"142.019455\"/>\r\n    </g>\r\n    <g clip-path=\"url(#p2652fecc80)\">\r\n     <use style=\"fill:#7f3b08;stroke:#7f3b08;\" x=\"59.450429\" xlink:href=\"#C0_0_0a42719704\" y=\"198.38338\"/>\r\n    </g>\r\n    <g clip-path=\"url(#p2652fecc80)\">\r\n     <use style=\"fill:#2d004b;stroke:#2d004b;\" x=\"54.178169\" xlink:href=\"#C0_0_0a42719704\" y=\"128.856893\"/>\r\n    </g>\r\n    <g clip-path=\"url(#p2652fecc80)\">\r\n     <use style=\"fill:#7f3b08;stroke:#7f3b08;\" x=\"46.75245\" xlink:href=\"#C0_0_0a42719704\" y=\"54.364228\"/>\r\n    </g>\r\n    <g clip-path=\"url(#p2652fecc80)\">\r\n     <use style=\"fill:#7f3b08;stroke:#7f3b08;\" x=\"46.814351\" xlink:href=\"#C0_0_0a42719704\" y=\"146.238515\"/>\r\n    </g>\r\n    <g clip-path=\"url(#p2652fecc80)\">\r\n     <use style=\"fill:#7f3b08;stroke:#7f3b08;\" x=\"47.792051\" xlink:href=\"#C0_0_0a42719704\" y=\"176.035581\"/>\r\n    </g>\r\n    <g clip-path=\"url(#p2652fecc80)\">\r\n     <use style=\"fill:#2d004b;stroke:#2d004b;\" x=\"46.930668\" xlink:href=\"#C0_0_0a42719704\" y=\"168.586314\"/>\r\n    </g>\r\n    <g clip-path=\"url(#p2652fecc80)\">\r\n     <use style=\"fill:#7f3b08;stroke:#7f3b08;\" x=\"57.593999\" xlink:href=\"#C0_0_0a42719704\" y=\"142.019455\"/>\r\n    </g>\r\n    <g clip-path=\"url(#p2652fecc80)\">\r\n     <use style=\"fill:#7f3b08;stroke:#7f3b08;\" x=\"47.294528\" xlink:href=\"#C0_0_0a42719704\" y=\"133.82307\"/>\r\n    </g>\r\n    <g clip-path=\"url(#p2652fecc80)\">\r\n     <use style=\"fill:#2d004b;stroke:#2d004b;\" x=\"47.792051\" xlink:href=\"#C0_0_0a42719704\" y=\"141.272337\"/>\r\n    </g>\r\n    <g clip-path=\"url(#p2652fecc80)\">\r\n     <use style=\"fill:#7f3b08;stroke:#7f3b08;\" x=\"46.839064\" xlink:href=\"#C0_0_0a42719704\" y=\"161.137048\"/>\r\n    </g>\r\n    <g clip-path=\"url(#p2652fecc80)\">\r\n     <use style=\"fill:#2d004b;stroke:#2d004b;\" x=\"49.871252\" xlink:href=\"#C0_0_0a42719704\" y=\"111.475271\"/>\r\n    </g>\r\n    <g clip-path=\"url(#p2652fecc80)\">\r\n     <use style=\"fill:#2d004b;stroke:#2d004b;\" x=\"46.75245\" xlink:href=\"#C0_0_0a42719704\" y=\"161.137048\"/>\r\n    </g>\r\n    <g clip-path=\"url(#p2652fecc80)\">\r\n     <use style=\"fill:#2d004b;stroke:#2d004b;\" x=\"88.989937\" xlink:href=\"#C0_0_0a42719704\" y=\"151.204692\"/>\r\n    </g>\r\n    <g clip-path=\"url(#p2652fecc80)\">\r\n     <use style=\"fill:#2d004b;stroke:#2d004b;\" x=\"96.254784\" xlink:href=\"#C0_0_0a42719704\" y=\"168.586314\"/>\r\n    </g>\r\n    <g clip-path=\"url(#p2652fecc80)\">\r\n     <use style=\"fill:#7f3b08;stroke:#7f3b08;\" x=\"49.796995\" xlink:href=\"#C0_0_0a42719704\" y=\"126.373804\"/>\r\n    </g>\r\n    <g clip-path=\"url(#p2652fecc80)\">\r\n     <use style=\"fill:#7f3b08;stroke:#7f3b08;\" x=\"47.405914\" xlink:href=\"#C0_0_0a42719704\" y=\"156.17087\"/>\r\n    </g>\r\n    <g clip-path=\"url(#p2652fecc80)\">\r\n     <use style=\"fill:#7f3b08;stroke:#7f3b08;\" x=\"46.839064\" xlink:href=\"#C0_0_0a42719704\" y=\"156.17087\"/>\r\n    </g>\r\n    <g clip-path=\"url(#p2652fecc80)\">\r\n     <use style=\"fill:#7f3b08;stroke:#7f3b08;\" x=\"58.616253\" xlink:href=\"#C0_0_0a42719704\" y=\"142.019455\"/>\r\n    </g>\r\n    <g clip-path=\"url(#p2652fecc80)\">\r\n     <use style=\"fill:#7f3b08;stroke:#7f3b08;\" x=\"46.443065\" xlink:href=\"#C0_0_0a42719704\" y=\"157.412414\"/>\r\n    </g>\r\n    <g clip-path=\"url(#p2652fecc80)\">\r\n     <use style=\"fill:#7f3b08;stroke:#7f3b08;\" x=\"132.177915\" xlink:href=\"#C0_0_0a42719704\" y=\"210.798824\"/>\r\n    </g>\r\n    <g clip-path=\"url(#p2652fecc80)\">\r\n     <use style=\"fill:#2d004b;stroke:#2d004b;\" x=\"60.267258\" xlink:href=\"#C0_0_0a42719704\" y=\"142.019455\"/>\r\n    </g>\r\n    <g clip-path=\"url(#p2652fecc80)\">\r\n     <use style=\"fill:#2d004b;stroke:#2d004b;\" x=\"189.190086\" xlink:href=\"#C0_0_0a42719704\" y=\"91.61056\"/>\r\n    </g>\r\n    <g clip-path=\"url(#p2652fecc80)\">\r\n     <use style=\"fill:#2d004b;stroke:#2d004b;\" x=\"46.75245\" xlink:href=\"#C0_0_0a42719704\" y=\"142.019455\"/>\r\n    </g>\r\n    <g clip-path=\"url(#p2652fecc80)\">\r\n     <use style=\"fill:#2d004b;stroke:#2d004b;\" x=\"55.960341\" xlink:href=\"#C0_0_0a42719704\" y=\"142.019455\"/>\r\n    </g>\r\n    <g clip-path=\"url(#p2652fecc80)\">\r\n     <use style=\"fill:#7f3b08;stroke:#7f3b08;\" x=\"42.148505\" xlink:href=\"#C0_0_0a42719704\" y=\"168.586314\"/>\r\n    </g>\r\n    <g clip-path=\"url(#p2652fecc80)\">\r\n     <use style=\"fill:#2d004b;stroke:#2d004b;\" x=\"49.485115\" xlink:href=\"#C0_0_0a42719704\" y=\"142.019455\"/>\r\n    </g>\r\n    <g clip-path=\"url(#p2652fecc80)\">\r\n     <use style=\"fill:#7f3b08;stroke:#7f3b08;\" x=\"46.930668\" xlink:href=\"#C0_0_0a42719704\" y=\"142.019455\"/>\r\n    </g>\r\n    <g clip-path=\"url(#p2652fecc80)\">\r\n     <use style=\"fill:#2d004b;stroke:#2d004b;\" x=\"132.177915\" xlink:href=\"#C0_0_0a42719704\" y=\"213.48056\"/>\r\n    </g>\r\n    <g clip-path=\"url(#p2652fecc80)\">\r\n     <use style=\"fill:#2d004b;stroke:#2d004b;\" x=\"108.019558\" xlink:href=\"#C0_0_0a42719704\" y=\"142.019455\"/>\r\n    </g>\r\n    <g clip-path=\"url(#p2652fecc80)\">\r\n     <use style=\"fill:#2d004b;stroke:#2d004b;\" x=\"106.841364\" xlink:href=\"#C0_0_0a42719704\" y=\"173.552492\"/>\r\n    </g>\r\n    <g clip-path=\"url(#p2652fecc80)\">\r\n     <use style=\"fill:#7f3b08;stroke:#7f3b08;\" x=\"56.405884\" xlink:href=\"#C0_0_0a42719704\" y=\"141.272337\"/>\r\n    </g>\r\n    <g clip-path=\"url(#p2652fecc80)\">\r\n     <use style=\"fill:#2d004b;stroke:#2d004b;\" x=\"75.967722\" xlink:href=\"#C0_0_0a42719704\" y=\"141.272337\"/>\r\n    </g>\r\n    <g clip-path=\"url(#p2652fecc80)\">\r\n     <use style=\"fill:#2d004b;stroke:#2d004b;\" x=\"91.549315\" xlink:href=\"#C0_0_0a42719704\" y=\"156.17087\"/>\r\n    </g>\r\n    <g clip-path=\"url(#p2652fecc80)\">\r\n     <use style=\"fill:#2d004b;stroke:#2d004b;\" x=\"198.014335\" xlink:href=\"#C0_0_0a42719704\" y=\"171.069403\"/>\r\n    </g>\r\n    <g clip-path=\"url(#p2652fecc80)\">\r\n     <use style=\"fill:#7f3b08;stroke:#7f3b08;\" x=\"57.593999\" xlink:href=\"#C0_0_0a42719704\" y=\"151.204692\"/>\r\n    </g>\r\n    <g clip-path=\"url(#p2652fecc80)\">\r\n     <use style=\"fill:#7f3b08;stroke:#7f3b08;\" x=\"46.839064\" xlink:href=\"#C0_0_0a42719704\" y=\"146.238515\"/>\r\n    </g>\r\n    <g clip-path=\"url(#p2652fecc80)\">\r\n     <use style=\"fill:#7f3b08;stroke:#7f3b08;\" x=\"57.742514\" xlink:href=\"#C0_0_0a42719704\" y=\"108.992182\"/>\r\n    </g>\r\n    <g clip-path=\"url(#p2652fecc80)\">\r\n     <use style=\"fill:#2d004b;stroke:#2d004b;\" x=\"46.814351\" xlink:href=\"#C0_0_0a42719704\" y=\"151.204692\"/>\r\n    </g>\r\n    <g clip-path=\"url(#p2652fecc80)\">\r\n     <use style=\"fill:#2d004b;stroke:#2d004b;\" x=\"57.593999\" xlink:href=\"#C0_0_0a42719704\" y=\"156.17087\"/>\r\n    </g>\r\n    <g clip-path=\"url(#p2652fecc80)\">\r\n     <use style=\"fill:#7f3b08;stroke:#7f3b08;\" x=\"50.46531\" xlink:href=\"#C0_0_0a42719704\" y=\"81.678205\"/>\r\n    </g>\r\n    <g clip-path=\"url(#p2652fecc80)\">\r\n     <use style=\"fill:#2d004b;stroke:#2d004b;\" x=\"140.0888\" xlink:href=\"#C0_0_0a42719704\" y=\"138.789248\"/>\r\n    </g>\r\n    <g clip-path=\"url(#p2652fecc80)\">\r\n     <use style=\"fill:#2d004b;stroke:#2d004b;\" x=\"122.049235\" xlink:href=\"#C0_0_0a42719704\" y=\"116.441449\"/>\r\n    </g>\r\n    <g clip-path=\"url(#p2652fecc80)\">\r\n     <use style=\"fill:#7f3b08;stroke:#7f3b08;\" x=\"46.455422\" xlink:href=\"#C0_0_0a42719704\" y=\"161.137048\"/>\r\n    </g>\r\n    <g clip-path=\"url(#p2652fecc80)\">\r\n     <use style=\"fill:#7f3b08;stroke:#7f3b08;\" x=\"46.839064\" xlink:href=\"#C0_0_0a42719704\" y=\"148.721603\"/>\r\n    </g>\r\n    <g clip-path=\"url(#p2652fecc80)\">\r\n     <use style=\"fill:#2d004b;stroke:#2d004b;\" x=\"49.485115\" xlink:href=\"#C0_0_0a42719704\" y=\"141.272337\"/>\r\n    </g>\r\n    <g clip-path=\"url(#p2652fecc80)\">\r\n     <use style=\"fill:#2d004b;stroke:#2d004b;\" x=\"59.376172\" xlink:href=\"#C0_0_0a42719704\" y=\"161.137048\"/>\r\n    </g>\r\n    <g clip-path=\"url(#p2652fecc80)\">\r\n     <use style=\"fill:#7f3b08;stroke:#7f3b08;\" x=\"83.465202\" xlink:href=\"#C0_0_0a42719704\" y=\"142.019455\"/>\r\n    </g>\r\n    <g clip-path=\"url(#p2652fecc80)\">\r\n     <use style=\"fill:#2d004b;stroke:#2d004b;\" x=\"122.72248\" xlink:href=\"#C0_0_0a42719704\" y=\"126.373804\"/>\r\n    </g>\r\n    <g clip-path=\"url(#p2652fecc80)\">\r\n     <use style=\"fill:#7f3b08;stroke:#7f3b08;\" x=\"45.853938\" xlink:href=\"#C0_0_0a42719704\" y=\"64.296583\"/>\r\n    </g>\r\n    <g clip-path=\"url(#p2652fecc80)\">\r\n     <use style=\"fill:#2d004b;stroke:#2d004b;\" x=\"49.871252\" xlink:href=\"#C0_0_0a42719704\" y=\"126.373804\"/>\r\n    </g>\r\n    <g clip-path=\"url(#p2652fecc80)\">\r\n     <use style=\"fill:#2d004b;stroke:#2d004b;\" x=\"54.341535\" xlink:href=\"#C0_0_0a42719704\" y=\"138.789248\"/>\r\n    </g>\r\n    <g clip-path=\"url(#p2652fecc80)\">\r\n     <use style=\"fill:#2d004b;stroke:#2d004b;\" x=\"76.591482\" xlink:href=\"#C0_0_0a42719704\" y=\"176.035581\"/>\r\n    </g>\r\n    <g clip-path=\"url(#p2652fecc80)\">\r\n     <use style=\"fill:#2d004b;stroke:#2d004b;\" x=\"55.960341\" xlink:href=\"#C0_0_0a42719704\" y=\"142.019455\"/>\r\n    </g>\r\n    <g clip-path=\"url(#p2652fecc80)\">\r\n     <use style=\"fill:#7f3b08;stroke:#7f3b08;\" x=\"59.079143\" xlink:href=\"#C0_0_0a42719704\" y=\"102.78446\"/>\r\n    </g>\r\n    <g clip-path=\"url(#p2652fecc80)\">\r\n     <use style=\"fill:#7f3b08;stroke:#7f3b08;\" x=\"133.31405\" xlink:href=\"#C0_0_0a42719704\" y=\"121.407626\"/>\r\n    </g>\r\n    <g clip-path=\"url(#p2652fecc80)\">\r\n     <use style=\"fill:#7f3b08;stroke:#7f3b08;\" x=\"52.841539\" xlink:href=\"#C0_0_0a42719704\" y=\"176.035581\"/>\r\n    </g>\r\n    <g clip-path=\"url(#p2652fecc80)\">\r\n     <use style=\"fill:#2d004b;stroke:#2d004b;\" x=\"121.544286\" xlink:href=\"#C0_0_0a42719704\" y=\"142.019455\"/>\r\n    </g>\r\n    <g clip-path=\"url(#p2652fecc80)\">\r\n     <use style=\"fill:#7f3b08;stroke:#7f3b08;\" x=\"46.839064\" xlink:href=\"#C0_0_0a42719704\" y=\"142.019455\"/>\r\n    </g>\r\n    <g clip-path=\"url(#p2652fecc80)\">\r\n     <use style=\"fill:#7f3b08;stroke:#7f3b08;\" x=\"81.712733\" xlink:href=\"#C0_0_0a42719704\" y=\"143.755426\"/>\r\n    </g>\r\n    <g clip-path=\"url(#p2652fecc80)\">\r\n     <use style=\"fill:#2d004b;stroke:#2d004b;\" x=\"122.049235\" xlink:href=\"#C0_0_0a42719704\" y=\"113.95836\"/>\r\n    </g>\r\n    <g clip-path=\"url(#p2652fecc80)\">\r\n     <use style=\"fill:#2d004b;stroke:#2d004b;\" x=\"46.930668\" xlink:href=\"#C0_0_0a42719704\" y=\"104.026004\"/>\r\n    </g>\r\n    <g clip-path=\"url(#p2652fecc80)\">\r\n     <use style=\"fill:#7f3b08;stroke:#7f3b08;\" x=\"63.237545\" xlink:href=\"#C0_0_0a42719704\" y=\"104.026004\"/>\r\n    </g>\r\n    <g clip-path=\"url(#p2652fecc80)\">\r\n     <use style=\"fill:#2d004b;stroke:#2d004b;\" x=\"57.593999\" xlink:href=\"#C0_0_0a42719704\" y=\"210.798824\"/>\r\n    </g>\r\n    <g clip-path=\"url(#p2652fecc80)\">\r\n     <use style=\"fill:#2d004b;stroke:#2d004b;\" x=\"198.38562\" xlink:href=\"#C0_0_0a42719704\" y=\"156.17087\"/>\r\n    </g>\r\n    <g clip-path=\"url(#p2652fecc80)\">\r\n     <use style=\"fill:#7f3b08;stroke:#7f3b08;\" x=\"49.871252\" xlink:href=\"#C0_0_0a42719704\" y=\"146.238515\"/>\r\n    </g>\r\n    <g clip-path=\"url(#p2652fecc80)\">\r\n     <use style=\"fill:#7f3b08;stroke:#7f3b08;\" x=\"49.871252\" xlink:href=\"#C0_0_0a42719704\" y=\"153.687781\"/>\r\n    </g>\r\n    <g clip-path=\"url(#p2652fecc80)\">\r\n     <use style=\"fill:#7f3b08;stroke:#7f3b08;\" x=\"49.871252\" xlink:href=\"#C0_0_0a42719704\" y=\"126.373804\"/>\r\n    </g>\r\n    <g clip-path=\"url(#p2652fecc80)\">\r\n     <use style=\"fill:#2d004b;stroke:#2d004b;\" x=\"49.871252\" xlink:href=\"#C0_0_0a42719704\" y=\"156.17087\"/>\r\n    </g>\r\n    <g clip-path=\"url(#p2652fecc80)\">\r\n     <use style=\"fill:#2d004b;stroke:#2d004b;\" x=\"49.871252\" xlink:href=\"#C0_0_0a42719704\" y=\"116.441449\"/>\r\n    </g>\r\n    <g clip-path=\"url(#p2652fecc80)\">\r\n     <use style=\"fill:#2d004b;stroke:#2d004b;\" x=\"51.71283\" xlink:href=\"#C0_0_0a42719704\" y=\"142.019455\"/>\r\n    </g>\r\n    <g clip-path=\"url(#p2652fecc80)\">\r\n     <use style=\"fill:#2d004b;stroke:#2d004b;\" x=\"51.594019\" xlink:href=\"#C0_0_0a42719704\" y=\"208.315735\"/>\r\n    </g>\r\n    <g clip-path=\"url(#p2652fecc80)\">\r\n     <use style=\"fill:#7f3b08;stroke:#7f3b08;\" x=\"47.294528\" xlink:href=\"#C0_0_0a42719704\" y=\"111.475271\"/>\r\n    </g>\r\n    <g clip-path=\"url(#p2652fecc80)\">\r\n     <use style=\"fill:#7f3b08;stroke:#7f3b08;\" x=\"47.628685\" xlink:href=\"#C0_0_0a42719704\" y=\"158.653959\"/>\r\n    </g>\r\n    <g clip-path=\"url(#p2652fecc80)\">\r\n     <use style=\"fill:#7f3b08;stroke:#7f3b08;\" x=\"62.940516\" xlink:href=\"#C0_0_0a42719704\" y=\"142.019455\"/>\r\n    </g>\r\n    <g clip-path=\"url(#p2652fecc80)\">\r\n     <use style=\"fill:#7f3b08;stroke:#7f3b08;\" x=\"46.443065\" xlink:href=\"#C0_0_0a42719704\" y=\"178.518669\"/>\r\n    </g>\r\n    <g clip-path=\"url(#p2652fecc80)\">\r\n     <use style=\"fill:#7f3b08;stroke:#7f3b08;\" x=\"52.722728\" xlink:href=\"#C0_0_0a42719704\" y=\"153.687781\"/>\r\n    </g>\r\n    <g clip-path=\"url(#p2652fecc80)\">\r\n     <use style=\"fill:#7f3b08;stroke:#7f3b08;\" x=\"46.44057\" xlink:href=\"#C0_0_0a42719704\" y=\"142.019455\"/>\r\n    </g>\r\n    <g clip-path=\"url(#p2652fecc80)\">\r\n     <use style=\"fill:#7f3b08;stroke:#7f3b08;\" x=\"47.792051\" xlink:href=\"#C0_0_0a42719704\" y=\"146.238515\"/>\r\n    </g>\r\n    <g clip-path=\"url(#p2652fecc80)\">\r\n     <use style=\"fill:#2d004b;stroke:#2d004b;\" x=\"74.821666\" xlink:href=\"#C0_0_0a42719704\" y=\"161.137048\"/>\r\n    </g>\r\n    <g clip-path=\"url(#p2652fecc80)\">\r\n     <use style=\"fill:#7f3b08;stroke:#7f3b08;\" x=\"49.871252\" xlink:href=\"#C0_0_0a42719704\" y=\"121.407626\"/>\r\n    </g>\r\n    <g clip-path=\"url(#p2652fecc80)\">\r\n     <use style=\"fill:#2d004b;stroke:#2d004b;\" x=\"46.829203\" xlink:href=\"#C0_0_0a42719704\" y=\"142.019455\"/>\r\n    </g>\r\n    <g clip-path=\"url(#p2652fecc80)\">\r\n     <use style=\"fill:#2d004b;stroke:#2d004b;\" x=\"46.829203\" xlink:href=\"#C0_0_0a42719704\" y=\"142.019455\"/>\r\n    </g>\r\n    <g clip-path=\"url(#p2652fecc80)\">\r\n     <use style=\"fill:#7f3b08;stroke:#7f3b08;\" x=\"58.722708\" xlink:href=\"#C0_0_0a42719704\" y=\"116.441449\"/>\r\n    </g>\r\n    <g clip-path=\"url(#p2652fecc80)\">\r\n     <use style=\"fill:#7f3b08;stroke:#7f3b08;\" x=\"58.616253\" xlink:href=\"#C0_0_0a42719704\" y=\"143.755426\"/>\r\n    </g>\r\n    <g clip-path=\"url(#p2652fecc80)\">\r\n     <use style=\"fill:#7f3b08;stroke:#7f3b08;\" x=\"50.73513\" xlink:href=\"#C0_0_0a42719704\" y=\"104.026004\"/>\r\n    </g>\r\n    <g clip-path=\"url(#p2652fecc80)\">\r\n     <use style=\"fill:#7f3b08;stroke:#7f3b08;\" x=\"46.33661\" xlink:href=\"#C0_0_0a42719704\" y=\"128.856893\"/>\r\n    </g>\r\n    <g clip-path=\"url(#p2652fecc80)\">\r\n     <use style=\"fill:#7f3b08;stroke:#7f3b08;\" x=\"51.356396\" xlink:href=\"#C0_0_0a42719704\" y=\"142.019455\"/>\r\n    </g>\r\n    <g clip-path=\"url(#p2652fecc80)\">\r\n     <use style=\"fill:#7f3b08;stroke:#7f3b08;\" x=\"46.455422\" xlink:href=\"#C0_0_0a42719704\" y=\"141.272337\"/>\r\n    </g>\r\n    <g clip-path=\"url(#p2652fecc80)\">\r\n     <use style=\"fill:#2d004b;stroke:#2d004b;\" x=\"86.85133\" xlink:href=\"#C0_0_0a42719704\" y=\"66.779672\"/>\r\n    </g>\r\n    <g clip-path=\"url(#p2652fecc80)\">\r\n     <use style=\"fill:#2d004b;stroke:#2d004b;\" x=\"46.443065\" xlink:href=\"#C0_0_0a42719704\" y=\"142.019455\"/>\r\n    </g>\r\n    <g clip-path=\"url(#p2652fecc80)\">\r\n     <use style=\"fill:#2d004b;stroke:#2d004b;\" x=\"46.75245\" xlink:href=\"#C0_0_0a42719704\" y=\"142.019455\"/>\r\n    </g>\r\n    <g clip-path=\"url(#p2652fecc80)\">\r\n     <use style=\"fill:#2d004b;stroke:#2d004b;\" x=\"83.316688\" xlink:href=\"#C0_0_0a42719704\" y=\"156.17087\"/>\r\n    </g>\r\n    <g clip-path=\"url(#p2652fecc80)\">\r\n     <use style=\"fill:#2d004b;stroke:#2d004b;\" x=\"75.084061\" xlink:href=\"#C0_0_0a42719704\" y=\"153.687781\"/>\r\n    </g>\r\n    <g clip-path=\"url(#p2652fecc80)\">\r\n     <use style=\"fill:#7f3b08;stroke:#7f3b08;\" x=\"46.007383\" xlink:href=\"#C0_0_0a42719704\" y=\"171.069403\"/>\r\n    </g>\r\n    <g clip-path=\"url(#p2652fecc80)\">\r\n     <use style=\"fill:#7f3b08;stroke:#7f3b08;\" x=\"46.930668\" xlink:href=\"#C0_0_0a42719704\" y=\"168.586314\"/>\r\n    </g>\r\n    <g clip-path=\"url(#p2652fecc80)\">\r\n     <use style=\"fill:#7f3b08;stroke:#7f3b08;\" x=\"122.72248\" xlink:href=\"#C0_0_0a42719704\" y=\"161.137048\"/>\r\n    </g>\r\n    <g clip-path=\"url(#p2652fecc80)\">\r\n     <use style=\"fill:#7f3b08;stroke:#7f3b08;\" x=\"54.668266\" xlink:href=\"#C0_0_0a42719704\" y=\"208.315735\"/>\r\n    </g>\r\n    <g clip-path=\"url(#p2652fecc80)\">\r\n     <use style=\"fill:#2d004b;stroke:#2d004b;\" x=\"90.962683\" xlink:href=\"#C0_0_0a42719704\" y=\"142.019455\"/>\r\n    </g>\r\n    <g clip-path=\"url(#p2652fecc80)\">\r\n     <use style=\"fill:#2d004b;stroke:#2d004b;\" x=\"46.455422\" xlink:href=\"#C0_0_0a42719704\" y=\"161.137048\"/>\r\n    </g>\r\n    <g clip-path=\"url(#p2652fecc80)\">\r\n     <use style=\"fill:#7f3b08;stroke:#7f3b08;\" x=\"167.791661\" xlink:href=\"#C0_0_0a42719704\" y=\"148.721603\"/>\r\n    </g>\r\n    <g clip-path=\"url(#p2652fecc80)\">\r\n     <use style=\"fill:#7f3b08;stroke:#7f3b08;\" x=\"44.532161\" xlink:href=\"#C0_0_0a42719704\" y=\"166.103225\"/>\r\n    </g>\r\n    <g clip-path=\"url(#p2652fecc80)\">\r\n     <use style=\"fill:#7f3b08;stroke:#7f3b08;\" x=\"46.767302\" xlink:href=\"#C0_0_0a42719704\" y=\"168.586314\"/>\r\n    </g>\r\n    <g clip-path=\"url(#p2652fecc80)\">\r\n     <use style=\"fill:#2d004b;stroke:#2d004b;\" x=\"177.311432\" xlink:href=\"#C0_0_0a42719704\" y=\"111.475271\"/>\r\n    </g>\r\n    <g clip-path=\"url(#p2652fecc80)\">\r\n     <use style=\"fill:#2d004b;stroke:#2d004b;\" x=\"51.499979\" xlink:href=\"#C0_0_0a42719704\" y=\"213.281913\"/>\r\n    </g>\r\n    <g clip-path=\"url(#p2652fecc80)\">\r\n     <use style=\"fill:#7f3b08;stroke:#7f3b08;\" x=\"46.85641\" xlink:href=\"#C0_0_0a42719704\" y=\"136.306159\"/>\r\n    </g>\r\n    <g clip-path=\"url(#p2652fecc80)\">\r\n     <use style=\"fill:#2d004b;stroke:#2d004b;\" x=\"73.039494\" xlink:href=\"#C0_0_0a42719704\" y=\"128.856893\"/>\r\n    </g>\r\n    <g clip-path=\"url(#p2652fecc80)\">\r\n     <use style=\"fill:#7f3b08;stroke:#7f3b08;\" x=\"46.839064\" xlink:href=\"#C0_0_0a42719704\" y=\"142.019455\"/>\r\n    </g>\r\n    <g clip-path=\"url(#p2652fecc80)\">\r\n     <use style=\"fill:#7f3b08;stroke:#7f3b08;\" x=\"85.811729\" xlink:href=\"#C0_0_0a42719704\" y=\"171.069403\"/>\r\n    </g>\r\n    <g clip-path=\"url(#p2652fecc80)\">\r\n     <use style=\"fill:#7f3b08;stroke:#7f3b08;\" x=\"70.0098\" xlink:href=\"#C0_0_0a42719704\" y=\"213.281913\"/>\r\n    </g>\r\n    <g clip-path=\"url(#p2652fecc80)\">\r\n     <use style=\"fill:#2d004b;stroke:#2d004b;\" x=\"49.871252\" xlink:href=\"#C0_0_0a42719704\" y=\"126.373804\"/>\r\n    </g>\r\n    <g clip-path=\"url(#p2652fecc80)\">\r\n     <use style=\"fill:#7f3b08;stroke:#7f3b08;\" x=\"46.740094\" xlink:href=\"#C0_0_0a42719704\" y=\"142.019455\"/>\r\n    </g>\r\n    <g clip-path=\"url(#p2652fecc80)\">\r\n     <use style=\"fill:#2d004b;stroke:#2d004b;\" x=\"49.277195\" xlink:href=\"#C0_0_0a42719704\" y=\"173.552492\"/>\r\n    </g>\r\n    <g clip-path=\"url(#p2652fecc80)\">\r\n     <use style=\"fill:#2d004b;stroke:#2d004b;\" x=\"113.435402\" xlink:href=\"#C0_0_0a42719704\" y=\"126.373804\"/>\r\n    </g>\r\n    <g clip-path=\"url(#p2652fecc80)\">\r\n     <use style=\"fill:#2d004b;stroke:#2d004b;\" x=\"46.779658\" xlink:href=\"#C0_0_0a42719704\" y=\"163.620136\"/>\r\n    </g>\r\n    <g clip-path=\"url(#p2652fecc80)\">\r\n     <use style=\"fill:#7f3b08;stroke:#7f3b08;\" x=\"46.85641\" xlink:href=\"#C0_0_0a42719704\" y=\"146.238515\"/>\r\n    </g>\r\n    <g clip-path=\"url(#p2652fecc80)\">\r\n     <use style=\"fill:#2d004b;stroke:#2d004b;\" x=\"109.440365\" xlink:href=\"#C0_0_0a42719704\" y=\"158.653959\"/>\r\n    </g>\r\n    <g clip-path=\"url(#p2652fecc80)\">\r\n     <use style=\"fill:#2d004b;stroke:#2d004b;\" x=\"52.069265\" xlink:href=\"#C0_0_0a42719704\" y=\"156.17087\"/>\r\n    </g>\r\n    <g clip-path=\"url(#p2652fecc80)\">\r\n     <use style=\"fill:#7f3b08;stroke:#7f3b08;\" x=\"46.779658\" xlink:href=\"#C0_0_0a42719704\" y=\"161.137048\"/>\r\n    </g>\r\n    <g clip-path=\"url(#p2652fecc80)\">\r\n     <use style=\"fill:#7f3b08;stroke:#7f3b08;\" x=\"46.814351\" xlink:href=\"#C0_0_0a42719704\" y=\"138.789248\"/>\r\n    </g>\r\n    <g clip-path=\"url(#p2652fecc80)\">\r\n     <use style=\"fill:#7f3b08;stroke:#7f3b08;\" x=\"57.593999\" xlink:href=\"#C0_0_0a42719704\" y=\"101.542916\"/>\r\n    </g>\r\n    <g clip-path=\"url(#p2652fecc80)\">\r\n     <use style=\"fill:#7f3b08;stroke:#7f3b08;\" x=\"48.386108\" xlink:href=\"#C0_0_0a42719704\" y=\"158.653959\"/>\r\n    </g>\r\n    <g clip-path=\"url(#p2652fecc80)\">\r\n     <use style=\"fill:#2d004b;stroke:#2d004b;\" x=\"49.663332\" xlink:href=\"#C0_0_0a42719704\" y=\"146.238515\"/>\r\n    </g>\r\n    <g clip-path=\"url(#p2652fecc80)\">\r\n     <use style=\"fill:#2d004b;stroke:#2d004b;\" x=\"46.85641\" xlink:href=\"#C0_0_0a42719704\" y=\"118.924537\"/>\r\n    </g>\r\n    <g clip-path=\"url(#p2652fecc80)\">\r\n     <use style=\"fill:#7f3b08;stroke:#7f3b08;\" x=\"46.930668\" xlink:href=\"#C0_0_0a42719704\" y=\"151.204692\"/>\r\n    </g>\r\n    <g clip-path=\"url(#p2652fecc80)\">\r\n     <use style=\"fill:#7f3b08;stroke:#7f3b08;\" x=\"47.98512\" xlink:href=\"#C0_0_0a42719704\" y=\"163.620136\"/>\r\n    </g>\r\n    <g clip-path=\"url(#p2652fecc80)\">\r\n     <use style=\"fill:#7f3b08;stroke:#7f3b08;\" x=\"51.564316\" xlink:href=\"#C0_0_0a42719704\" y=\"146.238515\"/>\r\n    </g>\r\n    <g clip-path=\"url(#p2652fecc80)\">\r\n     <use style=\"fill:#7f3b08;stroke:#7f3b08;\" x=\"47.294528\" xlink:href=\"#C0_0_0a42719704\" y=\"166.103225\"/>\r\n    </g>\r\n    <g clip-path=\"url(#p2652fecc80)\">\r\n     <use style=\"fill:#7f3b08;stroke:#7f3b08;\" x=\"54.623712\" xlink:href=\"#C0_0_0a42719704\" y=\"131.339982\"/>\r\n    </g>\r\n    <g clip-path=\"url(#p2652fecc80)\">\r\n     <use style=\"fill:#7f3b08;stroke:#7f3b08;\" x=\"46.75245\" xlink:href=\"#C0_0_0a42719704\" y=\"89.127471\"/>\r\n    </g>\r\n    <g clip-path=\"url(#p2652fecc80)\">\r\n     <use style=\"fill:#2d004b;stroke:#2d004b;\" x=\"53.287083\" xlink:href=\"#C0_0_0a42719704\" y=\"208.315735\"/>\r\n    </g>\r\n    <g clip-path=\"url(#p2652fecc80)\">\r\n     <use style=\"fill:#7f3b08;stroke:#7f3b08;\" x=\"46.767302\" xlink:href=\"#C0_0_0a42719704\" y=\"163.620136\"/>\r\n    </g>\r\n    <g clip-path=\"url(#p2652fecc80)\">\r\n     <use style=\"fill:#7f3b08;stroke:#7f3b08;\" x=\"57.277188\" xlink:href=\"#C0_0_0a42719704\" y=\"142.019455\"/>\r\n    </g>\r\n    <g clip-path=\"url(#p2652fecc80)\">\r\n     <use style=\"fill:#7f3b08;stroke:#7f3b08;\" x=\"46.839064\" xlink:href=\"#C0_0_0a42719704\" y=\"142.019455\"/>\r\n    </g>\r\n    <g clip-path=\"url(#p2652fecc80)\">\r\n     <use style=\"fill:#7f3b08;stroke:#7f3b08;\" x=\"46.222729\" xlink:href=\"#C0_0_0a42719704\" y=\"142.019455\"/>\r\n    </g>\r\n    <g clip-path=\"url(#p2652fecc80)\">\r\n     <use style=\"fill:#2d004b;stroke:#2d004b;\" x=\"95.613678\" xlink:href=\"#C0_0_0a42719704\" y=\"133.82307\"/>\r\n    </g>\r\n    <g clip-path=\"url(#p2652fecc80)\">\r\n     <use style=\"fill:#7f3b08;stroke:#7f3b08;\" x=\"42.148505\" xlink:href=\"#C0_0_0a42719704\" y=\"142.019455\"/>\r\n    </g>\r\n    <g clip-path=\"url(#p2652fecc80)\">\r\n     <use style=\"fill:#2d004b;stroke:#2d004b;\" x=\"46.85641\" xlink:href=\"#C0_0_0a42719704\" y=\"106.509093\"/>\r\n    </g>\r\n    <g clip-path=\"url(#p2652fecc80)\">\r\n     <use style=\"fill:#7f3b08;stroke:#7f3b08;\" x=\"46.930668\" xlink:href=\"#C0_0_0a42719704\" y=\"142.019455\"/>\r\n    </g>\r\n    <g clip-path=\"url(#p2652fecc80)\">\r\n     <use style=\"fill:#2d004b;stroke:#2d004b;\" x=\"61.455373\" xlink:href=\"#C0_0_0a42719704\" y=\"131.339982\"/>\r\n    </g>\r\n    <g clip-path=\"url(#p2652fecc80)\">\r\n     <use style=\"fill:#2d004b;stroke:#2d004b;\" x=\"49.871252\" xlink:href=\"#C0_0_0a42719704\" y=\"171.069403\"/>\r\n    </g>\r\n    <g clip-path=\"url(#p2652fecc80)\">\r\n     <use style=\"fill:#7f3b08;stroke:#7f3b08;\" x=\"49.871252\" xlink:href=\"#C0_0_0a42719704\" y=\"141.272337\"/>\r\n    </g>\r\n    <g clip-path=\"url(#p2652fecc80)\">\r\n     <use style=\"fill:#7f3b08;stroke:#7f3b08;\" x=\"56.494993\" xlink:href=\"#C0_0_0a42719704\" y=\"190.934114\"/>\r\n    </g>\r\n    <g clip-path=\"url(#p2652fecc80)\">\r\n     <use style=\"fill:#7f3b08;stroke:#7f3b08;\" x=\"46.839064\" xlink:href=\"#C0_0_0a42719704\" y=\"142.019455\"/>\r\n    </g>\r\n    <g clip-path=\"url(#p2652fecc80)\">\r\n     <use style=\"fill:#7f3b08;stroke:#7f3b08;\" x=\"46.74253\" xlink:href=\"#C0_0_0a42719704\" y=\"163.620136\"/>\r\n    </g>\r\n    <g clip-path=\"url(#p2652fecc80)\">\r\n     <use style=\"fill:#7f3b08;stroke:#7f3b08;\" x=\"46.826708\" xlink:href=\"#C0_0_0a42719704\" y=\"143.755426\"/>\r\n    </g>\r\n    <g clip-path=\"url(#p2652fecc80)\">\r\n     <use style=\"fill:#7f3b08;stroke:#7f3b08;\" x=\"50.702933\" xlink:href=\"#C0_0_0a42719704\" y=\"146.238515\"/>\r\n    </g>\r\n    <g clip-path=\"url(#p2652fecc80)\">\r\n     <use style=\"fill:#7f3b08;stroke:#7f3b08;\" x=\"54.155892\" xlink:href=\"#C0_0_0a42719704\" y=\"171.069403\"/>\r\n    </g>\r\n    <g clip-path=\"url(#p2652fecc80)\">\r\n     <use style=\"fill:#7f3b08;stroke:#7f3b08;\" x=\"46.455422\" xlink:href=\"#C0_0_0a42719704\" y=\"142.019455\"/>\r\n    </g>\r\n    <g clip-path=\"url(#p2652fecc80)\">\r\n     <use style=\"fill:#2d004b;stroke:#2d004b;\" x=\"57.593999\" xlink:href=\"#C0_0_0a42719704\" y=\"146.238515\"/>\r\n    </g>\r\n    <g clip-path=\"url(#p2652fecc80)\">\r\n     <use style=\"fill:#2d004b;stroke:#2d004b;\" x=\"57.593999\" xlink:href=\"#C0_0_0a42719704\" y=\"168.586314\"/>\r\n    </g>\r\n    <g clip-path=\"url(#p2652fecc80)\">\r\n     <use style=\"fill:#7f3b08;stroke:#7f3b08;\" x=\"46.75245\" xlink:href=\"#C0_0_0a42719704\" y=\"142.019455\"/>\r\n    </g>\r\n    <g clip-path=\"url(#p2652fecc80)\">\r\n     <use style=\"fill:#2d004b;stroke:#2d004b;\" x=\"46.930668\" xlink:href=\"#C0_0_0a42719704\" y=\"136.306159\"/>\r\n    </g>\r\n    <g clip-path=\"url(#p2652fecc80)\">\r\n     <use style=\"fill:#2d004b;stroke:#2d004b;\" x=\"57.920731\" xlink:href=\"#C0_0_0a42719704\" y=\"146.238515\"/>\r\n    </g>\r\n    <g clip-path=\"url(#p2652fecc80)\">\r\n     <use style=\"fill:#2d004b;stroke:#2d004b;\" x=\"51.71283\" xlink:href=\"#C0_0_0a42719704\" y=\"142.019455\"/>\r\n    </g>\r\n    <g clip-path=\"url(#p2652fecc80)\">\r\n     <use style=\"fill:#2d004b;stroke:#2d004b;\" x=\"57.593999\" xlink:href=\"#C0_0_0a42719704\" y=\"111.475271\"/>\r\n    </g>\r\n    <g clip-path=\"url(#p2652fecc80)\">\r\n     <use style=\"fill:#7f3b08;stroke:#7f3b08;\" x=\"46.381164\" xlink:href=\"#C0_0_0a42719704\" y=\"173.552492\"/>\r\n    </g>\r\n    <g clip-path=\"url(#p2652fecc80)\">\r\n     <use style=\"fill:#7f3b08;stroke:#7f3b08;\" x=\"75.356318\" xlink:href=\"#C0_0_0a42719704\" y=\"91.61056\"/>\r\n    </g>\r\n    <g clip-path=\"url(#p2652fecc80)\">\r\n     <use style=\"fill:#2d004b;stroke:#2d004b;\" x=\"113.435402\" xlink:href=\"#C0_0_0a42719704\" y=\"181.001758\"/>\r\n    </g>\r\n    <g clip-path=\"url(#p2652fecc80)\">\r\n     <use style=\"fill:#7f3b08;stroke:#7f3b08;\" x=\"62.569231\" xlink:href=\"#C0_0_0a42719704\" y=\"163.620136\"/>\r\n    </g>\r\n    <g clip-path=\"url(#p2652fecc80)\">\r\n     <use style=\"fill:#2d004b;stroke:#2d004b;\" x=\"53.287083\" xlink:href=\"#C0_0_0a42719704\" y=\"156.17087\"/>\r\n    </g>\r\n    <g clip-path=\"url(#p2652fecc80)\">\r\n     <use style=\"fill:#7f3b08;stroke:#7f3b08;\" x=\"198.38562\" xlink:href=\"#C0_0_0a42719704\" y=\"56.847317\"/>\r\n    </g>\r\n    <g clip-path=\"url(#p2652fecc80)\">\r\n     <use style=\"fill:#7f3b08;stroke:#7f3b08;\" x=\"48.386108\" xlink:href=\"#C0_0_0a42719704\" y=\"138.789248\"/>\r\n    </g>\r\n    <g clip-path=\"url(#p2652fecc80)\">\r\n     <use style=\"fill:#2d004b;stroke:#2d004b;\" x=\"57.742514\" xlink:href=\"#C0_0_0a42719704\" y=\"104.026004\"/>\r\n    </g>\r\n    <g clip-path=\"url(#p2652fecc80)\">\r\n     <use style=\"fill:#7f3b08;stroke:#7f3b08;\" x=\"47.792051\" xlink:href=\"#C0_0_0a42719704\" y=\"166.103225\"/>\r\n    </g>\r\n    <g clip-path=\"url(#p2652fecc80)\">\r\n     <use style=\"fill:#7f3b08;stroke:#7f3b08;\" x=\"46.767302\" xlink:href=\"#C0_0_0a42719704\" y=\"153.687781\"/>\r\n    </g>\r\n    <g clip-path=\"url(#p2652fecc80)\">\r\n     <use style=\"fill:#2d004b;stroke:#2d004b;\" x=\"49.871252\" xlink:href=\"#C0_0_0a42719704\" y=\"146.238515\"/>\r\n    </g>\r\n    <g clip-path=\"url(#p2652fecc80)\">\r\n     <use style=\"fill:#2d004b;stroke:#2d004b;\" x=\"46.967796\" xlink:href=\"#C0_0_0a42719704\" y=\"142.019455\"/>\r\n    </g>\r\n    <g clip-path=\"url(#p2652fecc80)\">\r\n     <use style=\"fill:#2d004b;stroke:#2d004b;\" x=\"90.77704\" xlink:href=\"#C0_0_0a42719704\" y=\"205.832647\"/>\r\n    </g>\r\n    <g clip-path=\"url(#p2652fecc80)\">\r\n     <use style=\"fill:#2d004b;stroke:#2d004b;\" x=\"53.732626\" xlink:href=\"#C0_0_0a42719704\" y=\"183.484847\"/>\r\n    </g>\r\n    <g clip-path=\"url(#p2652fecc80)\">\r\n     <use style=\"fill:#2d004b;stroke:#2d004b;\" x=\"57.920731\" xlink:href=\"#C0_0_0a42719704\" y=\"131.339982\"/>\r\n    </g>\r\n    <g clip-path=\"url(#p2652fecc80)\">\r\n     <use style=\"fill:#2d004b;stroke:#2d004b;\" x=\"53.589042\" xlink:href=\"#C0_0_0a42719704\" y=\"203.349558\"/>\r\n    </g>\r\n    <g clip-path=\"url(#p2652fecc80)\">\r\n     <use style=\"fill:#2d004b;stroke:#2d004b;\" x=\"60.267258\" xlink:href=\"#C0_0_0a42719704\" y=\"86.644383\"/>\r\n    </g>\r\n    <g clip-path=\"url(#p2652fecc80)\">\r\n     <use style=\"fill:#7f3b08;stroke:#7f3b08;\" x=\"58.6336\" xlink:href=\"#C0_0_0a42719704\" y=\"126.373804\"/>\r\n    </g>\r\n    <g clip-path=\"url(#p2652fecc80)\">\r\n     <use style=\"fill:#7f3b08;stroke:#7f3b08;\" x=\"54.009872\" xlink:href=\"#C0_0_0a42719704\" y=\"142.019455\"/>\r\n    </g>\r\n    <g clip-path=\"url(#p2652fecc80)\">\r\n     <use style=\"fill:#7f3b08;stroke:#7f3b08;\" x=\"58.6336\" xlink:href=\"#C0_0_0a42719704\" y=\"141.272337\"/>\r\n    </g>\r\n    <g clip-path=\"url(#p2652fecc80)\">\r\n     <use style=\"fill:#2d004b;stroke:#2d004b;\" x=\"95.081521\" xlink:href=\"#C0_0_0a42719704\" y=\"94.093649\"/>\r\n    </g>\r\n    <g clip-path=\"url(#p2652fecc80)\">\r\n     <use style=\"fill:#7f3b08;stroke:#7f3b08;\" x=\"46.930668\" xlink:href=\"#C0_0_0a42719704\" y=\"142.019455\"/>\r\n    </g>\r\n    <g clip-path=\"url(#p2652fecc80)\">\r\n     <use style=\"fill:#2d004b;stroke:#2d004b;\" x=\"46.839064\" xlink:href=\"#C0_0_0a42719704\" y=\"143.755426\"/>\r\n    </g>\r\n    <g clip-path=\"url(#p2652fecc80)\">\r\n     <use style=\"fill:#7f3b08;stroke:#7f3b08;\" x=\"57.920731\" xlink:href=\"#C0_0_0a42719704\" y=\"54.364228\"/>\r\n    </g>\r\n    <g clip-path=\"url(#p2652fecc80)\">\r\n     <use style=\"fill:#2d004b;stroke:#2d004b;\" x=\"72.957811\" xlink:href=\"#C0_0_0a42719704\" y=\"142.019455\"/>\r\n    </g>\r\n    <g clip-path=\"url(#p2652fecc80)\">\r\n     <use style=\"fill:#2d004b;stroke:#2d004b;\" x=\"48.386108\" xlink:href=\"#C0_0_0a42719704\" y=\"91.61056\"/>\r\n    </g>\r\n    <g clip-path=\"url(#p2652fecc80)\">\r\n     <use style=\"fill:#7f3b08;stroke:#7f3b08;\" x=\"46.75245\" xlink:href=\"#C0_0_0a42719704\" y=\"142.019455\"/>\r\n    </g>\r\n    <g clip-path=\"url(#p2652fecc80)\">\r\n     <use style=\"fill:#2d004b;stroke:#2d004b;\" x=\"57.920731\" xlink:href=\"#C0_0_0a42719704\" y=\"96.576738\"/>\r\n    </g>\r\n    <g clip-path=\"url(#p2652fecc80)\">\r\n     <use style=\"fill:#7f3b08;stroke:#7f3b08;\" x=\"46.930668\" xlink:href=\"#C0_0_0a42719704\" y=\"131.339982\"/>\r\n    </g>\r\n    <g clip-path=\"url(#p2652fecc80)\">\r\n     <use style=\"fill:#7f3b08;stroke:#7f3b08;\" x=\"65.019718\" xlink:href=\"#C0_0_0a42719704\" y=\"99.059827\"/>\r\n    </g>\r\n    <g clip-path=\"url(#p2652fecc80)\">\r\n     <use style=\"fill:#7f3b08;stroke:#7f3b08;\" x=\"49.871252\" xlink:href=\"#C0_0_0a42719704\" y=\"96.576738\"/>\r\n    </g>\r\n    <g clip-path=\"url(#p2652fecc80)\">\r\n     <use style=\"fill:#7f3b08;stroke:#7f3b08;\" x=\"46.930668\" xlink:href=\"#C0_0_0a42719704\" y=\"142.019455\"/>\r\n    </g>\r\n    <g clip-path=\"url(#p2652fecc80)\">\r\n     <use style=\"fill:#7f3b08;stroke:#7f3b08;\" x=\"46.33661\" xlink:href=\"#C0_0_0a42719704\" y=\"121.407626\"/>\r\n    </g>\r\n    <g clip-path=\"url(#p2652fecc80)\">\r\n     <use style=\"fill:#7f3b08;stroke:#7f3b08;\" x=\"42.148505\" xlink:href=\"#C0_0_0a42719704\" y=\"142.019455\"/>\r\n    </g>\r\n    <g clip-path=\"url(#p2652fecc80)\">\r\n     <use style=\"fill:#7f3b08;stroke:#7f3b08;\" x=\"57.920731\" xlink:href=\"#C0_0_0a42719704\" y=\"76.712027\"/>\r\n    </g>\r\n    <g clip-path=\"url(#p2652fecc80)\">\r\n     <use style=\"fill:#7f3b08;stroke:#7f3b08;\" x=\"46.737599\" xlink:href=\"#C0_0_0a42719704\" y=\"142.019455\"/>\r\n    </g>\r\n    <g clip-path=\"url(#p2652fecc80)\">\r\n     <use style=\"fill:#2d004b;stroke:#2d004b;\" x=\"53.589042\" xlink:href=\"#C0_0_0a42719704\" y=\"213.902685\"/>\r\n    </g>\r\n    <g clip-path=\"url(#p2652fecc80)\">\r\n     <use style=\"fill:#7f3b08;stroke:#7f3b08;\" x=\"46.455422\" xlink:href=\"#C0_0_0a42719704\" y=\"142.019455\"/>\r\n    </g>\r\n    <g clip-path=\"url(#p2652fecc80)\">\r\n     <use style=\"fill:#7f3b08;stroke:#7f3b08;\" x=\"47.294528\" xlink:href=\"#C0_0_0a42719704\" y=\"121.407626\"/>\r\n    </g>\r\n    <g clip-path=\"url(#p2652fecc80)\">\r\n     <use style=\"fill:#2d004b;stroke:#2d004b;\" x=\"58.6336\" xlink:href=\"#C0_0_0a42719704\" y=\"133.82307\"/>\r\n    </g>\r\n    <g clip-path=\"url(#p2652fecc80)\">\r\n     <use style=\"fill:#2d004b;stroke:#2d004b;\" x=\"50.341567\" xlink:href=\"#C0_0_0a42719704\" y=\"158.653959\"/>\r\n    </g>\r\n    <g clip-path=\"url(#p2652fecc80)\">\r\n     <use style=\"fill:#7f3b08;stroke:#7f3b08;\" x=\"47.992545\" xlink:href=\"#C0_0_0a42719704\" y=\"161.137048\"/>\r\n    </g>\r\n    <g clip-path=\"url(#p2652fecc80)\">\r\n     <use style=\"fill:#7f3b08;stroke:#7f3b08;\" x=\"73.039494\" xlink:href=\"#C0_0_0a42719704\" y=\"142.019455\"/>\r\n    </g>\r\n    <g clip-path=\"url(#p2652fecc80)\">\r\n     <use style=\"fill:#7f3b08;stroke:#7f3b08;\" x=\"54.623712\" xlink:href=\"#C0_0_0a42719704\" y=\"131.339982\"/>\r\n    </g>\r\n    <g clip-path=\"url(#p2652fecc80)\">\r\n     <use style=\"fill:#7f3b08;stroke:#7f3b08;\" x=\"46.334115\" xlink:href=\"#C0_0_0a42719704\" y=\"143.755426\"/>\r\n    </g>\r\n    <g clip-path=\"url(#p2652fecc80)\">\r\n     <use style=\"fill:#7f3b08;stroke:#7f3b08;\" x=\"46.616292\" xlink:href=\"#C0_0_0a42719704\" y=\"161.137048\"/>\r\n    </g>\r\n    <g clip-path=\"url(#p2652fecc80)\">\r\n     <use style=\"fill:#2d004b;stroke:#2d004b;\" x=\"49.447986\" xlink:href=\"#C0_0_0a42719704\" y=\"210.798824\"/>\r\n    </g>\r\n    <g clip-path=\"url(#p2652fecc80)\">\r\n     <use style=\"fill:#7f3b08;stroke:#7f3b08;\" x=\"70.0098\" xlink:href=\"#C0_0_0a42719704\" y=\"193.417202\"/>\r\n    </g>\r\n    <g clip-path=\"url(#p2652fecc80)\">\r\n     <use style=\"fill:#7f3b08;stroke:#7f3b08;\" x=\"42.148505\" xlink:href=\"#C0_0_0a42719704\" y=\"142.019455\"/>\r\n    </g>\r\n    <g clip-path=\"url(#p2652fecc80)\">\r\n     <use style=\"fill:#7f3b08;stroke:#7f3b08;\" x=\"46.930668\" xlink:href=\"#C0_0_0a42719704\" y=\"91.61056\"/>\r\n    </g>\r\n    <g clip-path=\"url(#p2652fecc80)\">\r\n     <use style=\"fill:#2d004b;stroke:#2d004b;\" x=\"47.844031\" xlink:href=\"#C0_0_0a42719704\" y=\"59.330405\"/>\r\n    </g>\r\n    <g clip-path=\"url(#p2652fecc80)\">\r\n     <use style=\"fill:#2d004b;stroke:#2d004b;\" x=\"96.254784\" xlink:href=\"#C0_0_0a42719704\" y=\"153.687781\"/>\r\n    </g>\r\n    <g clip-path=\"url(#p2652fecc80)\">\r\n     <use style=\"fill:#7f3b08;stroke:#7f3b08;\" x=\"57.277188\" xlink:href=\"#C0_0_0a42719704\" y=\"142.019455\"/>\r\n    </g>\r\n    <g clip-path=\"url(#p2652fecc80)\">\r\n     <use style=\"fill:#2d004b;stroke:#2d004b;\" x=\"95.613678\" xlink:href=\"#C0_0_0a42719704\" y=\"128.856893\"/>\r\n    </g>\r\n    <g clip-path=\"url(#p2652fecc80)\">\r\n     <use style=\"fill:#7f3b08;stroke:#7f3b08;\" x=\"59.792012\" xlink:href=\"#C0_0_0a42719704\" y=\"71.74585\"/>\r\n    </g>\r\n    <g clip-path=\"url(#p2652fecc80)\">\r\n     <use style=\"fill:#7f3b08;stroke:#7f3b08;\" x=\"46.930668\" xlink:href=\"#C0_0_0a42719704\" y=\"141.272337\"/>\r\n    </g>\r\n    <g clip-path=\"url(#p2652fecc80)\">\r\n     <use style=\"fill:#2d004b;stroke:#2d004b;\" x=\"51.594019\" xlink:href=\"#C0_0_0a42719704\" y=\"193.417202\"/>\r\n    </g>\r\n    <g clip-path=\"url(#p2652fecc80)\">\r\n     <use style=\"fill:#7f3b08;stroke:#7f3b08;\" x=\"54.009872\" xlink:href=\"#C0_0_0a42719704\" y=\"142.019455\"/>\r\n    </g>\r\n    <g clip-path=\"url(#p2652fecc80)\">\r\n     <use style=\"fill:#7f3b08;stroke:#7f3b08;\" x=\"46.455422\" xlink:href=\"#C0_0_0a42719704\" y=\"163.620136\"/>\r\n    </g>\r\n    <g clip-path=\"url(#p2652fecc80)\">\r\n     <use style=\"fill:#7f3b08;stroke:#7f3b08;\" x=\"60.267258\" xlink:href=\"#C0_0_0a42719704\" y=\"79.195116\"/>\r\n    </g>\r\n    <g clip-path=\"url(#p2652fecc80)\">\r\n     <use style=\"fill:#7f3b08;stroke:#7f3b08;\" x=\"71.556845\" xlink:href=\"#C0_0_0a42719704\" y=\"39.465695\"/>\r\n    </g>\r\n    <g clip-path=\"url(#p2652fecc80)\">\r\n     <use style=\"fill:#7f3b08;stroke:#7f3b08;\" x=\"46.930668\" xlink:href=\"#C0_0_0a42719704\" y=\"163.620136\"/>\r\n    </g>\r\n    <g clip-path=\"url(#p2652fecc80)\">\r\n     <use style=\"fill:#7f3b08;stroke:#7f3b08;\" x=\"50.737566\" xlink:href=\"#C0_0_0a42719704\" y=\"142.019455\"/>\r\n    </g>\r\n    <g clip-path=\"url(#p2652fecc80)\">\r\n     <use style=\"fill:#2d004b;stroke:#2d004b;\" x=\"88.643423\" xlink:href=\"#C0_0_0a42719704\" y=\"81.678205\"/>\r\n    </g>\r\n    <g clip-path=\"url(#p2652fecc80)\">\r\n     <use style=\"fill:#7f3b08;stroke:#7f3b08;\" x=\"51.118773\" xlink:href=\"#C0_0_0a42719704\" y=\"142.019455\"/>\r\n    </g>\r\n    <g clip-path=\"url(#p2652fecc80)\">\r\n     <use style=\"fill:#7f3b08;stroke:#7f3b08;\" x=\"132.177915\" xlink:href=\"#C0_0_0a42719704\" y=\"153.687781\"/>\r\n    </g>\r\n    <g clip-path=\"url(#p2652fecc80)\">\r\n     <use style=\"fill:#7f3b08;stroke:#7f3b08;\" x=\"46.779658\" xlink:href=\"#C0_0_0a42719704\" y=\"156.17087\"/>\r\n    </g>\r\n    <g clip-path=\"url(#p2652fecc80)\">\r\n     <use style=\"fill:#7f3b08;stroke:#7f3b08;\" x=\"47.294528\" xlink:href=\"#C0_0_0a42719704\" y=\"173.552492\"/>\r\n    </g>\r\n    <g clip-path=\"url(#p2652fecc80)\">\r\n     <use style=\"fill:#7f3b08;stroke:#7f3b08;\" x=\"46.75245\" xlink:href=\"#C0_0_0a42719704\" y=\"163.620136\"/>\r\n    </g>\r\n    <g clip-path=\"url(#p2652fecc80)\">\r\n     <use style=\"fill:#7f3b08;stroke:#7f3b08;\" x=\"46.680688\" xlink:href=\"#C0_0_0a42719704\" y=\"142.019455\"/>\r\n    </g>\r\n    <g clip-path=\"url(#p2652fecc80)\">\r\n     <use style=\"fill:#7f3b08;stroke:#7f3b08;\" x=\"47.844031\" xlink:href=\"#C0_0_0a42719704\" y=\"123.890715\"/>\r\n    </g>\r\n    <g clip-path=\"url(#p2652fecc80)\">\r\n     <use style=\"fill:#2d004b;stroke:#2d004b;\" x=\"93.534476\" xlink:href=\"#C0_0_0a42719704\" y=\"176.035581\"/>\r\n    </g>\r\n    <g clip-path=\"url(#p2652fecc80)\">\r\n     <use style=\"fill:#7f3b08;stroke:#7f3b08;\" x=\"106.841364\" xlink:href=\"#C0_0_0a42719704\" y=\"171.069403\"/>\r\n    </g>\r\n    <g clip-path=\"url(#p2652fecc80)\">\r\n     <use style=\"fill:#2d004b;stroke:#2d004b;\" x=\"57.593999\" xlink:href=\"#C0_0_0a42719704\" y=\"133.82307\"/>\r\n    </g>\r\n    <g clip-path=\"url(#p2652fecc80)\">\r\n     <use style=\"fill:#2d004b;stroke:#2d004b;\" x=\"57.920731\" xlink:href=\"#C0_0_0a42719704\" y=\"142.019455\"/>\r\n    </g>\r\n    <g clip-path=\"url(#p2652fecc80)\">\r\n     <use style=\"fill:#7f3b08;stroke:#7f3b08;\" x=\"55.52965\" xlink:href=\"#C0_0_0a42719704\" y=\"146.238515\"/>\r\n    </g>\r\n    <g clip-path=\"url(#p2652fecc80)\">\r\n     <use style=\"fill:#2d004b;stroke:#2d004b;\" x=\"75.710257\" xlink:href=\"#C0_0_0a42719704\" y=\"151.204692\"/>\r\n    </g>\r\n    <g clip-path=\"url(#p2652fecc80)\">\r\n     <use style=\"fill:#2d004b;stroke:#2d004b;\" x=\"46.75245\" xlink:href=\"#C0_0_0a42719704\" y=\"143.755426\"/>\r\n    </g>\r\n    <g clip-path=\"url(#p2652fecc80)\">\r\n     <use style=\"fill:#7f3b08;stroke:#7f3b08;\" x=\"46.930668\" xlink:href=\"#C0_0_0a42719704\" y=\"142.019455\"/>\r\n    </g>\r\n    <g clip-path=\"url(#p2652fecc80)\">\r\n     <use style=\"fill:#2d004b;stroke:#2d004b;\" x=\"57.764791\" xlink:href=\"#C0_0_0a42719704\" y=\"126.373804\"/>\r\n    </g>\r\n    <g clip-path=\"url(#p2652fecc80)\">\r\n     <use style=\"fill:#2d004b;stroke:#2d004b;\" x=\"77.435519\" xlink:href=\"#C0_0_0a42719704\" y=\"81.678205\"/>\r\n    </g>\r\n    <g clip-path=\"url(#p2652fecc80)\">\r\n     <use style=\"fill:#7f3b08;stroke:#7f3b08;\" x=\"46.601441\" xlink:href=\"#C0_0_0a42719704\" y=\"156.17087\"/>\r\n    </g>\r\n    <g clip-path=\"url(#p2652fecc80)\">\r\n     <use style=\"fill:#7f3b08;stroke:#7f3b08;\" x=\"62.358815\" xlink:href=\"#C0_0_0a42719704\" y=\"99.059827\"/>\r\n    </g>\r\n    <g clip-path=\"url(#p2652fecc80)\">\r\n     <use style=\"fill:#2d004b;stroke:#2d004b;\" x=\"48.386108\" xlink:href=\"#C0_0_0a42719704\" y=\"131.339982\"/>\r\n    </g>\r\n    <g clip-path=\"url(#p2652fecc80)\">\r\n     <use style=\"fill:#7f3b08;stroke:#7f3b08;\" x=\"56.494993\" xlink:href=\"#C0_0_0a42719704\" y=\"142.019455\"/>\r\n    </g>\r\n    <g clip-path=\"url(#p2652fecc80)\">\r\n     <use style=\"fill:#2d004b;stroke:#2d004b;\" x=\"57.593999\" xlink:href=\"#C0_0_0a42719704\" y=\"126.373804\"/>\r\n    </g>\r\n    <g clip-path=\"url(#p2652fecc80)\">\r\n     <use style=\"fill:#7f3b08;stroke:#7f3b08;\" x=\"46.839064\" xlink:href=\"#C0_0_0a42719704\" y=\"136.306159\"/>\r\n    </g>\r\n    <g clip-path=\"url(#p2652fecc80)\">\r\n     <use style=\"fill:#2d004b;stroke:#2d004b;\" x=\"97.692879\" xlink:href=\"#C0_0_0a42719704\" y=\"141.272337\"/>\r\n    </g>\r\n    <g clip-path=\"url(#p2652fecc80)\">\r\n     <use style=\"fill:#7f3b08;stroke:#7f3b08;\" x=\"46.839064\" xlink:href=\"#C0_0_0a42719704\" y=\"161.137048\"/>\r\n    </g>\r\n    <g clip-path=\"url(#p2652fecc80)\">\r\n     <use style=\"fill:#7f3b08;stroke:#7f3b08;\" x=\"46.44057\" xlink:href=\"#C0_0_0a42719704\" y=\"142.019455\"/>\r\n    </g>\r\n    <g clip-path=\"url(#p2652fecc80)\">\r\n     <use style=\"fill:#2d004b;stroke:#2d004b;\" x=\"76.591482\" xlink:href=\"#C0_0_0a42719704\" y=\"106.509093\"/>\r\n    </g>\r\n    <g clip-path=\"url(#p2652fecc80)\">\r\n     <use style=\"fill:#7f3b08;stroke:#7f3b08;\" x=\"46.443065\" xlink:href=\"#C0_0_0a42719704\" y=\"142.019455\"/>\r\n    </g>\r\n    <g clip-path=\"url(#p2652fecc80)\">\r\n     <use style=\"fill:#7f3b08;stroke:#7f3b08;\" x=\"46.75245\" xlink:href=\"#C0_0_0a42719704\" y=\"115.199904\"/>\r\n    </g>\r\n    <g clip-path=\"url(#p2652fecc80)\">\r\n     <use style=\"fill:#2d004b;stroke:#2d004b;\" x=\"48.386108\" xlink:href=\"#C0_0_0a42719704\" y=\"91.61056\"/>\r\n    </g>\r\n    <g clip-path=\"url(#p2652fecc80)\">\r\n     <use style=\"fill:#7f3b08;stroke:#7f3b08;\" x=\"173.898096\" xlink:href=\"#C0_0_0a42719704\" y=\"142.019455\"/>\r\n    </g>\r\n    <g clip-path=\"url(#p2652fecc80)\">\r\n     <use style=\"fill:#7f3b08;stroke:#7f3b08;\" x=\"46.85641\" xlink:href=\"#C0_0_0a42719704\" y=\"118.924537\"/>\r\n    </g>\r\n    <g clip-path=\"url(#p2652fecc80)\">\r\n     <use style=\"fill:#7f3b08;stroke:#7f3b08;\" x=\"48.980166\" xlink:href=\"#C0_0_0a42719704\" y=\"158.653959\"/>\r\n    </g>\r\n    <g clip-path=\"url(#p2652fecc80)\">\r\n     <use style=\"fill:#2d004b;stroke:#2d004b;\" x=\"57.593999\" xlink:href=\"#C0_0_0a42719704\" y=\"210.798824\"/>\r\n    </g>\r\n    <g clip-path=\"url(#p2652fecc80)\">\r\n     <use style=\"fill:#7f3b08;stroke:#7f3b08;\" x=\"46.443065\" xlink:href=\"#C0_0_0a42719704\" y=\"142.019455\"/>\r\n    </g>\r\n    <g clip-path=\"url(#p2652fecc80)\">\r\n     <use style=\"fill:#7f3b08;stroke:#7f3b08;\" x=\"46.443065\" xlink:href=\"#C0_0_0a42719704\" y=\"173.552492\"/>\r\n    </g>\r\n    <g clip-path=\"url(#p2652fecc80)\">\r\n     <use style=\"fill:#2d004b;stroke:#2d004b;\" x=\"55.43062\" xlink:href=\"#C0_0_0a42719704\" y=\"142.019455\"/>\r\n    </g>\r\n    <g clip-path=\"url(#p2652fecc80)\">\r\n     <use style=\"fill:#7f3b08;stroke:#7f3b08;\" x=\"47.294528\" xlink:href=\"#C0_0_0a42719704\" y=\"141.272337\"/>\r\n    </g>\r\n    <g clip-path=\"url(#p2652fecc80)\">\r\n     <use style=\"fill:#2d004b;stroke:#2d004b;\" x=\"57.742514\" xlink:href=\"#C0_0_0a42719704\" y=\"198.38338\"/>\r\n    </g>\r\n    <g clip-path=\"url(#p2652fecc80)\">\r\n     <use style=\"fill:#7f3b08;stroke:#7f3b08;\" x=\"57.920731\" xlink:href=\"#C0_0_0a42719704\" y=\"104.026004\"/>\r\n    </g>\r\n    <g clip-path=\"url(#p2652fecc80)\">\r\n     <use style=\"fill:#2d004b;stroke:#2d004b;\" x=\"105.371072\" xlink:href=\"#C0_0_0a42719704\" y=\"141.272337\"/>\r\n    </g>\r\n    <g clip-path=\"url(#p2652fecc80)\">\r\n     <use style=\"fill:#7f3b08;stroke:#7f3b08;\" x=\"50.762338\" xlink:href=\"#C0_0_0a42719704\" y=\"142.019455\"/>\r\n    </g>\r\n    <g clip-path=\"url(#p2652fecc80)\">\r\n     <use style=\"fill:#2d004b;stroke:#2d004b;\" x=\"71.55435\" xlink:href=\"#C0_0_0a42719704\" y=\"161.137048\"/>\r\n    </g>\r\n    <g clip-path=\"url(#p2652fecc80)\">\r\n     <use style=\"fill:#2d004b;stroke:#2d004b;\" x=\"84.326586\" xlink:href=\"#C0_0_0a42719704\" y=\"126.373804\"/>\r\n    </g>\r\n    <g clip-path=\"url(#p2652fecc80)\">\r\n     <use style=\"fill:#7f3b08;stroke:#7f3b08;\" x=\"60.727652\" xlink:href=\"#C0_0_0a42719704\" y=\"193.417202\"/>\r\n    </g>\r\n    <g clip-path=\"url(#p2652fecc80)\">\r\n     <use style=\"fill:#7f3b08;stroke:#7f3b08;\" x=\"60.727652\" xlink:href=\"#C0_0_0a42719704\" y=\"188.451025\"/>\r\n    </g>\r\n    <g clip-path=\"url(#p2652fecc80)\">\r\n     <use style=\"fill:#2d004b;stroke:#2d004b;\" x=\"57.593999\" xlink:href=\"#C0_0_0a42719704\" y=\"136.306159\"/>\r\n    </g>\r\n    <g clip-path=\"url(#p2652fecc80)\">\r\n     <use style=\"fill:#7f3b08;stroke:#7f3b08;\" x=\"105.371072\" xlink:href=\"#C0_0_0a42719704\" y=\"91.61056\"/>\r\n    </g>\r\n    <g clip-path=\"url(#p2652fecc80)\">\r\n     <use style=\"fill:#7f3b08;stroke:#7f3b08;\" x=\"57.593999\" xlink:href=\"#C0_0_0a42719704\" y=\"56.847317\"/>\r\n    </g>\r\n    <g clip-path=\"url(#p2652fecc80)\">\r\n     <use style=\"fill:#2d004b;stroke:#2d004b;\" x=\"57.593999\" xlink:href=\"#C0_0_0a42719704\" y=\"168.586314\"/>\r\n    </g>\r\n    <g clip-path=\"url(#p2652fecc80)\">\r\n     <use style=\"fill:#2d004b;stroke:#2d004b;\" x=\"50.383627\" xlink:href=\"#C0_0_0a42719704\" y=\"142.019455\"/>\r\n    </g>\r\n    <g clip-path=\"url(#p2652fecc80)\">\r\n     <use style=\"fill:#7f3b08;stroke:#7f3b08;\" x=\"54.341535\" xlink:href=\"#C0_0_0a42719704\" y=\"133.82307\"/>\r\n    </g>\r\n    <g clip-path=\"url(#p2652fecc80)\">\r\n     <use style=\"fill:#2d004b;stroke:#2d004b;\" x=\"63.980117\" xlink:href=\"#C0_0_0a42719704\" y=\"195.900291\"/>\r\n    </g>\r\n    <g clip-path=\"url(#p2652fecc80)\">\r\n     <use style=\"fill:#2d004b;stroke:#2d004b;\" x=\"108.019558\" xlink:href=\"#C0_0_0a42719704\" y=\"173.552492\"/>\r\n    </g>\r\n    <g clip-path=\"url(#p2652fecc80)\">\r\n     <use style=\"fill:#7f3b08;stroke:#7f3b08;\" x=\"57.593999\" xlink:href=\"#C0_0_0a42719704\" y=\"148.721603\"/>\r\n    </g>\r\n    <g clip-path=\"url(#p2652fecc80)\">\r\n     <use style=\"fill:#7f3b08;stroke:#7f3b08;\" x=\"46.7995\" xlink:href=\"#C0_0_0a42719704\" y=\"142.019455\"/>\r\n    </g>\r\n    <g clip-path=\"url(#p2652fecc80)\">\r\n     <use style=\"fill:#2d004b;stroke:#2d004b;\" x=\"46.44057\" xlink:href=\"#C0_0_0a42719704\" y=\"161.137048\"/>\r\n    </g>\r\n    <g clip-path=\"url(#p2652fecc80)\">\r\n     <use style=\"fill:#2d004b;stroke:#2d004b;\" x=\"46.767302\" xlink:href=\"#C0_0_0a42719704\" y=\"161.137048\"/>\r\n    </g>\r\n    <g clip-path=\"url(#p2652fecc80)\">\r\n     <use style=\"fill:#7f3b08;stroke:#7f3b08;\" x=\"57.920731\" xlink:href=\"#C0_0_0a42719704\" y=\"61.813494\"/>\r\n    </g>\r\n    <g clip-path=\"url(#p2652fecc80)\">\r\n     <use style=\"fill:#2d004b;stroke:#2d004b;\" x=\"65.673181\" xlink:href=\"#C0_0_0a42719704\" y=\"96.576738\"/>\r\n    </g>\r\n    <g clip-path=\"url(#p2652fecc80)\">\r\n     <use style=\"fill:#7f3b08;stroke:#7f3b08;\" x=\"177.311432\" xlink:href=\"#C0_0_0a42719704\" y=\"142.019455\"/>\r\n    </g>\r\n    <g clip-path=\"url(#p2652fecc80)\">\r\n     <use style=\"fill:#2d004b;stroke:#2d004b;\" x=\"89.465183\" xlink:href=\"#C0_0_0a42719704\" y=\"118.924537\"/>\r\n    </g>\r\n    <g clip-path=\"url(#p2652fecc80)\">\r\n     <use style=\"fill:#2d004b;stroke:#2d004b;\" x=\"52.485105\" xlink:href=\"#C0_0_0a42719704\" y=\"126.373804\"/>\r\n    </g>\r\n    <g clip-path=\"url(#p2652fecc80)\">\r\n     <use style=\"fill:#7f3b08;stroke:#7f3b08;\" x=\"46.75245\" xlink:href=\"#C0_0_0a42719704\" y=\"142.019455\"/>\r\n    </g>\r\n    <g clip-path=\"url(#p2652fecc80)\">\r\n     <use style=\"fill:#7f3b08;stroke:#7f3b08;\" x=\"46.839064\" xlink:href=\"#C0_0_0a42719704\" y=\"116.441449\"/>\r\n    </g>\r\n    <g clip-path=\"url(#p2652fecc80)\">\r\n     <use style=\"fill:#7f3b08;stroke:#7f3b08;\" x=\"50.168281\" xlink:href=\"#C0_0_0a42719704\" y=\"146.238515\"/>\r\n    </g>\r\n    <g clip-path=\"url(#p2652fecc80)\">\r\n     <use style=\"fill:#7f3b08;stroke:#7f3b08;\" x=\"46.930668\" xlink:href=\"#C0_0_0a42719704\" y=\"142.019455\"/>\r\n    </g>\r\n    <g clip-path=\"url(#p2652fecc80)\">\r\n     <use style=\"fill:#7f3b08;stroke:#7f3b08;\" x=\"46.930668\" xlink:href=\"#C0_0_0a42719704\" y=\"142.019455\"/>\r\n    </g>\r\n    <g clip-path=\"url(#p2652fecc80)\">\r\n     <use style=\"fill:#7f3b08;stroke:#7f3b08;\" x=\"56.494993\" xlink:href=\"#C0_0_0a42719704\" y=\"156.17087\"/>\r\n    </g>\r\n    <g clip-path=\"url(#p2652fecc80)\">\r\n     <use style=\"fill:#7f3b08;stroke:#7f3b08;\" x=\"46.839064\" xlink:href=\"#C0_0_0a42719704\" y=\"168.586314\"/>\r\n    </g>\r\n    <g clip-path=\"url(#p2652fecc80)\">\r\n     <use style=\"fill:#7f3b08;stroke:#7f3b08;\" x=\"54.668266\" xlink:href=\"#C0_0_0a42719704\" y=\"143.755426\"/>\r\n    </g>\r\n    <g clip-path=\"url(#p2652fecc80)\">\r\n     <use style=\"fill:#7f3b08;stroke:#7f3b08;\" x=\"46.443065\" xlink:href=\"#C0_0_0a42719704\" y=\"142.019455\"/>\r\n    </g>\r\n    <g clip-path=\"url(#p2652fecc80)\">\r\n     <use style=\"fill:#2d004b;stroke:#2d004b;\" x=\"46.814351\" xlink:href=\"#C0_0_0a42719704\" y=\"136.306159\"/>\r\n    </g>\r\n    <g clip-path=\"url(#p2652fecc80)\">\r\n     <use style=\"fill:#2d004b;stroke:#2d004b;\" x=\"48.386108\" xlink:href=\"#C0_0_0a42719704\" y=\"61.813494\"/>\r\n    </g>\r\n    <g clip-path=\"url(#p2652fecc80)\">\r\n     <use style=\"fill:#2d004b;stroke:#2d004b;\" x=\"72.730108\" xlink:href=\"#C0_0_0a42719704\" y=\"84.161294\"/>\r\n    </g>\r\n    <g clip-path=\"url(#p2652fecc80)\">\r\n     <use style=\"fill:#2d004b;stroke:#2d004b;\" x=\"57.824196\" xlink:href=\"#C0_0_0a42719704\" y=\"126.373804\"/>\r\n    </g>\r\n    <g clip-path=\"url(#p2652fecc80)\">\r\n     <use style=\"fill:#2d004b;stroke:#2d004b;\" x=\"46.75245\" xlink:href=\"#C0_0_0a42719704\" y=\"142.019455\"/>\r\n    </g>\r\n    <g clip-path=\"url(#p2652fecc80)\">\r\n     <use style=\"fill:#7f3b08;stroke:#7f3b08;\" x=\"46.930668\" xlink:href=\"#C0_0_0a42719704\" y=\"176.035581\"/>\r\n    </g>\r\n    <g clip-path=\"url(#p2652fecc80)\">\r\n     <use style=\"fill:#7f3b08;stroke:#7f3b08;\" x=\"50.762338\" xlink:href=\"#C0_0_0a42719704\" y=\"168.586314\"/>\r\n    </g>\r\n    <g clip-path=\"url(#p2652fecc80)\">\r\n     <use style=\"fill:#2d004b;stroke:#2d004b;\" x=\"49.871252\" xlink:href=\"#C0_0_0a42719704\" y=\"131.339982\"/>\r\n    </g>\r\n    <g clip-path=\"url(#p2652fecc80)\">\r\n     <use style=\"fill:#2d004b;stroke:#2d004b;\" x=\"75.356318\" xlink:href=\"#C0_0_0a42719704\" y=\"118.924537\"/>\r\n    </g>\r\n    <g clip-path=\"url(#p2652fecc80)\">\r\n     <use style=\"fill:#7f3b08;stroke:#7f3b08;\" x=\"50.737566\" xlink:href=\"#C0_0_0a42719704\" y=\"142.019455\"/>\r\n    </g>\r\n    <g clip-path=\"url(#p2652fecc80)\">\r\n     <use style=\"fill:#2d004b;stroke:#2d004b;\" x=\"46.85641\" xlink:href=\"#C0_0_0a42719704\" y=\"136.306159\"/>\r\n    </g>\r\n    <g clip-path=\"url(#p2652fecc80)\">\r\n     <use style=\"fill:#2d004b;stroke:#2d004b;\" x=\"59.970229\" xlink:href=\"#C0_0_0a42719704\" y=\"153.687781\"/>\r\n    </g>\r\n    <g clip-path=\"url(#p2652fecc80)\">\r\n     <use style=\"fill:#2d004b;stroke:#2d004b;\" x=\"108.019558\" xlink:href=\"#C0_0_0a42719704\" y=\"118.924537\"/>\r\n    </g>\r\n    <g clip-path=\"url(#p2652fecc80)\">\r\n     <use style=\"fill:#7f3b08;stroke:#7f3b08;\" x=\"57.593999\" xlink:href=\"#C0_0_0a42719704\" y=\"81.678205\"/>\r\n    </g>\r\n    <g clip-path=\"url(#p2652fecc80)\">\r\n     <use style=\"fill:#7f3b08;stroke:#7f3b08;\" x=\"65.985061\" xlink:href=\"#C0_0_0a42719704\" y=\"126.373804\"/>\r\n    </g>\r\n    <g clip-path=\"url(#p2652fecc80)\">\r\n     <use style=\"fill:#7f3b08;stroke:#7f3b08;\" x=\"47.324231\" xlink:href=\"#C0_0_0a42719704\" y=\"142.019455\"/>\r\n    </g>\r\n    <g clip-path=\"url(#p2652fecc80)\">\r\n     <use style=\"fill:#2d004b;stroke:#2d004b;\" x=\"89.465183\" xlink:href=\"#C0_0_0a42719704\" y=\"171.069403\"/>\r\n    </g>\r\n    <g clip-path=\"url(#p2652fecc80)\">\r\n     <use style=\"fill:#7f3b08;stroke:#7f3b08;\" x=\"51.059367\" xlink:href=\"#C0_0_0a42719704\" y=\"99.059827\"/>\r\n    </g>\r\n    <g clip-path=\"url(#p2652fecc80)\">\r\n     <use style=\"fill:#2d004b;stroke:#2d004b;\" x=\"89.197857\" xlink:href=\"#C0_0_0a42719704\" y=\"66.779672\"/>\r\n    </g>\r\n    <g clip-path=\"url(#p2652fecc80)\">\r\n     <use style=\"fill:#7f3b08;stroke:#7f3b08;\" x=\"46.930668\" xlink:href=\"#C0_0_0a42719704\" y=\"161.137048\"/>\r\n    </g>\r\n    <g clip-path=\"url(#p2652fecc80)\">\r\n     <use style=\"fill:#7f3b08;stroke:#7f3b08;\" x=\"46.930668\" xlink:href=\"#C0_0_0a42719704\" y=\"142.019455\"/>\r\n    </g>\r\n    <g clip-path=\"url(#p2652fecc80)\">\r\n     <use style=\"fill:#7f3b08;stroke:#7f3b08;\" x=\"46.381164\" xlink:href=\"#C0_0_0a42719704\" y=\"128.856893\"/>\r\n    </g>\r\n    <g clip-path=\"url(#p2652fecc80)\">\r\n     <use style=\"fill:#2d004b;stroke:#2d004b;\" x=\"88.643423\" xlink:href=\"#C0_0_0a42719704\" y=\"86.644383\"/>\r\n    </g>\r\n    <g clip-path=\"url(#p2652fecc80)\">\r\n     <use style=\"fill:#7f3b08;stroke:#7f3b08;\" x=\"46.455422\" xlink:href=\"#C0_0_0a42719704\" y=\"99.059827\"/>\r\n    </g>\r\n    <g clip-path=\"url(#p2652fecc80)\">\r\n     <use style=\"fill:#7f3b08;stroke:#7f3b08;\" x=\"46.75245\" xlink:href=\"#C0_0_0a42719704\" y=\"142.019455\"/>\r\n    </g>\r\n    <g clip-path=\"url(#p2652fecc80)\">\r\n     <use style=\"fill:#7f3b08;stroke:#7f3b08;\" x=\"57.593999\" xlink:href=\"#C0_0_0a42719704\" y=\"123.890715\"/>\r\n    </g>\r\n    <g clip-path=\"url(#p2652fecc80)\">\r\n     <use style=\"fill:#7f3b08;stroke:#7f3b08;\" x=\"56.494993\" xlink:href=\"#C0_0_0a42719704\" y=\"126.373804\"/>\r\n    </g>\r\n    <g clip-path=\"url(#p2652fecc80)\">\r\n     <use style=\"fill:#2d004b;stroke:#2d004b;\" x=\"61.752402\" xlink:href=\"#C0_0_0a42719704\" y=\"142.019455\"/>\r\n    </g>\r\n    <g clip-path=\"url(#p2652fecc80)\">\r\n     <use style=\"fill:#7f3b08;stroke:#7f3b08;\" x=\"42.148505\" xlink:href=\"#C0_0_0a42719704\" y=\"94.093649\"/>\r\n    </g>\r\n    <g clip-path=\"url(#p2652fecc80)\">\r\n     <use style=\"fill:#7f3b08;stroke:#7f3b08;\" x=\"46.44057\" xlink:href=\"#C0_0_0a42719704\" y=\"142.019455\"/>\r\n    </g>\r\n    <g clip-path=\"url(#p2652fecc80)\">\r\n     <use style=\"fill:#2d004b;stroke:#2d004b;\" x=\"75.967722\" xlink:href=\"#C0_0_0a42719704\" y=\"94.093649\"/>\r\n    </g>\r\n    <g clip-path=\"url(#p2652fecc80)\">\r\n     <use style=\"fill:#2d004b;stroke:#2d004b;\" x=\"58.188057\" xlink:href=\"#C0_0_0a42719704\" y=\"156.17087\"/>\r\n    </g>\r\n    <g clip-path=\"url(#p2652fecc80)\">\r\n     <use style=\"fill:#7f3b08;stroke:#7f3b08;\" x=\"46.839064\" xlink:href=\"#C0_0_0a42719704\" y=\"142.019455\"/>\r\n    </g>\r\n    <g clip-path=\"url(#p2652fecc80)\">\r\n     <use style=\"fill:#7f3b08;stroke:#7f3b08;\" x=\"67.336542\" xlink:href=\"#C0_0_0a42719704\" y=\"142.019455\"/>\r\n    </g>\r\n    <g clip-path=\"url(#p2652fecc80)\">\r\n     <use style=\"fill:#7f3b08;stroke:#7f3b08;\" x=\"46.930668\" xlink:href=\"#C0_0_0a42719704\" y=\"106.509093\"/>\r\n    </g>\r\n    <g clip-path=\"url(#p2652fecc80)\">\r\n     <use style=\"fill:#2d004b;stroke:#2d004b;\" x=\"57.920731\" xlink:href=\"#C0_0_0a42719704\" y=\"128.856893\"/>\r\n    </g>\r\n    <g clip-path=\"url(#p2652fecc80)\">\r\n     <use style=\"fill:#7f3b08;stroke:#7f3b08;\" x=\"51.386099\" xlink:href=\"#C0_0_0a42719704\" y=\"126.373804\"/>\r\n    </g>\r\n    <g clip-path=\"url(#p2652fecc80)\">\r\n     <use style=\"fill:#7f3b08;stroke:#7f3b08;\" x=\"46.839064\" xlink:href=\"#C0_0_0a42719704\" y=\"141.272337\"/>\r\n    </g>\r\n    <g clip-path=\"url(#p2652fecc80)\">\r\n     <use style=\"fill:#2d004b;stroke:#2d004b;\" x=\"60.267258\" xlink:href=\"#C0_0_0a42719704\" y=\"148.721603\"/>\r\n    </g>\r\n    <g clip-path=\"url(#p2652fecc80)\">\r\n     <use style=\"fill:#2d004b;stroke:#2d004b;\" x=\"66.848939\" xlink:href=\"#C0_0_0a42719704\" y=\"161.137048\"/>\r\n    </g>\r\n    <g clip-path=\"url(#p2652fecc80)\">\r\n     <use style=\"fill:#2d004b;stroke:#2d004b;\" x=\"133.31405\" xlink:href=\"#C0_0_0a42719704\" y=\"116.441449\"/>\r\n    </g>\r\n    <g clip-path=\"url(#p2652fecc80)\">\r\n     <use style=\"fill:#7f3b08;stroke:#7f3b08;\" x=\"60.727652\" xlink:href=\"#C0_0_0a42719704\" y=\"118.924537\"/>\r\n    </g>\r\n    <g clip-path=\"url(#p2652fecc80)\">\r\n     <use style=\"fill:#7f3b08;stroke:#7f3b08;\" x=\"46.33661\" xlink:href=\"#C0_0_0a42719704\" y=\"142.019455\"/>\r\n    </g>\r\n    <g clip-path=\"url(#p2652fecc80)\">\r\n     <use style=\"fill:#2d004b;stroke:#2d004b;\" x=\"51.356396\" xlink:href=\"#C0_0_0a42719704\" y=\"142.019455\"/>\r\n    </g>\r\n    <g clip-path=\"url(#p2652fecc80)\">\r\n     <use style=\"fill:#7f3b08;stroke:#7f3b08;\" x=\"46.75245\" xlink:href=\"#C0_0_0a42719704\" y=\"142.019455\"/>\r\n    </g>\r\n    <g clip-path=\"url(#p2652fecc80)\">\r\n     <use style=\"fill:#7f3b08;stroke:#7f3b08;\" x=\"46.930668\" xlink:href=\"#C0_0_0a42719704\" y=\"128.856893\"/>\r\n    </g>\r\n    <g clip-path=\"url(#p2652fecc80)\">\r\n     <use style=\"fill:#2d004b;stroke:#2d004b;\" x=\"80.762241\" xlink:href=\"#C0_0_0a42719704\" y=\"156.17087\"/>\r\n    </g>\r\n    <g clip-path=\"url(#p2652fecc80)\">\r\n     <use style=\"fill:#7f3b08;stroke:#7f3b08;\" x=\"50.702933\" xlink:href=\"#C0_0_0a42719704\" y=\"131.339982\"/>\r\n    </g>\r\n    <g clip-path=\"url(#p2652fecc80)\">\r\n     <use style=\"fill:#7f3b08;stroke:#7f3b08;\" x=\"51.71283\" xlink:href=\"#C0_0_0a42719704\" y=\"151.204692\"/>\r\n    </g>\r\n    <g clip-path=\"url(#p2652fecc80)\">\r\n     <use style=\"fill:#2d004b;stroke:#2d004b;\" x=\"65.316746\" xlink:href=\"#C0_0_0a42719704\" y=\"205.832647\"/>\r\n    </g>\r\n    <g clip-path=\"url(#p2652fecc80)\">\r\n     <use style=\"fill:#7f3b08;stroke:#7f3b08;\" x=\"48.386108\" xlink:href=\"#C0_0_0a42719704\" y=\"151.204692\"/>\r\n    </g>\r\n    <g clip-path=\"url(#p2652fecc80)\">\r\n     <use style=\"fill:#7f3b08;stroke:#7f3b08;\" x=\"50.73513\" xlink:href=\"#C0_0_0a42719704\" y=\"148.721603\"/>\r\n    </g>\r\n    <g clip-path=\"url(#p2652fecc80)\">\r\n     <use style=\"fill:#2d004b;stroke:#2d004b;\" x=\"73.36872\" xlink:href=\"#C0_0_0a42719704\" y=\"111.475271\"/>\r\n    </g>\r\n    <g clip-path=\"url(#p2652fecc80)\">\r\n     <use style=\"fill:#2d004b;stroke:#2d004b;\" x=\"51.499979\" xlink:href=\"#C0_0_0a42719704\" y=\"166.103225\"/>\r\n    </g>\r\n    <g clip-path=\"url(#p2652fecc80)\">\r\n     <use style=\"fill:#7f3b08;stroke:#7f3b08;\" x=\"46.814351\" xlink:href=\"#C0_0_0a42719704\" y=\"163.620136\"/>\r\n    </g>\r\n    <g clip-path=\"url(#p2652fecc80)\">\r\n     <use style=\"fill:#7f3b08;stroke:#7f3b08;\" x=\"51.71283\" xlink:href=\"#C0_0_0a42719704\" y=\"163.620136\"/>\r\n    </g>\r\n    <g clip-path=\"url(#p2652fecc80)\">\r\n     <use style=\"fill:#7f3b08;stroke:#7f3b08;\" x=\"61.348918\" xlink:href=\"#C0_0_0a42719704\" y=\"64.296583\"/>\r\n    </g>\r\n    <g clip-path=\"url(#p2652fecc80)\">\r\n     <use style=\"fill:#7f3b08;stroke:#7f3b08;\" x=\"49.485115\" xlink:href=\"#C0_0_0a42719704\" y=\"74.228938\"/>\r\n    </g>\r\n    <g clip-path=\"url(#p2652fecc80)\">\r\n     <use style=\"fill:#2d004b;stroke:#2d004b;\" x=\"88.460216\" xlink:href=\"#C0_0_0a42719704\" y=\"163.620136\"/>\r\n    </g>\r\n    <g clip-path=\"url(#p2652fecc80)\">\r\n     <use style=\"fill:#7f3b08;stroke:#7f3b08;\" x=\"46.839064\" xlink:href=\"#C0_0_0a42719704\" y=\"151.204692\"/>\r\n    </g>\r\n    <g clip-path=\"url(#p2652fecc80)\">\r\n     <use style=\"fill:#7f3b08;stroke:#7f3b08;\" x=\"46.74253\" xlink:href=\"#C0_0_0a42719704\" y=\"142.019455\"/>\r\n    </g>\r\n    <g clip-path=\"url(#p2652fecc80)\">\r\n     <use style=\"fill:#2d004b;stroke:#2d004b;\" x=\"59.970229\" xlink:href=\"#C0_0_0a42719704\" y=\"17.117895\"/>\r\n    </g>\r\n    <g clip-path=\"url(#p2652fecc80)\">\r\n     <use style=\"fill:#7f3b08;stroke:#7f3b08;\" x=\"46.339105\" xlink:href=\"#C0_0_0a42719704\" y=\"89.127471\"/>\r\n    </g>\r\n    <g clip-path=\"url(#p2652fecc80)\">\r\n     <use style=\"fill:#2d004b;stroke:#2d004b;\" x=\"60.267258\" xlink:href=\"#C0_0_0a42719704\" y=\"136.306159\"/>\r\n    </g>\r\n    <g clip-path=\"url(#p2652fecc80)\">\r\n     <use style=\"fill:#7f3b08;stroke:#7f3b08;\" x=\"42.148505\" xlink:href=\"#C0_0_0a42719704\" y=\"142.019455\"/>\r\n    </g>\r\n    <g clip-path=\"url(#p2652fecc80)\">\r\n     <use style=\"fill:#7f3b08;stroke:#7f3b08;\" x=\"58.722708\" xlink:href=\"#C0_0_0a42719704\" y=\"193.417202\"/>\r\n    </g>\r\n    <g clip-path=\"url(#p2652fecc80)\">\r\n     <use style=\"fill:#2d004b;stroke:#2d004b;\" x=\"49.871252\" xlink:href=\"#C0_0_0a42719704\" y=\"146.238515\"/>\r\n    </g>\r\n    <g clip-path=\"url(#p2652fecc80)\">\r\n     <use style=\"fill:#7f3b08;stroke:#7f3b08;\" x=\"46.85641\" xlink:href=\"#C0_0_0a42719704\" y=\"136.306159\"/>\r\n    </g>\r\n    <g clip-path=\"url(#p2652fecc80)\">\r\n     <use style=\"fill:#7f3b08;stroke:#7f3b08;\" x=\"57.742514\" xlink:href=\"#C0_0_0a42719704\" y=\"138.789248\"/>\r\n    </g>\r\n    <g clip-path=\"url(#p2652fecc80)\">\r\n     <use style=\"fill:#7f3b08;stroke:#7f3b08;\" x=\"65.725161\" xlink:href=\"#C0_0_0a42719704\" y=\"113.95836\"/>\r\n    </g>\r\n    <g clip-path=\"url(#p2652fecc80)\">\r\n     <use style=\"fill:#7f3b08;stroke:#7f3b08;\" x=\"51.71283\" xlink:href=\"#C0_0_0a42719704\" y=\"142.019455\"/>\r\n    </g>\r\n    <g clip-path=\"url(#p2652fecc80)\">\r\n     <use style=\"fill:#7f3b08;stroke:#7f3b08;\" x=\"46.814351\" xlink:href=\"#C0_0_0a42719704\" y=\"166.103225\"/>\r\n    </g>\r\n    <g clip-path=\"url(#p2652fecc80)\">\r\n     <use style=\"fill:#2d004b;stroke:#2d004b;\" x=\"83.316688\" xlink:href=\"#C0_0_0a42719704\" y=\"156.17087\"/>\r\n    </g>\r\n    <g clip-path=\"url(#p2652fecc80)\">\r\n     <use style=\"fill:#7f3b08;stroke:#7f3b08;\" x=\"58.722708\" xlink:href=\"#C0_0_0a42719704\" y=\"210.798824\"/>\r\n    </g>\r\n    <g clip-path=\"url(#p2652fecc80)\">\r\n     <use style=\"fill:#2d004b;stroke:#2d004b;\" x=\"75.710257\" xlink:href=\"#C0_0_0a42719704\" y=\"142.019455\"/>\r\n    </g>\r\n    <g clip-path=\"url(#p2652fecc80)\">\r\n     <use style=\"fill:#2d004b;stroke:#2d004b;\" x=\"53.589042\" xlink:href=\"#C0_0_0a42719704\" y=\"213.902685\"/>\r\n    </g>\r\n    <g clip-path=\"url(#p2652fecc80)\">\r\n     <use style=\"fill:#2d004b;stroke:#2d004b;\" x=\"87.73006\" xlink:href=\"#C0_0_0a42719704\" y=\"96.576738\"/>\r\n    </g>\r\n    <g clip-path=\"url(#p2652fecc80)\">\r\n     <use style=\"fill:#7f3b08;stroke:#7f3b08;\" x=\"46.839064\" xlink:href=\"#C0_0_0a42719704\" y=\"168.586314\"/>\r\n    </g>\r\n    <g clip-path=\"url(#p2652fecc80)\">\r\n     <use style=\"fill:#2d004b;stroke:#2d004b;\" x=\"63.237545\" xlink:href=\"#C0_0_0a42719704\" y=\"76.712027\"/>\r\n    </g>\r\n    <g clip-path=\"url(#p2652fecc80)\">\r\n     <use style=\"fill:#7f3b08;stroke:#7f3b08;\" x=\"46.633639\" xlink:href=\"#C0_0_0a42719704\" y=\"142.019455\"/>\r\n    </g>\r\n    <g clip-path=\"url(#p2652fecc80)\">\r\n     <use style=\"fill:#2d004b;stroke:#2d004b;\" x=\"46.633639\" xlink:href=\"#C0_0_0a42719704\" y=\"158.653959\"/>\r\n    </g>\r\n    <g clip-path=\"url(#p2652fecc80)\">\r\n     <use style=\"fill:#7f3b08;stroke:#7f3b08;\" x=\"46.839064\" xlink:href=\"#C0_0_0a42719704\" y=\"142.019455\"/>\r\n    </g>\r\n    <g clip-path=\"url(#p2652fecc80)\">\r\n     <use style=\"fill:#2d004b;stroke:#2d004b;\" x=\"55.811827\" xlink:href=\"#C0_0_0a42719704\" y=\"171.069403\"/>\r\n    </g>\r\n    <g clip-path=\"url(#p2652fecc80)\">\r\n     <use style=\"fill:#7f3b08;stroke:#7f3b08;\" x=\"47.15837\" xlink:href=\"#C0_0_0a42719704\" y=\"163.620136\"/>\r\n    </g>\r\n    <g clip-path=\"url(#p2652fecc80)\">\r\n     <use style=\"fill:#2d004b;stroke:#2d004b;\" x=\"46.7995\" xlink:href=\"#C0_0_0a42719704\" y=\"142.019455\"/>\r\n    </g>\r\n    <g clip-path=\"url(#p2652fecc80)\">\r\n     <use style=\"fill:#7f3b08;stroke:#7f3b08;\" x=\"46.158393\" xlink:href=\"#C0_0_0a42719704\" y=\"171.069403\"/>\r\n    </g>\r\n    <g clip-path=\"url(#p2652fecc80)\">\r\n     <use style=\"fill:#7f3b08;stroke:#7f3b08;\" x=\"85.811729\" xlink:href=\"#C0_0_0a42719704\" y=\"156.17087\"/>\r\n    </g>\r\n    <g clip-path=\"url(#p2652fecc80)\">\r\n     <use style=\"fill:#7f3b08;stroke:#7f3b08;\" x=\"46.839064\" xlink:href=\"#C0_0_0a42719704\" y=\"142.019455\"/>\r\n    </g>\r\n    <g clip-path=\"url(#p2652fecc80)\">\r\n     <use style=\"fill:#7f3b08;stroke:#7f3b08;\" x=\"51.356396\" xlink:href=\"#C0_0_0a42719704\" y=\"136.306159\"/>\r\n    </g>\r\n    <g clip-path=\"url(#p2652fecc80)\">\r\n     <use style=\"fill:#7f3b08;stroke:#7f3b08;\" x=\"49.871252\" xlink:href=\"#C0_0_0a42719704\" y=\"158.653959\"/>\r\n    </g>\r\n    <g clip-path=\"url(#p2652fecc80)\">\r\n     <use style=\"fill:#7f3b08;stroke:#7f3b08;\" x=\"109.440365\" xlink:href=\"#C0_0_0a42719704\" y=\"71.74585\"/>\r\n    </g>\r\n    <g clip-path=\"url(#p2652fecc80)\">\r\n     <use style=\"fill:#2d004b;stroke:#2d004b;\" x=\"121.544286\" xlink:href=\"#C0_0_0a42719704\" y=\"91.61056\"/>\r\n    </g>\r\n    <g clip-path=\"url(#p2652fecc80)\">\r\n     <use style=\"fill:#7f3b08;stroke:#7f3b08;\" x=\"46.44057\" xlink:href=\"#C0_0_0a42719704\" y=\"116.441449\"/>\r\n    </g>\r\n    <g clip-path=\"url(#p2652fecc80)\">\r\n     <use style=\"fill:#7f3b08;stroke:#7f3b08;\" x=\"57.348951\" xlink:href=\"#C0_0_0a42719704\" y=\"99.059827\"/>\r\n    </g>\r\n    <g clip-path=\"url(#p2652fecc80)\">\r\n     <use style=\"fill:#7f3b08;stroke:#7f3b08;\" x=\"46.601441\" xlink:href=\"#C0_0_0a42719704\" y=\"126.373804\"/>\r\n    </g>\r\n    <g clip-path=\"url(#p2652fecc80)\">\r\n     <use style=\"fill:#2d004b;stroke:#2d004b;\" x=\"46.85641\" xlink:href=\"#C0_0_0a42719704\" y=\"166.103225\"/>\r\n    </g>\r\n    <g clip-path=\"url(#p2652fecc80)\">\r\n     <use style=\"fill:#7f3b08;stroke:#7f3b08;\" x=\"85.811729\" xlink:href=\"#C0_0_0a42719704\" y=\"136.306159\"/>\r\n    </g>\r\n    <g clip-path=\"url(#p2652fecc80)\">\r\n     <use style=\"fill:#7f3b08;stroke:#7f3b08;\" x=\"49.871252\" xlink:href=\"#C0_0_0a42719704\" y=\"153.687781\"/>\r\n    </g>\r\n    <g clip-path=\"url(#p2652fecc80)\">\r\n     <use style=\"fill:#7f3b08;stroke:#7f3b08;\" x=\"46.767302\" xlink:href=\"#C0_0_0a42719704\" y=\"142.019455\"/>\r\n    </g>\r\n    <g clip-path=\"url(#p2652fecc80)\">\r\n     <use style=\"fill:#7f3b08;stroke:#7f3b08;\" x=\"46.930668\" xlink:href=\"#C0_0_0a42719704\" y=\"108.992182\"/>\r\n    </g>\r\n    <g clip-path=\"url(#p2652fecc80)\">\r\n     <use style=\"fill:#2d004b;stroke:#2d004b;\" x=\"73.039494\" xlink:href=\"#C0_0_0a42719704\" y=\"142.019455\"/>\r\n    </g>\r\n    <g clip-path=\"url(#p2652fecc80)\">\r\n     <use style=\"fill:#2d004b;stroke:#2d004b;\" x=\"65.316746\" xlink:href=\"#C0_0_0a42719704\" y=\"116.441449\"/>\r\n    </g>\r\n    <g clip-path=\"url(#p2652fecc80)\">\r\n     <use style=\"fill:#7f3b08;stroke:#7f3b08;\" x=\"73.039494\" xlink:href=\"#C0_0_0a42719704\" y=\"138.789248\"/>\r\n    </g>\r\n    <g clip-path=\"url(#p2652fecc80)\">\r\n     <use style=\"fill:#7f3b08;stroke:#7f3b08;\" x=\"48.386108\" xlink:href=\"#C0_0_0a42719704\" y=\"41.948784\"/>\r\n    </g>\r\n    <g clip-path=\"url(#p2652fecc80)\">\r\n     <use style=\"fill:#2d004b;stroke:#2d004b;\" x=\"49.871252\" xlink:href=\"#C0_0_0a42719704\" y=\"138.789248\"/>\r\n    </g>\r\n    <g clip-path=\"url(#p2652fecc80)\">\r\n     <use style=\"fill:#7f3b08;stroke:#7f3b08;\" x=\"42.148505\" xlink:href=\"#C0_0_0a42719704\" y=\"142.019455\"/>\r\n    </g>\r\n    <g clip-path=\"url(#p2652fecc80)\">\r\n     <use style=\"fill:#7f3b08;stroke:#7f3b08;\" x=\"46.767302\" xlink:href=\"#C0_0_0a42719704\" y=\"171.069403\"/>\r\n    </g>\r\n    <g clip-path=\"url(#p2652fecc80)\">\r\n     <use style=\"fill:#7f3b08;stroke:#7f3b08;\" x=\"46.930668\" xlink:href=\"#C0_0_0a42719704\" y=\"154.929326\"/>\r\n    </g>\r\n    <g clip-path=\"url(#p2652fecc80)\">\r\n     <use style=\"fill:#2d004b;stroke:#2d004b;\" x=\"47.99504\" xlink:href=\"#C0_0_0a42719704\" y=\"171.069403\"/>\r\n    </g>\r\n    <g clip-path=\"url(#p2652fecc80)\">\r\n     <use style=\"fill:#7f3b08;stroke:#7f3b08;\" x=\"70.0098\" xlink:href=\"#C0_0_0a42719704\" y=\"108.992182\"/>\r\n    </g>\r\n    <g clip-path=\"url(#p2652fecc80)\">\r\n     <use style=\"fill:#2d004b;stroke:#2d004b;\" x=\"346.501495\" xlink:href=\"#C0_0_0a42719704\" y=\"126.373804\"/>\r\n    </g>\r\n    <g clip-path=\"url(#p2652fecc80)\">\r\n     <use style=\"fill:#7f3b08;stroke:#7f3b08;\" x=\"46.982648\" xlink:href=\"#C0_0_0a42719704\" y=\"142.019455\"/>\r\n    </g>\r\n    <g clip-path=\"url(#p2652fecc80)\">\r\n     <use style=\"fill:#2d004b;stroke:#2d004b;\" x=\"87.73006\" xlink:href=\"#C0_0_0a42719704\" y=\"148.721603\"/>\r\n    </g>\r\n    <g clip-path=\"url(#p2652fecc80)\">\r\n     <use style=\"fill:#7f3b08;stroke:#7f3b08;\" x=\"47.628685\" xlink:href=\"#C0_0_0a42719704\" y=\"166.103225\"/>\r\n    </g>\r\n    <g clip-path=\"url(#p2652fecc80)\">\r\n     <use style=\"fill:#7f3b08;stroke:#7f3b08;\" x=\"70.0098\" xlink:href=\"#C0_0_0a42719704\" y=\"181.001758\"/>\r\n    </g>\r\n    <g clip-path=\"url(#p2652fecc80)\">\r\n     <use style=\"fill:#7f3b08;stroke:#7f3b08;\" x=\"65.316746\" xlink:href=\"#C0_0_0a42719704\" y=\"66.779672\"/>\r\n    </g>\r\n    <g clip-path=\"url(#p2652fecc80)\">\r\n     <use style=\"fill:#7f3b08;stroke:#7f3b08;\" x=\"66.848939\" xlink:href=\"#C0_0_0a42719704\" y=\"153.687781\"/>\r\n    </g>\r\n    <g clip-path=\"url(#p2652fecc80)\">\r\n     <use style=\"fill:#7f3b08;stroke:#7f3b08;\" x=\"65.725161\" xlink:href=\"#C0_0_0a42719704\" y=\"181.001758\"/>\r\n    </g>\r\n    <g clip-path=\"url(#p2652fecc80)\">\r\n     <use style=\"fill:#7f3b08;stroke:#7f3b08;\" x=\"48.190545\" xlink:href=\"#C0_0_0a42719704\" y=\"168.586314\"/>\r\n    </g>\r\n    <g clip-path=\"url(#p2652fecc80)\">\r\n     <use style=\"fill:#7f3b08;stroke:#7f3b08;\" x=\"46.779658\" xlink:href=\"#C0_0_0a42719704\" y=\"171.069403\"/>\r\n    </g>\r\n    <g clip-path=\"url(#p2652fecc80)\">\r\n     <use style=\"fill:#2d004b;stroke:#2d004b;\" x=\"167.695126\" xlink:href=\"#C0_0_0a42719704\" y=\"178.518669\"/>\r\n    </g>\r\n    <g clip-path=\"url(#p2652fecc80)\">\r\n     <use style=\"fill:#2d004b;stroke:#2d004b;\" x=\"76.009781\" xlink:href=\"#C0_0_0a42719704\" y=\"138.789248\"/>\r\n    </g>\r\n    <g clip-path=\"url(#p2652fecc80)\">\r\n     <use style=\"fill:#2d004b;stroke:#2d004b;\" x=\"50.118796\" xlink:href=\"#C0_0_0a42719704\" y=\"205.832647\"/>\r\n    </g>\r\n    <g clip-path=\"url(#p2652fecc80)\">\r\n     <use style=\"fill:#2d004b;stroke:#2d004b;\" x=\"75.710257\" xlink:href=\"#C0_0_0a42719704\" y=\"142.019455\"/>\r\n    </g>\r\n    <g clip-path=\"url(#p2652fecc80)\">\r\n     <use style=\"fill:#7f3b08;stroke:#7f3b08;\" x=\"46.44057\" xlink:href=\"#C0_0_0a42719704\" y=\"153.687781\"/>\r\n    </g>\r\n    <g clip-path=\"url(#p2652fecc80)\">\r\n     <use style=\"fill:#7f3b08;stroke:#7f3b08;\" x=\"57.920731\" xlink:href=\"#C0_0_0a42719704\" y=\"66.779672\"/>\r\n    </g>\r\n    <g clip-path=\"url(#p2652fecc80)\">\r\n     <use style=\"fill:#7f3b08;stroke:#7f3b08;\" x=\"50.168281\" xlink:href=\"#C0_0_0a42719704\" y=\"86.644383\"/>\r\n    </g>\r\n    <g clip-path=\"url(#p2652fecc80)\">\r\n     <use style=\"fill:#7f3b08;stroke:#7f3b08;\" x=\"46.930668\" xlink:href=\"#C0_0_0a42719704\" y=\"106.509093\"/>\r\n    </g>\r\n    <g clip-path=\"url(#p2652fecc80)\">\r\n     <use style=\"fill:#2d004b;stroke:#2d004b;\" x=\"46.74253\" xlink:href=\"#C0_0_0a42719704\" y=\"142.019455\"/>\r\n    </g>\r\n    <g clip-path=\"url(#p2652fecc80)\">\r\n     <use style=\"fill:#7f3b08;stroke:#7f3b08;\" x=\"108.019558\" xlink:href=\"#C0_0_0a42719704\" y=\"94.093649\"/>\r\n    </g>\r\n    <g clip-path=\"url(#p2652fecc80)\">\r\n     <use style=\"fill:#7f3b08;stroke:#7f3b08;\" x=\"46.693045\" xlink:href=\"#C0_0_0a42719704\" y=\"111.475271\"/>\r\n    </g>\r\n    <g clip-path=\"url(#p2652fecc80)\">\r\n     <use style=\"fill:#2d004b;stroke:#2d004b;\" x=\"177.311432\" xlink:href=\"#C0_0_0a42719704\" y=\"171.069403\"/>\r\n    </g>\r\n    <g clip-path=\"url(#p2652fecc80)\">\r\n     <use style=\"fill:#2d004b;stroke:#2d004b;\" x=\"57.764791\" xlink:href=\"#C0_0_0a42719704\" y=\"128.856893\"/>\r\n    </g>\r\n    <g clip-path=\"url(#p2652fecc80)\">\r\n     <use style=\"fill:#7f3b08;stroke:#7f3b08;\" x=\"50.73513\" xlink:href=\"#C0_0_0a42719704\" y=\"171.069403\"/>\r\n    </g>\r\n    <g clip-path=\"url(#p2652fecc80)\">\r\n     <use style=\"fill:#7f3b08;stroke:#7f3b08;\" x=\"46.74752\" xlink:href=\"#C0_0_0a42719704\" y=\"153.687781\"/>\r\n    </g>\r\n    <g clip-path=\"url(#p2652fecc80)\">\r\n     <use style=\"fill:#7f3b08;stroke:#7f3b08;\" x=\"46.814351\" xlink:href=\"#C0_0_0a42719704\" y=\"151.204692\"/>\r\n    </g>\r\n    <g clip-path=\"url(#p2652fecc80)\">\r\n     <use style=\"fill:#7f3b08;stroke:#7f3b08;\" x=\"57.593999\" xlink:href=\"#C0_0_0a42719704\" y=\"118.924537\"/>\r\n    </g>\r\n    <g clip-path=\"url(#p2652fecc80)\">\r\n     <use style=\"fill:#2d004b;stroke:#2d004b;\" x=\"50.168281\" xlink:href=\"#C0_0_0a42719704\" y=\"104.026004\"/>\r\n    </g>\r\n    <g clip-path=\"url(#p2652fecc80)\">\r\n     <use style=\"fill:#2d004b;stroke:#2d004b;\" x=\"57.764791\" xlink:href=\"#C0_0_0a42719704\" y=\"111.475271\"/>\r\n    </g>\r\n    <g clip-path=\"url(#p2652fecc80)\">\r\n     <use style=\"fill:#2d004b;stroke:#2d004b;\" x=\"132.177915\" xlink:href=\"#C0_0_0a42719704\" y=\"161.137048\"/>\r\n    </g>\r\n    <g clip-path=\"url(#p2652fecc80)\">\r\n     <use style=\"fill:#2d004b;stroke:#2d004b;\" x=\"51.205386\" xlink:href=\"#C0_0_0a42719704\" y=\"142.019455\"/>\r\n    </g>\r\n    <g clip-path=\"url(#p2652fecc80)\">\r\n     <use style=\"fill:#2d004b;stroke:#2d004b;\" x=\"71.556845\" xlink:href=\"#C0_0_0a42719704\" y=\"156.17087\"/>\r\n    </g>\r\n    <g clip-path=\"url(#p2652fecc80)\">\r\n     <use style=\"fill:#7f3b08;stroke:#7f3b08;\" x=\"57.920731\" xlink:href=\"#C0_0_0a42719704\" y=\"142.019455\"/>\r\n    </g>\r\n    <g clip-path=\"url(#p2652fecc80)\">\r\n     <use style=\"fill:#2d004b;stroke:#2d004b;\" x=\"73.039494\" xlink:href=\"#C0_0_0a42719704\" y=\"96.576738\"/>\r\n    </g>\r\n    <g clip-path=\"url(#p2652fecc80)\">\r\n     <use style=\"fill:#7f3b08;stroke:#7f3b08;\" x=\"47.78213\" xlink:href=\"#C0_0_0a42719704\" y=\"143.755426\"/>\r\n    </g>\r\n    <g clip-path=\"url(#p2652fecc80)\">\r\n     <use style=\"fill:#7f3b08;stroke:#7f3b08;\" x=\"49.871252\" xlink:href=\"#C0_0_0a42719704\" y=\"86.644383\"/>\r\n    </g>\r\n    <g clip-path=\"url(#p2652fecc80)\">\r\n     <use style=\"fill:#7f3b08;stroke:#7f3b08;\" x=\"46.693045\" xlink:href=\"#C0_0_0a42719704\" y=\"168.586314\"/>\r\n    </g>\r\n    <g clip-path=\"url(#p2652fecc80)\">\r\n     <use style=\"fill:#2d004b;stroke:#2d004b;\" x=\"177.311432\" xlink:href=\"#C0_0_0a42719704\" y=\"121.407626\"/>\r\n    </g>\r\n    <g clip-path=\"url(#p2652fecc80)\">\r\n     <use style=\"fill:#2d004b;stroke:#2d004b;\" x=\"48.386108\" xlink:href=\"#C0_0_0a42719704\" y=\"148.721603\"/>\r\n    </g>\r\n    <g clip-path=\"url(#p2652fecc80)\">\r\n     <use style=\"fill:#7f3b08;stroke:#7f3b08;\" x=\"51.356396\" xlink:href=\"#C0_0_0a42719704\" y=\"142.019455\"/>\r\n    </g>\r\n    <g clip-path=\"url(#p2652fecc80)\">\r\n     <use style=\"fill:#7f3b08;stroke:#7f3b08;\" x=\"46.767302\" xlink:href=\"#C0_0_0a42719704\" y=\"133.82307\"/>\r\n    </g>\r\n    <g clip-path=\"url(#p2652fecc80)\">\r\n     <use style=\"fill:#2d004b;stroke:#2d004b;\" x=\"61.752402\" xlink:href=\"#C0_0_0a42719704\" y=\"200.866469\"/>\r\n    </g>\r\n    <g clip-path=\"url(#p2652fecc80)\">\r\n     <use style=\"fill:#7f3b08;stroke:#7f3b08;\" x=\"46.339105\" xlink:href=\"#C0_0_0a42719704\" y=\"173.552492\"/>\r\n    </g>\r\n    <g clip-path=\"url(#p2652fecc80)\">\r\n     <use style=\"fill:#7f3b08;stroke:#7f3b08;\" x=\"49.871252\" xlink:href=\"#C0_0_0a42719704\" y=\"131.339982\"/>\r\n    </g>\r\n    <g clip-path=\"url(#p2652fecc80)\">\r\n     <use style=\"fill:#7f3b08;stroke:#7f3b08;\" x=\"49.871252\" xlink:href=\"#C0_0_0a42719704\" y=\"91.61056\"/>\r\n    </g>\r\n    <g clip-path=\"url(#p2652fecc80)\">\r\n     <use style=\"fill:#2d004b;stroke:#2d004b;\" x=\"73.692957\" xlink:href=\"#C0_0_0a42719704\" y=\"148.721603\"/>\r\n    </g>\r\n    <g clip-path=\"url(#p2652fecc80)\">\r\n     <use style=\"fill:#7f3b08;stroke:#7f3b08;\" x=\"47.294528\" xlink:href=\"#C0_0_0a42719704\" y=\"166.103225\"/>\r\n    </g>\r\n    <g clip-path=\"url(#p2652fecc80)\">\r\n     <use style=\"fill:#2d004b;stroke:#2d004b;\" x=\"54.623712\" xlink:href=\"#C0_0_0a42719704\" y=\"141.272337\"/>\r\n    </g>\r\n    <g clip-path=\"url(#p2652fecc80)\">\r\n     <use style=\"fill:#2d004b;stroke:#2d004b;\" x=\"46.745025\" xlink:href=\"#C0_0_0a42719704\" y=\"142.019455\"/>\r\n    </g>\r\n    <g clip-path=\"url(#p2652fecc80)\">\r\n     <use style=\"fill:#7f3b08;stroke:#7f3b08;\" x=\"57.593999\" xlink:href=\"#C0_0_0a42719704\" y=\"153.687781\"/>\r\n    </g>\r\n    <g clip-path=\"url(#p2652fecc80)\">\r\n     <use style=\"fill:#7f3b08;stroke:#7f3b08;\" x=\"46.85641\" xlink:href=\"#C0_0_0a42719704\" y=\"153.687781\"/>\r\n    </g>\r\n    <g clip-path=\"url(#p2652fecc80)\">\r\n     <use style=\"fill:#2d004b;stroke:#2d004b;\" x=\"167.695126\" xlink:href=\"#C0_0_0a42719704\" y=\"143.755426\"/>\r\n    </g>\r\n    <g clip-path=\"url(#p2652fecc80)\">\r\n     <use style=\"fill:#7f3b08;stroke:#7f3b08;\" x=\"53.30936\" xlink:href=\"#C0_0_0a42719704\" y=\"188.451025\"/>\r\n    </g>\r\n    <g clip-path=\"url(#p2652fecc80)\">\r\n     <use style=\"fill:#7f3b08;stroke:#7f3b08;\" x=\"42.148505\" xlink:href=\"#C0_0_0a42719704\" y=\"142.019455\"/>\r\n    </g>\r\n    <g clip-path=\"url(#p2652fecc80)\">\r\n     <use style=\"fill:#7f3b08;stroke:#7f3b08;\" x=\"49.871252\" xlink:href=\"#C0_0_0a42719704\" y=\"158.653959\"/>\r\n    </g>\r\n    <g clip-path=\"url(#p2652fecc80)\">\r\n     <use style=\"fill:#7f3b08;stroke:#7f3b08;\" x=\"49.871252\" xlink:href=\"#C0_0_0a42719704\" y=\"158.653959\"/>\r\n    </g>\r\n    <g clip-path=\"url(#p2652fecc80)\">\r\n     <use style=\"fill:#7f3b08;stroke:#7f3b08;\" x=\"51.71283\" xlink:href=\"#C0_0_0a42719704\" y=\"144.99697\"/>\r\n    </g>\r\n    <g clip-path=\"url(#p2652fecc80)\">\r\n     <use style=\"fill:#7f3b08;stroke:#7f3b08;\" x=\"62.569231\" xlink:href=\"#C0_0_0a42719704\" y=\"96.576738\"/>\r\n    </g>\r\n    <g clip-path=\"url(#p2652fecc80)\">\r\n     <use style=\"fill:#2d004b;stroke:#2d004b;\" x=\"346.501495\" xlink:href=\"#C0_0_0a42719704\" y=\"128.856893\"/>\r\n    </g>\r\n    <g clip-path=\"url(#p2652fecc80)\">\r\n     <use style=\"fill:#7f3b08;stroke:#7f3b08;\" x=\"46.839064\" xlink:href=\"#C0_0_0a42719704\" y=\"142.019455\"/>\r\n    </g>\r\n    <g clip-path=\"url(#p2652fecc80)\">\r\n     <use style=\"fill:#7f3b08;stroke:#7f3b08;\" x=\"46.839064\" xlink:href=\"#C0_0_0a42719704\" y=\"142.019455\"/>\r\n    </g>\r\n    <g clip-path=\"url(#p2652fecc80)\">\r\n     <use style=\"fill:#2d004b;stroke:#2d004b;\" x=\"59.970229\" xlink:href=\"#C0_0_0a42719704\" y=\"142.019455\"/>\r\n    </g>\r\n    <g clip-path=\"url(#p2652fecc80)\">\r\n     <use style=\"fill:#7f3b08;stroke:#7f3b08;\" x=\"88.989937\" xlink:href=\"#C0_0_0a42719704\" y=\"126.373804\"/>\r\n    </g>\r\n    <g clip-path=\"url(#p2652fecc80)\">\r\n     <use style=\"fill:#2d004b;stroke:#2d004b;\" x=\"198.014335\" xlink:href=\"#C0_0_0a42719704\" y=\"163.620136\"/>\r\n    </g>\r\n    <g clip-path=\"url(#p2652fecc80)\">\r\n     <use style=\"fill:#7f3b08;stroke:#7f3b08;\" x=\"51.71283\" xlink:href=\"#C0_0_0a42719704\" y=\"156.17087\"/>\r\n    </g>\r\n    <g clip-path=\"url(#p2652fecc80)\">\r\n     <use style=\"fill:#2d004b;stroke:#2d004b;\" x=\"46.85641\" xlink:href=\"#C0_0_0a42719704\" y=\"138.789248\"/>\r\n    </g>\r\n    <g clip-path=\"url(#p2652fecc80)\">\r\n     <use style=\"fill:#7f3b08;stroke:#7f3b08;\" x=\"84.326586\" xlink:href=\"#C0_0_0a42719704\" y=\"41.948784\"/>\r\n    </g>\r\n    <g clip-path=\"url(#p2652fecc80)\">\r\n     <use style=\"fill:#7f3b08;stroke:#7f3b08;\" x=\"54.178169\" xlink:href=\"#C0_0_0a42719704\" y=\"176.035581\"/>\r\n    </g>\r\n    <g clip-path=\"url(#p2652fecc80)\">\r\n     <use style=\"fill:#2d004b;stroke:#2d004b;\" x=\"49.871252\" xlink:href=\"#C0_0_0a42719704\" y=\"141.272337\"/>\r\n    </g>\r\n    <g clip-path=\"url(#p2652fecc80)\">\r\n     <use style=\"fill:#7f3b08;stroke:#7f3b08;\" x=\"73.692957\" xlink:href=\"#C0_0_0a42719704\" y=\"168.586314\"/>\r\n    </g>\r\n    <g clip-path=\"url(#p2652fecc80)\">\r\n     <use style=\"fill:#7f3b08;stroke:#7f3b08;\" x=\"46.75245\" xlink:href=\"#C0_0_0a42719704\" y=\"138.789248\"/>\r\n    </g>\r\n    <g clip-path=\"url(#p2652fecc80)\">\r\n     <use style=\"fill:#2d004b;stroke:#2d004b;\" x=\"55.811827\" xlink:href=\"#C0_0_0a42719704\" y=\"205.832647\"/>\r\n    </g>\r\n    <g clip-path=\"url(#p2652fecc80)\">\r\n     <use style=\"fill:#2d004b;stroke:#2d004b;\" x=\"49.559372\" xlink:href=\"#C0_0_0a42719704\" y=\"200.866469\"/>\r\n    </g>\r\n    <g clip-path=\"url(#p2652fecc80)\">\r\n     <use style=\"fill:#7f3b08;stroke:#7f3b08;\" x=\"47.792051\" xlink:href=\"#C0_0_0a42719704\" y=\"133.82307\"/>\r\n    </g>\r\n    <g clip-path=\"url(#p2652fecc80)\">\r\n     <use style=\"fill:#7f3b08;stroke:#7f3b08;\" x=\"46.839064\" xlink:href=\"#C0_0_0a42719704\" y=\"158.653959\"/>\r\n    </g>\r\n    <g clip-path=\"url(#p2652fecc80)\">\r\n     <use style=\"fill:#2d004b;stroke:#2d004b;\" x=\"80.762241\" xlink:href=\"#C0_0_0a42719704\" y=\"96.576738\"/>\r\n    </g>\r\n    <g clip-path=\"url(#p2652fecc80)\">\r\n     <use style=\"fill:#2d004b;stroke:#2d004b;\" x=\"50.762338\" xlink:href=\"#C0_0_0a42719704\" y=\"214.101332\"/>\r\n    </g>\r\n    <g clip-path=\"url(#p2652fecc80)\">\r\n     <use style=\"fill:#7f3b08;stroke:#7f3b08;\" x=\"46.779658\" xlink:href=\"#C0_0_0a42719704\" y=\"146.238515\"/>\r\n    </g>\r\n    <g clip-path=\"url(#p2652fecc80)\">\r\n     <use style=\"fill:#7f3b08;stroke:#7f3b08;\" x=\"48.980166\" xlink:href=\"#C0_0_0a42719704\" y=\"171.069403\"/>\r\n    </g>\r\n    <g clip-path=\"url(#p2652fecc80)\">\r\n     <use style=\"fill:#7f3b08;stroke:#7f3b08;\" x=\"46.930668\" xlink:href=\"#C0_0_0a42719704\" y=\"131.339982\"/>\r\n    </g>\r\n    <g clip-path=\"url(#p2652fecc80)\">\r\n     <use style=\"fill:#2d004b;stroke:#2d004b;\" x=\"93.534476\" xlink:href=\"#C0_0_0a42719704\" y=\"133.82307\"/>\r\n    </g>\r\n    <g clip-path=\"url(#p2652fecc80)\">\r\n     <use style=\"fill:#7f3b08;stroke:#7f3b08;\" x=\"50.762338\" xlink:href=\"#C0_0_0a42719704\" y=\"142.019455\"/>\r\n    </g>\r\n    <g clip-path=\"url(#p2652fecc80)\">\r\n     <use style=\"fill:#7f3b08;stroke:#7f3b08;\" x=\"46.381164\" xlink:href=\"#C0_0_0a42719704\" y=\"113.95836\"/>\r\n    </g>\r\n    <g clip-path=\"url(#p2652fecc80)\">\r\n     <use style=\"fill:#2d004b;stroke:#2d004b;\" x=\"46.443065\" xlink:href=\"#C0_0_0a42719704\" y=\"166.103225\"/>\r\n    </g>\r\n    <g clip-path=\"url(#p2652fecc80)\">\r\n     <use style=\"fill:#2d004b;stroke:#2d004b;\" x=\"113.435402\" xlink:href=\"#C0_0_0a42719704\" y=\"126.373804\"/>\r\n    </g>\r\n    <g clip-path=\"url(#p2652fecc80)\">\r\n     <use style=\"fill:#7f3b08;stroke:#7f3b08;\" x=\"46.767302\" xlink:href=\"#C0_0_0a42719704\" y=\"176.035581\"/>\r\n    </g>\r\n    <g clip-path=\"url(#p2652fecc80)\">\r\n     <use style=\"fill:#2d004b;stroke:#2d004b;\" x=\"88.460216\" xlink:href=\"#C0_0_0a42719704\" y=\"89.127471\"/>\r\n    </g>\r\n    <g clip-path=\"url(#p2652fecc80)\">\r\n     <use style=\"fill:#7f3b08;stroke:#7f3b08;\" x=\"65.673181\" xlink:href=\"#C0_0_0a42719704\" y=\"142.019455\"/>\r\n    </g>\r\n    <g clip-path=\"url(#p2652fecc80)\">\r\n     <use style=\"fill:#7f3b08;stroke:#7f3b08;\" x=\"46.75245\" xlink:href=\"#C0_0_0a42719704\" y=\"140.030793\"/>\r\n    </g>\r\n    <g clip-path=\"url(#p2652fecc80)\">\r\n     <use style=\"fill:#7f3b08;stroke:#7f3b08;\" x=\"56.494993\" xlink:href=\"#C0_0_0a42719704\" y=\"142.019455\"/>\r\n    </g>\r\n    <g clip-path=\"url(#p2652fecc80)\">\r\n     <use style=\"fill:#7f3b08;stroke:#7f3b08;\" x=\"47.116311\" xlink:href=\"#C0_0_0a42719704\" y=\"136.306159\"/>\r\n    </g>\r\n    <g clip-path=\"url(#p2652fecc80)\">\r\n     <use style=\"fill:#7f3b08;stroke:#7f3b08;\" x=\"47.792051\" xlink:href=\"#C0_0_0a42719704\" y=\"156.17087\"/>\r\n    </g>\r\n    <g clip-path=\"url(#p2652fecc80)\">\r\n     <use style=\"fill:#7f3b08;stroke:#7f3b08;\" x=\"46.814351\" xlink:href=\"#C0_0_0a42719704\" y=\"96.576738\"/>\r\n    </g>\r\n    <g clip-path=\"url(#p2652fecc80)\">\r\n     <use style=\"fill:#7f3b08;stroke:#7f3b08;\" x=\"48.386108\" xlink:href=\"#C0_0_0a42719704\" y=\"74.228938\"/>\r\n    </g>\r\n    <g clip-path=\"url(#p2652fecc80)\">\r\n     <use style=\"fill:#7f3b08;stroke:#7f3b08;\" x=\"46.44057\" xlink:href=\"#C0_0_0a42719704\" y=\"142.019455\"/>\r\n    </g>\r\n    <g clip-path=\"url(#p2652fecc80)\">\r\n     <use style=\"fill:#2d004b;stroke:#2d004b;\" x=\"55.811827\" xlink:href=\"#C0_0_0a42719704\" y=\"81.678205\"/>\r\n    </g>\r\n    <g clip-path=\"url(#p2652fecc80)\">\r\n     <use style=\"fill:#7f3b08;stroke:#7f3b08;\" x=\"46.75245\" xlink:href=\"#C0_0_0a42719704\" y=\"171.069403\"/>\r\n    </g>\r\n    <g clip-path=\"url(#p2652fecc80)\">\r\n     <use style=\"fill:#7f3b08;stroke:#7f3b08;\" x=\"46.75245\" xlink:href=\"#C0_0_0a42719704\" y=\"142.019455\"/>\r\n    </g>\r\n    <g clip-path=\"url(#p2652fecc80)\">\r\n     <use style=\"fill:#2d004b;stroke:#2d004b;\" x=\"49.559372\" xlink:href=\"#C0_0_0a42719704\" y=\"203.349558\"/>\r\n    </g>\r\n    <g clip-path=\"url(#p2652fecc80)\">\r\n     <use style=\"fill:#7f3b08;stroke:#7f3b08;\" x=\"46.745025\" xlink:href=\"#C0_0_0a42719704\" y=\"142.019455\"/>\r\n    </g>\r\n    <g clip-path=\"url(#p2652fecc80)\">\r\n     <use style=\"fill:#2d004b;stroke:#2d004b;\" x=\"167.695126\" xlink:href=\"#C0_0_0a42719704\" y=\"108.992182\"/>\r\n    </g>\r\n    <g clip-path=\"url(#p2652fecc80)\">\r\n     <use style=\"fill:#2d004b;stroke:#2d004b;\" x=\"46.443065\" xlink:href=\"#C0_0_0a42719704\" y=\"183.484847\"/>\r\n    </g>\r\n    <g clip-path=\"url(#p2652fecc80)\">\r\n     <use style=\"fill:#2d004b;stroke:#2d004b;\" x=\"76.009781\" xlink:href=\"#C0_0_0a42719704\" y=\"173.552492\"/>\r\n    </g>\r\n    <g clip-path=\"url(#p2652fecc80)\">\r\n     <use style=\"fill:#7f3b08;stroke:#7f3b08;\" x=\"59.970229\" xlink:href=\"#C0_0_0a42719704\" y=\"143.755426\"/>\r\n    </g>\r\n    <g clip-path=\"url(#p2652fecc80)\">\r\n     <use style=\"fill:#7f3b08;stroke:#7f3b08;\" x=\"56.079153\" xlink:href=\"#C0_0_0a42719704\" y=\"142.019455\"/>\r\n    </g>\r\n    <g clip-path=\"url(#p2652fecc80)\">\r\n     <use style=\"fill:#7f3b08;stroke:#7f3b08;\" x=\"46.33661\" xlink:href=\"#C0_0_0a42719704\" y=\"153.687781\"/>\r\n    </g>\r\n    <g clip-path=\"url(#p2652fecc80)\">\r\n     <use style=\"fill:#7f3b08;stroke:#7f3b08;\" x=\"46.455422\" xlink:href=\"#C0_0_0a42719704\" y=\"153.687781\"/>\r\n    </g>\r\n    <g clip-path=\"url(#p2652fecc80)\">\r\n     <use style=\"fill:#2d004b;stroke:#2d004b;\" x=\"46.601441\" xlink:href=\"#C0_0_0a42719704\" y=\"171.069403\"/>\r\n    </g>\r\n    <g clip-path=\"url(#p2652fecc80)\">\r\n     <use style=\"fill:#7f3b08;stroke:#7f3b08;\" x=\"59.450429\" xlink:href=\"#C0_0_0a42719704\" y=\"195.900291\"/>\r\n    </g>\r\n    <g clip-path=\"url(#p2652fecc80)\">\r\n     <use style=\"fill:#2d004b;stroke:#2d004b;\" x=\"54.371237\" xlink:href=\"#C0_0_0a42719704\" y=\"213.281913\"/>\r\n    </g>\r\n    <g clip-path=\"url(#p2652fecc80)\">\r\n     <use style=\"fill:#7f3b08;stroke:#7f3b08;\" x=\"89.197857\" xlink:href=\"#C0_0_0a42719704\" y=\"101.542916\"/>\r\n    </g>\r\n    <g clip-path=\"url(#p2652fecc80)\">\r\n     <use style=\"fill:#7f3b08;stroke:#7f3b08;\" x=\"46.75245\" xlink:href=\"#C0_0_0a42719704\" y=\"142.019455\"/>\r\n    </g>\r\n    <g clip-path=\"url(#p2652fecc80)\">\r\n     <use style=\"fill:#7f3b08;stroke:#7f3b08;\" x=\"57.593999\" xlink:href=\"#C0_0_0a42719704\" y=\"176.035581\"/>\r\n    </g>\r\n    <g clip-path=\"url(#p2652fecc80)\">\r\n     <use style=\"fill:#7f3b08;stroke:#7f3b08;\" x=\"83.465202\" xlink:href=\"#C0_0_0a42719704\" y=\"142.019455\"/>\r\n    </g>\r\n    <g clip-path=\"url(#p2652fecc80)\">\r\n     <use style=\"fill:#7f3b08;stroke:#7f3b08;\" x=\"60.383574\" xlink:href=\"#C0_0_0a42719704\" y=\"142.019455\"/>\r\n    </g>\r\n    <g clip-path=\"url(#p2652fecc80)\">\r\n     <use style=\"fill:#7f3b08;stroke:#7f3b08;\" x=\"46.839064\" xlink:href=\"#C0_0_0a42719704\" y=\"153.687781\"/>\r\n    </g>\r\n    <g clip-path=\"url(#p2652fecc80)\">\r\n     <use style=\"fill:#7f3b08;stroke:#7f3b08;\" x=\"49.871252\" xlink:href=\"#C0_0_0a42719704\" y=\"118.924537\"/>\r\n    </g>\r\n    <g clip-path=\"url(#p2652fecc80)\">\r\n     <use style=\"fill:#2d004b;stroke:#2d004b;\" x=\"57.55194\" xlink:href=\"#C0_0_0a42719704\" y=\"94.093649\"/>\r\n    </g>\r\n    <g clip-path=\"url(#p2652fecc80)\">\r\n     <use style=\"fill:#2d004b;stroke:#2d004b;\" x=\"47.306884\" xlink:href=\"#C0_0_0a42719704\" y=\"138.789248\"/>\r\n    </g>\r\n    <g clip-path=\"url(#p2652fecc80)\">\r\n     <use style=\"fill:#7f3b08;stroke:#7f3b08;\" x=\"46.443065\" xlink:href=\"#C0_0_0a42719704\" y=\"141.272337\"/>\r\n    </g>\r\n    <g clip-path=\"url(#p2652fecc80)\">\r\n     <use style=\"fill:#7f3b08;stroke:#7f3b08;\" x=\"56.494993\" xlink:href=\"#C0_0_0a42719704\" y=\"141.272337\"/>\r\n    </g>\r\n    <g clip-path=\"url(#p2652fecc80)\">\r\n     <use style=\"fill:#7f3b08;stroke:#7f3b08;\" x=\"49.871252\" xlink:href=\"#C0_0_0a42719704\" y=\"131.339982\"/>\r\n    </g>\r\n    <g clip-path=\"url(#p2652fecc80)\">\r\n     <use style=\"fill:#2d004b;stroke:#2d004b;\" x=\"57.742514\" xlink:href=\"#C0_0_0a42719704\" y=\"138.789248\"/>\r\n    </g>\r\n    <g clip-path=\"url(#p2652fecc80)\">\r\n     <use style=\"fill:#2d004b;stroke:#2d004b;\" x=\"113.435402\" xlink:href=\"#C0_0_0a42719704\" y=\"188.451025\"/>\r\n    </g>\r\n    <g clip-path=\"url(#p2652fecc80)\">\r\n     <use style=\"fill:#2d004b;stroke:#2d004b;\" x=\"47.207914\" xlink:href=\"#C0_0_0a42719704\" y=\"214.722105\"/>\r\n    </g>\r\n    <g clip-path=\"url(#p2652fecc80)\">\r\n     <use style=\"fill:#2d004b;stroke:#2d004b;\" x=\"46.292056\" xlink:href=\"#C0_0_0a42719704\" y=\"148.721603\"/>\r\n    </g>\r\n    <g clip-path=\"url(#p2652fecc80)\">\r\n     <use style=\"fill:#7f3b08;stroke:#7f3b08;\" x=\"46.767302\" xlink:href=\"#C0_0_0a42719704\" y=\"138.789248\"/>\r\n    </g>\r\n    <g clip-path=\"url(#p2652fecc80)\">\r\n     <use style=\"fill:#7f3b08;stroke:#7f3b08;\" x=\"42.148505\" xlink:href=\"#C0_0_0a42719704\" y=\"118.924537\"/>\r\n    </g>\r\n    <g clip-path=\"url(#p2652fecc80)\">\r\n     <use style=\"fill:#7f3b08;stroke:#7f3b08;\" x=\"46.767302\" xlink:href=\"#C0_0_0a42719704\" y=\"171.069403\"/>\r\n    </g>\r\n    <g clip-path=\"url(#p2652fecc80)\">\r\n     <use style=\"fill:#7f3b08;stroke:#7f3b08;\" x=\"49.871252\" xlink:href=\"#C0_0_0a42719704\" y=\"118.924537\"/>\r\n    </g>\r\n    <g clip-path=\"url(#p2652fecc80)\">\r\n     <use style=\"fill:#2d004b;stroke:#2d004b;\" x=\"73.692957\" xlink:href=\"#C0_0_0a42719704\" y=\"133.82307\"/>\r\n    </g>\r\n    <g clip-path=\"url(#p2652fecc80)\">\r\n     <use style=\"fill:#7f3b08;stroke:#7f3b08;\" x=\"46.834133\" xlink:href=\"#C0_0_0a42719704\" y=\"151.204692\"/>\r\n    </g>\r\n    <g clip-path=\"url(#p2652fecc80)\">\r\n     <use style=\"fill:#7f3b08;stroke:#7f3b08;\" x=\"56.494993\" xlink:href=\"#C0_0_0a42719704\" y=\"118.924537\"/>\r\n    </g>\r\n    <g clip-path=\"url(#p2652fecc80)\">\r\n     <use style=\"fill:#7f3b08;stroke:#7f3b08;\" x=\"48.386108\" xlink:href=\"#C0_0_0a42719704\" y=\"128.856893\"/>\r\n    </g>\r\n    <g clip-path=\"url(#p2652fecc80)\">\r\n     <use style=\"fill:#7f3b08;stroke:#7f3b08;\" x=\"60.727652\" xlink:href=\"#C0_0_0a42719704\" y=\"200.866469\"/>\r\n    </g>\r\n    <g clip-path=\"url(#p2652fecc80)\">\r\n     <use style=\"fill:#7f3b08;stroke:#7f3b08;\" x=\"46.930668\" xlink:href=\"#C0_0_0a42719704\" y=\"140.030793\"/>\r\n    </g>\r\n    <g clip-path=\"url(#p2652fecc80)\">\r\n     <use style=\"fill:#7f3b08;stroke:#7f3b08;\" x=\"42.148505\" xlink:href=\"#C0_0_0a42719704\" y=\"142.019455\"/>\r\n    </g>\r\n    <g clip-path=\"url(#p2652fecc80)\">\r\n     <use style=\"fill:#7f3b08;stroke:#7f3b08;\" x=\"46.85641\" xlink:href=\"#C0_0_0a42719704\" y=\"158.653959\"/>\r\n    </g>\r\n    <g clip-path=\"url(#p2652fecc80)\">\r\n     <use style=\"fill:#7f3b08;stroke:#7f3b08;\" x=\"64.131126\" xlink:href=\"#C0_0_0a42719704\" y=\"138.789248\"/>\r\n    </g>\r\n    <g clip-path=\"url(#p2652fecc80)\">\r\n     <use style=\"fill:#7f3b08;stroke:#7f3b08;\" x=\"45.980176\" xlink:href=\"#C0_0_0a42719704\" y=\"108.992182\"/>\r\n    </g>\r\n    <g clip-path=\"url(#p2652fecc80)\">\r\n     <use style=\"fill:#7f3b08;stroke:#7f3b08;\" x=\"58.722708\" xlink:href=\"#C0_0_0a42719704\" y=\"190.934114\"/>\r\n    </g>\r\n    <g clip-path=\"url(#p2652fecc80)\">\r\n     <use style=\"fill:#2d004b;stroke:#2d004b;\" x=\"97.692879\" xlink:href=\"#C0_0_0a42719704\" y=\"86.644383\"/>\r\n    </g>\r\n    <g clip-path=\"url(#p2652fecc80)\">\r\n     <use style=\"fill:#2d004b;stroke:#2d004b;\" x=\"47.294528\" xlink:href=\"#C0_0_0a42719704\" y=\"148.721603\"/>\r\n    </g>\r\n    <g clip-path=\"url(#p2652fecc80)\">\r\n     <use style=\"fill:#7f3b08;stroke:#7f3b08;\" x=\"42.148505\" xlink:href=\"#C0_0_0a42719704\" y=\"121.407626\"/>\r\n    </g>\r\n    <g clip-path=\"url(#p2652fecc80)\">\r\n     <use style=\"fill:#2d004b;stroke:#2d004b;\" x=\"49.559372\" xlink:href=\"#C0_0_0a42719704\" y=\"148.721603\"/>\r\n    </g>\r\n    <g clip-path=\"url(#p2652fecc80)\">\r\n     <use style=\"fill:#7f3b08;stroke:#7f3b08;\" x=\"65.725161\" xlink:href=\"#C0_0_0a42719704\" y=\"210.798824\"/>\r\n    </g>\r\n    <g clip-path=\"url(#p2652fecc80)\">\r\n     <use style=\"fill:#7f3b08;stroke:#7f3b08;\" x=\"46.277204\" xlink:href=\"#C0_0_0a42719704\" y=\"142.019455\"/>\r\n    </g>\r\n    <g clip-path=\"url(#p2652fecc80)\">\r\n     <use style=\"fill:#7f3b08;stroke:#7f3b08;\" x=\"75.710257\" xlink:href=\"#C0_0_0a42719704\" y=\"142.019455\"/>\r\n    </g>\r\n    <g clip-path=\"url(#p2652fecc80)\">\r\n     <use style=\"fill:#2d004b;stroke:#2d004b;\" x=\"64.131126\" xlink:href=\"#C0_0_0a42719704\" y=\"213.281913\"/>\r\n    </g>\r\n    <g clip-path=\"url(#p2652fecc80)\">\r\n     <use style=\"fill:#2d004b;stroke:#2d004b;\" x=\"46.75245\" xlink:href=\"#C0_0_0a42719704\" y=\"142.019455\"/>\r\n    </g>\r\n    <g clip-path=\"url(#p2652fecc80)\">\r\n     <use style=\"fill:#2d004b;stroke:#2d004b;\" x=\"50.73513\" xlink:href=\"#C0_0_0a42719704\" y=\"178.518669\"/>\r\n    </g>\r\n    <g clip-path=\"url(#p2652fecc80)\">\r\n     <use style=\"fill:#2d004b;stroke:#2d004b;\" x=\"53.287083\" xlink:href=\"#C0_0_0a42719704\" y=\"213.704038\"/>\r\n    </g>\r\n    <g clip-path=\"url(#p2652fecc80)\">\r\n     <use style=\"fill:#7f3b08;stroke:#7f3b08;\" x=\"46.443065\" xlink:href=\"#C0_0_0a42719704\" y=\"142.019455\"/>\r\n    </g>\r\n    <g clip-path=\"url(#p2652fecc80)\">\r\n     <use style=\"fill:#7f3b08;stroke:#7f3b08;\" x=\"46.814351\" xlink:href=\"#C0_0_0a42719704\" y=\"158.653959\"/>\r\n    </g>\r\n    <g clip-path=\"url(#p2652fecc80)\">\r\n     <use style=\"fill:#7f3b08;stroke:#7f3b08;\" x=\"47.079182\" xlink:href=\"#C0_0_0a42719704\" y=\"171.069403\"/>\r\n    </g>\r\n    <g clip-path=\"url(#p2652fecc80)\">\r\n     <use style=\"fill:#2d004b;stroke:#2d004b;\" x=\"91.549315\" xlink:href=\"#C0_0_0a42719704\" y=\"118.924537\"/>\r\n    </g>\r\n    <g clip-path=\"url(#p2652fecc80)\">\r\n     <use style=\"fill:#7f3b08;stroke:#7f3b08;\" x=\"47.294528\" xlink:href=\"#C0_0_0a42719704\" y=\"163.620136\"/>\r\n    </g>\r\n    <g clip-path=\"url(#p2652fecc80)\">\r\n     <use style=\"fill:#7f3b08;stroke:#7f3b08;\" x=\"46.930668\" xlink:href=\"#C0_0_0a42719704\" y=\"142.019455\"/>\r\n    </g>\r\n    <g clip-path=\"url(#p2652fecc80)\">\r\n     <use style=\"fill:#2d004b;stroke:#2d004b;\" x=\"75.710257\" xlink:href=\"#C0_0_0a42719704\" y=\"136.306159\"/>\r\n    </g>\r\n    <g clip-path=\"url(#p2652fecc80)\">\r\n     <use style=\"fill:#2d004b;stroke:#2d004b;\" x=\"59.792012\" xlink:href=\"#C0_0_0a42719704\" y=\"142.019455\"/>\r\n    </g>\r\n    <g clip-path=\"url(#p2652fecc80)\">\r\n     <use style=\"fill:#7f3b08;stroke:#7f3b08;\" x=\"46.85641\" xlink:href=\"#C0_0_0a42719704\" y=\"166.103225\"/>\r\n    </g>\r\n    <g clip-path=\"url(#p2652fecc80)\">\r\n     <use style=\"fill:#7f3b08;stroke:#7f3b08;\" x=\"48.386108\" xlink:href=\"#C0_0_0a42719704\" y=\"176.035581\"/>\r\n    </g>\r\n    <g clip-path=\"url(#p2652fecc80)\">\r\n     <use style=\"fill:#2d004b;stroke:#2d004b;\" x=\"60.564287\" xlink:href=\"#C0_0_0a42719704\" y=\"141.272337\"/>\r\n    </g>\r\n    <g clip-path=\"url(#p2652fecc80)\">\r\n     <use style=\"fill:#7f3b08;stroke:#7f3b08;\" x=\"45.97275\" xlink:href=\"#C0_0_0a42719704\" y=\"130.098437\"/>\r\n    </g>\r\n    <g clip-path=\"url(#p2652fecc80)\">\r\n     <use style=\"fill:#7f3b08;stroke:#7f3b08;\" x=\"47.294528\" xlink:href=\"#C0_0_0a42719704\" y=\"173.552492\"/>\r\n    </g>\r\n    <g clip-path=\"url(#p2652fecc80)\">\r\n     <use style=\"fill:#7f3b08;stroke:#7f3b08;\" x=\"46.633639\" xlink:href=\"#C0_0_0a42719704\" y=\"111.475271\"/>\r\n    </g>\r\n    <g clip-path=\"url(#p2652fecc80)\">\r\n     <use style=\"fill:#7f3b08;stroke:#7f3b08;\" x=\"83.465202\" xlink:href=\"#C0_0_0a42719704\" y=\"142.019455\"/>\r\n    </g>\r\n    <g clip-path=\"url(#p2652fecc80)\">\r\n     <use style=\"fill:#7f3b08;stroke:#7f3b08;\" x=\"46.839064\" xlink:href=\"#C0_0_0a42719704\" y=\"128.856893\"/>\r\n    </g>\r\n    <g clip-path=\"url(#p2652fecc80)\">\r\n     <use style=\"fill:#7f3b08;stroke:#7f3b08;\" x=\"61.752402\" xlink:href=\"#C0_0_0a42719704\" y=\"146.238515\"/>\r\n    </g>\r\n    <g clip-path=\"url(#p2652fecc80)\">\r\n     <use style=\"fill:#2d004b;stroke:#2d004b;\" x=\"95.081521\" xlink:href=\"#C0_0_0a42719704\" y=\"142.019455\"/>\r\n    </g>\r\n    <g clip-path=\"url(#p2652fecc80)\">\r\n     <use style=\"fill:#7f3b08;stroke:#7f3b08;\" x=\"60.727652\" xlink:href=\"#C0_0_0a42719704\" y=\"205.832647\"/>\r\n    </g>\r\n    <g clip-path=\"url(#p2652fecc80)\">\r\n     <use style=\"fill:#7f3b08;stroke:#7f3b08;\" x=\"46.767302\" xlink:href=\"#C0_0_0a42719704\" y=\"32.016428\"/>\r\n    </g>\r\n    <g clip-path=\"url(#p2652fecc80)\">\r\n     <use style=\"fill:#7f3b08;stroke:#7f3b08;\" x=\"51.205386\" xlink:href=\"#C0_0_0a42719704\" y=\"193.417202\"/>\r\n    </g>\r\n    <g clip-path=\"url(#p2652fecc80)\">\r\n     <use style=\"fill:#2d004b;stroke:#2d004b;\" x=\"65.554369\" xlink:href=\"#C0_0_0a42719704\" y=\"176.035581\"/>\r\n    </g>\r\n    <g clip-path=\"url(#p2652fecc80)\">\r\n     <use style=\"fill:#7f3b08;stroke:#7f3b08;\" x=\"57.593999\" xlink:href=\"#C0_0_0a42719704\" y=\"106.509093\"/>\r\n    </g>\r\n    <g clip-path=\"url(#p2652fecc80)\">\r\n     <use style=\"fill:#2d004b;stroke:#2d004b;\" x=\"47.702942\" xlink:href=\"#C0_0_0a42719704\" y=\"171.069403\"/>\r\n    </g>\r\n    <g clip-path=\"url(#p2652fecc80)\">\r\n     <use style=\"fill:#2d004b;stroke:#2d004b;\" x=\"140.0888\" xlink:href=\"#C0_0_0a42719704\" y=\"104.026004\"/>\r\n    </g>\r\n    <g clip-path=\"url(#p2652fecc80)\">\r\n     <use style=\"fill:#2d004b;stroke:#2d004b;\" x=\"57.920731\" xlink:href=\"#C0_0_0a42719704\" y=\"89.127471\"/>\r\n    </g>\r\n    <g clip-path=\"url(#p2652fecc80)\">\r\n     <use style=\"fill:#2d004b;stroke:#2d004b;\" x=\"53.589042\" xlink:href=\"#C0_0_0a42719704\" y=\"156.17087\"/>\r\n    </g>\r\n    <g clip-path=\"url(#p2652fecc80)\">\r\n     <use style=\"fill:#7f3b08;stroke:#7f3b08;\" x=\"46.443065\" xlink:href=\"#C0_0_0a42719704\" y=\"142.019455\"/>\r\n    </g>\r\n    <g clip-path=\"url(#p2652fecc80)\">\r\n     <use style=\"fill:#7f3b08;stroke:#7f3b08;\" x=\"50.529646\" xlink:href=\"#C0_0_0a42719704\" y=\"113.95836\"/>\r\n    </g>\r\n    <g clip-path=\"url(#p2652fecc80)\">\r\n     <use style=\"fill:#7f3b08;stroke:#7f3b08;\" x=\"48.980166\" xlink:href=\"#C0_0_0a42719704\" y=\"163.620136\"/>\r\n    </g>\r\n    <g clip-path=\"url(#p2652fecc80)\">\r\n     <use style=\"fill:#2d004b;stroke:#2d004b;\" x=\"57.55194\" xlink:href=\"#C0_0_0a42719704\" y=\"96.576738\"/>\r\n    </g>\r\n    <g clip-path=\"url(#p2652fecc80)\">\r\n     <use style=\"fill:#7f3b08;stroke:#7f3b08;\" x=\"83.465202\" xlink:href=\"#C0_0_0a42719704\" y=\"142.019455\"/>\r\n    </g>\r\n    <g clip-path=\"url(#p2652fecc80)\">\r\n     <use style=\"fill:#7f3b08;stroke:#7f3b08;\" x=\"49.871252\" xlink:href=\"#C0_0_0a42719704\" y=\"156.17087\"/>\r\n    </g>\r\n    <g clip-path=\"url(#p2652fecc80)\">\r\n     <use style=\"fill:#2d004b;stroke:#2d004b;\" x=\"49.871252\" xlink:href=\"#C0_0_0a42719704\" y=\"111.475271\"/>\r\n    </g>\r\n    <g clip-path=\"url(#p2652fecc80)\">\r\n     <use style=\"fill:#2d004b;stroke:#2d004b;\" x=\"50.381132\" xlink:href=\"#C0_0_0a42719704\" y=\"148.721603\"/>\r\n    </g>\r\n    <g clip-path=\"url(#p2652fecc80)\">\r\n     <use style=\"fill:#7f3b08;stroke:#7f3b08;\" x=\"72.145912\" xlink:href=\"#C0_0_0a42719704\" y=\"138.789248\"/>\r\n    </g>\r\n    <g clip-path=\"url(#p2652fecc80)\">\r\n     <use style=\"fill:#7f3b08;stroke:#7f3b08;\" x=\"47.792051\" xlink:href=\"#C0_0_0a42719704\" y=\"142.019455\"/>\r\n    </g>\r\n    <g clip-path=\"url(#p2652fecc80)\">\r\n     <use style=\"fill:#2d004b;stroke:#2d004b;\" x=\"48.762325\" xlink:href=\"#C0_0_0a42719704\" y=\"205.832647\"/>\r\n    </g>\r\n    <g clip-path=\"url(#p2652fecc80)\">\r\n     <use style=\"fill:#7f3b08;stroke:#7f3b08;\" x=\"46.839064\" xlink:href=\"#C0_0_0a42719704\" y=\"151.204692\"/>\r\n    </g>\r\n    <g clip-path=\"url(#p2652fecc80)\">\r\n     <use style=\"fill:#2d004b;stroke:#2d004b;\" x=\"73.36872\" xlink:href=\"#C0_0_0a42719704\" y=\"99.059827\"/>\r\n    </g>\r\n    <g clip-path=\"url(#p2652fecc80)\">\r\n     <use style=\"fill:#7f3b08;stroke:#7f3b08;\" x=\"45.118792\" xlink:href=\"#C0_0_0a42719704\" y=\"133.82307\"/>\r\n    </g>\r\n    <g clip-path=\"url(#p2652fecc80)\">\r\n     <use style=\"fill:#7f3b08;stroke:#7f3b08;\" x=\"47.495022\" xlink:href=\"#C0_0_0a42719704\" y=\"99.059827\"/>\r\n    </g>\r\n    <g clip-path=\"url(#p2652fecc80)\">\r\n     <use style=\"fill:#2d004b;stroke:#2d004b;\" x=\"56.405884\" xlink:href=\"#C0_0_0a42719704\" y=\"146.238515\"/>\r\n    </g>\r\n    <g clip-path=\"url(#p2652fecc80)\">\r\n     <use style=\"fill:#2d004b;stroke:#2d004b;\" x=\"46.44057\" xlink:href=\"#C0_0_0a42719704\" y=\"178.518669\"/>\r\n    </g>\r\n    <g clip-path=\"url(#p2652fecc80)\">\r\n     <use style=\"fill:#7f3b08;stroke:#7f3b08;\" x=\"47.997476\" xlink:href=\"#C0_0_0a42719704\" y=\"166.103225\"/>\r\n    </g>\r\n    <g clip-path=\"url(#p2652fecc80)\">\r\n     <use style=\"fill:#7f3b08;stroke:#7f3b08;\" x=\"46.839064\" xlink:href=\"#C0_0_0a42719704\" y=\"168.586314\"/>\r\n    </g>\r\n    <g clip-path=\"url(#p2652fecc80)\">\r\n     <use style=\"fill:#7f3b08;stroke:#7f3b08;\" x=\"46.839064\" xlink:href=\"#C0_0_0a42719704\" y=\"142.019455\"/>\r\n    </g>\r\n    <g clip-path=\"url(#p2652fecc80)\">\r\n     <use style=\"fill:#2d004b;stroke:#2d004b;\" x=\"91.549315\" xlink:href=\"#C0_0_0a42719704\" y=\"76.712027\"/>\r\n    </g>\r\n    <g clip-path=\"url(#p2652fecc80)\">\r\n     <use style=\"fill:#2d004b;stroke:#2d004b;\" x=\"57.593999\" xlink:href=\"#C0_0_0a42719704\" y=\"153.687781\"/>\r\n    </g>\r\n    <g clip-path=\"url(#p2652fecc80)\">\r\n     <use style=\"fill:#7f3b08;stroke:#7f3b08;\" x=\"46.839064\" xlink:href=\"#C0_0_0a42719704\" y=\"133.82307\"/>\r\n    </g>\r\n    <g clip-path=\"url(#p2652fecc80)\">\r\n     <use style=\"fill:#7f3b08;stroke:#7f3b08;\" x=\"48.396029\" xlink:href=\"#C0_0_0a42719704\" y=\"161.137048\"/>\r\n    </g>\r\n    <g clip-path=\"url(#p2652fecc80)\">\r\n     <use style=\"fill:#7f3b08;stroke:#7f3b08;\" x=\"48.386108\" xlink:href=\"#C0_0_0a42719704\" y=\"146.238515\"/>\r\n    </g>\r\n    <g clip-path=\"url(#p2652fecc80)\">\r\n     <use style=\"fill:#7f3b08;stroke:#7f3b08;\" x=\"46.33661\" xlink:href=\"#C0_0_0a42719704\" y=\"153.687781\"/>\r\n    </g>\r\n    <g clip-path=\"url(#p2652fecc80)\">\r\n     <use style=\"fill:#7f3b08;stroke:#7f3b08;\" x=\"59.450429\" xlink:href=\"#C0_0_0a42719704\" y=\"118.924537\"/>\r\n    </g>\r\n    <g clip-path=\"url(#p2652fecc80)\">\r\n     <use style=\"fill:#7f3b08;stroke:#7f3b08;\" x=\"49.871252\" xlink:href=\"#C0_0_0a42719704\" y=\"148.721603\"/>\r\n    </g>\r\n    <g clip-path=\"url(#p2652fecc80)\">\r\n     <use style=\"fill:#2d004b;stroke:#2d004b;\" x=\"59.970229\" xlink:href=\"#C0_0_0a42719704\" y=\"168.586314\"/>\r\n    </g>\r\n    <g clip-path=\"url(#p2652fecc80)\">\r\n     <use style=\"fill:#7f3b08;stroke:#7f3b08;\" x=\"56.079153\" xlink:href=\"#C0_0_0a42719704\" y=\"142.019455\"/>\r\n    </g>\r\n    <g clip-path=\"url(#p2652fecc80)\">\r\n     <use style=\"fill:#2d004b;stroke:#2d004b;\" x=\"59.970229\" xlink:href=\"#C0_0_0a42719704\" y=\"151.204692\"/>\r\n    </g>\r\n    <g clip-path=\"url(#p2652fecc80)\">\r\n     <use style=\"fill:#7f3b08;stroke:#7f3b08;\" x=\"46.75245\" xlink:href=\"#C0_0_0a42719704\" y=\"136.306159\"/>\r\n    </g>\r\n   </g>\r\n   <g id=\"matplotlib.axis_1\">\r\n    <g id=\"xtick_1\">\r\n     <g id=\"line2d_1\">\r\n      <defs>\r\n       <path d=\"M 0 0 \r\nL 0 3.5 \r\n\" id=\"m863cc39c6d\" style=\"stroke:#000000;stroke-width:0.8;\"/>\r\n      </defs>\r\n      <g>\r\n       <use style=\"stroke:#000000;stroke-width:0.8;\" x=\"42.148505\" xlink:href=\"#m863cc39c6d\" y=\"224.64\"/>\r\n      </g>\r\n     </g>\r\n     <g id=\"text_1\">\r\n      <!-- 0 -->\r\n      <defs>\r\n       <path d=\"M 31.78125 66.40625 \r\nQ 24.171875 66.40625 20.328125 58.90625 \r\nQ 16.5 51.421875 16.5 36.375 \r\nQ 16.5 21.390625 20.328125 13.890625 \r\nQ 24.171875 6.390625 31.78125 6.390625 \r\nQ 39.453125 6.390625 43.28125 13.890625 \r\nQ 47.125 21.390625 47.125 36.375 \r\nQ 47.125 51.421875 43.28125 58.90625 \r\nQ 39.453125 66.40625 31.78125 66.40625 \r\nz\r\nM 31.78125 74.21875 \r\nQ 44.046875 74.21875 50.515625 64.515625 \r\nQ 56.984375 54.828125 56.984375 36.375 \r\nQ 56.984375 17.96875 50.515625 8.265625 \r\nQ 44.046875 -1.421875 31.78125 -1.421875 \r\nQ 19.53125 -1.421875 13.0625 8.265625 \r\nQ 6.59375 17.96875 6.59375 36.375 \r\nQ 6.59375 54.828125 13.0625 64.515625 \r\nQ 19.53125 74.21875 31.78125 74.21875 \r\nz\r\n\" id=\"DejaVuSans-48\"/>\r\n      </defs>\r\n      <g transform=\"translate(38.967255 239.238437)scale(0.1 -0.1)\">\r\n       <use xlink:href=\"#DejaVuSans-48\"/>\r\n      </g>\r\n     </g>\r\n    </g>\r\n    <g id=\"xtick_2\">\r\n     <g id=\"line2d_2\">\r\n      <g>\r\n       <use style=\"stroke:#000000;stroke-width:0.8;\" x=\"101.554252\" xlink:href=\"#m863cc39c6d\" y=\"224.64\"/>\r\n      </g>\r\n     </g>\r\n     <g id=\"text_2\">\r\n      <!-- 100 -->\r\n      <defs>\r\n       <path d=\"M 12.40625 8.296875 \r\nL 28.515625 8.296875 \r\nL 28.515625 63.921875 \r\nL 10.984375 60.40625 \r\nL 10.984375 69.390625 \r\nL 28.421875 72.90625 \r\nL 38.28125 72.90625 \r\nL 38.28125 8.296875 \r\nL 54.390625 8.296875 \r\nL 54.390625 0 \r\nL 12.40625 0 \r\nz\r\n\" id=\"DejaVuSans-49\"/>\r\n      </defs>\r\n      <g transform=\"translate(92.010502 239.238437)scale(0.1 -0.1)\">\r\n       <use xlink:href=\"#DejaVuSans-49\"/>\r\n       <use x=\"63.623047\" xlink:href=\"#DejaVuSans-48\"/>\r\n       <use x=\"127.246094\" xlink:href=\"#DejaVuSans-48\"/>\r\n      </g>\r\n     </g>\r\n    </g>\r\n    <g id=\"xtick_3\">\r\n     <g id=\"line2d_3\">\r\n      <g>\r\n       <use style=\"stroke:#000000;stroke-width:0.8;\" x=\"160.96\" xlink:href=\"#m863cc39c6d\" y=\"224.64\"/>\r\n      </g>\r\n     </g>\r\n     <g id=\"text_3\">\r\n      <!-- 200 -->\r\n      <defs>\r\n       <path d=\"M 19.1875 8.296875 \r\nL 53.609375 8.296875 \r\nL 53.609375 0 \r\nL 7.328125 0 \r\nL 7.328125 8.296875 \r\nQ 12.9375 14.109375 22.625 23.890625 \r\nQ 32.328125 33.6875 34.8125 36.53125 \r\nQ 39.546875 41.84375 41.421875 45.53125 \r\nQ 43.3125 49.21875 43.3125 52.78125 \r\nQ 43.3125 58.59375 39.234375 62.25 \r\nQ 35.15625 65.921875 28.609375 65.921875 \r\nQ 23.96875 65.921875 18.8125 64.3125 \r\nQ 13.671875 62.703125 7.8125 59.421875 \r\nL 7.8125 69.390625 \r\nQ 13.765625 71.78125 18.9375 73 \r\nQ 24.125 74.21875 28.421875 74.21875 \r\nQ 39.75 74.21875 46.484375 68.546875 \r\nQ 53.21875 62.890625 53.21875 53.421875 \r\nQ 53.21875 48.921875 51.53125 44.890625 \r\nQ 49.859375 40.875 45.40625 35.40625 \r\nQ 44.1875 33.984375 37.640625 27.21875 \r\nQ 31.109375 20.453125 19.1875 8.296875 \r\nz\r\n\" id=\"DejaVuSans-50\"/>\r\n      </defs>\r\n      <g transform=\"translate(151.41625 239.238437)scale(0.1 -0.1)\">\r\n       <use xlink:href=\"#DejaVuSans-50\"/>\r\n       <use x=\"63.623047\" xlink:href=\"#DejaVuSans-48\"/>\r\n       <use x=\"127.246094\" xlink:href=\"#DejaVuSans-48\"/>\r\n      </g>\r\n     </g>\r\n    </g>\r\n    <g id=\"xtick_4\">\r\n     <g id=\"line2d_4\">\r\n      <g>\r\n       <use style=\"stroke:#000000;stroke-width:0.8;\" x=\"220.365747\" xlink:href=\"#m863cc39c6d\" y=\"224.64\"/>\r\n      </g>\r\n     </g>\r\n     <g id=\"text_4\">\r\n      <!-- 300 -->\r\n      <defs>\r\n       <path d=\"M 40.578125 39.3125 \r\nQ 47.65625 37.796875 51.625 33 \r\nQ 55.609375 28.21875 55.609375 21.1875 \r\nQ 55.609375 10.40625 48.1875 4.484375 \r\nQ 40.765625 -1.421875 27.09375 -1.421875 \r\nQ 22.515625 -1.421875 17.65625 -0.515625 \r\nQ 12.796875 0.390625 7.625 2.203125 \r\nL 7.625 11.71875 \r\nQ 11.71875 9.328125 16.59375 8.109375 \r\nQ 21.484375 6.890625 26.8125 6.890625 \r\nQ 36.078125 6.890625 40.9375 10.546875 \r\nQ 45.796875 14.203125 45.796875 21.1875 \r\nQ 45.796875 27.640625 41.28125 31.265625 \r\nQ 36.765625 34.90625 28.71875 34.90625 \r\nL 20.21875 34.90625 \r\nL 20.21875 43.015625 \r\nL 29.109375 43.015625 \r\nQ 36.375 43.015625 40.234375 45.921875 \r\nQ 44.09375 48.828125 44.09375 54.296875 \r\nQ 44.09375 59.90625 40.109375 62.90625 \r\nQ 36.140625 65.921875 28.71875 65.921875 \r\nQ 24.65625 65.921875 20.015625 65.03125 \r\nQ 15.375 64.15625 9.8125 62.3125 \r\nL 9.8125 71.09375 \r\nQ 15.4375 72.65625 20.34375 73.4375 \r\nQ 25.25 74.21875 29.59375 74.21875 \r\nQ 40.828125 74.21875 47.359375 69.109375 \r\nQ 53.90625 64.015625 53.90625 55.328125 \r\nQ 53.90625 49.265625 50.4375 45.09375 \r\nQ 46.96875 40.921875 40.578125 39.3125 \r\nz\r\n\" id=\"DejaVuSans-51\"/>\r\n      </defs>\r\n      <g transform=\"translate(210.821997 239.238437)scale(0.1 -0.1)\">\r\n       <use xlink:href=\"#DejaVuSans-51\"/>\r\n       <use x=\"63.623047\" xlink:href=\"#DejaVuSans-48\"/>\r\n       <use x=\"127.246094\" xlink:href=\"#DejaVuSans-48\"/>\r\n      </g>\r\n     </g>\r\n    </g>\r\n    <g id=\"xtick_5\">\r\n     <g id=\"line2d_5\">\r\n      <g>\r\n       <use style=\"stroke:#000000;stroke-width:0.8;\" x=\"279.771494\" xlink:href=\"#m863cc39c6d\" y=\"224.64\"/>\r\n      </g>\r\n     </g>\r\n     <g id=\"text_5\">\r\n      <!-- 400 -->\r\n      <defs>\r\n       <path d=\"M 37.796875 64.3125 \r\nL 12.890625 25.390625 \r\nL 37.796875 25.390625 \r\nz\r\nM 35.203125 72.90625 \r\nL 47.609375 72.90625 \r\nL 47.609375 25.390625 \r\nL 58.015625 25.390625 \r\nL 58.015625 17.1875 \r\nL 47.609375 17.1875 \r\nL 47.609375 0 \r\nL 37.796875 0 \r\nL 37.796875 17.1875 \r\nL 4.890625 17.1875 \r\nL 4.890625 26.703125 \r\nz\r\n\" id=\"DejaVuSans-52\"/>\r\n      </defs>\r\n      <g transform=\"translate(270.227744 239.238437)scale(0.1 -0.1)\">\r\n       <use xlink:href=\"#DejaVuSans-52\"/>\r\n       <use x=\"63.623047\" xlink:href=\"#DejaVuSans-48\"/>\r\n       <use x=\"127.246094\" xlink:href=\"#DejaVuSans-48\"/>\r\n      </g>\r\n     </g>\r\n    </g>\r\n    <g id=\"xtick_6\">\r\n     <g id=\"line2d_6\">\r\n      <g>\r\n       <use style=\"stroke:#000000;stroke-width:0.8;\" x=\"339.177242\" xlink:href=\"#m863cc39c6d\" y=\"224.64\"/>\r\n      </g>\r\n     </g>\r\n     <g id=\"text_6\">\r\n      <!-- 500 -->\r\n      <defs>\r\n       <path d=\"M 10.796875 72.90625 \r\nL 49.515625 72.90625 \r\nL 49.515625 64.59375 \r\nL 19.828125 64.59375 \r\nL 19.828125 46.734375 \r\nQ 21.96875 47.46875 24.109375 47.828125 \r\nQ 26.265625 48.1875 28.421875 48.1875 \r\nQ 40.625 48.1875 47.75 41.5 \r\nQ 54.890625 34.8125 54.890625 23.390625 \r\nQ 54.890625 11.625 47.5625 5.09375 \r\nQ 40.234375 -1.421875 26.90625 -1.421875 \r\nQ 22.3125 -1.421875 17.546875 -0.640625 \r\nQ 12.796875 0.140625 7.71875 1.703125 \r\nL 7.71875 11.625 \r\nQ 12.109375 9.234375 16.796875 8.0625 \r\nQ 21.484375 6.890625 26.703125 6.890625 \r\nQ 35.15625 6.890625 40.078125 11.328125 \r\nQ 45.015625 15.765625 45.015625 23.390625 \r\nQ 45.015625 31 40.078125 35.4375 \r\nQ 35.15625 39.890625 26.703125 39.890625 \r\nQ 22.75 39.890625 18.8125 39.015625 \r\nQ 14.890625 38.140625 10.796875 36.28125 \r\nz\r\n\" id=\"DejaVuSans-53\"/>\r\n      </defs>\r\n      <g transform=\"translate(329.633492 239.238437)scale(0.1 -0.1)\">\r\n       <use xlink:href=\"#DejaVuSans-53\"/>\r\n       <use x=\"63.623047\" xlink:href=\"#DejaVuSans-48\"/>\r\n       <use x=\"127.246094\" xlink:href=\"#DejaVuSans-48\"/>\r\n      </g>\r\n     </g>\r\n    </g>\r\n   </g>\r\n   <g id=\"matplotlib.axis_2\">\r\n    <g id=\"ytick_1\">\r\n     <g id=\"line2d_7\">\r\n      <defs>\r\n       <path d=\"M 0 0 \r\nL -3.5 0 \r\n\" id=\"me408c57692\" style=\"stroke:#000000;stroke-width:0.8;\"/>\r\n      </defs>\r\n      <g>\r\n       <use style=\"stroke:#000000;stroke-width:0.8;\" x=\"26.925\" xlink:href=\"#me408c57692\" y=\"215.765002\"/>\r\n      </g>\r\n     </g>\r\n     <g id=\"text_7\">\r\n      <!-- 0 -->\r\n      <g transform=\"translate(13.5625 219.564221)scale(0.1 -0.1)\">\r\n       <use xlink:href=\"#DejaVuSans-48\"/>\r\n      </g>\r\n     </g>\r\n    </g>\r\n    <g id=\"ytick_2\">\r\n     <g id=\"line2d_8\">\r\n      <g>\r\n       <use style=\"stroke:#000000;stroke-width:0.8;\" x=\"26.925\" xlink:href=\"#me408c57692\" y=\"190.934114\"/>\r\n      </g>\r\n     </g>\r\n     <g id=\"text_8\">\r\n      <!-- 10 -->\r\n      <g transform=\"translate(7.2 194.733332)scale(0.1 -0.1)\">\r\n       <use xlink:href=\"#DejaVuSans-49\"/>\r\n       <use x=\"63.623047\" xlink:href=\"#DejaVuSans-48\"/>\r\n      </g>\r\n     </g>\r\n    </g>\r\n    <g id=\"ytick_3\">\r\n     <g id=\"line2d_9\">\r\n      <g>\r\n       <use style=\"stroke:#000000;stroke-width:0.8;\" x=\"26.925\" xlink:href=\"#me408c57692\" y=\"166.103225\"/>\r\n      </g>\r\n     </g>\r\n     <g id=\"text_9\">\r\n      <!-- 20 -->\r\n      <g transform=\"translate(7.2 169.902444)scale(0.1 -0.1)\">\r\n       <use xlink:href=\"#DejaVuSans-50\"/>\r\n       <use x=\"63.623047\" xlink:href=\"#DejaVuSans-48\"/>\r\n      </g>\r\n     </g>\r\n    </g>\r\n    <g id=\"ytick_4\">\r\n     <g id=\"line2d_10\">\r\n      <g>\r\n       <use style=\"stroke:#000000;stroke-width:0.8;\" x=\"26.925\" xlink:href=\"#me408c57692\" y=\"141.272337\"/>\r\n      </g>\r\n     </g>\r\n     <g id=\"text_10\">\r\n      <!-- 30 -->\r\n      <g transform=\"translate(7.2 145.071556)scale(0.1 -0.1)\">\r\n       <use xlink:href=\"#DejaVuSans-51\"/>\r\n       <use x=\"63.623047\" xlink:href=\"#DejaVuSans-48\"/>\r\n      </g>\r\n     </g>\r\n    </g>\r\n    <g id=\"ytick_5\">\r\n     <g id=\"line2d_11\">\r\n      <g>\r\n       <use style=\"stroke:#000000;stroke-width:0.8;\" x=\"26.925\" xlink:href=\"#me408c57692\" y=\"116.441449\"/>\r\n      </g>\r\n     </g>\r\n     <g id=\"text_11\">\r\n      <!-- 40 -->\r\n      <g transform=\"translate(7.2 120.240667)scale(0.1 -0.1)\">\r\n       <use xlink:href=\"#DejaVuSans-52\"/>\r\n       <use x=\"63.623047\" xlink:href=\"#DejaVuSans-48\"/>\r\n      </g>\r\n     </g>\r\n    </g>\r\n    <g id=\"ytick_6\">\r\n     <g id=\"line2d_12\">\r\n      <g>\r\n       <use style=\"stroke:#000000;stroke-width:0.8;\" x=\"26.925\" xlink:href=\"#me408c57692\" y=\"91.61056\"/>\r\n      </g>\r\n     </g>\r\n     <g id=\"text_12\">\r\n      <!-- 50 -->\r\n      <g transform=\"translate(7.2 95.409779)scale(0.1 -0.1)\">\r\n       <use xlink:href=\"#DejaVuSans-53\"/>\r\n       <use x=\"63.623047\" xlink:href=\"#DejaVuSans-48\"/>\r\n      </g>\r\n     </g>\r\n    </g>\r\n    <g id=\"ytick_7\">\r\n     <g id=\"line2d_13\">\r\n      <g>\r\n       <use style=\"stroke:#000000;stroke-width:0.8;\" x=\"26.925\" xlink:href=\"#me408c57692\" y=\"66.779672\"/>\r\n      </g>\r\n     </g>\r\n     <g id=\"text_13\">\r\n      <!-- 60 -->\r\n      <defs>\r\n       <path d=\"M 33.015625 40.375 \r\nQ 26.375 40.375 22.484375 35.828125 \r\nQ 18.609375 31.296875 18.609375 23.390625 \r\nQ 18.609375 15.53125 22.484375 10.953125 \r\nQ 26.375 6.390625 33.015625 6.390625 \r\nQ 39.65625 6.390625 43.53125 10.953125 \r\nQ 47.40625 15.53125 47.40625 23.390625 \r\nQ 47.40625 31.296875 43.53125 35.828125 \r\nQ 39.65625 40.375 33.015625 40.375 \r\nz\r\nM 52.59375 71.296875 \r\nL 52.59375 62.3125 \r\nQ 48.875 64.0625 45.09375 64.984375 \r\nQ 41.3125 65.921875 37.59375 65.921875 \r\nQ 27.828125 65.921875 22.671875 59.328125 \r\nQ 17.53125 52.734375 16.796875 39.40625 \r\nQ 19.671875 43.65625 24.015625 45.921875 \r\nQ 28.375 48.1875 33.59375 48.1875 \r\nQ 44.578125 48.1875 50.953125 41.515625 \r\nQ 57.328125 34.859375 57.328125 23.390625 \r\nQ 57.328125 12.15625 50.6875 5.359375 \r\nQ 44.046875 -1.421875 33.015625 -1.421875 \r\nQ 20.359375 -1.421875 13.671875 8.265625 \r\nQ 6.984375 17.96875 6.984375 36.375 \r\nQ 6.984375 53.65625 15.1875 63.9375 \r\nQ 23.390625 74.21875 37.203125 74.21875 \r\nQ 40.921875 74.21875 44.703125 73.484375 \r\nQ 48.484375 72.75 52.59375 71.296875 \r\nz\r\n\" id=\"DejaVuSans-54\"/>\r\n      </defs>\r\n      <g transform=\"translate(7.2 70.578891)scale(0.1 -0.1)\">\r\n       <use xlink:href=\"#DejaVuSans-54\"/>\r\n       <use x=\"63.623047\" xlink:href=\"#DejaVuSans-48\"/>\r\n      </g>\r\n     </g>\r\n    </g>\r\n    <g id=\"ytick_8\">\r\n     <g id=\"line2d_14\">\r\n      <g>\r\n       <use style=\"stroke:#000000;stroke-width:0.8;\" x=\"26.925\" xlink:href=\"#me408c57692\" y=\"41.948784\"/>\r\n      </g>\r\n     </g>\r\n     <g id=\"text_14\">\r\n      <!-- 70 -->\r\n      <defs>\r\n       <path d=\"M 8.203125 72.90625 \r\nL 55.078125 72.90625 \r\nL 55.078125 68.703125 \r\nL 28.609375 0 \r\nL 18.3125 0 \r\nL 43.21875 64.59375 \r\nL 8.203125 64.59375 \r\nz\r\n\" id=\"DejaVuSans-55\"/>\r\n      </defs>\r\n      <g transform=\"translate(7.2 45.748002)scale(0.1 -0.1)\">\r\n       <use xlink:href=\"#DejaVuSans-55\"/>\r\n       <use x=\"63.623047\" xlink:href=\"#DejaVuSans-48\"/>\r\n      </g>\r\n     </g>\r\n    </g>\r\n    <g id=\"ytick_9\">\r\n     <g id=\"line2d_15\">\r\n      <g>\r\n       <use style=\"stroke:#000000;stroke-width:0.8;\" x=\"26.925\" xlink:href=\"#me408c57692\" y=\"17.117895\"/>\r\n      </g>\r\n     </g>\r\n     <g id=\"text_15\">\r\n      <!-- 80 -->\r\n      <defs>\r\n       <path d=\"M 31.78125 34.625 \r\nQ 24.75 34.625 20.71875 30.859375 \r\nQ 16.703125 27.09375 16.703125 20.515625 \r\nQ 16.703125 13.921875 20.71875 10.15625 \r\nQ 24.75 6.390625 31.78125 6.390625 \r\nQ 38.8125 6.390625 42.859375 10.171875 \r\nQ 46.921875 13.96875 46.921875 20.515625 \r\nQ 46.921875 27.09375 42.890625 30.859375 \r\nQ 38.875 34.625 31.78125 34.625 \r\nz\r\nM 21.921875 38.8125 \r\nQ 15.578125 40.375 12.03125 44.71875 \r\nQ 8.5 49.078125 8.5 55.328125 \r\nQ 8.5 64.0625 14.71875 69.140625 \r\nQ 20.953125 74.21875 31.78125 74.21875 \r\nQ 42.671875 74.21875 48.875 69.140625 \r\nQ 55.078125 64.0625 55.078125 55.328125 \r\nQ 55.078125 49.078125 51.53125 44.71875 \r\nQ 48 40.375 41.703125 38.8125 \r\nQ 48.828125 37.15625 52.796875 32.3125 \r\nQ 56.78125 27.484375 56.78125 20.515625 \r\nQ 56.78125 9.90625 50.3125 4.234375 \r\nQ 43.84375 -1.421875 31.78125 -1.421875 \r\nQ 19.734375 -1.421875 13.25 4.234375 \r\nQ 6.78125 9.90625 6.78125 20.515625 \r\nQ 6.78125 27.484375 10.78125 32.3125 \r\nQ 14.796875 37.15625 21.921875 38.8125 \r\nz\r\nM 18.3125 54.390625 \r\nQ 18.3125 48.734375 21.84375 45.5625 \r\nQ 25.390625 42.390625 31.78125 42.390625 \r\nQ 38.140625 42.390625 41.71875 45.5625 \r\nQ 45.3125 48.734375 45.3125 54.390625 \r\nQ 45.3125 60.0625 41.71875 63.234375 \r\nQ 38.140625 66.40625 31.78125 66.40625 \r\nQ 25.390625 66.40625 21.84375 63.234375 \r\nQ 18.3125 60.0625 18.3125 54.390625 \r\nz\r\n\" id=\"DejaVuSans-56\"/>\r\n      </defs>\r\n      <g transform=\"translate(7.2 20.917114)scale(0.1 -0.1)\">\r\n       <use xlink:href=\"#DejaVuSans-56\"/>\r\n       <use x=\"63.623047\" xlink:href=\"#DejaVuSans-48\"/>\r\n      </g>\r\n     </g>\r\n    </g>\r\n   </g>\r\n   <g id=\"patch_3\">\r\n    <path d=\"M 26.925 224.64 \r\nL 26.925 7.2 \r\n\" style=\"fill:none;stroke:#000000;stroke-linecap:square;stroke-linejoin:miter;stroke-width:0.8;\"/>\r\n   </g>\r\n   <g id=\"patch_4\">\r\n    <path d=\"M 361.725 224.64 \r\nL 361.725 7.2 \r\n\" style=\"fill:none;stroke:#000000;stroke-linecap:square;stroke-linejoin:miter;stroke-width:0.8;\"/>\r\n   </g>\r\n   <g id=\"patch_5\">\r\n    <path d=\"M 26.925 224.64 \r\nL 361.725 224.64 \r\n\" style=\"fill:none;stroke:#000000;stroke-linecap:square;stroke-linejoin:miter;stroke-width:0.8;\"/>\r\n   </g>\r\n   <g id=\"patch_6\">\r\n    <path d=\"M 26.925 7.2 \r\nL 361.725 7.2 \r\n\" style=\"fill:none;stroke:#000000;stroke-linecap:square;stroke-linejoin:miter;stroke-width:0.8;\"/>\r\n   </g>\r\n  </g>\r\n </g>\r\n <defs>\r\n  <clipPath id=\"p2652fecc80\">\r\n   <rect height=\"217.44\" width=\"334.8\" x=\"26.925\" y=\"7.2\"/>\r\n  </clipPath>\r\n </defs>\r\n</svg>\r\n",
      "image/png": "[encoded data removed]"
     },
     "metadata": {
      "needs_background": "light"
     }
    }
   ],
   "source": [
    "fig8 = plt.scatter(train['Fare'], train['Age'], c=train['Survived'], cmap=\"PuOr\")\n",
    "fig8"
   ]
  },
  {
   "cell_type": "markdown",
   "metadata": {},
   "source": [
    "# DASH"
   ]
  },
  {
   "cell_type": "code",
   "execution_count": 150,
   "metadata": {},
   "outputs": [
    {
     "output_type": "stream",
     "name": "stdout",
     "text": "Running on http://127.0.0.1:8050/\nRunning on http://127.0.0.1:8050/\nRunning on http://127.0.0.1:8050/\nRunning on http://127.0.0.1:8050/\nRunning on http://127.0.0.1:8050/\nDebugger PIN: 234-694-992\nDebugger PIN: 234-694-992\nDebugger PIN: 234-694-992\nDebugger PIN: 234-694-992\nDebugger PIN: 234-694-992\n * Serving Flask app \"__main__\" (lazy loading)\n * Environment: production\n   WARNING: This is a development server. Do not use it in a production deployment.\n   Use a production WSGI server instead.\n * Debug mode: on\n"
    },
    {
     "output_type": "error",
     "ename": "SystemExit",
     "evalue": "1",
     "traceback": [
      "An exception has occurred, use %tb to see the full traceback.\n",
      "\u001b[1;31mSystemExit\u001b[0m\u001b[1;31m:\u001b[0m 1\n"
     ]
    }
   ],
   "source": [
    "import dash\n",
    "import dash_core_components as dcc\n",
    "import dash_html_components as html\n",
    "\n",
    "external_stylesheets = ['https://codepen.io/chriddyp/pen/bWLwgP.css']\n",
    "\n",
    "app = dash.Dash(__name__, external_stylesheets=external_stylesheets)\n",
    "\n",
    "app.layout = html.Div(children=[\n",
    "    html.H1(children='Hello Dash'),\n",
    "\n",
    "    html.Div(children='''\n",
    "        Dash: A web application framework for Python.\n",
    "    '''),\n",
    "\n",
    "    dcc.Graph(\n",
    "        id='example-graph',\n",
    "        figure={\n",
    "            'data': [\n",
    "                {'x': [1, 2, 3], 'y': [4, 1, 2], 'type': 'bar', 'name': 'SF'},\n",
    "                {'x': [1, 2, 3], 'y': [2, 4, 5], 'type': 'bar', 'name': u'Montréal'},\n",
    "            ],\n",
    "            'layout': {\n",
    "                'title': 'Dash Data Visualization'\n",
    "            }\n",
    "        }\n",
    "    )\n",
    "])\n",
    "\n",
    "if __name__ == '__main__':\n",
    "    app.run_server(debug=True)"
   ]
  },
  {
   "cell_type": "code",
   "execution_count": null,
   "metadata": {},
   "outputs": [],
   "source": []
  },
  {
   "cell_type": "code",
   "execution_count": null,
   "metadata": {},
   "outputs": [],
   "source": []
  },
  {
   "cell_type": "code",
   "execution_count": null,
   "metadata": {},
   "outputs": [],
   "source": []
  },
  {
   "cell_type": "code",
   "execution_count": null,
   "metadata": {},
   "outputs": [],
   "source": []
  },
  {
   "cell_type": "code",
   "execution_count": null,
   "metadata": {},
   "outputs": [],
   "source": []
  },
  {
   "cell_type": "code",
   "execution_count": 148,
   "metadata": {},
   "outputs": [
    {
     "output_type": "stream",
     "name": "stdout",
     "text": "Running on http://127.0.0.1:8050/\nRunning on http://127.0.0.1:8050/\nRunning on http://127.0.0.1:8050/\nRunning on http://127.0.0.1:8050/\nDebugger PIN: 468-675-101\nDebugger PIN: 468-675-101\nDebugger PIN: 468-675-101\nDebugger PIN: 468-675-101\n * Serving Flask app \"__main__\" (lazy loading)\n * Environment: production\n   WARNING: This is a development server. Do not use it in a production deployment.\n   Use a production WSGI server instead.\n * Debug mode: on\n"
    },
    {
     "output_type": "error",
     "ename": "SystemExit",
     "evalue": "1",
     "traceback": [
      "An exception has occurred, use %tb to see the full traceback.\n",
      "\u001b[1;31mSystemExit\u001b[0m\u001b[1;31m:\u001b[0m 1\n"
     ]
    }
   ],
   "source": [
    "import base64\n",
    "import io\n",
    "import dash\n",
    "import dash_core_components as dcc\n",
    "import dash_html_components as html\n",
    "import plotly.graph_objs as go\n",
    "import pandas as pd\n",
    "import pathlib\n",
    "\n",
    "from dash.dependencies import Input, Output, State\n",
    "from scipy import stats\n",
    "\n",
    "group_colors = {\"control\": \"light blue\", \"reference\": \"red\"}\n",
    "\n",
    "app = dash.Dash(\n",
    "    __name__, meta_tags=[{\"name\": \"viewport\", \"content\": \"width=device-width\"}]\n",
    ")\n",
    "server = app.server\n",
    "\n",
    "# App Layout\n",
    "app.layout = html.Div(\n",
    "    children=[\n",
    "        # Error Message\n",
    "        html.Div(id=\"error-message\"),\n",
    "        # Top Banner\n",
    "        html.Div(\n",
    "            className=\"study-browser-banner row\",\n",
    "            children=[\n",
    "                html.H2(className=\"h2-title\", children=\"ANIMAL STUDY BROWSER\"),\n",
    "                html.Div(\n",
    "                    className=\"div-logo\",\n",
    "                    children=html.Img(\n",
    "                        className=\"logo\", src=app.get_asset_url(\"dash-logo-new.png\")\n",
    "                    ),\n",
    "                ),\n",
    "                html.H2(className=\"h2-title-mobile\", children=\"ANIMAL STUDY BROWSER\"),\n",
    "            ],\n",
    "        ),\n",
    "        # Body of the App\n",
    "        html.Div(\n",
    "            className=\"row app-body\",\n",
    "            children=[\n",
    "                # User Controls\n",
    "                html.Div(\n",
    "                    className=\"four columns card\",\n",
    "                    children=[\n",
    "                        html.Div(\n",
    "                            className=\"bg-white user-control\",\n",
    "                            children=[\n",
    "                                html.Div(\n",
    "                                    className=\"padding-top-bot\",\n",
    "                                    children=[\n",
    "                                        html.H6(\"Test Articles\"),\n",
    "                                        dcc.Dropdown(id=\"study-dropdown\"),\n",
    "                                    ],\n",
    "                                ),\n",
    "                                html.Div(\n",
    "                                    className=\"padding-top-bot\",\n",
    "                                    children=[\n",
    "                                        html.H6(\"Choose the type of plot\"),\n",
    "                                        dcc.RadioItems(\n",
    "                                            id=\"chart-type\",\n",
    "                                            options=[\n",
    "                                                {\"label\": \"Box Plot\", \"value\": \"box\"},\n",
    "                                                {\n",
    "                                                    \"label\": \"Violin Plot\",\n",
    "                                                    \"value\": \"violin\",\n",
    "                                                },\n",
    "                                            ],\n",
    "                                            value=\"violin\",\n",
    "                                            labelStyle={\n",
    "                                                \"display\": \"inline-block\",\n",
    "                                                \"padding\": \"12px 12px 12px 0px\",\n",
    "                                            },\n",
    "                                        ),\n",
    "                                    ],\n",
    "                                ),\n",
    "                                html.Div(\n",
    "                                    className=\"padding-top-bot\",\n",
    "                                    children=[\n",
    "                                        html.H6(\"CSV File\"),\n",
    "                                        dcc.Upload(\n",
    "                                            id=\"upload-data\",\n",
    "                                            className=\"upload\",\n",
    "                                            children=html.Div(\n",
    "                                                children=[\n",
    "                                                    html.P(\"Drag and Drop or \"),\n",
    "                                                    html.A(\"Select Files\"),\n",
    "                                                ]\n",
    "                                            ),\n",
    "                                            accept=\".csv\",\n",
    "                                        ),\n",
    "                                    ],\n",
    "                                ),\n",
    "                            ],\n",
    "                        )\n",
    "                    ],\n",
    "                ),\n",
    "                # Graph\n",
    "                html.Div(\n",
    "                    className=\"eight columns card-left\",\n",
    "                    children=[\n",
    "                        html.Div(\n",
    "                            className=\"bg-white\",\n",
    "                            children=[\n",
    "                                html.H5(\"Animal data plot\"),\n",
    "                                dcc.Graph(id=\"plot\"),\n",
    "                            ],\n",
    "                        )\n",
    "                    ],\n",
    "                ),\n",
    "                dcc.Store(id=\"error\", storage_type=\"memory\"),\n",
    "            ],\n",
    "        ),\n",
    "    ]\n",
    ")\n",
    "\n",
    "# Callback to generate error message\n",
    "# Also sets the data to be used\n",
    "# If there is an error use default data else use uploaded data\n",
    "@app.callback(\n",
    "    [\n",
    "        Output(\"error\", \"data\"),\n",
    "        Output(\"error-message\", \"children\"),\n",
    "        Output(\"study-dropdown\", \"options\"),\n",
    "        Output(\"study-dropdown\", \"value\"),\n",
    "    ],\n",
    "    [Input(\"upload-data\", \"contents\")],\n",
    ")\n",
    "def update_error(contents):\n",
    "\n",
    "    error_status = False\n",
    "    error_message = None\n",
    "    study_data = default_study_data\n",
    "\n",
    "    # Check if there is uploaded content\n",
    "    if contents:\n",
    "        content_type, content_string = contents.split(\",\")\n",
    "        decoded = base64.b64decode(content_string)\n",
    "\n",
    "        # Try reading uploaded file\n",
    "        try:\n",
    "            study_data = pd.read_csv(io.StringIO(decoded.decode(\"utf-8\")))\n",
    "\n",
    "            missing_columns = {\n",
    "                \"group_id\",\n",
    "                \"group_type\",\n",
    "                \"reading_value\",\n",
    "                \"study_id\",\n",
    "            }.difference(study_data.columns)\n",
    "\n",
    "            if missing_columns:\n",
    "                error_message = html.Div(\n",
    "                    className=\"alert\",\n",
    "                    children=[\"Missing columns: \" + str(missing_columns)],\n",
    "                )\n",
    "                error_status = True\n",
    "                study_data = default_study_data\n",
    "\n",
    "        # Data is invalid\n",
    "        except Exception as e:\n",
    "            error_message = html.Div(\n",
    "                className=\"alert\",\n",
    "                children=[\"That doesn't seem to be a valid csv file!\"],\n",
    "            )\n",
    "            error_status = True\n",
    "            study_data = default_study_data\n",
    "\n",
    "    # Update Dropdown\n",
    "    options = []\n",
    "    if \"test_article\" in study_data.columns:\n",
    "        test_articles = study_data.test_article.unique()\n",
    "        for test_article in test_articles:\n",
    "            for study in study_data.study_id[\n",
    "                study_data.test_article == test_article\n",
    "            ].unique():\n",
    "                options.append(\n",
    "                    {\"label\": f\"{test_article} (study: {study})\", \"value\": study}\n",
    "                )\n",
    "    else:\n",
    "        for study in study_data.study_id.unique():\n",
    "            options.append({\"label\": study, \"value\": study})\n",
    "\n",
    "    options.sort(key=lambda item: item[\"label\"])\n",
    "    value = options[0][\"value\"] if options else None\n",
    "\n",
    "    return error_status, error_message, options, value\n",
    "\n",
    "\n",
    "# Callback to generate study data\n",
    "@app.callback(\n",
    "    Output(\"plot\", \"figure\"),\n",
    "    [Input(\"chart-type\", \"value\"), Input(\"study-dropdown\", \"value\")],\n",
    "    [State(\"upload-data\", \"contents\"), State(\"error\", \"data\")],\n",
    ")\n",
    "def update_output(chart_type, study, contents, error):\n",
    "    if study is None:\n",
    "        return {}\n",
    "\n",
    "    if error or not contents:\n",
    "        study_data = default_study_data\n",
    "    else:\n",
    "        content_type, content_string = contents.split(\",\")\n",
    "        decoded = base64.b64decode(content_string)\n",
    "        study_data = pd.read_csv(io.StringIO(decoded.decode(\"utf-8\")))\n",
    "\n",
    "    study_data[\"reading_value\"] = pd.to_numeric(\n",
    "        study_data[\"reading_value\"], errors=\"coerce\"\n",
    "    )\n",
    "\n",
    "    study_data = study_data[study_data.study_id == study]\n",
    "    vehicle_readings = study_data[\"reading_value\"][\n",
    "        study_data[\"group_type\"] == \"control\"\n",
    "    ]\n",
    "    data_range = study_data[\"reading_value\"].max() - study_data[\"reading_value\"].min()\n",
    "\n",
    "    test_stats = {}\n",
    "    box_data = []\n",
    "    violin_data = []\n",
    "    for i, group_id in enumerate(study_data.group_id.unique()):\n",
    "        try:\n",
    "            group_name = study_data[\"group_name\"][\n",
    "                study_data.group_id == group_id\n",
    "            ].values[0]\n",
    "        except KeyError:\n",
    "            group_name = group_id\n",
    "\n",
    "        group_type = study_data[\"group_type\"][study_data.group_id == group_id].values[0]\n",
    "        y_data = study_data[\"reading_value\"][study_data.group_id == group_id]\n",
    "\n",
    "        try:\n",
    "            subject_ids = study_data[\"subject_id\"][study_data.group_id == group_id]\n",
    "        except KeyError:\n",
    "            subject_ids = None\n",
    "\n",
    "        t, p = stats.ttest_ind(vehicle_readings, y_data)\n",
    "        test_stats[group_id] = {\n",
    "            \"t\": t,\n",
    "            \"p\": p,\n",
    "            \"pf\": \"p={:0.3f}\".format(p) if p >= 0.001 else \"p<0.001\",\n",
    "            \"astrix\": \"***\"\n",
    "            if p <= 0.001\n",
    "            else \"**\"\n",
    "            if p <= 0.01\n",
    "            else \"*\"\n",
    "            if p <= 0.05\n",
    "            else \"\",\n",
    "            \"max_y\": y_data.max(),\n",
    "            \"index\": i,\n",
    "        }\n",
    "\n",
    "        box_data.append(\n",
    "            go.Box(\n",
    "                y=y_data,\n",
    "                name=group_name,\n",
    "                text=subject_ids,\n",
    "                hoveron=\"points\",\n",
    "                boxmean=True,\n",
    "                showlegend=False,\n",
    "                boxpoints=\"all\",\n",
    "                pointpos=0,\n",
    "                line={\"color\": group_colors.get(group_type, \"green\")},\n",
    "            )\n",
    "        )\n",
    "\n",
    "        violin_data.append(\n",
    "            go.Violin(\n",
    "                y=y_data,\n",
    "                name=group_name,\n",
    "                text=subject_ids,\n",
    "                hoveron=\"points\",\n",
    "                meanline={\"visible\": True},\n",
    "                showlegend=False,\n",
    "                points=\"all\",\n",
    "                pointpos=0,\n",
    "                line={\"color\": group_colors.get(group_type, \"green\")},\n",
    "            )\n",
    "        )\n",
    "\n",
    "    chart_data = {\"box\": box_data, \"violin\": violin_data}\n",
    "\n",
    "    reading_name = (\n",
    "        study_data[\"reading_name\"].unique()[0]\n",
    "        if \"reading_name\" in study_data.columns\n",
    "        else None\n",
    "    )\n",
    "\n",
    "    if not vehicle_readings.empty:\n",
    "        ref_groups = set(\n",
    "            study_data.group_id[study_data.group_type == \"reference\"].unique()\n",
    "        )\n",
    "        control_groups = set(\n",
    "            study_data.group_id[study_data.group_type == \"control\"].unique()\n",
    "        )\n",
    "        all_groups = set(study_data.group_id.unique())\n",
    "        groups_to_annotate = all_groups - ref_groups - control_groups\n",
    "        annotations = [\n",
    "            dict(\n",
    "                x=test_stats.get(group_id, {\"index\": \"None\"})[\"index\"],\n",
    "                y=test_stats[group_id][\"max_y\"]\n",
    "                + data_range / (4 if chart_type == \"violin\" else 10),\n",
    "                text=\"{}<br>{}\".format(\n",
    "                    test_stats[group_id][\"astrix\"], test_stats[group_id][\"pf\"]\n",
    "                ),\n",
    "                showarrow=False,\n",
    "            )\n",
    "            for group_id in groups_to_annotate\n",
    "        ]\n",
    "    else:\n",
    "        annotations = None\n",
    "\n",
    "    figure = go.Figure(\n",
    "        data=chart_data[chart_type],\n",
    "        layout=go.Layout(\n",
    "            margin=go.layout.Margin(t=0, r=50, b=50, l=50),\n",
    "            yaxis=dict(title=dict(text=reading_name)),\n",
    "            annotations=annotations,\n",
    "        ),\n",
    "    )\n",
    "\n",
    "    return figure\n",
    "\n",
    "\n",
    "if __name__ == \"__main__\":\n",
    "    app.run_server(debug=True)"
   ]
  },
  {
   "cell_type": "code",
   "execution_count": 149,
   "metadata": {},
   "outputs": [
    {
     "output_type": "error",
     "ename": "SystemExit",
     "evalue": "1",
     "traceback": [
      "\u001b[1;31m---------------------------------------------------------------------------\u001b[0m",
      "\u001b[1;31mSystemExit\u001b[0m                                Traceback (most recent call last)",
      "\u001b[1;32m<ipython-input-148-839ac2b6ab5d>\u001b[0m in \u001b[0;36m<module>\u001b[1;34m\u001b[0m\n\u001b[0;32m    323\u001b[0m \u001b[1;33m\u001b[0m\u001b[0m\n\u001b[0;32m    324\u001b[0m \u001b[1;32mif\u001b[0m \u001b[0m__name__\u001b[0m \u001b[1;33m==\u001b[0m \u001b[1;34m\"__main__\"\u001b[0m\u001b[1;33m:\u001b[0m\u001b[1;33m\u001b[0m\u001b[1;33m\u001b[0m\u001b[0m\n\u001b[1;32m--> 325\u001b[1;33m     \u001b[0mapp\u001b[0m\u001b[1;33m.\u001b[0m\u001b[0mrun_server\u001b[0m\u001b[1;33m(\u001b[0m\u001b[0mdebug\u001b[0m\u001b[1;33m=\u001b[0m\u001b[1;32mTrue\u001b[0m\u001b[1;33m)\u001b[0m\u001b[1;33m\u001b[0m\u001b[1;33m\u001b[0m\u001b[0m\n\u001b[0m",
      "\u001b[1;32m~\\anaconda3\\lib\\site-packages\\dash\\dash.py\u001b[0m in \u001b[0;36mrun_server\u001b[1;34m(self, host, port, debug, dev_tools_ui, dev_tools_props_check, dev_tools_serve_dev_bundles, dev_tools_hot_reload, dev_tools_hot_reload_interval, dev_tools_hot_reload_watch_interval, dev_tools_hot_reload_max_retry, dev_tools_silence_routes_logging, dev_tools_prune_errors, **flask_run_options)\u001b[0m\n\u001b[0;32m   1971\u001b[0m             \u001b[0mself\u001b[0m\u001b[1;33m.\u001b[0m\u001b[0mlogger\u001b[0m\u001b[1;33m.\u001b[0m\u001b[0minfo\u001b[0m\u001b[1;33m(\u001b[0m\u001b[1;34m\"Debugger PIN: %s\"\u001b[0m\u001b[1;33m,\u001b[0m \u001b[0mdebugger_pin\u001b[0m\u001b[1;33m)\u001b[0m\u001b[1;33m\u001b[0m\u001b[1;33m\u001b[0m\u001b[0m\n\u001b[0;32m   1972\u001b[0m \u001b[1;33m\u001b[0m\u001b[0m\n\u001b[1;32m-> 1973\u001b[1;33m         \u001b[0mself\u001b[0m\u001b[1;33m.\u001b[0m\u001b[0mserver\u001b[0m\u001b[1;33m.\u001b[0m\u001b[0mrun\u001b[0m\u001b[1;33m(\u001b[0m\u001b[0mhost\u001b[0m\u001b[1;33m=\u001b[0m\u001b[0mhost\u001b[0m\u001b[1;33m,\u001b[0m \u001b[0mport\u001b[0m\u001b[1;33m=\u001b[0m\u001b[0mport\u001b[0m\u001b[1;33m,\u001b[0m \u001b[0mdebug\u001b[0m\u001b[1;33m=\u001b[0m\u001b[0mdebug\u001b[0m\u001b[1;33m,\u001b[0m \u001b[1;33m**\u001b[0m\u001b[0mflask_run_options\u001b[0m\u001b[1;33m)\u001b[0m\u001b[1;33m\u001b[0m\u001b[1;33m\u001b[0m\u001b[0m\n\u001b[0m",
      "\u001b[1;32m~\\anaconda3\\lib\\site-packages\\flask\\app.py\u001b[0m in \u001b[0;36mrun\u001b[1;34m(self, host, port, debug, load_dotenv, **options)\u001b[0m\n\u001b[0;32m    988\u001b[0m \u001b[1;33m\u001b[0m\u001b[0m\n\u001b[0;32m    989\u001b[0m         \u001b[1;32mtry\u001b[0m\u001b[1;33m:\u001b[0m\u001b[1;33m\u001b[0m\u001b[1;33m\u001b[0m\u001b[0m\n\u001b[1;32m--> 990\u001b[1;33m             \u001b[0mrun_simple\u001b[0m\u001b[1;33m(\u001b[0m\u001b[0mhost\u001b[0m\u001b[1;33m,\u001b[0m \u001b[0mport\u001b[0m\u001b[1;33m,\u001b[0m \u001b[0mself\u001b[0m\u001b[1;33m,\u001b[0m \u001b[1;33m**\u001b[0m\u001b[0moptions\u001b[0m\u001b[1;33m)\u001b[0m\u001b[1;33m\u001b[0m\u001b[1;33m\u001b[0m\u001b[0m\n\u001b[0m\u001b[0;32m    991\u001b[0m         \u001b[1;32mfinally\u001b[0m\u001b[1;33m:\u001b[0m\u001b[1;33m\u001b[0m\u001b[1;33m\u001b[0m\u001b[0m\n\u001b[0;32m    992\u001b[0m             \u001b[1;31m# reset the first request information if the development server\u001b[0m\u001b[1;33m\u001b[0m\u001b[1;33m\u001b[0m\u001b[1;33m\u001b[0m\u001b[0m\n",
      "\u001b[1;32m~\\anaconda3\\lib\\site-packages\\werkzeug\\serving.py\u001b[0m in \u001b[0;36mrun_simple\u001b[1;34m(hostname, port, application, use_reloader, use_debugger, use_evalex, extra_files, reloader_interval, reloader_type, threaded, processes, request_handler, static_files, passthrough_errors, ssl_context)\u001b[0m\n\u001b[0;32m   1048\u001b[0m         \u001b[1;32mfrom\u001b[0m \u001b[1;33m.\u001b[0m\u001b[0m_reloader\u001b[0m \u001b[1;32mimport\u001b[0m \u001b[0mrun_with_reloader\u001b[0m\u001b[1;33m\u001b[0m\u001b[1;33m\u001b[0m\u001b[0m\n\u001b[0;32m   1049\u001b[0m \u001b[1;33m\u001b[0m\u001b[0m\n\u001b[1;32m-> 1050\u001b[1;33m         \u001b[0mrun_with_reloader\u001b[0m\u001b[1;33m(\u001b[0m\u001b[0minner\u001b[0m\u001b[1;33m,\u001b[0m \u001b[0mextra_files\u001b[0m\u001b[1;33m,\u001b[0m \u001b[0mreloader_interval\u001b[0m\u001b[1;33m,\u001b[0m \u001b[0mreloader_type\u001b[0m\u001b[1;33m)\u001b[0m\u001b[1;33m\u001b[0m\u001b[1;33m\u001b[0m\u001b[0m\n\u001b[0m\u001b[0;32m   1051\u001b[0m     \u001b[1;32melse\u001b[0m\u001b[1;33m:\u001b[0m\u001b[1;33m\u001b[0m\u001b[1;33m\u001b[0m\u001b[0m\n\u001b[0;32m   1052\u001b[0m         \u001b[0minner\u001b[0m\u001b[1;33m(\u001b[0m\u001b[1;33m)\u001b[0m\u001b[1;33m\u001b[0m\u001b[1;33m\u001b[0m\u001b[0m\n",
      "\u001b[1;32m~\\anaconda3\\lib\\site-packages\\werkzeug\\_reloader.py\u001b[0m in \u001b[0;36mrun_with_reloader\u001b[1;34m(main_func, extra_files, interval, reloader_type)\u001b[0m\n\u001b[0;32m    337\u001b[0m             \u001b[0mreloader\u001b[0m\u001b[1;33m.\u001b[0m\u001b[0mrun\u001b[0m\u001b[1;33m(\u001b[0m\u001b[1;33m)\u001b[0m\u001b[1;33m\u001b[0m\u001b[1;33m\u001b[0m\u001b[0m\n\u001b[0;32m    338\u001b[0m         \u001b[1;32melse\u001b[0m\u001b[1;33m:\u001b[0m\u001b[1;33m\u001b[0m\u001b[1;33m\u001b[0m\u001b[0m\n\u001b[1;32m--> 339\u001b[1;33m             \u001b[0msys\u001b[0m\u001b[1;33m.\u001b[0m\u001b[0mexit\u001b[0m\u001b[1;33m(\u001b[0m\u001b[0mreloader\u001b[0m\u001b[1;33m.\u001b[0m\u001b[0mrestart_with_reloader\u001b[0m\u001b[1;33m(\u001b[0m\u001b[1;33m)\u001b[0m\u001b[1;33m)\u001b[0m\u001b[1;33m\u001b[0m\u001b[1;33m\u001b[0m\u001b[0m\n\u001b[0m\u001b[0;32m    340\u001b[0m     \u001b[1;32mexcept\u001b[0m \u001b[0mKeyboardInterrupt\u001b[0m\u001b[1;33m:\u001b[0m\u001b[1;33m\u001b[0m\u001b[1;33m\u001b[0m\u001b[0m\n\u001b[0;32m    341\u001b[0m         \u001b[1;32mpass\u001b[0m\u001b[1;33m\u001b[0m\u001b[1;33m\u001b[0m\u001b[0m\n",
      "\u001b[1;31mSystemExit\u001b[0m: 1"
     ]
    }
   ],
   "source": [
    "%tb"
   ]
  },
  {
   "cell_type": "code",
   "execution_count": null,
   "metadata": {},
   "outputs": [],
   "source": []
  },
  {
   "cell_type": "code",
   "execution_count": null,
   "metadata": {},
   "outputs": [],
   "source": []
  },
  {
   "cell_type": "code",
   "execution_count": null,
   "metadata": {},
   "outputs": [],
   "source": []
  },
  {
   "cell_type": "code",
   "execution_count": null,
   "metadata": {},
   "outputs": [],
   "source": []
  },
  {
   "cell_type": "code",
   "execution_count": 157,
   "metadata": {},
   "outputs": [
    {
     "output_type": "execute_result",
     "data": {
      "text/plain": "Sex     Pclass\nfemale  1         89\n        2         70\n        3         72\nmale    1         45\n        2         17\n        3         47\nName: Survived, dtype: int64"
     },
     "metadata": {},
     "execution_count": 157
    }
   ],
   "source": [
    "train.Survived.groupby([train.Sex, train.Pclass]).sum()"
   ]
  },
  {
   "cell_type": "code",
   "execution_count": null,
   "metadata": {},
   "outputs": [],
   "source": [
    "import pandas as pd\n",
    "import plotly.express as px\n",
    "import plotly.graph_objects as go\n",
    "import matplotlib.pyplot as plt\n",
    "import math\n",
    "import plotly.offline as pyo\n",
    "import dash\n",
    "import dash_core_components as dcc\n",
    "import dash_html_components as html\n",
    "\n",
    "#===========================================================================================================\n",
    "\n",
    "avantage_ = pd.read_csv(\"C:/Users/utilisateur/Desktop/Brief projet/declaration_avantage_2020_02_19_04_00.csv\", sep=\";\")\n",
    "convention_ = pd.read_csv(\"C:/Users/utilisateur/Desktop/Brief projet/declaration_convention_2020_02_19_04_00.csv\", sep=\";\")\n",
    "remuneration_ = pd.read_csv(\"C:/Users/utilisateur/Desktop/Brief projet/declaration_remuneration_2020_02_19_04_00.csv\", sep=\";\")\n",
    "entreprise_ = pd.read_csv(\"C:/Users/utilisateur/Desktop/Brief projet/entreprise_2020_02_19_04_00.csv\", sep=\",\")\n",
    "\n",
    "avantage = avantage_.drop_duplicates()\n",
    "convention = convention_.drop_duplicates()\n",
    "remuneration = remuneration_.drop_duplicates()\n",
    "entreprise = entreprise_.drop_duplicates()\n",
    "\n",
    "#===========================================================================================================\n",
    "\n",
    "secteur_entreprise = entreprise[\"secteur\"].value_counts()\n",
    "\n",
    "labels = [x for x in secteur_entreprise.index]\n",
    "values = [x for x in secteur_entreprise.values]\n",
    "title = \"Nombre d'entreprise par secteurs\"\n",
    "fig1 = px.pie(entreprise, values = values, names = labels, title = title)\n",
    "\n",
    "#=========\n",
    "\n",
    "top10_pays_entreprise = entreprise.pays.value_counts()[entreprise.pays.value_counts()>10]\n",
    "\n",
    "labels = ['France', 'Etranger']\n",
    "values = [x for x in entreprise.pays.value_counts()]\n",
    "val = [values[0], sum(values[1:])]\n",
    "fig2 = px.pie(entreprise, values = val, names = labels, title = \"Répartition des entreprises françaises et étrangères\")\n",
    "\n",
    "#=========\n",
    "\n",
    "benef_avant_categorie = avantage.benef_categorie_code.value_counts()\n",
    "labels = [x for x in benef_avant_categorie.index]\n",
    "values3 = [math.log(x, 10) for x in benef_avant_categorie.values]\n",
    "\n",
    "benef_rem_categorie = remuneration.benef_categorie_code.value_counts()\n",
    "values1 = [math.log(x, 10) for x in benef_rem_categorie.values]\n",
    "\n",
    "benef_conv_categorie = convention.benef_categorie_code.value_counts()\n",
    "values2 = [math.log(x, 10) for x in benef_conv_categorie.values]\n",
    "\n",
    "\n",
    "fig3 = go.Figure(go.Bar(x=labels, y=values1, name='Rémunération'))\n",
    "fig3.add_trace(go.Bar(x=labels, y=values2, name='Convention'))\n",
    "fig3.add_trace(go.Bar(x=labels, y=values3, name='Avantage'))\n",
    "\n",
    "fig3.update_layout(barmode='stack', xaxis={'categoryorder':'total descending'}, title = \"Nombre de bénéficiaires par catégorie\")\n",
    "\n",
    "#=========\n",
    "\n",
    "a = remuneration[[\"categorie\", \"remu_montant_ttc\"]].groupby([\"categorie\"]).sum()#.sort_values(by = \"remu_montant_ttc\", ascending = False)\n",
    "labels = [x for x in a.index]\n",
    "values1 = [int(x) for x in a.values]\n",
    "\n",
    "aa = convention[[\"categorie\", \"conv_montant_ttc\"]].groupby([\"categorie\"]).sum()#.sort_values(by = \"conv_montant_ttc\", ascending = False)\n",
    "values2 = [int(x) for x in aa.values]\n",
    "\n",
    "aaa = avantage[[\"categorie\", \"avant_montant_ttc\"]].groupby([\"categorie\"]).sum()#.sort_values(by = \"avant_montant_ttc\", ascending = False)\n",
    "values3 = [int(x) for x in aaa.values]\n",
    "\n",
    "\n",
    "fig4 = go.Figure(go.Bar(x=labels, y=values1, name='Rémunération'))\n",
    "fig4.add_trace(go.Bar(x=labels, y=values2, name='Convention'))\n",
    "fig4.add_trace(go.Bar(x=labels, y=values3, name='Avantage'))\n",
    "\n",
    "fig4.update_layout(barmode='stack', xaxis={'categoryorder':'total descending'}, title = \"Montant investi par catégorie d'entreprise\")\n",
    "\n",
    "#=========\n",
    "\n",
    "b = remuneration[[\"pays\", \"remu_montant_ttc\"]].groupby([\"pays\"]).mean()#.sort_values(by = \"remu_montant_ttc\", ascending = False)\n",
    "labels = [x for x in b.index]\n",
    "values1 = [int(x) for x in b.values]\n",
    "\n",
    "bb = convention[[\"pays\", \"conv_montant_ttc\"]].groupby([\"pays\"]).mean()#.sort_values(by = \"conv_montant_ttc\", ascending = False)\n",
    "values2 = [float(x) for x in bb.values]\n",
    "\n",
    "bbb = avantage[[\"pays\", \"avant_montant_ttc\"]].groupby([\"pays\"]).mean()#.sort_values(by = \"avant_montant_ttc\", ascending = False)\n",
    "values3 = [int(x) for x in bbb.values]\n",
    "\n",
    "\n",
    "fig5 = go.Figure(go.Bar(x=labels, y=values1, name='Rémunération'))\n",
    "fig5.add_trace(go.Bar(x=labels, y=values2, name='Convention'))\n",
    "fig5.add_trace(go.Bar(x=labels, y=values3, name='Avantage'))\n",
    "\n",
    "fig5.update_layout(barmode='stack', xaxis={'categoryorder':'total descending'}, title = \"Investissement total par pays\")\n",
    "\n",
    "#=========\n",
    "\n",
    "c = remuneration.qualite.value_counts()\n",
    "\n",
    "cc = convention.qualite.value_counts()\n",
    "\n",
    "ccc = avantage.qualite.value_counts()\n",
    "\n",
    "\n",
    "labels = [x for x in c.index]\n",
    "values = [x for x in c.values]\n",
    "for label in labels :\n",
    "    k = labels.index(label)\n",
    "    values[k] += cc[label]\n",
    "    values[k] += ccc[label]\n",
    "    \n",
    "title = \"Nombre de bénéficiaires par qualité\"\n",
    "fig6 = px.bar(convention, x=labels, y=values, title = title)\n",
    "\n",
    "#=========\n",
    "\n",
    "e = remuneration[[\"entreprise_identifiant\", \"remu_montant_ttc\"]].groupby([\"entreprise_identifiant\"]).sum()#.sort_values(by = \"remu_montant_ttc\", ascending = False).head(10)\n",
    "labels = [x for x in e.index]\n",
    "values1 = [int(x) for x in e.values]\n",
    "\n",
    "ee = convention[[\"entreprise_identifiant\", \"conv_montant_ttc\"]].groupby([\"entreprise_identifiant\"]).sum()#.sort_values(by = \"conv_montant_ttc\", ascending = False).head(10)\n",
    "values2 = [int(x) for x in ee.values]\n",
    "\n",
    "eee = avantage[[\"entreprise_identifiant\", \"avant_montant_ttc\"]].groupby([\"entreprise_identifiant\"]).sum()#.sort_values(by = \"avant_montant_ttc\", ascending = False).head(10)\n",
    "values3 = [int(x) for x in eee.values]\n",
    "\n",
    "\n",
    "fig7 = go.Figure(go.Bar(x=labels, y=values1, name='Rémunération'))\n",
    "fig7.add_trace(go.Bar(x=labels, y=values2, name='Convention'))\n",
    "fig7.add_trace(go.Bar(x=labels, y=values3, name='Avantage'))\n",
    "\n",
    "fig7.update_layout(barmode='stack', xaxis={'categoryorder':'total descending'}, title = \"Investissement total par entreprise\")\n",
    "\n",
    "#===========================================================================================================\n",
    "\n",
    "external_stylesheets = ['https://codepen.io/chriddyp/pen/bWLwgP.css']\n",
    "\n",
    "app = dash.Dash(__name__, external_stylesheets=external_stylesheets)\n",
    "\n",
    "app.layout = html.Div(children=[\n",
    "    html.H1(children='Promotion Simplon'),\n",
    "    html.H3(children='École Microsoft Dev Data-IA'),\n",
    "\n",
    "    html.Div(children='''\n",
    "        Nombre d'entreprises par secteur\n",
    "    '''),\n",
    "    dcc.Graph(\n",
    "        id='example-graph',\n",
    "        figure= fig1\n",
    "    ),\n",
    "    dcc.Graph(\n",
    "        id='example-graph',\n",
    "        figure= fig2\n",
    "    ),\n",
    "    dcc.Graph(\n",
    "        id='example-graph',\n",
    "        figure= fig3\n",
    "    ),\n",
    "    dcc.Graph(\n",
    "        id='example-graph',\n",
    "        figure= fig4\n",
    "    ),\n",
    "    dcc.Graph(\n",
    "        id='example-graph',\n",
    "        figure= fig5\n",
    "    ),\n",
    "    dcc.Graph(\n",
    "        id='example-graph',\n",
    "        figure= fig6\n",
    "    ),\n",
    "    dcc.Graph(\n",
    "        id='example-graph',\n",
    "        figure= fig7\n",
    "    )\n",
    "])\n",
    "\n",
    "if __name__ == '__main__':\n",
    "    app.run_server(debug=False)"
   ]
  },
  {
   "cell_type": "code",
   "execution_count": null,
   "metadata": {},
   "outputs": [],
   "source": []
  },
  {
   "cell_type": "code",
   "execution_count": null,
   "metadata": {},
   "outputs": [],
   "source": []
  },
  {
   "cell_type": "code",
   "execution_count": null,
   "metadata": {},
   "outputs": [],
   "source": []
  },
  {
   "cell_type": "markdown",
   "metadata": {},
   "source": [
    "# Correlation"
   ]
  },
  {
   "cell_type": "code",
   "execution_count": 103,
   "metadata": {},
   "outputs": [
    {
     "output_type": "display_data",
     "data": {
      "text/plain": "<Figure size 720x720 with 2 Axes>",
      "image/svg+xml": "<?xml version=\"1.0\" encoding=\"utf-8\" standalone=\"no\"?>\r\n<!DOCTYPE svg PUBLIC \"-//W3C//DTD SVG 1.1//EN\"\r\n  \"http://www.w3.org/Graphics/SVG/1.1/DTD/svg11.dtd\">\r\n<!-- Created with matplotlib (https://matplotlib.org/) -->\r\n<svg height=\"712.277344pt\" version=\"1.1\" viewBox=\"0 0 681.783438 712.277344\" width=\"681.783438pt\" xmlns=\"http://www.w3.org/2000/svg\" xmlns:xlink=\"http://www.w3.org/1999/xlink\">\r\n <defs>\r\n  <style type=\"text/css\">\r\n*{stroke-linecap:butt;stroke-linejoin:round;}\r\n  </style>\r\n </defs>\r\n <g id=\"figure_1\">\r\n  <g id=\"patch_1\">\r\n   <path d=\"M 0 712.277344 \r\nL 681.783438 712.277344 \r\nL 681.783438 0 \r\nL 0 0 \r\nz\r\n\" style=\"fill:none;\"/>\r\n  </g>\r\n  <g id=\"axes_1\">\r\n   <g id=\"patch_2\">\r\n    <path d=\"M 23.878125 688.399219 \r\nL 568.998125 688.399219 \r\nL 568.998125 10.999219 \r\nL 23.878125 10.999219 \r\nz\r\n\" style=\"fill:#ffffff;\"/>\r\n   </g>\r\n   <g id=\"QuadMesh_1\">\r\n    <path clip-path=\"url(#pd6aab6baa0)\" d=\"M 23.878125 10.999219 \r\nL 101.752411 10.999219 \r\nL 101.752411 107.770647 \r\nL 23.878125 107.770647 \r\nL 23.878125 10.999219 \r\n\" style=\"fill:#b40426;\"/>\r\n    <path clip-path=\"url(#pd6aab6baa0)\" d=\"M 101.752411 10.999219 \r\nL 179.626696 10.999219 \r\nL 179.626696 107.770647 \r\nL 101.752411 107.770647 \r\nL 101.752411 10.999219 \r\n\" style=\"fill:#dcdddd;\"/>\r\n    <path clip-path=\"url(#pd6aab6baa0)\" d=\"M 179.626696 10.999219 \r\nL 257.500982 10.999219 \r\nL 257.500982 107.770647 \r\nL 179.626696 107.770647 \r\nL 179.626696 10.999219 \r\n\" style=\"fill:#d8dce2;\"/>\r\n    <path clip-path=\"url(#pd6aab6baa0)\" d=\"M 257.500982 10.999219 \r\nL 335.375268 10.999219 \r\nL 335.375268 107.770647 \r\nL 257.500982 107.770647 \r\nL 257.500982 10.999219 \r\n\" style=\"fill:#e0dbd8;\"/>\r\n    <path clip-path=\"url(#pd6aab6baa0)\" d=\"M 335.375268 10.999219 \r\nL 413.249554 10.999219 \r\nL 413.249554 107.770647 \r\nL 335.375268 107.770647 \r\nL 335.375268 10.999219 \r\n\" style=\"fill:#d5dbe5;\"/>\r\n    <path clip-path=\"url(#pd6aab6baa0)\" d=\"M 413.249554 10.999219 \r\nL 491.123839 10.999219 \r\nL 491.123839 107.770647 \r\nL 413.249554 107.770647 \r\nL 413.249554 10.999219 \r\n\" style=\"fill:#dcdddd;\"/>\r\n    <path clip-path=\"url(#pd6aab6baa0)\" d=\"M 491.123839 10.999219 \r\nL 568.998125 10.999219 \r\nL 568.998125 107.770647 \r\nL 491.123839 107.770647 \r\nL 491.123839 10.999219 \r\n\" style=\"fill:#dedcdb;\"/>\r\n    <path clip-path=\"url(#pd6aab6baa0)\" d=\"M 23.878125 107.770647 \r\nL 101.752411 107.770647 \r\nL 101.752411 204.542076 \r\nL 23.878125 204.542076 \r\nL 23.878125 107.770647 \r\n\" style=\"fill:#dcdddd;\"/>\r\n    <path clip-path=\"url(#pd6aab6baa0)\" d=\"M 101.752411 107.770647 \r\nL 179.626696 107.770647 \r\nL 179.626696 204.542076 \r\nL 101.752411 204.542076 \r\nL 101.752411 107.770647 \r\n\" style=\"fill:#b40426;\"/>\r\n    <path clip-path=\"url(#pd6aab6baa0)\" d=\"M 179.626696 107.770647 \r\nL 257.500982 107.770647 \r\nL 257.500982 204.542076 \r\nL 179.626696 204.542076 \r\nL 179.626696 107.770647 \r\n\" style=\"fill:#aac7fd;\"/>\r\n    <path clip-path=\"url(#pd6aab6baa0)\" d=\"M 257.500982 107.770647 \r\nL 335.375268 107.770647 \r\nL 335.375268 204.542076 \r\nL 257.500982 204.542076 \r\nL 257.500982 107.770647 \r\n\" style=\"fill:#d3dbe7;\"/>\r\n    <path clip-path=\"url(#pd6aab6baa0)\" d=\"M 335.375268 107.770647 \r\nL 413.249554 107.770647 \r\nL 413.249554 204.542076 \r\nL 335.375268 204.542076 \r\nL 335.375268 107.770647 \r\n\" style=\"fill:#d8dce2;\"/>\r\n    <path clip-path=\"url(#pd6aab6baa0)\" d=\"M 413.249554 107.770647 \r\nL 491.123839 107.770647 \r\nL 491.123839 204.542076 \r\nL 413.249554 204.542076 \r\nL 413.249554 107.770647 \r\n\" style=\"fill:#e7d7ce;\"/>\r\n    <path clip-path=\"url(#pd6aab6baa0)\" d=\"M 491.123839 107.770647 \r\nL 568.998125 107.770647 \r\nL 568.998125 204.542076 \r\nL 491.123839 204.542076 \r\nL 491.123839 107.770647 \r\n\" style=\"fill:#f5c4ac;\"/>\r\n    <path clip-path=\"url(#pd6aab6baa0)\" d=\"M 23.878125 204.542076 \r\nL 101.752411 204.542076 \r\nL 101.752411 301.313504 \r\nL 23.878125 301.313504 \r\nL 23.878125 204.542076 \r\n\" style=\"fill:#d8dce2;\"/>\r\n    <path clip-path=\"url(#pd6aab6baa0)\" d=\"M 101.752411 204.542076 \r\nL 179.626696 204.542076 \r\nL 179.626696 301.313504 \r\nL 101.752411 301.313504 \r\nL 101.752411 204.542076 \r\n\" style=\"fill:#aac7fd;\"/>\r\n    <path clip-path=\"url(#pd6aab6baa0)\" d=\"M 179.626696 204.542076 \r\nL 257.500982 204.542076 \r\nL 257.500982 301.313504 \r\nL 179.626696 301.313504 \r\nL 179.626696 204.542076 \r\n\" style=\"fill:#b40426;\"/>\r\n    <path clip-path=\"url(#pd6aab6baa0)\" d=\"M 257.500982 204.542076 \r\nL 335.375268 204.542076 \r\nL 335.375268 301.313504 \r\nL 257.500982 301.313504 \r\nL 257.500982 204.542076 \r\n\" style=\"fill:#abc8fd;\"/>\r\n    <path clip-path=\"url(#pd6aab6baa0)\" d=\"M 335.375268 204.542076 \r\nL 413.249554 204.542076 \r\nL 413.249554 301.313504 \r\nL 335.375268 301.313504 \r\nL 335.375268 204.542076 \r\n\" style=\"fill:#e7d7ce;\"/>\r\n    <path clip-path=\"url(#pd6aab6baa0)\" d=\"M 413.249554 204.542076 \r\nL 491.123839 204.542076 \r\nL 491.123839 301.313504 \r\nL 413.249554 301.313504 \r\nL 413.249554 204.542076 \r\n\" style=\"fill:#dfdbd9;\"/>\r\n    <path clip-path=\"url(#pd6aab6baa0)\" d=\"M 491.123839 204.542076 \r\nL 568.998125 204.542076 \r\nL 568.998125 301.313504 \r\nL 491.123839 301.313504 \r\nL 491.123839 204.542076 \r\n\" style=\"fill:#84a7fc;\"/>\r\n    <path clip-path=\"url(#pd6aab6baa0)\" d=\"M 23.878125 301.313504 \r\nL 101.752411 301.313504 \r\nL 101.752411 398.084933 \r\nL 23.878125 398.084933 \r\nL 23.878125 301.313504 \r\n\" style=\"fill:#e0dbd8;\"/>\r\n    <path clip-path=\"url(#pd6aab6baa0)\" d=\"M 101.752411 301.313504 \r\nL 179.626696 301.313504 \r\nL 179.626696 398.084933 \r\nL 101.752411 398.084933 \r\nL 101.752411 301.313504 \r\n\" style=\"fill:#d3dbe7;\"/>\r\n    <path clip-path=\"url(#pd6aab6baa0)\" d=\"M 179.626696 301.313504 \r\nL 257.500982 301.313504 \r\nL 257.500982 398.084933 \r\nL 179.626696 398.084933 \r\nL 179.626696 301.313504 \r\n\" style=\"fill:#abc8fd;\"/>\r\n    <path clip-path=\"url(#pd6aab6baa0)\" d=\"M 257.500982 301.313504 \r\nL 335.375268 301.313504 \r\nL 335.375268 398.084933 \r\nL 257.500982 398.084933 \r\nL 257.500982 301.313504 \r\n\" style=\"fill:#b40426;\"/>\r\n    <path clip-path=\"url(#pd6aab6baa0)\" d=\"M 335.375268 301.313504 \r\nL 413.249554 301.313504 \r\nL 413.249554 398.084933 \r\nL 335.375268 398.084933 \r\nL 335.375268 301.313504 \r\n\" style=\"fill:#bbd1f8;\"/>\r\n    <path clip-path=\"url(#pd6aab6baa0)\" d=\"M 413.249554 301.313504 \r\nL 491.123839 301.313504 \r\nL 491.123839 398.084933 \r\nL 413.249554 398.084933 \r\nL 413.249554 301.313504 \r\n\" style=\"fill:#c4d5f3;\"/>\r\n    <path clip-path=\"url(#pd6aab6baa0)\" d=\"M 491.123839 301.313504 \r\nL 568.998125 301.313504 \r\nL 568.998125 398.084933 \r\nL 491.123839 398.084933 \r\nL 491.123839 301.313504 \r\n\" style=\"fill:#e8d6cc;\"/>\r\n    <path clip-path=\"url(#pd6aab6baa0)\" d=\"M 23.878125 398.084933 \r\nL 101.752411 398.084933 \r\nL 101.752411 494.856362 \r\nL 23.878125 494.856362 \r\nL 23.878125 398.084933 \r\n\" style=\"fill:#d5dbe5;\"/>\r\n    <path clip-path=\"url(#pd6aab6baa0)\" d=\"M 101.752411 398.084933 \r\nL 179.626696 398.084933 \r\nL 179.626696 494.856362 \r\nL 101.752411 494.856362 \r\nL 101.752411 398.084933 \r\n\" style=\"fill:#d8dce2;\"/>\r\n    <path clip-path=\"url(#pd6aab6baa0)\" d=\"M 179.626696 398.084933 \r\nL 257.500982 398.084933 \r\nL 257.500982 494.856362 \r\nL 179.626696 494.856362 \r\nL 179.626696 398.084933 \r\n\" style=\"fill:#e7d7ce;\"/>\r\n    <path clip-path=\"url(#pd6aab6baa0)\" d=\"M 257.500982 398.084933 \r\nL 335.375268 398.084933 \r\nL 335.375268 494.856362 \r\nL 257.500982 494.856362 \r\nL 257.500982 398.084933 \r\n\" style=\"fill:#bbd1f8;\"/>\r\n    <path clip-path=\"url(#pd6aab6baa0)\" d=\"M 335.375268 398.084933 \r\nL 413.249554 398.084933 \r\nL 413.249554 494.856362 \r\nL 335.375268 494.856362 \r\nL 335.375268 398.084933 \r\n\" style=\"fill:#b40426;\"/>\r\n    <path clip-path=\"url(#pd6aab6baa0)\" d=\"M 413.249554 398.084933 \r\nL 491.123839 398.084933 \r\nL 491.123839 494.856362 \r\nL 413.249554 494.856362 \r\nL 413.249554 398.084933 \r\n\" style=\"fill:#f7a98b;\"/>\r\n    <path clip-path=\"url(#pd6aab6baa0)\" d=\"M 491.123839 398.084933 \r\nL 568.998125 398.084933 \r\nL 568.998125 494.856362 \r\nL 491.123839 494.856362 \r\nL 491.123839 398.084933 \r\n\" style=\"fill:#efcfbf;\"/>\r\n    <path clip-path=\"url(#pd6aab6baa0)\" d=\"M 23.878125 494.856362 \r\nL 101.752411 494.856362 \r\nL 101.752411 591.62779 \r\nL 23.878125 591.62779 \r\nL 23.878125 494.856362 \r\n\" style=\"fill:#dcdddd;\"/>\r\n    <path clip-path=\"url(#pd6aab6baa0)\" d=\"M 101.752411 494.856362 \r\nL 179.626696 494.856362 \r\nL 179.626696 591.62779 \r\nL 101.752411 591.62779 \r\nL 101.752411 494.856362 \r\n\" style=\"fill:#e7d7ce;\"/>\r\n    <path clip-path=\"url(#pd6aab6baa0)\" d=\"M 179.626696 494.856362 \r\nL 257.500982 494.856362 \r\nL 257.500982 591.62779 \r\nL 179.626696 591.62779 \r\nL 179.626696 494.856362 \r\n\" style=\"fill:#dfdbd9;\"/>\r\n    <path clip-path=\"url(#pd6aab6baa0)\" d=\"M 257.500982 494.856362 \r\nL 335.375268 494.856362 \r\nL 335.375268 591.62779 \r\nL 257.500982 591.62779 \r\nL 257.500982 494.856362 \r\n\" style=\"fill:#c4d5f3;\"/>\r\n    <path clip-path=\"url(#pd6aab6baa0)\" d=\"M 335.375268 494.856362 \r\nL 413.249554 494.856362 \r\nL 413.249554 591.62779 \r\nL 335.375268 591.62779 \r\nL 335.375268 494.856362 \r\n\" style=\"fill:#f7a98b;\"/>\r\n    <path clip-path=\"url(#pd6aab6baa0)\" d=\"M 413.249554 494.856362 \r\nL 491.123839 494.856362 \r\nL 491.123839 591.62779 \r\nL 413.249554 591.62779 \r\nL 413.249554 494.856362 \r\n\" style=\"fill:#b40426;\"/>\r\n    <path clip-path=\"url(#pd6aab6baa0)\" d=\"M 491.123839 494.856362 \r\nL 568.998125 494.856362 \r\nL 568.998125 591.62779 \r\nL 491.123839 591.62779 \r\nL 491.123839 494.856362 \r\n\" style=\"fill:#f2c9b4;\"/>\r\n    <path clip-path=\"url(#pd6aab6baa0)\" d=\"M 23.878125 591.62779 \r\nL 101.752411 591.62779 \r\nL 101.752411 688.399219 \r\nL 23.878125 688.399219 \r\nL 23.878125 591.62779 \r\n\" style=\"fill:#dedcdb;\"/>\r\n    <path clip-path=\"url(#pd6aab6baa0)\" d=\"M 101.752411 591.62779 \r\nL 179.626696 591.62779 \r\nL 179.626696 688.399219 \r\nL 101.752411 688.399219 \r\nL 101.752411 591.62779 \r\n\" style=\"fill:#f5c4ac;\"/>\r\n    <path clip-path=\"url(#pd6aab6baa0)\" d=\"M 179.626696 591.62779 \r\nL 257.500982 591.62779 \r\nL 257.500982 688.399219 \r\nL 179.626696 688.399219 \r\nL 179.626696 591.62779 \r\n\" style=\"fill:#84a7fc;\"/>\r\n    <path clip-path=\"url(#pd6aab6baa0)\" d=\"M 257.500982 591.62779 \r\nL 335.375268 591.62779 \r\nL 335.375268 688.399219 \r\nL 257.500982 688.399219 \r\nL 257.500982 591.62779 \r\n\" style=\"fill:#e8d6cc;\"/>\r\n    <path clip-path=\"url(#pd6aab6baa0)\" d=\"M 335.375268 591.62779 \r\nL 413.249554 591.62779 \r\nL 413.249554 688.399219 \r\nL 335.375268 688.399219 \r\nL 335.375268 591.62779 \r\n\" style=\"fill:#efcfbf;\"/>\r\n    <path clip-path=\"url(#pd6aab6baa0)\" d=\"M 413.249554 591.62779 \r\nL 491.123839 591.62779 \r\nL 491.123839 688.399219 \r\nL 413.249554 688.399219 \r\nL 413.249554 591.62779 \r\n\" style=\"fill:#f2c9b4;\"/>\r\n    <path clip-path=\"url(#pd6aab6baa0)\" d=\"M 491.123839 591.62779 \r\nL 568.998125 591.62779 \r\nL 568.998125 688.399219 \r\nL 491.123839 688.399219 \r\nL 491.123839 591.62779 \r\n\" style=\"fill:#b40426;\"/>\r\n   </g>\r\n   <g id=\"matplotlib.axis_1\">\r\n    <g id=\"xtick_1\">\r\n     <g id=\"line2d_1\">\r\n      <defs>\r\n       <path d=\"M 0 0 \r\nL 0 3.5 \r\n\" id=\"m07311961be\" style=\"stroke:#000000;stroke-width:0.8;\"/>\r\n      </defs>\r\n      <g>\r\n       <use style=\"stroke:#000000;stroke-width:0.8;\" x=\"62.815268\" xlink:href=\"#m07311961be\" y=\"688.399219\"/>\r\n      </g>\r\n     </g>\r\n     <g id=\"text_1\">\r\n      <!-- PassengerId -->\r\n      <defs>\r\n       <path d=\"M 19.671875 64.796875 \r\nL 19.671875 37.40625 \r\nL 32.078125 37.40625 \r\nQ 38.96875 37.40625 42.71875 40.96875 \r\nQ 46.484375 44.53125 46.484375 51.125 \r\nQ 46.484375 57.671875 42.71875 61.234375 \r\nQ 38.96875 64.796875 32.078125 64.796875 \r\nz\r\nM 9.8125 72.90625 \r\nL 32.078125 72.90625 \r\nQ 44.34375 72.90625 50.609375 67.359375 \r\nQ 56.890625 61.8125 56.890625 51.125 \r\nQ 56.890625 40.328125 50.609375 34.8125 \r\nQ 44.34375 29.296875 32.078125 29.296875 \r\nL 19.671875 29.296875 \r\nL 19.671875 0 \r\nL 9.8125 0 \r\nz\r\n\" id=\"DejaVuSans-80\"/>\r\n       <path d=\"M 34.28125 27.484375 \r\nQ 23.390625 27.484375 19.1875 25 \r\nQ 14.984375 22.515625 14.984375 16.5 \r\nQ 14.984375 11.71875 18.140625 8.90625 \r\nQ 21.296875 6.109375 26.703125 6.109375 \r\nQ 34.1875 6.109375 38.703125 11.40625 \r\nQ 43.21875 16.703125 43.21875 25.484375 \r\nL 43.21875 27.484375 \r\nz\r\nM 52.203125 31.203125 \r\nL 52.203125 0 \r\nL 43.21875 0 \r\nL 43.21875 8.296875 \r\nQ 40.140625 3.328125 35.546875 0.953125 \r\nQ 30.953125 -1.421875 24.3125 -1.421875 \r\nQ 15.921875 -1.421875 10.953125 3.296875 \r\nQ 6 8.015625 6 15.921875 \r\nQ 6 25.140625 12.171875 29.828125 \r\nQ 18.359375 34.515625 30.609375 34.515625 \r\nL 43.21875 34.515625 \r\nL 43.21875 35.40625 \r\nQ 43.21875 41.609375 39.140625 45 \r\nQ 35.0625 48.390625 27.6875 48.390625 \r\nQ 23 48.390625 18.546875 47.265625 \r\nQ 14.109375 46.140625 10.015625 43.890625 \r\nL 10.015625 52.203125 \r\nQ 14.9375 54.109375 19.578125 55.046875 \r\nQ 24.21875 56 28.609375 56 \r\nQ 40.484375 56 46.34375 49.84375 \r\nQ 52.203125 43.703125 52.203125 31.203125 \r\nz\r\n\" id=\"DejaVuSans-97\"/>\r\n       <path d=\"M 44.28125 53.078125 \r\nL 44.28125 44.578125 \r\nQ 40.484375 46.53125 36.375 47.5 \r\nQ 32.28125 48.484375 27.875 48.484375 \r\nQ 21.1875 48.484375 17.84375 46.4375 \r\nQ 14.5 44.390625 14.5 40.28125 \r\nQ 14.5 37.15625 16.890625 35.375 \r\nQ 19.28125 33.59375 26.515625 31.984375 \r\nL 29.59375 31.296875 \r\nQ 39.15625 29.25 43.1875 25.515625 \r\nQ 47.21875 21.78125 47.21875 15.09375 \r\nQ 47.21875 7.46875 41.1875 3.015625 \r\nQ 35.15625 -1.421875 24.609375 -1.421875 \r\nQ 20.21875 -1.421875 15.453125 -0.5625 \r\nQ 10.6875 0.296875 5.421875 2 \r\nL 5.421875 11.28125 \r\nQ 10.40625 8.6875 15.234375 7.390625 \r\nQ 20.0625 6.109375 24.8125 6.109375 \r\nQ 31.15625 6.109375 34.5625 8.28125 \r\nQ 37.984375 10.453125 37.984375 14.40625 \r\nQ 37.984375 18.0625 35.515625 20.015625 \r\nQ 33.0625 21.96875 24.703125 23.78125 \r\nL 21.578125 24.515625 \r\nQ 13.234375 26.265625 9.515625 29.90625 \r\nQ 5.8125 33.546875 5.8125 39.890625 \r\nQ 5.8125 47.609375 11.28125 51.796875 \r\nQ 16.75 56 26.8125 56 \r\nQ 31.78125 56 36.171875 55.265625 \r\nQ 40.578125 54.546875 44.28125 53.078125 \r\nz\r\n\" id=\"DejaVuSans-115\"/>\r\n       <path d=\"M 56.203125 29.59375 \r\nL 56.203125 25.203125 \r\nL 14.890625 25.203125 \r\nQ 15.484375 15.921875 20.484375 11.0625 \r\nQ 25.484375 6.203125 34.421875 6.203125 \r\nQ 39.59375 6.203125 44.453125 7.46875 \r\nQ 49.3125 8.734375 54.109375 11.28125 \r\nL 54.109375 2.78125 \r\nQ 49.265625 0.734375 44.1875 -0.34375 \r\nQ 39.109375 -1.421875 33.890625 -1.421875 \r\nQ 20.796875 -1.421875 13.15625 6.1875 \r\nQ 5.515625 13.8125 5.515625 26.8125 \r\nQ 5.515625 40.234375 12.765625 48.109375 \r\nQ 20.015625 56 32.328125 56 \r\nQ 43.359375 56 49.78125 48.890625 \r\nQ 56.203125 41.796875 56.203125 29.59375 \r\nz\r\nM 47.21875 32.234375 \r\nQ 47.125 39.59375 43.09375 43.984375 \r\nQ 39.0625 48.390625 32.421875 48.390625 \r\nQ 24.90625 48.390625 20.390625 44.140625 \r\nQ 15.875 39.890625 15.1875 32.171875 \r\nz\r\n\" id=\"DejaVuSans-101\"/>\r\n       <path d=\"M 54.890625 33.015625 \r\nL 54.890625 0 \r\nL 45.90625 0 \r\nL 45.90625 32.71875 \r\nQ 45.90625 40.484375 42.875 44.328125 \r\nQ 39.84375 48.1875 33.796875 48.1875 \r\nQ 26.515625 48.1875 22.3125 43.546875 \r\nQ 18.109375 38.921875 18.109375 30.90625 \r\nL 18.109375 0 \r\nL 9.078125 0 \r\nL 9.078125 54.6875 \r\nL 18.109375 54.6875 \r\nL 18.109375 46.1875 \r\nQ 21.34375 51.125 25.703125 53.5625 \r\nQ 30.078125 56 35.796875 56 \r\nQ 45.21875 56 50.046875 50.171875 \r\nQ 54.890625 44.34375 54.890625 33.015625 \r\nz\r\n\" id=\"DejaVuSans-110\"/>\r\n       <path d=\"M 45.40625 27.984375 \r\nQ 45.40625 37.75 41.375 43.109375 \r\nQ 37.359375 48.484375 30.078125 48.484375 \r\nQ 22.859375 48.484375 18.828125 43.109375 \r\nQ 14.796875 37.75 14.796875 27.984375 \r\nQ 14.796875 18.265625 18.828125 12.890625 \r\nQ 22.859375 7.515625 30.078125 7.515625 \r\nQ 37.359375 7.515625 41.375 12.890625 \r\nQ 45.40625 18.265625 45.40625 27.984375 \r\nz\r\nM 54.390625 6.78125 \r\nQ 54.390625 -7.171875 48.1875 -13.984375 \r\nQ 42 -20.796875 29.203125 -20.796875 \r\nQ 24.46875 -20.796875 20.265625 -20.09375 \r\nQ 16.0625 -19.390625 12.109375 -17.921875 \r\nL 12.109375 -9.1875 \r\nQ 16.0625 -11.328125 19.921875 -12.34375 \r\nQ 23.78125 -13.375 27.78125 -13.375 \r\nQ 36.625 -13.375 41.015625 -8.765625 \r\nQ 45.40625 -4.15625 45.40625 5.171875 \r\nL 45.40625 9.625 \r\nQ 42.625 4.78125 38.28125 2.390625 \r\nQ 33.9375 0 27.875 0 \r\nQ 17.828125 0 11.671875 7.65625 \r\nQ 5.515625 15.328125 5.515625 27.984375 \r\nQ 5.515625 40.671875 11.671875 48.328125 \r\nQ 17.828125 56 27.875 56 \r\nQ 33.9375 56 38.28125 53.609375 \r\nQ 42.625 51.21875 45.40625 46.390625 \r\nL 45.40625 54.6875 \r\nL 54.390625 54.6875 \r\nz\r\n\" id=\"DejaVuSans-103\"/>\r\n       <path d=\"M 41.109375 46.296875 \r\nQ 39.59375 47.171875 37.8125 47.578125 \r\nQ 36.03125 48 33.890625 48 \r\nQ 26.265625 48 22.1875 43.046875 \r\nQ 18.109375 38.09375 18.109375 28.8125 \r\nL 18.109375 0 \r\nL 9.078125 0 \r\nL 9.078125 54.6875 \r\nL 18.109375 54.6875 \r\nL 18.109375 46.1875 \r\nQ 20.953125 51.171875 25.484375 53.578125 \r\nQ 30.03125 56 36.53125 56 \r\nQ 37.453125 56 38.578125 55.875 \r\nQ 39.703125 55.765625 41.0625 55.515625 \r\nz\r\n\" id=\"DejaVuSans-114\"/>\r\n       <path d=\"M 9.8125 72.90625 \r\nL 19.671875 72.90625 \r\nL 19.671875 0 \r\nL 9.8125 0 \r\nz\r\n\" id=\"DejaVuSans-73\"/>\r\n       <path d=\"M 45.40625 46.390625 \r\nL 45.40625 75.984375 \r\nL 54.390625 75.984375 \r\nL 54.390625 0 \r\nL 45.40625 0 \r\nL 45.40625 8.203125 \r\nQ 42.578125 3.328125 38.25 0.953125 \r\nQ 33.9375 -1.421875 27.875 -1.421875 \r\nQ 17.96875 -1.421875 11.734375 6.484375 \r\nQ 5.515625 14.40625 5.515625 27.296875 \r\nQ 5.515625 40.1875 11.734375 48.09375 \r\nQ 17.96875 56 27.875 56 \r\nQ 33.9375 56 38.25 53.625 \r\nQ 42.578125 51.265625 45.40625 46.390625 \r\nz\r\nM 14.796875 27.296875 \r\nQ 14.796875 17.390625 18.875 11.75 \r\nQ 22.953125 6.109375 30.078125 6.109375 \r\nQ 37.203125 6.109375 41.296875 11.75 \r\nQ 45.40625 17.390625 45.40625 27.296875 \r\nQ 45.40625 37.203125 41.296875 42.84375 \r\nQ 37.203125 48.484375 30.078125 48.484375 \r\nQ 22.953125 48.484375 18.875 42.84375 \r\nQ 14.796875 37.203125 14.796875 27.296875 \r\nz\r\n\" id=\"DejaVuSans-100\"/>\r\n      </defs>\r\n      <g transform=\"translate(32.32933 702.997656)scale(0.1 -0.1)\">\r\n       <use xlink:href=\"#DejaVuSans-80\"/>\r\n       <use x=\"60.240234\" xlink:href=\"#DejaVuSans-97\"/>\r\n       <use x=\"121.519531\" xlink:href=\"#DejaVuSans-115\"/>\r\n       <use x=\"173.619141\" xlink:href=\"#DejaVuSans-115\"/>\r\n       <use x=\"225.71875\" xlink:href=\"#DejaVuSans-101\"/>\r\n       <use x=\"287.242188\" xlink:href=\"#DejaVuSans-110\"/>\r\n       <use x=\"350.621094\" xlink:href=\"#DejaVuSans-103\"/>\r\n       <use x=\"414.097656\" xlink:href=\"#DejaVuSans-101\"/>\r\n       <use x=\"475.621094\" xlink:href=\"#DejaVuSans-114\"/>\r\n       <use x=\"516.734375\" xlink:href=\"#DejaVuSans-73\"/>\r\n       <use x=\"546.226562\" xlink:href=\"#DejaVuSans-100\"/>\r\n      </g>\r\n     </g>\r\n    </g>\r\n    <g id=\"xtick_2\">\r\n     <g id=\"line2d_2\">\r\n      <g>\r\n       <use style=\"stroke:#000000;stroke-width:0.8;\" x=\"140.689554\" xlink:href=\"#m07311961be\" y=\"688.399219\"/>\r\n      </g>\r\n     </g>\r\n     <g id=\"text_2\">\r\n      <!-- Survived -->\r\n      <defs>\r\n       <path d=\"M 53.515625 70.515625 \r\nL 53.515625 60.890625 \r\nQ 47.90625 63.578125 42.921875 64.890625 \r\nQ 37.9375 66.21875 33.296875 66.21875 \r\nQ 25.25 66.21875 20.875 63.09375 \r\nQ 16.5 59.96875 16.5 54.203125 \r\nQ 16.5 49.359375 19.40625 46.890625 \r\nQ 22.3125 44.4375 30.421875 42.921875 \r\nL 36.375 41.703125 \r\nQ 47.40625 39.59375 52.65625 34.296875 \r\nQ 57.90625 29 57.90625 20.125 \r\nQ 57.90625 9.515625 50.796875 4.046875 \r\nQ 43.703125 -1.421875 29.984375 -1.421875 \r\nQ 24.8125 -1.421875 18.96875 -0.25 \r\nQ 13.140625 0.921875 6.890625 3.21875 \r\nL 6.890625 13.375 \r\nQ 12.890625 10.015625 18.65625 8.296875 \r\nQ 24.421875 6.59375 29.984375 6.59375 \r\nQ 38.421875 6.59375 43.015625 9.90625 \r\nQ 47.609375 13.234375 47.609375 19.390625 \r\nQ 47.609375 24.75 44.3125 27.78125 \r\nQ 41.015625 30.8125 33.5 32.328125 \r\nL 27.484375 33.5 \r\nQ 16.453125 35.6875 11.515625 40.375 \r\nQ 6.59375 45.0625 6.59375 53.421875 \r\nQ 6.59375 63.09375 13.40625 68.65625 \r\nQ 20.21875 74.21875 32.171875 74.21875 \r\nQ 37.3125 74.21875 42.625 73.28125 \r\nQ 47.953125 72.359375 53.515625 70.515625 \r\nz\r\n\" id=\"DejaVuSans-83\"/>\r\n       <path d=\"M 8.5 21.578125 \r\nL 8.5 54.6875 \r\nL 17.484375 54.6875 \r\nL 17.484375 21.921875 \r\nQ 17.484375 14.15625 20.5 10.265625 \r\nQ 23.53125 6.390625 29.59375 6.390625 \r\nQ 36.859375 6.390625 41.078125 11.03125 \r\nQ 45.3125 15.671875 45.3125 23.6875 \r\nL 45.3125 54.6875 \r\nL 54.296875 54.6875 \r\nL 54.296875 0 \r\nL 45.3125 0 \r\nL 45.3125 8.40625 \r\nQ 42.046875 3.421875 37.71875 1 \r\nQ 33.40625 -1.421875 27.6875 -1.421875 \r\nQ 18.265625 -1.421875 13.375 4.4375 \r\nQ 8.5 10.296875 8.5 21.578125 \r\nz\r\nM 31.109375 56 \r\nz\r\n\" id=\"DejaVuSans-117\"/>\r\n       <path d=\"M 2.984375 54.6875 \r\nL 12.5 54.6875 \r\nL 29.59375 8.796875 \r\nL 46.6875 54.6875 \r\nL 56.203125 54.6875 \r\nL 35.6875 0 \r\nL 23.484375 0 \r\nz\r\n\" id=\"DejaVuSans-118\"/>\r\n       <path d=\"M 9.421875 54.6875 \r\nL 18.40625 54.6875 \r\nL 18.40625 0 \r\nL 9.421875 0 \r\nz\r\nM 9.421875 75.984375 \r\nL 18.40625 75.984375 \r\nL 18.40625 64.59375 \r\nL 9.421875 64.59375 \r\nz\r\n\" id=\"DejaVuSans-105\"/>\r\n      </defs>\r\n      <g transform=\"translate(118.732522 702.997656)scale(0.1 -0.1)\">\r\n       <use xlink:href=\"#DejaVuSans-83\"/>\r\n       <use x=\"63.476562\" xlink:href=\"#DejaVuSans-117\"/>\r\n       <use x=\"126.855469\" xlink:href=\"#DejaVuSans-114\"/>\r\n       <use x=\"167.96875\" xlink:href=\"#DejaVuSans-118\"/>\r\n       <use x=\"227.148438\" xlink:href=\"#DejaVuSans-105\"/>\r\n       <use x=\"254.931641\" xlink:href=\"#DejaVuSans-118\"/>\r\n       <use x=\"314.111328\" xlink:href=\"#DejaVuSans-101\"/>\r\n       <use x=\"375.634766\" xlink:href=\"#DejaVuSans-100\"/>\r\n      </g>\r\n     </g>\r\n    </g>\r\n    <g id=\"xtick_3\">\r\n     <g id=\"line2d_3\">\r\n      <g>\r\n       <use style=\"stroke:#000000;stroke-width:0.8;\" x=\"218.563839\" xlink:href=\"#m07311961be\" y=\"688.399219\"/>\r\n      </g>\r\n     </g>\r\n     <g id=\"text_3\">\r\n      <!-- Pclass -->\r\n      <defs>\r\n       <path d=\"M 48.78125 52.59375 \r\nL 48.78125 44.1875 \r\nQ 44.96875 46.296875 41.140625 47.34375 \r\nQ 37.3125 48.390625 33.40625 48.390625 \r\nQ 24.65625 48.390625 19.8125 42.84375 \r\nQ 14.984375 37.3125 14.984375 27.296875 \r\nQ 14.984375 17.28125 19.8125 11.734375 \r\nQ 24.65625 6.203125 33.40625 6.203125 \r\nQ 37.3125 6.203125 41.140625 7.25 \r\nQ 44.96875 8.296875 48.78125 10.40625 \r\nL 48.78125 2.09375 \r\nQ 45.015625 0.34375 40.984375 -0.53125 \r\nQ 36.96875 -1.421875 32.421875 -1.421875 \r\nQ 20.0625 -1.421875 12.78125 6.34375 \r\nQ 5.515625 14.109375 5.515625 27.296875 \r\nQ 5.515625 40.671875 12.859375 48.328125 \r\nQ 20.21875 56 33.015625 56 \r\nQ 37.15625 56 41.109375 55.140625 \r\nQ 45.0625 54.296875 48.78125 52.59375 \r\nz\r\n\" id=\"DejaVuSans-99\"/>\r\n       <path d=\"M 9.421875 75.984375 \r\nL 18.40625 75.984375 \r\nL 18.40625 0 \r\nL 9.421875 0 \r\nz\r\n\" id=\"DejaVuSans-108\"/>\r\n      </defs>\r\n      <g transform=\"translate(203.137277 702.997656)scale(0.1 -0.1)\">\r\n       <use xlink:href=\"#DejaVuSans-80\"/>\r\n       <use x=\"60.302734\" xlink:href=\"#DejaVuSans-99\"/>\r\n       <use x=\"115.283203\" xlink:href=\"#DejaVuSans-108\"/>\r\n       <use x=\"143.066406\" xlink:href=\"#DejaVuSans-97\"/>\r\n       <use x=\"204.345703\" xlink:href=\"#DejaVuSans-115\"/>\r\n       <use x=\"256.445312\" xlink:href=\"#DejaVuSans-115\"/>\r\n      </g>\r\n     </g>\r\n    </g>\r\n    <g id=\"xtick_4\">\r\n     <g id=\"line2d_4\">\r\n      <g>\r\n       <use style=\"stroke:#000000;stroke-width:0.8;\" x=\"296.438125\" xlink:href=\"#m07311961be\" y=\"688.399219\"/>\r\n      </g>\r\n     </g>\r\n     <g id=\"text_4\">\r\n      <!-- Age -->\r\n      <defs>\r\n       <path d=\"M 34.1875 63.1875 \r\nL 20.796875 26.90625 \r\nL 47.609375 26.90625 \r\nz\r\nM 28.609375 72.90625 \r\nL 39.796875 72.90625 \r\nL 67.578125 0 \r\nL 57.328125 0 \r\nL 50.6875 18.703125 \r\nL 17.828125 18.703125 \r\nL 11.1875 0 \r\nL 0.78125 0 \r\nz\r\n\" id=\"DejaVuSans-65\"/>\r\n      </defs>\r\n      <g transform=\"translate(286.767031 702.997656)scale(0.1 -0.1)\">\r\n       <use xlink:href=\"#DejaVuSans-65\"/>\r\n       <use x=\"68.408203\" xlink:href=\"#DejaVuSans-103\"/>\r\n       <use x=\"131.884766\" xlink:href=\"#DejaVuSans-101\"/>\r\n      </g>\r\n     </g>\r\n    </g>\r\n    <g id=\"xtick_5\">\r\n     <g id=\"line2d_5\">\r\n      <g>\r\n       <use style=\"stroke:#000000;stroke-width:0.8;\" x=\"374.312411\" xlink:href=\"#m07311961be\" y=\"688.399219\"/>\r\n      </g>\r\n     </g>\r\n     <g id=\"text_5\">\r\n      <!-- SibSp -->\r\n      <defs>\r\n       <path d=\"M 48.6875 27.296875 \r\nQ 48.6875 37.203125 44.609375 42.84375 \r\nQ 40.53125 48.484375 33.40625 48.484375 \r\nQ 26.265625 48.484375 22.1875 42.84375 \r\nQ 18.109375 37.203125 18.109375 27.296875 \r\nQ 18.109375 17.390625 22.1875 11.75 \r\nQ 26.265625 6.109375 33.40625 6.109375 \r\nQ 40.53125 6.109375 44.609375 11.75 \r\nQ 48.6875 17.390625 48.6875 27.296875 \r\nz\r\nM 18.109375 46.390625 \r\nQ 20.953125 51.265625 25.265625 53.625 \r\nQ 29.59375 56 35.59375 56 \r\nQ 45.5625 56 51.78125 48.09375 \r\nQ 58.015625 40.1875 58.015625 27.296875 \r\nQ 58.015625 14.40625 51.78125 6.484375 \r\nQ 45.5625 -1.421875 35.59375 -1.421875 \r\nQ 29.59375 -1.421875 25.265625 0.953125 \r\nQ 20.953125 3.328125 18.109375 8.203125 \r\nL 18.109375 0 \r\nL 9.078125 0 \r\nL 9.078125 75.984375 \r\nL 18.109375 75.984375 \r\nz\r\n\" id=\"DejaVuSans-98\"/>\r\n       <path d=\"M 18.109375 8.203125 \r\nL 18.109375 -20.796875 \r\nL 9.078125 -20.796875 \r\nL 9.078125 54.6875 \r\nL 18.109375 54.6875 \r\nL 18.109375 46.390625 \r\nQ 20.953125 51.265625 25.265625 53.625 \r\nQ 29.59375 56 35.59375 56 \r\nQ 45.5625 56 51.78125 48.09375 \r\nQ 58.015625 40.1875 58.015625 27.296875 \r\nQ 58.015625 14.40625 51.78125 6.484375 \r\nQ 45.5625 -1.421875 35.59375 -1.421875 \r\nQ 29.59375 -1.421875 25.265625 0.953125 \r\nQ 20.953125 3.328125 18.109375 8.203125 \r\nz\r\nM 48.6875 27.296875 \r\nQ 48.6875 37.203125 44.609375 42.84375 \r\nQ 40.53125 48.484375 33.40625 48.484375 \r\nQ 26.265625 48.484375 22.1875 42.84375 \r\nQ 18.109375 37.203125 18.109375 27.296875 \r\nQ 18.109375 17.390625 22.1875 11.75 \r\nQ 26.265625 6.109375 33.40625 6.109375 \r\nQ 40.53125 6.109375 44.609375 11.75 \r\nQ 48.6875 17.390625 48.6875 27.296875 \r\nz\r\n\" id=\"DejaVuSans-112\"/>\r\n      </defs>\r\n      <g transform=\"translate(360.226473 702.997656)scale(0.1 -0.1)\">\r\n       <use xlink:href=\"#DejaVuSans-83\"/>\r\n       <use x=\"63.476562\" xlink:href=\"#DejaVuSans-105\"/>\r\n       <use x=\"91.259766\" xlink:href=\"#DejaVuSans-98\"/>\r\n       <use x=\"154.736328\" xlink:href=\"#DejaVuSans-83\"/>\r\n       <use x=\"218.212891\" xlink:href=\"#DejaVuSans-112\"/>\r\n      </g>\r\n     </g>\r\n    </g>\r\n    <g id=\"xtick_6\">\r\n     <g id=\"line2d_6\">\r\n      <g>\r\n       <use style=\"stroke:#000000;stroke-width:0.8;\" x=\"452.186696\" xlink:href=\"#m07311961be\" y=\"688.399219\"/>\r\n      </g>\r\n     </g>\r\n     <g id=\"text_6\">\r\n      <!-- Parch -->\r\n      <defs>\r\n       <path d=\"M 54.890625 33.015625 \r\nL 54.890625 0 \r\nL 45.90625 0 \r\nL 45.90625 32.71875 \r\nQ 45.90625 40.484375 42.875 44.328125 \r\nQ 39.84375 48.1875 33.796875 48.1875 \r\nQ 26.515625 48.1875 22.3125 43.546875 \r\nQ 18.109375 38.921875 18.109375 30.90625 \r\nL 18.109375 0 \r\nL 9.078125 0 \r\nL 9.078125 75.984375 \r\nL 18.109375 75.984375 \r\nL 18.109375 46.1875 \r\nQ 21.34375 51.125 25.703125 53.5625 \r\nQ 30.078125 56 35.796875 56 \r\nQ 45.21875 56 50.046875 50.171875 \r\nQ 54.890625 44.34375 54.890625 33.015625 \r\nz\r\n\" id=\"DejaVuSans-104\"/>\r\n      </defs>\r\n      <g transform=\"translate(438.13904 702.997656)scale(0.1 -0.1)\">\r\n       <use xlink:href=\"#DejaVuSans-80\"/>\r\n       <use x=\"60.240234\" xlink:href=\"#DejaVuSans-97\"/>\r\n       <use x=\"121.519531\" xlink:href=\"#DejaVuSans-114\"/>\r\n       <use x=\"162.601562\" xlink:href=\"#DejaVuSans-99\"/>\r\n       <use x=\"217.582031\" xlink:href=\"#DejaVuSans-104\"/>\r\n      </g>\r\n     </g>\r\n    </g>\r\n    <g id=\"xtick_7\">\r\n     <g id=\"line2d_7\">\r\n      <g>\r\n       <use style=\"stroke:#000000;stroke-width:0.8;\" x=\"530.060982\" xlink:href=\"#m07311961be\" y=\"688.399219\"/>\r\n      </g>\r\n     </g>\r\n     <g id=\"text_7\">\r\n      <!-- Fare -->\r\n      <defs>\r\n       <path d=\"M 9.8125 72.90625 \r\nL 51.703125 72.90625 \r\nL 51.703125 64.59375 \r\nL 19.671875 64.59375 \r\nL 19.671875 43.109375 \r\nL 48.578125 43.109375 \r\nL 48.578125 34.8125 \r\nL 19.671875 34.8125 \r\nL 19.671875 0 \r\nL 9.8125 0 \r\nz\r\n\" id=\"DejaVuSans-70\"/>\r\n      </defs>\r\n      <g transform=\"translate(518.997701 702.997656)scale(0.1 -0.1)\">\r\n       <use xlink:href=\"#DejaVuSans-70\"/>\r\n       <use x=\"57.378906\" xlink:href=\"#DejaVuSans-97\"/>\r\n       <use x=\"118.658203\" xlink:href=\"#DejaVuSans-114\"/>\r\n       <use x=\"159.740234\" xlink:href=\"#DejaVuSans-101\"/>\r\n      </g>\r\n     </g>\r\n    </g>\r\n   </g>\r\n   <g id=\"matplotlib.axis_2\">\r\n    <g id=\"ytick_1\">\r\n     <g id=\"line2d_8\">\r\n      <defs>\r\n       <path d=\"M 0 0 \r\nL -3.5 0 \r\n\" id=\"m8752e5c14a\" style=\"stroke:#000000;stroke-width:0.8;\"/>\r\n      </defs>\r\n      <g>\r\n       <use style=\"stroke:#000000;stroke-width:0.8;\" x=\"23.878125\" xlink:href=\"#m8752e5c14a\" y=\"59.384933\"/>\r\n      </g>\r\n     </g>\r\n     <g id=\"text_8\">\r\n      <!-- PassengerId -->\r\n      <g transform=\"translate(14.798438 116.557589)rotate(-90)scale(0.1 -0.1)\">\r\n       <use xlink:href=\"#DejaVuSans-80\"/>\r\n       <use x=\"60.240234\" xlink:href=\"#DejaVuSans-97\"/>\r\n       <use x=\"121.519531\" xlink:href=\"#DejaVuSans-115\"/>\r\n       <use x=\"173.619141\" xlink:href=\"#DejaVuSans-115\"/>\r\n       <use x=\"225.71875\" xlink:href=\"#DejaVuSans-101\"/>\r\n       <use x=\"287.242188\" xlink:href=\"#DejaVuSans-110\"/>\r\n       <use x=\"350.621094\" xlink:href=\"#DejaVuSans-103\"/>\r\n       <use x=\"414.097656\" xlink:href=\"#DejaVuSans-101\"/>\r\n       <use x=\"475.621094\" xlink:href=\"#DejaVuSans-114\"/>\r\n       <use x=\"516.734375\" xlink:href=\"#DejaVuSans-73\"/>\r\n       <use x=\"546.226562\" xlink:href=\"#DejaVuSans-100\"/>\r\n      </g>\r\n     </g>\r\n    </g>\r\n    <g id=\"ytick_2\">\r\n     <g id=\"line2d_9\">\r\n      <g>\r\n       <use style=\"stroke:#000000;stroke-width:0.8;\" x=\"23.878125\" xlink:href=\"#m8752e5c14a\" y=\"156.156362\"/>\r\n      </g>\r\n     </g>\r\n     <g id=\"text_9\">\r\n      <!-- Survived -->\r\n      <g transform=\"translate(14.798438 196.271205)rotate(-90)scale(0.1 -0.1)\">\r\n       <use xlink:href=\"#DejaVuSans-83\"/>\r\n       <use x=\"63.476562\" xlink:href=\"#DejaVuSans-117\"/>\r\n       <use x=\"126.855469\" xlink:href=\"#DejaVuSans-114\"/>\r\n       <use x=\"167.96875\" xlink:href=\"#DejaVuSans-118\"/>\r\n       <use x=\"227.148438\" xlink:href=\"#DejaVuSans-105\"/>\r\n       <use x=\"254.931641\" xlink:href=\"#DejaVuSans-118\"/>\r\n       <use x=\"314.111328\" xlink:href=\"#DejaVuSans-101\"/>\r\n       <use x=\"375.634766\" xlink:href=\"#DejaVuSans-100\"/>\r\n      </g>\r\n     </g>\r\n    </g>\r\n    <g id=\"ytick_3\">\r\n     <g id=\"line2d_10\">\r\n      <g>\r\n       <use style=\"stroke:#000000;stroke-width:0.8;\" x=\"23.878125\" xlink:href=\"#m8752e5c14a\" y=\"252.92779\"/>\r\n      </g>\r\n     </g>\r\n     <g id=\"text_10\">\r\n      <!-- Pclass -->\r\n      <g transform=\"translate(14.798438 279.981696)rotate(-90)scale(0.1 -0.1)\">\r\n       <use xlink:href=\"#DejaVuSans-80\"/>\r\n       <use x=\"60.302734\" xlink:href=\"#DejaVuSans-99\"/>\r\n       <use x=\"115.283203\" xlink:href=\"#DejaVuSans-108\"/>\r\n       <use x=\"143.066406\" xlink:href=\"#DejaVuSans-97\"/>\r\n       <use x=\"204.345703\" xlink:href=\"#DejaVuSans-115\"/>\r\n       <use x=\"256.445312\" xlink:href=\"#DejaVuSans-115\"/>\r\n      </g>\r\n     </g>\r\n    </g>\r\n    <g id=\"ytick_4\">\r\n     <g id=\"line2d_11\">\r\n      <g>\r\n       <use style=\"stroke:#000000;stroke-width:0.8;\" x=\"23.878125\" xlink:href=\"#m8752e5c14a\" y=\"349.699219\"/>\r\n      </g>\r\n     </g>\r\n     <g id=\"text_11\">\r\n      <!-- Age -->\r\n      <g transform=\"translate(14.798438 365.242187)rotate(-90)scale(0.1 -0.1)\">\r\n       <use xlink:href=\"#DejaVuSans-65\"/>\r\n       <use x=\"68.408203\" xlink:href=\"#DejaVuSans-103\"/>\r\n       <use x=\"131.884766\" xlink:href=\"#DejaVuSans-101\"/>\r\n      </g>\r\n     </g>\r\n    </g>\r\n    <g id=\"ytick_5\">\r\n     <g id=\"line2d_12\">\r\n      <g>\r\n       <use style=\"stroke:#000000;stroke-width:0.8;\" x=\"23.878125\" xlink:href=\"#m8752e5c14a\" y=\"446.470647\"/>\r\n      </g>\r\n     </g>\r\n     <g id=\"text_12\">\r\n      <!-- SibSp -->\r\n      <g transform=\"translate(14.798438 470.843304)rotate(-90)scale(0.1 -0.1)\">\r\n       <use xlink:href=\"#DejaVuSans-83\"/>\r\n       <use x=\"63.476562\" xlink:href=\"#DejaVuSans-105\"/>\r\n       <use x=\"91.259766\" xlink:href=\"#DejaVuSans-98\"/>\r\n       <use x=\"154.736328\" xlink:href=\"#DejaVuSans-83\"/>\r\n       <use x=\"218.212891\" xlink:href=\"#DejaVuSans-112\"/>\r\n      </g>\r\n     </g>\r\n    </g>\r\n    <g id=\"ytick_6\">\r\n     <g id=\"line2d_13\">\r\n      <g>\r\n       <use style=\"stroke:#000000;stroke-width:0.8;\" x=\"23.878125\" xlink:href=\"#m8752e5c14a\" y=\"543.242076\"/>\r\n      </g>\r\n     </g>\r\n     <g id=\"text_13\">\r\n      <!-- Parch -->\r\n      <g transform=\"translate(14.798438 567.53817)rotate(-90)scale(0.1 -0.1)\">\r\n       <use xlink:href=\"#DejaVuSans-80\"/>\r\n       <use x=\"60.240234\" xlink:href=\"#DejaVuSans-97\"/>\r\n       <use x=\"121.519531\" xlink:href=\"#DejaVuSans-114\"/>\r\n       <use x=\"162.601562\" xlink:href=\"#DejaVuSans-99\"/>\r\n       <use x=\"217.582031\" xlink:href=\"#DejaVuSans-104\"/>\r\n      </g>\r\n     </g>\r\n    </g>\r\n    <g id=\"ytick_7\">\r\n     <g id=\"line2d_14\">\r\n      <g>\r\n       <use style=\"stroke:#000000;stroke-width:0.8;\" x=\"23.878125\" xlink:href=\"#m8752e5c14a\" y=\"640.013504\"/>\r\n      </g>\r\n     </g>\r\n     <g id=\"text_14\">\r\n      <!-- Fare -->\r\n      <g transform=\"translate(14.798438 658.340848)rotate(-90)scale(0.1 -0.1)\">\r\n       <use xlink:href=\"#DejaVuSans-70\"/>\r\n       <use x=\"57.378906\" xlink:href=\"#DejaVuSans-97\"/>\r\n       <use x=\"118.658203\" xlink:href=\"#DejaVuSans-114\"/>\r\n       <use x=\"159.740234\" xlink:href=\"#DejaVuSans-101\"/>\r\n      </g>\r\n     </g>\r\n    </g>\r\n   </g>\r\n   <g id=\"text_15\">\r\n    <!-- 1 -->\r\n    <defs>\r\n     <path d=\"M 12.40625 8.296875 \r\nL 28.515625 8.296875 \r\nL 28.515625 63.921875 \r\nL 10.984375 60.40625 \r\nL 10.984375 69.390625 \r\nL 28.421875 72.90625 \r\nL 38.28125 72.90625 \r\nL 38.28125 8.296875 \r\nL 54.390625 8.296875 \r\nL 54.390625 0 \r\nL 12.40625 0 \r\nz\r\n\" id=\"DejaVuSans-49\"/>\r\n    </defs>\r\n    <g style=\"fill:#ffffff;\" transform=\"translate(59.634018 62.144308)scale(0.1 -0.1)\">\r\n     <use xlink:href=\"#DejaVuSans-49\"/>\r\n    </g>\r\n   </g>\r\n   <g id=\"text_16\">\r\n    <!-- -0.005 -->\r\n    <defs>\r\n     <path d=\"M 4.890625 31.390625 \r\nL 31.203125 31.390625 \r\nL 31.203125 23.390625 \r\nL 4.890625 23.390625 \r\nz\r\n\" id=\"DejaVuSans-45\"/>\r\n     <path d=\"M 31.78125 66.40625 \r\nQ 24.171875 66.40625 20.328125 58.90625 \r\nQ 16.5 51.421875 16.5 36.375 \r\nQ 16.5 21.390625 20.328125 13.890625 \r\nQ 24.171875 6.390625 31.78125 6.390625 \r\nQ 39.453125 6.390625 43.28125 13.890625 \r\nQ 47.125 21.390625 47.125 36.375 \r\nQ 47.125 51.421875 43.28125 58.90625 \r\nQ 39.453125 66.40625 31.78125 66.40625 \r\nz\r\nM 31.78125 74.21875 \r\nQ 44.046875 74.21875 50.515625 64.515625 \r\nQ 56.984375 54.828125 56.984375 36.375 \r\nQ 56.984375 17.96875 50.515625 8.265625 \r\nQ 44.046875 -1.421875 31.78125 -1.421875 \r\nQ 19.53125 -1.421875 13.0625 8.265625 \r\nQ 6.59375 17.96875 6.59375 36.375 \r\nQ 6.59375 54.828125 13.0625 64.515625 \r\nQ 19.53125 74.21875 31.78125 74.21875 \r\nz\r\n\" id=\"DejaVuSans-48\"/>\r\n     <path d=\"M 10.6875 12.40625 \r\nL 21 12.40625 \r\nL 21 0 \r\nL 10.6875 0 \r\nz\r\n\" id=\"DejaVuSans-46\"/>\r\n     <path d=\"M 10.796875 72.90625 \r\nL 49.515625 72.90625 \r\nL 49.515625 64.59375 \r\nL 19.828125 64.59375 \r\nL 19.828125 46.734375 \r\nQ 21.96875 47.46875 24.109375 47.828125 \r\nQ 26.265625 48.1875 28.421875 48.1875 \r\nQ 40.625 48.1875 47.75 41.5 \r\nQ 54.890625 34.8125 54.890625 23.390625 \r\nQ 54.890625 11.625 47.5625 5.09375 \r\nQ 40.234375 -1.421875 26.90625 -1.421875 \r\nQ 22.3125 -1.421875 17.546875 -0.640625 \r\nQ 12.796875 0.140625 7.71875 1.703125 \r\nL 7.71875 11.625 \r\nQ 12.109375 9.234375 16.796875 8.0625 \r\nQ 21.484375 6.890625 26.703125 6.890625 \r\nQ 35.15625 6.890625 40.078125 11.328125 \r\nQ 45.015625 15.765625 45.015625 23.390625 \r\nQ 45.015625 31 40.078125 35.4375 \r\nQ 35.15625 39.890625 26.703125 39.890625 \r\nQ 22.75 39.890625 18.8125 39.015625 \r\nQ 14.890625 38.140625 10.796875 36.28125 \r\nz\r\n\" id=\"DejaVuSans-53\"/>\r\n    </defs>\r\n    <g style=\"fill:#262626;\" transform=\"translate(124.571585 62.144308)scale(0.1 -0.1)\">\r\n     <use xlink:href=\"#DejaVuSans-45\"/>\r\n     <use x=\"36.083984\" xlink:href=\"#DejaVuSans-48\"/>\r\n     <use x=\"99.707031\" xlink:href=\"#DejaVuSans-46\"/>\r\n     <use x=\"131.494141\" xlink:href=\"#DejaVuSans-48\"/>\r\n     <use x=\"195.117188\" xlink:href=\"#DejaVuSans-48\"/>\r\n     <use x=\"258.740234\" xlink:href=\"#DejaVuSans-53\"/>\r\n    </g>\r\n   </g>\r\n   <g id=\"text_17\">\r\n    <!-- -0.035 -->\r\n    <defs>\r\n     <path d=\"M 40.578125 39.3125 \r\nQ 47.65625 37.796875 51.625 33 \r\nQ 55.609375 28.21875 55.609375 21.1875 \r\nQ 55.609375 10.40625 48.1875 4.484375 \r\nQ 40.765625 -1.421875 27.09375 -1.421875 \r\nQ 22.515625 -1.421875 17.65625 -0.515625 \r\nQ 12.796875 0.390625 7.625 2.203125 \r\nL 7.625 11.71875 \r\nQ 11.71875 9.328125 16.59375 8.109375 \r\nQ 21.484375 6.890625 26.8125 6.890625 \r\nQ 36.078125 6.890625 40.9375 10.546875 \r\nQ 45.796875 14.203125 45.796875 21.1875 \r\nQ 45.796875 27.640625 41.28125 31.265625 \r\nQ 36.765625 34.90625 28.71875 34.90625 \r\nL 20.21875 34.90625 \r\nL 20.21875 43.015625 \r\nL 29.109375 43.015625 \r\nQ 36.375 43.015625 40.234375 45.921875 \r\nQ 44.09375 48.828125 44.09375 54.296875 \r\nQ 44.09375 59.90625 40.109375 62.90625 \r\nQ 36.140625 65.921875 28.71875 65.921875 \r\nQ 24.65625 65.921875 20.015625 65.03125 \r\nQ 15.375 64.15625 9.8125 62.3125 \r\nL 9.8125 71.09375 \r\nQ 15.4375 72.65625 20.34375 73.4375 \r\nQ 25.25 74.21875 29.59375 74.21875 \r\nQ 40.828125 74.21875 47.359375 69.109375 \r\nQ 53.90625 64.015625 53.90625 55.328125 \r\nQ 53.90625 49.265625 50.4375 45.09375 \r\nQ 46.96875 40.921875 40.578125 39.3125 \r\nz\r\n\" id=\"DejaVuSans-51\"/>\r\n    </defs>\r\n    <g style=\"fill:#262626;\" transform=\"translate(202.445871 62.144308)scale(0.1 -0.1)\">\r\n     <use xlink:href=\"#DejaVuSans-45\"/>\r\n     <use x=\"36.083984\" xlink:href=\"#DejaVuSans-48\"/>\r\n     <use x=\"99.707031\" xlink:href=\"#DejaVuSans-46\"/>\r\n     <use x=\"131.494141\" xlink:href=\"#DejaVuSans-48\"/>\r\n     <use x=\"195.117188\" xlink:href=\"#DejaVuSans-51\"/>\r\n     <use x=\"258.740234\" xlink:href=\"#DejaVuSans-53\"/>\r\n    </g>\r\n   </g>\r\n   <g id=\"text_18\">\r\n    <!-- 0.03 -->\r\n    <g style=\"fill:#262626;\" transform=\"translate(285.305312 62.144308)scale(0.1 -0.1)\">\r\n     <use xlink:href=\"#DejaVuSans-48\"/>\r\n     <use x=\"63.623047\" xlink:href=\"#DejaVuSans-46\"/>\r\n     <use x=\"95.410156\" xlink:href=\"#DejaVuSans-48\"/>\r\n     <use x=\"159.033203\" xlink:href=\"#DejaVuSans-51\"/>\r\n    </g>\r\n   </g>\r\n   <g id=\"text_19\">\r\n    <!-- -0.058 -->\r\n    <defs>\r\n     <path d=\"M 31.78125 34.625 \r\nQ 24.75 34.625 20.71875 30.859375 \r\nQ 16.703125 27.09375 16.703125 20.515625 \r\nQ 16.703125 13.921875 20.71875 10.15625 \r\nQ 24.75 6.390625 31.78125 6.390625 \r\nQ 38.8125 6.390625 42.859375 10.171875 \r\nQ 46.921875 13.96875 46.921875 20.515625 \r\nQ 46.921875 27.09375 42.890625 30.859375 \r\nQ 38.875 34.625 31.78125 34.625 \r\nz\r\nM 21.921875 38.8125 \r\nQ 15.578125 40.375 12.03125 44.71875 \r\nQ 8.5 49.078125 8.5 55.328125 \r\nQ 8.5 64.0625 14.71875 69.140625 \r\nQ 20.953125 74.21875 31.78125 74.21875 \r\nQ 42.671875 74.21875 48.875 69.140625 \r\nQ 55.078125 64.0625 55.078125 55.328125 \r\nQ 55.078125 49.078125 51.53125 44.71875 \r\nQ 48 40.375 41.703125 38.8125 \r\nQ 48.828125 37.15625 52.796875 32.3125 \r\nQ 56.78125 27.484375 56.78125 20.515625 \r\nQ 56.78125 9.90625 50.3125 4.234375 \r\nQ 43.84375 -1.421875 31.78125 -1.421875 \r\nQ 19.734375 -1.421875 13.25 4.234375 \r\nQ 6.78125 9.90625 6.78125 20.515625 \r\nQ 6.78125 27.484375 10.78125 32.3125 \r\nQ 14.796875 37.15625 21.921875 38.8125 \r\nz\r\nM 18.3125 54.390625 \r\nQ 18.3125 48.734375 21.84375 45.5625 \r\nQ 25.390625 42.390625 31.78125 42.390625 \r\nQ 38.140625 42.390625 41.71875 45.5625 \r\nQ 45.3125 48.734375 45.3125 54.390625 \r\nQ 45.3125 60.0625 41.71875 63.234375 \r\nQ 38.140625 66.40625 31.78125 66.40625 \r\nQ 25.390625 66.40625 21.84375 63.234375 \r\nQ 18.3125 60.0625 18.3125 54.390625 \r\nz\r\n\" id=\"DejaVuSans-56\"/>\r\n    </defs>\r\n    <g style=\"fill:#262626;\" transform=\"translate(358.194442 62.144308)scale(0.1 -0.1)\">\r\n     <use xlink:href=\"#DejaVuSans-45\"/>\r\n     <use x=\"36.083984\" xlink:href=\"#DejaVuSans-48\"/>\r\n     <use x=\"99.707031\" xlink:href=\"#DejaVuSans-46\"/>\r\n     <use x=\"131.494141\" xlink:href=\"#DejaVuSans-48\"/>\r\n     <use x=\"195.117188\" xlink:href=\"#DejaVuSans-53\"/>\r\n     <use x=\"258.740234\" xlink:href=\"#DejaVuSans-56\"/>\r\n    </g>\r\n   </g>\r\n   <g id=\"text_20\">\r\n    <!-- -0.0017 -->\r\n    <defs>\r\n     <path d=\"M 8.203125 72.90625 \r\nL 55.078125 72.90625 \r\nL 55.078125 68.703125 \r\nL 28.609375 0 \r\nL 18.3125 0 \r\nL 43.21875 64.59375 \r\nL 8.203125 64.59375 \r\nz\r\n\" id=\"DejaVuSans-55\"/>\r\n    </defs>\r\n    <g style=\"fill:#262626;\" transform=\"translate(432.887478 62.144308)scale(0.1 -0.1)\">\r\n     <use xlink:href=\"#DejaVuSans-45\"/>\r\n     <use x=\"36.083984\" xlink:href=\"#DejaVuSans-48\"/>\r\n     <use x=\"99.707031\" xlink:href=\"#DejaVuSans-46\"/>\r\n     <use x=\"131.494141\" xlink:href=\"#DejaVuSans-48\"/>\r\n     <use x=\"195.117188\" xlink:href=\"#DejaVuSans-48\"/>\r\n     <use x=\"258.740234\" xlink:href=\"#DejaVuSans-49\"/>\r\n     <use x=\"322.363281\" xlink:href=\"#DejaVuSans-55\"/>\r\n    </g>\r\n   </g>\r\n   <g id=\"text_21\">\r\n    <!-- 0.013 -->\r\n    <g style=\"fill:#262626;\" transform=\"translate(515.74692 62.144308)scale(0.1 -0.1)\">\r\n     <use xlink:href=\"#DejaVuSans-48\"/>\r\n     <use x=\"63.623047\" xlink:href=\"#DejaVuSans-46\"/>\r\n     <use x=\"95.410156\" xlink:href=\"#DejaVuSans-48\"/>\r\n     <use x=\"159.033203\" xlink:href=\"#DejaVuSans-49\"/>\r\n     <use x=\"222.65625\" xlink:href=\"#DejaVuSans-51\"/>\r\n    </g>\r\n   </g>\r\n   <g id=\"text_22\">\r\n    <!-- -0.005 -->\r\n    <g style=\"fill:#262626;\" transform=\"translate(46.697299 158.915737)scale(0.1 -0.1)\">\r\n     <use xlink:href=\"#DejaVuSans-45\"/>\r\n     <use x=\"36.083984\" xlink:href=\"#DejaVuSans-48\"/>\r\n     <use x=\"99.707031\" xlink:href=\"#DejaVuSans-46\"/>\r\n     <use x=\"131.494141\" xlink:href=\"#DejaVuSans-48\"/>\r\n     <use x=\"195.117188\" xlink:href=\"#DejaVuSans-48\"/>\r\n     <use x=\"258.740234\" xlink:href=\"#DejaVuSans-53\"/>\r\n    </g>\r\n   </g>\r\n   <g id=\"text_23\">\r\n    <!-- 1 -->\r\n    <g style=\"fill:#ffffff;\" transform=\"translate(137.508304 158.915737)scale(0.1 -0.1)\">\r\n     <use xlink:href=\"#DejaVuSans-49\"/>\r\n    </g>\r\n   </g>\r\n   <g id=\"text_24\">\r\n    <!-- -0.34 -->\r\n    <defs>\r\n     <path d=\"M 37.796875 64.3125 \r\nL 12.890625 25.390625 \r\nL 37.796875 25.390625 \r\nz\r\nM 35.203125 72.90625 \r\nL 47.609375 72.90625 \r\nL 47.609375 25.390625 \r\nL 58.015625 25.390625 \r\nL 58.015625 17.1875 \r\nL 47.609375 17.1875 \r\nL 47.609375 0 \r\nL 37.796875 0 \r\nL 37.796875 17.1875 \r\nL 4.890625 17.1875 \r\nL 4.890625 26.703125 \r\nz\r\n\" id=\"DejaVuSans-52\"/>\r\n    </defs>\r\n    <g style=\"fill:#262626;\" transform=\"translate(205.627121 158.915737)scale(0.1 -0.1)\">\r\n     <use xlink:href=\"#DejaVuSans-45\"/>\r\n     <use x=\"36.083984\" xlink:href=\"#DejaVuSans-48\"/>\r\n     <use x=\"99.707031\" xlink:href=\"#DejaVuSans-46\"/>\r\n     <use x=\"131.494141\" xlink:href=\"#DejaVuSans-51\"/>\r\n     <use x=\"195.117188\" xlink:href=\"#DejaVuSans-52\"/>\r\n    </g>\r\n   </g>\r\n   <g id=\"text_25\">\r\n    <!-- -0.075 -->\r\n    <g style=\"fill:#262626;\" transform=\"translate(280.320156 158.915737)scale(0.1 -0.1)\">\r\n     <use xlink:href=\"#DejaVuSans-45\"/>\r\n     <use x=\"36.083984\" xlink:href=\"#DejaVuSans-48\"/>\r\n     <use x=\"99.707031\" xlink:href=\"#DejaVuSans-46\"/>\r\n     <use x=\"131.494141\" xlink:href=\"#DejaVuSans-48\"/>\r\n     <use x=\"195.117188\" xlink:href=\"#DejaVuSans-55\"/>\r\n     <use x=\"258.740234\" xlink:href=\"#DejaVuSans-53\"/>\r\n    </g>\r\n   </g>\r\n   <g id=\"text_26\">\r\n    <!-- -0.034 -->\r\n    <g style=\"fill:#262626;\" transform=\"translate(358.194442 158.915737)scale(0.1 -0.1)\">\r\n     <use xlink:href=\"#DejaVuSans-45\"/>\r\n     <use x=\"36.083984\" xlink:href=\"#DejaVuSans-48\"/>\r\n     <use x=\"99.707031\" xlink:href=\"#DejaVuSans-46\"/>\r\n     <use x=\"131.494141\" xlink:href=\"#DejaVuSans-48\"/>\r\n     <use x=\"195.117188\" xlink:href=\"#DejaVuSans-51\"/>\r\n     <use x=\"258.740234\" xlink:href=\"#DejaVuSans-52\"/>\r\n    </g>\r\n   </g>\r\n   <g id=\"text_27\">\r\n    <!-- 0.083 -->\r\n    <g style=\"fill:#262626;\" transform=\"translate(437.872634 158.915737)scale(0.1 -0.1)\">\r\n     <use xlink:href=\"#DejaVuSans-48\"/>\r\n     <use x=\"63.623047\" xlink:href=\"#DejaVuSans-46\"/>\r\n     <use x=\"95.410156\" xlink:href=\"#DejaVuSans-48\"/>\r\n     <use x=\"159.033203\" xlink:href=\"#DejaVuSans-56\"/>\r\n     <use x=\"222.65625\" xlink:href=\"#DejaVuSans-51\"/>\r\n    </g>\r\n   </g>\r\n   <g id=\"text_28\">\r\n    <!-- 0.26 -->\r\n    <defs>\r\n     <path d=\"M 19.1875 8.296875 \r\nL 53.609375 8.296875 \r\nL 53.609375 0 \r\nL 7.328125 0 \r\nL 7.328125 8.296875 \r\nQ 12.9375 14.109375 22.625 23.890625 \r\nQ 32.328125 33.6875 34.8125 36.53125 \r\nQ 39.546875 41.84375 41.421875 45.53125 \r\nQ 43.3125 49.21875 43.3125 52.78125 \r\nQ 43.3125 58.59375 39.234375 62.25 \r\nQ 35.15625 65.921875 28.609375 65.921875 \r\nQ 23.96875 65.921875 18.8125 64.3125 \r\nQ 13.671875 62.703125 7.8125 59.421875 \r\nL 7.8125 69.390625 \r\nQ 13.765625 71.78125 18.9375 73 \r\nQ 24.125 74.21875 28.421875 74.21875 \r\nQ 39.75 74.21875 46.484375 68.546875 \r\nQ 53.21875 62.890625 53.21875 53.421875 \r\nQ 53.21875 48.921875 51.53125 44.890625 \r\nQ 49.859375 40.875 45.40625 35.40625 \r\nQ 44.1875 33.984375 37.640625 27.21875 \r\nQ 31.109375 20.453125 19.1875 8.296875 \r\nz\r\n\" id=\"DejaVuSans-50\"/>\r\n     <path d=\"M 33.015625 40.375 \r\nQ 26.375 40.375 22.484375 35.828125 \r\nQ 18.609375 31.296875 18.609375 23.390625 \r\nQ 18.609375 15.53125 22.484375 10.953125 \r\nQ 26.375 6.390625 33.015625 6.390625 \r\nQ 39.65625 6.390625 43.53125 10.953125 \r\nQ 47.40625 15.53125 47.40625 23.390625 \r\nQ 47.40625 31.296875 43.53125 35.828125 \r\nQ 39.65625 40.375 33.015625 40.375 \r\nz\r\nM 52.59375 71.296875 \r\nL 52.59375 62.3125 \r\nQ 48.875 64.0625 45.09375 64.984375 \r\nQ 41.3125 65.921875 37.59375 65.921875 \r\nQ 27.828125 65.921875 22.671875 59.328125 \r\nQ 17.53125 52.734375 16.796875 39.40625 \r\nQ 19.671875 43.65625 24.015625 45.921875 \r\nQ 28.375 48.1875 33.59375 48.1875 \r\nQ 44.578125 48.1875 50.953125 41.515625 \r\nQ 57.328125 34.859375 57.328125 23.390625 \r\nQ 57.328125 12.15625 50.6875 5.359375 \r\nQ 44.046875 -1.421875 33.015625 -1.421875 \r\nQ 20.359375 -1.421875 13.671875 8.265625 \r\nQ 6.984375 17.96875 6.984375 36.375 \r\nQ 6.984375 53.65625 15.1875 63.9375 \r\nQ 23.390625 74.21875 37.203125 74.21875 \r\nQ 40.921875 74.21875 44.703125 73.484375 \r\nQ 48.484375 72.75 52.59375 71.296875 \r\nz\r\n\" id=\"DejaVuSans-54\"/>\r\n    </defs>\r\n    <g style=\"fill:#262626;\" transform=\"translate(518.92817 158.915737)scale(0.1 -0.1)\">\r\n     <use xlink:href=\"#DejaVuSans-48\"/>\r\n     <use x=\"63.623047\" xlink:href=\"#DejaVuSans-46\"/>\r\n     <use x=\"95.410156\" xlink:href=\"#DejaVuSans-50\"/>\r\n     <use x=\"159.033203\" xlink:href=\"#DejaVuSans-54\"/>\r\n    </g>\r\n   </g>\r\n   <g id=\"text_29\">\r\n    <!-- -0.035 -->\r\n    <g style=\"fill:#262626;\" transform=\"translate(46.697299 255.687165)scale(0.1 -0.1)\">\r\n     <use xlink:href=\"#DejaVuSans-45\"/>\r\n     <use x=\"36.083984\" xlink:href=\"#DejaVuSans-48\"/>\r\n     <use x=\"99.707031\" xlink:href=\"#DejaVuSans-46\"/>\r\n     <use x=\"131.494141\" xlink:href=\"#DejaVuSans-48\"/>\r\n     <use x=\"195.117188\" xlink:href=\"#DejaVuSans-51\"/>\r\n     <use x=\"258.740234\" xlink:href=\"#DejaVuSans-53\"/>\r\n    </g>\r\n   </g>\r\n   <g id=\"text_30\">\r\n    <!-- -0.34 -->\r\n    <g style=\"fill:#262626;\" transform=\"translate(127.752835 255.687165)scale(0.1 -0.1)\">\r\n     <use xlink:href=\"#DejaVuSans-45\"/>\r\n     <use x=\"36.083984\" xlink:href=\"#DejaVuSans-48\"/>\r\n     <use x=\"99.707031\" xlink:href=\"#DejaVuSans-46\"/>\r\n     <use x=\"131.494141\" xlink:href=\"#DejaVuSans-51\"/>\r\n     <use x=\"195.117188\" xlink:href=\"#DejaVuSans-52\"/>\r\n    </g>\r\n   </g>\r\n   <g id=\"text_31\">\r\n    <!-- 1 -->\r\n    <g style=\"fill:#ffffff;\" transform=\"translate(215.382589 255.687165)scale(0.1 -0.1)\">\r\n     <use xlink:href=\"#DejaVuSans-49\"/>\r\n    </g>\r\n   </g>\r\n   <g id=\"text_32\">\r\n    <!-- -0.33 -->\r\n    <g style=\"fill:#262626;\" transform=\"translate(283.501406 255.687165)scale(0.1 -0.1)\">\r\n     <use xlink:href=\"#DejaVuSans-45\"/>\r\n     <use x=\"36.083984\" xlink:href=\"#DejaVuSans-48\"/>\r\n     <use x=\"99.707031\" xlink:href=\"#DejaVuSans-46\"/>\r\n     <use x=\"131.494141\" xlink:href=\"#DejaVuSans-51\"/>\r\n     <use x=\"195.117188\" xlink:href=\"#DejaVuSans-51\"/>\r\n    </g>\r\n   </g>\r\n   <g id=\"text_33\">\r\n    <!-- 0.082 -->\r\n    <g style=\"fill:#262626;\" transform=\"translate(359.998348 255.687165)scale(0.1 -0.1)\">\r\n     <use xlink:href=\"#DejaVuSans-48\"/>\r\n     <use x=\"63.623047\" xlink:href=\"#DejaVuSans-46\"/>\r\n     <use x=\"95.410156\" xlink:href=\"#DejaVuSans-48\"/>\r\n     <use x=\"159.033203\" xlink:href=\"#DejaVuSans-56\"/>\r\n     <use x=\"222.65625\" xlink:href=\"#DejaVuSans-50\"/>\r\n    </g>\r\n   </g>\r\n   <g id=\"text_34\">\r\n    <!-- 0.017 -->\r\n    <g style=\"fill:#262626;\" transform=\"translate(437.872634 255.687165)scale(0.1 -0.1)\">\r\n     <use xlink:href=\"#DejaVuSans-48\"/>\r\n     <use x=\"63.623047\" xlink:href=\"#DejaVuSans-46\"/>\r\n     <use x=\"95.410156\" xlink:href=\"#DejaVuSans-48\"/>\r\n     <use x=\"159.033203\" xlink:href=\"#DejaVuSans-49\"/>\r\n     <use x=\"222.65625\" xlink:href=\"#DejaVuSans-55\"/>\r\n    </g>\r\n   </g>\r\n   <g id=\"text_35\">\r\n    <!-- -0.55 -->\r\n    <g style=\"fill:#ffffff;\" transform=\"translate(517.124263 255.687165)scale(0.1 -0.1)\">\r\n     <use xlink:href=\"#DejaVuSans-45\"/>\r\n     <use x=\"36.083984\" xlink:href=\"#DejaVuSans-48\"/>\r\n     <use x=\"99.707031\" xlink:href=\"#DejaVuSans-46\"/>\r\n     <use x=\"131.494141\" xlink:href=\"#DejaVuSans-53\"/>\r\n     <use x=\"195.117188\" xlink:href=\"#DejaVuSans-53\"/>\r\n    </g>\r\n   </g>\r\n   <g id=\"text_36\">\r\n    <!-- 0.03 -->\r\n    <g style=\"fill:#262626;\" transform=\"translate(51.682455 352.458594)scale(0.1 -0.1)\">\r\n     <use xlink:href=\"#DejaVuSans-48\"/>\r\n     <use x=\"63.623047\" xlink:href=\"#DejaVuSans-46\"/>\r\n     <use x=\"95.410156\" xlink:href=\"#DejaVuSans-48\"/>\r\n     <use x=\"159.033203\" xlink:href=\"#DejaVuSans-51\"/>\r\n    </g>\r\n   </g>\r\n   <g id=\"text_37\">\r\n    <!-- -0.075 -->\r\n    <g style=\"fill:#262626;\" transform=\"translate(124.571585 352.458594)scale(0.1 -0.1)\">\r\n     <use xlink:href=\"#DejaVuSans-45\"/>\r\n     <use x=\"36.083984\" xlink:href=\"#DejaVuSans-48\"/>\r\n     <use x=\"99.707031\" xlink:href=\"#DejaVuSans-46\"/>\r\n     <use x=\"131.494141\" xlink:href=\"#DejaVuSans-48\"/>\r\n     <use x=\"195.117188\" xlink:href=\"#DejaVuSans-55\"/>\r\n     <use x=\"258.740234\" xlink:href=\"#DejaVuSans-53\"/>\r\n    </g>\r\n   </g>\r\n   <g id=\"text_38\">\r\n    <!-- -0.33 -->\r\n    <g style=\"fill:#262626;\" transform=\"translate(205.627121 352.458594)scale(0.1 -0.1)\">\r\n     <use xlink:href=\"#DejaVuSans-45\"/>\r\n     <use x=\"36.083984\" xlink:href=\"#DejaVuSans-48\"/>\r\n     <use x=\"99.707031\" xlink:href=\"#DejaVuSans-46\"/>\r\n     <use x=\"131.494141\" xlink:href=\"#DejaVuSans-51\"/>\r\n     <use x=\"195.117188\" xlink:href=\"#DejaVuSans-51\"/>\r\n    </g>\r\n   </g>\r\n   <g id=\"text_39\">\r\n    <!-- 1 -->\r\n    <g style=\"fill:#ffffff;\" transform=\"translate(293.256875 352.458594)scale(0.1 -0.1)\">\r\n     <use xlink:href=\"#DejaVuSans-49\"/>\r\n    </g>\r\n   </g>\r\n   <g id=\"text_40\">\r\n    <!-- -0.23 -->\r\n    <g style=\"fill:#262626;\" transform=\"translate(361.375692 352.458594)scale(0.1 -0.1)\">\r\n     <use xlink:href=\"#DejaVuSans-45\"/>\r\n     <use x=\"36.083984\" xlink:href=\"#DejaVuSans-48\"/>\r\n     <use x=\"99.707031\" xlink:href=\"#DejaVuSans-46\"/>\r\n     <use x=\"131.494141\" xlink:href=\"#DejaVuSans-50\"/>\r\n     <use x=\"195.117188\" xlink:href=\"#DejaVuSans-51\"/>\r\n    </g>\r\n   </g>\r\n   <g id=\"text_41\">\r\n    <!-- -0.18 -->\r\n    <g style=\"fill:#262626;\" transform=\"translate(439.249978 352.458594)scale(0.1 -0.1)\">\r\n     <use xlink:href=\"#DejaVuSans-45\"/>\r\n     <use x=\"36.083984\" xlink:href=\"#DejaVuSans-48\"/>\r\n     <use x=\"99.707031\" xlink:href=\"#DejaVuSans-46\"/>\r\n     <use x=\"131.494141\" xlink:href=\"#DejaVuSans-49\"/>\r\n     <use x=\"195.117188\" xlink:href=\"#DejaVuSans-56\"/>\r\n    </g>\r\n   </g>\r\n   <g id=\"text_42\">\r\n    <!-- 0.089 -->\r\n    <defs>\r\n     <path d=\"M 10.984375 1.515625 \r\nL 10.984375 10.5 \r\nQ 14.703125 8.734375 18.5 7.8125 \r\nQ 22.3125 6.890625 25.984375 6.890625 \r\nQ 35.75 6.890625 40.890625 13.453125 \r\nQ 46.046875 20.015625 46.78125 33.40625 \r\nQ 43.953125 29.203125 39.59375 26.953125 \r\nQ 35.25 24.703125 29.984375 24.703125 \r\nQ 19.046875 24.703125 12.671875 31.3125 \r\nQ 6.296875 37.9375 6.296875 49.421875 \r\nQ 6.296875 60.640625 12.9375 67.421875 \r\nQ 19.578125 74.21875 30.609375 74.21875 \r\nQ 43.265625 74.21875 49.921875 64.515625 \r\nQ 56.59375 54.828125 56.59375 36.375 \r\nQ 56.59375 19.140625 48.40625 8.859375 \r\nQ 40.234375 -1.421875 26.421875 -1.421875 \r\nQ 22.703125 -1.421875 18.890625 -0.6875 \r\nQ 15.09375 0.046875 10.984375 1.515625 \r\nz\r\nM 30.609375 32.421875 \r\nQ 37.25 32.421875 41.125 36.953125 \r\nQ 45.015625 41.5 45.015625 49.421875 \r\nQ 45.015625 57.28125 41.125 61.84375 \r\nQ 37.25 66.40625 30.609375 66.40625 \r\nQ 23.96875 66.40625 20.09375 61.84375 \r\nQ 16.21875 57.28125 16.21875 49.421875 \r\nQ 16.21875 41.5 20.09375 36.953125 \r\nQ 23.96875 32.421875 30.609375 32.421875 \r\nz\r\n\" id=\"DejaVuSans-57\"/>\r\n    </defs>\r\n    <g style=\"fill:#262626;\" transform=\"translate(515.74692 352.458594)scale(0.1 -0.1)\">\r\n     <use xlink:href=\"#DejaVuSans-48\"/>\r\n     <use x=\"63.623047\" xlink:href=\"#DejaVuSans-46\"/>\r\n     <use x=\"95.410156\" xlink:href=\"#DejaVuSans-48\"/>\r\n     <use x=\"159.033203\" xlink:href=\"#DejaVuSans-56\"/>\r\n     <use x=\"222.65625\" xlink:href=\"#DejaVuSans-57\"/>\r\n    </g>\r\n   </g>\r\n   <g id=\"text_43\">\r\n    <!-- -0.058 -->\r\n    <g style=\"fill:#262626;\" transform=\"translate(46.697299 449.230022)scale(0.1 -0.1)\">\r\n     <use xlink:href=\"#DejaVuSans-45\"/>\r\n     <use x=\"36.083984\" xlink:href=\"#DejaVuSans-48\"/>\r\n     <use x=\"99.707031\" xlink:href=\"#DejaVuSans-46\"/>\r\n     <use x=\"131.494141\" xlink:href=\"#DejaVuSans-48\"/>\r\n     <use x=\"195.117188\" xlink:href=\"#DejaVuSans-53\"/>\r\n     <use x=\"258.740234\" xlink:href=\"#DejaVuSans-56\"/>\r\n    </g>\r\n   </g>\r\n   <g id=\"text_44\">\r\n    <!-- -0.034 -->\r\n    <g style=\"fill:#262626;\" transform=\"translate(124.571585 449.230022)scale(0.1 -0.1)\">\r\n     <use xlink:href=\"#DejaVuSans-45\"/>\r\n     <use x=\"36.083984\" xlink:href=\"#DejaVuSans-48\"/>\r\n     <use x=\"99.707031\" xlink:href=\"#DejaVuSans-46\"/>\r\n     <use x=\"131.494141\" xlink:href=\"#DejaVuSans-48\"/>\r\n     <use x=\"195.117188\" xlink:href=\"#DejaVuSans-51\"/>\r\n     <use x=\"258.740234\" xlink:href=\"#DejaVuSans-52\"/>\r\n    </g>\r\n   </g>\r\n   <g id=\"text_45\">\r\n    <!-- 0.082 -->\r\n    <g style=\"fill:#262626;\" transform=\"translate(204.249777 449.230022)scale(0.1 -0.1)\">\r\n     <use xlink:href=\"#DejaVuSans-48\"/>\r\n     <use x=\"63.623047\" xlink:href=\"#DejaVuSans-46\"/>\r\n     <use x=\"95.410156\" xlink:href=\"#DejaVuSans-48\"/>\r\n     <use x=\"159.033203\" xlink:href=\"#DejaVuSans-56\"/>\r\n     <use x=\"222.65625\" xlink:href=\"#DejaVuSans-50\"/>\r\n    </g>\r\n   </g>\r\n   <g id=\"text_46\">\r\n    <!-- -0.23 -->\r\n    <g style=\"fill:#262626;\" transform=\"translate(283.501406 449.230022)scale(0.1 -0.1)\">\r\n     <use xlink:href=\"#DejaVuSans-45\"/>\r\n     <use x=\"36.083984\" xlink:href=\"#DejaVuSans-48\"/>\r\n     <use x=\"99.707031\" xlink:href=\"#DejaVuSans-46\"/>\r\n     <use x=\"131.494141\" xlink:href=\"#DejaVuSans-50\"/>\r\n     <use x=\"195.117188\" xlink:href=\"#DejaVuSans-51\"/>\r\n    </g>\r\n   </g>\r\n   <g id=\"text_47\">\r\n    <!-- 1 -->\r\n    <g style=\"fill:#ffffff;\" transform=\"translate(371.131161 449.230022)scale(0.1 -0.1)\">\r\n     <use xlink:href=\"#DejaVuSans-49\"/>\r\n    </g>\r\n   </g>\r\n   <g id=\"text_48\">\r\n    <!-- 0.41 -->\r\n    <g style=\"fill:#262626;\" transform=\"translate(441.053884 449.230022)scale(0.1 -0.1)\">\r\n     <use xlink:href=\"#DejaVuSans-48\"/>\r\n     <use x=\"63.623047\" xlink:href=\"#DejaVuSans-46\"/>\r\n     <use x=\"95.410156\" xlink:href=\"#DejaVuSans-52\"/>\r\n     <use x=\"159.033203\" xlink:href=\"#DejaVuSans-49\"/>\r\n    </g>\r\n   </g>\r\n   <g id=\"text_49\">\r\n    <!-- 0.16 -->\r\n    <g style=\"fill:#262626;\" transform=\"translate(518.92817 449.230022)scale(0.1 -0.1)\">\r\n     <use xlink:href=\"#DejaVuSans-48\"/>\r\n     <use x=\"63.623047\" xlink:href=\"#DejaVuSans-46\"/>\r\n     <use x=\"95.410156\" xlink:href=\"#DejaVuSans-49\"/>\r\n     <use x=\"159.033203\" xlink:href=\"#DejaVuSans-54\"/>\r\n    </g>\r\n   </g>\r\n   <g id=\"text_50\">\r\n    <!-- -0.0017 -->\r\n    <g style=\"fill:#262626;\" transform=\"translate(43.516049 546.001451)scale(0.1 -0.1)\">\r\n     <use xlink:href=\"#DejaVuSans-45\"/>\r\n     <use x=\"36.083984\" xlink:href=\"#DejaVuSans-48\"/>\r\n     <use x=\"99.707031\" xlink:href=\"#DejaVuSans-46\"/>\r\n     <use x=\"131.494141\" xlink:href=\"#DejaVuSans-48\"/>\r\n     <use x=\"195.117188\" xlink:href=\"#DejaVuSans-48\"/>\r\n     <use x=\"258.740234\" xlink:href=\"#DejaVuSans-49\"/>\r\n     <use x=\"322.363281\" xlink:href=\"#DejaVuSans-55\"/>\r\n    </g>\r\n   </g>\r\n   <g id=\"text_51\">\r\n    <!-- 0.083 -->\r\n    <g style=\"fill:#262626;\" transform=\"translate(126.375491 546.001451)scale(0.1 -0.1)\">\r\n     <use xlink:href=\"#DejaVuSans-48\"/>\r\n     <use x=\"63.623047\" xlink:href=\"#DejaVuSans-46\"/>\r\n     <use x=\"95.410156\" xlink:href=\"#DejaVuSans-48\"/>\r\n     <use x=\"159.033203\" xlink:href=\"#DejaVuSans-56\"/>\r\n     <use x=\"222.65625\" xlink:href=\"#DejaVuSans-51\"/>\r\n    </g>\r\n   </g>\r\n   <g id=\"text_52\">\r\n    <!-- 0.017 -->\r\n    <g style=\"fill:#262626;\" transform=\"translate(204.249777 546.001451)scale(0.1 -0.1)\">\r\n     <use xlink:href=\"#DejaVuSans-48\"/>\r\n     <use x=\"63.623047\" xlink:href=\"#DejaVuSans-46\"/>\r\n     <use x=\"95.410156\" xlink:href=\"#DejaVuSans-48\"/>\r\n     <use x=\"159.033203\" xlink:href=\"#DejaVuSans-49\"/>\r\n     <use x=\"222.65625\" xlink:href=\"#DejaVuSans-55\"/>\r\n    </g>\r\n   </g>\r\n   <g id=\"text_53\">\r\n    <!-- -0.18 -->\r\n    <g style=\"fill:#262626;\" transform=\"translate(283.501406 546.001451)scale(0.1 -0.1)\">\r\n     <use xlink:href=\"#DejaVuSans-45\"/>\r\n     <use x=\"36.083984\" xlink:href=\"#DejaVuSans-48\"/>\r\n     <use x=\"99.707031\" xlink:href=\"#DejaVuSans-46\"/>\r\n     <use x=\"131.494141\" xlink:href=\"#DejaVuSans-49\"/>\r\n     <use x=\"195.117188\" xlink:href=\"#DejaVuSans-56\"/>\r\n    </g>\r\n   </g>\r\n   <g id=\"text_54\">\r\n    <!-- 0.41 -->\r\n    <g style=\"fill:#262626;\" transform=\"translate(363.179598 546.001451)scale(0.1 -0.1)\">\r\n     <use xlink:href=\"#DejaVuSans-48\"/>\r\n     <use x=\"63.623047\" xlink:href=\"#DejaVuSans-46\"/>\r\n     <use x=\"95.410156\" xlink:href=\"#DejaVuSans-52\"/>\r\n     <use x=\"159.033203\" xlink:href=\"#DejaVuSans-49\"/>\r\n    </g>\r\n   </g>\r\n   <g id=\"text_55\">\r\n    <!-- 1 -->\r\n    <g style=\"fill:#ffffff;\" transform=\"translate(449.005446 546.001451)scale(0.1 -0.1)\">\r\n     <use xlink:href=\"#DejaVuSans-49\"/>\r\n    </g>\r\n   </g>\r\n   <g id=\"text_56\">\r\n    <!-- 0.22 -->\r\n    <g style=\"fill:#262626;\" transform=\"translate(518.92817 546.001451)scale(0.1 -0.1)\">\r\n     <use xlink:href=\"#DejaVuSans-48\"/>\r\n     <use x=\"63.623047\" xlink:href=\"#DejaVuSans-46\"/>\r\n     <use x=\"95.410156\" xlink:href=\"#DejaVuSans-50\"/>\r\n     <use x=\"159.033203\" xlink:href=\"#DejaVuSans-50\"/>\r\n    </g>\r\n   </g>\r\n   <g id=\"text_57\">\r\n    <!-- 0.013 -->\r\n    <g style=\"fill:#262626;\" transform=\"translate(48.501205 642.772879)scale(0.1 -0.1)\">\r\n     <use xlink:href=\"#DejaVuSans-48\"/>\r\n     <use x=\"63.623047\" xlink:href=\"#DejaVuSans-46\"/>\r\n     <use x=\"95.410156\" xlink:href=\"#DejaVuSans-48\"/>\r\n     <use x=\"159.033203\" xlink:href=\"#DejaVuSans-49\"/>\r\n     <use x=\"222.65625\" xlink:href=\"#DejaVuSans-51\"/>\r\n    </g>\r\n   </g>\r\n   <g id=\"text_58\">\r\n    <!-- 0.26 -->\r\n    <g style=\"fill:#262626;\" transform=\"translate(129.556741 642.772879)scale(0.1 -0.1)\">\r\n     <use xlink:href=\"#DejaVuSans-48\"/>\r\n     <use x=\"63.623047\" xlink:href=\"#DejaVuSans-46\"/>\r\n     <use x=\"95.410156\" xlink:href=\"#DejaVuSans-50\"/>\r\n     <use x=\"159.033203\" xlink:href=\"#DejaVuSans-54\"/>\r\n    </g>\r\n   </g>\r\n   <g id=\"text_59\">\r\n    <!-- -0.55 -->\r\n    <g style=\"fill:#ffffff;\" transform=\"translate(205.627121 642.772879)scale(0.1 -0.1)\">\r\n     <use xlink:href=\"#DejaVuSans-45\"/>\r\n     <use x=\"36.083984\" xlink:href=\"#DejaVuSans-48\"/>\r\n     <use x=\"99.707031\" xlink:href=\"#DejaVuSans-46\"/>\r\n     <use x=\"131.494141\" xlink:href=\"#DejaVuSans-53\"/>\r\n     <use x=\"195.117188\" xlink:href=\"#DejaVuSans-53\"/>\r\n    </g>\r\n   </g>\r\n   <g id=\"text_60\">\r\n    <!-- 0.089 -->\r\n    <g style=\"fill:#262626;\" transform=\"translate(282.124062 642.772879)scale(0.1 -0.1)\">\r\n     <use xlink:href=\"#DejaVuSans-48\"/>\r\n     <use x=\"63.623047\" xlink:href=\"#DejaVuSans-46\"/>\r\n     <use x=\"95.410156\" xlink:href=\"#DejaVuSans-48\"/>\r\n     <use x=\"159.033203\" xlink:href=\"#DejaVuSans-56\"/>\r\n     <use x=\"222.65625\" xlink:href=\"#DejaVuSans-57\"/>\r\n    </g>\r\n   </g>\r\n   <g id=\"text_61\">\r\n    <!-- 0.16 -->\r\n    <g style=\"fill:#262626;\" transform=\"translate(363.179598 642.772879)scale(0.1 -0.1)\">\r\n     <use xlink:href=\"#DejaVuSans-48\"/>\r\n     <use x=\"63.623047\" xlink:href=\"#DejaVuSans-46\"/>\r\n     <use x=\"95.410156\" xlink:href=\"#DejaVuSans-49\"/>\r\n     <use x=\"159.033203\" xlink:href=\"#DejaVuSans-54\"/>\r\n    </g>\r\n   </g>\r\n   <g id=\"text_62\">\r\n    <!-- 0.22 -->\r\n    <g style=\"fill:#262626;\" transform=\"translate(441.053884 642.772879)scale(0.1 -0.1)\">\r\n     <use xlink:href=\"#DejaVuSans-48\"/>\r\n     <use x=\"63.623047\" xlink:href=\"#DejaVuSans-46\"/>\r\n     <use x=\"95.410156\" xlink:href=\"#DejaVuSans-50\"/>\r\n     <use x=\"159.033203\" xlink:href=\"#DejaVuSans-50\"/>\r\n    </g>\r\n   </g>\r\n   <g id=\"text_63\">\r\n    <!-- 1 -->\r\n    <g style=\"fill:#ffffff;\" transform=\"translate(526.879732 642.772879)scale(0.1 -0.1)\">\r\n     <use xlink:href=\"#DejaVuSans-49\"/>\r\n    </g>\r\n   </g>\r\n  </g>\r\n  <g id=\"axes_2\">\r\n   <g id=\"patch_3\">\r\n    <path clip-path=\"url(#p0687735331)\" d=\"M 603.068125 688.399219 \r\nL 603.068125 685.753125 \r\nL 603.068125 13.645312 \r\nL 603.068125 10.999219 \r\nL 636.938125 10.999219 \r\nL 636.938125 13.645312 \r\nL 636.938125 685.753125 \r\nL 636.938125 688.399219 \r\nz\r\n\" style=\"fill:#ffffff;stroke:#ffffff;stroke-linejoin:miter;stroke-width:0.01;\"/>\r\n   </g>\r\n   <image height=\"677\" id=\"image716df00941\" transform=\"scale(1 -1)translate(0 -677)\" width=\"34\" x=\"603\" xlink:href=\"data:image/png;base64,\r\niVBORw0KGgoAAAANSUhEUgAAACIAAAKlCAYAAACubT6LAAAABHNCSVQICAgIfAhkiAAABDRJREFUeJztncFxHDEQxMitycopOGjnJfvWLz8GDkB4ABGgyGZzuLoq3R8/f71HwPPdAv+Y+zhcHBZHJDL3ud/tcM5Rrch1uDgsjkiksBKNSBVP5imsG41IFU80IlU8qVmJRqSwknlq1o1GpLASjUhbQ5rQiEaksBKNyDyNipu5t7AuNCL1CNGItDWkdw3RiBRWohFpa0jzCNGI9PcaohHpEzipR4hGpEuP1KxEI1KPEI1IPULmKawbjUhhJRqRtoZ06RGNSKMi0Yh0akjNSjQiI9kZz4poRDo1pBUhGpGenEQj0qkhI8mqZ0U0Ir1rSM8JohHp0iMakZH8DM20IoV1oxHp0iMakUZF0nOCaET6mEc0It2+ZCQ/VfSsiEaksBKNSO8a0iOcaEQankkrQjQiPcKJRqRTQ3rpEY1I30eIRqQeIfUI0YgUVqIR6dMVKaxEI9LHPKIR6fYl9QjRiLQ1RCPSPEIKK9GIdOmRwko0Im0N0YjUI6SwEo3I3Kv4T4eeFdGI1COkHiEakbaGaETmqeI3hZVoRNoaohFpHiFzT8260IjUI0QjUo+QHuFEI1KPkHm69DYakcJKNCJVPGkMIBqR3jVEI1LFk5qVaEQaFYlGpB4h9QjRiDSPEI1IUzwprEQjUsUTjUinhhRWohEZi4nFo7D+h0akZiUakU4NKaxEI1JYiUakU0P68kw0IvUI0YjUI6QVIRqRtoZoRKp4UliJRqStIa0I0Yi0NUQjMvd8vtvhnKNakcaAjUZk7tvWLDQiVTyZ+9asC41IYSUakU4NKaxEI1JYiUakU0ManolGpB4hGpF6hBRWohGp4kmfN4lGZE5h3WhEqnjSGEA0IoWVaESqeFJYiUak4ZloROZ0ajb1CNGINCoSjUg9Qrr0iEaksBKNSO8a0jxCNCKFlRRWohHp0iMakUZFMudTWBcakS49ohGp4knNSjQihZVoRNoaUo8QjUijItGINCqSmpVoRAor0YhU8aQeIRqReoR0fIlGpLASjUgVT+Z8CutCI1JYiUak25d06RGNSD1CNCLdvmTewrrRiBRWohGp4sm8TWgbjUijIuk5QTQihZVoRKp40oRGNCK9a4hGpFNDek4Qjci8hXWjEWmKJ/M2PG80IoWVaESqeNI8QjQihZVoRPo+QnrpEY1I30dIzUo0Ig3PRCPSqSGNAUQj0vcRohGp4knNSjQibQ3RiHT7ksJKNCKFlWhEOjWkX+YRjUg9QjQi9QgprEQjUlhJK0I0IvUI0Yh0ash8/rQiC41IPUI0IvUIaUWIRqStIRqRKp4UVqIRaVQkGpFODalZiUaksBKNSBVPCivRiFTxZN6O70YjUrMSjUgVTwor0YjM+6dLb6ERqUdIPUI0Io2KRCMyn99tzWLer1ZkoREprEQj0qkhhZVoROb96l2zKKxEI1KzEo3IX70vWzQf58reAAAAAElFTkSuQmCC\" y=\"-11\"/>\r\n   <g id=\"matplotlib.axis_3\"/>\r\n   <g id=\"matplotlib.axis_4\">\r\n    <g id=\"ytick_8\">\r\n     <g id=\"line2d_15\">\r\n      <defs>\r\n       <path d=\"M 0 0 \r\nL 3.5 0 \r\n\" id=\"m5913026cfa\" style=\"stroke:#000000;stroke-width:0.8;\"/>\r\n      </defs>\r\n      <g>\r\n       <use style=\"stroke:#000000;stroke-width:0.8;\" x=\"636.938125\" xlink:href=\"#m5913026cfa\" y=\"688.399219\"/>\r\n      </g>\r\n     </g>\r\n     <g id=\"text_64\">\r\n      <!-- −1.00 -->\r\n      <defs>\r\n       <path d=\"M 10.59375 35.5 \r\nL 73.1875 35.5 \r\nL 73.1875 27.203125 \r\nL 10.59375 27.203125 \r\nz\r\n\" id=\"DejaVuSans-8722\"/>\r\n      </defs>\r\n      <g transform=\"translate(643.938125 692.198437)scale(0.1 -0.1)\">\r\n       <use xlink:href=\"#DejaVuSans-8722\"/>\r\n       <use x=\"83.789062\" xlink:href=\"#DejaVuSans-49\"/>\r\n       <use x=\"147.412109\" xlink:href=\"#DejaVuSans-46\"/>\r\n       <use x=\"179.199219\" xlink:href=\"#DejaVuSans-48\"/>\r\n       <use x=\"242.822266\" xlink:href=\"#DejaVuSans-48\"/>\r\n      </g>\r\n     </g>\r\n    </g>\r\n    <g id=\"ytick_9\">\r\n     <g id=\"line2d_16\">\r\n      <g>\r\n       <use style=\"stroke:#000000;stroke-width:0.8;\" x=\"636.938125\" xlink:href=\"#m5913026cfa\" y=\"603.724219\"/>\r\n      </g>\r\n     </g>\r\n     <g id=\"text_65\">\r\n      <!-- −0.75 -->\r\n      <g transform=\"translate(643.938125 607.523437)scale(0.1 -0.1)\">\r\n       <use xlink:href=\"#DejaVuSans-8722\"/>\r\n       <use x=\"83.789062\" xlink:href=\"#DejaVuSans-48\"/>\r\n       <use x=\"147.412109\" xlink:href=\"#DejaVuSans-46\"/>\r\n       <use x=\"179.199219\" xlink:href=\"#DejaVuSans-55\"/>\r\n       <use x=\"242.822266\" xlink:href=\"#DejaVuSans-53\"/>\r\n      </g>\r\n     </g>\r\n    </g>\r\n    <g id=\"ytick_10\">\r\n     <g id=\"line2d_17\">\r\n      <g>\r\n       <use style=\"stroke:#000000;stroke-width:0.8;\" x=\"636.938125\" xlink:href=\"#m5913026cfa\" y=\"519.049219\"/>\r\n      </g>\r\n     </g>\r\n     <g id=\"text_66\">\r\n      <!-- −0.50 -->\r\n      <g transform=\"translate(643.938125 522.848437)scale(0.1 -0.1)\">\r\n       <use xlink:href=\"#DejaVuSans-8722\"/>\r\n       <use x=\"83.789062\" xlink:href=\"#DejaVuSans-48\"/>\r\n       <use x=\"147.412109\" xlink:href=\"#DejaVuSans-46\"/>\r\n       <use x=\"179.199219\" xlink:href=\"#DejaVuSans-53\"/>\r\n       <use x=\"242.822266\" xlink:href=\"#DejaVuSans-48\"/>\r\n      </g>\r\n     </g>\r\n    </g>\r\n    <g id=\"ytick_11\">\r\n     <g id=\"line2d_18\">\r\n      <g>\r\n       <use style=\"stroke:#000000;stroke-width:0.8;\" x=\"636.938125\" xlink:href=\"#m5913026cfa\" y=\"434.374219\"/>\r\n      </g>\r\n     </g>\r\n     <g id=\"text_67\">\r\n      <!-- −0.25 -->\r\n      <g transform=\"translate(643.938125 438.173437)scale(0.1 -0.1)\">\r\n       <use xlink:href=\"#DejaVuSans-8722\"/>\r\n       <use x=\"83.789062\" xlink:href=\"#DejaVuSans-48\"/>\r\n       <use x=\"147.412109\" xlink:href=\"#DejaVuSans-46\"/>\r\n       <use x=\"179.199219\" xlink:href=\"#DejaVuSans-50\"/>\r\n       <use x=\"242.822266\" xlink:href=\"#DejaVuSans-53\"/>\r\n      </g>\r\n     </g>\r\n    </g>\r\n    <g id=\"ytick_12\">\r\n     <g id=\"line2d_19\">\r\n      <g>\r\n       <use style=\"stroke:#000000;stroke-width:0.8;\" x=\"636.938125\" xlink:href=\"#m5913026cfa\" y=\"349.699219\"/>\r\n      </g>\r\n     </g>\r\n     <g id=\"text_68\">\r\n      <!-- 0.00 -->\r\n      <g transform=\"translate(643.938125 353.498437)scale(0.1 -0.1)\">\r\n       <use xlink:href=\"#DejaVuSans-48\"/>\r\n       <use x=\"63.623047\" xlink:href=\"#DejaVuSans-46\"/>\r\n       <use x=\"95.410156\" xlink:href=\"#DejaVuSans-48\"/>\r\n       <use x=\"159.033203\" xlink:href=\"#DejaVuSans-48\"/>\r\n      </g>\r\n     </g>\r\n    </g>\r\n    <g id=\"ytick_13\">\r\n     <g id=\"line2d_20\">\r\n      <g>\r\n       <use style=\"stroke:#000000;stroke-width:0.8;\" x=\"636.938125\" xlink:href=\"#m5913026cfa\" y=\"265.024219\"/>\r\n      </g>\r\n     </g>\r\n     <g id=\"text_69\">\r\n      <!-- 0.25 -->\r\n      <g transform=\"translate(643.938125 268.823437)scale(0.1 -0.1)\">\r\n       <use xlink:href=\"#DejaVuSans-48\"/>\r\n       <use x=\"63.623047\" xlink:href=\"#DejaVuSans-46\"/>\r\n       <use x=\"95.410156\" xlink:href=\"#DejaVuSans-50\"/>\r\n       <use x=\"159.033203\" xlink:href=\"#DejaVuSans-53\"/>\r\n      </g>\r\n     </g>\r\n    </g>\r\n    <g id=\"ytick_14\">\r\n     <g id=\"line2d_21\">\r\n      <g>\r\n       <use style=\"stroke:#000000;stroke-width:0.8;\" x=\"636.938125\" xlink:href=\"#m5913026cfa\" y=\"180.349219\"/>\r\n      </g>\r\n     </g>\r\n     <g id=\"text_70\">\r\n      <!-- 0.50 -->\r\n      <g transform=\"translate(643.938125 184.148437)scale(0.1 -0.1)\">\r\n       <use xlink:href=\"#DejaVuSans-48\"/>\r\n       <use x=\"63.623047\" xlink:href=\"#DejaVuSans-46\"/>\r\n       <use x=\"95.410156\" xlink:href=\"#DejaVuSans-53\"/>\r\n       <use x=\"159.033203\" xlink:href=\"#DejaVuSans-48\"/>\r\n      </g>\r\n     </g>\r\n    </g>\r\n    <g id=\"ytick_15\">\r\n     <g id=\"line2d_22\">\r\n      <g>\r\n       <use style=\"stroke:#000000;stroke-width:0.8;\" x=\"636.938125\" xlink:href=\"#m5913026cfa\" y=\"95.674219\"/>\r\n      </g>\r\n     </g>\r\n     <g id=\"text_71\">\r\n      <!-- 0.75 -->\r\n      <g transform=\"translate(643.938125 99.473437)scale(0.1 -0.1)\">\r\n       <use xlink:href=\"#DejaVuSans-48\"/>\r\n       <use x=\"63.623047\" xlink:href=\"#DejaVuSans-46\"/>\r\n       <use x=\"95.410156\" xlink:href=\"#DejaVuSans-55\"/>\r\n       <use x=\"159.033203\" xlink:href=\"#DejaVuSans-53\"/>\r\n      </g>\r\n     </g>\r\n    </g>\r\n    <g id=\"ytick_16\">\r\n     <g id=\"line2d_23\">\r\n      <g>\r\n       <use style=\"stroke:#000000;stroke-width:0.8;\" x=\"636.938125\" xlink:href=\"#m5913026cfa\" y=\"10.999219\"/>\r\n      </g>\r\n     </g>\r\n     <g id=\"text_72\">\r\n      <!-- 1.00 -->\r\n      <g transform=\"translate(643.938125 14.798437)scale(0.1 -0.1)\">\r\n       <use xlink:href=\"#DejaVuSans-49\"/>\r\n       <use x=\"63.623047\" xlink:href=\"#DejaVuSans-46\"/>\r\n       <use x=\"95.410156\" xlink:href=\"#DejaVuSans-48\"/>\r\n       <use x=\"159.033203\" xlink:href=\"#DejaVuSans-48\"/>\r\n      </g>\r\n     </g>\r\n    </g>\r\n   </g>\r\n   <g id=\"patch_4\">\r\n    <path d=\"M 603.068125 688.399219 \r\nL 603.068125 685.753125 \r\nL 603.068125 13.645312 \r\nL 603.068125 10.999219 \r\nL 636.938125 10.999219 \r\nL 636.938125 13.645312 \r\nL 636.938125 685.753125 \r\nL 636.938125 688.399219 \r\nz\r\n\" style=\"fill:none;\"/>\r\n   </g>\r\n  </g>\r\n </g>\r\n <defs>\r\n  <clipPath id=\"pd6aab6baa0\">\r\n   <rect height=\"677.4\" width=\"545.12\" x=\"23.878125\" y=\"10.999219\"/>\r\n  </clipPath>\r\n  <clipPath id=\"p0687735331\">\r\n   <rect height=\"677.4\" width=\"33.87\" x=\"603.068125\" y=\"10.999219\"/>\r\n  </clipPath>\r\n </defs>\r\n</svg>\r\n",
      "image/png": "[encoded data removed]"
     },
     "metadata": {
      "needs_background": "light"
     }
    }
   ],
   "source": [
    "fig, ax = plt.subplots(figsize=(10,10))  \n",
    "corr = train.corr()\n",
    "ax =sns.heatmap(corr, annot = True, vmin=-1, vmax=1, center= 0, cmap= 'coolwarm')\n",
    "plt.tight_layout()\n",
    "plt.show()"
   ]
  },
  {
   "cell_type": "code",
   "execution_count": null,
   "metadata": {},
   "outputs": [],
   "source": []
  },
  {
   "cell_type": "code",
   "execution_count": null,
   "metadata": {},
   "outputs": [],
   "source": []
  },
  {
   "cell_type": "code",
   "execution_count": null,
   "metadata": {},
   "outputs": [],
   "source": []
  },
  {
   "cell_type": "code",
   "execution_count": null,
   "metadata": {},
   "outputs": [],
   "source": []
  },
  {
   "cell_type": "code",
   "execution_count": null,
   "metadata": {},
   "outputs": [],
   "source": []
  },
  {
   "cell_type": "code",
   "execution_count": null,
   "metadata": {},
   "outputs": [],
   "source": []
  },
  {
   "cell_type": "code",
   "execution_count": null,
   "metadata": {},
   "outputs": [],
   "source": []
  },
  {
   "cell_type": "code",
   "execution_count": null,
   "metadata": {},
   "outputs": [],
   "source": []
  },
  {
   "cell_type": "code",
   "execution_count": null,
   "metadata": {},
   "outputs": [],
   "source": []
  },
  {
   "cell_type": "code",
   "execution_count": null,
   "metadata": {},
   "outputs": [],
   "source": []
  },
  {
   "cell_type": "code",
   "execution_count": null,
   "metadata": {},
   "outputs": [],
   "source": []
  },
  {
   "cell_type": "code",
   "execution_count": null,
   "metadata": {},
   "outputs": [],
   "source": []
  },
  {
   "cell_type": "code",
   "execution_count": null,
   "metadata": {},
   "outputs": [],
   "source": []
  },
  {
   "cell_type": "code",
   "execution_count": null,
   "metadata": {},
   "outputs": [],
   "source": []
  }
 ]
}