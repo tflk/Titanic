{
 "nbformat": 4,
 "nbformat_minor": 2,
 "metadata": {
  "language_info": {
   "name": "python",
   "codemirror_mode": {
    "name": "ipython",
    "version": 3
   },
   "version": "3.7.6-final"
  },
  "orig_nbformat": 2,
  "file_extension": ".py",
  "mimetype": "text/x-python",
  "name": "python",
  "npconvert_exporter": "python",
  "pygments_lexer": "ipython3",
  "version": 3,
  "kernelspec": {
   "name": "python3",
   "display_name": "Python 3"
  }
 },
 "cells": [
  {
   "cell_type": "markdown",
   "metadata": {},
   "source": [
    "# Importation des librairies"
   ]
  },
  {
   "cell_type": "code",
   "execution_count": 1,
   "metadata": {},
   "outputs": [],
   "source": [
    "import pandas as pd\n",
    "import plotly.express as px\n",
    "import plotly.graph_objects as go\n",
    "import matplotlib.pyplot as plt\n",
    "import plotly.offline as pyo\n",
    "import numpy as np\n",
    "import scipy\n",
    "from statsmodels.stats import weightstats\n",
    "import seaborn as sns"
   ]
  },
  {
   "cell_type": "markdown",
   "metadata": {},
   "source": [
    "# Importation des bases"
   ]
  },
  {
   "cell_type": "code",
   "execution_count": 2,
   "metadata": {},
   "outputs": [],
   "source": [
    "train = pd.read_csv(\"D:/Simplon/Brief projet/Titanic/train.csv\")"
   ]
  },
  {
   "cell_type": "markdown",
   "metadata": {},
   "source": [
    "# Nettoyage de la base"
   ]
  },
  {
   "cell_type": "code",
   "execution_count": 3,
   "metadata": {},
   "outputs": [
    {
     "output_type": "execute_result",
     "data": {
      "text/plain": "   PassengerId  Survived  Pclass  \\\n0            1         0       3   \n1            2         1       1   \n2            3         1       3   \n3            4         1       1   \n4            5         0       3   \n\n                                                Name     Sex   Age  SibSp  \\\n0                            Braund, Mr. Owen Harris    male  22.0      1   \n1  Cumings, Mrs. John Bradley (Florence Briggs Th...  female  38.0      1   \n2                             Heikkinen, Miss. Laina  female  26.0      0   \n3       Futrelle, Mrs. Jacques Heath (Lily May Peel)  female  35.0      1   \n4                           Allen, Mr. William Henry    male  35.0      0   \n\n   Parch            Ticket     Fare Cabin Embarked  \n0      0         A/5 21171   7.2500   NaN        S  \n1      0          PC 17599  71.2833   C85        C  \n2      0  STON/O2. 3101282   7.9250   NaN        S  \n3      0            113803  53.1000  C123        S  \n4      0            373450   8.0500   NaN        S  ",
      "text/html": "<div>\n<style scoped>\n    .dataframe tbody tr th:only-of-type {\n        vertical-align: middle;\n    }\n\n    .dataframe tbody tr th {\n        vertical-align: top;\n    }\n\n    .dataframe thead th {\n        text-align: right;\n    }\n</style>\n<table border=\"1\" class=\"dataframe\">\n  <thead>\n    <tr style=\"text-align: right;\">\n      <th></th>\n      <th>PassengerId</th>\n      <th>Survived</th>\n      <th>Pclass</th>\n      <th>Name</th>\n      <th>Sex</th>\n      <th>Age</th>\n      <th>SibSp</th>\n      <th>Parch</th>\n      <th>Ticket</th>\n      <th>Fare</th>\n      <th>Cabin</th>\n      <th>Embarked</th>\n    </tr>\n  </thead>\n  <tbody>\n    <tr>\n      <th>0</th>\n      <td>1</td>\n      <td>0</td>\n      <td>3</td>\n      <td>Braund, Mr. Owen Harris</td>\n      <td>male</td>\n      <td>22.0</td>\n      <td>1</td>\n      <td>0</td>\n      <td>A/5 21171</td>\n      <td>7.2500</td>\n      <td>NaN</td>\n      <td>S</td>\n    </tr>\n    <tr>\n      <th>1</th>\n      <td>2</td>\n      <td>1</td>\n      <td>1</td>\n      <td>Cumings, Mrs. John Bradley (Florence Briggs Th...</td>\n      <td>female</td>\n      <td>38.0</td>\n      <td>1</td>\n      <td>0</td>\n      <td>PC 17599</td>\n      <td>71.2833</td>\n      <td>C85</td>\n      <td>C</td>\n    </tr>\n    <tr>\n      <th>2</th>\n      <td>3</td>\n      <td>1</td>\n      <td>3</td>\n      <td>Heikkinen, Miss. Laina</td>\n      <td>female</td>\n      <td>26.0</td>\n      <td>0</td>\n      <td>0</td>\n      <td>STON/O2. 3101282</td>\n      <td>7.9250</td>\n      <td>NaN</td>\n      <td>S</td>\n    </tr>\n    <tr>\n      <th>3</th>\n      <td>4</td>\n      <td>1</td>\n      <td>1</td>\n      <td>Futrelle, Mrs. Jacques Heath (Lily May Peel)</td>\n      <td>female</td>\n      <td>35.0</td>\n      <td>1</td>\n      <td>0</td>\n      <td>113803</td>\n      <td>53.1000</td>\n      <td>C123</td>\n      <td>S</td>\n    </tr>\n    <tr>\n      <th>4</th>\n      <td>5</td>\n      <td>0</td>\n      <td>3</td>\n      <td>Allen, Mr. William Henry</td>\n      <td>male</td>\n      <td>35.0</td>\n      <td>0</td>\n      <td>0</td>\n      <td>373450</td>\n      <td>8.0500</td>\n      <td>NaN</td>\n      <td>S</td>\n    </tr>\n  </tbody>\n</table>\n</div>"
     },
     "metadata": {},
     "execution_count": 3
    }
   ],
   "source": [
    "train.head()"
   ]
  },
  {
   "cell_type": "code",
   "execution_count": 4,
   "metadata": {},
   "outputs": [
    {
     "output_type": "stream",
     "name": "stdout",
     "text": "Il y a 0 , soit 0.0 % de doublons dans la table Train.\n"
    }
   ],
   "source": [
    "trainn = train.drop_duplicates()\n",
    "doublons = train.shape[0] - trainn.shape[0]\n",
    "doublons_pct = doublons/train.shape[0]*100\n",
    "print(\"Il y a\", doublons, \", soit\", round(doublons_pct, 4), \"% de doublons dans la table Train.\")"
   ]
  },
  {
   "cell_type": "code",
   "execution_count": 5,
   "metadata": {},
   "outputs": [
    {
     "output_type": "stream",
     "name": "stdout",
     "text": "PassengerId     0.000000\nSurvived        0.000000\nPclass          0.000000\nName            0.000000\nSex             0.000000\nAge            19.865320\nSibSp           0.000000\nParch           0.000000\nTicket          0.000000\nFare            0.000000\nCabin          77.104377\nEmbarked        0.224467\ndtype: float64\n"
    }
   ],
   "source": [
    "print(train.isnull().sum()/train.shape[0]*100)"
   ]
  },
  {
   "cell_type": "code",
   "execution_count": 6,
   "metadata": {},
   "outputs": [],
   "source": [
    "train[\"Age\"].fillna(train[\"Age\"].mean(), inplace = True)\n",
    "del train[\"Cabin\"]\n",
    "train.dropna(inplace= True)"
   ]
  },
  {
   "cell_type": "code",
   "execution_count": 7,
   "metadata": {},
   "outputs": [
    {
     "output_type": "stream",
     "name": "stdout",
     "text": "PassengerId    0.0\nSurvived       0.0\nPclass         0.0\nName           0.0\nSex            0.0\nAge            0.0\nSibSp          0.0\nParch          0.0\nTicket         0.0\nFare           0.0\nEmbarked       0.0\ndtype: float64\n"
    }
   ],
   "source": [
    "print(train.isnull().sum()/train.shape[0]*100)"
   ]
  },
  {
   "cell_type": "markdown",
   "metadata": {},
   "source": [
    "# DATAVIZ"
   ]
  },
  {
   "cell_type": "code",
   "execution_count": 8,
   "metadata": {},
   "outputs": [],
   "source": [
    "def legend_embarked(liste) :\n",
    "    L = liste.to_list()\n",
    "    for k in range(len(L)) :\n",
    "        if L[k] == \"C\" :\n",
    "            L[k] = \"Cherbourg\"\n",
    "        elif L[k] == \"Q\" :\n",
    "            L[k] = \"Queenstown\"\n",
    "        elif L[k] == \"S\" :\n",
    "            L[k] = \"Southampton\"\n",
    "    return L\n",
    "\n",
    "def process_age(df) :\n",
    "    cut_points = [0, 5, 18, 30, 60, 100]\n",
    "    labels = [\"Baby\", \"Child\", \"Junior\", \"Adult\", \"Senior\"]\n",
    "    df[\"Age_categorie\"] = pd.cut(df[\"Age\"], cut_points, labels = labels)\n",
    "    return df\n",
    "\n",
    "def process_fare(df) :\n",
    "    cut_points = [0, 8, 15, 30, 1000]\n",
    "    labels = [\"Cheap\", \"Low\", \"High\", \"Expensive\"]\n",
    "    df[\"Fare_categorie\"] = pd.cut(df[\"Fare\"], cut_points, labels = labels)\n",
    "    return df"
   ]
  },
  {
   "cell_type": "code",
   "execution_count": 9,
   "metadata": {},
   "outputs": [
    {
     "output_type": "execute_result",
     "data": {
      "text/plain": "<pandas.io.formats.style.Styler at 0x2ad36683908>",
      "text/html": "<style  type=\"text/css\" >\n    #T_21fcf326_7ab3_11ea_b3b6_54a050d383aerow0_col0 {\n            background-color:  #b40426;\n            color:  #f1f1f1;\n        }    #T_21fcf326_7ab3_11ea_b3b6_54a050d383aerow0_col1 {\n            background-color:  #8caffe;\n            color:  #000000;\n        }    #T_21fcf326_7ab3_11ea_b3b6_54a050d383aerow0_col2 {\n            background-color:  #a9c6fd;\n            color:  #000000;\n        }    #T_21fcf326_7ab3_11ea_b3b6_54a050d383aerow0_col3 {\n            background-color:  #94b6ff;\n            color:  #000000;\n        }    #T_21fcf326_7ab3_11ea_b3b6_54a050d383aerow0_col4 {\n            background-color:  #6788ee;\n            color:  #000000;\n        }    #T_21fcf326_7ab3_11ea_b3b6_54a050d383aerow0_col5 {\n            background-color:  #6a8bef;\n            color:  #000000;\n        }    #T_21fcf326_7ab3_11ea_b3b6_54a050d383aerow0_col6 {\n            background-color:  #b3cdfb;\n            color:  #000000;\n        }    #T_21fcf326_7ab3_11ea_b3b6_54a050d383aerow1_col0 {\n            background-color:  #4961d2;\n            color:  #f1f1f1;\n        }    #T_21fcf326_7ab3_11ea_b3b6_54a050d383aerow1_col1 {\n            background-color:  #b40426;\n            color:  #f1f1f1;\n        }    #T_21fcf326_7ab3_11ea_b3b6_54a050d383aerow1_col2 {\n            background-color:  #6687ed;\n            color:  #000000;\n        }    #T_21fcf326_7ab3_11ea_b3b6_54a050d383aerow1_col3 {\n            background-color:  #779af7;\n            color:  #000000;\n        }    #T_21fcf326_7ab3_11ea_b3b6_54a050d383aerow1_col4 {\n            background-color:  #6e90f2;\n            color:  #000000;\n        }    #T_21fcf326_7ab3_11ea_b3b6_54a050d383aerow1_col5 {\n            background-color:  #82a6fb;\n            color:  #000000;\n        }    #T_21fcf326_7ab3_11ea_b3b6_54a050d383aerow1_col6 {\n            background-color:  #e1dad6;\n            color:  #000000;\n        }    #T_21fcf326_7ab3_11ea_b3b6_54a050d383aerow2_col0 {\n            background-color:  #4055c8;\n            color:  #f1f1f1;\n        }    #T_21fcf326_7ab3_11ea_b3b6_54a050d383aerow2_col1 {\n            background-color:  #3b4cc0;\n            color:  #f1f1f1;\n        }    #T_21fcf326_7ab3_11ea_b3b6_54a050d383aerow2_col2 {\n            background-color:  #b40426;\n            color:  #f1f1f1;\n        }    #T_21fcf326_7ab3_11ea_b3b6_54a050d383aerow2_col3 {\n            background-color:  #3b4cc0;\n            color:  #f1f1f1;\n        }    #T_21fcf326_7ab3_11ea_b3b6_54a050d383aerow2_col4 {\n            background-color:  #8fb1fe;\n            color:  #000000;\n        }    #T_21fcf326_7ab3_11ea_b3b6_54a050d383aerow2_col5 {\n            background-color:  #6f92f3;\n            color:  #000000;\n        }    #T_21fcf326_7ab3_11ea_b3b6_54a050d383aerow2_col6 {\n            background-color:  #3b4cc0;\n            color:  #f1f1f1;\n        }    #T_21fcf326_7ab3_11ea_b3b6_54a050d383aerow3_col0 {\n            background-color:  #5470de;\n            color:  #000000;\n        }    #T_21fcf326_7ab3_11ea_b3b6_54a050d383aerow3_col1 {\n            background-color:  #7a9df8;\n            color:  #000000;\n        }    #T_21fcf326_7ab3_11ea_b3b6_54a050d383aerow3_col2 {\n            background-color:  #6788ee;\n            color:  #000000;\n        }    #T_21fcf326_7ab3_11ea_b3b6_54a050d383aerow3_col3 {\n            background-color:  #b40426;\n            color:  #f1f1f1;\n        }    #T_21fcf326_7ab3_11ea_b3b6_54a050d383aerow3_col4 {\n            background-color:  #3b4cc0;\n            color:  #f1f1f1;\n        }    #T_21fcf326_7ab3_11ea_b3b6_54a050d383aerow3_col5 {\n            background-color:  #3b4cc0;\n            color:  #f1f1f1;\n        }    #T_21fcf326_7ab3_11ea_b3b6_54a050d383aerow3_col6 {\n            background-color:  #c4d5f3;\n            color:  #000000;\n        }    #T_21fcf326_7ab3_11ea_b3b6_54a050d383aerow4_col0 {\n            background-color:  #3b4cc0;\n            color:  #f1f1f1;\n        }    #T_21fcf326_7ab3_11ea_b3b6_54a050d383aerow4_col1 {\n            background-color:  #84a7fc;\n            color:  #000000;\n        }    #T_21fcf326_7ab3_11ea_b3b6_54a050d383aerow4_col2 {\n            background-color:  #c3d5f4;\n            color:  #000000;\n        }    #T_21fcf326_7ab3_11ea_b3b6_54a050d383aerow4_col3 {\n            background-color:  #506bda;\n            color:  #000000;\n        }    #T_21fcf326_7ab3_11ea_b3b6_54a050d383aerow4_col4 {\n            background-color:  #b40426;\n            color:  #f1f1f1;\n        }    #T_21fcf326_7ab3_11ea_b3b6_54a050d383aerow4_col5 {\n            background-color:  #dddcdc;\n            color:  #000000;\n        }    #T_21fcf326_7ab3_11ea_b3b6_54a050d383aerow4_col6 {\n            background-color:  #d2dbe8;\n            color:  #000000;\n        }    #T_21fcf326_7ab3_11ea_b3b6_54a050d383aerow5_col0 {\n            background-color:  #4a63d3;\n            color:  #f1f1f1;\n        }    #T_21fcf326_7ab3_11ea_b3b6_54a050d383aerow5_col1 {\n            background-color:  #a3c2fe;\n            color:  #000000;\n        }    #T_21fcf326_7ab3_11ea_b3b6_54a050d383aerow5_col2 {\n            background-color:  #b5cdfa;\n            color:  #000000;\n        }    #T_21fcf326_7ab3_11ea_b3b6_54a050d383aerow5_col3 {\n            background-color:  #5d7ce6;\n            color:  #000000;\n        }    #T_21fcf326_7ab3_11ea_b3b6_54a050d383aerow5_col4 {\n            background-color:  #e3d9d3;\n            color:  #000000;\n        }    #T_21fcf326_7ab3_11ea_b3b6_54a050d383aerow5_col5 {\n            background-color:  #b40426;\n            color:  #f1f1f1;\n        }    #T_21fcf326_7ab3_11ea_b3b6_54a050d383aerow5_col6 {\n            background-color:  #dbdcde;\n            color:  #000000;\n        }    #T_21fcf326_7ab3_11ea_b3b6_54a050d383aerow6_col0 {\n            background-color:  #4f69d9;\n            color:  #000000;\n        }    #T_21fcf326_7ab3_11ea_b3b6_54a050d383aerow6_col1 {\n            background-color:  #cdd9ec;\n            color:  #000000;\n        }    #T_21fcf326_7ab3_11ea_b3b6_54a050d383aerow6_col2 {\n            background-color:  #3b4cc0;\n            color:  #f1f1f1;\n        }    #T_21fcf326_7ab3_11ea_b3b6_54a050d383aerow6_col3 {\n            background-color:  #a3c2fe;\n            color:  #000000;\n        }    #T_21fcf326_7ab3_11ea_b3b6_54a050d383aerow6_col4 {\n            background-color:  #a5c3fe;\n            color:  #000000;\n        }    #T_21fcf326_7ab3_11ea_b3b6_54a050d383aerow6_col5 {\n            background-color:  #aac7fd;\n            color:  #000000;\n        }    #T_21fcf326_7ab3_11ea_b3b6_54a050d383aerow6_col6 {\n            background-color:  #b40426;\n            color:  #f1f1f1;\n        }</style><table id=\"T_21fcf326_7ab3_11ea_b3b6_54a050d383ae\" ><thead>    <tr>        <th class=\"blank level0\" ></th>        <th class=\"col_heading level0 col0\" >PassengerId</th>        <th class=\"col_heading level0 col1\" >Survived</th>        <th class=\"col_heading level0 col2\" >Pclass</th>        <th class=\"col_heading level0 col3\" >Age</th>        <th class=\"col_heading level0 col4\" >SibSp</th>        <th class=\"col_heading level0 col5\" >Parch</th>        <th class=\"col_heading level0 col6\" >Fare</th>    </tr></thead><tbody>\n                <tr>\n                        <th id=\"T_21fcf326_7ab3_11ea_b3b6_54a050d383aelevel0_row0\" class=\"row_heading level0 row0\" >PassengerId</th>\n                        <td id=\"T_21fcf326_7ab3_11ea_b3b6_54a050d383aerow0_col0\" class=\"data row0 col0\" >1.0</td>\n                        <td id=\"T_21fcf326_7ab3_11ea_b3b6_54a050d383aerow0_col1\" class=\"data row0 col1\" >-0.005</td>\n                        <td id=\"T_21fcf326_7ab3_11ea_b3b6_54a050d383aerow0_col2\" class=\"data row0 col2\" >-0.035</td>\n                        <td id=\"T_21fcf326_7ab3_11ea_b3b6_54a050d383aerow0_col3\" class=\"data row0 col3\" >0.03</td>\n                        <td id=\"T_21fcf326_7ab3_11ea_b3b6_54a050d383aerow0_col4\" class=\"data row0 col4\" >-0.058</td>\n                        <td id=\"T_21fcf326_7ab3_11ea_b3b6_54a050d383aerow0_col5\" class=\"data row0 col5\" >-0.0017</td>\n                        <td id=\"T_21fcf326_7ab3_11ea_b3b6_54a050d383aerow0_col6\" class=\"data row0 col6\" >0.013</td>\n            </tr>\n            <tr>\n                        <th id=\"T_21fcf326_7ab3_11ea_b3b6_54a050d383aelevel0_row1\" class=\"row_heading level0 row1\" >Survived</th>\n                        <td id=\"T_21fcf326_7ab3_11ea_b3b6_54a050d383aerow1_col0\" class=\"data row1 col0\" >-0.005</td>\n                        <td id=\"T_21fcf326_7ab3_11ea_b3b6_54a050d383aerow1_col1\" class=\"data row1 col1\" >1.0</td>\n                        <td id=\"T_21fcf326_7ab3_11ea_b3b6_54a050d383aerow1_col2\" class=\"data row1 col2\" >-0.34</td>\n                        <td id=\"T_21fcf326_7ab3_11ea_b3b6_54a050d383aerow1_col3\" class=\"data row1 col3\" >-0.075</td>\n                        <td id=\"T_21fcf326_7ab3_11ea_b3b6_54a050d383aerow1_col4\" class=\"data row1 col4\" >-0.034</td>\n                        <td id=\"T_21fcf326_7ab3_11ea_b3b6_54a050d383aerow1_col5\" class=\"data row1 col5\" >0.083</td>\n                        <td id=\"T_21fcf326_7ab3_11ea_b3b6_54a050d383aerow1_col6\" class=\"data row1 col6\" >0.26</td>\n            </tr>\n            <tr>\n                        <th id=\"T_21fcf326_7ab3_11ea_b3b6_54a050d383aelevel0_row2\" class=\"row_heading level0 row2\" >Pclass</th>\n                        <td id=\"T_21fcf326_7ab3_11ea_b3b6_54a050d383aerow2_col0\" class=\"data row2 col0\" >-0.035</td>\n                        <td id=\"T_21fcf326_7ab3_11ea_b3b6_54a050d383aerow2_col1\" class=\"data row2 col1\" >-0.34</td>\n                        <td id=\"T_21fcf326_7ab3_11ea_b3b6_54a050d383aerow2_col2\" class=\"data row2 col2\" >1.0</td>\n                        <td id=\"T_21fcf326_7ab3_11ea_b3b6_54a050d383aerow2_col3\" class=\"data row2 col3\" >-0.33</td>\n                        <td id=\"T_21fcf326_7ab3_11ea_b3b6_54a050d383aerow2_col4\" class=\"data row2 col4\" >0.082</td>\n                        <td id=\"T_21fcf326_7ab3_11ea_b3b6_54a050d383aerow2_col5\" class=\"data row2 col5\" >0.017</td>\n                        <td id=\"T_21fcf326_7ab3_11ea_b3b6_54a050d383aerow2_col6\" class=\"data row2 col6\" >-0.55</td>\n            </tr>\n            <tr>\n                        <th id=\"T_21fcf326_7ab3_11ea_b3b6_54a050d383aelevel0_row3\" class=\"row_heading level0 row3\" >Age</th>\n                        <td id=\"T_21fcf326_7ab3_11ea_b3b6_54a050d383aerow3_col0\" class=\"data row3 col0\" >0.03</td>\n                        <td id=\"T_21fcf326_7ab3_11ea_b3b6_54a050d383aerow3_col1\" class=\"data row3 col1\" >-0.075</td>\n                        <td id=\"T_21fcf326_7ab3_11ea_b3b6_54a050d383aerow3_col2\" class=\"data row3 col2\" >-0.33</td>\n                        <td id=\"T_21fcf326_7ab3_11ea_b3b6_54a050d383aerow3_col3\" class=\"data row3 col3\" >1.0</td>\n                        <td id=\"T_21fcf326_7ab3_11ea_b3b6_54a050d383aerow3_col4\" class=\"data row3 col4\" >-0.23</td>\n                        <td id=\"T_21fcf326_7ab3_11ea_b3b6_54a050d383aerow3_col5\" class=\"data row3 col5\" >-0.18</td>\n                        <td id=\"T_21fcf326_7ab3_11ea_b3b6_54a050d383aerow3_col6\" class=\"data row3 col6\" >0.089</td>\n            </tr>\n            <tr>\n                        <th id=\"T_21fcf326_7ab3_11ea_b3b6_54a050d383aelevel0_row4\" class=\"row_heading level0 row4\" >SibSp</th>\n                        <td id=\"T_21fcf326_7ab3_11ea_b3b6_54a050d383aerow4_col0\" class=\"data row4 col0\" >-0.058</td>\n                        <td id=\"T_21fcf326_7ab3_11ea_b3b6_54a050d383aerow4_col1\" class=\"data row4 col1\" >-0.034</td>\n                        <td id=\"T_21fcf326_7ab3_11ea_b3b6_54a050d383aerow4_col2\" class=\"data row4 col2\" >0.082</td>\n                        <td id=\"T_21fcf326_7ab3_11ea_b3b6_54a050d383aerow4_col3\" class=\"data row4 col3\" >-0.23</td>\n                        <td id=\"T_21fcf326_7ab3_11ea_b3b6_54a050d383aerow4_col4\" class=\"data row4 col4\" >1.0</td>\n                        <td id=\"T_21fcf326_7ab3_11ea_b3b6_54a050d383aerow4_col5\" class=\"data row4 col5\" >0.41</td>\n                        <td id=\"T_21fcf326_7ab3_11ea_b3b6_54a050d383aerow4_col6\" class=\"data row4 col6\" >0.16</td>\n            </tr>\n            <tr>\n                        <th id=\"T_21fcf326_7ab3_11ea_b3b6_54a050d383aelevel0_row5\" class=\"row_heading level0 row5\" >Parch</th>\n                        <td id=\"T_21fcf326_7ab3_11ea_b3b6_54a050d383aerow5_col0\" class=\"data row5 col0\" >-0.0017</td>\n                        <td id=\"T_21fcf326_7ab3_11ea_b3b6_54a050d383aerow5_col1\" class=\"data row5 col1\" >0.083</td>\n                        <td id=\"T_21fcf326_7ab3_11ea_b3b6_54a050d383aerow5_col2\" class=\"data row5 col2\" >0.017</td>\n                        <td id=\"T_21fcf326_7ab3_11ea_b3b6_54a050d383aerow5_col3\" class=\"data row5 col3\" >-0.18</td>\n                        <td id=\"T_21fcf326_7ab3_11ea_b3b6_54a050d383aerow5_col4\" class=\"data row5 col4\" >0.41</td>\n                        <td id=\"T_21fcf326_7ab3_11ea_b3b6_54a050d383aerow5_col5\" class=\"data row5 col5\" >1.0</td>\n                        <td id=\"T_21fcf326_7ab3_11ea_b3b6_54a050d383aerow5_col6\" class=\"data row5 col6\" >0.22</td>\n            </tr>\n            <tr>\n                        <th id=\"T_21fcf326_7ab3_11ea_b3b6_54a050d383aelevel0_row6\" class=\"row_heading level0 row6\" >Fare</th>\n                        <td id=\"T_21fcf326_7ab3_11ea_b3b6_54a050d383aerow6_col0\" class=\"data row6 col0\" >0.013</td>\n                        <td id=\"T_21fcf326_7ab3_11ea_b3b6_54a050d383aerow6_col1\" class=\"data row6 col1\" >0.26</td>\n                        <td id=\"T_21fcf326_7ab3_11ea_b3b6_54a050d383aerow6_col2\" class=\"data row6 col2\" >-0.55</td>\n                        <td id=\"T_21fcf326_7ab3_11ea_b3b6_54a050d383aerow6_col3\" class=\"data row6 col3\" >0.089</td>\n                        <td id=\"T_21fcf326_7ab3_11ea_b3b6_54a050d383aerow6_col4\" class=\"data row6 col4\" >0.16</td>\n                        <td id=\"T_21fcf326_7ab3_11ea_b3b6_54a050d383aerow6_col5\" class=\"data row6 col5\" >0.22</td>\n                        <td id=\"T_21fcf326_7ab3_11ea_b3b6_54a050d383aerow6_col6\" class=\"data row6 col6\" >1.0</td>\n            </tr>\n    </tbody></table>"
     },
     "metadata": {},
     "execution_count": 9
    }
   ],
   "source": [
    "train.corr(method='pearson').style.format(\"{:.2}\").background_gradient(cmap=plt.get_cmap('coolwarm'))"
   ]
  },
  {
   "cell_type": "code",
   "execution_count": 10,
   "metadata": {},
   "outputs": [
    {
     "output_type": "execute_result",
     "data": {
      "text/plain": "Sex     Survived\nfemale  1           231\n        0            81\nmale    0           468\n        1           109\nName: Survived, dtype: int64"
     },
     "metadata": {},
     "execution_count": 10
    }
   ],
   "source": [
    "train.Survived.groupby(train.Sex).value_counts()"
   ]
  },
  {
   "cell_type": "code",
   "execution_count": 11,
   "metadata": {},
   "outputs": [
    {
     "output_type": "display_data",
     "data": {
      "application/vnd.plotly.v1+json": {
       "config": {
        "plotlyServerURL": "https://plot.ly"
       },
       "data": [
        {
         "name": "Morts",
         "type": "bar",
         "x": [
          "female",
          "male"
         ],
         "y": [
          81,
          468
         ]
        },
        {
         "name": "En vie",
         "type": "bar",
         "x": [
          "female",
          "male"
         ],
         "y": [
          231,
          109
         ]
        }
       ],
       "layout": {
        "barmode": "group",
        "template": {
         "data": {
          "bar": [
           {
            "error_x": {
             "color": "#2a3f5f"
            },
            "error_y": {
             "color": "#2a3f5f"
            },
            "marker": {
             "line": {
              "color": "#E5ECF6",
              "width": 0.5
             }
            },
            "type": "bar"
           }
          ],
          "barpolar": [
           {
            "marker": {
             "line": {
              "color": "#E5ECF6",
              "width": 0.5
             }
            },
            "type": "barpolar"
           }
          ],
          "carpet": [
           {
            "aaxis": {
             "endlinecolor": "#2a3f5f",
             "gridcolor": "white",
             "linecolor": "white",
             "minorgridcolor": "white",
             "startlinecolor": "#2a3f5f"
            },
            "baxis": {
             "endlinecolor": "#2a3f5f",
             "gridcolor": "white",
             "linecolor": "white",
             "minorgridcolor": "white",
             "startlinecolor": "#2a3f5f"
            },
            "type": "carpet"
           }
          ],
          "choropleth": [
           {
            "colorbar": {
             "outlinewidth": 0,
             "ticks": ""
            },
            "type": "choropleth"
           }
          ],
          "contour": [
           {
            "colorbar": {
             "outlinewidth": 0,
             "ticks": ""
            },
            "colorscale": [
             [
              0,
              "#0d0887"
             ],
             [
              0.1111111111111111,
              "#46039f"
             ],
             [
              0.2222222222222222,
              "#7201a8"
             ],
             [
              0.3333333333333333,
              "#9c179e"
             ],
             [
              0.4444444444444444,
              "#bd3786"
             ],
             [
              0.5555555555555556,
              "#d8576b"
             ],
             [
              0.6666666666666666,
              "#ed7953"
             ],
             [
              0.7777777777777778,
              "#fb9f3a"
             ],
             [
              0.8888888888888888,
              "#fdca26"
             ],
             [
              1,
              "#f0f921"
             ]
            ],
            "type": "contour"
           }
          ],
          "contourcarpet": [
           {
            "colorbar": {
             "outlinewidth": 0,
             "ticks": ""
            },
            "type": "contourcarpet"
           }
          ],
          "heatmap": [
           {
            "colorbar": {
             "outlinewidth": 0,
             "ticks": ""
            },
            "colorscale": [
             [
              0,
              "#0d0887"
             ],
             [
              0.1111111111111111,
              "#46039f"
             ],
             [
              0.2222222222222222,
              "#7201a8"
             ],
             [
              0.3333333333333333,
              "#9c179e"
             ],
             [
              0.4444444444444444,
              "#bd3786"
             ],
             [
              0.5555555555555556,
              "#d8576b"
             ],
             [
              0.6666666666666666,
              "#ed7953"
             ],
             [
              0.7777777777777778,
              "#fb9f3a"
             ],
             [
              0.8888888888888888,
              "#fdca26"
             ],
             [
              1,
              "#f0f921"
             ]
            ],
            "type": "heatmap"
           }
          ],
          "heatmapgl": [
           {
            "colorbar": {
             "outlinewidth": 0,
             "ticks": ""
            },
            "colorscale": [
             [
              0,
              "#0d0887"
             ],
             [
              0.1111111111111111,
              "#46039f"
             ],
             [
              0.2222222222222222,
              "#7201a8"
             ],
             [
              0.3333333333333333,
              "#9c179e"
             ],
             [
              0.4444444444444444,
              "#bd3786"
             ],
             [
              0.5555555555555556,
              "#d8576b"
             ],
             [
              0.6666666666666666,
              "#ed7953"
             ],
             [
              0.7777777777777778,
              "#fb9f3a"
             ],
             [
              0.8888888888888888,
              "#fdca26"
             ],
             [
              1,
              "#f0f921"
             ]
            ],
            "type": "heatmapgl"
           }
          ],
          "histogram": [
           {
            "marker": {
             "colorbar": {
              "outlinewidth": 0,
              "ticks": ""
             }
            },
            "type": "histogram"
           }
          ],
          "histogram2d": [
           {
            "colorbar": {
             "outlinewidth": 0,
             "ticks": ""
            },
            "colorscale": [
             [
              0,
              "#0d0887"
             ],
             [
              0.1111111111111111,
              "#46039f"
             ],
             [
              0.2222222222222222,
              "#7201a8"
             ],
             [
              0.3333333333333333,
              "#9c179e"
             ],
             [
              0.4444444444444444,
              "#bd3786"
             ],
             [
              0.5555555555555556,
              "#d8576b"
             ],
             [
              0.6666666666666666,
              "#ed7953"
             ],
             [
              0.7777777777777778,
              "#fb9f3a"
             ],
             [
              0.8888888888888888,
              "#fdca26"
             ],
             [
              1,
              "#f0f921"
             ]
            ],
            "type": "histogram2d"
           }
          ],
          "histogram2dcontour": [
           {
            "colorbar": {
             "outlinewidth": 0,
             "ticks": ""
            },
            "colorscale": [
             [
              0,
              "#0d0887"
             ],
             [
              0.1111111111111111,
              "#46039f"
             ],
             [
              0.2222222222222222,
              "#7201a8"
             ],
             [
              0.3333333333333333,
              "#9c179e"
             ],
             [
              0.4444444444444444,
              "#bd3786"
             ],
             [
              0.5555555555555556,
              "#d8576b"
             ],
             [
              0.6666666666666666,
              "#ed7953"
             ],
             [
              0.7777777777777778,
              "#fb9f3a"
             ],
             [
              0.8888888888888888,
              "#fdca26"
             ],
             [
              1,
              "#f0f921"
             ]
            ],
            "type": "histogram2dcontour"
           }
          ],
          "mesh3d": [
           {
            "colorbar": {
             "outlinewidth": 0,
             "ticks": ""
            },
            "type": "mesh3d"
           }
          ],
          "parcoords": [
           {
            "line": {
             "colorbar": {
              "outlinewidth": 0,
              "ticks": ""
             }
            },
            "type": "parcoords"
           }
          ],
          "pie": [
           {
            "automargin": true,
            "type": "pie"
           }
          ],
          "scatter": [
           {
            "marker": {
             "colorbar": {
              "outlinewidth": 0,
              "ticks": ""
             }
            },
            "type": "scatter"
           }
          ],
          "scatter3d": [
           {
            "line": {
             "colorbar": {
              "outlinewidth": 0,
              "ticks": ""
             }
            },
            "marker": {
             "colorbar": {
              "outlinewidth": 0,
              "ticks": ""
             }
            },
            "type": "scatter3d"
           }
          ],
          "scattercarpet": [
           {
            "marker": {
             "colorbar": {
              "outlinewidth": 0,
              "ticks": ""
             }
            },
            "type": "scattercarpet"
           }
          ],
          "scattergeo": [
           {
            "marker": {
             "colorbar": {
              "outlinewidth": 0,
              "ticks": ""
             }
            },
            "type": "scattergeo"
           }
          ],
          "scattergl": [
           {
            "marker": {
             "colorbar": {
              "outlinewidth": 0,
              "ticks": ""
             }
            },
            "type": "scattergl"
           }
          ],
          "scattermapbox": [
           {
            "marker": {
             "colorbar": {
              "outlinewidth": 0,
              "ticks": ""
             }
            },
            "type": "scattermapbox"
           }
          ],
          "scatterpolar": [
           {
            "marker": {
             "colorbar": {
              "outlinewidth": 0,
              "ticks": ""
             }
            },
            "type": "scatterpolar"
           }
          ],
          "scatterpolargl": [
           {
            "marker": {
             "colorbar": {
              "outlinewidth": 0,
              "ticks": ""
             }
            },
            "type": "scatterpolargl"
           }
          ],
          "scatterternary": [
           {
            "marker": {
             "colorbar": {
              "outlinewidth": 0,
              "ticks": ""
             }
            },
            "type": "scatterternary"
           }
          ],
          "surface": [
           {
            "colorbar": {
             "outlinewidth": 0,
             "ticks": ""
            },
            "colorscale": [
             [
              0,
              "#0d0887"
             ],
             [
              0.1111111111111111,
              "#46039f"
             ],
             [
              0.2222222222222222,
              "#7201a8"
             ],
             [
              0.3333333333333333,
              "#9c179e"
             ],
             [
              0.4444444444444444,
              "#bd3786"
             ],
             [
              0.5555555555555556,
              "#d8576b"
             ],
             [
              0.6666666666666666,
              "#ed7953"
             ],
             [
              0.7777777777777778,
              "#fb9f3a"
             ],
             [
              0.8888888888888888,
              "#fdca26"
             ],
             [
              1,
              "#f0f921"
             ]
            ],
            "type": "surface"
           }
          ],
          "table": [
           {
            "cells": {
             "fill": {
              "color": "#EBF0F8"
             },
             "line": {
              "color": "white"
             }
            },
            "header": {
             "fill": {
              "color": "#C8D4E3"
             },
             "line": {
              "color": "white"
             }
            },
            "type": "table"
           }
          ]
         },
         "layout": {
          "annotationdefaults": {
           "arrowcolor": "#2a3f5f",
           "arrowhead": 0,
           "arrowwidth": 1
          },
          "coloraxis": {
           "colorbar": {
            "outlinewidth": 0,
            "ticks": ""
           }
          },
          "colorscale": {
           "diverging": [
            [
             0,
             "#8e0152"
            ],
            [
             0.1,
             "#c51b7d"
            ],
            [
             0.2,
             "#de77ae"
            ],
            [
             0.3,
             "#f1b6da"
            ],
            [
             0.4,
             "#fde0ef"
            ],
            [
             0.5,
             "#f7f7f7"
            ],
            [
             0.6,
             "#e6f5d0"
            ],
            [
             0.7,
             "#b8e186"
            ],
            [
             0.8,
             "#7fbc41"
            ],
            [
             0.9,
             "#4d9221"
            ],
            [
             1,
             "#276419"
            ]
           ],
           "sequential": [
            [
             0,
             "#0d0887"
            ],
            [
             0.1111111111111111,
             "#46039f"
            ],
            [
             0.2222222222222222,
             "#7201a8"
            ],
            [
             0.3333333333333333,
             "#9c179e"
            ],
            [
             0.4444444444444444,
             "#bd3786"
            ],
            [
             0.5555555555555556,
             "#d8576b"
            ],
            [
             0.6666666666666666,
             "#ed7953"
            ],
            [
             0.7777777777777778,
             "#fb9f3a"
            ],
            [
             0.8888888888888888,
             "#fdca26"
            ],
            [
             1,
             "#f0f921"
            ]
           ],
           "sequentialminus": [
            [
             0,
             "#0d0887"
            ],
            [
             0.1111111111111111,
             "#46039f"
            ],
            [
             0.2222222222222222,
             "#7201a8"
            ],
            [
             0.3333333333333333,
             "#9c179e"
            ],
            [
             0.4444444444444444,
             "#bd3786"
            ],
            [
             0.5555555555555556,
             "#d8576b"
            ],
            [
             0.6666666666666666,
             "#ed7953"
            ],
            [
             0.7777777777777778,
             "#fb9f3a"
            ],
            [
             0.8888888888888888,
             "#fdca26"
            ],
            [
             1,
             "#f0f921"
            ]
           ]
          },
          "colorway": [
           "#636efa",
           "#EF553B",
           "#00cc96",
           "#ab63fa",
           "#FFA15A",
           "#19d3f3",
           "#FF6692",
           "#B6E880",
           "#FF97FF",
           "#FECB52"
          ],
          "font": {
           "color": "#2a3f5f"
          },
          "geo": {
           "bgcolor": "white",
           "lakecolor": "white",
           "landcolor": "#E5ECF6",
           "showlakes": true,
           "showland": true,
           "subunitcolor": "white"
          },
          "hoverlabel": {
           "align": "left"
          },
          "hovermode": "closest",
          "mapbox": {
           "style": "light"
          },
          "paper_bgcolor": "white",
          "plot_bgcolor": "#E5ECF6",
          "polar": {
           "angularaxis": {
            "gridcolor": "white",
            "linecolor": "white",
            "ticks": ""
           },
           "bgcolor": "#E5ECF6",
           "radialaxis": {
            "gridcolor": "white",
            "linecolor": "white",
            "ticks": ""
           }
          },
          "scene": {
           "xaxis": {
            "backgroundcolor": "#E5ECF6",
            "gridcolor": "white",
            "gridwidth": 2,
            "linecolor": "white",
            "showbackground": true,
            "ticks": "",
            "zerolinecolor": "white"
           },
           "yaxis": {
            "backgroundcolor": "#E5ECF6",
            "gridcolor": "white",
            "gridwidth": 2,
            "linecolor": "white",
            "showbackground": true,
            "ticks": "",
            "zerolinecolor": "white"
           },
           "zaxis": {
            "backgroundcolor": "#E5ECF6",
            "gridcolor": "white",
            "gridwidth": 2,
            "linecolor": "white",
            "showbackground": true,
            "ticks": "",
            "zerolinecolor": "white"
           }
          },
          "shapedefaults": {
           "line": {
            "color": "#2a3f5f"
           }
          },
          "ternary": {
           "aaxis": {
            "gridcolor": "white",
            "linecolor": "white",
            "ticks": ""
           },
           "baxis": {
            "gridcolor": "white",
            "linecolor": "white",
            "ticks": ""
           },
           "bgcolor": "#E5ECF6",
           "caxis": {
            "gridcolor": "white",
            "linecolor": "white",
            "ticks": ""
           }
          },
          "title": {
           "x": 0.05
          },
          "xaxis": {
           "automargin": true,
           "gridcolor": "white",
           "linecolor": "white",
           "ticks": "",
           "title": {
            "standoff": 15
           },
           "zerolinecolor": "white",
           "zerolinewidth": 2
          },
          "yaxis": {
           "automargin": true,
           "gridcolor": "white",
           "linecolor": "white",
           "ticks": "",
           "title": {
            "standoff": 15
           },
           "zerolinecolor": "white",
           "zerolinewidth": 2
          }
         }
        },
        "title": {
         "text": "Etat des passager en fonction du sexe",
         "x": 0.5,
         "xanchor": "center",
         "y": 0.9,
         "yanchor": "top"
        }
       }
      }
     },
     "metadata": {}
    }
   ],
   "source": [
    "labels1 = train.Sex[train.Survived == 0].groupby(train.Sex).count().index\n",
    "labels2 = train.Sex[train.Survived == 1].groupby(train.Sex).count().index\n",
    "values1 = train.Sex[train.Survived == 0].groupby(train.Sex).count().values\n",
    "values2 = train.Sex[train.Survived == 1].groupby(train.Sex).count().values\n",
    "\n",
    "fig1 = go.Figure(data=[\n",
    "    go.Bar(name='Morts', x=labels1, y=values1),\n",
    "    go.Bar(name='En vie', x=labels2, y=values2)\n",
    "])\n",
    "\n",
    "title = \"Etat des passager en fonction du sexe\"\n",
    "# Change the bar mode\n",
    "fig1.update_layout(title={'text' : title, 'y':0.9, 'x':0.5, 'xanchor': 'center', 'yanchor': 'top'}, barmode='group')\n",
    "fig1.show()"
   ]
  },
  {
   "cell_type": "code",
   "execution_count": 12,
   "metadata": {},
   "outputs": [
    {
     "output_type": "execute_result",
     "data": {
      "text/plain": "Pclass  Survived\n1       1           134\n        0            80\n2       0            97\n        1            87\n3       0           372\n        1           119\nName: Survived, dtype: int64"
     },
     "metadata": {},
     "execution_count": 12
    }
   ],
   "source": [
    "train.Survived.groupby(train.Pclass).value_counts()"
   ]
  },
  {
   "cell_type": "code",
   "execution_count": 13,
   "metadata": {},
   "outputs": [
    {
     "output_type": "display_data",
     "data": {
      "application/vnd.plotly.v1+json": {
       "config": {
        "plotlyServerURL": "https://plot.ly"
       },
       "data": [
        {
         "name": "Morts",
         "type": "bar",
         "x": [
          1,
          2,
          3
         ],
         "y": [
          80,
          97,
          372
         ]
        },
        {
         "name": "En vie",
         "type": "bar",
         "x": [
          1,
          2,
          3
         ],
         "y": [
          134,
          87,
          119
         ]
        }
       ],
       "layout": {
        "barmode": "group",
        "template": {
         "data": {
          "bar": [
           {
            "error_x": {
             "color": "#2a3f5f"
            },
            "error_y": {
             "color": "#2a3f5f"
            },
            "marker": {
             "line": {
              "color": "#E5ECF6",
              "width": 0.5
             }
            },
            "type": "bar"
           }
          ],
          "barpolar": [
           {
            "marker": {
             "line": {
              "color": "#E5ECF6",
              "width": 0.5
             }
            },
            "type": "barpolar"
           }
          ],
          "carpet": [
           {
            "aaxis": {
             "endlinecolor": "#2a3f5f",
             "gridcolor": "white",
             "linecolor": "white",
             "minorgridcolor": "white",
             "startlinecolor": "#2a3f5f"
            },
            "baxis": {
             "endlinecolor": "#2a3f5f",
             "gridcolor": "white",
             "linecolor": "white",
             "minorgridcolor": "white",
             "startlinecolor": "#2a3f5f"
            },
            "type": "carpet"
           }
          ],
          "choropleth": [
           {
            "colorbar": {
             "outlinewidth": 0,
             "ticks": ""
            },
            "type": "choropleth"
           }
          ],
          "contour": [
           {
            "colorbar": {
             "outlinewidth": 0,
             "ticks": ""
            },
            "colorscale": [
             [
              0,
              "#0d0887"
             ],
             [
              0.1111111111111111,
              "#46039f"
             ],
             [
              0.2222222222222222,
              "#7201a8"
             ],
             [
              0.3333333333333333,
              "#9c179e"
             ],
             [
              0.4444444444444444,
              "#bd3786"
             ],
             [
              0.5555555555555556,
              "#d8576b"
             ],
             [
              0.6666666666666666,
              "#ed7953"
             ],
             [
              0.7777777777777778,
              "#fb9f3a"
             ],
             [
              0.8888888888888888,
              "#fdca26"
             ],
             [
              1,
              "#f0f921"
             ]
            ],
            "type": "contour"
           }
          ],
          "contourcarpet": [
           {
            "colorbar": {
             "outlinewidth": 0,
             "ticks": ""
            },
            "type": "contourcarpet"
           }
          ],
          "heatmap": [
           {
            "colorbar": {
             "outlinewidth": 0,
             "ticks": ""
            },
            "colorscale": [
             [
              0,
              "#0d0887"
             ],
             [
              0.1111111111111111,
              "#46039f"
             ],
             [
              0.2222222222222222,
              "#7201a8"
             ],
             [
              0.3333333333333333,
              "#9c179e"
             ],
             [
              0.4444444444444444,
              "#bd3786"
             ],
             [
              0.5555555555555556,
              "#d8576b"
             ],
             [
              0.6666666666666666,
              "#ed7953"
             ],
             [
              0.7777777777777778,
              "#fb9f3a"
             ],
             [
              0.8888888888888888,
              "#fdca26"
             ],
             [
              1,
              "#f0f921"
             ]
            ],
            "type": "heatmap"
           }
          ],
          "heatmapgl": [
           {
            "colorbar": {
             "outlinewidth": 0,
             "ticks": ""
            },
            "colorscale": [
             [
              0,
              "#0d0887"
             ],
             [
              0.1111111111111111,
              "#46039f"
             ],
             [
              0.2222222222222222,
              "#7201a8"
             ],
             [
              0.3333333333333333,
              "#9c179e"
             ],
             [
              0.4444444444444444,
              "#bd3786"
             ],
             [
              0.5555555555555556,
              "#d8576b"
             ],
             [
              0.6666666666666666,
              "#ed7953"
             ],
             [
              0.7777777777777778,
              "#fb9f3a"
             ],
             [
              0.8888888888888888,
              "#fdca26"
             ],
             [
              1,
              "#f0f921"
             ]
            ],
            "type": "heatmapgl"
           }
          ],
          "histogram": [
           {
            "marker": {
             "colorbar": {
              "outlinewidth": 0,
              "ticks": ""
             }
            },
            "type": "histogram"
           }
          ],
          "histogram2d": [
           {
            "colorbar": {
             "outlinewidth": 0,
             "ticks": ""
            },
            "colorscale": [
             [
              0,
              "#0d0887"
             ],
             [
              0.1111111111111111,
              "#46039f"
             ],
             [
              0.2222222222222222,
              "#7201a8"
             ],
             [
              0.3333333333333333,
              "#9c179e"
             ],
             [
              0.4444444444444444,
              "#bd3786"
             ],
             [
              0.5555555555555556,
              "#d8576b"
             ],
             [
              0.6666666666666666,
              "#ed7953"
             ],
             [
              0.7777777777777778,
              "#fb9f3a"
             ],
             [
              0.8888888888888888,
              "#fdca26"
             ],
             [
              1,
              "#f0f921"
             ]
            ],
            "type": "histogram2d"
           }
          ],
          "histogram2dcontour": [
           {
            "colorbar": {
             "outlinewidth": 0,
             "ticks": ""
            },
            "colorscale": [
             [
              0,
              "#0d0887"
             ],
             [
              0.1111111111111111,
              "#46039f"
             ],
             [
              0.2222222222222222,
              "#7201a8"
             ],
             [
              0.3333333333333333,
              "#9c179e"
             ],
             [
              0.4444444444444444,
              "#bd3786"
             ],
             [
              0.5555555555555556,
              "#d8576b"
             ],
             [
              0.6666666666666666,
              "#ed7953"
             ],
             [
              0.7777777777777778,
              "#fb9f3a"
             ],
             [
              0.8888888888888888,
              "#fdca26"
             ],
             [
              1,
              "#f0f921"
             ]
            ],
            "type": "histogram2dcontour"
           }
          ],
          "mesh3d": [
           {
            "colorbar": {
             "outlinewidth": 0,
             "ticks": ""
            },
            "type": "mesh3d"
           }
          ],
          "parcoords": [
           {
            "line": {
             "colorbar": {
              "outlinewidth": 0,
              "ticks": ""
             }
            },
            "type": "parcoords"
           }
          ],
          "pie": [
           {
            "automargin": true,
            "type": "pie"
           }
          ],
          "scatter": [
           {
            "marker": {
             "colorbar": {
              "outlinewidth": 0,
              "ticks": ""
             }
            },
            "type": "scatter"
           }
          ],
          "scatter3d": [
           {
            "line": {
             "colorbar": {
              "outlinewidth": 0,
              "ticks": ""
             }
            },
            "marker": {
             "colorbar": {
              "outlinewidth": 0,
              "ticks": ""
             }
            },
            "type": "scatter3d"
           }
          ],
          "scattercarpet": [
           {
            "marker": {
             "colorbar": {
              "outlinewidth": 0,
              "ticks": ""
             }
            },
            "type": "scattercarpet"
           }
          ],
          "scattergeo": [
           {
            "marker": {
             "colorbar": {
              "outlinewidth": 0,
              "ticks": ""
             }
            },
            "type": "scattergeo"
           }
          ],
          "scattergl": [
           {
            "marker": {
             "colorbar": {
              "outlinewidth": 0,
              "ticks": ""
             }
            },
            "type": "scattergl"
           }
          ],
          "scattermapbox": [
           {
            "marker": {
             "colorbar": {
              "outlinewidth": 0,
              "ticks": ""
             }
            },
            "type": "scattermapbox"
           }
          ],
          "scatterpolar": [
           {
            "marker": {
             "colorbar": {
              "outlinewidth": 0,
              "ticks": ""
             }
            },
            "type": "scatterpolar"
           }
          ],
          "scatterpolargl": [
           {
            "marker": {
             "colorbar": {
              "outlinewidth": 0,
              "ticks": ""
             }
            },
            "type": "scatterpolargl"
           }
          ],
          "scatterternary": [
           {
            "marker": {
             "colorbar": {
              "outlinewidth": 0,
              "ticks": ""
             }
            },
            "type": "scatterternary"
           }
          ],
          "surface": [
           {
            "colorbar": {
             "outlinewidth": 0,
             "ticks": ""
            },
            "colorscale": [
             [
              0,
              "#0d0887"
             ],
             [
              0.1111111111111111,
              "#46039f"
             ],
             [
              0.2222222222222222,
              "#7201a8"
             ],
             [
              0.3333333333333333,
              "#9c179e"
             ],
             [
              0.4444444444444444,
              "#bd3786"
             ],
             [
              0.5555555555555556,
              "#d8576b"
             ],
             [
              0.6666666666666666,
              "#ed7953"
             ],
             [
              0.7777777777777778,
              "#fb9f3a"
             ],
             [
              0.8888888888888888,
              "#fdca26"
             ],
             [
              1,
              "#f0f921"
             ]
            ],
            "type": "surface"
           }
          ],
          "table": [
           {
            "cells": {
             "fill": {
              "color": "#EBF0F8"
             },
             "line": {
              "color": "white"
             }
            },
            "header": {
             "fill": {
              "color": "#C8D4E3"
             },
             "line": {
              "color": "white"
             }
            },
            "type": "table"
           }
          ]
         },
         "layout": {
          "annotationdefaults": {
           "arrowcolor": "#2a3f5f",
           "arrowhead": 0,
           "arrowwidth": 1
          },
          "coloraxis": {
           "colorbar": {
            "outlinewidth": 0,
            "ticks": ""
           }
          },
          "colorscale": {
           "diverging": [
            [
             0,
             "#8e0152"
            ],
            [
             0.1,
             "#c51b7d"
            ],
            [
             0.2,
             "#de77ae"
            ],
            [
             0.3,
             "#f1b6da"
            ],
            [
             0.4,
             "#fde0ef"
            ],
            [
             0.5,
             "#f7f7f7"
            ],
            [
             0.6,
             "#e6f5d0"
            ],
            [
             0.7,
             "#b8e186"
            ],
            [
             0.8,
             "#7fbc41"
            ],
            [
             0.9,
             "#4d9221"
            ],
            [
             1,
             "#276419"
            ]
           ],
           "sequential": [
            [
             0,
             "#0d0887"
            ],
            [
             0.1111111111111111,
             "#46039f"
            ],
            [
             0.2222222222222222,
             "#7201a8"
            ],
            [
             0.3333333333333333,
             "#9c179e"
            ],
            [
             0.4444444444444444,
             "#bd3786"
            ],
            [
             0.5555555555555556,
             "#d8576b"
            ],
            [
             0.6666666666666666,
             "#ed7953"
            ],
            [
             0.7777777777777778,
             "#fb9f3a"
            ],
            [
             0.8888888888888888,
             "#fdca26"
            ],
            [
             1,
             "#f0f921"
            ]
           ],
           "sequentialminus": [
            [
             0,
             "#0d0887"
            ],
            [
             0.1111111111111111,
             "#46039f"
            ],
            [
             0.2222222222222222,
             "#7201a8"
            ],
            [
             0.3333333333333333,
             "#9c179e"
            ],
            [
             0.4444444444444444,
             "#bd3786"
            ],
            [
             0.5555555555555556,
             "#d8576b"
            ],
            [
             0.6666666666666666,
             "#ed7953"
            ],
            [
             0.7777777777777778,
             "#fb9f3a"
            ],
            [
             0.8888888888888888,
             "#fdca26"
            ],
            [
             1,
             "#f0f921"
            ]
           ]
          },
          "colorway": [
           "#636efa",
           "#EF553B",
           "#00cc96",
           "#ab63fa",
           "#FFA15A",
           "#19d3f3",
           "#FF6692",
           "#B6E880",
           "#FF97FF",
           "#FECB52"
          ],
          "font": {
           "color": "#2a3f5f"
          },
          "geo": {
           "bgcolor": "white",
           "lakecolor": "white",
           "landcolor": "#E5ECF6",
           "showlakes": true,
           "showland": true,
           "subunitcolor": "white"
          },
          "hoverlabel": {
           "align": "left"
          },
          "hovermode": "closest",
          "mapbox": {
           "style": "light"
          },
          "paper_bgcolor": "white",
          "plot_bgcolor": "#E5ECF6",
          "polar": {
           "angularaxis": {
            "gridcolor": "white",
            "linecolor": "white",
            "ticks": ""
           },
           "bgcolor": "#E5ECF6",
           "radialaxis": {
            "gridcolor": "white",
            "linecolor": "white",
            "ticks": ""
           }
          },
          "scene": {
           "xaxis": {
            "backgroundcolor": "#E5ECF6",
            "gridcolor": "white",
            "gridwidth": 2,
            "linecolor": "white",
            "showbackground": true,
            "ticks": "",
            "zerolinecolor": "white"
           },
           "yaxis": {
            "backgroundcolor": "#E5ECF6",
            "gridcolor": "white",
            "gridwidth": 2,
            "linecolor": "white",
            "showbackground": true,
            "ticks": "",
            "zerolinecolor": "white"
           },
           "zaxis": {
            "backgroundcolor": "#E5ECF6",
            "gridcolor": "white",
            "gridwidth": 2,
            "linecolor": "white",
            "showbackground": true,
            "ticks": "",
            "zerolinecolor": "white"
           }
          },
          "shapedefaults": {
           "line": {
            "color": "#2a3f5f"
           }
          },
          "ternary": {
           "aaxis": {
            "gridcolor": "white",
            "linecolor": "white",
            "ticks": ""
           },
           "baxis": {
            "gridcolor": "white",
            "linecolor": "white",
            "ticks": ""
           },
           "bgcolor": "#E5ECF6",
           "caxis": {
            "gridcolor": "white",
            "linecolor": "white",
            "ticks": ""
           }
          },
          "title": {
           "x": 0.05
          },
          "xaxis": {
           "automargin": true,
           "gridcolor": "white",
           "linecolor": "white",
           "ticks": "",
           "title": {
            "standoff": 15
           },
           "zerolinecolor": "white",
           "zerolinewidth": 2
          },
          "yaxis": {
           "automargin": true,
           "gridcolor": "white",
           "linecolor": "white",
           "ticks": "",
           "title": {
            "standoff": 15
           },
           "zerolinecolor": "white",
           "zerolinewidth": 2
          }
         }
        },
        "title": {
         "text": "Etat des passager en fonction de la classe de ticket",
         "x": 0.5,
         "xanchor": "center",
         "y": 0.9,
         "yanchor": "top"
        }
       }
      }
     },
     "metadata": {}
    }
   ],
   "source": [
    "labels1 = train.Pclass[train.Survived == 0].groupby(train.Pclass).count().index\n",
    "labels2 = train.Pclass[train.Survived == 1].groupby(train.Pclass).count().index\n",
    "values1 = train.Pclass[train.Survived == 0].groupby(train.Pclass).count().values\n",
    "values2 = train.Pclass[train.Survived == 1].groupby(train.Pclass).count().values\n",
    "\n",
    "\n",
    "fig2 = go.Figure(data=[\n",
    "    go.Bar(name='Morts', x=labels1, y=values1),\n",
    "    go.Bar(name='En vie', x=labels2, y=values2)\n",
    "])\n",
    "\n",
    "title = \"Etat des passager en fonction de la classe de ticket\"\n",
    "# Change the bar mode\n",
    "fig2.update_layout(title={'text' : title, 'y':0.9, 'x':0.5, 'xanchor': 'center', 'yanchor': 'top'}, barmode='group')\n",
    "fig2.show()"
   ]
  },
  {
   "cell_type": "code",
   "execution_count": 14,
   "metadata": {},
   "outputs": [
    {
     "output_type": "execute_result",
     "data": {
      "text/plain": "Embarked  Survived\nC         1            93\n          0            75\nQ         0            47\n          1            30\nS         0           427\n          1           217\nName: Survived, dtype: int64"
     },
     "metadata": {},
     "execution_count": 14
    }
   ],
   "source": [
    "train.Survived.groupby(train.Embarked).value_counts()"
   ]
  },
  {
   "cell_type": "code",
   "execution_count": 15,
   "metadata": {},
   "outputs": [
    {
     "output_type": "display_data",
     "data": {
      "application/vnd.plotly.v1+json": {
       "config": {
        "plotlyServerURL": "https://plot.ly"
       },
       "data": [
        {
         "name": "Morts",
         "type": "bar",
         "x": [
          "Cherbourg",
          "Queenstown",
          "Southampton"
         ],
         "y": [
          75,
          47,
          427
         ]
        },
        {
         "name": "En vie",
         "type": "bar",
         "x": [
          "Cherbourg",
          "Queenstown",
          "Southampton"
         ],
         "y": [
          93,
          30,
          217
         ]
        }
       ],
       "layout": {
        "barmode": "group",
        "template": {
         "data": {
          "bar": [
           {
            "error_x": {
             "color": "#2a3f5f"
            },
            "error_y": {
             "color": "#2a3f5f"
            },
            "marker": {
             "line": {
              "color": "#E5ECF6",
              "width": 0.5
             }
            },
            "type": "bar"
           }
          ],
          "barpolar": [
           {
            "marker": {
             "line": {
              "color": "#E5ECF6",
              "width": 0.5
             }
            },
            "type": "barpolar"
           }
          ],
          "carpet": [
           {
            "aaxis": {
             "endlinecolor": "#2a3f5f",
             "gridcolor": "white",
             "linecolor": "white",
             "minorgridcolor": "white",
             "startlinecolor": "#2a3f5f"
            },
            "baxis": {
             "endlinecolor": "#2a3f5f",
             "gridcolor": "white",
             "linecolor": "white",
             "minorgridcolor": "white",
             "startlinecolor": "#2a3f5f"
            },
            "type": "carpet"
           }
          ],
          "choropleth": [
           {
            "colorbar": {
             "outlinewidth": 0,
             "ticks": ""
            },
            "type": "choropleth"
           }
          ],
          "contour": [
           {
            "colorbar": {
             "outlinewidth": 0,
             "ticks": ""
            },
            "colorscale": [
             [
              0,
              "#0d0887"
             ],
             [
              0.1111111111111111,
              "#46039f"
             ],
             [
              0.2222222222222222,
              "#7201a8"
             ],
             [
              0.3333333333333333,
              "#9c179e"
             ],
             [
              0.4444444444444444,
              "#bd3786"
             ],
             [
              0.5555555555555556,
              "#d8576b"
             ],
             [
              0.6666666666666666,
              "#ed7953"
             ],
             [
              0.7777777777777778,
              "#fb9f3a"
             ],
             [
              0.8888888888888888,
              "#fdca26"
             ],
             [
              1,
              "#f0f921"
             ]
            ],
            "type": "contour"
           }
          ],
          "contourcarpet": [
           {
            "colorbar": {
             "outlinewidth": 0,
             "ticks": ""
            },
            "type": "contourcarpet"
           }
          ],
          "heatmap": [
           {
            "colorbar": {
             "outlinewidth": 0,
             "ticks": ""
            },
            "colorscale": [
             [
              0,
              "#0d0887"
             ],
             [
              0.1111111111111111,
              "#46039f"
             ],
             [
              0.2222222222222222,
              "#7201a8"
             ],
             [
              0.3333333333333333,
              "#9c179e"
             ],
             [
              0.4444444444444444,
              "#bd3786"
             ],
             [
              0.5555555555555556,
              "#d8576b"
             ],
             [
              0.6666666666666666,
              "#ed7953"
             ],
             [
              0.7777777777777778,
              "#fb9f3a"
             ],
             [
              0.8888888888888888,
              "#fdca26"
             ],
             [
              1,
              "#f0f921"
             ]
            ],
            "type": "heatmap"
           }
          ],
          "heatmapgl": [
           {
            "colorbar": {
             "outlinewidth": 0,
             "ticks": ""
            },
            "colorscale": [
             [
              0,
              "#0d0887"
             ],
             [
              0.1111111111111111,
              "#46039f"
             ],
             [
              0.2222222222222222,
              "#7201a8"
             ],
             [
              0.3333333333333333,
              "#9c179e"
             ],
             [
              0.4444444444444444,
              "#bd3786"
             ],
             [
              0.5555555555555556,
              "#d8576b"
             ],
             [
              0.6666666666666666,
              "#ed7953"
             ],
             [
              0.7777777777777778,
              "#fb9f3a"
             ],
             [
              0.8888888888888888,
              "#fdca26"
             ],
             [
              1,
              "#f0f921"
             ]
            ],
            "type": "heatmapgl"
           }
          ],
          "histogram": [
           {
            "marker": {
             "colorbar": {
              "outlinewidth": 0,
              "ticks": ""
             }
            },
            "type": "histogram"
           }
          ],
          "histogram2d": [
           {
            "colorbar": {
             "outlinewidth": 0,
             "ticks": ""
            },
            "colorscale": [
             [
              0,
              "#0d0887"
             ],
             [
              0.1111111111111111,
              "#46039f"
             ],
             [
              0.2222222222222222,
              "#7201a8"
             ],
             [
              0.3333333333333333,
              "#9c179e"
             ],
             [
              0.4444444444444444,
              "#bd3786"
             ],
             [
              0.5555555555555556,
              "#d8576b"
             ],
             [
              0.6666666666666666,
              "#ed7953"
             ],
             [
              0.7777777777777778,
              "#fb9f3a"
             ],
             [
              0.8888888888888888,
              "#fdca26"
             ],
             [
              1,
              "#f0f921"
             ]
            ],
            "type": "histogram2d"
           }
          ],
          "histogram2dcontour": [
           {
            "colorbar": {
             "outlinewidth": 0,
             "ticks": ""
            },
            "colorscale": [
             [
              0,
              "#0d0887"
             ],
             [
              0.1111111111111111,
              "#46039f"
             ],
             [
              0.2222222222222222,
              "#7201a8"
             ],
             [
              0.3333333333333333,
              "#9c179e"
             ],
             [
              0.4444444444444444,
              "#bd3786"
             ],
             [
              0.5555555555555556,
              "#d8576b"
             ],
             [
              0.6666666666666666,
              "#ed7953"
             ],
             [
              0.7777777777777778,
              "#fb9f3a"
             ],
             [
              0.8888888888888888,
              "#fdca26"
             ],
             [
              1,
              "#f0f921"
             ]
            ],
            "type": "histogram2dcontour"
           }
          ],
          "mesh3d": [
           {
            "colorbar": {
             "outlinewidth": 0,
             "ticks": ""
            },
            "type": "mesh3d"
           }
          ],
          "parcoords": [
           {
            "line": {
             "colorbar": {
              "outlinewidth": 0,
              "ticks": ""
             }
            },
            "type": "parcoords"
           }
          ],
          "pie": [
           {
            "automargin": true,
            "type": "pie"
           }
          ],
          "scatter": [
           {
            "marker": {
             "colorbar": {
              "outlinewidth": 0,
              "ticks": ""
             }
            },
            "type": "scatter"
           }
          ],
          "scatter3d": [
           {
            "line": {
             "colorbar": {
              "outlinewidth": 0,
              "ticks": ""
             }
            },
            "marker": {
             "colorbar": {
              "outlinewidth": 0,
              "ticks": ""
             }
            },
            "type": "scatter3d"
           }
          ],
          "scattercarpet": [
           {
            "marker": {
             "colorbar": {
              "outlinewidth": 0,
              "ticks": ""
             }
            },
            "type": "scattercarpet"
           }
          ],
          "scattergeo": [
           {
            "marker": {
             "colorbar": {
              "outlinewidth": 0,
              "ticks": ""
             }
            },
            "type": "scattergeo"
           }
          ],
          "scattergl": [
           {
            "marker": {
             "colorbar": {
              "outlinewidth": 0,
              "ticks": ""
             }
            },
            "type": "scattergl"
           }
          ],
          "scattermapbox": [
           {
            "marker": {
             "colorbar": {
              "outlinewidth": 0,
              "ticks": ""
             }
            },
            "type": "scattermapbox"
           }
          ],
          "scatterpolar": [
           {
            "marker": {
             "colorbar": {
              "outlinewidth": 0,
              "ticks": ""
             }
            },
            "type": "scatterpolar"
           }
          ],
          "scatterpolargl": [
           {
            "marker": {
             "colorbar": {
              "outlinewidth": 0,
              "ticks": ""
             }
            },
            "type": "scatterpolargl"
           }
          ],
          "scatterternary": [
           {
            "marker": {
             "colorbar": {
              "outlinewidth": 0,
              "ticks": ""
             }
            },
            "type": "scatterternary"
           }
          ],
          "surface": [
           {
            "colorbar": {
             "outlinewidth": 0,
             "ticks": ""
            },
            "colorscale": [
             [
              0,
              "#0d0887"
             ],
             [
              0.1111111111111111,
              "#46039f"
             ],
             [
              0.2222222222222222,
              "#7201a8"
             ],
             [
              0.3333333333333333,
              "#9c179e"
             ],
             [
              0.4444444444444444,
              "#bd3786"
             ],
             [
              0.5555555555555556,
              "#d8576b"
             ],
             [
              0.6666666666666666,
              "#ed7953"
             ],
             [
              0.7777777777777778,
              "#fb9f3a"
             ],
             [
              0.8888888888888888,
              "#fdca26"
             ],
             [
              1,
              "#f0f921"
             ]
            ],
            "type": "surface"
           }
          ],
          "table": [
           {
            "cells": {
             "fill": {
              "color": "#EBF0F8"
             },
             "line": {
              "color": "white"
             }
            },
            "header": {
             "fill": {
              "color": "#C8D4E3"
             },
             "line": {
              "color": "white"
             }
            },
            "type": "table"
           }
          ]
         },
         "layout": {
          "annotationdefaults": {
           "arrowcolor": "#2a3f5f",
           "arrowhead": 0,
           "arrowwidth": 1
          },
          "coloraxis": {
           "colorbar": {
            "outlinewidth": 0,
            "ticks": ""
           }
          },
          "colorscale": {
           "diverging": [
            [
             0,
             "#8e0152"
            ],
            [
             0.1,
             "#c51b7d"
            ],
            [
             0.2,
             "#de77ae"
            ],
            [
             0.3,
             "#f1b6da"
            ],
            [
             0.4,
             "#fde0ef"
            ],
            [
             0.5,
             "#f7f7f7"
            ],
            [
             0.6,
             "#e6f5d0"
            ],
            [
             0.7,
             "#b8e186"
            ],
            [
             0.8,
             "#7fbc41"
            ],
            [
             0.9,
             "#4d9221"
            ],
            [
             1,
             "#276419"
            ]
           ],
           "sequential": [
            [
             0,
             "#0d0887"
            ],
            [
             0.1111111111111111,
             "#46039f"
            ],
            [
             0.2222222222222222,
             "#7201a8"
            ],
            [
             0.3333333333333333,
             "#9c179e"
            ],
            [
             0.4444444444444444,
             "#bd3786"
            ],
            [
             0.5555555555555556,
             "#d8576b"
            ],
            [
             0.6666666666666666,
             "#ed7953"
            ],
            [
             0.7777777777777778,
             "#fb9f3a"
            ],
            [
             0.8888888888888888,
             "#fdca26"
            ],
            [
             1,
             "#f0f921"
            ]
           ],
           "sequentialminus": [
            [
             0,
             "#0d0887"
            ],
            [
             0.1111111111111111,
             "#46039f"
            ],
            [
             0.2222222222222222,
             "#7201a8"
            ],
            [
             0.3333333333333333,
             "#9c179e"
            ],
            [
             0.4444444444444444,
             "#bd3786"
            ],
            [
             0.5555555555555556,
             "#d8576b"
            ],
            [
             0.6666666666666666,
             "#ed7953"
            ],
            [
             0.7777777777777778,
             "#fb9f3a"
            ],
            [
             0.8888888888888888,
             "#fdca26"
            ],
            [
             1,
             "#f0f921"
            ]
           ]
          },
          "colorway": [
           "#636efa",
           "#EF553B",
           "#00cc96",
           "#ab63fa",
           "#FFA15A",
           "#19d3f3",
           "#FF6692",
           "#B6E880",
           "#FF97FF",
           "#FECB52"
          ],
          "font": {
           "color": "#2a3f5f"
          },
          "geo": {
           "bgcolor": "white",
           "lakecolor": "white",
           "landcolor": "#E5ECF6",
           "showlakes": true,
           "showland": true,
           "subunitcolor": "white"
          },
          "hoverlabel": {
           "align": "left"
          },
          "hovermode": "closest",
          "mapbox": {
           "style": "light"
          },
          "paper_bgcolor": "white",
          "plot_bgcolor": "#E5ECF6",
          "polar": {
           "angularaxis": {
            "gridcolor": "white",
            "linecolor": "white",
            "ticks": ""
           },
           "bgcolor": "#E5ECF6",
           "radialaxis": {
            "gridcolor": "white",
            "linecolor": "white",
            "ticks": ""
           }
          },
          "scene": {
           "xaxis": {
            "backgroundcolor": "#E5ECF6",
            "gridcolor": "white",
            "gridwidth": 2,
            "linecolor": "white",
            "showbackground": true,
            "ticks": "",
            "zerolinecolor": "white"
           },
           "yaxis": {
            "backgroundcolor": "#E5ECF6",
            "gridcolor": "white",
            "gridwidth": 2,
            "linecolor": "white",
            "showbackground": true,
            "ticks": "",
            "zerolinecolor": "white"
           },
           "zaxis": {
            "backgroundcolor": "#E5ECF6",
            "gridcolor": "white",
            "gridwidth": 2,
            "linecolor": "white",
            "showbackground": true,
            "ticks": "",
            "zerolinecolor": "white"
           }
          },
          "shapedefaults": {
           "line": {
            "color": "#2a3f5f"
           }
          },
          "ternary": {
           "aaxis": {
            "gridcolor": "white",
            "linecolor": "white",
            "ticks": ""
           },
           "baxis": {
            "gridcolor": "white",
            "linecolor": "white",
            "ticks": ""
           },
           "bgcolor": "#E5ECF6",
           "caxis": {
            "gridcolor": "white",
            "linecolor": "white",
            "ticks": ""
           }
          },
          "title": {
           "x": 0.05
          },
          "xaxis": {
           "automargin": true,
           "gridcolor": "white",
           "linecolor": "white",
           "ticks": "",
           "title": {
            "standoff": 15
           },
           "zerolinecolor": "white",
           "zerolinewidth": 2
          },
          "yaxis": {
           "automargin": true,
           "gridcolor": "white",
           "linecolor": "white",
           "ticks": "",
           "title": {
            "standoff": 15
           },
           "zerolinecolor": "white",
           "zerolinewidth": 2
          }
         }
        },
        "title": {
         "text": "Etat des passager en fonction du point d'embarquement",
         "x": 0.5,
         "xanchor": "center",
         "y": 0.9,
         "yanchor": "top"
        }
       }
      }
     },
     "metadata": {}
    }
   ],
   "source": [
    "labels1 = train.Embarked[train.Survived == 0].groupby(train.Embarked).count().index\n",
    "labels2 = train.Embarked[train.Survived == 1].groupby(train.Embarked).count().index\n",
    "values1 = train.Embarked[train.Survived == 0].groupby(train.Embarked).count().values\n",
    "values2 = train.Embarked[train.Survived == 1].groupby(train.Embarked).count().values\n",
    "\n",
    "fig3 = go.Figure(data=[\n",
    "    go.Bar(name='Morts', x=legend_embarked(labels1), y=values1),\n",
    "    go.Bar(name='En vie', x=legend_embarked(labels2), y=values2)\n",
    "])\n",
    "\n",
    "title = \"Etat des passager en fonction du point d'embarquement\"\n",
    "# Change the bar mode\n",
    "fig3.update_layout(title={'text' : title, 'y':0.9, 'x':0.5, 'xanchor': 'center', 'yanchor': 'top'}, barmode='group')\n",
    "fig3.show()"
   ]
  },
  {
   "cell_type": "code",
   "execution_count": 16,
   "metadata": {},
   "outputs": [
    {
     "output_type": "execute_result",
     "data": {
      "text/plain": "Age_categorie  Survived\nBaby           1            31\n               0            13\nChild          0            56\n               1            39\nJunior         0           299\n               1           148\nAdult          0           164\n               1           118\nSenior         0            17\n               1             4\nName: Survived, dtype: int64"
     },
     "metadata": {},
     "execution_count": 16
    }
   ],
   "source": [
    "train = process_age(train)\n",
    "train.Survived.groupby(train.Age_categorie).value_counts()"
   ]
  },
  {
   "cell_type": "code",
   "execution_count": 17,
   "metadata": {},
   "outputs": [
    {
     "output_type": "display_data",
     "data": {
      "application/vnd.plotly.v1+json": {
       "config": {
        "plotlyServerURL": "https://plot.ly"
       },
       "data": [
        {
         "name": "Morts",
         "type": "bar",
         "x": [
          "Baby",
          "Child",
          "Junior",
          "Adult",
          "Senior"
         ],
         "y": [
          13,
          56,
          299,
          164,
          17
         ]
        },
        {
         "name": "En vie",
         "type": "bar",
         "x": [
          "Baby",
          "Child",
          "Junior",
          "Adult",
          "Senior"
         ],
         "y": [
          31,
          39,
          148,
          118,
          4
         ]
        }
       ],
       "layout": {
        "barmode": "group",
        "template": {
         "data": {
          "bar": [
           {
            "error_x": {
             "color": "#2a3f5f"
            },
            "error_y": {
             "color": "#2a3f5f"
            },
            "marker": {
             "line": {
              "color": "#E5ECF6",
              "width": 0.5
             }
            },
            "type": "bar"
           }
          ],
          "barpolar": [
           {
            "marker": {
             "line": {
              "color": "#E5ECF6",
              "width": 0.5
             }
            },
            "type": "barpolar"
           }
          ],
          "carpet": [
           {
            "aaxis": {
             "endlinecolor": "#2a3f5f",
             "gridcolor": "white",
             "linecolor": "white",
             "minorgridcolor": "white",
             "startlinecolor": "#2a3f5f"
            },
            "baxis": {
             "endlinecolor": "#2a3f5f",
             "gridcolor": "white",
             "linecolor": "white",
             "minorgridcolor": "white",
             "startlinecolor": "#2a3f5f"
            },
            "type": "carpet"
           }
          ],
          "choropleth": [
           {
            "colorbar": {
             "outlinewidth": 0,
             "ticks": ""
            },
            "type": "choropleth"
           }
          ],
          "contour": [
           {
            "colorbar": {
             "outlinewidth": 0,
             "ticks": ""
            },
            "colorscale": [
             [
              0,
              "#0d0887"
             ],
             [
              0.1111111111111111,
              "#46039f"
             ],
             [
              0.2222222222222222,
              "#7201a8"
             ],
             [
              0.3333333333333333,
              "#9c179e"
             ],
             [
              0.4444444444444444,
              "#bd3786"
             ],
             [
              0.5555555555555556,
              "#d8576b"
             ],
             [
              0.6666666666666666,
              "#ed7953"
             ],
             [
              0.7777777777777778,
              "#fb9f3a"
             ],
             [
              0.8888888888888888,
              "#fdca26"
             ],
             [
              1,
              "#f0f921"
             ]
            ],
            "type": "contour"
           }
          ],
          "contourcarpet": [
           {
            "colorbar": {
             "outlinewidth": 0,
             "ticks": ""
            },
            "type": "contourcarpet"
           }
          ],
          "heatmap": [
           {
            "colorbar": {
             "outlinewidth": 0,
             "ticks": ""
            },
            "colorscale": [
             [
              0,
              "#0d0887"
             ],
             [
              0.1111111111111111,
              "#46039f"
             ],
             [
              0.2222222222222222,
              "#7201a8"
             ],
             [
              0.3333333333333333,
              "#9c179e"
             ],
             [
              0.4444444444444444,
              "#bd3786"
             ],
             [
              0.5555555555555556,
              "#d8576b"
             ],
             [
              0.6666666666666666,
              "#ed7953"
             ],
             [
              0.7777777777777778,
              "#fb9f3a"
             ],
             [
              0.8888888888888888,
              "#fdca26"
             ],
             [
              1,
              "#f0f921"
             ]
            ],
            "type": "heatmap"
           }
          ],
          "heatmapgl": [
           {
            "colorbar": {
             "outlinewidth": 0,
             "ticks": ""
            },
            "colorscale": [
             [
              0,
              "#0d0887"
             ],
             [
              0.1111111111111111,
              "#46039f"
             ],
             [
              0.2222222222222222,
              "#7201a8"
             ],
             [
              0.3333333333333333,
              "#9c179e"
             ],
             [
              0.4444444444444444,
              "#bd3786"
             ],
             [
              0.5555555555555556,
              "#d8576b"
             ],
             [
              0.6666666666666666,
              "#ed7953"
             ],
             [
              0.7777777777777778,
              "#fb9f3a"
             ],
             [
              0.8888888888888888,
              "#fdca26"
             ],
             [
              1,
              "#f0f921"
             ]
            ],
            "type": "heatmapgl"
           }
          ],
          "histogram": [
           {
            "marker": {
             "colorbar": {
              "outlinewidth": 0,
              "ticks": ""
             }
            },
            "type": "histogram"
           }
          ],
          "histogram2d": [
           {
            "colorbar": {
             "outlinewidth": 0,
             "ticks": ""
            },
            "colorscale": [
             [
              0,
              "#0d0887"
             ],
             [
              0.1111111111111111,
              "#46039f"
             ],
             [
              0.2222222222222222,
              "#7201a8"
             ],
             [
              0.3333333333333333,
              "#9c179e"
             ],
             [
              0.4444444444444444,
              "#bd3786"
             ],
             [
              0.5555555555555556,
              "#d8576b"
             ],
             [
              0.6666666666666666,
              "#ed7953"
             ],
             [
              0.7777777777777778,
              "#fb9f3a"
             ],
             [
              0.8888888888888888,
              "#fdca26"
             ],
             [
              1,
              "#f0f921"
             ]
            ],
            "type": "histogram2d"
           }
          ],
          "histogram2dcontour": [
           {
            "colorbar": {
             "outlinewidth": 0,
             "ticks": ""
            },
            "colorscale": [
             [
              0,
              "#0d0887"
             ],
             [
              0.1111111111111111,
              "#46039f"
             ],
             [
              0.2222222222222222,
              "#7201a8"
             ],
             [
              0.3333333333333333,
              "#9c179e"
             ],
             [
              0.4444444444444444,
              "#bd3786"
             ],
             [
              0.5555555555555556,
              "#d8576b"
             ],
             [
              0.6666666666666666,
              "#ed7953"
             ],
             [
              0.7777777777777778,
              "#fb9f3a"
             ],
             [
              0.8888888888888888,
              "#fdca26"
             ],
             [
              1,
              "#f0f921"
             ]
            ],
            "type": "histogram2dcontour"
           }
          ],
          "mesh3d": [
           {
            "colorbar": {
             "outlinewidth": 0,
             "ticks": ""
            },
            "type": "mesh3d"
           }
          ],
          "parcoords": [
           {
            "line": {
             "colorbar": {
              "outlinewidth": 0,
              "ticks": ""
             }
            },
            "type": "parcoords"
           }
          ],
          "pie": [
           {
            "automargin": true,
            "type": "pie"
           }
          ],
          "scatter": [
           {
            "marker": {
             "colorbar": {
              "outlinewidth": 0,
              "ticks": ""
             }
            },
            "type": "scatter"
           }
          ],
          "scatter3d": [
           {
            "line": {
             "colorbar": {
              "outlinewidth": 0,
              "ticks": ""
             }
            },
            "marker": {
             "colorbar": {
              "outlinewidth": 0,
              "ticks": ""
             }
            },
            "type": "scatter3d"
           }
          ],
          "scattercarpet": [
           {
            "marker": {
             "colorbar": {
              "outlinewidth": 0,
              "ticks": ""
             }
            },
            "type": "scattercarpet"
           }
          ],
          "scattergeo": [
           {
            "marker": {
             "colorbar": {
              "outlinewidth": 0,
              "ticks": ""
             }
            },
            "type": "scattergeo"
           }
          ],
          "scattergl": [
           {
            "marker": {
             "colorbar": {
              "outlinewidth": 0,
              "ticks": ""
             }
            },
            "type": "scattergl"
           }
          ],
          "scattermapbox": [
           {
            "marker": {
             "colorbar": {
              "outlinewidth": 0,
              "ticks": ""
             }
            },
            "type": "scattermapbox"
           }
          ],
          "scatterpolar": [
           {
            "marker": {
             "colorbar": {
              "outlinewidth": 0,
              "ticks": ""
             }
            },
            "type": "scatterpolar"
           }
          ],
          "scatterpolargl": [
           {
            "marker": {
             "colorbar": {
              "outlinewidth": 0,
              "ticks": ""
             }
            },
            "type": "scatterpolargl"
           }
          ],
          "scatterternary": [
           {
            "marker": {
             "colorbar": {
              "outlinewidth": 0,
              "ticks": ""
             }
            },
            "type": "scatterternary"
           }
          ],
          "surface": [
           {
            "colorbar": {
             "outlinewidth": 0,
             "ticks": ""
            },
            "colorscale": [
             [
              0,
              "#0d0887"
             ],
             [
              0.1111111111111111,
              "#46039f"
             ],
             [
              0.2222222222222222,
              "#7201a8"
             ],
             [
              0.3333333333333333,
              "#9c179e"
             ],
             [
              0.4444444444444444,
              "#bd3786"
             ],
             [
              0.5555555555555556,
              "#d8576b"
             ],
             [
              0.6666666666666666,
              "#ed7953"
             ],
             [
              0.7777777777777778,
              "#fb9f3a"
             ],
             [
              0.8888888888888888,
              "#fdca26"
             ],
             [
              1,
              "#f0f921"
             ]
            ],
            "type": "surface"
           }
          ],
          "table": [
           {
            "cells": {
             "fill": {
              "color": "#EBF0F8"
             },
             "line": {
              "color": "white"
             }
            },
            "header": {
             "fill": {
              "color": "#C8D4E3"
             },
             "line": {
              "color": "white"
             }
            },
            "type": "table"
           }
          ]
         },
         "layout": {
          "annotationdefaults": {
           "arrowcolor": "#2a3f5f",
           "arrowhead": 0,
           "arrowwidth": 1
          },
          "coloraxis": {
           "colorbar": {
            "outlinewidth": 0,
            "ticks": ""
           }
          },
          "colorscale": {
           "diverging": [
            [
             0,
             "#8e0152"
            ],
            [
             0.1,
             "#c51b7d"
            ],
            [
             0.2,
             "#de77ae"
            ],
            [
             0.3,
             "#f1b6da"
            ],
            [
             0.4,
             "#fde0ef"
            ],
            [
             0.5,
             "#f7f7f7"
            ],
            [
             0.6,
             "#e6f5d0"
            ],
            [
             0.7,
             "#b8e186"
            ],
            [
             0.8,
             "#7fbc41"
            ],
            [
             0.9,
             "#4d9221"
            ],
            [
             1,
             "#276419"
            ]
           ],
           "sequential": [
            [
             0,
             "#0d0887"
            ],
            [
             0.1111111111111111,
             "#46039f"
            ],
            [
             0.2222222222222222,
             "#7201a8"
            ],
            [
             0.3333333333333333,
             "#9c179e"
            ],
            [
             0.4444444444444444,
             "#bd3786"
            ],
            [
             0.5555555555555556,
             "#d8576b"
            ],
            [
             0.6666666666666666,
             "#ed7953"
            ],
            [
             0.7777777777777778,
             "#fb9f3a"
            ],
            [
             0.8888888888888888,
             "#fdca26"
            ],
            [
             1,
             "#f0f921"
            ]
           ],
           "sequentialminus": [
            [
             0,
             "#0d0887"
            ],
            [
             0.1111111111111111,
             "#46039f"
            ],
            [
             0.2222222222222222,
             "#7201a8"
            ],
            [
             0.3333333333333333,
             "#9c179e"
            ],
            [
             0.4444444444444444,
             "#bd3786"
            ],
            [
             0.5555555555555556,
             "#d8576b"
            ],
            [
             0.6666666666666666,
             "#ed7953"
            ],
            [
             0.7777777777777778,
             "#fb9f3a"
            ],
            [
             0.8888888888888888,
             "#fdca26"
            ],
            [
             1,
             "#f0f921"
            ]
           ]
          },
          "colorway": [
           "#636efa",
           "#EF553B",
           "#00cc96",
           "#ab63fa",
           "#FFA15A",
           "#19d3f3",
           "#FF6692",
           "#B6E880",
           "#FF97FF",
           "#FECB52"
          ],
          "font": {
           "color": "#2a3f5f"
          },
          "geo": {
           "bgcolor": "white",
           "lakecolor": "white",
           "landcolor": "#E5ECF6",
           "showlakes": true,
           "showland": true,
           "subunitcolor": "white"
          },
          "hoverlabel": {
           "align": "left"
          },
          "hovermode": "closest",
          "mapbox": {
           "style": "light"
          },
          "paper_bgcolor": "white",
          "plot_bgcolor": "#E5ECF6",
          "polar": {
           "angularaxis": {
            "gridcolor": "white",
            "linecolor": "white",
            "ticks": ""
           },
           "bgcolor": "#E5ECF6",
           "radialaxis": {
            "gridcolor": "white",
            "linecolor": "white",
            "ticks": ""
           }
          },
          "scene": {
           "xaxis": {
            "backgroundcolor": "#E5ECF6",
            "gridcolor": "white",
            "gridwidth": 2,
            "linecolor": "white",
            "showbackground": true,
            "ticks": "",
            "zerolinecolor": "white"
           },
           "yaxis": {
            "backgroundcolor": "#E5ECF6",
            "gridcolor": "white",
            "gridwidth": 2,
            "linecolor": "white",
            "showbackground": true,
            "ticks": "",
            "zerolinecolor": "white"
           },
           "zaxis": {
            "backgroundcolor": "#E5ECF6",
            "gridcolor": "white",
            "gridwidth": 2,
            "linecolor": "white",
            "showbackground": true,
            "ticks": "",
            "zerolinecolor": "white"
           }
          },
          "shapedefaults": {
           "line": {
            "color": "#2a3f5f"
           }
          },
          "ternary": {
           "aaxis": {
            "gridcolor": "white",
            "linecolor": "white",
            "ticks": ""
           },
           "baxis": {
            "gridcolor": "white",
            "linecolor": "white",
            "ticks": ""
           },
           "bgcolor": "#E5ECF6",
           "caxis": {
            "gridcolor": "white",
            "linecolor": "white",
            "ticks": ""
           }
          },
          "title": {
           "x": 0.05
          },
          "xaxis": {
           "automargin": true,
           "gridcolor": "white",
           "linecolor": "white",
           "ticks": "",
           "title": {
            "standoff": 15
           },
           "zerolinecolor": "white",
           "zerolinewidth": 2
          },
          "yaxis": {
           "automargin": true,
           "gridcolor": "white",
           "linecolor": "white",
           "ticks": "",
           "title": {
            "standoff": 15
           },
           "zerolinecolor": "white",
           "zerolinewidth": 2
          }
         }
        },
        "title": {
         "text": "Etat des passager en fonction de leur âge",
         "x": 0.5,
         "xanchor": "center",
         "y": 0.9,
         "yanchor": "top"
        }
       }
      }
     },
     "metadata": {}
    }
   ],
   "source": [
    "labels1 = train.Age[train.Survived == 0].groupby(train.Age_categorie[train.Survived == 0]).count().index\n",
    "labels2 = train.Age[train.Survived == 1].groupby(train.Age_categorie[train.Survived == 1]).count().index\n",
    "values1 = train.Age[train.Survived == 0].groupby(train.Age_categorie[train.Survived == 0]).count().values\n",
    "values2 = train.Age[train.Survived == 1].groupby(train.Age_categorie[train.Survived == 1]).count().values\n",
    "\n",
    "\n",
    "fig4 = go.Figure(data=[\n",
    "    go.Bar(name='Morts', x=labels1, y=values1),\n",
    "    go.Bar(name='En vie', x=labels2, y=values2)\n",
    "])\n",
    "\n",
    "title = \"Etat des passager en fonction de leur âge\"\n",
    "# Change the bar mode\n",
    "fig4.update_layout(title={'text' : title, 'y':0.9, 'x':0.5, 'xanchor': 'center', 'yanchor': 'top'}, barmode='group')\n",
    "fig4.show()"
   ]
  },
  {
   "cell_type": "code",
   "execution_count": 18,
   "metadata": {},
   "outputs": [
    {
     "output_type": "execute_result",
     "data": {
      "text/plain": "Fare_categorie  Survived\nCheap           0           175\n                1            51\nLow             0           155\n                1            62\nHigh            0           107\n                1            92\nExpensive       1           134\n                0            98\nName: Survived, dtype: int64"
     },
     "metadata": {},
     "execution_count": 18
    }
   ],
   "source": [
    "train = process_fare(train)\n",
    "train.Survived.groupby(train.Fare_categorie).value_counts()"
   ]
  },
  {
   "cell_type": "code",
   "execution_count": 19,
   "metadata": {},
   "outputs": [
    {
     "output_type": "display_data",
     "data": {
      "application/vnd.plotly.v1+json": {
       "config": {
        "plotlyServerURL": "https://plot.ly"
       },
       "data": [
        {
         "name": "Morts",
         "type": "bar",
         "x": [
          "Cheap",
          "Low",
          "High",
          "Expensive"
         ],
         "y": [
          175,
          155,
          107,
          98
         ]
        },
        {
         "name": "En vie",
         "type": "bar",
         "x": [
          "Cheap",
          "Low",
          "High",
          "Expensive"
         ],
         "y": [
          51,
          62,
          92,
          134
         ]
        }
       ],
       "layout": {
        "barmode": "group",
        "template": {
         "data": {
          "bar": [
           {
            "error_x": {
             "color": "#2a3f5f"
            },
            "error_y": {
             "color": "#2a3f5f"
            },
            "marker": {
             "line": {
              "color": "#E5ECF6",
              "width": 0.5
             }
            },
            "type": "bar"
           }
          ],
          "barpolar": [
           {
            "marker": {
             "line": {
              "color": "#E5ECF6",
              "width": 0.5
             }
            },
            "type": "barpolar"
           }
          ],
          "carpet": [
           {
            "aaxis": {
             "endlinecolor": "#2a3f5f",
             "gridcolor": "white",
             "linecolor": "white",
             "minorgridcolor": "white",
             "startlinecolor": "#2a3f5f"
            },
            "baxis": {
             "endlinecolor": "#2a3f5f",
             "gridcolor": "white",
             "linecolor": "white",
             "minorgridcolor": "white",
             "startlinecolor": "#2a3f5f"
            },
            "type": "carpet"
           }
          ],
          "choropleth": [
           {
            "colorbar": {
             "outlinewidth": 0,
             "ticks": ""
            },
            "type": "choropleth"
           }
          ],
          "contour": [
           {
            "colorbar": {
             "outlinewidth": 0,
             "ticks": ""
            },
            "colorscale": [
             [
              0,
              "#0d0887"
             ],
             [
              0.1111111111111111,
              "#46039f"
             ],
             [
              0.2222222222222222,
              "#7201a8"
             ],
             [
              0.3333333333333333,
              "#9c179e"
             ],
             [
              0.4444444444444444,
              "#bd3786"
             ],
             [
              0.5555555555555556,
              "#d8576b"
             ],
             [
              0.6666666666666666,
              "#ed7953"
             ],
             [
              0.7777777777777778,
              "#fb9f3a"
             ],
             [
              0.8888888888888888,
              "#fdca26"
             ],
             [
              1,
              "#f0f921"
             ]
            ],
            "type": "contour"
           }
          ],
          "contourcarpet": [
           {
            "colorbar": {
             "outlinewidth": 0,
             "ticks": ""
            },
            "type": "contourcarpet"
           }
          ],
          "heatmap": [
           {
            "colorbar": {
             "outlinewidth": 0,
             "ticks": ""
            },
            "colorscale": [
             [
              0,
              "#0d0887"
             ],
             [
              0.1111111111111111,
              "#46039f"
             ],
             [
              0.2222222222222222,
              "#7201a8"
             ],
             [
              0.3333333333333333,
              "#9c179e"
             ],
             [
              0.4444444444444444,
              "#bd3786"
             ],
             [
              0.5555555555555556,
              "#d8576b"
             ],
             [
              0.6666666666666666,
              "#ed7953"
             ],
             [
              0.7777777777777778,
              "#fb9f3a"
             ],
             [
              0.8888888888888888,
              "#fdca26"
             ],
             [
              1,
              "#f0f921"
             ]
            ],
            "type": "heatmap"
           }
          ],
          "heatmapgl": [
           {
            "colorbar": {
             "outlinewidth": 0,
             "ticks": ""
            },
            "colorscale": [
             [
              0,
              "#0d0887"
             ],
             [
              0.1111111111111111,
              "#46039f"
             ],
             [
              0.2222222222222222,
              "#7201a8"
             ],
             [
              0.3333333333333333,
              "#9c179e"
             ],
             [
              0.4444444444444444,
              "#bd3786"
             ],
             [
              0.5555555555555556,
              "#d8576b"
             ],
             [
              0.6666666666666666,
              "#ed7953"
             ],
             [
              0.7777777777777778,
              "#fb9f3a"
             ],
             [
              0.8888888888888888,
              "#fdca26"
             ],
             [
              1,
              "#f0f921"
             ]
            ],
            "type": "heatmapgl"
           }
          ],
          "histogram": [
           {
            "marker": {
             "colorbar": {
              "outlinewidth": 0,
              "ticks": ""
             }
            },
            "type": "histogram"
           }
          ],
          "histogram2d": [
           {
            "colorbar": {
             "outlinewidth": 0,
             "ticks": ""
            },
            "colorscale": [
             [
              0,
              "#0d0887"
             ],
             [
              0.1111111111111111,
              "#46039f"
             ],
             [
              0.2222222222222222,
              "#7201a8"
             ],
             [
              0.3333333333333333,
              "#9c179e"
             ],
             [
              0.4444444444444444,
              "#bd3786"
             ],
             [
              0.5555555555555556,
              "#d8576b"
             ],
             [
              0.6666666666666666,
              "#ed7953"
             ],
             [
              0.7777777777777778,
              "#fb9f3a"
             ],
             [
              0.8888888888888888,
              "#fdca26"
             ],
             [
              1,
              "#f0f921"
             ]
            ],
            "type": "histogram2d"
           }
          ],
          "histogram2dcontour": [
           {
            "colorbar": {
             "outlinewidth": 0,
             "ticks": ""
            },
            "colorscale": [
             [
              0,
              "#0d0887"
             ],
             [
              0.1111111111111111,
              "#46039f"
             ],
             [
              0.2222222222222222,
              "#7201a8"
             ],
             [
              0.3333333333333333,
              "#9c179e"
             ],
             [
              0.4444444444444444,
              "#bd3786"
             ],
             [
              0.5555555555555556,
              "#d8576b"
             ],
             [
              0.6666666666666666,
              "#ed7953"
             ],
             [
              0.7777777777777778,
              "#fb9f3a"
             ],
             [
              0.8888888888888888,
              "#fdca26"
             ],
             [
              1,
              "#f0f921"
             ]
            ],
            "type": "histogram2dcontour"
           }
          ],
          "mesh3d": [
           {
            "colorbar": {
             "outlinewidth": 0,
             "ticks": ""
            },
            "type": "mesh3d"
           }
          ],
          "parcoords": [
           {
            "line": {
             "colorbar": {
              "outlinewidth": 0,
              "ticks": ""
             }
            },
            "type": "parcoords"
           }
          ],
          "pie": [
           {
            "automargin": true,
            "type": "pie"
           }
          ],
          "scatter": [
           {
            "marker": {
             "colorbar": {
              "outlinewidth": 0,
              "ticks": ""
             }
            },
            "type": "scatter"
           }
          ],
          "scatter3d": [
           {
            "line": {
             "colorbar": {
              "outlinewidth": 0,
              "ticks": ""
             }
            },
            "marker": {
             "colorbar": {
              "outlinewidth": 0,
              "ticks": ""
             }
            },
            "type": "scatter3d"
           }
          ],
          "scattercarpet": [
           {
            "marker": {
             "colorbar": {
              "outlinewidth": 0,
              "ticks": ""
             }
            },
            "type": "scattercarpet"
           }
          ],
          "scattergeo": [
           {
            "marker": {
             "colorbar": {
              "outlinewidth": 0,
              "ticks": ""
             }
            },
            "type": "scattergeo"
           }
          ],
          "scattergl": [
           {
            "marker": {
             "colorbar": {
              "outlinewidth": 0,
              "ticks": ""
             }
            },
            "type": "scattergl"
           }
          ],
          "scattermapbox": [
           {
            "marker": {
             "colorbar": {
              "outlinewidth": 0,
              "ticks": ""
             }
            },
            "type": "scattermapbox"
           }
          ],
          "scatterpolar": [
           {
            "marker": {
             "colorbar": {
              "outlinewidth": 0,
              "ticks": ""
             }
            },
            "type": "scatterpolar"
           }
          ],
          "scatterpolargl": [
           {
            "marker": {
             "colorbar": {
              "outlinewidth": 0,
              "ticks": ""
             }
            },
            "type": "scatterpolargl"
           }
          ],
          "scatterternary": [
           {
            "marker": {
             "colorbar": {
              "outlinewidth": 0,
              "ticks": ""
             }
            },
            "type": "scatterternary"
           }
          ],
          "surface": [
           {
            "colorbar": {
             "outlinewidth": 0,
             "ticks": ""
            },
            "colorscale": [
             [
              0,
              "#0d0887"
             ],
             [
              0.1111111111111111,
              "#46039f"
             ],
             [
              0.2222222222222222,
              "#7201a8"
             ],
             [
              0.3333333333333333,
              "#9c179e"
             ],
             [
              0.4444444444444444,
              "#bd3786"
             ],
             [
              0.5555555555555556,
              "#d8576b"
             ],
             [
              0.6666666666666666,
              "#ed7953"
             ],
             [
              0.7777777777777778,
              "#fb9f3a"
             ],
             [
              0.8888888888888888,
              "#fdca26"
             ],
             [
              1,
              "#f0f921"
             ]
            ],
            "type": "surface"
           }
          ],
          "table": [
           {
            "cells": {
             "fill": {
              "color": "#EBF0F8"
             },
             "line": {
              "color": "white"
             }
            },
            "header": {
             "fill": {
              "color": "#C8D4E3"
             },
             "line": {
              "color": "white"
             }
            },
            "type": "table"
           }
          ]
         },
         "layout": {
          "annotationdefaults": {
           "arrowcolor": "#2a3f5f",
           "arrowhead": 0,
           "arrowwidth": 1
          },
          "coloraxis": {
           "colorbar": {
            "outlinewidth": 0,
            "ticks": ""
           }
          },
          "colorscale": {
           "diverging": [
            [
             0,
             "#8e0152"
            ],
            [
             0.1,
             "#c51b7d"
            ],
            [
             0.2,
             "#de77ae"
            ],
            [
             0.3,
             "#f1b6da"
            ],
            [
             0.4,
             "#fde0ef"
            ],
            [
             0.5,
             "#f7f7f7"
            ],
            [
             0.6,
             "#e6f5d0"
            ],
            [
             0.7,
             "#b8e186"
            ],
            [
             0.8,
             "#7fbc41"
            ],
            [
             0.9,
             "#4d9221"
            ],
            [
             1,
             "#276419"
            ]
           ],
           "sequential": [
            [
             0,
             "#0d0887"
            ],
            [
             0.1111111111111111,
             "#46039f"
            ],
            [
             0.2222222222222222,
             "#7201a8"
            ],
            [
             0.3333333333333333,
             "#9c179e"
            ],
            [
             0.4444444444444444,
             "#bd3786"
            ],
            [
             0.5555555555555556,
             "#d8576b"
            ],
            [
             0.6666666666666666,
             "#ed7953"
            ],
            [
             0.7777777777777778,
             "#fb9f3a"
            ],
            [
             0.8888888888888888,
             "#fdca26"
            ],
            [
             1,
             "#f0f921"
            ]
           ],
           "sequentialminus": [
            [
             0,
             "#0d0887"
            ],
            [
             0.1111111111111111,
             "#46039f"
            ],
            [
             0.2222222222222222,
             "#7201a8"
            ],
            [
             0.3333333333333333,
             "#9c179e"
            ],
            [
             0.4444444444444444,
             "#bd3786"
            ],
            [
             0.5555555555555556,
             "#d8576b"
            ],
            [
             0.6666666666666666,
             "#ed7953"
            ],
            [
             0.7777777777777778,
             "#fb9f3a"
            ],
            [
             0.8888888888888888,
             "#fdca26"
            ],
            [
             1,
             "#f0f921"
            ]
           ]
          },
          "colorway": [
           "#636efa",
           "#EF553B",
           "#00cc96",
           "#ab63fa",
           "#FFA15A",
           "#19d3f3",
           "#FF6692",
           "#B6E880",
           "#FF97FF",
           "#FECB52"
          ],
          "font": {
           "color": "#2a3f5f"
          },
          "geo": {
           "bgcolor": "white",
           "lakecolor": "white",
           "landcolor": "#E5ECF6",
           "showlakes": true,
           "showland": true,
           "subunitcolor": "white"
          },
          "hoverlabel": {
           "align": "left"
          },
          "hovermode": "closest",
          "mapbox": {
           "style": "light"
          },
          "paper_bgcolor": "white",
          "plot_bgcolor": "#E5ECF6",
          "polar": {
           "angularaxis": {
            "gridcolor": "white",
            "linecolor": "white",
            "ticks": ""
           },
           "bgcolor": "#E5ECF6",
           "radialaxis": {
            "gridcolor": "white",
            "linecolor": "white",
            "ticks": ""
           }
          },
          "scene": {
           "xaxis": {
            "backgroundcolor": "#E5ECF6",
            "gridcolor": "white",
            "gridwidth": 2,
            "linecolor": "white",
            "showbackground": true,
            "ticks": "",
            "zerolinecolor": "white"
           },
           "yaxis": {
            "backgroundcolor": "#E5ECF6",
            "gridcolor": "white",
            "gridwidth": 2,
            "linecolor": "white",
            "showbackground": true,
            "ticks": "",
            "zerolinecolor": "white"
           },
           "zaxis": {
            "backgroundcolor": "#E5ECF6",
            "gridcolor": "white",
            "gridwidth": 2,
            "linecolor": "white",
            "showbackground": true,
            "ticks": "",
            "zerolinecolor": "white"
           }
          },
          "shapedefaults": {
           "line": {
            "color": "#2a3f5f"
           }
          },
          "ternary": {
           "aaxis": {
            "gridcolor": "white",
            "linecolor": "white",
            "ticks": ""
           },
           "baxis": {
            "gridcolor": "white",
            "linecolor": "white",
            "ticks": ""
           },
           "bgcolor": "#E5ECF6",
           "caxis": {
            "gridcolor": "white",
            "linecolor": "white",
            "ticks": ""
           }
          },
          "title": {
           "x": 0.05
          },
          "xaxis": {
           "automargin": true,
           "gridcolor": "white",
           "linecolor": "white",
           "ticks": "",
           "title": {
            "standoff": 15
           },
           "zerolinecolor": "white",
           "zerolinewidth": 2
          },
          "yaxis": {
           "automargin": true,
           "gridcolor": "white",
           "linecolor": "white",
           "ticks": "",
           "title": {
            "standoff": 15
           },
           "zerolinecolor": "white",
           "zerolinewidth": 2
          }
         }
        },
        "title": {
         "text": "Etat des passager en fonction du prix du ticket",
         "x": 0.5,
         "xanchor": "center",
         "y": 0.9,
         "yanchor": "top"
        }
       }
      }
     },
     "metadata": {}
    }
   ],
   "source": [
    "labels1 = train.Fare[train.Survived == 0].groupby(train.Fare_categorie[train.Survived == 0]).count().index\n",
    "labels2 = train.Fare[train.Survived == 1].groupby(train.Fare_categorie[train.Survived == 1]).count().index\n",
    "values1 = train.Fare[train.Survived == 0].groupby(train.Fare_categorie[train.Survived == 0]).count().values\n",
    "values2 = train.Fare[train.Survived == 1].groupby(train.Fare_categorie[train.Survived == 1]).count().values\n",
    "\n",
    "\n",
    "fig6 = go.Figure(data=[\n",
    "    go.Bar(name='Morts', x=labels1, y=values1),\n",
    "    go.Bar(name='En vie', x=labels2, y=values2)\n",
    "])\n",
    "\n",
    "title = \"Etat des passager en fonction du prix du ticket\"\n",
    "# Change the bar mode\n",
    "fig6.update_layout(title={'text' : title, 'y':0.9, 'x':0.5, 'xanchor': 'center', 'yanchor': 'top'}, barmode='group')\n",
    "fig6.show()"
   ]
  },
  {
   "cell_type": "code",
   "execution_count": 20,
   "metadata": {},
   "outputs": [
    {
     "output_type": "execute_result",
     "data": {
      "text/plain": "Embarked\nC    59.954144\nQ    13.276030\nS    27.079812\nName: Fare, dtype: float64"
     },
     "metadata": {},
     "execution_count": 20
    }
   ],
   "source": [
    "a = train.Fare.groupby(train.Embarked).mean()\n",
    "a"
   ]
  },
  {
   "cell_type": "code",
   "execution_count": 21,
   "metadata": {},
   "outputs": [
    {
     "output_type": "display_data",
     "data": {
      "application/vnd.plotly.v1+json": {
       "config": {
        "plotlyServerURL": "https://plot.ly"
       },
       "data": [
        {
         "alignmentgroup": "True",
         "hovertemplate": "x=%{x}<br>y=%{y}<extra></extra>",
         "legendgroup": "",
         "marker": {
          "color": "#636efa"
         },
         "name": "",
         "offsetgroup": "",
         "orientation": "v",
         "showlegend": false,
         "textposition": "auto",
         "type": "bar",
         "x": [
          "Cherbourg",
          "Queenstown",
          "Southampton"
         ],
         "xaxis": "x",
         "y": [
          59.95414404761905,
          13.276029870129872,
          27.07981180124218
         ],
         "yaxis": "y"
        }
       ],
       "layout": {
        "barmode": "relative",
        "legend": {
         "tracegroupgap": 0
        },
        "template": {
         "data": {
          "bar": [
           {
            "error_x": {
             "color": "#2a3f5f"
            },
            "error_y": {
             "color": "#2a3f5f"
            },
            "marker": {
             "line": {
              "color": "#E5ECF6",
              "width": 0.5
             }
            },
            "type": "bar"
           }
          ],
          "barpolar": [
           {
            "marker": {
             "line": {
              "color": "#E5ECF6",
              "width": 0.5
             }
            },
            "type": "barpolar"
           }
          ],
          "carpet": [
           {
            "aaxis": {
             "endlinecolor": "#2a3f5f",
             "gridcolor": "white",
             "linecolor": "white",
             "minorgridcolor": "white",
             "startlinecolor": "#2a3f5f"
            },
            "baxis": {
             "endlinecolor": "#2a3f5f",
             "gridcolor": "white",
             "linecolor": "white",
             "minorgridcolor": "white",
             "startlinecolor": "#2a3f5f"
            },
            "type": "carpet"
           }
          ],
          "choropleth": [
           {
            "colorbar": {
             "outlinewidth": 0,
             "ticks": ""
            },
            "type": "choropleth"
           }
          ],
          "contour": [
           {
            "colorbar": {
             "outlinewidth": 0,
             "ticks": ""
            },
            "colorscale": [
             [
              0,
              "#0d0887"
             ],
             [
              0.1111111111111111,
              "#46039f"
             ],
             [
              0.2222222222222222,
              "#7201a8"
             ],
             [
              0.3333333333333333,
              "#9c179e"
             ],
             [
              0.4444444444444444,
              "#bd3786"
             ],
             [
              0.5555555555555556,
              "#d8576b"
             ],
             [
              0.6666666666666666,
              "#ed7953"
             ],
             [
              0.7777777777777778,
              "#fb9f3a"
             ],
             [
              0.8888888888888888,
              "#fdca26"
             ],
             [
              1,
              "#f0f921"
             ]
            ],
            "type": "contour"
           }
          ],
          "contourcarpet": [
           {
            "colorbar": {
             "outlinewidth": 0,
             "ticks": ""
            },
            "type": "contourcarpet"
           }
          ],
          "heatmap": [
           {
            "colorbar": {
             "outlinewidth": 0,
             "ticks": ""
            },
            "colorscale": [
             [
              0,
              "#0d0887"
             ],
             [
              0.1111111111111111,
              "#46039f"
             ],
             [
              0.2222222222222222,
              "#7201a8"
             ],
             [
              0.3333333333333333,
              "#9c179e"
             ],
             [
              0.4444444444444444,
              "#bd3786"
             ],
             [
              0.5555555555555556,
              "#d8576b"
             ],
             [
              0.6666666666666666,
              "#ed7953"
             ],
             [
              0.7777777777777778,
              "#fb9f3a"
             ],
             [
              0.8888888888888888,
              "#fdca26"
             ],
             [
              1,
              "#f0f921"
             ]
            ],
            "type": "heatmap"
           }
          ],
          "heatmapgl": [
           {
            "colorbar": {
             "outlinewidth": 0,
             "ticks": ""
            },
            "colorscale": [
             [
              0,
              "#0d0887"
             ],
             [
              0.1111111111111111,
              "#46039f"
             ],
             [
              0.2222222222222222,
              "#7201a8"
             ],
             [
              0.3333333333333333,
              "#9c179e"
             ],
             [
              0.4444444444444444,
              "#bd3786"
             ],
             [
              0.5555555555555556,
              "#d8576b"
             ],
             [
              0.6666666666666666,
              "#ed7953"
             ],
             [
              0.7777777777777778,
              "#fb9f3a"
             ],
             [
              0.8888888888888888,
              "#fdca26"
             ],
             [
              1,
              "#f0f921"
             ]
            ],
            "type": "heatmapgl"
           }
          ],
          "histogram": [
           {
            "marker": {
             "colorbar": {
              "outlinewidth": 0,
              "ticks": ""
             }
            },
            "type": "histogram"
           }
          ],
          "histogram2d": [
           {
            "colorbar": {
             "outlinewidth": 0,
             "ticks": ""
            },
            "colorscale": [
             [
              0,
              "#0d0887"
             ],
             [
              0.1111111111111111,
              "#46039f"
             ],
             [
              0.2222222222222222,
              "#7201a8"
             ],
             [
              0.3333333333333333,
              "#9c179e"
             ],
             [
              0.4444444444444444,
              "#bd3786"
             ],
             [
              0.5555555555555556,
              "#d8576b"
             ],
             [
              0.6666666666666666,
              "#ed7953"
             ],
             [
              0.7777777777777778,
              "#fb9f3a"
             ],
             [
              0.8888888888888888,
              "#fdca26"
             ],
             [
              1,
              "#f0f921"
             ]
            ],
            "type": "histogram2d"
           }
          ],
          "histogram2dcontour": [
           {
            "colorbar": {
             "outlinewidth": 0,
             "ticks": ""
            },
            "colorscale": [
             [
              0,
              "#0d0887"
             ],
             [
              0.1111111111111111,
              "#46039f"
             ],
             [
              0.2222222222222222,
              "#7201a8"
             ],
             [
              0.3333333333333333,
              "#9c179e"
             ],
             [
              0.4444444444444444,
              "#bd3786"
             ],
             [
              0.5555555555555556,
              "#d8576b"
             ],
             [
              0.6666666666666666,
              "#ed7953"
             ],
             [
              0.7777777777777778,
              "#fb9f3a"
             ],
             [
              0.8888888888888888,
              "#fdca26"
             ],
             [
              1,
              "#f0f921"
             ]
            ],
            "type": "histogram2dcontour"
           }
          ],
          "mesh3d": [
           {
            "colorbar": {
             "outlinewidth": 0,
             "ticks": ""
            },
            "type": "mesh3d"
           }
          ],
          "parcoords": [
           {
            "line": {
             "colorbar": {
              "outlinewidth": 0,
              "ticks": ""
             }
            },
            "type": "parcoords"
           }
          ],
          "pie": [
           {
            "automargin": true,
            "type": "pie"
           }
          ],
          "scatter": [
           {
            "marker": {
             "colorbar": {
              "outlinewidth": 0,
              "ticks": ""
             }
            },
            "type": "scatter"
           }
          ],
          "scatter3d": [
           {
            "line": {
             "colorbar": {
              "outlinewidth": 0,
              "ticks": ""
             }
            },
            "marker": {
             "colorbar": {
              "outlinewidth": 0,
              "ticks": ""
             }
            },
            "type": "scatter3d"
           }
          ],
          "scattercarpet": [
           {
            "marker": {
             "colorbar": {
              "outlinewidth": 0,
              "ticks": ""
             }
            },
            "type": "scattercarpet"
           }
          ],
          "scattergeo": [
           {
            "marker": {
             "colorbar": {
              "outlinewidth": 0,
              "ticks": ""
             }
            },
            "type": "scattergeo"
           }
          ],
          "scattergl": [
           {
            "marker": {
             "colorbar": {
              "outlinewidth": 0,
              "ticks": ""
             }
            },
            "type": "scattergl"
           }
          ],
          "scattermapbox": [
           {
            "marker": {
             "colorbar": {
              "outlinewidth": 0,
              "ticks": ""
             }
            },
            "type": "scattermapbox"
           }
          ],
          "scatterpolar": [
           {
            "marker": {
             "colorbar": {
              "outlinewidth": 0,
              "ticks": ""
             }
            },
            "type": "scatterpolar"
           }
          ],
          "scatterpolargl": [
           {
            "marker": {
             "colorbar": {
              "outlinewidth": 0,
              "ticks": ""
             }
            },
            "type": "scatterpolargl"
           }
          ],
          "scatterternary": [
           {
            "marker": {
             "colorbar": {
              "outlinewidth": 0,
              "ticks": ""
             }
            },
            "type": "scatterternary"
           }
          ],
          "surface": [
           {
            "colorbar": {
             "outlinewidth": 0,
             "ticks": ""
            },
            "colorscale": [
             [
              0,
              "#0d0887"
             ],
             [
              0.1111111111111111,
              "#46039f"
             ],
             [
              0.2222222222222222,
              "#7201a8"
             ],
             [
              0.3333333333333333,
              "#9c179e"
             ],
             [
              0.4444444444444444,
              "#bd3786"
             ],
             [
              0.5555555555555556,
              "#d8576b"
             ],
             [
              0.6666666666666666,
              "#ed7953"
             ],
             [
              0.7777777777777778,
              "#fb9f3a"
             ],
             [
              0.8888888888888888,
              "#fdca26"
             ],
             [
              1,
              "#f0f921"
             ]
            ],
            "type": "surface"
           }
          ],
          "table": [
           {
            "cells": {
             "fill": {
              "color": "#EBF0F8"
             },
             "line": {
              "color": "white"
             }
            },
            "header": {
             "fill": {
              "color": "#C8D4E3"
             },
             "line": {
              "color": "white"
             }
            },
            "type": "table"
           }
          ]
         },
         "layout": {
          "annotationdefaults": {
           "arrowcolor": "#2a3f5f",
           "arrowhead": 0,
           "arrowwidth": 1
          },
          "coloraxis": {
           "colorbar": {
            "outlinewidth": 0,
            "ticks": ""
           }
          },
          "colorscale": {
           "diverging": [
            [
             0,
             "#8e0152"
            ],
            [
             0.1,
             "#c51b7d"
            ],
            [
             0.2,
             "#de77ae"
            ],
            [
             0.3,
             "#f1b6da"
            ],
            [
             0.4,
             "#fde0ef"
            ],
            [
             0.5,
             "#f7f7f7"
            ],
            [
             0.6,
             "#e6f5d0"
            ],
            [
             0.7,
             "#b8e186"
            ],
            [
             0.8,
             "#7fbc41"
            ],
            [
             0.9,
             "#4d9221"
            ],
            [
             1,
             "#276419"
            ]
           ],
           "sequential": [
            [
             0,
             "#0d0887"
            ],
            [
             0.1111111111111111,
             "#46039f"
            ],
            [
             0.2222222222222222,
             "#7201a8"
            ],
            [
             0.3333333333333333,
             "#9c179e"
            ],
            [
             0.4444444444444444,
             "#bd3786"
            ],
            [
             0.5555555555555556,
             "#d8576b"
            ],
            [
             0.6666666666666666,
             "#ed7953"
            ],
            [
             0.7777777777777778,
             "#fb9f3a"
            ],
            [
             0.8888888888888888,
             "#fdca26"
            ],
            [
             1,
             "#f0f921"
            ]
           ],
           "sequentialminus": [
            [
             0,
             "#0d0887"
            ],
            [
             0.1111111111111111,
             "#46039f"
            ],
            [
             0.2222222222222222,
             "#7201a8"
            ],
            [
             0.3333333333333333,
             "#9c179e"
            ],
            [
             0.4444444444444444,
             "#bd3786"
            ],
            [
             0.5555555555555556,
             "#d8576b"
            ],
            [
             0.6666666666666666,
             "#ed7953"
            ],
            [
             0.7777777777777778,
             "#fb9f3a"
            ],
            [
             0.8888888888888888,
             "#fdca26"
            ],
            [
             1,
             "#f0f921"
            ]
           ]
          },
          "colorway": [
           "#636efa",
           "#EF553B",
           "#00cc96",
           "#ab63fa",
           "#FFA15A",
           "#19d3f3",
           "#FF6692",
           "#B6E880",
           "#FF97FF",
           "#FECB52"
          ],
          "font": {
           "color": "#2a3f5f"
          },
          "geo": {
           "bgcolor": "white",
           "lakecolor": "white",
           "landcolor": "#E5ECF6",
           "showlakes": true,
           "showland": true,
           "subunitcolor": "white"
          },
          "hoverlabel": {
           "align": "left"
          },
          "hovermode": "closest",
          "mapbox": {
           "style": "light"
          },
          "paper_bgcolor": "white",
          "plot_bgcolor": "#E5ECF6",
          "polar": {
           "angularaxis": {
            "gridcolor": "white",
            "linecolor": "white",
            "ticks": ""
           },
           "bgcolor": "#E5ECF6",
           "radialaxis": {
            "gridcolor": "white",
            "linecolor": "white",
            "ticks": ""
           }
          },
          "scene": {
           "xaxis": {
            "backgroundcolor": "#E5ECF6",
            "gridcolor": "white",
            "gridwidth": 2,
            "linecolor": "white",
            "showbackground": true,
            "ticks": "",
            "zerolinecolor": "white"
           },
           "yaxis": {
            "backgroundcolor": "#E5ECF6",
            "gridcolor": "white",
            "gridwidth": 2,
            "linecolor": "white",
            "showbackground": true,
            "ticks": "",
            "zerolinecolor": "white"
           },
           "zaxis": {
            "backgroundcolor": "#E5ECF6",
            "gridcolor": "white",
            "gridwidth": 2,
            "linecolor": "white",
            "showbackground": true,
            "ticks": "",
            "zerolinecolor": "white"
           }
          },
          "shapedefaults": {
           "line": {
            "color": "#2a3f5f"
           }
          },
          "ternary": {
           "aaxis": {
            "gridcolor": "white",
            "linecolor": "white",
            "ticks": ""
           },
           "baxis": {
            "gridcolor": "white",
            "linecolor": "white",
            "ticks": ""
           },
           "bgcolor": "#E5ECF6",
           "caxis": {
            "gridcolor": "white",
            "linecolor": "white",
            "ticks": ""
           }
          },
          "title": {
           "x": 0.05
          },
          "xaxis": {
           "automargin": true,
           "gridcolor": "white",
           "linecolor": "white",
           "ticks": "",
           "title": {
            "standoff": 15
           },
           "zerolinecolor": "white",
           "zerolinewidth": 2
          },
          "yaxis": {
           "automargin": true,
           "gridcolor": "white",
           "linecolor": "white",
           "ticks": "",
           "title": {
            "standoff": 15
           },
           "zerolinecolor": "white",
           "zerolinewidth": 2
          }
         }
        },
        "title": {
         "text": "Moyenne des tarifs par lieu d'embarquement",
         "x": 0.5,
         "xanchor": "center",
         "y": 0.9,
         "yanchor": "top"
        },
        "xaxis": {
         "anchor": "y",
         "domain": [
          0,
          1
         ],
         "title": {
          "text": "x"
         }
        },
        "yaxis": {
         "anchor": "x",
         "domain": [
          0,
          1
         ],
         "title": {
          "text": "y"
         }
        }
       }
      }
     },
     "metadata": {}
    }
   ],
   "source": [
    "title = \"Moyenne des tarifs par lieu d'embarquement\"\n",
    "\n",
    "fig7 = px.bar(a, x = legend_embarked(a.index), y = a.values, title = {'text' : title, 'y':0.9, 'x':0.5, 'xanchor': 'center', 'yanchor': 'top'})\n",
    "fig7.show()"
   ]
  },
  {
   "cell_type": "code",
   "execution_count": 22,
   "metadata": {},
   "outputs": [
    {
     "output_type": "execute_result",
     "data": {
      "text/plain": "Embarked\nC    168\nQ     77\nS    644\nName: Embarked, dtype: int64"
     },
     "metadata": {},
     "execution_count": 22
    }
   ],
   "source": [
    "b = train.Embarked.groupby(train.Embarked).count()\n",
    "b"
   ]
  },
  {
   "cell_type": "code",
   "execution_count": 78,
   "metadata": {},
   "outputs": [
    {
     "output_type": "execute_result",
     "data": {
      "text/plain": "Embarked  Sex   \nC         male       95\n          female     73\nQ         male       41\n          female     36\nS         male      441\n          female    203\nName: Sex, dtype: int64"
     },
     "metadata": {},
     "execution_count": 78
    }
   ],
   "source": [
    "train.Sex.groupby(train.Embarked).value_counts()"
   ]
  },
  {
   "cell_type": "code",
   "execution_count": 82,
   "metadata": {},
   "outputs": [
    {
     "output_type": "display_data",
     "data": {
      "application/vnd.plotly.v1+json": {
       "config": {
        "plotlyServerURL": "https://plot.ly"
       },
       "data": [
        {
         "name": "male",
         "type": "bar",
         "x": [
          "Cherbourg",
          "Queenstown",
          "Southampton"
         ],
         "y": [
          95,
          41,
          441
         ]
        },
        {
         "name": "female",
         "type": "bar",
         "x": [
          "Cherbourg",
          "Queenstown",
          "Southampton"
         ],
         "y": [
          73,
          36,
          203
         ]
        }
       ],
       "layout": {
        "barmode": "group",
        "template": {
         "data": {
          "bar": [
           {
            "error_x": {
             "color": "#2a3f5f"
            },
            "error_y": {
             "color": "#2a3f5f"
            },
            "marker": {
             "line": {
              "color": "#E5ECF6",
              "width": 0.5
             }
            },
            "type": "bar"
           }
          ],
          "barpolar": [
           {
            "marker": {
             "line": {
              "color": "#E5ECF6",
              "width": 0.5
             }
            },
            "type": "barpolar"
           }
          ],
          "carpet": [
           {
            "aaxis": {
             "endlinecolor": "#2a3f5f",
             "gridcolor": "white",
             "linecolor": "white",
             "minorgridcolor": "white",
             "startlinecolor": "#2a3f5f"
            },
            "baxis": {
             "endlinecolor": "#2a3f5f",
             "gridcolor": "white",
             "linecolor": "white",
             "minorgridcolor": "white",
             "startlinecolor": "#2a3f5f"
            },
            "type": "carpet"
           }
          ],
          "choropleth": [
           {
            "colorbar": {
             "outlinewidth": 0,
             "ticks": ""
            },
            "type": "choropleth"
           }
          ],
          "contour": [
           {
            "colorbar": {
             "outlinewidth": 0,
             "ticks": ""
            },
            "colorscale": [
             [
              0,
              "#0d0887"
             ],
             [
              0.1111111111111111,
              "#46039f"
             ],
             [
              0.2222222222222222,
              "#7201a8"
             ],
             [
              0.3333333333333333,
              "#9c179e"
             ],
             [
              0.4444444444444444,
              "#bd3786"
             ],
             [
              0.5555555555555556,
              "#d8576b"
             ],
             [
              0.6666666666666666,
              "#ed7953"
             ],
             [
              0.7777777777777778,
              "#fb9f3a"
             ],
             [
              0.8888888888888888,
              "#fdca26"
             ],
             [
              1,
              "#f0f921"
             ]
            ],
            "type": "contour"
           }
          ],
          "contourcarpet": [
           {
            "colorbar": {
             "outlinewidth": 0,
             "ticks": ""
            },
            "type": "contourcarpet"
           }
          ],
          "heatmap": [
           {
            "colorbar": {
             "outlinewidth": 0,
             "ticks": ""
            },
            "colorscale": [
             [
              0,
              "#0d0887"
             ],
             [
              0.1111111111111111,
              "#46039f"
             ],
             [
              0.2222222222222222,
              "#7201a8"
             ],
             [
              0.3333333333333333,
              "#9c179e"
             ],
             [
              0.4444444444444444,
              "#bd3786"
             ],
             [
              0.5555555555555556,
              "#d8576b"
             ],
             [
              0.6666666666666666,
              "#ed7953"
             ],
             [
              0.7777777777777778,
              "#fb9f3a"
             ],
             [
              0.8888888888888888,
              "#fdca26"
             ],
             [
              1,
              "#f0f921"
             ]
            ],
            "type": "heatmap"
           }
          ],
          "heatmapgl": [
           {
            "colorbar": {
             "outlinewidth": 0,
             "ticks": ""
            },
            "colorscale": [
             [
              0,
              "#0d0887"
             ],
             [
              0.1111111111111111,
              "#46039f"
             ],
             [
              0.2222222222222222,
              "#7201a8"
             ],
             [
              0.3333333333333333,
              "#9c179e"
             ],
             [
              0.4444444444444444,
              "#bd3786"
             ],
             [
              0.5555555555555556,
              "#d8576b"
             ],
             [
              0.6666666666666666,
              "#ed7953"
             ],
             [
              0.7777777777777778,
              "#fb9f3a"
             ],
             [
              0.8888888888888888,
              "#fdca26"
             ],
             [
              1,
              "#f0f921"
             ]
            ],
            "type": "heatmapgl"
           }
          ],
          "histogram": [
           {
            "marker": {
             "colorbar": {
              "outlinewidth": 0,
              "ticks": ""
             }
            },
            "type": "histogram"
           }
          ],
          "histogram2d": [
           {
            "colorbar": {
             "outlinewidth": 0,
             "ticks": ""
            },
            "colorscale": [
             [
              0,
              "#0d0887"
             ],
             [
              0.1111111111111111,
              "#46039f"
             ],
             [
              0.2222222222222222,
              "#7201a8"
             ],
             [
              0.3333333333333333,
              "#9c179e"
             ],
             [
              0.4444444444444444,
              "#bd3786"
             ],
             [
              0.5555555555555556,
              "#d8576b"
             ],
             [
              0.6666666666666666,
              "#ed7953"
             ],
             [
              0.7777777777777778,
              "#fb9f3a"
             ],
             [
              0.8888888888888888,
              "#fdca26"
             ],
             [
              1,
              "#f0f921"
             ]
            ],
            "type": "histogram2d"
           }
          ],
          "histogram2dcontour": [
           {
            "colorbar": {
             "outlinewidth": 0,
             "ticks": ""
            },
            "colorscale": [
             [
              0,
              "#0d0887"
             ],
             [
              0.1111111111111111,
              "#46039f"
             ],
             [
              0.2222222222222222,
              "#7201a8"
             ],
             [
              0.3333333333333333,
              "#9c179e"
             ],
             [
              0.4444444444444444,
              "#bd3786"
             ],
             [
              0.5555555555555556,
              "#d8576b"
             ],
             [
              0.6666666666666666,
              "#ed7953"
             ],
             [
              0.7777777777777778,
              "#fb9f3a"
             ],
             [
              0.8888888888888888,
              "#fdca26"
             ],
             [
              1,
              "#f0f921"
             ]
            ],
            "type": "histogram2dcontour"
           }
          ],
          "mesh3d": [
           {
            "colorbar": {
             "outlinewidth": 0,
             "ticks": ""
            },
            "type": "mesh3d"
           }
          ],
          "parcoords": [
           {
            "line": {
             "colorbar": {
              "outlinewidth": 0,
              "ticks": ""
             }
            },
            "type": "parcoords"
           }
          ],
          "pie": [
           {
            "automargin": true,
            "type": "pie"
           }
          ],
          "scatter": [
           {
            "marker": {
             "colorbar": {
              "outlinewidth": 0,
              "ticks": ""
             }
            },
            "type": "scatter"
           }
          ],
          "scatter3d": [
           {
            "line": {
             "colorbar": {
              "outlinewidth": 0,
              "ticks": ""
             }
            },
            "marker": {
             "colorbar": {
              "outlinewidth": 0,
              "ticks": ""
             }
            },
            "type": "scatter3d"
           }
          ],
          "scattercarpet": [
           {
            "marker": {
             "colorbar": {
              "outlinewidth": 0,
              "ticks": ""
             }
            },
            "type": "scattercarpet"
           }
          ],
          "scattergeo": [
           {
            "marker": {
             "colorbar": {
              "outlinewidth": 0,
              "ticks": ""
             }
            },
            "type": "scattergeo"
           }
          ],
          "scattergl": [
           {
            "marker": {
             "colorbar": {
              "outlinewidth": 0,
              "ticks": ""
             }
            },
            "type": "scattergl"
           }
          ],
          "scattermapbox": [
           {
            "marker": {
             "colorbar": {
              "outlinewidth": 0,
              "ticks": ""
             }
            },
            "type": "scattermapbox"
           }
          ],
          "scatterpolar": [
           {
            "marker": {
             "colorbar": {
              "outlinewidth": 0,
              "ticks": ""
             }
            },
            "type": "scatterpolar"
           }
          ],
          "scatterpolargl": [
           {
            "marker": {
             "colorbar": {
              "outlinewidth": 0,
              "ticks": ""
             }
            },
            "type": "scatterpolargl"
           }
          ],
          "scatterternary": [
           {
            "marker": {
             "colorbar": {
              "outlinewidth": 0,
              "ticks": ""
             }
            },
            "type": "scatterternary"
           }
          ],
          "surface": [
           {
            "colorbar": {
             "outlinewidth": 0,
             "ticks": ""
            },
            "colorscale": [
             [
              0,
              "#0d0887"
             ],
             [
              0.1111111111111111,
              "#46039f"
             ],
             [
              0.2222222222222222,
              "#7201a8"
             ],
             [
              0.3333333333333333,
              "#9c179e"
             ],
             [
              0.4444444444444444,
              "#bd3786"
             ],
             [
              0.5555555555555556,
              "#d8576b"
             ],
             [
              0.6666666666666666,
              "#ed7953"
             ],
             [
              0.7777777777777778,
              "#fb9f3a"
             ],
             [
              0.8888888888888888,
              "#fdca26"
             ],
             [
              1,
              "#f0f921"
             ]
            ],
            "type": "surface"
           }
          ],
          "table": [
           {
            "cells": {
             "fill": {
              "color": "#EBF0F8"
             },
             "line": {
              "color": "white"
             }
            },
            "header": {
             "fill": {
              "color": "#C8D4E3"
             },
             "line": {
              "color": "white"
             }
            },
            "type": "table"
           }
          ]
         },
         "layout": {
          "annotationdefaults": {
           "arrowcolor": "#2a3f5f",
           "arrowhead": 0,
           "arrowwidth": 1
          },
          "coloraxis": {
           "colorbar": {
            "outlinewidth": 0,
            "ticks": ""
           }
          },
          "colorscale": {
           "diverging": [
            [
             0,
             "#8e0152"
            ],
            [
             0.1,
             "#c51b7d"
            ],
            [
             0.2,
             "#de77ae"
            ],
            [
             0.3,
             "#f1b6da"
            ],
            [
             0.4,
             "#fde0ef"
            ],
            [
             0.5,
             "#f7f7f7"
            ],
            [
             0.6,
             "#e6f5d0"
            ],
            [
             0.7,
             "#b8e186"
            ],
            [
             0.8,
             "#7fbc41"
            ],
            [
             0.9,
             "#4d9221"
            ],
            [
             1,
             "#276419"
            ]
           ],
           "sequential": [
            [
             0,
             "#0d0887"
            ],
            [
             0.1111111111111111,
             "#46039f"
            ],
            [
             0.2222222222222222,
             "#7201a8"
            ],
            [
             0.3333333333333333,
             "#9c179e"
            ],
            [
             0.4444444444444444,
             "#bd3786"
            ],
            [
             0.5555555555555556,
             "#d8576b"
            ],
            [
             0.6666666666666666,
             "#ed7953"
            ],
            [
             0.7777777777777778,
             "#fb9f3a"
            ],
            [
             0.8888888888888888,
             "#fdca26"
            ],
            [
             1,
             "#f0f921"
            ]
           ],
           "sequentialminus": [
            [
             0,
             "#0d0887"
            ],
            [
             0.1111111111111111,
             "#46039f"
            ],
            [
             0.2222222222222222,
             "#7201a8"
            ],
            [
             0.3333333333333333,
             "#9c179e"
            ],
            [
             0.4444444444444444,
             "#bd3786"
            ],
            [
             0.5555555555555556,
             "#d8576b"
            ],
            [
             0.6666666666666666,
             "#ed7953"
            ],
            [
             0.7777777777777778,
             "#fb9f3a"
            ],
            [
             0.8888888888888888,
             "#fdca26"
            ],
            [
             1,
             "#f0f921"
            ]
           ]
          },
          "colorway": [
           "#636efa",
           "#EF553B",
           "#00cc96",
           "#ab63fa",
           "#FFA15A",
           "#19d3f3",
           "#FF6692",
           "#B6E880",
           "#FF97FF",
           "#FECB52"
          ],
          "font": {
           "color": "#2a3f5f"
          },
          "geo": {
           "bgcolor": "white",
           "lakecolor": "white",
           "landcolor": "#E5ECF6",
           "showlakes": true,
           "showland": true,
           "subunitcolor": "white"
          },
          "hoverlabel": {
           "align": "left"
          },
          "hovermode": "closest",
          "mapbox": {
           "style": "light"
          },
          "paper_bgcolor": "white",
          "plot_bgcolor": "#E5ECF6",
          "polar": {
           "angularaxis": {
            "gridcolor": "white",
            "linecolor": "white",
            "ticks": ""
           },
           "bgcolor": "#E5ECF6",
           "radialaxis": {
            "gridcolor": "white",
            "linecolor": "white",
            "ticks": ""
           }
          },
          "scene": {
           "xaxis": {
            "backgroundcolor": "#E5ECF6",
            "gridcolor": "white",
            "gridwidth": 2,
            "linecolor": "white",
            "showbackground": true,
            "ticks": "",
            "zerolinecolor": "white"
           },
           "yaxis": {
            "backgroundcolor": "#E5ECF6",
            "gridcolor": "white",
            "gridwidth": 2,
            "linecolor": "white",
            "showbackground": true,
            "ticks": "",
            "zerolinecolor": "white"
           },
           "zaxis": {
            "backgroundcolor": "#E5ECF6",
            "gridcolor": "white",
            "gridwidth": 2,
            "linecolor": "white",
            "showbackground": true,
            "ticks": "",
            "zerolinecolor": "white"
           }
          },
          "shapedefaults": {
           "line": {
            "color": "#2a3f5f"
           }
          },
          "ternary": {
           "aaxis": {
            "gridcolor": "white",
            "linecolor": "white",
            "ticks": ""
           },
           "baxis": {
            "gridcolor": "white",
            "linecolor": "white",
            "ticks": ""
           },
           "bgcolor": "#E5ECF6",
           "caxis": {
            "gridcolor": "white",
            "linecolor": "white",
            "ticks": ""
           }
          },
          "title": {
           "x": 0.05
          },
          "xaxis": {
           "automargin": true,
           "gridcolor": "white",
           "linecolor": "white",
           "ticks": "",
           "title": {
            "standoff": 15
           },
           "zerolinecolor": "white",
           "zerolinewidth": 2
          },
          "yaxis": {
           "automargin": true,
           "gridcolor": "white",
           "linecolor": "white",
           "ticks": "",
           "title": {
            "standoff": 15
           },
           "zerolinecolor": "white",
           "zerolinewidth": 2
          }
         }
        },
        "title": {
         "text": "Sexe des passager à l'embarquement",
         "x": 0.5,
         "xanchor": "center",
         "y": 0.9,
         "yanchor": "top"
        }
       }
      }
     },
     "metadata": {}
    }
   ],
   "source": [
    "labels1 = train.Sex[train.Sex == \"male\"].groupby(train.Embarked).count().index\n",
    "labels2 = train.Sex[train.Sex == \"female\"].groupby(train.Embarked).count().index\n",
    "values1 = train.Sex[train.Sex == \"male\"].groupby(train.Embarked).count().values\n",
    "values2 = train.Sex[train.Sex == \"female\"].groupby(train.Embarked).count().values\n",
    "\n",
    "\n",
    "fig10 = go.Figure(data=[\n",
    "    go.Bar(name='male', x=legend_embarked(labels1), y=values1),\n",
    "    go.Bar(name='female', x=legend_embarked(labels2), y=values2)\n",
    "])\n",
    "\n",
    "title = \"Sexe des passager à l'embarquement\"\n",
    "# Change the bar mode\n",
    "fig10.update_layout(title={'text' : title, 'y':0.9, 'x':0.5, 'xanchor': 'center', 'yanchor': 'top'}, barmode='group')\n",
    "fig10.show()"
   ]
  },
  {
   "cell_type": "code",
   "execution_count": 80,
   "metadata": {},
   "outputs": [
    {
     "output_type": "display_data",
     "data": {
      "application/vnd.plotly.v1+json": {
       "config": {
        "plotlyServerURL": "https://plot.ly"
       },
       "data": [
        {
         "domain": {
          "x": [
           0,
           1
          ],
          "y": [
           0,
           1
          ]
         },
         "hovertemplate": "label=%{label}<br>value=%{value}<extra></extra>",
         "labels": [
          "Cherbourg",
          "Queenstown",
          "Southampton"
         ],
         "legendgroup": "",
         "name": "",
         "showlegend": true,
         "type": "pie",
         "values": [
          168,
          77,
          644
         ]
        }
       ],
       "layout": {
        "legend": {
         "tracegroupgap": 0
        },
        "template": {
         "data": {
          "bar": [
           {
            "error_x": {
             "color": "#2a3f5f"
            },
            "error_y": {
             "color": "#2a3f5f"
            },
            "marker": {
             "line": {
              "color": "#E5ECF6",
              "width": 0.5
             }
            },
            "type": "bar"
           }
          ],
          "barpolar": [
           {
            "marker": {
             "line": {
              "color": "#E5ECF6",
              "width": 0.5
             }
            },
            "type": "barpolar"
           }
          ],
          "carpet": [
           {
            "aaxis": {
             "endlinecolor": "#2a3f5f",
             "gridcolor": "white",
             "linecolor": "white",
             "minorgridcolor": "white",
             "startlinecolor": "#2a3f5f"
            },
            "baxis": {
             "endlinecolor": "#2a3f5f",
             "gridcolor": "white",
             "linecolor": "white",
             "minorgridcolor": "white",
             "startlinecolor": "#2a3f5f"
            },
            "type": "carpet"
           }
          ],
          "choropleth": [
           {
            "colorbar": {
             "outlinewidth": 0,
             "ticks": ""
            },
            "type": "choropleth"
           }
          ],
          "contour": [
           {
            "colorbar": {
             "outlinewidth": 0,
             "ticks": ""
            },
            "colorscale": [
             [
              0,
              "#0d0887"
             ],
             [
              0.1111111111111111,
              "#46039f"
             ],
             [
              0.2222222222222222,
              "#7201a8"
             ],
             [
              0.3333333333333333,
              "#9c179e"
             ],
             [
              0.4444444444444444,
              "#bd3786"
             ],
             [
              0.5555555555555556,
              "#d8576b"
             ],
             [
              0.6666666666666666,
              "#ed7953"
             ],
             [
              0.7777777777777778,
              "#fb9f3a"
             ],
             [
              0.8888888888888888,
              "#fdca26"
             ],
             [
              1,
              "#f0f921"
             ]
            ],
            "type": "contour"
           }
          ],
          "contourcarpet": [
           {
            "colorbar": {
             "outlinewidth": 0,
             "ticks": ""
            },
            "type": "contourcarpet"
           }
          ],
          "heatmap": [
           {
            "colorbar": {
             "outlinewidth": 0,
             "ticks": ""
            },
            "colorscale": [
             [
              0,
              "#0d0887"
             ],
             [
              0.1111111111111111,
              "#46039f"
             ],
             [
              0.2222222222222222,
              "#7201a8"
             ],
             [
              0.3333333333333333,
              "#9c179e"
             ],
             [
              0.4444444444444444,
              "#bd3786"
             ],
             [
              0.5555555555555556,
              "#d8576b"
             ],
             [
              0.6666666666666666,
              "#ed7953"
             ],
             [
              0.7777777777777778,
              "#fb9f3a"
             ],
             [
              0.8888888888888888,
              "#fdca26"
             ],
             [
              1,
              "#f0f921"
             ]
            ],
            "type": "heatmap"
           }
          ],
          "heatmapgl": [
           {
            "colorbar": {
             "outlinewidth": 0,
             "ticks": ""
            },
            "colorscale": [
             [
              0,
              "#0d0887"
             ],
             [
              0.1111111111111111,
              "#46039f"
             ],
             [
              0.2222222222222222,
              "#7201a8"
             ],
             [
              0.3333333333333333,
              "#9c179e"
             ],
             [
              0.4444444444444444,
              "#bd3786"
             ],
             [
              0.5555555555555556,
              "#d8576b"
             ],
             [
              0.6666666666666666,
              "#ed7953"
             ],
             [
              0.7777777777777778,
              "#fb9f3a"
             ],
             [
              0.8888888888888888,
              "#fdca26"
             ],
             [
              1,
              "#f0f921"
             ]
            ],
            "type": "heatmapgl"
           }
          ],
          "histogram": [
           {
            "marker": {
             "colorbar": {
              "outlinewidth": 0,
              "ticks": ""
             }
            },
            "type": "histogram"
           }
          ],
          "histogram2d": [
           {
            "colorbar": {
             "outlinewidth": 0,
             "ticks": ""
            },
            "colorscale": [
             [
              0,
              "#0d0887"
             ],
             [
              0.1111111111111111,
              "#46039f"
             ],
             [
              0.2222222222222222,
              "#7201a8"
             ],
             [
              0.3333333333333333,
              "#9c179e"
             ],
             [
              0.4444444444444444,
              "#bd3786"
             ],
             [
              0.5555555555555556,
              "#d8576b"
             ],
             [
              0.6666666666666666,
              "#ed7953"
             ],
             [
              0.7777777777777778,
              "#fb9f3a"
             ],
             [
              0.8888888888888888,
              "#fdca26"
             ],
             [
              1,
              "#f0f921"
             ]
            ],
            "type": "histogram2d"
           }
          ],
          "histogram2dcontour": [
           {
            "colorbar": {
             "outlinewidth": 0,
             "ticks": ""
            },
            "colorscale": [
             [
              0,
              "#0d0887"
             ],
             [
              0.1111111111111111,
              "#46039f"
             ],
             [
              0.2222222222222222,
              "#7201a8"
             ],
             [
              0.3333333333333333,
              "#9c179e"
             ],
             [
              0.4444444444444444,
              "#bd3786"
             ],
             [
              0.5555555555555556,
              "#d8576b"
             ],
             [
              0.6666666666666666,
              "#ed7953"
             ],
             [
              0.7777777777777778,
              "#fb9f3a"
             ],
             [
              0.8888888888888888,
              "#fdca26"
             ],
             [
              1,
              "#f0f921"
             ]
            ],
            "type": "histogram2dcontour"
           }
          ],
          "mesh3d": [
           {
            "colorbar": {
             "outlinewidth": 0,
             "ticks": ""
            },
            "type": "mesh3d"
           }
          ],
          "parcoords": [
           {
            "line": {
             "colorbar": {
              "outlinewidth": 0,
              "ticks": ""
             }
            },
            "type": "parcoords"
           }
          ],
          "pie": [
           {
            "automargin": true,
            "type": "pie"
           }
          ],
          "scatter": [
           {
            "marker": {
             "colorbar": {
              "outlinewidth": 0,
              "ticks": ""
             }
            },
            "type": "scatter"
           }
          ],
          "scatter3d": [
           {
            "line": {
             "colorbar": {
              "outlinewidth": 0,
              "ticks": ""
             }
            },
            "marker": {
             "colorbar": {
              "outlinewidth": 0,
              "ticks": ""
             }
            },
            "type": "scatter3d"
           }
          ],
          "scattercarpet": [
           {
            "marker": {
             "colorbar": {
              "outlinewidth": 0,
              "ticks": ""
             }
            },
            "type": "scattercarpet"
           }
          ],
          "scattergeo": [
           {
            "marker": {
             "colorbar": {
              "outlinewidth": 0,
              "ticks": ""
             }
            },
            "type": "scattergeo"
           }
          ],
          "scattergl": [
           {
            "marker": {
             "colorbar": {
              "outlinewidth": 0,
              "ticks": ""
             }
            },
            "type": "scattergl"
           }
          ],
          "scattermapbox": [
           {
            "marker": {
             "colorbar": {
              "outlinewidth": 0,
              "ticks": ""
             }
            },
            "type": "scattermapbox"
           }
          ],
          "scatterpolar": [
           {
            "marker": {
             "colorbar": {
              "outlinewidth": 0,
              "ticks": ""
             }
            },
            "type": "scatterpolar"
           }
          ],
          "scatterpolargl": [
           {
            "marker": {
             "colorbar": {
              "outlinewidth": 0,
              "ticks": ""
             }
            },
            "type": "scatterpolargl"
           }
          ],
          "scatterternary": [
           {
            "marker": {
             "colorbar": {
              "outlinewidth": 0,
              "ticks": ""
             }
            },
            "type": "scatterternary"
           }
          ],
          "surface": [
           {
            "colorbar": {
             "outlinewidth": 0,
             "ticks": ""
            },
            "colorscale": [
             [
              0,
              "#0d0887"
             ],
             [
              0.1111111111111111,
              "#46039f"
             ],
             [
              0.2222222222222222,
              "#7201a8"
             ],
             [
              0.3333333333333333,
              "#9c179e"
             ],
             [
              0.4444444444444444,
              "#bd3786"
             ],
             [
              0.5555555555555556,
              "#d8576b"
             ],
             [
              0.6666666666666666,
              "#ed7953"
             ],
             [
              0.7777777777777778,
              "#fb9f3a"
             ],
             [
              0.8888888888888888,
              "#fdca26"
             ],
             [
              1,
              "#f0f921"
             ]
            ],
            "type": "surface"
           }
          ],
          "table": [
           {
            "cells": {
             "fill": {
              "color": "#EBF0F8"
             },
             "line": {
              "color": "white"
             }
            },
            "header": {
             "fill": {
              "color": "#C8D4E3"
             },
             "line": {
              "color": "white"
             }
            },
            "type": "table"
           }
          ]
         },
         "layout": {
          "annotationdefaults": {
           "arrowcolor": "#2a3f5f",
           "arrowhead": 0,
           "arrowwidth": 1
          },
          "coloraxis": {
           "colorbar": {
            "outlinewidth": 0,
            "ticks": ""
           }
          },
          "colorscale": {
           "diverging": [
            [
             0,
             "#8e0152"
            ],
            [
             0.1,
             "#c51b7d"
            ],
            [
             0.2,
             "#de77ae"
            ],
            [
             0.3,
             "#f1b6da"
            ],
            [
             0.4,
             "#fde0ef"
            ],
            [
             0.5,
             "#f7f7f7"
            ],
            [
             0.6,
             "#e6f5d0"
            ],
            [
             0.7,
             "#b8e186"
            ],
            [
             0.8,
             "#7fbc41"
            ],
            [
             0.9,
             "#4d9221"
            ],
            [
             1,
             "#276419"
            ]
           ],
           "sequential": [
            [
             0,
             "#0d0887"
            ],
            [
             0.1111111111111111,
             "#46039f"
            ],
            [
             0.2222222222222222,
             "#7201a8"
            ],
            [
             0.3333333333333333,
             "#9c179e"
            ],
            [
             0.4444444444444444,
             "#bd3786"
            ],
            [
             0.5555555555555556,
             "#d8576b"
            ],
            [
             0.6666666666666666,
             "#ed7953"
            ],
            [
             0.7777777777777778,
             "#fb9f3a"
            ],
            [
             0.8888888888888888,
             "#fdca26"
            ],
            [
             1,
             "#f0f921"
            ]
           ],
           "sequentialminus": [
            [
             0,
             "#0d0887"
            ],
            [
             0.1111111111111111,
             "#46039f"
            ],
            [
             0.2222222222222222,
             "#7201a8"
            ],
            [
             0.3333333333333333,
             "#9c179e"
            ],
            [
             0.4444444444444444,
             "#bd3786"
            ],
            [
             0.5555555555555556,
             "#d8576b"
            ],
            [
             0.6666666666666666,
             "#ed7953"
            ],
            [
             0.7777777777777778,
             "#fb9f3a"
            ],
            [
             0.8888888888888888,
             "#fdca26"
            ],
            [
             1,
             "#f0f921"
            ]
           ]
          },
          "colorway": [
           "#636efa",
           "#EF553B",
           "#00cc96",
           "#ab63fa",
           "#FFA15A",
           "#19d3f3",
           "#FF6692",
           "#B6E880",
           "#FF97FF",
           "#FECB52"
          ],
          "font": {
           "color": "#2a3f5f"
          },
          "geo": {
           "bgcolor": "white",
           "lakecolor": "white",
           "landcolor": "#E5ECF6",
           "showlakes": true,
           "showland": true,
           "subunitcolor": "white"
          },
          "hoverlabel": {
           "align": "left"
          },
          "hovermode": "closest",
          "mapbox": {
           "style": "light"
          },
          "paper_bgcolor": "white",
          "plot_bgcolor": "#E5ECF6",
          "polar": {
           "angularaxis": {
            "gridcolor": "white",
            "linecolor": "white",
            "ticks": ""
           },
           "bgcolor": "#E5ECF6",
           "radialaxis": {
            "gridcolor": "white",
            "linecolor": "white",
            "ticks": ""
           }
          },
          "scene": {
           "xaxis": {
            "backgroundcolor": "#E5ECF6",
            "gridcolor": "white",
            "gridwidth": 2,
            "linecolor": "white",
            "showbackground": true,
            "ticks": "",
            "zerolinecolor": "white"
           },
           "yaxis": {
            "backgroundcolor": "#E5ECF6",
            "gridcolor": "white",
            "gridwidth": 2,
            "linecolor": "white",
            "showbackground": true,
            "ticks": "",
            "zerolinecolor": "white"
           },
           "zaxis": {
            "backgroundcolor": "#E5ECF6",
            "gridcolor": "white",
            "gridwidth": 2,
            "linecolor": "white",
            "showbackground": true,
            "ticks": "",
            "zerolinecolor": "white"
           }
          },
          "shapedefaults": {
           "line": {
            "color": "#2a3f5f"
           }
          },
          "ternary": {
           "aaxis": {
            "gridcolor": "white",
            "linecolor": "white",
            "ticks": ""
           },
           "baxis": {
            "gridcolor": "white",
            "linecolor": "white",
            "ticks": ""
           },
           "bgcolor": "#E5ECF6",
           "caxis": {
            "gridcolor": "white",
            "linecolor": "white",
            "ticks": ""
           }
          },
          "title": {
           "x": 0.05
          },
          "xaxis": {
           "automargin": true,
           "gridcolor": "white",
           "linecolor": "white",
           "ticks": "",
           "title": {
            "standoff": 15
           },
           "zerolinecolor": "white",
           "zerolinewidth": 2
          },
          "yaxis": {
           "automargin": true,
           "gridcolor": "white",
           "linecolor": "white",
           "ticks": "",
           "title": {
            "standoff": 15
           },
           "zerolinecolor": "white",
           "zerolinewidth": 2
          }
         }
        },
        "title": {
         "text": "Nombre de passagers par lieu d'embarquement",
         "x": 0.5,
         "xanchor": "center",
         "y": 0.9,
         "yanchor": "top"
        }
       }
      }
     },
     "metadata": {}
    }
   ],
   "source": [
    "title = \"Nombre de passagers par lieu d'embarquement\"\n",
    "\n",
    "fig9 = px.pie(names = legend_embarked(b.index), values = b.values, title = {'text' : title, 'y':0.9, 'x':0.5, 'xanchor': 'center', 'yanchor': 'top'})\n",
    "fig9.show()"
   ]
  },
  {
   "cell_type": "code",
   "execution_count": 24,
   "metadata": {},
   "outputs": [
    {
     "output_type": "execute_result",
     "data": {
      "text/plain": "<matplotlib.collections.PathCollection at 0x2ad39d4c388>"
     },
     "metadata": {},
     "execution_count": 24
    },
    {
     "output_type": "display_data",
     "data": {
      "text/plain": "<Figure size 432x288 with 1 Axes>",
      "image/svg+xml": "<?xml version=\"1.0\" encoding=\"utf-8\" standalone=\"no\"?>\r\n<!DOCTYPE svg PUBLIC \"-//W3C//DTD SVG 1.1//EN\"\r\n  \"http://www.w3.org/Graphics/SVG/1.1/DTD/svg11.dtd\">\r\n<!-- Created with matplotlib (https://matplotlib.org/) -->\r\n<svg height=\"248.518125pt\" version=\"1.1\" viewBox=\"0 0 368.925 248.518125\" width=\"368.925pt\" xmlns=\"http://www.w3.org/2000/svg\" xmlns:xlink=\"http://www.w3.org/1999/xlink\">\r\n <defs>\r\n  <style type=\"text/css\">\r\n*{stroke-linecap:butt;stroke-linejoin:round;}\r\n  </style>\r\n </defs>\r\n <g id=\"figure_1\">\r\n  <g id=\"patch_1\">\r\n   <path d=\"M -0 248.518125 \r\nL 368.925 248.518125 \r\nL 368.925 0 \r\nL -0 0 \r\nz\r\n\" style=\"fill:none;\"/>\r\n  </g>\r\n  <g id=\"axes_1\">\r\n   <g id=\"patch_2\">\r\n    <path d=\"M 26.925 224.64 \r\nL 361.725 224.64 \r\nL 361.725 7.2 \r\nL 26.925 7.2 \r\nz\r\n\" style=\"fill:#ffffff;\"/>\r\n   </g>\r\n   <g id=\"PathCollection_1\">\r\n    <defs>\r\n     <path d=\"M 0 3 \r\nC 0.795609 3 1.55874 2.683901 2.12132 2.12132 \r\nC 2.683901 1.55874 3 0.795609 3 0 \r\nC 3 -0.795609 2.683901 -1.55874 2.12132 -2.12132 \r\nC 1.55874 -2.683901 0.795609 -3 0 -3 \r\nC -0.795609 -3 -1.55874 -2.683901 -2.12132 -2.12132 \r\nC -2.683901 -1.55874 -3 -0.795609 -3 0 \r\nC -3 0.795609 -2.683901 1.55874 -2.12132 2.12132 \r\nC -1.55874 2.683901 -0.795609 3 0 3 \r\nz\r\n\" id=\"C0_0_3af0533cb5\"/>\r\n    </defs>\r\n    <g clip-path=\"url(#p642404fdf6)\">\r\n     <use style=\"fill:#7f3b08;stroke:#7f3b08;\" x=\"46.455422\" xlink:href=\"#C0_0_3af0533cb5\" y=\"161.137048\"/>\r\n    </g>\r\n    <g clip-path=\"url(#p642404fdf6)\">\r\n     <use style=\"fill:#2d004b;stroke:#2d004b;\" x=\"84.494882\" xlink:href=\"#C0_0_3af0533cb5\" y=\"121.407626\"/>\r\n    </g>\r\n    <g clip-path=\"url(#p642404fdf6)\">\r\n     <use style=\"fill:#2d004b;stroke:#2d004b;\" x=\"46.85641\" xlink:href=\"#C0_0_3af0533cb5\" y=\"151.204692\"/>\r\n    </g>\r\n    <g clip-path=\"url(#p642404fdf6)\">\r\n     <use style=\"fill:#2d004b;stroke:#2d004b;\" x=\"73.692957\" xlink:href=\"#C0_0_3af0533cb5\" y=\"128.856893\"/>\r\n    </g>\r\n    <g clip-path=\"url(#p642404fdf6)\">\r\n     <use style=\"fill:#7f3b08;stroke:#7f3b08;\" x=\"46.930668\" xlink:href=\"#C0_0_3af0533cb5\" y=\"128.856893\"/>\r\n    </g>\r\n    <g clip-path=\"url(#p642404fdf6)\">\r\n     <use style=\"fill:#7f3b08;stroke:#7f3b08;\" x=\"47.173221\" xlink:href=\"#C0_0_3af0533cb5\" y=\"142.019455\"/>\r\n    </g>\r\n    <g clip-path=\"url(#p642404fdf6)\">\r\n     <use style=\"fill:#7f3b08;stroke:#7f3b08;\" x=\"72.957811\" xlink:href=\"#C0_0_3af0533cb5\" y=\"81.678205\"/>\r\n    </g>\r\n    <g clip-path=\"url(#p642404fdf6)\">\r\n     <use style=\"fill:#7f3b08;stroke:#7f3b08;\" x=\"54.668266\" xlink:href=\"#C0_0_3af0533cb5\" y=\"210.798824\"/>\r\n    </g>\r\n    <g clip-path=\"url(#p642404fdf6)\">\r\n     <use style=\"fill:#2d004b;stroke:#2d004b;\" x=\"48.762325\" xlink:href=\"#C0_0_3af0533cb5\" y=\"148.721603\"/>\r\n    </g>\r\n    <g clip-path=\"url(#p642404fdf6)\">\r\n     <use style=\"fill:#2d004b;stroke:#2d004b;\" x=\"60.012288\" xlink:href=\"#C0_0_3af0533cb5\" y=\"181.001758\"/>\r\n    </g>\r\n    <g clip-path=\"url(#p642404fdf6)\">\r\n     <use style=\"fill:#2d004b;stroke:#2d004b;\" x=\"52.069265\" xlink:href=\"#C0_0_3af0533cb5\" y=\"205.832647\"/>\r\n    </g>\r\n    <g clip-path=\"url(#p642404fdf6)\">\r\n     <use style=\"fill:#2d004b;stroke:#2d004b;\" x=\"57.920731\" xlink:href=\"#C0_0_3af0533cb5\" y=\"71.74585\"/>\r\n    </g>\r\n    <g clip-path=\"url(#p642404fdf6)\">\r\n     <use style=\"fill:#7f3b08;stroke:#7f3b08;\" x=\"46.930668\" xlink:href=\"#C0_0_3af0533cb5\" y=\"166.103225\"/>\r\n    </g>\r\n    <g clip-path=\"url(#p642404fdf6)\">\r\n     <use style=\"fill:#7f3b08;stroke:#7f3b08;\" x=\"60.727652\" xlink:href=\"#C0_0_3af0533cb5\" y=\"118.924537\"/>\r\n    </g>\r\n    <g clip-path=\"url(#p642404fdf6)\">\r\n     <use style=\"fill:#7f3b08;stroke:#7f3b08;\" x=\"46.814351\" xlink:href=\"#C0_0_3af0533cb5\" y=\"181.001758\"/>\r\n    </g>\r\n    <g clip-path=\"url(#p642404fdf6)\">\r\n     <use style=\"fill:#2d004b;stroke:#2d004b;\" x=\"51.653424\" xlink:href=\"#C0_0_3af0533cb5\" y=\"79.195116\"/>\r\n    </g>\r\n    <g clip-path=\"url(#p642404fdf6)\">\r\n     <use style=\"fill:#7f3b08;stroke:#7f3b08;\" x=\"59.450429\" xlink:href=\"#C0_0_3af0533cb5\" y=\"210.798824\"/>\r\n    </g>\r\n    <g clip-path=\"url(#p642404fdf6)\">\r\n     <use style=\"fill:#2d004b;stroke:#2d004b;\" x=\"49.871252\" xlink:href=\"#C0_0_3af0533cb5\" y=\"142.019455\"/>\r\n    </g>\r\n    <g clip-path=\"url(#p642404fdf6)\">\r\n     <use style=\"fill:#7f3b08;stroke:#7f3b08;\" x=\"52.841539\" xlink:href=\"#C0_0_3af0533cb5\" y=\"138.789248\"/>\r\n    </g>\r\n    <g clip-path=\"url(#p642404fdf6)\">\r\n     <use style=\"fill:#2d004b;stroke:#2d004b;\" x=\"46.44057\" xlink:href=\"#C0_0_3af0533cb5\" y=\"142.019455\"/>\r\n    </g>\r\n    <g clip-path=\"url(#p642404fdf6)\">\r\n     <use style=\"fill:#7f3b08;stroke:#7f3b08;\" x=\"57.593999\" xlink:href=\"#C0_0_3af0533cb5\" y=\"128.856893\"/>\r\n    </g>\r\n    <g clip-path=\"url(#p642404fdf6)\">\r\n     <use style=\"fill:#2d004b;stroke:#2d004b;\" x=\"49.871252\" xlink:href=\"#C0_0_3af0533cb5\" y=\"131.339982\"/>\r\n    </g>\r\n    <g clip-path=\"url(#p642404fdf6)\">\r\n     <use style=\"fill:#2d004b;stroke:#2d004b;\" x=\"46.918311\" xlink:href=\"#C0_0_3af0533cb5\" y=\"178.518669\"/>\r\n    </g>\r\n    <g clip-path=\"url(#p642404fdf6)\">\r\n     <use style=\"fill:#2d004b;stroke:#2d004b;\" x=\"63.237545\" xlink:href=\"#C0_0_3af0533cb5\" y=\"146.238515\"/>\r\n    </g>\r\n    <g clip-path=\"url(#p642404fdf6)\">\r\n     <use style=\"fill:#7f3b08;stroke:#7f3b08;\" x=\"54.668266\" xlink:href=\"#C0_0_3af0533cb5\" y=\"195.900291\"/>\r\n    </g>\r\n    <g clip-path=\"url(#p642404fdf6)\">\r\n     <use style=\"fill:#2d004b;stroke:#2d004b;\" x=\"60.794484\" xlink:href=\"#C0_0_3af0533cb5\" y=\"121.407626\"/>\r\n    </g>\r\n    <g clip-path=\"url(#p642404fdf6)\">\r\n     <use style=\"fill:#7f3b08;stroke:#7f3b08;\" x=\"46.44057\" xlink:href=\"#C0_0_3af0533cb5\" y=\"142.019455\"/>\r\n    </g>\r\n    <g clip-path=\"url(#p642404fdf6)\">\r\n     <use style=\"fill:#7f3b08;stroke:#7f3b08;\" x=\"198.38562\" xlink:href=\"#C0_0_3af0533cb5\" y=\"168.586314\"/>\r\n    </g>\r\n    <g clip-path=\"url(#p642404fdf6)\">\r\n     <use style=\"fill:#2d004b;stroke:#2d004b;\" x=\"46.829203\" xlink:href=\"#C0_0_3af0533cb5\" y=\"142.019455\"/>\r\n    </g>\r\n    <g clip-path=\"url(#p642404fdf6)\">\r\n     <use style=\"fill:#7f3b08;stroke:#7f3b08;\" x=\"46.839064\" xlink:href=\"#C0_0_3af0533cb5\" y=\"142.019455\"/>\r\n    </g>\r\n    <g clip-path=\"url(#p642404fdf6)\">\r\n     <use style=\"fill:#7f3b08;stroke:#7f3b08;\" x=\"58.616253\" xlink:href=\"#C0_0_3af0533cb5\" y=\"116.441449\"/>\r\n    </g>\r\n    <g clip-path=\"url(#p642404fdf6)\">\r\n     <use style=\"fill:#2d004b;stroke:#2d004b;\" x=\"129.190281\" xlink:href=\"#C0_0_3af0533cb5\" y=\"142.019455\"/>\r\n    </g>\r\n    <g clip-path=\"url(#p642404fdf6)\">\r\n     <use style=\"fill:#2d004b;stroke:#2d004b;\" x=\"46.75245\" xlink:href=\"#C0_0_3af0533cb5\" y=\"142.019455\"/>\r\n    </g>\r\n    <g clip-path=\"url(#p642404fdf6)\">\r\n     <use style=\"fill:#7f3b08;stroke:#7f3b08;\" x=\"48.386108\" xlink:href=\"#C0_0_3af0533cb5\" y=\"51.881139\"/>\r\n    </g>\r\n    <g clip-path=\"url(#p642404fdf6)\">\r\n     <use style=\"fill:#7f3b08;stroke:#7f3b08;\" x=\"90.962683\" xlink:href=\"#C0_0_3af0533cb5\" y=\"146.238515\"/>\r\n    </g>\r\n    <g clip-path=\"url(#p642404fdf6)\">\r\n     <use style=\"fill:#7f3b08;stroke:#7f3b08;\" x=\"73.039494\" xlink:href=\"#C0_0_3af0533cb5\" y=\"111.475271\"/>\r\n    </g>\r\n    <g clip-path=\"url(#p642404fdf6)\">\r\n     <use style=\"fill:#2d004b;stroke:#2d004b;\" x=\"46.443065\" xlink:href=\"#C0_0_3af0533cb5\" y=\"142.019455\"/>\r\n    </g>\r\n    <g clip-path=\"url(#p642404fdf6)\">\r\n     <use style=\"fill:#7f3b08;stroke:#7f3b08;\" x=\"46.930668\" xlink:href=\"#C0_0_3af0533cb5\" y=\"163.620136\"/>\r\n    </g>\r\n    <g clip-path=\"url(#p642404fdf6)\">\r\n     <use style=\"fill:#7f3b08;stroke:#7f3b08;\" x=\"52.841539\" xlink:href=\"#C0_0_3af0533cb5\" y=\"171.069403\"/>\r\n    </g>\r\n    <g clip-path=\"url(#p642404fdf6)\">\r\n     <use style=\"fill:#2d004b;stroke:#2d004b;\" x=\"48.826721\" xlink:href=\"#C0_0_3af0533cb5\" y=\"181.001758\"/>\r\n    </g>\r\n    <g clip-path=\"url(#p642404fdf6)\">\r\n     <use style=\"fill:#7f3b08;stroke:#7f3b08;\" x=\"47.777199\" xlink:href=\"#C0_0_3af0533cb5\" y=\"116.441449\"/>\r\n    </g>\r\n    <g clip-path=\"url(#p642404fdf6)\">\r\n     <use style=\"fill:#7f3b08;stroke:#7f3b08;\" x=\"54.623712\" xlink:href=\"#C0_0_3af0533cb5\" y=\"148.721603\"/>\r\n    </g>\r\n    <g clip-path=\"url(#p642404fdf6)\">\r\n     <use style=\"fill:#7f3b08;stroke:#7f3b08;\" x=\"46.839064\" xlink:href=\"#C0_0_3af0533cb5\" y=\"142.019455\"/>\r\n    </g>\r\n    <g clip-path=\"url(#p642404fdf6)\">\r\n     <use style=\"fill:#2d004b;stroke:#2d004b;\" x=\"66.848939\" xlink:href=\"#C0_0_3af0533cb5\" y=\"208.315735\"/>\r\n    </g>\r\n    <g clip-path=\"url(#p642404fdf6)\">\r\n     <use style=\"fill:#2d004b;stroke:#2d004b;\" x=\"46.829203\" xlink:href=\"#C0_0_3af0533cb5\" y=\"168.586314\"/>\r\n    </g>\r\n    <g clip-path=\"url(#p642404fdf6)\">\r\n     <use style=\"fill:#7f3b08;stroke:#7f3b08;\" x=\"46.930668\" xlink:href=\"#C0_0_3af0533cb5\" y=\"142.019455\"/>\r\n    </g>\r\n    <g clip-path=\"url(#p642404fdf6)\">\r\n     <use style=\"fill:#7f3b08;stroke:#7f3b08;\" x=\"51.356396\" xlink:href=\"#C0_0_3af0533cb5\" y=\"142.019455\"/>\r\n    </g>\r\n    <g clip-path=\"url(#p642404fdf6)\">\r\n     <use style=\"fill:#2d004b;stroke:#2d004b;\" x=\"46.75245\" xlink:href=\"#C0_0_3af0533cb5\" y=\"142.019455\"/>\r\n    </g>\r\n    <g clip-path=\"url(#p642404fdf6)\">\r\n     <use style=\"fill:#7f3b08;stroke:#7f3b08;\" x=\"55.027196\" xlink:href=\"#C0_0_3af0533cb5\" y=\"142.019455\"/>\r\n    </g>\r\n    <g clip-path=\"url(#p642404fdf6)\">\r\n     <use style=\"fill:#7f3b08;stroke:#7f3b08;\" x=\"52.722728\" xlink:href=\"#C0_0_3af0533cb5\" y=\"171.069403\"/>\r\n    </g>\r\n    <g clip-path=\"url(#p642404fdf6)\">\r\n     <use style=\"fill:#7f3b08;stroke:#7f3b08;\" x=\"65.725161\" xlink:href=\"#C0_0_3af0533cb5\" y=\"198.38338\"/>\r\n    </g>\r\n    <g clip-path=\"url(#p642404fdf6)\">\r\n     <use style=\"fill:#7f3b08;stroke:#7f3b08;\" x=\"46.782153\" xlink:href=\"#C0_0_3af0533cb5\" y=\"163.620136\"/>\r\n    </g>\r\n    <g clip-path=\"url(#p642404fdf6)\">\r\n     <use style=\"fill:#2d004b;stroke:#2d004b;\" x=\"87.73006\" xlink:href=\"#C0_0_3af0533cb5\" y=\"94.093649\"/>\r\n    </g>\r\n    <g clip-path=\"url(#p642404fdf6)\">\r\n     <use style=\"fill:#2d004b;stroke:#2d004b;\" x=\"57.593999\" xlink:href=\"#C0_0_3af0533cb5\" y=\"143.755426\"/>\r\n    </g>\r\n    <g clip-path=\"url(#p642404fdf6)\">\r\n     <use style=\"fill:#7f3b08;stroke:#7f3b08;\" x=\"78.967712\" xlink:href=\"#C0_0_3af0533cb5\" y=\"54.364228\"/>\r\n    </g>\r\n    <g clip-path=\"url(#p642404fdf6)\">\r\n     <use style=\"fill:#2d004b;stroke:#2d004b;\" x=\"63.237545\" xlink:href=\"#C0_0_3af0533cb5\" y=\"142.019455\"/>\r\n    </g>\r\n    <g clip-path=\"url(#p642404fdf6)\">\r\n     <use style=\"fill:#2d004b;stroke:#2d004b;\" x=\"48.386108\" xlink:href=\"#C0_0_3af0533cb5\" y=\"163.620136\"/>\r\n    </g>\r\n    <g clip-path=\"url(#p642404fdf6)\">\r\n     <use style=\"fill:#7f3b08;stroke:#7f3b08;\" x=\"46.443065\" xlink:href=\"#C0_0_3af0533cb5\" y=\"144.99697\"/>\r\n    </g>\r\n    <g clip-path=\"url(#p642404fdf6)\">\r\n     <use style=\"fill:#2d004b;stroke:#2d004b;\" x=\"58.6336\" xlink:href=\"#C0_0_3af0533cb5\" y=\"203.349558\"/>\r\n    </g>\r\n    <g clip-path=\"url(#p642404fdf6)\">\r\n     <use style=\"fill:#7f3b08;stroke:#7f3b08;\" x=\"70.0098\" xlink:href=\"#C0_0_3af0533cb5\" y=\"188.451025\"/>\r\n    </g>\r\n    <g clip-path=\"url(#p642404fdf6)\">\r\n     <use style=\"fill:#7f3b08;stroke:#7f3b08;\" x=\"46.443065\" xlink:href=\"#C0_0_3af0533cb5\" y=\"161.137048\"/>\r\n    </g>\r\n    <g clip-path=\"url(#p642404fdf6)\">\r\n     <use style=\"fill:#7f3b08;stroke:#7f3b08;\" x=\"91.737453\" xlink:href=\"#C0_0_3af0533cb5\" y=\"104.026004\"/>\r\n    </g>\r\n    <g clip-path=\"url(#p642404fdf6)\">\r\n     <use style=\"fill:#7f3b08;stroke:#7f3b08;\" x=\"58.722708\" xlink:href=\"#C0_0_3af0533cb5\" y=\"205.832647\"/>\r\n    </g>\r\n    <g clip-path=\"url(#p642404fdf6)\">\r\n     <use style=\"fill:#7f3b08;stroke:#7f3b08;\" x=\"58.616253\" xlink:href=\"#C0_0_3af0533cb5\" y=\"142.019455\"/>\r\n    </g>\r\n    <g clip-path=\"url(#p642404fdf6)\">\r\n     <use style=\"fill:#2d004b;stroke:#2d004b;\" x=\"51.205386\" xlink:href=\"#C0_0_3af0533cb5\" y=\"142.019455\"/>\r\n    </g>\r\n    <g clip-path=\"url(#p642404fdf6)\">\r\n     <use style=\"fill:#2d004b;stroke:#2d004b;\" x=\"48.386108\" xlink:href=\"#C0_0_3af0533cb5\" y=\"143.755426\"/>\r\n    </g>\r\n    <g clip-path=\"url(#p642404fdf6)\">\r\n     <use style=\"fill:#7f3b08;stroke:#7f3b08;\" x=\"46.995004\" xlink:href=\"#C0_0_3af0533cb5\" y=\"168.586314\"/>\r\n    </g>\r\n    <g clip-path=\"url(#p642404fdf6)\">\r\n     <use style=\"fill:#2d004b;stroke:#2d004b;\" x=\"46.85641\" xlink:href=\"#C0_0_3af0533cb5\" y=\"173.552492\"/>\r\n    </g>\r\n    <g clip-path=\"url(#p642404fdf6)\">\r\n     <use style=\"fill:#7f3b08;stroke:#7f3b08;\" x=\"47.294528\" xlink:href=\"#C0_0_3af0533cb5\" y=\"151.204692\"/>\r\n    </g>\r\n    <g clip-path=\"url(#p642404fdf6)\">\r\n     <use style=\"fill:#7f3b08;stroke:#7f3b08;\" x=\"48.386108\" xlink:href=\"#C0_0_3af0533cb5\" y=\"136.306159\"/>\r\n    </g>\r\n    <g clip-path=\"url(#p642404fdf6)\">\r\n     <use style=\"fill:#7f3b08;stroke:#7f3b08;\" x=\"70.0098\" xlink:href=\"#C0_0_3af0533cb5\" y=\"176.035581\"/>\r\n    </g>\r\n    <g clip-path=\"url(#p642404fdf6)\">\r\n     <use style=\"fill:#7f3b08;stroke:#7f3b08;\" x=\"85.811729\" xlink:href=\"#C0_0_3af0533cb5\" y=\"163.620136\"/>\r\n    </g>\r\n    <g clip-path=\"url(#p642404fdf6)\">\r\n     <use style=\"fill:#7f3b08;stroke:#7f3b08;\" x=\"50.73513\" xlink:href=\"#C0_0_3af0533cb5\" y=\"151.204692\"/>\r\n    </g>\r\n    <g clip-path=\"url(#p642404fdf6)\">\r\n     <use style=\"fill:#2d004b;stroke:#2d004b;\" x=\"75.710257\" xlink:href=\"#C0_0_3af0533cb5\" y=\"136.306159\"/>\r\n    </g>\r\n    <g clip-path=\"url(#p642404fdf6)\">\r\n     <use style=\"fill:#7f3b08;stroke:#7f3b08;\" x=\"46.693045\" xlink:href=\"#C0_0_3af0533cb5\" y=\"153.687781\"/>\r\n    </g>\r\n    <g clip-path=\"url(#p642404fdf6)\">\r\n     <use style=\"fill:#7f3b08;stroke:#7f3b08;\" x=\"46.839064\" xlink:href=\"#C0_0_3af0533cb5\" y=\"142.019455\"/>\r\n    </g>\r\n    <g clip-path=\"url(#p642404fdf6)\">\r\n     <use style=\"fill:#7f3b08;stroke:#7f3b08;\" x=\"46.930668\" xlink:href=\"#C0_0_3af0533cb5\" y=\"142.019455\"/>\r\n    </g>\r\n    <g clip-path=\"url(#p642404fdf6)\">\r\n     <use style=\"fill:#2d004b;stroke:#2d004b;\" x=\"59.376172\" xlink:href=\"#C0_0_3af0533cb5\" y=\"213.704038\"/>\r\n    </g>\r\n    <g clip-path=\"url(#p642404fdf6)\">\r\n     <use style=\"fill:#2d004b;stroke:#2d004b;\" x=\"49.559372\" xlink:href=\"#C0_0_3af0533cb5\" y=\"141.272337\"/>\r\n    </g>\r\n    <g clip-path=\"url(#p642404fdf6)\">\r\n     <use style=\"fill:#7f3b08;stroke:#7f3b08;\" x=\"47.495022\" xlink:href=\"#C0_0_3af0533cb5\" y=\"161.137048\"/>\r\n    </g>\r\n    <g clip-path=\"url(#p642404fdf6)\">\r\n     <use style=\"fill:#2d004b;stroke:#2d004b;\" x=\"47.792051\" xlink:href=\"#C0_0_3af0533cb5\" y=\"143.755426\"/>\r\n    </g>\r\n    <g clip-path=\"url(#p642404fdf6)\">\r\n     <use style=\"fill:#2d004b;stroke:#2d004b;\" x=\"46.774727\" xlink:href=\"#C0_0_3af0533cb5\" y=\"142.019455\"/>\r\n    </g>\r\n    <g clip-path=\"url(#p642404fdf6)\">\r\n     <use style=\"fill:#7f3b08;stroke:#7f3b08;\" x=\"70.128612\" xlink:href=\"#C0_0_3af0533cb5\" y=\"146.238515\"/>\r\n    </g>\r\n    <g clip-path=\"url(#p642404fdf6)\">\r\n     <use style=\"fill:#2d004b;stroke:#2d004b;\" x=\"48.386108\" xlink:href=\"#C0_0_3af0533cb5\" y=\"173.552492\"/>\r\n    </g>\r\n    <g clip-path=\"url(#p642404fdf6)\">\r\n     <use style=\"fill:#2d004b;stroke:#2d004b;\" x=\"51.564316\" xlink:href=\"#C0_0_3af0533cb5\" y=\"133.82307\"/>\r\n    </g>\r\n    <g clip-path=\"url(#p642404fdf6)\">\r\n     <use style=\"fill:#7f3b08;stroke:#7f3b08;\" x=\"62.569231\" xlink:href=\"#C0_0_3af0533cb5\" y=\"176.035581\"/>\r\n    </g>\r\n    <g clip-path=\"url(#p642404fdf6)\">\r\n     <use style=\"fill:#7f3b08;stroke:#7f3b08;\" x=\"46.930668\" xlink:href=\"#C0_0_3af0533cb5\" y=\"142.019455\"/>\r\n    </g>\r\n    <g clip-path=\"url(#p642404fdf6)\">\r\n     <use style=\"fill:#2d004b;stroke:#2d004b;\" x=\"198.38562\" xlink:href=\"#C0_0_3af0533cb5\" y=\"158.653959\"/>\r\n    </g>\r\n    <g clip-path=\"url(#p642404fdf6)\">\r\n     <use style=\"fill:#7f3b08;stroke:#7f3b08;\" x=\"46.930668\" xlink:href=\"#C0_0_3af0533cb5\" y=\"156.17087\"/>\r\n    </g>\r\n    <g clip-path=\"url(#p642404fdf6)\">\r\n     <use style=\"fill:#7f3b08;stroke:#7f3b08;\" x=\"46.930668\" xlink:href=\"#C0_0_3af0533cb5\" y=\"143.755426\"/>\r\n    </g>\r\n    <g clip-path=\"url(#p642404fdf6)\">\r\n     <use style=\"fill:#7f3b08;stroke:#7f3b08;\" x=\"46.814351\" xlink:href=\"#C0_0_3af0533cb5\" y=\"166.103225\"/>\r\n    </g>\r\n    <g clip-path=\"url(#p642404fdf6)\">\r\n     <use style=\"fill:#7f3b08;stroke:#7f3b08;\" x=\"78.489971\" xlink:href=\"#C0_0_3af0533cb5\" y=\"101.542916\"/>\r\n    </g>\r\n    <g clip-path=\"url(#p642404fdf6)\">\r\n     <use style=\"fill:#7f3b08;stroke:#7f3b08;\" x=\"54.371237\" xlink:href=\"#C0_0_3af0533cb5\" y=\"151.204692\"/>\r\n    </g>\r\n    <g clip-path=\"url(#p642404fdf6)\">\r\n     <use style=\"fill:#7f3b08;stroke:#7f3b08;\" x=\"46.455422\" xlink:href=\"#C0_0_3af0533cb5\" y=\"69.262761\"/>\r\n    </g>\r\n    <g clip-path=\"url(#p642404fdf6)\">\r\n     <use style=\"fill:#7f3b08;stroke:#7f3b08;\" x=\"46.930668\" xlink:href=\"#C0_0_3af0533cb5\" y=\"142.019455\"/>\r\n    </g>\r\n    <g clip-path=\"url(#p642404fdf6)\">\r\n     <use style=\"fill:#7f3b08;stroke:#7f3b08;\" x=\"62.735091\" xlink:href=\"#C0_0_3af0533cb5\" y=\"39.465695\"/>\r\n    </g>\r\n    <g clip-path=\"url(#p642404fdf6)\">\r\n     <use style=\"fill:#2d004b;stroke:#2d004b;\" x=\"79.786977\" xlink:href=\"#C0_0_3af0533cb5\" y=\"158.653959\"/>\r\n    </g>\r\n    <g clip-path=\"url(#p642404fdf6)\">\r\n     <use style=\"fill:#2d004b;stroke:#2d004b;\" x=\"55.811827\" xlink:href=\"#C0_0_3af0533cb5\" y=\"131.339982\"/>\r\n    </g>\r\n    <g clip-path=\"url(#p642404fdf6)\">\r\n     <use style=\"fill:#7f3b08;stroke:#7f3b08;\" x=\"57.593999\" xlink:href=\"#C0_0_3af0533cb5\" y=\"131.339982\"/>\r\n    </g>\r\n    <g clip-path=\"url(#p642404fdf6)\">\r\n     <use style=\"fill:#7f3b08;stroke:#7f3b08;\" x=\"46.839064\" xlink:href=\"#C0_0_3af0533cb5\" y=\"146.238515\"/>\r\n    </g>\r\n    <g clip-path=\"url(#p642404fdf6)\">\r\n     <use style=\"fill:#7f3b08;stroke:#7f3b08;\" x=\"46.839064\" xlink:href=\"#C0_0_3af0533cb5\" y=\"142.019455\"/>\r\n    </g>\r\n    <g clip-path=\"url(#p642404fdf6)\">\r\n     <use style=\"fill:#7f3b08;stroke:#7f3b08;\" x=\"88.061722\" xlink:href=\"#C0_0_3af0533cb5\" y=\"163.620136\"/>\r\n    </g>\r\n    <g clip-path=\"url(#p642404fdf6)\">\r\n     <use style=\"fill:#7f3b08;stroke:#7f3b08;\" x=\"47.289597\" xlink:href=\"#C0_0_3af0533cb5\" y=\"133.82307\"/>\r\n    </g>\r\n    <g clip-path=\"url(#p642404fdf6)\">\r\n     <use style=\"fill:#7f3b08;stroke:#7f3b08;\" x=\"46.85641\" xlink:href=\"#C0_0_3af0533cb5\" y=\"123.890715\"/>\r\n    </g>\r\n    <g clip-path=\"url(#p642404fdf6)\">\r\n     <use style=\"fill:#7f3b08;stroke:#7f3b08;\" x=\"46.839064\" xlink:href=\"#C0_0_3af0533cb5\" y=\"146.238515\"/>\r\n    </g>\r\n    <g clip-path=\"url(#p642404fdf6)\">\r\n     <use style=\"fill:#2d004b;stroke:#2d004b;\" x=\"46.693045\" xlink:href=\"#C0_0_3af0533cb5\" y=\"163.620136\"/>\r\n    </g>\r\n    <g clip-path=\"url(#p642404fdf6)\">\r\n     <use style=\"fill:#2d004b;stroke:#2d004b;\" x=\"46.767302\" xlink:href=\"#C0_0_3af0533cb5\" y=\"142.019455\"/>\r\n    </g>\r\n    <g clip-path=\"url(#p642404fdf6)\">\r\n     <use style=\"fill:#7f3b08;stroke:#7f3b08;\" x=\"46.839064\" xlink:href=\"#C0_0_3af0533cb5\" y=\"121.407626\"/>\r\n    </g>\r\n    <g clip-path=\"url(#p642404fdf6)\">\r\n     <use style=\"fill:#2d004b;stroke:#2d004b;\" x=\"56.494993\" xlink:href=\"#C0_0_3af0533cb5\" y=\"142.019455\"/>\r\n    </g>\r\n    <g clip-path=\"url(#p642404fdf6)\">\r\n     <use style=\"fill:#7f3b08;stroke:#7f3b08;\" x=\"73.039494\" xlink:href=\"#C0_0_3af0533cb5\" y=\"99.059827\"/>\r\n    </g>\r\n    <g clip-path=\"url(#p642404fdf6)\">\r\n     <use style=\"fill:#7f3b08;stroke:#7f3b08;\" x=\"50.73513\" xlink:href=\"#C0_0_3af0533cb5\" y=\"179.760214\"/>\r\n    </g>\r\n    <g clip-path=\"url(#p642404fdf6)\">\r\n     <use style=\"fill:#7f3b08;stroke:#7f3b08;\" x=\"46.930668\" xlink:href=\"#C0_0_3af0533cb5\" y=\"161.137048\"/>\r\n    </g>\r\n    <g clip-path=\"url(#p642404fdf6)\">\r\n     <use style=\"fill:#7f3b08;stroke:#7f3b08;\" x=\"47.98512\" xlink:href=\"#C0_0_3af0533cb5\" y=\"166.103225\"/>\r\n    </g>\r\n    <g clip-path=\"url(#p642404fdf6)\">\r\n     <use style=\"fill:#7f3b08;stroke:#7f3b08;\" x=\"50.737566\" xlink:href=\"#C0_0_3af0533cb5\" y=\"173.552492\"/>\r\n    </g>\r\n    <g clip-path=\"url(#p642404fdf6)\">\r\n     <use style=\"fill:#7f3b08;stroke:#7f3b08;\" x=\"46.85641\" xlink:href=\"#C0_0_3af0533cb5\" y=\"163.620136\"/>\r\n    </g>\r\n    <g clip-path=\"url(#p642404fdf6)\">\r\n     <use style=\"fill:#7f3b08;stroke:#7f3b08;\" x=\"46.75245\" xlink:href=\"#C0_0_3af0533cb5\" y=\"40.707239\"/>\r\n    </g>\r\n    <g clip-path=\"url(#p642404fdf6)\">\r\n     <use style=\"fill:#7f3b08;stroke:#7f3b08;\" x=\"54.623712\" xlink:href=\"#C0_0_3af0533cb5\" y=\"143.755426\"/>\r\n    </g>\r\n    <g clip-path=\"url(#p642404fdf6)\">\r\n     <use style=\"fill:#7f3b08;stroke:#7f3b08;\" x=\"189.190086\" xlink:href=\"#C0_0_3af0533cb5\" y=\"156.17087\"/>\r\n    </g>\r\n    <g clip-path=\"url(#p642404fdf6)\">\r\n     <use style=\"fill:#7f3b08;stroke:#7f3b08;\" x=\"60.727652\" xlink:href=\"#C0_0_3af0533cb5\" y=\"210.798824\"/>\r\n    </g>\r\n    <g clip-path=\"url(#p642404fdf6)\">\r\n     <use style=\"fill:#7f3b08;stroke:#7f3b08;\" x=\"85.811729\" xlink:href=\"#C0_0_3af0533cb5\" y=\"163.620136\"/>\r\n    </g>\r\n    <g clip-path=\"url(#p642404fdf6)\">\r\n     <use style=\"fill:#7f3b08;stroke:#7f3b08;\" x=\"46.930668\" xlink:href=\"#C0_0_3af0533cb5\" y=\"142.019455\"/>\r\n    </g>\r\n    <g clip-path=\"url(#p642404fdf6)\">\r\n     <use style=\"fill:#7f3b08;stroke:#7f3b08;\" x=\"60.012288\" xlink:href=\"#C0_0_3af0533cb5\" y=\"135.064615\"/>\r\n    </g>\r\n    <g clip-path=\"url(#p642404fdf6)\">\r\n     <use style=\"fill:#2d004b;stroke:#2d004b;\" x=\"49.871252\" xlink:href=\"#C0_0_3af0533cb5\" y=\"135.064615\"/>\r\n    </g>\r\n    <g clip-path=\"url(#p642404fdf6)\">\r\n     <use style=\"fill:#7f3b08;stroke:#7f3b08;\" x=\"88.061722\" xlink:href=\"#C0_0_3af0533cb5\" y=\"81.678205\"/>\r\n    </g>\r\n    <g clip-path=\"url(#p642404fdf6)\">\r\n     <use style=\"fill:#2d004b;stroke:#2d004b;\" x=\"48.826721\" xlink:href=\"#C0_0_3af0533cb5\" y=\"185.967936\"/>\r\n    </g>\r\n    <g clip-path=\"url(#p642404fdf6)\">\r\n     <use style=\"fill:#7f3b08;stroke:#7f3b08;\" x=\"46.75245\" xlink:href=\"#C0_0_3af0533cb5\" y=\"142.019455\"/>\r\n    </g>\r\n    <g clip-path=\"url(#p642404fdf6)\">\r\n     <use style=\"fill:#2d004b;stroke:#2d004b;\" x=\"46.391085\" xlink:href=\"#C0_0_3af0533cb5\" y=\"156.17087\"/>\r\n    </g>\r\n    <g clip-path=\"url(#p642404fdf6)\">\r\n     <use style=\"fill:#2d004b;stroke:#2d004b;\" x=\"55.43062\" xlink:href=\"#C0_0_3af0533cb5\" y=\"142.019455\"/>\r\n    </g>\r\n    <g clip-path=\"url(#p642404fdf6)\">\r\n     <use style=\"fill:#7f3b08;stroke:#7f3b08;\" x=\"46.292056\" xlink:href=\"#C0_0_3af0533cb5\" y=\"104.026004\"/>\r\n    </g>\r\n    <g clip-path=\"url(#p642404fdf6)\">\r\n     <use style=\"fill:#7f3b08;stroke:#7f3b08;\" x=\"46.839064\" xlink:href=\"#C0_0_3af0533cb5\" y=\"133.82307\"/>\r\n    </g>\r\n    <g clip-path=\"url(#p642404fdf6)\">\r\n     <use style=\"fill:#7f3b08;stroke:#7f3b08;\" x=\"46.33661\" xlink:href=\"#C0_0_3af0533cb5\" y=\"166.103225\"/>\r\n    </g>\r\n    <g clip-path=\"url(#p642404fdf6)\">\r\n     <use style=\"fill:#7f3b08;stroke:#7f3b08;\" x=\"50.762338\" xlink:href=\"#C0_0_3af0533cb5\" y=\"99.059827\"/>\r\n    </g>\r\n    <g clip-path=\"url(#p642404fdf6)\">\r\n     <use style=\"fill:#2d004b;stroke:#2d004b;\" x=\"57.593999\" xlink:href=\"#C0_0_3af0533cb5\" y=\"143.755426\"/>\r\n    </g>\r\n    <g clip-path=\"url(#p642404fdf6)\">\r\n     <use style=\"fill:#7f3b08;stroke:#7f3b08;\" x=\"49.871252\" xlink:href=\"#C0_0_3af0533cb5\" y=\"153.687781\"/>\r\n    </g>\r\n    <g clip-path=\"url(#p642404fdf6)\">\r\n     <use style=\"fill:#7f3b08;stroke:#7f3b08;\" x=\"51.086575\" xlink:href=\"#C0_0_3af0533cb5\" y=\"158.653959\"/>\r\n    </g>\r\n    <g clip-path=\"url(#p642404fdf6)\">\r\n     <use style=\"fill:#2d004b;stroke:#2d004b;\" x=\"57.762296\" xlink:href=\"#C0_0_3af0533cb5\" y=\"168.586314\"/>\r\n    </g>\r\n    <g clip-path=\"url(#p642404fdf6)\">\r\n     <use style=\"fill:#7f3b08;stroke:#7f3b08;\" x=\"73.692957\" xlink:href=\"#C0_0_3af0533cb5\" y=\"123.890715\"/>\r\n    </g>\r\n    <g clip-path=\"url(#p642404fdf6)\">\r\n     <use style=\"fill:#7f3b08;stroke:#7f3b08;\" x=\"47.623754\" xlink:href=\"#C0_0_3af0533cb5\" y=\"176.035581\"/>\r\n    </g>\r\n    <g clip-path=\"url(#p642404fdf6)\">\r\n     <use style=\"fill:#7f3b08;stroke:#7f3b08;\" x=\"89.197857\" xlink:href=\"#C0_0_3af0533cb5\" y=\"156.17087\"/>\r\n    </g>\r\n    <g clip-path=\"url(#p642404fdf6)\">\r\n     <use style=\"fill:#7f3b08;stroke:#7f3b08;\" x=\"51.205386\" xlink:href=\"#C0_0_3af0533cb5\" y=\"142.019455\"/>\r\n    </g>\r\n    <g clip-path=\"url(#p642404fdf6)\">\r\n     <use style=\"fill:#2d004b;stroke:#2d004b;\" x=\"46.75245\" xlink:href=\"#C0_0_3af0533cb5\" y=\"161.137048\"/>\r\n    </g>\r\n    <g clip-path=\"url(#p642404fdf6)\">\r\n     <use style=\"fill:#2d004b;stroke:#2d004b;\" x=\"51.564316\" xlink:href=\"#C0_0_3af0533cb5\" y=\"156.17087\"/>\r\n    </g>\r\n    <g clip-path=\"url(#p642404fdf6)\">\r\n     <use style=\"fill:#7f3b08;stroke:#7f3b08;\" x=\"46.158393\" xlink:href=\"#C0_0_3af0533cb5\" y=\"168.586314\"/>\r\n    </g>\r\n    <g clip-path=\"url(#p642404fdf6)\">\r\n     <use style=\"fill:#7f3b08;stroke:#7f3b08;\" x=\"48.980166\" xlink:href=\"#C0_0_3af0533cb5\" y=\"171.069403\"/>\r\n    </g>\r\n    <g clip-path=\"url(#p642404fdf6)\">\r\n     <use style=\"fill:#7f3b08;stroke:#7f3b08;\" x=\"63.980117\" xlink:href=\"#C0_0_3af0533cb5\" y=\"168.586314\"/>\r\n    </g>\r\n    <g clip-path=\"url(#p642404fdf6)\">\r\n     <use style=\"fill:#2d004b;stroke:#2d004b;\" x=\"46.779658\" xlink:href=\"#C0_0_3af0533cb5\" y=\"148.721603\"/>\r\n    </g>\r\n    <g clip-path=\"url(#p642404fdf6)\">\r\n     <use style=\"fill:#7f3b08;stroke:#7f3b08;\" x=\"62.569231\" xlink:href=\"#C0_0_3af0533cb5\" y=\"193.417202\"/>\r\n    </g>\r\n    <g clip-path=\"url(#p642404fdf6)\">\r\n     <use style=\"fill:#7f3b08;stroke:#7f3b08;\" x=\"57.593999\" xlink:href=\"#C0_0_3af0533cb5\" y=\"125.13226\"/>\r\n    </g>\r\n    <g clip-path=\"url(#p642404fdf6)\">\r\n     <use style=\"fill:#7f3b08;stroke:#7f3b08;\" x=\"49.871252\" xlink:href=\"#C0_0_3af0533cb5\" y=\"111.475271\"/>\r\n    </g>\r\n    <g clip-path=\"url(#p642404fdf6)\">\r\n     <use style=\"fill:#7f3b08;stroke:#7f3b08;\" x=\"49.589075\" xlink:href=\"#C0_0_3af0533cb5\" y=\"89.127471\"/>\r\n    </g>\r\n    <g clip-path=\"url(#p642404fdf6)\">\r\n     <use style=\"fill:#2d004b;stroke:#2d004b;\" x=\"81.712733\" xlink:href=\"#C0_0_3af0533cb5\" y=\"161.137048\"/>\r\n    </g>\r\n    <g clip-path=\"url(#p642404fdf6)\">\r\n     <use style=\"fill:#7f3b08;stroke:#7f3b08;\" x=\"46.930668\" xlink:href=\"#C0_0_3af0533cb5\" y=\"77.953572\"/>\r\n    </g>\r\n    <g clip-path=\"url(#p642404fdf6)\">\r\n     <use style=\"fill:#7f3b08;stroke:#7f3b08;\" x=\"50.762338\" xlink:href=\"#C0_0_3af0533cb5\" y=\"115.199904\"/>\r\n    </g>\r\n    <g clip-path=\"url(#p642404fdf6)\">\r\n     <use style=\"fill:#7f3b08;stroke:#7f3b08;\" x=\"46.49255\" xlink:href=\"#C0_0_3af0533cb5\" y=\"142.019455\"/>\r\n    </g>\r\n    <g clip-path=\"url(#p642404fdf6)\">\r\n     <use style=\"fill:#7f3b08;stroke:#7f3b08;\" x=\"78.611277\" xlink:href=\"#C0_0_3af0533cb5\" y=\"89.127471\"/>\r\n    </g>\r\n    <g clip-path=\"url(#p642404fdf6)\">\r\n     <use style=\"fill:#2d004b;stroke:#2d004b;\" x=\"46.74253\" xlink:href=\"#C0_0_3af0533cb5\" y=\"176.035581\"/>\r\n    </g>\r\n    <g clip-path=\"url(#p642404fdf6)\">\r\n     <use style=\"fill:#7f3b08;stroke:#7f3b08;\" x=\"46.930668\" xlink:href=\"#C0_0_3af0533cb5\" y=\"141.272337\"/>\r\n    </g>\r\n    <g clip-path=\"url(#p642404fdf6)\">\r\n     <use style=\"fill:#7f3b08;stroke:#7f3b08;\" x=\"47.294528\" xlink:href=\"#C0_0_3af0533cb5\" y=\"142.019455\"/>\r\n    </g>\r\n    <g clip-path=\"url(#p642404fdf6)\">\r\n     <use style=\"fill:#7f3b08;stroke:#7f3b08;\" x=\"83.465202\" xlink:href=\"#C0_0_3af0533cb5\" y=\"142.019455\"/>\r\n    </g>\r\n    <g clip-path=\"url(#p642404fdf6)\">\r\n     <use style=\"fill:#7f3b08;stroke:#7f3b08;\" x=\"51.71283\" xlink:href=\"#C0_0_3af0533cb5\" y=\"106.509093\"/>\r\n    </g>\r\n    <g clip-path=\"url(#p642404fdf6)\">\r\n     <use style=\"fill:#2d004b;stroke:#2d004b;\" x=\"51.50491\" xlink:href=\"#C0_0_3af0533cb5\" y=\"116.441449\"/>\r\n    </g>\r\n    <g clip-path=\"url(#p642404fdf6)\">\r\n     <use style=\"fill:#7f3b08;stroke:#7f3b08;\" x=\"46.767302\" xlink:href=\"#C0_0_3af0533cb5\" y=\"151.204692\"/>\r\n    </g>\r\n    <g clip-path=\"url(#p642404fdf6)\">\r\n     <use style=\"fill:#7f3b08;stroke:#7f3b08;\" x=\"47.294528\" xlink:href=\"#C0_0_3af0533cb5\" y=\"173.552492\"/>\r\n    </g>\r\n    <g clip-path=\"url(#p642404fdf6)\">\r\n     <use style=\"fill:#7f3b08;stroke:#7f3b08;\" x=\"65.725161\" xlink:href=\"#C0_0_3af0533cb5\" y=\"213.281913\"/>\r\n    </g>\r\n    <g clip-path=\"url(#p642404fdf6)\">\r\n     <use style=\"fill:#2d004b;stroke:#2d004b;\" x=\"54.341535\" xlink:href=\"#C0_0_3af0533cb5\" y=\"193.417202\"/>\r\n    </g>\r\n    <g clip-path=\"url(#p642404fdf6)\">\r\n     <use style=\"fill:#2d004b;stroke:#2d004b;\" x=\"74.821666\" xlink:href=\"#C0_0_3af0533cb5\" y=\"142.019455\"/>\r\n    </g>\r\n    <g clip-path=\"url(#p642404fdf6)\">\r\n     <use style=\"fill:#7f3b08;stroke:#7f3b08;\" x=\"58.722708\" xlink:href=\"#C0_0_3af0533cb5\" y=\"104.026004\"/>\r\n    </g>\r\n    <g clip-path=\"url(#p642404fdf6)\">\r\n     <use style=\"fill:#7f3b08;stroke:#7f3b08;\" x=\"57.549445\" xlink:href=\"#C0_0_3af0533cb5\" y=\"142.019455\"/>\r\n    </g>\r\n    <g clip-path=\"url(#p642404fdf6)\">\r\n     <use style=\"fill:#7f3b08;stroke:#7f3b08;\" x=\"75.710257\" xlink:href=\"#C0_0_3af0533cb5\" y=\"146.238515\"/>\r\n    </g>\r\n    <g clip-path=\"url(#p642404fdf6)\">\r\n     <use style=\"fill:#7f3b08;stroke:#7f3b08;\" x=\"62.04943\" xlink:href=\"#C0_0_3af0533cb5\" y=\"64.296583\"/>\r\n    </g>\r\n    <g clip-path=\"url(#p642404fdf6)\">\r\n     <use style=\"fill:#7f3b08;stroke:#7f3b08;\" x=\"59.450429\" xlink:href=\"#C0_0_3af0533cb5\" y=\"205.832647\"/>\r\n    </g>\r\n    <g clip-path=\"url(#p642404fdf6)\">\r\n     <use style=\"fill:#2d004b;stroke:#2d004b;\" x=\"48.762325\" xlink:href=\"#C0_0_3af0533cb5\" y=\"213.281913\"/>\r\n    </g>\r\n    <g clip-path=\"url(#p642404fdf6)\">\r\n     <use style=\"fill:#7f3b08;stroke:#7f3b08;\" x=\"46.85641\" xlink:href=\"#C0_0_3af0533cb5\" y=\"163.620136\"/>\r\n    </g>\r\n    <g clip-path=\"url(#p642404fdf6)\">\r\n     <use style=\"fill:#7f3b08;stroke:#7f3b08;\" x=\"60.383574\" xlink:href=\"#C0_0_3af0533cb5\" y=\"76.712027\"/>\r\n    </g>\r\n    <g clip-path=\"url(#p642404fdf6)\">\r\n     <use style=\"fill:#7f3b08;stroke:#7f3b08;\" x=\"46.814351\" xlink:href=\"#C0_0_3af0533cb5\" y=\"171.069403\"/>\r\n    </g>\r\n    <g clip-path=\"url(#p642404fdf6)\">\r\n     <use style=\"fill:#7f3b08;stroke:#7f3b08;\" x=\"57.277188\" xlink:href=\"#C0_0_3af0533cb5\" y=\"142.019455\"/>\r\n    </g>\r\n    <g clip-path=\"url(#p642404fdf6)\">\r\n     <use style=\"fill:#7f3b08;stroke:#7f3b08;\" x=\"59.20538\" xlink:href=\"#C0_0_3af0533cb5\" y=\"91.61056\"/>\r\n    </g>\r\n    <g clip-path=\"url(#p642404fdf6)\">\r\n     <use style=\"fill:#7f3b08;stroke:#7f3b08;\" x=\"49.871252\" xlink:href=\"#C0_0_3af0533cb5\" y=\"141.272337\"/>\r\n    </g>\r\n    <g clip-path=\"url(#p642404fdf6)\">\r\n     <use style=\"fill:#7f3b08;stroke:#7f3b08;\" x=\"42.148505\" xlink:href=\"#C0_0_3af0533cb5\" y=\"126.373804\"/>\r\n    </g>\r\n    <g clip-path=\"url(#p642404fdf6)\">\r\n     <use style=\"fill:#7f3b08;stroke:#7f3b08;\" x=\"83.465202\" xlink:href=\"#C0_0_3af0533cb5\" y=\"142.019455\"/>\r\n    </g>\r\n    <g clip-path=\"url(#p642404fdf6)\">\r\n     <use style=\"fill:#7f3b08;stroke:#7f3b08;\" x=\"51.08907\" xlink:href=\"#C0_0_3af0533cb5\" y=\"142.019455\"/>\r\n    </g>\r\n    <g clip-path=\"url(#p642404fdf6)\">\r\n     <use style=\"fill:#7f3b08;stroke:#7f3b08;\" x=\"60.794484\" xlink:href=\"#C0_0_3af0533cb5\" y=\"193.417202\"/>\r\n    </g>\r\n    <g clip-path=\"url(#p642404fdf6)\">\r\n     <use style=\"fill:#2d004b;stroke:#2d004b;\" x=\"65.316746\" xlink:href=\"#C0_0_3af0533cb5\" y=\"213.281913\"/>\r\n    </g>\r\n    <g clip-path=\"url(#p642404fdf6)\">\r\n     <use style=\"fill:#2d004b;stroke:#2d004b;\" x=\"55.232621\" xlink:href=\"#C0_0_3af0533cb5\" y=\"205.832647\"/>\r\n    </g>\r\n    <g clip-path=\"url(#p642404fdf6)\">\r\n     <use style=\"fill:#7f3b08;stroke:#7f3b08;\" x=\"71.851379\" xlink:href=\"#C0_0_3af0533cb5\" y=\"142.019455\"/>\r\n    </g>\r\n    <g clip-path=\"url(#p642404fdf6)\">\r\n     <use style=\"fill:#2d004b;stroke:#2d004b;\" x=\"51.356396\" xlink:href=\"#C0_0_3af0533cb5\" y=\"142.019455\"/>\r\n    </g>\r\n    <g clip-path=\"url(#p642404fdf6)\">\r\n     <use style=\"fill:#2d004b;stroke:#2d004b;\" x=\"57.920731\" xlink:href=\"#C0_0_3af0533cb5\" y=\"104.026004\"/>\r\n    </g>\r\n    <g clip-path=\"url(#p642404fdf6)\">\r\n     <use style=\"fill:#7f3b08;stroke:#7f3b08;\" x=\"51.356396\" xlink:href=\"#C0_0_3af0533cb5\" y=\"116.441449\"/>\r\n    </g>\r\n    <g clip-path=\"url(#p642404fdf6)\">\r\n     <use style=\"fill:#7f3b08;stroke:#7f3b08;\" x=\"46.839064\" xlink:href=\"#C0_0_3af0533cb5\" y=\"126.373804\"/>\r\n    </g>\r\n    <g clip-path=\"url(#p642404fdf6)\">\r\n     <use style=\"fill:#2d004b;stroke:#2d004b;\" x=\"49.871252\" xlink:href=\"#C0_0_3af0533cb5\" y=\"136.306159\"/>\r\n    </g>\r\n    <g clip-path=\"url(#p642404fdf6)\">\r\n     <use style=\"fill:#7f3b08;stroke:#7f3b08;\" x=\"49.871252\" xlink:href=\"#C0_0_3af0533cb5\" y=\"168.586314\"/>\r\n    </g>\r\n    <g clip-path=\"url(#p642404fdf6)\">\r\n     <use style=\"fill:#2d004b;stroke:#2d004b;\" x=\"46.814351\" xlink:href=\"#C0_0_3af0533cb5\" y=\"168.586314\"/>\r\n    </g>\r\n    <g clip-path=\"url(#p642404fdf6)\">\r\n     <use style=\"fill:#2d004b;stroke:#2d004b;\" x=\"57.593999\" xlink:href=\"#C0_0_3af0533cb5\" y=\"208.315735\"/>\r\n    </g>\r\n    <g clip-path=\"url(#p642404fdf6)\">\r\n     <use style=\"fill:#2d004b;stroke:#2d004b;\" x=\"58.616253\" xlink:href=\"#C0_0_3af0533cb5\" y=\"106.509093\"/>\r\n    </g>\r\n    <g clip-path=\"url(#p642404fdf6)\">\r\n     <use style=\"fill:#2d004b;stroke:#2d004b;\" x=\"129.190281\" xlink:href=\"#C0_0_3af0533cb5\" y=\"71.74585\"/>\r\n    </g>\r\n    <g clip-path=\"url(#p642404fdf6)\">\r\n     <use style=\"fill:#7f3b08;stroke:#7f3b08;\" x=\"46.75245\" xlink:href=\"#C0_0_3af0533cb5\" y=\"142.019455\"/>\r\n    </g>\r\n    <g clip-path=\"url(#p642404fdf6)\">\r\n     <use style=\"fill:#7f3b08;stroke:#7f3b08;\" x=\"47.141083\" xlink:href=\"#C0_0_3af0533cb5\" y=\"111.475271\"/>\r\n    </g>\r\n    <g clip-path=\"url(#p642404fdf6)\">\r\n     <use style=\"fill:#2d004b;stroke:#2d004b;\" x=\"46.75245\" xlink:href=\"#C0_0_3af0533cb5\" y=\"142.019455\"/>\r\n    </g>\r\n    <g clip-path=\"url(#p642404fdf6)\">\r\n     <use style=\"fill:#7f3b08;stroke:#7f3b08;\" x=\"49.871252\" xlink:href=\"#C0_0_3af0533cb5\" y=\"156.17087\"/>\r\n    </g>\r\n    <g clip-path=\"url(#p642404fdf6)\">\r\n     <use style=\"fill:#7f3b08;stroke:#7f3b08;\" x=\"47.792051\" xlink:href=\"#C0_0_3af0533cb5\" y=\"146.238515\"/>\r\n    </g>\r\n    <g clip-path=\"url(#p642404fdf6)\">\r\n     <use style=\"fill:#7f3b08;stroke:#7f3b08;\" x=\"83.465202\" xlink:href=\"#C0_0_3af0533cb5\" y=\"142.019455\"/>\r\n    </g>\r\n    <g clip-path=\"url(#p642404fdf6)\">\r\n     <use style=\"fill:#7f3b08;stroke:#7f3b08;\" x=\"46.007383\" xlink:href=\"#C0_0_3af0533cb5\" y=\"131.339982\"/>\r\n    </g>\r\n    <g clip-path=\"url(#p642404fdf6)\">\r\n     <use style=\"fill:#7f3b08;stroke:#7f3b08;\" x=\"46.44057\" xlink:href=\"#C0_0_3af0533cb5\" y=\"102.78446\"/>\r\n    </g>\r\n    <g clip-path=\"url(#p642404fdf6)\">\r\n     <use style=\"fill:#2d004b;stroke:#2d004b;\" x=\"46.930668\" xlink:href=\"#C0_0_3af0533cb5\" y=\"171.069403\"/>\r\n    </g>\r\n    <g clip-path=\"url(#p642404fdf6)\">\r\n     <use style=\"fill:#7f3b08;stroke:#7f3b08;\" x=\"48.363831\" xlink:href=\"#C0_0_3af0533cb5\" y=\"210.798824\"/>\r\n    </g>\r\n    <g clip-path=\"url(#p642404fdf6)\">\r\n     <use style=\"fill:#7f3b08;stroke:#7f3b08;\" x=\"51.564316\" xlink:href=\"#C0_0_3af0533cb5\" y=\"136.306159\"/>\r\n    </g>\r\n    <g clip-path=\"url(#p642404fdf6)\">\r\n     <use style=\"fill:#2d004b;stroke:#2d004b;\" x=\"53.30936\" xlink:href=\"#C0_0_3af0533cb5\" y=\"151.204692\"/>\r\n    </g>\r\n    <g clip-path=\"url(#p642404fdf6)\">\r\n     <use style=\"fill:#2d004b;stroke:#2d004b;\" x=\"46.75245\" xlink:href=\"#C0_0_3af0533cb5\" y=\"176.035581\"/>\r\n    </g>\r\n    <g clip-path=\"url(#p642404fdf6)\">\r\n     <use style=\"fill:#2d004b;stroke:#2d004b;\" x=\"60.564287\" xlink:href=\"#C0_0_3af0533cb5\" y=\"116.441449\"/>\r\n    </g>\r\n    <g clip-path=\"url(#p642404fdf6)\">\r\n     <use style=\"fill:#7f3b08;stroke:#7f3b08;\" x=\"46.33661\" xlink:href=\"#C0_0_3af0533cb5\" y=\"156.17087\"/>\r\n    </g>\r\n    <g clip-path=\"url(#p642404fdf6)\">\r\n     <use style=\"fill:#2d004b;stroke:#2d004b;\" x=\"54.623712\" xlink:href=\"#C0_0_3af0533cb5\" y=\"128.856893\"/>\r\n    </g>\r\n    <g clip-path=\"url(#p642404fdf6)\">\r\n     <use style=\"fill:#7f3b08;stroke:#7f3b08;\" x=\"46.455422\" xlink:href=\"#C0_0_3af0533cb5\" y=\"161.137048\"/>\r\n    </g>\r\n    <g clip-path=\"url(#p642404fdf6)\">\r\n     <use style=\"fill:#7f3b08;stroke:#7f3b08;\" x=\"49.871252\" xlink:href=\"#C0_0_3af0533cb5\" y=\"141.272337\"/>\r\n    </g>\r\n    <g clip-path=\"url(#p642404fdf6)\">\r\n     <use style=\"fill:#7f3b08;stroke:#7f3b08;\" x=\"46.75245\" xlink:href=\"#C0_0_3af0533cb5\" y=\"142.019455\"/>\r\n    </g>\r\n    <g clip-path=\"url(#p642404fdf6)\">\r\n     <use style=\"fill:#2d004b;stroke:#2d004b;\" x=\"109.440365\" xlink:href=\"#C0_0_3af0533cb5\" y=\"138.789248\"/>\r\n    </g>\r\n    <g clip-path=\"url(#p642404fdf6)\">\r\n     <use style=\"fill:#2d004b;stroke:#2d004b;\" x=\"46.85641\" xlink:href=\"#C0_0_3af0533cb5\" y=\"148.721603\"/>\r\n    </g>\r\n    <g clip-path=\"url(#p642404fdf6)\">\r\n     <use style=\"fill:#7f3b08;stroke:#7f3b08;\" x=\"58.188057\" xlink:href=\"#C0_0_3af0533cb5\" y=\"111.475271\"/>\r\n    </g>\r\n    <g clip-path=\"url(#p642404fdf6)\">\r\n     <use style=\"fill:#2d004b;stroke:#2d004b;\" x=\"87.470159\" xlink:href=\"#C0_0_3af0533cb5\" y=\"136.306159\"/>\r\n    </g>\r\n    <g clip-path=\"url(#p642404fdf6)\">\r\n     <use style=\"fill:#7f3b08;stroke:#7f3b08;\" x=\"48.386108\" xlink:href=\"#C0_0_3af0533cb5\" y=\"141.272337\"/>\r\n    </g>\r\n    <g clip-path=\"url(#p642404fdf6)\">\r\n     <use style=\"fill:#2d004b;stroke:#2d004b;\" x=\"46.930668\" xlink:href=\"#C0_0_3af0533cb5\" y=\"176.035581\"/>\r\n    </g>\r\n    <g clip-path=\"url(#p642404fdf6)\">\r\n     <use style=\"fill:#7f3b08;stroke:#7f3b08;\" x=\"49.871252\" xlink:href=\"#C0_0_3af0533cb5\" y=\"148.721603\"/>\r\n    </g>\r\n    <g clip-path=\"url(#p642404fdf6)\">\r\n     <use style=\"fill:#7f3b08;stroke:#7f3b08;\" x=\"46.930668\" xlink:href=\"#C0_0_3af0533cb5\" y=\"89.127471\"/>\r\n    </g>\r\n    <g clip-path=\"url(#p642404fdf6)\">\r\n     <use style=\"fill:#7f3b08;stroke:#7f3b08;\" x=\"46.839064\" xlink:href=\"#C0_0_3af0533cb5\" y=\"142.019455\"/>\r\n    </g>\r\n    <g clip-path=\"url(#p642404fdf6)\">\r\n     <use style=\"fill:#2d004b;stroke:#2d004b;\" x=\"95.613678\" xlink:href=\"#C0_0_3af0533cb5\" y=\"121.407626\"/>\r\n    </g>\r\n    <g clip-path=\"url(#p642404fdf6)\">\r\n     <use style=\"fill:#7f3b08;stroke:#7f3b08;\" x=\"47.702942\" xlink:href=\"#C0_0_3af0533cb5\" y=\"161.137048\"/>\r\n    </g>\r\n    <g clip-path=\"url(#p642404fdf6)\">\r\n     <use style=\"fill:#2d004b;stroke:#2d004b;\" x=\"48.386108\" xlink:href=\"#C0_0_3af0533cb5\" y=\"168.586314\"/>\r\n    </g>\r\n    <g clip-path=\"url(#p642404fdf6)\">\r\n     <use style=\"fill:#7f3b08;stroke:#7f3b08;\" x=\"46.455422\" xlink:href=\"#C0_0_3af0533cb5\" y=\"164.861681\"/>\r\n    </g>\r\n    <g clip-path=\"url(#p642404fdf6)\">\r\n     <use style=\"fill:#7f3b08;stroke:#7f3b08;\" x=\"49.871252\" xlink:href=\"#C0_0_3af0533cb5\" y=\"171.069403\"/>\r\n    </g>\r\n    <g clip-path=\"url(#p642404fdf6)\">\r\n     <use style=\"fill:#7f3b08;stroke:#7f3b08;\" x=\"57.277188\" xlink:href=\"#C0_0_3af0533cb5\" y=\"142.019455\"/>\r\n    </g>\r\n    <g clip-path=\"url(#p642404fdf6)\">\r\n     <use style=\"fill:#2d004b;stroke:#2d004b;\" x=\"91.737453\" xlink:href=\"#C0_0_3af0533cb5\" y=\"128.856893\"/>\r\n    </g>\r\n    <g clip-path=\"url(#p642404fdf6)\">\r\n     <use style=\"fill:#7f3b08;stroke:#7f3b08;\" x=\"46.767302\" xlink:href=\"#C0_0_3af0533cb5\" y=\"143.755426\"/>\r\n    </g>\r\n    <g clip-path=\"url(#p642404fdf6)\">\r\n     <use style=\"fill:#7f3b08;stroke:#7f3b08;\" x=\"50.168281\" xlink:href=\"#C0_0_3af0533cb5\" y=\"69.262761\"/>\r\n    </g>\r\n    <g clip-path=\"url(#p642404fdf6)\">\r\n     <use style=\"fill:#2d004b;stroke:#2d004b;\" x=\"60.794484\" xlink:href=\"#C0_0_3af0533cb5\" y=\"203.349558\"/>\r\n    </g>\r\n    <g clip-path=\"url(#p642404fdf6)\">\r\n     <use style=\"fill:#7f3b08;stroke:#7f3b08;\" x=\"48.386108\" xlink:href=\"#C0_0_3af0533cb5\" y=\"156.17087\"/>\r\n    </g>\r\n    <g clip-path=\"url(#p642404fdf6)\">\r\n     <use style=\"fill:#7f3b08;stroke:#7f3b08;\" x=\"46.633639\" xlink:href=\"#C0_0_3af0533cb5\" y=\"142.019455\"/>\r\n    </g>\r\n    <g clip-path=\"url(#p642404fdf6)\">\r\n     <use style=\"fill:#7f3b08;stroke:#7f3b08;\" x=\"57.593999\" xlink:href=\"#C0_0_3af0533cb5\" y=\"106.509093\"/>\r\n    </g>\r\n    <g clip-path=\"url(#p642404fdf6)\">\r\n     <use style=\"fill:#2d004b;stroke:#2d004b;\" x=\"57.742514\" xlink:href=\"#C0_0_3af0533cb5\" y=\"195.900291\"/>\r\n    </g>\r\n    <g clip-path=\"url(#p642404fdf6)\">\r\n     <use style=\"fill:#7f3b08;stroke:#7f3b08;\" x=\"48.386108\" xlink:href=\"#C0_0_3af0533cb5\" y=\"168.586314\"/>\r\n    </g>\r\n    <g clip-path=\"url(#p642404fdf6)\">\r\n     <use style=\"fill:#7f3b08;stroke:#7f3b08;\" x=\"49.44056\" xlink:href=\"#C0_0_3af0533cb5\" y=\"133.82307\"/>\r\n    </g>\r\n    <g clip-path=\"url(#p642404fdf6)\">\r\n     <use style=\"fill:#7f3b08;stroke:#7f3b08;\" x=\"50.73513\" xlink:href=\"#C0_0_3af0533cb5\" y=\"142.019455\"/>\r\n    </g>\r\n    <g clip-path=\"url(#p642404fdf6)\">\r\n     <use style=\"fill:#2d004b;stroke:#2d004b;\" x=\"51.356396\" xlink:href=\"#C0_0_3af0533cb5\" y=\"142.019455\"/>\r\n    </g>\r\n    <g clip-path=\"url(#p642404fdf6)\">\r\n     <use style=\"fill:#7f3b08;stroke:#7f3b08;\" x=\"48.386108\" xlink:href=\"#C0_0_3af0533cb5\" y=\"143.755426\"/>\r\n    </g>\r\n    <g clip-path=\"url(#p642404fdf6)\">\r\n     <use style=\"fill:#7f3b08;stroke:#7f3b08;\" x=\"46.381164\" xlink:href=\"#C0_0_3af0533cb5\" y=\"161.137048\"/>\r\n    </g>\r\n    <g clip-path=\"url(#p642404fdf6)\">\r\n     <use style=\"fill:#7f3b08;stroke:#7f3b08;\" x=\"46.44057\" xlink:href=\"#C0_0_3af0533cb5\" y=\"141.272337\"/>\r\n    </g>\r\n    <g clip-path=\"url(#p642404fdf6)\">\r\n     <use style=\"fill:#7f3b08;stroke:#7f3b08;\" x=\"95.613678\" xlink:href=\"#C0_0_3af0533cb5\" y=\"106.509093\"/>\r\n    </g>\r\n    <g clip-path=\"url(#p642404fdf6)\">\r\n     <use style=\"fill:#7f3b08;stroke:#7f3b08;\" x=\"46.767302\" xlink:href=\"#C0_0_3af0533cb5\" y=\"153.687781\"/>\r\n    </g>\r\n    <g clip-path=\"url(#p642404fdf6)\">\r\n     <use style=\"fill:#2d004b;stroke:#2d004b;\" x=\"50.762338\" xlink:href=\"#C0_0_3af0533cb5\" y=\"156.17087\"/>\r\n    </g>\r\n    <g clip-path=\"url(#p642404fdf6)\">\r\n     <use style=\"fill:#2d004b;stroke:#2d004b;\" x=\"73.36872\" xlink:href=\"#C0_0_3af0533cb5\" y=\"123.890715\"/>\r\n    </g>\r\n    <g clip-path=\"url(#p642404fdf6)\">\r\n     <use style=\"fill:#7f3b08;stroke:#7f3b08;\" x=\"57.593999\" xlink:href=\"#C0_0_3af0533cb5\" y=\"81.678205\"/>\r\n    </g>\r\n    <g clip-path=\"url(#p642404fdf6)\">\r\n     <use style=\"fill:#7f3b08;stroke:#7f3b08;\" x=\"46.455422\" xlink:href=\"#C0_0_3af0533cb5\" y=\"142.019455\"/>\r\n    </g>\r\n    <g clip-path=\"url(#p642404fdf6)\">\r\n     <use style=\"fill:#7f3b08;stroke:#7f3b08;\" x=\"48.363831\" xlink:href=\"#C0_0_3af0533cb5\" y=\"143.755426\"/>\r\n    </g>\r\n    <g clip-path=\"url(#p642404fdf6)\">\r\n     <use style=\"fill:#7f3b08;stroke:#7f3b08;\" x=\"57.920731\" xlink:href=\"#C0_0_3af0533cb5\" y=\"61.813494\"/>\r\n    </g>\r\n    <g clip-path=\"url(#p642404fdf6)\">\r\n     <use style=\"fill:#7f3b08;stroke:#7f3b08;\" x=\"51.71283\" xlink:href=\"#C0_0_3af0533cb5\" y=\"141.272337\"/>\r\n    </g>\r\n    <g clip-path=\"url(#p642404fdf6)\">\r\n     <use style=\"fill:#7f3b08;stroke:#7f3b08;\" x=\"54.155892\" xlink:href=\"#C0_0_3af0533cb5\" y=\"113.95836\"/>\r\n    </g>\r\n    <g clip-path=\"url(#p642404fdf6)\">\r\n     <use style=\"fill:#2d004b;stroke:#2d004b;\" x=\"51.205386\" xlink:href=\"#C0_0_3af0533cb5\" y=\"143.755426\"/>\r\n    </g>\r\n    <g clip-path=\"url(#p642404fdf6)\">\r\n     <use style=\"fill:#2d004b;stroke:#2d004b;\" x=\"89.197857\" xlink:href=\"#C0_0_3af0533cb5\" y=\"142.019455\"/>\r\n    </g>\r\n    <g clip-path=\"url(#p642404fdf6)\">\r\n     <use style=\"fill:#2d004b;stroke:#2d004b;\" x=\"93.534476\" xlink:href=\"#C0_0_3af0533cb5\" y=\"141.272337\"/>\r\n    </g>\r\n    <g clip-path=\"url(#p642404fdf6)\">\r\n     <use style=\"fill:#2d004b;stroke:#2d004b;\" x=\"346.501495\" xlink:href=\"#C0_0_3af0533cb5\" y=\"128.856893\"/>\r\n    </g>\r\n    <g clip-path=\"url(#p642404fdf6)\">\r\n     <use style=\"fill:#2d004b;stroke:#2d004b;\" x=\"57.593999\" xlink:href=\"#C0_0_3af0533cb5\" y=\"91.61056\"/>\r\n    </g>\r\n    <g clip-path=\"url(#p642404fdf6)\">\r\n     <use style=\"fill:#7f3b08;stroke:#7f3b08;\" x=\"46.75245\" xlink:href=\"#C0_0_3af0533cb5\" y=\"142.019455\"/>\r\n    </g>\r\n    <g clip-path=\"url(#p642404fdf6)\">\r\n     <use style=\"fill:#2d004b;stroke:#2d004b;\" x=\"60.794484\" xlink:href=\"#C0_0_3af0533cb5\" y=\"208.315735\"/>\r\n    </g>\r\n    <g clip-path=\"url(#p642404fdf6)\">\r\n     <use style=\"fill:#7f3b08;stroke:#7f3b08;\" x=\"89.465183\" xlink:href=\"#C0_0_3af0533cb5\" y=\"86.644383\"/>\r\n    </g>\r\n    <g clip-path=\"url(#p642404fdf6)\">\r\n     <use style=\"fill:#7f3b08;stroke:#7f3b08;\" x=\"42.148505\" xlink:href=\"#C0_0_3af0533cb5\" y=\"116.441449\"/>\r\n    </g>\r\n    <g clip-path=\"url(#p642404fdf6)\">\r\n     <use style=\"fill:#7f3b08;stroke:#7f3b08;\" x=\"46.75245\" xlink:href=\"#C0_0_3af0533cb5\" y=\"142.019455\"/>\r\n    </g>\r\n    <g clip-path=\"url(#p642404fdf6)\">\r\n     <use style=\"fill:#7f3b08;stroke:#7f3b08;\" x=\"48.386108\" xlink:href=\"#C0_0_3af0533cb5\" y=\"126.373804\"/>\r\n    </g>\r\n    <g clip-path=\"url(#p642404fdf6)\">\r\n     <use style=\"fill:#7f3b08;stroke:#7f3b08;\" x=\"65.725161\" xlink:href=\"#C0_0_3af0533cb5\" y=\"176.035581\"/>\r\n    </g>\r\n    <g clip-path=\"url(#p642404fdf6)\">\r\n     <use style=\"fill:#2d004b;stroke:#2d004b;\" x=\"46.767302\" xlink:href=\"#C0_0_3af0533cb5\" y=\"153.687781\"/>\r\n    </g>\r\n    <g clip-path=\"url(#p642404fdf6)\">\r\n     <use style=\"fill:#2d004b;stroke:#2d004b;\" x=\"133.31405\" xlink:href=\"#C0_0_3af0533cb5\" y=\"71.74585\"/>\r\n    </g>\r\n    <g clip-path=\"url(#p642404fdf6)\">\r\n     <use style=\"fill:#2d004b;stroke:#2d004b;\" x=\"122.72248\" xlink:href=\"#C0_0_3af0533cb5\" y=\"128.856893\"/>\r\n    </g>\r\n    <g clip-path=\"url(#p642404fdf6)\">\r\n     <use style=\"fill:#7f3b08;stroke:#7f3b08;\" x=\"60.564287\" xlink:href=\"#C0_0_3af0533cb5\" y=\"142.019455\"/>\r\n    </g>\r\n    <g clip-path=\"url(#p642404fdf6)\">\r\n     <use style=\"fill:#2d004b;stroke:#2d004b;\" x=\"42.148505\" xlink:href=\"#C0_0_3af0533cb5\" y=\"153.687781\"/>\r\n    </g>\r\n    <g clip-path=\"url(#p642404fdf6)\">\r\n     <use style=\"fill:#2d004b;stroke:#2d004b;\" x=\"53.732626\" xlink:href=\"#C0_0_3af0533cb5\" y=\"113.95836\"/>\r\n    </g>\r\n    <g clip-path=\"url(#p642404fdf6)\">\r\n     <use style=\"fill:#7f3b08;stroke:#7f3b08;\" x=\"59.792012\" xlink:href=\"#C0_0_3af0533cb5\" y=\"123.890715\"/>\r\n    </g>\r\n    <g clip-path=\"url(#p642404fdf6)\">\r\n     <use style=\"fill:#2d004b;stroke:#2d004b;\" x=\"46.75245\" xlink:href=\"#C0_0_3af0533cb5\" y=\"142.019455\"/>\r\n    </g>\r\n    <g clip-path=\"url(#p642404fdf6)\">\r\n     <use style=\"fill:#2d004b;stroke:#2d004b;\" x=\"88.460216\" xlink:href=\"#C0_0_3af0533cb5\" y=\"59.330405\"/>\r\n    </g>\r\n    <g clip-path=\"url(#p642404fdf6)\">\r\n     <use style=\"fill:#7f3b08;stroke:#7f3b08;\" x=\"46.75245\" xlink:href=\"#C0_0_3af0533cb5\" y=\"104.026004\"/>\r\n    </g>\r\n    <g clip-path=\"url(#p642404fdf6)\">\r\n     <use style=\"fill:#7f3b08;stroke:#7f3b08;\" x=\"42.148505\" xlink:href=\"#C0_0_3af0533cb5\" y=\"142.019455\"/>\r\n    </g>\r\n    <g clip-path=\"url(#p642404fdf6)\">\r\n     <use style=\"fill:#7f3b08;stroke:#7f3b08;\" x=\"59.450429\" xlink:href=\"#C0_0_3af0533cb5\" y=\"198.38338\"/>\r\n    </g>\r\n    <g clip-path=\"url(#p642404fdf6)\">\r\n     <use style=\"fill:#2d004b;stroke:#2d004b;\" x=\"54.178169\" xlink:href=\"#C0_0_3af0533cb5\" y=\"128.856893\"/>\r\n    </g>\r\n    <g clip-path=\"url(#p642404fdf6)\">\r\n     <use style=\"fill:#7f3b08;stroke:#7f3b08;\" x=\"46.75245\" xlink:href=\"#C0_0_3af0533cb5\" y=\"54.364228\"/>\r\n    </g>\r\n    <g clip-path=\"url(#p642404fdf6)\">\r\n     <use style=\"fill:#7f3b08;stroke:#7f3b08;\" x=\"46.814351\" xlink:href=\"#C0_0_3af0533cb5\" y=\"146.238515\"/>\r\n    </g>\r\n    <g clip-path=\"url(#p642404fdf6)\">\r\n     <use style=\"fill:#7f3b08;stroke:#7f3b08;\" x=\"47.792051\" xlink:href=\"#C0_0_3af0533cb5\" y=\"176.035581\"/>\r\n    </g>\r\n    <g clip-path=\"url(#p642404fdf6)\">\r\n     <use style=\"fill:#2d004b;stroke:#2d004b;\" x=\"46.930668\" xlink:href=\"#C0_0_3af0533cb5\" y=\"168.586314\"/>\r\n    </g>\r\n    <g clip-path=\"url(#p642404fdf6)\">\r\n     <use style=\"fill:#7f3b08;stroke:#7f3b08;\" x=\"57.593999\" xlink:href=\"#C0_0_3af0533cb5\" y=\"142.019455\"/>\r\n    </g>\r\n    <g clip-path=\"url(#p642404fdf6)\">\r\n     <use style=\"fill:#7f3b08;stroke:#7f3b08;\" x=\"47.294528\" xlink:href=\"#C0_0_3af0533cb5\" y=\"133.82307\"/>\r\n    </g>\r\n    <g clip-path=\"url(#p642404fdf6)\">\r\n     <use style=\"fill:#2d004b;stroke:#2d004b;\" x=\"47.792051\" xlink:href=\"#C0_0_3af0533cb5\" y=\"141.272337\"/>\r\n    </g>\r\n    <g clip-path=\"url(#p642404fdf6)\">\r\n     <use style=\"fill:#7f3b08;stroke:#7f3b08;\" x=\"46.839064\" xlink:href=\"#C0_0_3af0533cb5\" y=\"161.137048\"/>\r\n    </g>\r\n    <g clip-path=\"url(#p642404fdf6)\">\r\n     <use style=\"fill:#2d004b;stroke:#2d004b;\" x=\"49.871252\" xlink:href=\"#C0_0_3af0533cb5\" y=\"111.475271\"/>\r\n    </g>\r\n    <g clip-path=\"url(#p642404fdf6)\">\r\n     <use style=\"fill:#2d004b;stroke:#2d004b;\" x=\"46.75245\" xlink:href=\"#C0_0_3af0533cb5\" y=\"161.137048\"/>\r\n    </g>\r\n    <g clip-path=\"url(#p642404fdf6)\">\r\n     <use style=\"fill:#2d004b;stroke:#2d004b;\" x=\"88.989937\" xlink:href=\"#C0_0_3af0533cb5\" y=\"151.204692\"/>\r\n    </g>\r\n    <g clip-path=\"url(#p642404fdf6)\">\r\n     <use style=\"fill:#2d004b;stroke:#2d004b;\" x=\"96.254784\" xlink:href=\"#C0_0_3af0533cb5\" y=\"168.586314\"/>\r\n    </g>\r\n    <g clip-path=\"url(#p642404fdf6)\">\r\n     <use style=\"fill:#7f3b08;stroke:#7f3b08;\" x=\"49.796995\" xlink:href=\"#C0_0_3af0533cb5\" y=\"126.373804\"/>\r\n    </g>\r\n    <g clip-path=\"url(#p642404fdf6)\">\r\n     <use style=\"fill:#7f3b08;stroke:#7f3b08;\" x=\"47.405914\" xlink:href=\"#C0_0_3af0533cb5\" y=\"156.17087\"/>\r\n    </g>\r\n    <g clip-path=\"url(#p642404fdf6)\">\r\n     <use style=\"fill:#7f3b08;stroke:#7f3b08;\" x=\"46.839064\" xlink:href=\"#C0_0_3af0533cb5\" y=\"156.17087\"/>\r\n    </g>\r\n    <g clip-path=\"url(#p642404fdf6)\">\r\n     <use style=\"fill:#7f3b08;stroke:#7f3b08;\" x=\"58.616253\" xlink:href=\"#C0_0_3af0533cb5\" y=\"142.019455\"/>\r\n    </g>\r\n    <g clip-path=\"url(#p642404fdf6)\">\r\n     <use style=\"fill:#7f3b08;stroke:#7f3b08;\" x=\"46.443065\" xlink:href=\"#C0_0_3af0533cb5\" y=\"157.412414\"/>\r\n    </g>\r\n    <g clip-path=\"url(#p642404fdf6)\">\r\n     <use style=\"fill:#7f3b08;stroke:#7f3b08;\" x=\"132.177915\" xlink:href=\"#C0_0_3af0533cb5\" y=\"210.798824\"/>\r\n    </g>\r\n    <g clip-path=\"url(#p642404fdf6)\">\r\n     <use style=\"fill:#2d004b;stroke:#2d004b;\" x=\"60.267258\" xlink:href=\"#C0_0_3af0533cb5\" y=\"142.019455\"/>\r\n    </g>\r\n    <g clip-path=\"url(#p642404fdf6)\">\r\n     <use style=\"fill:#2d004b;stroke:#2d004b;\" x=\"189.190086\" xlink:href=\"#C0_0_3af0533cb5\" y=\"91.61056\"/>\r\n    </g>\r\n    <g clip-path=\"url(#p642404fdf6)\">\r\n     <use style=\"fill:#2d004b;stroke:#2d004b;\" x=\"46.75245\" xlink:href=\"#C0_0_3af0533cb5\" y=\"142.019455\"/>\r\n    </g>\r\n    <g clip-path=\"url(#p642404fdf6)\">\r\n     <use style=\"fill:#2d004b;stroke:#2d004b;\" x=\"55.960341\" xlink:href=\"#C0_0_3af0533cb5\" y=\"142.019455\"/>\r\n    </g>\r\n    <g clip-path=\"url(#p642404fdf6)\">\r\n     <use style=\"fill:#7f3b08;stroke:#7f3b08;\" x=\"42.148505\" xlink:href=\"#C0_0_3af0533cb5\" y=\"168.586314\"/>\r\n    </g>\r\n    <g clip-path=\"url(#p642404fdf6)\">\r\n     <use style=\"fill:#2d004b;stroke:#2d004b;\" x=\"49.485115\" xlink:href=\"#C0_0_3af0533cb5\" y=\"142.019455\"/>\r\n    </g>\r\n    <g clip-path=\"url(#p642404fdf6)\">\r\n     <use style=\"fill:#7f3b08;stroke:#7f3b08;\" x=\"46.930668\" xlink:href=\"#C0_0_3af0533cb5\" y=\"142.019455\"/>\r\n    </g>\r\n    <g clip-path=\"url(#p642404fdf6)\">\r\n     <use style=\"fill:#2d004b;stroke:#2d004b;\" x=\"132.177915\" xlink:href=\"#C0_0_3af0533cb5\" y=\"213.48056\"/>\r\n    </g>\r\n    <g clip-path=\"url(#p642404fdf6)\">\r\n     <use style=\"fill:#2d004b;stroke:#2d004b;\" x=\"108.019558\" xlink:href=\"#C0_0_3af0533cb5\" y=\"142.019455\"/>\r\n    </g>\r\n    <g clip-path=\"url(#p642404fdf6)\">\r\n     <use style=\"fill:#2d004b;stroke:#2d004b;\" x=\"106.841364\" xlink:href=\"#C0_0_3af0533cb5\" y=\"173.552492\"/>\r\n    </g>\r\n    <g clip-path=\"url(#p642404fdf6)\">\r\n     <use style=\"fill:#7f3b08;stroke:#7f3b08;\" x=\"56.405884\" xlink:href=\"#C0_0_3af0533cb5\" y=\"141.272337\"/>\r\n    </g>\r\n    <g clip-path=\"url(#p642404fdf6)\">\r\n     <use style=\"fill:#2d004b;stroke:#2d004b;\" x=\"75.967722\" xlink:href=\"#C0_0_3af0533cb5\" y=\"141.272337\"/>\r\n    </g>\r\n    <g clip-path=\"url(#p642404fdf6)\">\r\n     <use style=\"fill:#2d004b;stroke:#2d004b;\" x=\"91.549315\" xlink:href=\"#C0_0_3af0533cb5\" y=\"156.17087\"/>\r\n    </g>\r\n    <g clip-path=\"url(#p642404fdf6)\">\r\n     <use style=\"fill:#2d004b;stroke:#2d004b;\" x=\"198.014335\" xlink:href=\"#C0_0_3af0533cb5\" y=\"171.069403\"/>\r\n    </g>\r\n    <g clip-path=\"url(#p642404fdf6)\">\r\n     <use style=\"fill:#7f3b08;stroke:#7f3b08;\" x=\"57.593999\" xlink:href=\"#C0_0_3af0533cb5\" y=\"151.204692\"/>\r\n    </g>\r\n    <g clip-path=\"url(#p642404fdf6)\">\r\n     <use style=\"fill:#7f3b08;stroke:#7f3b08;\" x=\"46.839064\" xlink:href=\"#C0_0_3af0533cb5\" y=\"146.238515\"/>\r\n    </g>\r\n    <g clip-path=\"url(#p642404fdf6)\">\r\n     <use style=\"fill:#7f3b08;stroke:#7f3b08;\" x=\"57.742514\" xlink:href=\"#C0_0_3af0533cb5\" y=\"108.992182\"/>\r\n    </g>\r\n    <g clip-path=\"url(#p642404fdf6)\">\r\n     <use style=\"fill:#2d004b;stroke:#2d004b;\" x=\"46.814351\" xlink:href=\"#C0_0_3af0533cb5\" y=\"151.204692\"/>\r\n    </g>\r\n    <g clip-path=\"url(#p642404fdf6)\">\r\n     <use style=\"fill:#2d004b;stroke:#2d004b;\" x=\"57.593999\" xlink:href=\"#C0_0_3af0533cb5\" y=\"156.17087\"/>\r\n    </g>\r\n    <g clip-path=\"url(#p642404fdf6)\">\r\n     <use style=\"fill:#7f3b08;stroke:#7f3b08;\" x=\"50.46531\" xlink:href=\"#C0_0_3af0533cb5\" y=\"81.678205\"/>\r\n    </g>\r\n    <g clip-path=\"url(#p642404fdf6)\">\r\n     <use style=\"fill:#2d004b;stroke:#2d004b;\" x=\"140.0888\" xlink:href=\"#C0_0_3af0533cb5\" y=\"138.789248\"/>\r\n    </g>\r\n    <g clip-path=\"url(#p642404fdf6)\">\r\n     <use style=\"fill:#2d004b;stroke:#2d004b;\" x=\"122.049235\" xlink:href=\"#C0_0_3af0533cb5\" y=\"116.441449\"/>\r\n    </g>\r\n    <g clip-path=\"url(#p642404fdf6)\">\r\n     <use style=\"fill:#7f3b08;stroke:#7f3b08;\" x=\"46.455422\" xlink:href=\"#C0_0_3af0533cb5\" y=\"161.137048\"/>\r\n    </g>\r\n    <g clip-path=\"url(#p642404fdf6)\">\r\n     <use style=\"fill:#7f3b08;stroke:#7f3b08;\" x=\"46.839064\" xlink:href=\"#C0_0_3af0533cb5\" y=\"148.721603\"/>\r\n    </g>\r\n    <g clip-path=\"url(#p642404fdf6)\">\r\n     <use style=\"fill:#2d004b;stroke:#2d004b;\" x=\"49.485115\" xlink:href=\"#C0_0_3af0533cb5\" y=\"141.272337\"/>\r\n    </g>\r\n    <g clip-path=\"url(#p642404fdf6)\">\r\n     <use style=\"fill:#2d004b;stroke:#2d004b;\" x=\"59.376172\" xlink:href=\"#C0_0_3af0533cb5\" y=\"161.137048\"/>\r\n    </g>\r\n    <g clip-path=\"url(#p642404fdf6)\">\r\n     <use style=\"fill:#7f3b08;stroke:#7f3b08;\" x=\"83.465202\" xlink:href=\"#C0_0_3af0533cb5\" y=\"142.019455\"/>\r\n    </g>\r\n    <g clip-path=\"url(#p642404fdf6)\">\r\n     <use style=\"fill:#2d004b;stroke:#2d004b;\" x=\"122.72248\" xlink:href=\"#C0_0_3af0533cb5\" y=\"126.373804\"/>\r\n    </g>\r\n    <g clip-path=\"url(#p642404fdf6)\">\r\n     <use style=\"fill:#7f3b08;stroke:#7f3b08;\" x=\"45.853938\" xlink:href=\"#C0_0_3af0533cb5\" y=\"64.296583\"/>\r\n    </g>\r\n    <g clip-path=\"url(#p642404fdf6)\">\r\n     <use style=\"fill:#2d004b;stroke:#2d004b;\" x=\"49.871252\" xlink:href=\"#C0_0_3af0533cb5\" y=\"126.373804\"/>\r\n    </g>\r\n    <g clip-path=\"url(#p642404fdf6)\">\r\n     <use style=\"fill:#2d004b;stroke:#2d004b;\" x=\"54.341535\" xlink:href=\"#C0_0_3af0533cb5\" y=\"138.789248\"/>\r\n    </g>\r\n    <g clip-path=\"url(#p642404fdf6)\">\r\n     <use style=\"fill:#2d004b;stroke:#2d004b;\" x=\"76.591482\" xlink:href=\"#C0_0_3af0533cb5\" y=\"176.035581\"/>\r\n    </g>\r\n    <g clip-path=\"url(#p642404fdf6)\">\r\n     <use style=\"fill:#2d004b;stroke:#2d004b;\" x=\"55.960341\" xlink:href=\"#C0_0_3af0533cb5\" y=\"142.019455\"/>\r\n    </g>\r\n    <g clip-path=\"url(#p642404fdf6)\">\r\n     <use style=\"fill:#7f3b08;stroke:#7f3b08;\" x=\"59.079143\" xlink:href=\"#C0_0_3af0533cb5\" y=\"102.78446\"/>\r\n    </g>\r\n    <g clip-path=\"url(#p642404fdf6)\">\r\n     <use style=\"fill:#7f3b08;stroke:#7f3b08;\" x=\"133.31405\" xlink:href=\"#C0_0_3af0533cb5\" y=\"121.407626\"/>\r\n    </g>\r\n    <g clip-path=\"url(#p642404fdf6)\">\r\n     <use style=\"fill:#7f3b08;stroke:#7f3b08;\" x=\"52.841539\" xlink:href=\"#C0_0_3af0533cb5\" y=\"176.035581\"/>\r\n    </g>\r\n    <g clip-path=\"url(#p642404fdf6)\">\r\n     <use style=\"fill:#2d004b;stroke:#2d004b;\" x=\"121.544286\" xlink:href=\"#C0_0_3af0533cb5\" y=\"142.019455\"/>\r\n    </g>\r\n    <g clip-path=\"url(#p642404fdf6)\">\r\n     <use style=\"fill:#7f3b08;stroke:#7f3b08;\" x=\"46.839064\" xlink:href=\"#C0_0_3af0533cb5\" y=\"142.019455\"/>\r\n    </g>\r\n    <g clip-path=\"url(#p642404fdf6)\">\r\n     <use style=\"fill:#7f3b08;stroke:#7f3b08;\" x=\"81.712733\" xlink:href=\"#C0_0_3af0533cb5\" y=\"143.755426\"/>\r\n    </g>\r\n    <g clip-path=\"url(#p642404fdf6)\">\r\n     <use style=\"fill:#2d004b;stroke:#2d004b;\" x=\"122.049235\" xlink:href=\"#C0_0_3af0533cb5\" y=\"113.95836\"/>\r\n    </g>\r\n    <g clip-path=\"url(#p642404fdf6)\">\r\n     <use style=\"fill:#2d004b;stroke:#2d004b;\" x=\"46.930668\" xlink:href=\"#C0_0_3af0533cb5\" y=\"104.026004\"/>\r\n    </g>\r\n    <g clip-path=\"url(#p642404fdf6)\">\r\n     <use style=\"fill:#7f3b08;stroke:#7f3b08;\" x=\"63.237545\" xlink:href=\"#C0_0_3af0533cb5\" y=\"104.026004\"/>\r\n    </g>\r\n    <g clip-path=\"url(#p642404fdf6)\">\r\n     <use style=\"fill:#2d004b;stroke:#2d004b;\" x=\"57.593999\" xlink:href=\"#C0_0_3af0533cb5\" y=\"210.798824\"/>\r\n    </g>\r\n    <g clip-path=\"url(#p642404fdf6)\">\r\n     <use style=\"fill:#2d004b;stroke:#2d004b;\" x=\"198.38562\" xlink:href=\"#C0_0_3af0533cb5\" y=\"156.17087\"/>\r\n    </g>\r\n    <g clip-path=\"url(#p642404fdf6)\">\r\n     <use style=\"fill:#7f3b08;stroke:#7f3b08;\" x=\"49.871252\" xlink:href=\"#C0_0_3af0533cb5\" y=\"146.238515\"/>\r\n    </g>\r\n    <g clip-path=\"url(#p642404fdf6)\">\r\n     <use style=\"fill:#7f3b08;stroke:#7f3b08;\" x=\"49.871252\" xlink:href=\"#C0_0_3af0533cb5\" y=\"153.687781\"/>\r\n    </g>\r\n    <g clip-path=\"url(#p642404fdf6)\">\r\n     <use style=\"fill:#7f3b08;stroke:#7f3b08;\" x=\"49.871252\" xlink:href=\"#C0_0_3af0533cb5\" y=\"126.373804\"/>\r\n    </g>\r\n    <g clip-path=\"url(#p642404fdf6)\">\r\n     <use style=\"fill:#2d004b;stroke:#2d004b;\" x=\"49.871252\" xlink:href=\"#C0_0_3af0533cb5\" y=\"156.17087\"/>\r\n    </g>\r\n    <g clip-path=\"url(#p642404fdf6)\">\r\n     <use style=\"fill:#2d004b;stroke:#2d004b;\" x=\"49.871252\" xlink:href=\"#C0_0_3af0533cb5\" y=\"116.441449\"/>\r\n    </g>\r\n    <g clip-path=\"url(#p642404fdf6)\">\r\n     <use style=\"fill:#2d004b;stroke:#2d004b;\" x=\"51.71283\" xlink:href=\"#C0_0_3af0533cb5\" y=\"142.019455\"/>\r\n    </g>\r\n    <g clip-path=\"url(#p642404fdf6)\">\r\n     <use style=\"fill:#2d004b;stroke:#2d004b;\" x=\"51.594019\" xlink:href=\"#C0_0_3af0533cb5\" y=\"208.315735\"/>\r\n    </g>\r\n    <g clip-path=\"url(#p642404fdf6)\">\r\n     <use style=\"fill:#7f3b08;stroke:#7f3b08;\" x=\"47.294528\" xlink:href=\"#C0_0_3af0533cb5\" y=\"111.475271\"/>\r\n    </g>\r\n    <g clip-path=\"url(#p642404fdf6)\">\r\n     <use style=\"fill:#7f3b08;stroke:#7f3b08;\" x=\"47.628685\" xlink:href=\"#C0_0_3af0533cb5\" y=\"158.653959\"/>\r\n    </g>\r\n    <g clip-path=\"url(#p642404fdf6)\">\r\n     <use style=\"fill:#7f3b08;stroke:#7f3b08;\" x=\"62.940516\" xlink:href=\"#C0_0_3af0533cb5\" y=\"142.019455\"/>\r\n    </g>\r\n    <g clip-path=\"url(#p642404fdf6)\">\r\n     <use style=\"fill:#7f3b08;stroke:#7f3b08;\" x=\"46.443065\" xlink:href=\"#C0_0_3af0533cb5\" y=\"178.518669\"/>\r\n    </g>\r\n    <g clip-path=\"url(#p642404fdf6)\">\r\n     <use style=\"fill:#7f3b08;stroke:#7f3b08;\" x=\"52.722728\" xlink:href=\"#C0_0_3af0533cb5\" y=\"153.687781\"/>\r\n    </g>\r\n    <g clip-path=\"url(#p642404fdf6)\">\r\n     <use style=\"fill:#7f3b08;stroke:#7f3b08;\" x=\"46.44057\" xlink:href=\"#C0_0_3af0533cb5\" y=\"142.019455\"/>\r\n    </g>\r\n    <g clip-path=\"url(#p642404fdf6)\">\r\n     <use style=\"fill:#7f3b08;stroke:#7f3b08;\" x=\"47.792051\" xlink:href=\"#C0_0_3af0533cb5\" y=\"146.238515\"/>\r\n    </g>\r\n    <g clip-path=\"url(#p642404fdf6)\">\r\n     <use style=\"fill:#2d004b;stroke:#2d004b;\" x=\"74.821666\" xlink:href=\"#C0_0_3af0533cb5\" y=\"161.137048\"/>\r\n    </g>\r\n    <g clip-path=\"url(#p642404fdf6)\">\r\n     <use style=\"fill:#7f3b08;stroke:#7f3b08;\" x=\"49.871252\" xlink:href=\"#C0_0_3af0533cb5\" y=\"121.407626\"/>\r\n    </g>\r\n    <g clip-path=\"url(#p642404fdf6)\">\r\n     <use style=\"fill:#2d004b;stroke:#2d004b;\" x=\"46.829203\" xlink:href=\"#C0_0_3af0533cb5\" y=\"142.019455\"/>\r\n    </g>\r\n    <g clip-path=\"url(#p642404fdf6)\">\r\n     <use style=\"fill:#2d004b;stroke:#2d004b;\" x=\"46.829203\" xlink:href=\"#C0_0_3af0533cb5\" y=\"142.019455\"/>\r\n    </g>\r\n    <g clip-path=\"url(#p642404fdf6)\">\r\n     <use style=\"fill:#7f3b08;stroke:#7f3b08;\" x=\"58.722708\" xlink:href=\"#C0_0_3af0533cb5\" y=\"116.441449\"/>\r\n    </g>\r\n    <g clip-path=\"url(#p642404fdf6)\">\r\n     <use style=\"fill:#7f3b08;stroke:#7f3b08;\" x=\"58.616253\" xlink:href=\"#C0_0_3af0533cb5\" y=\"143.755426\"/>\r\n    </g>\r\n    <g clip-path=\"url(#p642404fdf6)\">\r\n     <use style=\"fill:#7f3b08;stroke:#7f3b08;\" x=\"50.73513\" xlink:href=\"#C0_0_3af0533cb5\" y=\"104.026004\"/>\r\n    </g>\r\n    <g clip-path=\"url(#p642404fdf6)\">\r\n     <use style=\"fill:#7f3b08;stroke:#7f3b08;\" x=\"46.33661\" xlink:href=\"#C0_0_3af0533cb5\" y=\"128.856893\"/>\r\n    </g>\r\n    <g clip-path=\"url(#p642404fdf6)\">\r\n     <use style=\"fill:#7f3b08;stroke:#7f3b08;\" x=\"51.356396\" xlink:href=\"#C0_0_3af0533cb5\" y=\"142.019455\"/>\r\n    </g>\r\n    <g clip-path=\"url(#p642404fdf6)\">\r\n     <use style=\"fill:#7f3b08;stroke:#7f3b08;\" x=\"46.455422\" xlink:href=\"#C0_0_3af0533cb5\" y=\"141.272337\"/>\r\n    </g>\r\n    <g clip-path=\"url(#p642404fdf6)\">\r\n     <use style=\"fill:#2d004b;stroke:#2d004b;\" x=\"86.85133\" xlink:href=\"#C0_0_3af0533cb5\" y=\"66.779672\"/>\r\n    </g>\r\n    <g clip-path=\"url(#p642404fdf6)\">\r\n     <use style=\"fill:#2d004b;stroke:#2d004b;\" x=\"46.443065\" xlink:href=\"#C0_0_3af0533cb5\" y=\"142.019455\"/>\r\n    </g>\r\n    <g clip-path=\"url(#p642404fdf6)\">\r\n     <use style=\"fill:#2d004b;stroke:#2d004b;\" x=\"46.75245\" xlink:href=\"#C0_0_3af0533cb5\" y=\"142.019455\"/>\r\n    </g>\r\n    <g clip-path=\"url(#p642404fdf6)\">\r\n     <use style=\"fill:#2d004b;stroke:#2d004b;\" x=\"83.316688\" xlink:href=\"#C0_0_3af0533cb5\" y=\"156.17087\"/>\r\n    </g>\r\n    <g clip-path=\"url(#p642404fdf6)\">\r\n     <use style=\"fill:#2d004b;stroke:#2d004b;\" x=\"75.084061\" xlink:href=\"#C0_0_3af0533cb5\" y=\"153.687781\"/>\r\n    </g>\r\n    <g clip-path=\"url(#p642404fdf6)\">\r\n     <use style=\"fill:#7f3b08;stroke:#7f3b08;\" x=\"46.007383\" xlink:href=\"#C0_0_3af0533cb5\" y=\"171.069403\"/>\r\n    </g>\r\n    <g clip-path=\"url(#p642404fdf6)\">\r\n     <use style=\"fill:#7f3b08;stroke:#7f3b08;\" x=\"46.930668\" xlink:href=\"#C0_0_3af0533cb5\" y=\"168.586314\"/>\r\n    </g>\r\n    <g clip-path=\"url(#p642404fdf6)\">\r\n     <use style=\"fill:#7f3b08;stroke:#7f3b08;\" x=\"122.72248\" xlink:href=\"#C0_0_3af0533cb5\" y=\"161.137048\"/>\r\n    </g>\r\n    <g clip-path=\"url(#p642404fdf6)\">\r\n     <use style=\"fill:#7f3b08;stroke:#7f3b08;\" x=\"54.668266\" xlink:href=\"#C0_0_3af0533cb5\" y=\"208.315735\"/>\r\n    </g>\r\n    <g clip-path=\"url(#p642404fdf6)\">\r\n     <use style=\"fill:#2d004b;stroke:#2d004b;\" x=\"90.962683\" xlink:href=\"#C0_0_3af0533cb5\" y=\"142.019455\"/>\r\n    </g>\r\n    <g clip-path=\"url(#p642404fdf6)\">\r\n     <use style=\"fill:#2d004b;stroke:#2d004b;\" x=\"46.455422\" xlink:href=\"#C0_0_3af0533cb5\" y=\"161.137048\"/>\r\n    </g>\r\n    <g clip-path=\"url(#p642404fdf6)\">\r\n     <use style=\"fill:#7f3b08;stroke:#7f3b08;\" x=\"167.791661\" xlink:href=\"#C0_0_3af0533cb5\" y=\"148.721603\"/>\r\n    </g>\r\n    <g clip-path=\"url(#p642404fdf6)\">\r\n     <use style=\"fill:#7f3b08;stroke:#7f3b08;\" x=\"44.532161\" xlink:href=\"#C0_0_3af0533cb5\" y=\"166.103225\"/>\r\n    </g>\r\n    <g clip-path=\"url(#p642404fdf6)\">\r\n     <use style=\"fill:#7f3b08;stroke:#7f3b08;\" x=\"46.767302\" xlink:href=\"#C0_0_3af0533cb5\" y=\"168.586314\"/>\r\n    </g>\r\n    <g clip-path=\"url(#p642404fdf6)\">\r\n     <use style=\"fill:#2d004b;stroke:#2d004b;\" x=\"177.311432\" xlink:href=\"#C0_0_3af0533cb5\" y=\"111.475271\"/>\r\n    </g>\r\n    <g clip-path=\"url(#p642404fdf6)\">\r\n     <use style=\"fill:#2d004b;stroke:#2d004b;\" x=\"51.499979\" xlink:href=\"#C0_0_3af0533cb5\" y=\"213.281913\"/>\r\n    </g>\r\n    <g clip-path=\"url(#p642404fdf6)\">\r\n     <use style=\"fill:#7f3b08;stroke:#7f3b08;\" x=\"46.85641\" xlink:href=\"#C0_0_3af0533cb5\" y=\"136.306159\"/>\r\n    </g>\r\n    <g clip-path=\"url(#p642404fdf6)\">\r\n     <use style=\"fill:#2d004b;stroke:#2d004b;\" x=\"73.039494\" xlink:href=\"#C0_0_3af0533cb5\" y=\"128.856893\"/>\r\n    </g>\r\n    <g clip-path=\"url(#p642404fdf6)\">\r\n     <use style=\"fill:#7f3b08;stroke:#7f3b08;\" x=\"46.839064\" xlink:href=\"#C0_0_3af0533cb5\" y=\"142.019455\"/>\r\n    </g>\r\n    <g clip-path=\"url(#p642404fdf6)\">\r\n     <use style=\"fill:#7f3b08;stroke:#7f3b08;\" x=\"85.811729\" xlink:href=\"#C0_0_3af0533cb5\" y=\"171.069403\"/>\r\n    </g>\r\n    <g clip-path=\"url(#p642404fdf6)\">\r\n     <use style=\"fill:#7f3b08;stroke:#7f3b08;\" x=\"70.0098\" xlink:href=\"#C0_0_3af0533cb5\" y=\"213.281913\"/>\r\n    </g>\r\n    <g clip-path=\"url(#p642404fdf6)\">\r\n     <use style=\"fill:#2d004b;stroke:#2d004b;\" x=\"49.871252\" xlink:href=\"#C0_0_3af0533cb5\" y=\"126.373804\"/>\r\n    </g>\r\n    <g clip-path=\"url(#p642404fdf6)\">\r\n     <use style=\"fill:#7f3b08;stroke:#7f3b08;\" x=\"46.740094\" xlink:href=\"#C0_0_3af0533cb5\" y=\"142.019455\"/>\r\n    </g>\r\n    <g clip-path=\"url(#p642404fdf6)\">\r\n     <use style=\"fill:#2d004b;stroke:#2d004b;\" x=\"49.277195\" xlink:href=\"#C0_0_3af0533cb5\" y=\"173.552492\"/>\r\n    </g>\r\n    <g clip-path=\"url(#p642404fdf6)\">\r\n     <use style=\"fill:#2d004b;stroke:#2d004b;\" x=\"113.435402\" xlink:href=\"#C0_0_3af0533cb5\" y=\"126.373804\"/>\r\n    </g>\r\n    <g clip-path=\"url(#p642404fdf6)\">\r\n     <use style=\"fill:#2d004b;stroke:#2d004b;\" x=\"46.779658\" xlink:href=\"#C0_0_3af0533cb5\" y=\"163.620136\"/>\r\n    </g>\r\n    <g clip-path=\"url(#p642404fdf6)\">\r\n     <use style=\"fill:#7f3b08;stroke:#7f3b08;\" x=\"46.85641\" xlink:href=\"#C0_0_3af0533cb5\" y=\"146.238515\"/>\r\n    </g>\r\n    <g clip-path=\"url(#p642404fdf6)\">\r\n     <use style=\"fill:#2d004b;stroke:#2d004b;\" x=\"109.440365\" xlink:href=\"#C0_0_3af0533cb5\" y=\"158.653959\"/>\r\n    </g>\r\n    <g clip-path=\"url(#p642404fdf6)\">\r\n     <use style=\"fill:#2d004b;stroke:#2d004b;\" x=\"52.069265\" xlink:href=\"#C0_0_3af0533cb5\" y=\"156.17087\"/>\r\n    </g>\r\n    <g clip-path=\"url(#p642404fdf6)\">\r\n     <use style=\"fill:#7f3b08;stroke:#7f3b08;\" x=\"46.779658\" xlink:href=\"#C0_0_3af0533cb5\" y=\"161.137048\"/>\r\n    </g>\r\n    <g clip-path=\"url(#p642404fdf6)\">\r\n     <use style=\"fill:#7f3b08;stroke:#7f3b08;\" x=\"46.814351\" xlink:href=\"#C0_0_3af0533cb5\" y=\"138.789248\"/>\r\n    </g>\r\n    <g clip-path=\"url(#p642404fdf6)\">\r\n     <use style=\"fill:#7f3b08;stroke:#7f3b08;\" x=\"57.593999\" xlink:href=\"#C0_0_3af0533cb5\" y=\"101.542916\"/>\r\n    </g>\r\n    <g clip-path=\"url(#p642404fdf6)\">\r\n     <use style=\"fill:#7f3b08;stroke:#7f3b08;\" x=\"48.386108\" xlink:href=\"#C0_0_3af0533cb5\" y=\"158.653959\"/>\r\n    </g>\r\n    <g clip-path=\"url(#p642404fdf6)\">\r\n     <use style=\"fill:#2d004b;stroke:#2d004b;\" x=\"49.663332\" xlink:href=\"#C0_0_3af0533cb5\" y=\"146.238515\"/>\r\n    </g>\r\n    <g clip-path=\"url(#p642404fdf6)\">\r\n     <use style=\"fill:#2d004b;stroke:#2d004b;\" x=\"46.85641\" xlink:href=\"#C0_0_3af0533cb5\" y=\"118.924537\"/>\r\n    </g>\r\n    <g clip-path=\"url(#p642404fdf6)\">\r\n     <use style=\"fill:#7f3b08;stroke:#7f3b08;\" x=\"46.930668\" xlink:href=\"#C0_0_3af0533cb5\" y=\"151.204692\"/>\r\n    </g>\r\n    <g clip-path=\"url(#p642404fdf6)\">\r\n     <use style=\"fill:#7f3b08;stroke:#7f3b08;\" x=\"47.98512\" xlink:href=\"#C0_0_3af0533cb5\" y=\"163.620136\"/>\r\n    </g>\r\n    <g clip-path=\"url(#p642404fdf6)\">\r\n     <use style=\"fill:#7f3b08;stroke:#7f3b08;\" x=\"51.564316\" xlink:href=\"#C0_0_3af0533cb5\" y=\"146.238515\"/>\r\n    </g>\r\n    <g clip-path=\"url(#p642404fdf6)\">\r\n     <use style=\"fill:#7f3b08;stroke:#7f3b08;\" x=\"47.294528\" xlink:href=\"#C0_0_3af0533cb5\" y=\"166.103225\"/>\r\n    </g>\r\n    <g clip-path=\"url(#p642404fdf6)\">\r\n     <use style=\"fill:#7f3b08;stroke:#7f3b08;\" x=\"54.623712\" xlink:href=\"#C0_0_3af0533cb5\" y=\"131.339982\"/>\r\n    </g>\r\n    <g clip-path=\"url(#p642404fdf6)\">\r\n     <use style=\"fill:#7f3b08;stroke:#7f3b08;\" x=\"46.75245\" xlink:href=\"#C0_0_3af0533cb5\" y=\"89.127471\"/>\r\n    </g>\r\n    <g clip-path=\"url(#p642404fdf6)\">\r\n     <use style=\"fill:#2d004b;stroke:#2d004b;\" x=\"53.287083\" xlink:href=\"#C0_0_3af0533cb5\" y=\"208.315735\"/>\r\n    </g>\r\n    <g clip-path=\"url(#p642404fdf6)\">\r\n     <use style=\"fill:#7f3b08;stroke:#7f3b08;\" x=\"46.767302\" xlink:href=\"#C0_0_3af0533cb5\" y=\"163.620136\"/>\r\n    </g>\r\n    <g clip-path=\"url(#p642404fdf6)\">\r\n     <use style=\"fill:#7f3b08;stroke:#7f3b08;\" x=\"57.277188\" xlink:href=\"#C0_0_3af0533cb5\" y=\"142.019455\"/>\r\n    </g>\r\n    <g clip-path=\"url(#p642404fdf6)\">\r\n     <use style=\"fill:#7f3b08;stroke:#7f3b08;\" x=\"46.839064\" xlink:href=\"#C0_0_3af0533cb5\" y=\"142.019455\"/>\r\n    </g>\r\n    <g clip-path=\"url(#p642404fdf6)\">\r\n     <use style=\"fill:#7f3b08;stroke:#7f3b08;\" x=\"46.222729\" xlink:href=\"#C0_0_3af0533cb5\" y=\"142.019455\"/>\r\n    </g>\r\n    <g clip-path=\"url(#p642404fdf6)\">\r\n     <use style=\"fill:#2d004b;stroke:#2d004b;\" x=\"95.613678\" xlink:href=\"#C0_0_3af0533cb5\" y=\"133.82307\"/>\r\n    </g>\r\n    <g clip-path=\"url(#p642404fdf6)\">\r\n     <use style=\"fill:#7f3b08;stroke:#7f3b08;\" x=\"42.148505\" xlink:href=\"#C0_0_3af0533cb5\" y=\"142.019455\"/>\r\n    </g>\r\n    <g clip-path=\"url(#p642404fdf6)\">\r\n     <use style=\"fill:#2d004b;stroke:#2d004b;\" x=\"46.85641\" xlink:href=\"#C0_0_3af0533cb5\" y=\"106.509093\"/>\r\n    </g>\r\n    <g clip-path=\"url(#p642404fdf6)\">\r\n     <use style=\"fill:#7f3b08;stroke:#7f3b08;\" x=\"46.930668\" xlink:href=\"#C0_0_3af0533cb5\" y=\"142.019455\"/>\r\n    </g>\r\n    <g clip-path=\"url(#p642404fdf6)\">\r\n     <use style=\"fill:#2d004b;stroke:#2d004b;\" x=\"61.455373\" xlink:href=\"#C0_0_3af0533cb5\" y=\"131.339982\"/>\r\n    </g>\r\n    <g clip-path=\"url(#p642404fdf6)\">\r\n     <use style=\"fill:#2d004b;stroke:#2d004b;\" x=\"49.871252\" xlink:href=\"#C0_0_3af0533cb5\" y=\"171.069403\"/>\r\n    </g>\r\n    <g clip-path=\"url(#p642404fdf6)\">\r\n     <use style=\"fill:#7f3b08;stroke:#7f3b08;\" x=\"49.871252\" xlink:href=\"#C0_0_3af0533cb5\" y=\"141.272337\"/>\r\n    </g>\r\n    <g clip-path=\"url(#p642404fdf6)\">\r\n     <use style=\"fill:#7f3b08;stroke:#7f3b08;\" x=\"56.494993\" xlink:href=\"#C0_0_3af0533cb5\" y=\"190.934114\"/>\r\n    </g>\r\n    <g clip-path=\"url(#p642404fdf6)\">\r\n     <use style=\"fill:#7f3b08;stroke:#7f3b08;\" x=\"46.839064\" xlink:href=\"#C0_0_3af0533cb5\" y=\"142.019455\"/>\r\n    </g>\r\n    <g clip-path=\"url(#p642404fdf6)\">\r\n     <use style=\"fill:#7f3b08;stroke:#7f3b08;\" x=\"46.74253\" xlink:href=\"#C0_0_3af0533cb5\" y=\"163.620136\"/>\r\n    </g>\r\n    <g clip-path=\"url(#p642404fdf6)\">\r\n     <use style=\"fill:#7f3b08;stroke:#7f3b08;\" x=\"46.826708\" xlink:href=\"#C0_0_3af0533cb5\" y=\"143.755426\"/>\r\n    </g>\r\n    <g clip-path=\"url(#p642404fdf6)\">\r\n     <use style=\"fill:#7f3b08;stroke:#7f3b08;\" x=\"50.702933\" xlink:href=\"#C0_0_3af0533cb5\" y=\"146.238515\"/>\r\n    </g>\r\n    <g clip-path=\"url(#p642404fdf6)\">\r\n     <use style=\"fill:#7f3b08;stroke:#7f3b08;\" x=\"54.155892\" xlink:href=\"#C0_0_3af0533cb5\" y=\"171.069403\"/>\r\n    </g>\r\n    <g clip-path=\"url(#p642404fdf6)\">\r\n     <use style=\"fill:#7f3b08;stroke:#7f3b08;\" x=\"46.455422\" xlink:href=\"#C0_0_3af0533cb5\" y=\"142.019455\"/>\r\n    </g>\r\n    <g clip-path=\"url(#p642404fdf6)\">\r\n     <use style=\"fill:#2d004b;stroke:#2d004b;\" x=\"57.593999\" xlink:href=\"#C0_0_3af0533cb5\" y=\"146.238515\"/>\r\n    </g>\r\n    <g clip-path=\"url(#p642404fdf6)\">\r\n     <use style=\"fill:#2d004b;stroke:#2d004b;\" x=\"57.593999\" xlink:href=\"#C0_0_3af0533cb5\" y=\"168.586314\"/>\r\n    </g>\r\n    <g clip-path=\"url(#p642404fdf6)\">\r\n     <use style=\"fill:#7f3b08;stroke:#7f3b08;\" x=\"46.75245\" xlink:href=\"#C0_0_3af0533cb5\" y=\"142.019455\"/>\r\n    </g>\r\n    <g clip-path=\"url(#p642404fdf6)\">\r\n     <use style=\"fill:#2d004b;stroke:#2d004b;\" x=\"46.930668\" xlink:href=\"#C0_0_3af0533cb5\" y=\"136.306159\"/>\r\n    </g>\r\n    <g clip-path=\"url(#p642404fdf6)\">\r\n     <use style=\"fill:#2d004b;stroke:#2d004b;\" x=\"57.920731\" xlink:href=\"#C0_0_3af0533cb5\" y=\"146.238515\"/>\r\n    </g>\r\n    <g clip-path=\"url(#p642404fdf6)\">\r\n     <use style=\"fill:#2d004b;stroke:#2d004b;\" x=\"51.71283\" xlink:href=\"#C0_0_3af0533cb5\" y=\"142.019455\"/>\r\n    </g>\r\n    <g clip-path=\"url(#p642404fdf6)\">\r\n     <use style=\"fill:#2d004b;stroke:#2d004b;\" x=\"57.593999\" xlink:href=\"#C0_0_3af0533cb5\" y=\"111.475271\"/>\r\n    </g>\r\n    <g clip-path=\"url(#p642404fdf6)\">\r\n     <use style=\"fill:#7f3b08;stroke:#7f3b08;\" x=\"46.381164\" xlink:href=\"#C0_0_3af0533cb5\" y=\"173.552492\"/>\r\n    </g>\r\n    <g clip-path=\"url(#p642404fdf6)\">\r\n     <use style=\"fill:#7f3b08;stroke:#7f3b08;\" x=\"75.356318\" xlink:href=\"#C0_0_3af0533cb5\" y=\"91.61056\"/>\r\n    </g>\r\n    <g clip-path=\"url(#p642404fdf6)\">\r\n     <use style=\"fill:#2d004b;stroke:#2d004b;\" x=\"113.435402\" xlink:href=\"#C0_0_3af0533cb5\" y=\"181.001758\"/>\r\n    </g>\r\n    <g clip-path=\"url(#p642404fdf6)\">\r\n     <use style=\"fill:#7f3b08;stroke:#7f3b08;\" x=\"62.569231\" xlink:href=\"#C0_0_3af0533cb5\" y=\"163.620136\"/>\r\n    </g>\r\n    <g clip-path=\"url(#p642404fdf6)\">\r\n     <use style=\"fill:#2d004b;stroke:#2d004b;\" x=\"53.287083\" xlink:href=\"#C0_0_3af0533cb5\" y=\"156.17087\"/>\r\n    </g>\r\n    <g clip-path=\"url(#p642404fdf6)\">\r\n     <use style=\"fill:#7f3b08;stroke:#7f3b08;\" x=\"198.38562\" xlink:href=\"#C0_0_3af0533cb5\" y=\"56.847317\"/>\r\n    </g>\r\n    <g clip-path=\"url(#p642404fdf6)\">\r\n     <use style=\"fill:#7f3b08;stroke:#7f3b08;\" x=\"48.386108\" xlink:href=\"#C0_0_3af0533cb5\" y=\"138.789248\"/>\r\n    </g>\r\n    <g clip-path=\"url(#p642404fdf6)\">\r\n     <use style=\"fill:#2d004b;stroke:#2d004b;\" x=\"57.742514\" xlink:href=\"#C0_0_3af0533cb5\" y=\"104.026004\"/>\r\n    </g>\r\n    <g clip-path=\"url(#p642404fdf6)\">\r\n     <use style=\"fill:#7f3b08;stroke:#7f3b08;\" x=\"47.792051\" xlink:href=\"#C0_0_3af0533cb5\" y=\"166.103225\"/>\r\n    </g>\r\n    <g clip-path=\"url(#p642404fdf6)\">\r\n     <use style=\"fill:#7f3b08;stroke:#7f3b08;\" x=\"46.767302\" xlink:href=\"#C0_0_3af0533cb5\" y=\"153.687781\"/>\r\n    </g>\r\n    <g clip-path=\"url(#p642404fdf6)\">\r\n     <use style=\"fill:#2d004b;stroke:#2d004b;\" x=\"49.871252\" xlink:href=\"#C0_0_3af0533cb5\" y=\"146.238515\"/>\r\n    </g>\r\n    <g clip-path=\"url(#p642404fdf6)\">\r\n     <use style=\"fill:#2d004b;stroke:#2d004b;\" x=\"46.967796\" xlink:href=\"#C0_0_3af0533cb5\" y=\"142.019455\"/>\r\n    </g>\r\n    <g clip-path=\"url(#p642404fdf6)\">\r\n     <use style=\"fill:#2d004b;stroke:#2d004b;\" x=\"90.77704\" xlink:href=\"#C0_0_3af0533cb5\" y=\"205.832647\"/>\r\n    </g>\r\n    <g clip-path=\"url(#p642404fdf6)\">\r\n     <use style=\"fill:#2d004b;stroke:#2d004b;\" x=\"53.732626\" xlink:href=\"#C0_0_3af0533cb5\" y=\"183.484847\"/>\r\n    </g>\r\n    <g clip-path=\"url(#p642404fdf6)\">\r\n     <use style=\"fill:#2d004b;stroke:#2d004b;\" x=\"57.920731\" xlink:href=\"#C0_0_3af0533cb5\" y=\"131.339982\"/>\r\n    </g>\r\n    <g clip-path=\"url(#p642404fdf6)\">\r\n     <use style=\"fill:#2d004b;stroke:#2d004b;\" x=\"53.589042\" xlink:href=\"#C0_0_3af0533cb5\" y=\"203.349558\"/>\r\n    </g>\r\n    <g clip-path=\"url(#p642404fdf6)\">\r\n     <use style=\"fill:#2d004b;stroke:#2d004b;\" x=\"60.267258\" xlink:href=\"#C0_0_3af0533cb5\" y=\"86.644383\"/>\r\n    </g>\r\n    <g clip-path=\"url(#p642404fdf6)\">\r\n     <use style=\"fill:#7f3b08;stroke:#7f3b08;\" x=\"58.6336\" xlink:href=\"#C0_0_3af0533cb5\" y=\"126.373804\"/>\r\n    </g>\r\n    <g clip-path=\"url(#p642404fdf6)\">\r\n     <use style=\"fill:#7f3b08;stroke:#7f3b08;\" x=\"54.009872\" xlink:href=\"#C0_0_3af0533cb5\" y=\"142.019455\"/>\r\n    </g>\r\n    <g clip-path=\"url(#p642404fdf6)\">\r\n     <use style=\"fill:#7f3b08;stroke:#7f3b08;\" x=\"58.6336\" xlink:href=\"#C0_0_3af0533cb5\" y=\"141.272337\"/>\r\n    </g>\r\n    <g clip-path=\"url(#p642404fdf6)\">\r\n     <use style=\"fill:#2d004b;stroke:#2d004b;\" x=\"95.081521\" xlink:href=\"#C0_0_3af0533cb5\" y=\"94.093649\"/>\r\n    </g>\r\n    <g clip-path=\"url(#p642404fdf6)\">\r\n     <use style=\"fill:#7f3b08;stroke:#7f3b08;\" x=\"46.930668\" xlink:href=\"#C0_0_3af0533cb5\" y=\"142.019455\"/>\r\n    </g>\r\n    <g clip-path=\"url(#p642404fdf6)\">\r\n     <use style=\"fill:#2d004b;stroke:#2d004b;\" x=\"46.839064\" xlink:href=\"#C0_0_3af0533cb5\" y=\"143.755426\"/>\r\n    </g>\r\n    <g clip-path=\"url(#p642404fdf6)\">\r\n     <use style=\"fill:#7f3b08;stroke:#7f3b08;\" x=\"57.920731\" xlink:href=\"#C0_0_3af0533cb5\" y=\"54.364228\"/>\r\n    </g>\r\n    <g clip-path=\"url(#p642404fdf6)\">\r\n     <use style=\"fill:#2d004b;stroke:#2d004b;\" x=\"72.957811\" xlink:href=\"#C0_0_3af0533cb5\" y=\"142.019455\"/>\r\n    </g>\r\n    <g clip-path=\"url(#p642404fdf6)\">\r\n     <use style=\"fill:#2d004b;stroke:#2d004b;\" x=\"48.386108\" xlink:href=\"#C0_0_3af0533cb5\" y=\"91.61056\"/>\r\n    </g>\r\n    <g clip-path=\"url(#p642404fdf6)\">\r\n     <use style=\"fill:#7f3b08;stroke:#7f3b08;\" x=\"46.75245\" xlink:href=\"#C0_0_3af0533cb5\" y=\"142.019455\"/>\r\n    </g>\r\n    <g clip-path=\"url(#p642404fdf6)\">\r\n     <use style=\"fill:#2d004b;stroke:#2d004b;\" x=\"57.920731\" xlink:href=\"#C0_0_3af0533cb5\" y=\"96.576738\"/>\r\n    </g>\r\n    <g clip-path=\"url(#p642404fdf6)\">\r\n     <use style=\"fill:#7f3b08;stroke:#7f3b08;\" x=\"46.930668\" xlink:href=\"#C0_0_3af0533cb5\" y=\"131.339982\"/>\r\n    </g>\r\n    <g clip-path=\"url(#p642404fdf6)\">\r\n     <use style=\"fill:#7f3b08;stroke:#7f3b08;\" x=\"65.019718\" xlink:href=\"#C0_0_3af0533cb5\" y=\"99.059827\"/>\r\n    </g>\r\n    <g clip-path=\"url(#p642404fdf6)\">\r\n     <use style=\"fill:#7f3b08;stroke:#7f3b08;\" x=\"49.871252\" xlink:href=\"#C0_0_3af0533cb5\" y=\"96.576738\"/>\r\n    </g>\r\n    <g clip-path=\"url(#p642404fdf6)\">\r\n     <use style=\"fill:#7f3b08;stroke:#7f3b08;\" x=\"46.930668\" xlink:href=\"#C0_0_3af0533cb5\" y=\"142.019455\"/>\r\n    </g>\r\n    <g clip-path=\"url(#p642404fdf6)\">\r\n     <use style=\"fill:#7f3b08;stroke:#7f3b08;\" x=\"46.33661\" xlink:href=\"#C0_0_3af0533cb5\" y=\"121.407626\"/>\r\n    </g>\r\n    <g clip-path=\"url(#p642404fdf6)\">\r\n     <use style=\"fill:#7f3b08;stroke:#7f3b08;\" x=\"42.148505\" xlink:href=\"#C0_0_3af0533cb5\" y=\"142.019455\"/>\r\n    </g>\r\n    <g clip-path=\"url(#p642404fdf6)\">\r\n     <use style=\"fill:#7f3b08;stroke:#7f3b08;\" x=\"57.920731\" xlink:href=\"#C0_0_3af0533cb5\" y=\"76.712027\"/>\r\n    </g>\r\n    <g clip-path=\"url(#p642404fdf6)\">\r\n     <use style=\"fill:#7f3b08;stroke:#7f3b08;\" x=\"46.737599\" xlink:href=\"#C0_0_3af0533cb5\" y=\"142.019455\"/>\r\n    </g>\r\n    <g clip-path=\"url(#p642404fdf6)\">\r\n     <use style=\"fill:#2d004b;stroke:#2d004b;\" x=\"53.589042\" xlink:href=\"#C0_0_3af0533cb5\" y=\"213.902685\"/>\r\n    </g>\r\n    <g clip-path=\"url(#p642404fdf6)\">\r\n     <use style=\"fill:#7f3b08;stroke:#7f3b08;\" x=\"46.455422\" xlink:href=\"#C0_0_3af0533cb5\" y=\"142.019455\"/>\r\n    </g>\r\n    <g clip-path=\"url(#p642404fdf6)\">\r\n     <use style=\"fill:#7f3b08;stroke:#7f3b08;\" x=\"47.294528\" xlink:href=\"#C0_0_3af0533cb5\" y=\"121.407626\"/>\r\n    </g>\r\n    <g clip-path=\"url(#p642404fdf6)\">\r\n     <use style=\"fill:#2d004b;stroke:#2d004b;\" x=\"58.6336\" xlink:href=\"#C0_0_3af0533cb5\" y=\"133.82307\"/>\r\n    </g>\r\n    <g clip-path=\"url(#p642404fdf6)\">\r\n     <use style=\"fill:#2d004b;stroke:#2d004b;\" x=\"50.341567\" xlink:href=\"#C0_0_3af0533cb5\" y=\"158.653959\"/>\r\n    </g>\r\n    <g clip-path=\"url(#p642404fdf6)\">\r\n     <use style=\"fill:#7f3b08;stroke:#7f3b08;\" x=\"47.992545\" xlink:href=\"#C0_0_3af0533cb5\" y=\"161.137048\"/>\r\n    </g>\r\n    <g clip-path=\"url(#p642404fdf6)\">\r\n     <use style=\"fill:#7f3b08;stroke:#7f3b08;\" x=\"73.039494\" xlink:href=\"#C0_0_3af0533cb5\" y=\"142.019455\"/>\r\n    </g>\r\n    <g clip-path=\"url(#p642404fdf6)\">\r\n     <use style=\"fill:#7f3b08;stroke:#7f3b08;\" x=\"54.623712\" xlink:href=\"#C0_0_3af0533cb5\" y=\"131.339982\"/>\r\n    </g>\r\n    <g clip-path=\"url(#p642404fdf6)\">\r\n     <use style=\"fill:#7f3b08;stroke:#7f3b08;\" x=\"46.334115\" xlink:href=\"#C0_0_3af0533cb5\" y=\"143.755426\"/>\r\n    </g>\r\n    <g clip-path=\"url(#p642404fdf6)\">\r\n     <use style=\"fill:#7f3b08;stroke:#7f3b08;\" x=\"46.616292\" xlink:href=\"#C0_0_3af0533cb5\" y=\"161.137048\"/>\r\n    </g>\r\n    <g clip-path=\"url(#p642404fdf6)\">\r\n     <use style=\"fill:#2d004b;stroke:#2d004b;\" x=\"49.447986\" xlink:href=\"#C0_0_3af0533cb5\" y=\"210.798824\"/>\r\n    </g>\r\n    <g clip-path=\"url(#p642404fdf6)\">\r\n     <use style=\"fill:#7f3b08;stroke:#7f3b08;\" x=\"70.0098\" xlink:href=\"#C0_0_3af0533cb5\" y=\"193.417202\"/>\r\n    </g>\r\n    <g clip-path=\"url(#p642404fdf6)\">\r\n     <use style=\"fill:#7f3b08;stroke:#7f3b08;\" x=\"42.148505\" xlink:href=\"#C0_0_3af0533cb5\" y=\"142.019455\"/>\r\n    </g>\r\n    <g clip-path=\"url(#p642404fdf6)\">\r\n     <use style=\"fill:#7f3b08;stroke:#7f3b08;\" x=\"46.930668\" xlink:href=\"#C0_0_3af0533cb5\" y=\"91.61056\"/>\r\n    </g>\r\n    <g clip-path=\"url(#p642404fdf6)\">\r\n     <use style=\"fill:#2d004b;stroke:#2d004b;\" x=\"47.844031\" xlink:href=\"#C0_0_3af0533cb5\" y=\"59.330405\"/>\r\n    </g>\r\n    <g clip-path=\"url(#p642404fdf6)\">\r\n     <use style=\"fill:#2d004b;stroke:#2d004b;\" x=\"96.254784\" xlink:href=\"#C0_0_3af0533cb5\" y=\"153.687781\"/>\r\n    </g>\r\n    <g clip-path=\"url(#p642404fdf6)\">\r\n     <use style=\"fill:#7f3b08;stroke:#7f3b08;\" x=\"57.277188\" xlink:href=\"#C0_0_3af0533cb5\" y=\"142.019455\"/>\r\n    </g>\r\n    <g clip-path=\"url(#p642404fdf6)\">\r\n     <use style=\"fill:#2d004b;stroke:#2d004b;\" x=\"95.613678\" xlink:href=\"#C0_0_3af0533cb5\" y=\"128.856893\"/>\r\n    </g>\r\n    <g clip-path=\"url(#p642404fdf6)\">\r\n     <use style=\"fill:#7f3b08;stroke:#7f3b08;\" x=\"59.792012\" xlink:href=\"#C0_0_3af0533cb5\" y=\"71.74585\"/>\r\n    </g>\r\n    <g clip-path=\"url(#p642404fdf6)\">\r\n     <use style=\"fill:#7f3b08;stroke:#7f3b08;\" x=\"46.930668\" xlink:href=\"#C0_0_3af0533cb5\" y=\"141.272337\"/>\r\n    </g>\r\n    <g clip-path=\"url(#p642404fdf6)\">\r\n     <use style=\"fill:#2d004b;stroke:#2d004b;\" x=\"51.594019\" xlink:href=\"#C0_0_3af0533cb5\" y=\"193.417202\"/>\r\n    </g>\r\n    <g clip-path=\"url(#p642404fdf6)\">\r\n     <use style=\"fill:#7f3b08;stroke:#7f3b08;\" x=\"54.009872\" xlink:href=\"#C0_0_3af0533cb5\" y=\"142.019455\"/>\r\n    </g>\r\n    <g clip-path=\"url(#p642404fdf6)\">\r\n     <use style=\"fill:#7f3b08;stroke:#7f3b08;\" x=\"46.455422\" xlink:href=\"#C0_0_3af0533cb5\" y=\"163.620136\"/>\r\n    </g>\r\n    <g clip-path=\"url(#p642404fdf6)\">\r\n     <use style=\"fill:#7f3b08;stroke:#7f3b08;\" x=\"60.267258\" xlink:href=\"#C0_0_3af0533cb5\" y=\"79.195116\"/>\r\n    </g>\r\n    <g clip-path=\"url(#p642404fdf6)\">\r\n     <use style=\"fill:#7f3b08;stroke:#7f3b08;\" x=\"71.556845\" xlink:href=\"#C0_0_3af0533cb5\" y=\"39.465695\"/>\r\n    </g>\r\n    <g clip-path=\"url(#p642404fdf6)\">\r\n     <use style=\"fill:#7f3b08;stroke:#7f3b08;\" x=\"46.930668\" xlink:href=\"#C0_0_3af0533cb5\" y=\"163.620136\"/>\r\n    </g>\r\n    <g clip-path=\"url(#p642404fdf6)\">\r\n     <use style=\"fill:#7f3b08;stroke:#7f3b08;\" x=\"50.737566\" xlink:href=\"#C0_0_3af0533cb5\" y=\"142.019455\"/>\r\n    </g>\r\n    <g clip-path=\"url(#p642404fdf6)\">\r\n     <use style=\"fill:#2d004b;stroke:#2d004b;\" x=\"88.643423\" xlink:href=\"#C0_0_3af0533cb5\" y=\"81.678205\"/>\r\n    </g>\r\n    <g clip-path=\"url(#p642404fdf6)\">\r\n     <use style=\"fill:#7f3b08;stroke:#7f3b08;\" x=\"51.118773\" xlink:href=\"#C0_0_3af0533cb5\" y=\"142.019455\"/>\r\n    </g>\r\n    <g clip-path=\"url(#p642404fdf6)\">\r\n     <use style=\"fill:#7f3b08;stroke:#7f3b08;\" x=\"132.177915\" xlink:href=\"#C0_0_3af0533cb5\" y=\"153.687781\"/>\r\n    </g>\r\n    <g clip-path=\"url(#p642404fdf6)\">\r\n     <use style=\"fill:#7f3b08;stroke:#7f3b08;\" x=\"46.779658\" xlink:href=\"#C0_0_3af0533cb5\" y=\"156.17087\"/>\r\n    </g>\r\n    <g clip-path=\"url(#p642404fdf6)\">\r\n     <use style=\"fill:#7f3b08;stroke:#7f3b08;\" x=\"47.294528\" xlink:href=\"#C0_0_3af0533cb5\" y=\"173.552492\"/>\r\n    </g>\r\n    <g clip-path=\"url(#p642404fdf6)\">\r\n     <use style=\"fill:#7f3b08;stroke:#7f3b08;\" x=\"46.75245\" xlink:href=\"#C0_0_3af0533cb5\" y=\"163.620136\"/>\r\n    </g>\r\n    <g clip-path=\"url(#p642404fdf6)\">\r\n     <use style=\"fill:#7f3b08;stroke:#7f3b08;\" x=\"46.680688\" xlink:href=\"#C0_0_3af0533cb5\" y=\"142.019455\"/>\r\n    </g>\r\n    <g clip-path=\"url(#p642404fdf6)\">\r\n     <use style=\"fill:#7f3b08;stroke:#7f3b08;\" x=\"47.844031\" xlink:href=\"#C0_0_3af0533cb5\" y=\"123.890715\"/>\r\n    </g>\r\n    <g clip-path=\"url(#p642404fdf6)\">\r\n     <use style=\"fill:#2d004b;stroke:#2d004b;\" x=\"93.534476\" xlink:href=\"#C0_0_3af0533cb5\" y=\"176.035581\"/>\r\n    </g>\r\n    <g clip-path=\"url(#p642404fdf6)\">\r\n     <use style=\"fill:#7f3b08;stroke:#7f3b08;\" x=\"106.841364\" xlink:href=\"#C0_0_3af0533cb5\" y=\"171.069403\"/>\r\n    </g>\r\n    <g clip-path=\"url(#p642404fdf6)\">\r\n     <use style=\"fill:#2d004b;stroke:#2d004b;\" x=\"57.593999\" xlink:href=\"#C0_0_3af0533cb5\" y=\"133.82307\"/>\r\n    </g>\r\n    <g clip-path=\"url(#p642404fdf6)\">\r\n     <use style=\"fill:#2d004b;stroke:#2d004b;\" x=\"57.920731\" xlink:href=\"#C0_0_3af0533cb5\" y=\"142.019455\"/>\r\n    </g>\r\n    <g clip-path=\"url(#p642404fdf6)\">\r\n     <use style=\"fill:#7f3b08;stroke:#7f3b08;\" x=\"55.52965\" xlink:href=\"#C0_0_3af0533cb5\" y=\"146.238515\"/>\r\n    </g>\r\n    <g clip-path=\"url(#p642404fdf6)\">\r\n     <use style=\"fill:#2d004b;stroke:#2d004b;\" x=\"75.710257\" xlink:href=\"#C0_0_3af0533cb5\" y=\"151.204692\"/>\r\n    </g>\r\n    <g clip-path=\"url(#p642404fdf6)\">\r\n     <use style=\"fill:#2d004b;stroke:#2d004b;\" x=\"46.75245\" xlink:href=\"#C0_0_3af0533cb5\" y=\"143.755426\"/>\r\n    </g>\r\n    <g clip-path=\"url(#p642404fdf6)\">\r\n     <use style=\"fill:#7f3b08;stroke:#7f3b08;\" x=\"46.930668\" xlink:href=\"#C0_0_3af0533cb5\" y=\"142.019455\"/>\r\n    </g>\r\n    <g clip-path=\"url(#p642404fdf6)\">\r\n     <use style=\"fill:#2d004b;stroke:#2d004b;\" x=\"57.764791\" xlink:href=\"#C0_0_3af0533cb5\" y=\"126.373804\"/>\r\n    </g>\r\n    <g clip-path=\"url(#p642404fdf6)\">\r\n     <use style=\"fill:#2d004b;stroke:#2d004b;\" x=\"77.435519\" xlink:href=\"#C0_0_3af0533cb5\" y=\"81.678205\"/>\r\n    </g>\r\n    <g clip-path=\"url(#p642404fdf6)\">\r\n     <use style=\"fill:#7f3b08;stroke:#7f3b08;\" x=\"46.601441\" xlink:href=\"#C0_0_3af0533cb5\" y=\"156.17087\"/>\r\n    </g>\r\n    <g clip-path=\"url(#p642404fdf6)\">\r\n     <use style=\"fill:#7f3b08;stroke:#7f3b08;\" x=\"62.358815\" xlink:href=\"#C0_0_3af0533cb5\" y=\"99.059827\"/>\r\n    </g>\r\n    <g clip-path=\"url(#p642404fdf6)\">\r\n     <use style=\"fill:#2d004b;stroke:#2d004b;\" x=\"48.386108\" xlink:href=\"#C0_0_3af0533cb5\" y=\"131.339982\"/>\r\n    </g>\r\n    <g clip-path=\"url(#p642404fdf6)\">\r\n     <use style=\"fill:#7f3b08;stroke:#7f3b08;\" x=\"56.494993\" xlink:href=\"#C0_0_3af0533cb5\" y=\"142.019455\"/>\r\n    </g>\r\n    <g clip-path=\"url(#p642404fdf6)\">\r\n     <use style=\"fill:#2d004b;stroke:#2d004b;\" x=\"57.593999\" xlink:href=\"#C0_0_3af0533cb5\" y=\"126.373804\"/>\r\n    </g>\r\n    <g clip-path=\"url(#p642404fdf6)\">\r\n     <use style=\"fill:#7f3b08;stroke:#7f3b08;\" x=\"46.839064\" xlink:href=\"#C0_0_3af0533cb5\" y=\"136.306159\"/>\r\n    </g>\r\n    <g clip-path=\"url(#p642404fdf6)\">\r\n     <use style=\"fill:#2d004b;stroke:#2d004b;\" x=\"97.692879\" xlink:href=\"#C0_0_3af0533cb5\" y=\"141.272337\"/>\r\n    </g>\r\n    <g clip-path=\"url(#p642404fdf6)\">\r\n     <use style=\"fill:#7f3b08;stroke:#7f3b08;\" x=\"46.839064\" xlink:href=\"#C0_0_3af0533cb5\" y=\"161.137048\"/>\r\n    </g>\r\n    <g clip-path=\"url(#p642404fdf6)\">\r\n     <use style=\"fill:#7f3b08;stroke:#7f3b08;\" x=\"46.44057\" xlink:href=\"#C0_0_3af0533cb5\" y=\"142.019455\"/>\r\n    </g>\r\n    <g clip-path=\"url(#p642404fdf6)\">\r\n     <use style=\"fill:#2d004b;stroke:#2d004b;\" x=\"76.591482\" xlink:href=\"#C0_0_3af0533cb5\" y=\"106.509093\"/>\r\n    </g>\r\n    <g clip-path=\"url(#p642404fdf6)\">\r\n     <use style=\"fill:#7f3b08;stroke:#7f3b08;\" x=\"46.443065\" xlink:href=\"#C0_0_3af0533cb5\" y=\"142.019455\"/>\r\n    </g>\r\n    <g clip-path=\"url(#p642404fdf6)\">\r\n     <use style=\"fill:#7f3b08;stroke:#7f3b08;\" x=\"46.75245\" xlink:href=\"#C0_0_3af0533cb5\" y=\"115.199904\"/>\r\n    </g>\r\n    <g clip-path=\"url(#p642404fdf6)\">\r\n     <use style=\"fill:#2d004b;stroke:#2d004b;\" x=\"48.386108\" xlink:href=\"#C0_0_3af0533cb5\" y=\"91.61056\"/>\r\n    </g>\r\n    <g clip-path=\"url(#p642404fdf6)\">\r\n     <use style=\"fill:#7f3b08;stroke:#7f3b08;\" x=\"173.898096\" xlink:href=\"#C0_0_3af0533cb5\" y=\"142.019455\"/>\r\n    </g>\r\n    <g clip-path=\"url(#p642404fdf6)\">\r\n     <use style=\"fill:#7f3b08;stroke:#7f3b08;\" x=\"46.85641\" xlink:href=\"#C0_0_3af0533cb5\" y=\"118.924537\"/>\r\n    </g>\r\n    <g clip-path=\"url(#p642404fdf6)\">\r\n     <use style=\"fill:#7f3b08;stroke:#7f3b08;\" x=\"48.980166\" xlink:href=\"#C0_0_3af0533cb5\" y=\"158.653959\"/>\r\n    </g>\r\n    <g clip-path=\"url(#p642404fdf6)\">\r\n     <use style=\"fill:#2d004b;stroke:#2d004b;\" x=\"57.593999\" xlink:href=\"#C0_0_3af0533cb5\" y=\"210.798824\"/>\r\n    </g>\r\n    <g clip-path=\"url(#p642404fdf6)\">\r\n     <use style=\"fill:#7f3b08;stroke:#7f3b08;\" x=\"46.443065\" xlink:href=\"#C0_0_3af0533cb5\" y=\"142.019455\"/>\r\n    </g>\r\n    <g clip-path=\"url(#p642404fdf6)\">\r\n     <use style=\"fill:#7f3b08;stroke:#7f3b08;\" x=\"46.443065\" xlink:href=\"#C0_0_3af0533cb5\" y=\"173.552492\"/>\r\n    </g>\r\n    <g clip-path=\"url(#p642404fdf6)\">\r\n     <use style=\"fill:#2d004b;stroke:#2d004b;\" x=\"55.43062\" xlink:href=\"#C0_0_3af0533cb5\" y=\"142.019455\"/>\r\n    </g>\r\n    <g clip-path=\"url(#p642404fdf6)\">\r\n     <use style=\"fill:#7f3b08;stroke:#7f3b08;\" x=\"47.294528\" xlink:href=\"#C0_0_3af0533cb5\" y=\"141.272337\"/>\r\n    </g>\r\n    <g clip-path=\"url(#p642404fdf6)\">\r\n     <use style=\"fill:#2d004b;stroke:#2d004b;\" x=\"57.742514\" xlink:href=\"#C0_0_3af0533cb5\" y=\"198.38338\"/>\r\n    </g>\r\n    <g clip-path=\"url(#p642404fdf6)\">\r\n     <use style=\"fill:#7f3b08;stroke:#7f3b08;\" x=\"57.920731\" xlink:href=\"#C0_0_3af0533cb5\" y=\"104.026004\"/>\r\n    </g>\r\n    <g clip-path=\"url(#p642404fdf6)\">\r\n     <use style=\"fill:#2d004b;stroke:#2d004b;\" x=\"105.371072\" xlink:href=\"#C0_0_3af0533cb5\" y=\"141.272337\"/>\r\n    </g>\r\n    <g clip-path=\"url(#p642404fdf6)\">\r\n     <use style=\"fill:#7f3b08;stroke:#7f3b08;\" x=\"50.762338\" xlink:href=\"#C0_0_3af0533cb5\" y=\"142.019455\"/>\r\n    </g>\r\n    <g clip-path=\"url(#p642404fdf6)\">\r\n     <use style=\"fill:#2d004b;stroke:#2d004b;\" x=\"71.55435\" xlink:href=\"#C0_0_3af0533cb5\" y=\"161.137048\"/>\r\n    </g>\r\n    <g clip-path=\"url(#p642404fdf6)\">\r\n     <use style=\"fill:#2d004b;stroke:#2d004b;\" x=\"84.326586\" xlink:href=\"#C0_0_3af0533cb5\" y=\"126.373804\"/>\r\n    </g>\r\n    <g clip-path=\"url(#p642404fdf6)\">\r\n     <use style=\"fill:#7f3b08;stroke:#7f3b08;\" x=\"60.727652\" xlink:href=\"#C0_0_3af0533cb5\" y=\"193.417202\"/>\r\n    </g>\r\n    <g clip-path=\"url(#p642404fdf6)\">\r\n     <use style=\"fill:#7f3b08;stroke:#7f3b08;\" x=\"60.727652\" xlink:href=\"#C0_0_3af0533cb5\" y=\"188.451025\"/>\r\n    </g>\r\n    <g clip-path=\"url(#p642404fdf6)\">\r\n     <use style=\"fill:#2d004b;stroke:#2d004b;\" x=\"57.593999\" xlink:href=\"#C0_0_3af0533cb5\" y=\"136.306159\"/>\r\n    </g>\r\n    <g clip-path=\"url(#p642404fdf6)\">\r\n     <use style=\"fill:#7f3b08;stroke:#7f3b08;\" x=\"105.371072\" xlink:href=\"#C0_0_3af0533cb5\" y=\"91.61056\"/>\r\n    </g>\r\n    <g clip-path=\"url(#p642404fdf6)\">\r\n     <use style=\"fill:#7f3b08;stroke:#7f3b08;\" x=\"57.593999\" xlink:href=\"#C0_0_3af0533cb5\" y=\"56.847317\"/>\r\n    </g>\r\n    <g clip-path=\"url(#p642404fdf6)\">\r\n     <use style=\"fill:#2d004b;stroke:#2d004b;\" x=\"57.593999\" xlink:href=\"#C0_0_3af0533cb5\" y=\"168.586314\"/>\r\n    </g>\r\n    <g clip-path=\"url(#p642404fdf6)\">\r\n     <use style=\"fill:#2d004b;stroke:#2d004b;\" x=\"50.383627\" xlink:href=\"#C0_0_3af0533cb5\" y=\"142.019455\"/>\r\n    </g>\r\n    <g clip-path=\"url(#p642404fdf6)\">\r\n     <use style=\"fill:#7f3b08;stroke:#7f3b08;\" x=\"54.341535\" xlink:href=\"#C0_0_3af0533cb5\" y=\"133.82307\"/>\r\n    </g>\r\n    <g clip-path=\"url(#p642404fdf6)\">\r\n     <use style=\"fill:#2d004b;stroke:#2d004b;\" x=\"63.980117\" xlink:href=\"#C0_0_3af0533cb5\" y=\"195.900291\"/>\r\n    </g>\r\n    <g clip-path=\"url(#p642404fdf6)\">\r\n     <use style=\"fill:#2d004b;stroke:#2d004b;\" x=\"108.019558\" xlink:href=\"#C0_0_3af0533cb5\" y=\"173.552492\"/>\r\n    </g>\r\n    <g clip-path=\"url(#p642404fdf6)\">\r\n     <use style=\"fill:#7f3b08;stroke:#7f3b08;\" x=\"57.593999\" xlink:href=\"#C0_0_3af0533cb5\" y=\"148.721603\"/>\r\n    </g>\r\n    <g clip-path=\"url(#p642404fdf6)\">\r\n     <use style=\"fill:#7f3b08;stroke:#7f3b08;\" x=\"46.7995\" xlink:href=\"#C0_0_3af0533cb5\" y=\"142.019455\"/>\r\n    </g>\r\n    <g clip-path=\"url(#p642404fdf6)\">\r\n     <use style=\"fill:#2d004b;stroke:#2d004b;\" x=\"46.44057\" xlink:href=\"#C0_0_3af0533cb5\" y=\"161.137048\"/>\r\n    </g>\r\n    <g clip-path=\"url(#p642404fdf6)\">\r\n     <use style=\"fill:#2d004b;stroke:#2d004b;\" x=\"46.767302\" xlink:href=\"#C0_0_3af0533cb5\" y=\"161.137048\"/>\r\n    </g>\r\n    <g clip-path=\"url(#p642404fdf6)\">\r\n     <use style=\"fill:#7f3b08;stroke:#7f3b08;\" x=\"57.920731\" xlink:href=\"#C0_0_3af0533cb5\" y=\"61.813494\"/>\r\n    </g>\r\n    <g clip-path=\"url(#p642404fdf6)\">\r\n     <use style=\"fill:#2d004b;stroke:#2d004b;\" x=\"65.673181\" xlink:href=\"#C0_0_3af0533cb5\" y=\"96.576738\"/>\r\n    </g>\r\n    <g clip-path=\"url(#p642404fdf6)\">\r\n     <use style=\"fill:#7f3b08;stroke:#7f3b08;\" x=\"177.311432\" xlink:href=\"#C0_0_3af0533cb5\" y=\"142.019455\"/>\r\n    </g>\r\n    <g clip-path=\"url(#p642404fdf6)\">\r\n     <use style=\"fill:#2d004b;stroke:#2d004b;\" x=\"89.465183\" xlink:href=\"#C0_0_3af0533cb5\" y=\"118.924537\"/>\r\n    </g>\r\n    <g clip-path=\"url(#p642404fdf6)\">\r\n     <use style=\"fill:#2d004b;stroke:#2d004b;\" x=\"52.485105\" xlink:href=\"#C0_0_3af0533cb5\" y=\"126.373804\"/>\r\n    </g>\r\n    <g clip-path=\"url(#p642404fdf6)\">\r\n     <use style=\"fill:#7f3b08;stroke:#7f3b08;\" x=\"46.75245\" xlink:href=\"#C0_0_3af0533cb5\" y=\"142.019455\"/>\r\n    </g>\r\n    <g clip-path=\"url(#p642404fdf6)\">\r\n     <use style=\"fill:#7f3b08;stroke:#7f3b08;\" x=\"46.839064\" xlink:href=\"#C0_0_3af0533cb5\" y=\"116.441449\"/>\r\n    </g>\r\n    <g clip-path=\"url(#p642404fdf6)\">\r\n     <use style=\"fill:#7f3b08;stroke:#7f3b08;\" x=\"50.168281\" xlink:href=\"#C0_0_3af0533cb5\" y=\"146.238515\"/>\r\n    </g>\r\n    <g clip-path=\"url(#p642404fdf6)\">\r\n     <use style=\"fill:#7f3b08;stroke:#7f3b08;\" x=\"46.930668\" xlink:href=\"#C0_0_3af0533cb5\" y=\"142.019455\"/>\r\n    </g>\r\n    <g clip-path=\"url(#p642404fdf6)\">\r\n     <use style=\"fill:#7f3b08;stroke:#7f3b08;\" x=\"46.930668\" xlink:href=\"#C0_0_3af0533cb5\" y=\"142.019455\"/>\r\n    </g>\r\n    <g clip-path=\"url(#p642404fdf6)\">\r\n     <use style=\"fill:#7f3b08;stroke:#7f3b08;\" x=\"56.494993\" xlink:href=\"#C0_0_3af0533cb5\" y=\"156.17087\"/>\r\n    </g>\r\n    <g clip-path=\"url(#p642404fdf6)\">\r\n     <use style=\"fill:#7f3b08;stroke:#7f3b08;\" x=\"46.839064\" xlink:href=\"#C0_0_3af0533cb5\" y=\"168.586314\"/>\r\n    </g>\r\n    <g clip-path=\"url(#p642404fdf6)\">\r\n     <use style=\"fill:#7f3b08;stroke:#7f3b08;\" x=\"54.668266\" xlink:href=\"#C0_0_3af0533cb5\" y=\"143.755426\"/>\r\n    </g>\r\n    <g clip-path=\"url(#p642404fdf6)\">\r\n     <use style=\"fill:#7f3b08;stroke:#7f3b08;\" x=\"46.443065\" xlink:href=\"#C0_0_3af0533cb5\" y=\"142.019455\"/>\r\n    </g>\r\n    <g clip-path=\"url(#p642404fdf6)\">\r\n     <use style=\"fill:#2d004b;stroke:#2d004b;\" x=\"46.814351\" xlink:href=\"#C0_0_3af0533cb5\" y=\"136.306159\"/>\r\n    </g>\r\n    <g clip-path=\"url(#p642404fdf6)\">\r\n     <use style=\"fill:#2d004b;stroke:#2d004b;\" x=\"48.386108\" xlink:href=\"#C0_0_3af0533cb5\" y=\"61.813494\"/>\r\n    </g>\r\n    <g clip-path=\"url(#p642404fdf6)\">\r\n     <use style=\"fill:#2d004b;stroke:#2d004b;\" x=\"72.730108\" xlink:href=\"#C0_0_3af0533cb5\" y=\"84.161294\"/>\r\n    </g>\r\n    <g clip-path=\"url(#p642404fdf6)\">\r\n     <use style=\"fill:#2d004b;stroke:#2d004b;\" x=\"57.824196\" xlink:href=\"#C0_0_3af0533cb5\" y=\"126.373804\"/>\r\n    </g>\r\n    <g clip-path=\"url(#p642404fdf6)\">\r\n     <use style=\"fill:#2d004b;stroke:#2d004b;\" x=\"46.75245\" xlink:href=\"#C0_0_3af0533cb5\" y=\"142.019455\"/>\r\n    </g>\r\n    <g clip-path=\"url(#p642404fdf6)\">\r\n     <use style=\"fill:#7f3b08;stroke:#7f3b08;\" x=\"46.930668\" xlink:href=\"#C0_0_3af0533cb5\" y=\"176.035581\"/>\r\n    </g>\r\n    <g clip-path=\"url(#p642404fdf6)\">\r\n     <use style=\"fill:#7f3b08;stroke:#7f3b08;\" x=\"50.762338\" xlink:href=\"#C0_0_3af0533cb5\" y=\"168.586314\"/>\r\n    </g>\r\n    <g clip-path=\"url(#p642404fdf6)\">\r\n     <use style=\"fill:#2d004b;stroke:#2d004b;\" x=\"49.871252\" xlink:href=\"#C0_0_3af0533cb5\" y=\"131.339982\"/>\r\n    </g>\r\n    <g clip-path=\"url(#p642404fdf6)\">\r\n     <use style=\"fill:#2d004b;stroke:#2d004b;\" x=\"75.356318\" xlink:href=\"#C0_0_3af0533cb5\" y=\"118.924537\"/>\r\n    </g>\r\n    <g clip-path=\"url(#p642404fdf6)\">\r\n     <use style=\"fill:#7f3b08;stroke:#7f3b08;\" x=\"50.737566\" xlink:href=\"#C0_0_3af0533cb5\" y=\"142.019455\"/>\r\n    </g>\r\n    <g clip-path=\"url(#p642404fdf6)\">\r\n     <use style=\"fill:#2d004b;stroke:#2d004b;\" x=\"46.85641\" xlink:href=\"#C0_0_3af0533cb5\" y=\"136.306159\"/>\r\n    </g>\r\n    <g clip-path=\"url(#p642404fdf6)\">\r\n     <use style=\"fill:#2d004b;stroke:#2d004b;\" x=\"59.970229\" xlink:href=\"#C0_0_3af0533cb5\" y=\"153.687781\"/>\r\n    </g>\r\n    <g clip-path=\"url(#p642404fdf6)\">\r\n     <use style=\"fill:#2d004b;stroke:#2d004b;\" x=\"108.019558\" xlink:href=\"#C0_0_3af0533cb5\" y=\"118.924537\"/>\r\n    </g>\r\n    <g clip-path=\"url(#p642404fdf6)\">\r\n     <use style=\"fill:#7f3b08;stroke:#7f3b08;\" x=\"57.593999\" xlink:href=\"#C0_0_3af0533cb5\" y=\"81.678205\"/>\r\n    </g>\r\n    <g clip-path=\"url(#p642404fdf6)\">\r\n     <use style=\"fill:#7f3b08;stroke:#7f3b08;\" x=\"65.985061\" xlink:href=\"#C0_0_3af0533cb5\" y=\"126.373804\"/>\r\n    </g>\r\n    <g clip-path=\"url(#p642404fdf6)\">\r\n     <use style=\"fill:#7f3b08;stroke:#7f3b08;\" x=\"47.324231\" xlink:href=\"#C0_0_3af0533cb5\" y=\"142.019455\"/>\r\n    </g>\r\n    <g clip-path=\"url(#p642404fdf6)\">\r\n     <use style=\"fill:#2d004b;stroke:#2d004b;\" x=\"89.465183\" xlink:href=\"#C0_0_3af0533cb5\" y=\"171.069403\"/>\r\n    </g>\r\n    <g clip-path=\"url(#p642404fdf6)\">\r\n     <use style=\"fill:#7f3b08;stroke:#7f3b08;\" x=\"51.059367\" xlink:href=\"#C0_0_3af0533cb5\" y=\"99.059827\"/>\r\n    </g>\r\n    <g clip-path=\"url(#p642404fdf6)\">\r\n     <use style=\"fill:#2d004b;stroke:#2d004b;\" x=\"89.197857\" xlink:href=\"#C0_0_3af0533cb5\" y=\"66.779672\"/>\r\n    </g>\r\n    <g clip-path=\"url(#p642404fdf6)\">\r\n     <use style=\"fill:#7f3b08;stroke:#7f3b08;\" x=\"46.930668\" xlink:href=\"#C0_0_3af0533cb5\" y=\"161.137048\"/>\r\n    </g>\r\n    <g clip-path=\"url(#p642404fdf6)\">\r\n     <use style=\"fill:#7f3b08;stroke:#7f3b08;\" x=\"46.930668\" xlink:href=\"#C0_0_3af0533cb5\" y=\"142.019455\"/>\r\n    </g>\r\n    <g clip-path=\"url(#p642404fdf6)\">\r\n     <use style=\"fill:#7f3b08;stroke:#7f3b08;\" x=\"46.381164\" xlink:href=\"#C0_0_3af0533cb5\" y=\"128.856893\"/>\r\n    </g>\r\n    <g clip-path=\"url(#p642404fdf6)\">\r\n     <use style=\"fill:#2d004b;stroke:#2d004b;\" x=\"88.643423\" xlink:href=\"#C0_0_3af0533cb5\" y=\"86.644383\"/>\r\n    </g>\r\n    <g clip-path=\"url(#p642404fdf6)\">\r\n     <use style=\"fill:#7f3b08;stroke:#7f3b08;\" x=\"46.455422\" xlink:href=\"#C0_0_3af0533cb5\" y=\"99.059827\"/>\r\n    </g>\r\n    <g clip-path=\"url(#p642404fdf6)\">\r\n     <use style=\"fill:#7f3b08;stroke:#7f3b08;\" x=\"46.75245\" xlink:href=\"#C0_0_3af0533cb5\" y=\"142.019455\"/>\r\n    </g>\r\n    <g clip-path=\"url(#p642404fdf6)\">\r\n     <use style=\"fill:#7f3b08;stroke:#7f3b08;\" x=\"57.593999\" xlink:href=\"#C0_0_3af0533cb5\" y=\"123.890715\"/>\r\n    </g>\r\n    <g clip-path=\"url(#p642404fdf6)\">\r\n     <use style=\"fill:#7f3b08;stroke:#7f3b08;\" x=\"56.494993\" xlink:href=\"#C0_0_3af0533cb5\" y=\"126.373804\"/>\r\n    </g>\r\n    <g clip-path=\"url(#p642404fdf6)\">\r\n     <use style=\"fill:#2d004b;stroke:#2d004b;\" x=\"61.752402\" xlink:href=\"#C0_0_3af0533cb5\" y=\"142.019455\"/>\r\n    </g>\r\n    <g clip-path=\"url(#p642404fdf6)\">\r\n     <use style=\"fill:#7f3b08;stroke:#7f3b08;\" x=\"42.148505\" xlink:href=\"#C0_0_3af0533cb5\" y=\"94.093649\"/>\r\n    </g>\r\n    <g clip-path=\"url(#p642404fdf6)\">\r\n     <use style=\"fill:#7f3b08;stroke:#7f3b08;\" x=\"46.44057\" xlink:href=\"#C0_0_3af0533cb5\" y=\"142.019455\"/>\r\n    </g>\r\n    <g clip-path=\"url(#p642404fdf6)\">\r\n     <use style=\"fill:#2d004b;stroke:#2d004b;\" x=\"75.967722\" xlink:href=\"#C0_0_3af0533cb5\" y=\"94.093649\"/>\r\n    </g>\r\n    <g clip-path=\"url(#p642404fdf6)\">\r\n     <use style=\"fill:#2d004b;stroke:#2d004b;\" x=\"58.188057\" xlink:href=\"#C0_0_3af0533cb5\" y=\"156.17087\"/>\r\n    </g>\r\n    <g clip-path=\"url(#p642404fdf6)\">\r\n     <use style=\"fill:#7f3b08;stroke:#7f3b08;\" x=\"46.839064\" xlink:href=\"#C0_0_3af0533cb5\" y=\"142.019455\"/>\r\n    </g>\r\n    <g clip-path=\"url(#p642404fdf6)\">\r\n     <use style=\"fill:#7f3b08;stroke:#7f3b08;\" x=\"67.336542\" xlink:href=\"#C0_0_3af0533cb5\" y=\"142.019455\"/>\r\n    </g>\r\n    <g clip-path=\"url(#p642404fdf6)\">\r\n     <use style=\"fill:#7f3b08;stroke:#7f3b08;\" x=\"46.930668\" xlink:href=\"#C0_0_3af0533cb5\" y=\"106.509093\"/>\r\n    </g>\r\n    <g clip-path=\"url(#p642404fdf6)\">\r\n     <use style=\"fill:#2d004b;stroke:#2d004b;\" x=\"57.920731\" xlink:href=\"#C0_0_3af0533cb5\" y=\"128.856893\"/>\r\n    </g>\r\n    <g clip-path=\"url(#p642404fdf6)\">\r\n     <use style=\"fill:#7f3b08;stroke:#7f3b08;\" x=\"51.386099\" xlink:href=\"#C0_0_3af0533cb5\" y=\"126.373804\"/>\r\n    </g>\r\n    <g clip-path=\"url(#p642404fdf6)\">\r\n     <use style=\"fill:#7f3b08;stroke:#7f3b08;\" x=\"46.839064\" xlink:href=\"#C0_0_3af0533cb5\" y=\"141.272337\"/>\r\n    </g>\r\n    <g clip-path=\"url(#p642404fdf6)\">\r\n     <use style=\"fill:#2d004b;stroke:#2d004b;\" x=\"60.267258\" xlink:href=\"#C0_0_3af0533cb5\" y=\"148.721603\"/>\r\n    </g>\r\n    <g clip-path=\"url(#p642404fdf6)\">\r\n     <use style=\"fill:#2d004b;stroke:#2d004b;\" x=\"66.848939\" xlink:href=\"#C0_0_3af0533cb5\" y=\"161.137048\"/>\r\n    </g>\r\n    <g clip-path=\"url(#p642404fdf6)\">\r\n     <use style=\"fill:#2d004b;stroke:#2d004b;\" x=\"133.31405\" xlink:href=\"#C0_0_3af0533cb5\" y=\"116.441449\"/>\r\n    </g>\r\n    <g clip-path=\"url(#p642404fdf6)\">\r\n     <use style=\"fill:#7f3b08;stroke:#7f3b08;\" x=\"60.727652\" xlink:href=\"#C0_0_3af0533cb5\" y=\"118.924537\"/>\r\n    </g>\r\n    <g clip-path=\"url(#p642404fdf6)\">\r\n     <use style=\"fill:#7f3b08;stroke:#7f3b08;\" x=\"46.33661\" xlink:href=\"#C0_0_3af0533cb5\" y=\"142.019455\"/>\r\n    </g>\r\n    <g clip-path=\"url(#p642404fdf6)\">\r\n     <use style=\"fill:#2d004b;stroke:#2d004b;\" x=\"51.356396\" xlink:href=\"#C0_0_3af0533cb5\" y=\"142.019455\"/>\r\n    </g>\r\n    <g clip-path=\"url(#p642404fdf6)\">\r\n     <use style=\"fill:#7f3b08;stroke:#7f3b08;\" x=\"46.75245\" xlink:href=\"#C0_0_3af0533cb5\" y=\"142.019455\"/>\r\n    </g>\r\n    <g clip-path=\"url(#p642404fdf6)\">\r\n     <use style=\"fill:#7f3b08;stroke:#7f3b08;\" x=\"46.930668\" xlink:href=\"#C0_0_3af0533cb5\" y=\"128.856893\"/>\r\n    </g>\r\n    <g clip-path=\"url(#p642404fdf6)\">\r\n     <use style=\"fill:#2d004b;stroke:#2d004b;\" x=\"80.762241\" xlink:href=\"#C0_0_3af0533cb5\" y=\"156.17087\"/>\r\n    </g>\r\n    <g clip-path=\"url(#p642404fdf6)\">\r\n     <use style=\"fill:#7f3b08;stroke:#7f3b08;\" x=\"50.702933\" xlink:href=\"#C0_0_3af0533cb5\" y=\"131.339982\"/>\r\n    </g>\r\n    <g clip-path=\"url(#p642404fdf6)\">\r\n     <use style=\"fill:#7f3b08;stroke:#7f3b08;\" x=\"51.71283\" xlink:href=\"#C0_0_3af0533cb5\" y=\"151.204692\"/>\r\n    </g>\r\n    <g clip-path=\"url(#p642404fdf6)\">\r\n     <use style=\"fill:#2d004b;stroke:#2d004b;\" x=\"65.316746\" xlink:href=\"#C0_0_3af0533cb5\" y=\"205.832647\"/>\r\n    </g>\r\n    <g clip-path=\"url(#p642404fdf6)\">\r\n     <use style=\"fill:#7f3b08;stroke:#7f3b08;\" x=\"48.386108\" xlink:href=\"#C0_0_3af0533cb5\" y=\"151.204692\"/>\r\n    </g>\r\n    <g clip-path=\"url(#p642404fdf6)\">\r\n     <use style=\"fill:#7f3b08;stroke:#7f3b08;\" x=\"50.73513\" xlink:href=\"#C0_0_3af0533cb5\" y=\"148.721603\"/>\r\n    </g>\r\n    <g clip-path=\"url(#p642404fdf6)\">\r\n     <use style=\"fill:#2d004b;stroke:#2d004b;\" x=\"73.36872\" xlink:href=\"#C0_0_3af0533cb5\" y=\"111.475271\"/>\r\n    </g>\r\n    <g clip-path=\"url(#p642404fdf6)\">\r\n     <use style=\"fill:#2d004b;stroke:#2d004b;\" x=\"51.499979\" xlink:href=\"#C0_0_3af0533cb5\" y=\"166.103225\"/>\r\n    </g>\r\n    <g clip-path=\"url(#p642404fdf6)\">\r\n     <use style=\"fill:#7f3b08;stroke:#7f3b08;\" x=\"46.814351\" xlink:href=\"#C0_0_3af0533cb5\" y=\"163.620136\"/>\r\n    </g>\r\n    <g clip-path=\"url(#p642404fdf6)\">\r\n     <use style=\"fill:#7f3b08;stroke:#7f3b08;\" x=\"51.71283\" xlink:href=\"#C0_0_3af0533cb5\" y=\"163.620136\"/>\r\n    </g>\r\n    <g clip-path=\"url(#p642404fdf6)\">\r\n     <use style=\"fill:#7f3b08;stroke:#7f3b08;\" x=\"61.348918\" xlink:href=\"#C0_0_3af0533cb5\" y=\"64.296583\"/>\r\n    </g>\r\n    <g clip-path=\"url(#p642404fdf6)\">\r\n     <use style=\"fill:#7f3b08;stroke:#7f3b08;\" x=\"49.485115\" xlink:href=\"#C0_0_3af0533cb5\" y=\"74.228938\"/>\r\n    </g>\r\n    <g clip-path=\"url(#p642404fdf6)\">\r\n     <use style=\"fill:#2d004b;stroke:#2d004b;\" x=\"88.460216\" xlink:href=\"#C0_0_3af0533cb5\" y=\"163.620136\"/>\r\n    </g>\r\n    <g clip-path=\"url(#p642404fdf6)\">\r\n     <use style=\"fill:#7f3b08;stroke:#7f3b08;\" x=\"46.839064\" xlink:href=\"#C0_0_3af0533cb5\" y=\"151.204692\"/>\r\n    </g>\r\n    <g clip-path=\"url(#p642404fdf6)\">\r\n     <use style=\"fill:#7f3b08;stroke:#7f3b08;\" x=\"46.74253\" xlink:href=\"#C0_0_3af0533cb5\" y=\"142.019455\"/>\r\n    </g>\r\n    <g clip-path=\"url(#p642404fdf6)\">\r\n     <use style=\"fill:#2d004b;stroke:#2d004b;\" x=\"59.970229\" xlink:href=\"#C0_0_3af0533cb5\" y=\"17.117895\"/>\r\n    </g>\r\n    <g clip-path=\"url(#p642404fdf6)\">\r\n     <use style=\"fill:#7f3b08;stroke:#7f3b08;\" x=\"46.339105\" xlink:href=\"#C0_0_3af0533cb5\" y=\"89.127471\"/>\r\n    </g>\r\n    <g clip-path=\"url(#p642404fdf6)\">\r\n     <use style=\"fill:#2d004b;stroke:#2d004b;\" x=\"60.267258\" xlink:href=\"#C0_0_3af0533cb5\" y=\"136.306159\"/>\r\n    </g>\r\n    <g clip-path=\"url(#p642404fdf6)\">\r\n     <use style=\"fill:#7f3b08;stroke:#7f3b08;\" x=\"42.148505\" xlink:href=\"#C0_0_3af0533cb5\" y=\"142.019455\"/>\r\n    </g>\r\n    <g clip-path=\"url(#p642404fdf6)\">\r\n     <use style=\"fill:#7f3b08;stroke:#7f3b08;\" x=\"58.722708\" xlink:href=\"#C0_0_3af0533cb5\" y=\"193.417202\"/>\r\n    </g>\r\n    <g clip-path=\"url(#p642404fdf6)\">\r\n     <use style=\"fill:#2d004b;stroke:#2d004b;\" x=\"49.871252\" xlink:href=\"#C0_0_3af0533cb5\" y=\"146.238515\"/>\r\n    </g>\r\n    <g clip-path=\"url(#p642404fdf6)\">\r\n     <use style=\"fill:#7f3b08;stroke:#7f3b08;\" x=\"46.85641\" xlink:href=\"#C0_0_3af0533cb5\" y=\"136.306159\"/>\r\n    </g>\r\n    <g clip-path=\"url(#p642404fdf6)\">\r\n     <use style=\"fill:#7f3b08;stroke:#7f3b08;\" x=\"57.742514\" xlink:href=\"#C0_0_3af0533cb5\" y=\"138.789248\"/>\r\n    </g>\r\n    <g clip-path=\"url(#p642404fdf6)\">\r\n     <use style=\"fill:#7f3b08;stroke:#7f3b08;\" x=\"65.725161\" xlink:href=\"#C0_0_3af0533cb5\" y=\"113.95836\"/>\r\n    </g>\r\n    <g clip-path=\"url(#p642404fdf6)\">\r\n     <use style=\"fill:#7f3b08;stroke:#7f3b08;\" x=\"51.71283\" xlink:href=\"#C0_0_3af0533cb5\" y=\"142.019455\"/>\r\n    </g>\r\n    <g clip-path=\"url(#p642404fdf6)\">\r\n     <use style=\"fill:#7f3b08;stroke:#7f3b08;\" x=\"46.814351\" xlink:href=\"#C0_0_3af0533cb5\" y=\"166.103225\"/>\r\n    </g>\r\n    <g clip-path=\"url(#p642404fdf6)\">\r\n     <use style=\"fill:#2d004b;stroke:#2d004b;\" x=\"83.316688\" xlink:href=\"#C0_0_3af0533cb5\" y=\"156.17087\"/>\r\n    </g>\r\n    <g clip-path=\"url(#p642404fdf6)\">\r\n     <use style=\"fill:#7f3b08;stroke:#7f3b08;\" x=\"58.722708\" xlink:href=\"#C0_0_3af0533cb5\" y=\"210.798824\"/>\r\n    </g>\r\n    <g clip-path=\"url(#p642404fdf6)\">\r\n     <use style=\"fill:#2d004b;stroke:#2d004b;\" x=\"75.710257\" xlink:href=\"#C0_0_3af0533cb5\" y=\"142.019455\"/>\r\n    </g>\r\n    <g clip-path=\"url(#p642404fdf6)\">\r\n     <use style=\"fill:#2d004b;stroke:#2d004b;\" x=\"53.589042\" xlink:href=\"#C0_0_3af0533cb5\" y=\"213.902685\"/>\r\n    </g>\r\n    <g clip-path=\"url(#p642404fdf6)\">\r\n     <use style=\"fill:#2d004b;stroke:#2d004b;\" x=\"87.73006\" xlink:href=\"#C0_0_3af0533cb5\" y=\"96.576738\"/>\r\n    </g>\r\n    <g clip-path=\"url(#p642404fdf6)\">\r\n     <use style=\"fill:#7f3b08;stroke:#7f3b08;\" x=\"46.839064\" xlink:href=\"#C0_0_3af0533cb5\" y=\"168.586314\"/>\r\n    </g>\r\n    <g clip-path=\"url(#p642404fdf6)\">\r\n     <use style=\"fill:#2d004b;stroke:#2d004b;\" x=\"63.237545\" xlink:href=\"#C0_0_3af0533cb5\" y=\"76.712027\"/>\r\n    </g>\r\n    <g clip-path=\"url(#p642404fdf6)\">\r\n     <use style=\"fill:#7f3b08;stroke:#7f3b08;\" x=\"46.633639\" xlink:href=\"#C0_0_3af0533cb5\" y=\"142.019455\"/>\r\n    </g>\r\n    <g clip-path=\"url(#p642404fdf6)\">\r\n     <use style=\"fill:#2d004b;stroke:#2d004b;\" x=\"46.633639\" xlink:href=\"#C0_0_3af0533cb5\" y=\"158.653959\"/>\r\n    </g>\r\n    <g clip-path=\"url(#p642404fdf6)\">\r\n     <use style=\"fill:#7f3b08;stroke:#7f3b08;\" x=\"46.839064\" xlink:href=\"#C0_0_3af0533cb5\" y=\"142.019455\"/>\r\n    </g>\r\n    <g clip-path=\"url(#p642404fdf6)\">\r\n     <use style=\"fill:#2d004b;stroke:#2d004b;\" x=\"55.811827\" xlink:href=\"#C0_0_3af0533cb5\" y=\"171.069403\"/>\r\n    </g>\r\n    <g clip-path=\"url(#p642404fdf6)\">\r\n     <use style=\"fill:#7f3b08;stroke:#7f3b08;\" x=\"47.15837\" xlink:href=\"#C0_0_3af0533cb5\" y=\"163.620136\"/>\r\n    </g>\r\n    <g clip-path=\"url(#p642404fdf6)\">\r\n     <use style=\"fill:#2d004b;stroke:#2d004b;\" x=\"46.7995\" xlink:href=\"#C0_0_3af0533cb5\" y=\"142.019455\"/>\r\n    </g>\r\n    <g clip-path=\"url(#p642404fdf6)\">\r\n     <use style=\"fill:#7f3b08;stroke:#7f3b08;\" x=\"46.158393\" xlink:href=\"#C0_0_3af0533cb5\" y=\"171.069403\"/>\r\n    </g>\r\n    <g clip-path=\"url(#p642404fdf6)\">\r\n     <use style=\"fill:#7f3b08;stroke:#7f3b08;\" x=\"85.811729\" xlink:href=\"#C0_0_3af0533cb5\" y=\"156.17087\"/>\r\n    </g>\r\n    <g clip-path=\"url(#p642404fdf6)\">\r\n     <use style=\"fill:#7f3b08;stroke:#7f3b08;\" x=\"46.839064\" xlink:href=\"#C0_0_3af0533cb5\" y=\"142.019455\"/>\r\n    </g>\r\n    <g clip-path=\"url(#p642404fdf6)\">\r\n     <use style=\"fill:#7f3b08;stroke:#7f3b08;\" x=\"51.356396\" xlink:href=\"#C0_0_3af0533cb5\" y=\"136.306159\"/>\r\n    </g>\r\n    <g clip-path=\"url(#p642404fdf6)\">\r\n     <use style=\"fill:#7f3b08;stroke:#7f3b08;\" x=\"49.871252\" xlink:href=\"#C0_0_3af0533cb5\" y=\"158.653959\"/>\r\n    </g>\r\n    <g clip-path=\"url(#p642404fdf6)\">\r\n     <use style=\"fill:#7f3b08;stroke:#7f3b08;\" x=\"109.440365\" xlink:href=\"#C0_0_3af0533cb5\" y=\"71.74585\"/>\r\n    </g>\r\n    <g clip-path=\"url(#p642404fdf6)\">\r\n     <use style=\"fill:#2d004b;stroke:#2d004b;\" x=\"121.544286\" xlink:href=\"#C0_0_3af0533cb5\" y=\"91.61056\"/>\r\n    </g>\r\n    <g clip-path=\"url(#p642404fdf6)\">\r\n     <use style=\"fill:#7f3b08;stroke:#7f3b08;\" x=\"46.44057\" xlink:href=\"#C0_0_3af0533cb5\" y=\"116.441449\"/>\r\n    </g>\r\n    <g clip-path=\"url(#p642404fdf6)\">\r\n     <use style=\"fill:#7f3b08;stroke:#7f3b08;\" x=\"57.348951\" xlink:href=\"#C0_0_3af0533cb5\" y=\"99.059827\"/>\r\n    </g>\r\n    <g clip-path=\"url(#p642404fdf6)\">\r\n     <use style=\"fill:#7f3b08;stroke:#7f3b08;\" x=\"46.601441\" xlink:href=\"#C0_0_3af0533cb5\" y=\"126.373804\"/>\r\n    </g>\r\n    <g clip-path=\"url(#p642404fdf6)\">\r\n     <use style=\"fill:#2d004b;stroke:#2d004b;\" x=\"46.85641\" xlink:href=\"#C0_0_3af0533cb5\" y=\"166.103225\"/>\r\n    </g>\r\n    <g clip-path=\"url(#p642404fdf6)\">\r\n     <use style=\"fill:#7f3b08;stroke:#7f3b08;\" x=\"85.811729\" xlink:href=\"#C0_0_3af0533cb5\" y=\"136.306159\"/>\r\n    </g>\r\n    <g clip-path=\"url(#p642404fdf6)\">\r\n     <use style=\"fill:#7f3b08;stroke:#7f3b08;\" x=\"49.871252\" xlink:href=\"#C0_0_3af0533cb5\" y=\"153.687781\"/>\r\n    </g>\r\n    <g clip-path=\"url(#p642404fdf6)\">\r\n     <use style=\"fill:#7f3b08;stroke:#7f3b08;\" x=\"46.767302\" xlink:href=\"#C0_0_3af0533cb5\" y=\"142.019455\"/>\r\n    </g>\r\n    <g clip-path=\"url(#p642404fdf6)\">\r\n     <use style=\"fill:#7f3b08;stroke:#7f3b08;\" x=\"46.930668\" xlink:href=\"#C0_0_3af0533cb5\" y=\"108.992182\"/>\r\n    </g>\r\n    <g clip-path=\"url(#p642404fdf6)\">\r\n     <use style=\"fill:#2d004b;stroke:#2d004b;\" x=\"73.039494\" xlink:href=\"#C0_0_3af0533cb5\" y=\"142.019455\"/>\r\n    </g>\r\n    <g clip-path=\"url(#p642404fdf6)\">\r\n     <use style=\"fill:#2d004b;stroke:#2d004b;\" x=\"65.316746\" xlink:href=\"#C0_0_3af0533cb5\" y=\"116.441449\"/>\r\n    </g>\r\n    <g clip-path=\"url(#p642404fdf6)\">\r\n     <use style=\"fill:#7f3b08;stroke:#7f3b08;\" x=\"73.039494\" xlink:href=\"#C0_0_3af0533cb5\" y=\"138.789248\"/>\r\n    </g>\r\n    <g clip-path=\"url(#p642404fdf6)\">\r\n     <use style=\"fill:#7f3b08;stroke:#7f3b08;\" x=\"48.386108\" xlink:href=\"#C0_0_3af0533cb5\" y=\"41.948784\"/>\r\n    </g>\r\n    <g clip-path=\"url(#p642404fdf6)\">\r\n     <use style=\"fill:#2d004b;stroke:#2d004b;\" x=\"49.871252\" xlink:href=\"#C0_0_3af0533cb5\" y=\"138.789248\"/>\r\n    </g>\r\n    <g clip-path=\"url(#p642404fdf6)\">\r\n     <use style=\"fill:#7f3b08;stroke:#7f3b08;\" x=\"42.148505\" xlink:href=\"#C0_0_3af0533cb5\" y=\"142.019455\"/>\r\n    </g>\r\n    <g clip-path=\"url(#p642404fdf6)\">\r\n     <use style=\"fill:#7f3b08;stroke:#7f3b08;\" x=\"46.767302\" xlink:href=\"#C0_0_3af0533cb5\" y=\"171.069403\"/>\r\n    </g>\r\n    <g clip-path=\"url(#p642404fdf6)\">\r\n     <use style=\"fill:#7f3b08;stroke:#7f3b08;\" x=\"46.930668\" xlink:href=\"#C0_0_3af0533cb5\" y=\"154.929326\"/>\r\n    </g>\r\n    <g clip-path=\"url(#p642404fdf6)\">\r\n     <use style=\"fill:#2d004b;stroke:#2d004b;\" x=\"47.99504\" xlink:href=\"#C0_0_3af0533cb5\" y=\"171.069403\"/>\r\n    </g>\r\n    <g clip-path=\"url(#p642404fdf6)\">\r\n     <use style=\"fill:#7f3b08;stroke:#7f3b08;\" x=\"70.0098\" xlink:href=\"#C0_0_3af0533cb5\" y=\"108.992182\"/>\r\n    </g>\r\n    <g clip-path=\"url(#p642404fdf6)\">\r\n     <use style=\"fill:#2d004b;stroke:#2d004b;\" x=\"346.501495\" xlink:href=\"#C0_0_3af0533cb5\" y=\"126.373804\"/>\r\n    </g>\r\n    <g clip-path=\"url(#p642404fdf6)\">\r\n     <use style=\"fill:#7f3b08;stroke:#7f3b08;\" x=\"46.982648\" xlink:href=\"#C0_0_3af0533cb5\" y=\"142.019455\"/>\r\n    </g>\r\n    <g clip-path=\"url(#p642404fdf6)\">\r\n     <use style=\"fill:#2d004b;stroke:#2d004b;\" x=\"87.73006\" xlink:href=\"#C0_0_3af0533cb5\" y=\"148.721603\"/>\r\n    </g>\r\n    <g clip-path=\"url(#p642404fdf6)\">\r\n     <use style=\"fill:#7f3b08;stroke:#7f3b08;\" x=\"47.628685\" xlink:href=\"#C0_0_3af0533cb5\" y=\"166.103225\"/>\r\n    </g>\r\n    <g clip-path=\"url(#p642404fdf6)\">\r\n     <use style=\"fill:#7f3b08;stroke:#7f3b08;\" x=\"70.0098\" xlink:href=\"#C0_0_3af0533cb5\" y=\"181.001758\"/>\r\n    </g>\r\n    <g clip-path=\"url(#p642404fdf6)\">\r\n     <use style=\"fill:#7f3b08;stroke:#7f3b08;\" x=\"65.316746\" xlink:href=\"#C0_0_3af0533cb5\" y=\"66.779672\"/>\r\n    </g>\r\n    <g clip-path=\"url(#p642404fdf6)\">\r\n     <use style=\"fill:#7f3b08;stroke:#7f3b08;\" x=\"66.848939\" xlink:href=\"#C0_0_3af0533cb5\" y=\"153.687781\"/>\r\n    </g>\r\n    <g clip-path=\"url(#p642404fdf6)\">\r\n     <use style=\"fill:#7f3b08;stroke:#7f3b08;\" x=\"65.725161\" xlink:href=\"#C0_0_3af0533cb5\" y=\"181.001758\"/>\r\n    </g>\r\n    <g clip-path=\"url(#p642404fdf6)\">\r\n     <use style=\"fill:#7f3b08;stroke:#7f3b08;\" x=\"48.190545\" xlink:href=\"#C0_0_3af0533cb5\" y=\"168.586314\"/>\r\n    </g>\r\n    <g clip-path=\"url(#p642404fdf6)\">\r\n     <use style=\"fill:#7f3b08;stroke:#7f3b08;\" x=\"46.779658\" xlink:href=\"#C0_0_3af0533cb5\" y=\"171.069403\"/>\r\n    </g>\r\n    <g clip-path=\"url(#p642404fdf6)\">\r\n     <use style=\"fill:#2d004b;stroke:#2d004b;\" x=\"167.695126\" xlink:href=\"#C0_0_3af0533cb5\" y=\"178.518669\"/>\r\n    </g>\r\n    <g clip-path=\"url(#p642404fdf6)\">\r\n     <use style=\"fill:#2d004b;stroke:#2d004b;\" x=\"76.009781\" xlink:href=\"#C0_0_3af0533cb5\" y=\"138.789248\"/>\r\n    </g>\r\n    <g clip-path=\"url(#p642404fdf6)\">\r\n     <use style=\"fill:#2d004b;stroke:#2d004b;\" x=\"50.118796\" xlink:href=\"#C0_0_3af0533cb5\" y=\"205.832647\"/>\r\n    </g>\r\n    <g clip-path=\"url(#p642404fdf6)\">\r\n     <use style=\"fill:#2d004b;stroke:#2d004b;\" x=\"75.710257\" xlink:href=\"#C0_0_3af0533cb5\" y=\"142.019455\"/>\r\n    </g>\r\n    <g clip-path=\"url(#p642404fdf6)\">\r\n     <use style=\"fill:#7f3b08;stroke:#7f3b08;\" x=\"46.44057\" xlink:href=\"#C0_0_3af0533cb5\" y=\"153.687781\"/>\r\n    </g>\r\n    <g clip-path=\"url(#p642404fdf6)\">\r\n     <use style=\"fill:#7f3b08;stroke:#7f3b08;\" x=\"57.920731\" xlink:href=\"#C0_0_3af0533cb5\" y=\"66.779672\"/>\r\n    </g>\r\n    <g clip-path=\"url(#p642404fdf6)\">\r\n     <use style=\"fill:#7f3b08;stroke:#7f3b08;\" x=\"50.168281\" xlink:href=\"#C0_0_3af0533cb5\" y=\"86.644383\"/>\r\n    </g>\r\n    <g clip-path=\"url(#p642404fdf6)\">\r\n     <use style=\"fill:#7f3b08;stroke:#7f3b08;\" x=\"46.930668\" xlink:href=\"#C0_0_3af0533cb5\" y=\"106.509093\"/>\r\n    </g>\r\n    <g clip-path=\"url(#p642404fdf6)\">\r\n     <use style=\"fill:#2d004b;stroke:#2d004b;\" x=\"46.74253\" xlink:href=\"#C0_0_3af0533cb5\" y=\"142.019455\"/>\r\n    </g>\r\n    <g clip-path=\"url(#p642404fdf6)\">\r\n     <use style=\"fill:#7f3b08;stroke:#7f3b08;\" x=\"108.019558\" xlink:href=\"#C0_0_3af0533cb5\" y=\"94.093649\"/>\r\n    </g>\r\n    <g clip-path=\"url(#p642404fdf6)\">\r\n     <use style=\"fill:#7f3b08;stroke:#7f3b08;\" x=\"46.693045\" xlink:href=\"#C0_0_3af0533cb5\" y=\"111.475271\"/>\r\n    </g>\r\n    <g clip-path=\"url(#p642404fdf6)\">\r\n     <use style=\"fill:#2d004b;stroke:#2d004b;\" x=\"177.311432\" xlink:href=\"#C0_0_3af0533cb5\" y=\"171.069403\"/>\r\n    </g>\r\n    <g clip-path=\"url(#p642404fdf6)\">\r\n     <use style=\"fill:#2d004b;stroke:#2d004b;\" x=\"57.764791\" xlink:href=\"#C0_0_3af0533cb5\" y=\"128.856893\"/>\r\n    </g>\r\n    <g clip-path=\"url(#p642404fdf6)\">\r\n     <use style=\"fill:#7f3b08;stroke:#7f3b08;\" x=\"50.73513\" xlink:href=\"#C0_0_3af0533cb5\" y=\"171.069403\"/>\r\n    </g>\r\n    <g clip-path=\"url(#p642404fdf6)\">\r\n     <use style=\"fill:#7f3b08;stroke:#7f3b08;\" x=\"46.74752\" xlink:href=\"#C0_0_3af0533cb5\" y=\"153.687781\"/>\r\n    </g>\r\n    <g clip-path=\"url(#p642404fdf6)\">\r\n     <use style=\"fill:#7f3b08;stroke:#7f3b08;\" x=\"46.814351\" xlink:href=\"#C0_0_3af0533cb5\" y=\"151.204692\"/>\r\n    </g>\r\n    <g clip-path=\"url(#p642404fdf6)\">\r\n     <use style=\"fill:#7f3b08;stroke:#7f3b08;\" x=\"57.593999\" xlink:href=\"#C0_0_3af0533cb5\" y=\"118.924537\"/>\r\n    </g>\r\n    <g clip-path=\"url(#p642404fdf6)\">\r\n     <use style=\"fill:#2d004b;stroke:#2d004b;\" x=\"50.168281\" xlink:href=\"#C0_0_3af0533cb5\" y=\"104.026004\"/>\r\n    </g>\r\n    <g clip-path=\"url(#p642404fdf6)\">\r\n     <use style=\"fill:#2d004b;stroke:#2d004b;\" x=\"57.764791\" xlink:href=\"#C0_0_3af0533cb5\" y=\"111.475271\"/>\r\n    </g>\r\n    <g clip-path=\"url(#p642404fdf6)\">\r\n     <use style=\"fill:#2d004b;stroke:#2d004b;\" x=\"132.177915\" xlink:href=\"#C0_0_3af0533cb5\" y=\"161.137048\"/>\r\n    </g>\r\n    <g clip-path=\"url(#p642404fdf6)\">\r\n     <use style=\"fill:#2d004b;stroke:#2d004b;\" x=\"51.205386\" xlink:href=\"#C0_0_3af0533cb5\" y=\"142.019455\"/>\r\n    </g>\r\n    <g clip-path=\"url(#p642404fdf6)\">\r\n     <use style=\"fill:#2d004b;stroke:#2d004b;\" x=\"71.556845\" xlink:href=\"#C0_0_3af0533cb5\" y=\"156.17087\"/>\r\n    </g>\r\n    <g clip-path=\"url(#p642404fdf6)\">\r\n     <use style=\"fill:#7f3b08;stroke:#7f3b08;\" x=\"57.920731\" xlink:href=\"#C0_0_3af0533cb5\" y=\"142.019455\"/>\r\n    </g>\r\n    <g clip-path=\"url(#p642404fdf6)\">\r\n     <use style=\"fill:#2d004b;stroke:#2d004b;\" x=\"73.039494\" xlink:href=\"#C0_0_3af0533cb5\" y=\"96.576738\"/>\r\n    </g>\r\n    <g clip-path=\"url(#p642404fdf6)\">\r\n     <use style=\"fill:#7f3b08;stroke:#7f3b08;\" x=\"47.78213\" xlink:href=\"#C0_0_3af0533cb5\" y=\"143.755426\"/>\r\n    </g>\r\n    <g clip-path=\"url(#p642404fdf6)\">\r\n     <use style=\"fill:#7f3b08;stroke:#7f3b08;\" x=\"49.871252\" xlink:href=\"#C0_0_3af0533cb5\" y=\"86.644383\"/>\r\n    </g>\r\n    <g clip-path=\"url(#p642404fdf6)\">\r\n     <use style=\"fill:#7f3b08;stroke:#7f3b08;\" x=\"46.693045\" xlink:href=\"#C0_0_3af0533cb5\" y=\"168.586314\"/>\r\n    </g>\r\n    <g clip-path=\"url(#p642404fdf6)\">\r\n     <use style=\"fill:#2d004b;stroke:#2d004b;\" x=\"177.311432\" xlink:href=\"#C0_0_3af0533cb5\" y=\"121.407626\"/>\r\n    </g>\r\n    <g clip-path=\"url(#p642404fdf6)\">\r\n     <use style=\"fill:#2d004b;stroke:#2d004b;\" x=\"48.386108\" xlink:href=\"#C0_0_3af0533cb5\" y=\"148.721603\"/>\r\n    </g>\r\n    <g clip-path=\"url(#p642404fdf6)\">\r\n     <use style=\"fill:#7f3b08;stroke:#7f3b08;\" x=\"51.356396\" xlink:href=\"#C0_0_3af0533cb5\" y=\"142.019455\"/>\r\n    </g>\r\n    <g clip-path=\"url(#p642404fdf6)\">\r\n     <use style=\"fill:#7f3b08;stroke:#7f3b08;\" x=\"46.767302\" xlink:href=\"#C0_0_3af0533cb5\" y=\"133.82307\"/>\r\n    </g>\r\n    <g clip-path=\"url(#p642404fdf6)\">\r\n     <use style=\"fill:#2d004b;stroke:#2d004b;\" x=\"61.752402\" xlink:href=\"#C0_0_3af0533cb5\" y=\"200.866469\"/>\r\n    </g>\r\n    <g clip-path=\"url(#p642404fdf6)\">\r\n     <use style=\"fill:#7f3b08;stroke:#7f3b08;\" x=\"46.339105\" xlink:href=\"#C0_0_3af0533cb5\" y=\"173.552492\"/>\r\n    </g>\r\n    <g clip-path=\"url(#p642404fdf6)\">\r\n     <use style=\"fill:#7f3b08;stroke:#7f3b08;\" x=\"49.871252\" xlink:href=\"#C0_0_3af0533cb5\" y=\"131.339982\"/>\r\n    </g>\r\n    <g clip-path=\"url(#p642404fdf6)\">\r\n     <use style=\"fill:#7f3b08;stroke:#7f3b08;\" x=\"49.871252\" xlink:href=\"#C0_0_3af0533cb5\" y=\"91.61056\"/>\r\n    </g>\r\n    <g clip-path=\"url(#p642404fdf6)\">\r\n     <use style=\"fill:#2d004b;stroke:#2d004b;\" x=\"73.692957\" xlink:href=\"#C0_0_3af0533cb5\" y=\"148.721603\"/>\r\n    </g>\r\n    <g clip-path=\"url(#p642404fdf6)\">\r\n     <use style=\"fill:#7f3b08;stroke:#7f3b08;\" x=\"47.294528\" xlink:href=\"#C0_0_3af0533cb5\" y=\"166.103225\"/>\r\n    </g>\r\n    <g clip-path=\"url(#p642404fdf6)\">\r\n     <use style=\"fill:#2d004b;stroke:#2d004b;\" x=\"54.623712\" xlink:href=\"#C0_0_3af0533cb5\" y=\"141.272337\"/>\r\n    </g>\r\n    <g clip-path=\"url(#p642404fdf6)\">\r\n     <use style=\"fill:#2d004b;stroke:#2d004b;\" x=\"46.745025\" xlink:href=\"#C0_0_3af0533cb5\" y=\"142.019455\"/>\r\n    </g>\r\n    <g clip-path=\"url(#p642404fdf6)\">\r\n     <use style=\"fill:#7f3b08;stroke:#7f3b08;\" x=\"57.593999\" xlink:href=\"#C0_0_3af0533cb5\" y=\"153.687781\"/>\r\n    </g>\r\n    <g clip-path=\"url(#p642404fdf6)\">\r\n     <use style=\"fill:#7f3b08;stroke:#7f3b08;\" x=\"46.85641\" xlink:href=\"#C0_0_3af0533cb5\" y=\"153.687781\"/>\r\n    </g>\r\n    <g clip-path=\"url(#p642404fdf6)\">\r\n     <use style=\"fill:#2d004b;stroke:#2d004b;\" x=\"167.695126\" xlink:href=\"#C0_0_3af0533cb5\" y=\"143.755426\"/>\r\n    </g>\r\n    <g clip-path=\"url(#p642404fdf6)\">\r\n     <use style=\"fill:#7f3b08;stroke:#7f3b08;\" x=\"53.30936\" xlink:href=\"#C0_0_3af0533cb5\" y=\"188.451025\"/>\r\n    </g>\r\n    <g clip-path=\"url(#p642404fdf6)\">\r\n     <use style=\"fill:#7f3b08;stroke:#7f3b08;\" x=\"42.148505\" xlink:href=\"#C0_0_3af0533cb5\" y=\"142.019455\"/>\r\n    </g>\r\n    <g clip-path=\"url(#p642404fdf6)\">\r\n     <use style=\"fill:#7f3b08;stroke:#7f3b08;\" x=\"49.871252\" xlink:href=\"#C0_0_3af0533cb5\" y=\"158.653959\"/>\r\n    </g>\r\n    <g clip-path=\"url(#p642404fdf6)\">\r\n     <use style=\"fill:#7f3b08;stroke:#7f3b08;\" x=\"49.871252\" xlink:href=\"#C0_0_3af0533cb5\" y=\"158.653959\"/>\r\n    </g>\r\n    <g clip-path=\"url(#p642404fdf6)\">\r\n     <use style=\"fill:#7f3b08;stroke:#7f3b08;\" x=\"51.71283\" xlink:href=\"#C0_0_3af0533cb5\" y=\"144.99697\"/>\r\n    </g>\r\n    <g clip-path=\"url(#p642404fdf6)\">\r\n     <use style=\"fill:#7f3b08;stroke:#7f3b08;\" x=\"62.569231\" xlink:href=\"#C0_0_3af0533cb5\" y=\"96.576738\"/>\r\n    </g>\r\n    <g clip-path=\"url(#p642404fdf6)\">\r\n     <use style=\"fill:#2d004b;stroke:#2d004b;\" x=\"346.501495\" xlink:href=\"#C0_0_3af0533cb5\" y=\"128.856893\"/>\r\n    </g>\r\n    <g clip-path=\"url(#p642404fdf6)\">\r\n     <use style=\"fill:#7f3b08;stroke:#7f3b08;\" x=\"46.839064\" xlink:href=\"#C0_0_3af0533cb5\" y=\"142.019455\"/>\r\n    </g>\r\n    <g clip-path=\"url(#p642404fdf6)\">\r\n     <use style=\"fill:#7f3b08;stroke:#7f3b08;\" x=\"46.839064\" xlink:href=\"#C0_0_3af0533cb5\" y=\"142.019455\"/>\r\n    </g>\r\n    <g clip-path=\"url(#p642404fdf6)\">\r\n     <use style=\"fill:#2d004b;stroke:#2d004b;\" x=\"59.970229\" xlink:href=\"#C0_0_3af0533cb5\" y=\"142.019455\"/>\r\n    </g>\r\n    <g clip-path=\"url(#p642404fdf6)\">\r\n     <use style=\"fill:#7f3b08;stroke:#7f3b08;\" x=\"88.989937\" xlink:href=\"#C0_0_3af0533cb5\" y=\"126.373804\"/>\r\n    </g>\r\n    <g clip-path=\"url(#p642404fdf6)\">\r\n     <use style=\"fill:#2d004b;stroke:#2d004b;\" x=\"198.014335\" xlink:href=\"#C0_0_3af0533cb5\" y=\"163.620136\"/>\r\n    </g>\r\n    <g clip-path=\"url(#p642404fdf6)\">\r\n     <use style=\"fill:#7f3b08;stroke:#7f3b08;\" x=\"51.71283\" xlink:href=\"#C0_0_3af0533cb5\" y=\"156.17087\"/>\r\n    </g>\r\n    <g clip-path=\"url(#p642404fdf6)\">\r\n     <use style=\"fill:#2d004b;stroke:#2d004b;\" x=\"46.85641\" xlink:href=\"#C0_0_3af0533cb5\" y=\"138.789248\"/>\r\n    </g>\r\n    <g clip-path=\"url(#p642404fdf6)\">\r\n     <use style=\"fill:#7f3b08;stroke:#7f3b08;\" x=\"84.326586\" xlink:href=\"#C0_0_3af0533cb5\" y=\"41.948784\"/>\r\n    </g>\r\n    <g clip-path=\"url(#p642404fdf6)\">\r\n     <use style=\"fill:#7f3b08;stroke:#7f3b08;\" x=\"54.178169\" xlink:href=\"#C0_0_3af0533cb5\" y=\"176.035581\"/>\r\n    </g>\r\n    <g clip-path=\"url(#p642404fdf6)\">\r\n     <use style=\"fill:#2d004b;stroke:#2d004b;\" x=\"49.871252\" xlink:href=\"#C0_0_3af0533cb5\" y=\"141.272337\"/>\r\n    </g>\r\n    <g clip-path=\"url(#p642404fdf6)\">\r\n     <use style=\"fill:#7f3b08;stroke:#7f3b08;\" x=\"73.692957\" xlink:href=\"#C0_0_3af0533cb5\" y=\"168.586314\"/>\r\n    </g>\r\n    <g clip-path=\"url(#p642404fdf6)\">\r\n     <use style=\"fill:#7f3b08;stroke:#7f3b08;\" x=\"46.75245\" xlink:href=\"#C0_0_3af0533cb5\" y=\"138.789248\"/>\r\n    </g>\r\n    <g clip-path=\"url(#p642404fdf6)\">\r\n     <use style=\"fill:#2d004b;stroke:#2d004b;\" x=\"55.811827\" xlink:href=\"#C0_0_3af0533cb5\" y=\"205.832647\"/>\r\n    </g>\r\n    <g clip-path=\"url(#p642404fdf6)\">\r\n     <use style=\"fill:#2d004b;stroke:#2d004b;\" x=\"49.559372\" xlink:href=\"#C0_0_3af0533cb5\" y=\"200.866469\"/>\r\n    </g>\r\n    <g clip-path=\"url(#p642404fdf6)\">\r\n     <use style=\"fill:#7f3b08;stroke:#7f3b08;\" x=\"47.792051\" xlink:href=\"#C0_0_3af0533cb5\" y=\"133.82307\"/>\r\n    </g>\r\n    <g clip-path=\"url(#p642404fdf6)\">\r\n     <use style=\"fill:#7f3b08;stroke:#7f3b08;\" x=\"46.839064\" xlink:href=\"#C0_0_3af0533cb5\" y=\"158.653959\"/>\r\n    </g>\r\n    <g clip-path=\"url(#p642404fdf6)\">\r\n     <use style=\"fill:#2d004b;stroke:#2d004b;\" x=\"80.762241\" xlink:href=\"#C0_0_3af0533cb5\" y=\"96.576738\"/>\r\n    </g>\r\n    <g clip-path=\"url(#p642404fdf6)\">\r\n     <use style=\"fill:#2d004b;stroke:#2d004b;\" x=\"50.762338\" xlink:href=\"#C0_0_3af0533cb5\" y=\"214.101332\"/>\r\n    </g>\r\n    <g clip-path=\"url(#p642404fdf6)\">\r\n     <use style=\"fill:#7f3b08;stroke:#7f3b08;\" x=\"46.779658\" xlink:href=\"#C0_0_3af0533cb5\" y=\"146.238515\"/>\r\n    </g>\r\n    <g clip-path=\"url(#p642404fdf6)\">\r\n     <use style=\"fill:#7f3b08;stroke:#7f3b08;\" x=\"48.980166\" xlink:href=\"#C0_0_3af0533cb5\" y=\"171.069403\"/>\r\n    </g>\r\n    <g clip-path=\"url(#p642404fdf6)\">\r\n     <use style=\"fill:#7f3b08;stroke:#7f3b08;\" x=\"46.930668\" xlink:href=\"#C0_0_3af0533cb5\" y=\"131.339982\"/>\r\n    </g>\r\n    <g clip-path=\"url(#p642404fdf6)\">\r\n     <use style=\"fill:#2d004b;stroke:#2d004b;\" x=\"93.534476\" xlink:href=\"#C0_0_3af0533cb5\" y=\"133.82307\"/>\r\n    </g>\r\n    <g clip-path=\"url(#p642404fdf6)\">\r\n     <use style=\"fill:#7f3b08;stroke:#7f3b08;\" x=\"50.762338\" xlink:href=\"#C0_0_3af0533cb5\" y=\"142.019455\"/>\r\n    </g>\r\n    <g clip-path=\"url(#p642404fdf6)\">\r\n     <use style=\"fill:#7f3b08;stroke:#7f3b08;\" x=\"46.381164\" xlink:href=\"#C0_0_3af0533cb5\" y=\"113.95836\"/>\r\n    </g>\r\n    <g clip-path=\"url(#p642404fdf6)\">\r\n     <use style=\"fill:#2d004b;stroke:#2d004b;\" x=\"46.443065\" xlink:href=\"#C0_0_3af0533cb5\" y=\"166.103225\"/>\r\n    </g>\r\n    <g clip-path=\"url(#p642404fdf6)\">\r\n     <use style=\"fill:#2d004b;stroke:#2d004b;\" x=\"113.435402\" xlink:href=\"#C0_0_3af0533cb5\" y=\"126.373804\"/>\r\n    </g>\r\n    <g clip-path=\"url(#p642404fdf6)\">\r\n     <use style=\"fill:#7f3b08;stroke:#7f3b08;\" x=\"46.767302\" xlink:href=\"#C0_0_3af0533cb5\" y=\"176.035581\"/>\r\n    </g>\r\n    <g clip-path=\"url(#p642404fdf6)\">\r\n     <use style=\"fill:#2d004b;stroke:#2d004b;\" x=\"88.460216\" xlink:href=\"#C0_0_3af0533cb5\" y=\"89.127471\"/>\r\n    </g>\r\n    <g clip-path=\"url(#p642404fdf6)\">\r\n     <use style=\"fill:#7f3b08;stroke:#7f3b08;\" x=\"65.673181\" xlink:href=\"#C0_0_3af0533cb5\" y=\"142.019455\"/>\r\n    </g>\r\n    <g clip-path=\"url(#p642404fdf6)\">\r\n     <use style=\"fill:#7f3b08;stroke:#7f3b08;\" x=\"46.75245\" xlink:href=\"#C0_0_3af0533cb5\" y=\"140.030793\"/>\r\n    </g>\r\n    <g clip-path=\"url(#p642404fdf6)\">\r\n     <use style=\"fill:#7f3b08;stroke:#7f3b08;\" x=\"56.494993\" xlink:href=\"#C0_0_3af0533cb5\" y=\"142.019455\"/>\r\n    </g>\r\n    <g clip-path=\"url(#p642404fdf6)\">\r\n     <use style=\"fill:#7f3b08;stroke:#7f3b08;\" x=\"47.116311\" xlink:href=\"#C0_0_3af0533cb5\" y=\"136.306159\"/>\r\n    </g>\r\n    <g clip-path=\"url(#p642404fdf6)\">\r\n     <use style=\"fill:#7f3b08;stroke:#7f3b08;\" x=\"47.792051\" xlink:href=\"#C0_0_3af0533cb5\" y=\"156.17087\"/>\r\n    </g>\r\n    <g clip-path=\"url(#p642404fdf6)\">\r\n     <use style=\"fill:#7f3b08;stroke:#7f3b08;\" x=\"46.814351\" xlink:href=\"#C0_0_3af0533cb5\" y=\"96.576738\"/>\r\n    </g>\r\n    <g clip-path=\"url(#p642404fdf6)\">\r\n     <use style=\"fill:#7f3b08;stroke:#7f3b08;\" x=\"48.386108\" xlink:href=\"#C0_0_3af0533cb5\" y=\"74.228938\"/>\r\n    </g>\r\n    <g clip-path=\"url(#p642404fdf6)\">\r\n     <use style=\"fill:#7f3b08;stroke:#7f3b08;\" x=\"46.44057\" xlink:href=\"#C0_0_3af0533cb5\" y=\"142.019455\"/>\r\n    </g>\r\n    <g clip-path=\"url(#p642404fdf6)\">\r\n     <use style=\"fill:#2d004b;stroke:#2d004b;\" x=\"55.811827\" xlink:href=\"#C0_0_3af0533cb5\" y=\"81.678205\"/>\r\n    </g>\r\n    <g clip-path=\"url(#p642404fdf6)\">\r\n     <use style=\"fill:#7f3b08;stroke:#7f3b08;\" x=\"46.75245\" xlink:href=\"#C0_0_3af0533cb5\" y=\"171.069403\"/>\r\n    </g>\r\n    <g clip-path=\"url(#p642404fdf6)\">\r\n     <use style=\"fill:#7f3b08;stroke:#7f3b08;\" x=\"46.75245\" xlink:href=\"#C0_0_3af0533cb5\" y=\"142.019455\"/>\r\n    </g>\r\n    <g clip-path=\"url(#p642404fdf6)\">\r\n     <use style=\"fill:#2d004b;stroke:#2d004b;\" x=\"49.559372\" xlink:href=\"#C0_0_3af0533cb5\" y=\"203.349558\"/>\r\n    </g>\r\n    <g clip-path=\"url(#p642404fdf6)\">\r\n     <use style=\"fill:#7f3b08;stroke:#7f3b08;\" x=\"46.745025\" xlink:href=\"#C0_0_3af0533cb5\" y=\"142.019455\"/>\r\n    </g>\r\n    <g clip-path=\"url(#p642404fdf6)\">\r\n     <use style=\"fill:#2d004b;stroke:#2d004b;\" x=\"167.695126\" xlink:href=\"#C0_0_3af0533cb5\" y=\"108.992182\"/>\r\n    </g>\r\n    <g clip-path=\"url(#p642404fdf6)\">\r\n     <use style=\"fill:#2d004b;stroke:#2d004b;\" x=\"46.443065\" xlink:href=\"#C0_0_3af0533cb5\" y=\"183.484847\"/>\r\n    </g>\r\n    <g clip-path=\"url(#p642404fdf6)\">\r\n     <use style=\"fill:#2d004b;stroke:#2d004b;\" x=\"76.009781\" xlink:href=\"#C0_0_3af0533cb5\" y=\"173.552492\"/>\r\n    </g>\r\n    <g clip-path=\"url(#p642404fdf6)\">\r\n     <use style=\"fill:#7f3b08;stroke:#7f3b08;\" x=\"59.970229\" xlink:href=\"#C0_0_3af0533cb5\" y=\"143.755426\"/>\r\n    </g>\r\n    <g clip-path=\"url(#p642404fdf6)\">\r\n     <use style=\"fill:#7f3b08;stroke:#7f3b08;\" x=\"56.079153\" xlink:href=\"#C0_0_3af0533cb5\" y=\"142.019455\"/>\r\n    </g>\r\n    <g clip-path=\"url(#p642404fdf6)\">\r\n     <use style=\"fill:#7f3b08;stroke:#7f3b08;\" x=\"46.33661\" xlink:href=\"#C0_0_3af0533cb5\" y=\"153.687781\"/>\r\n    </g>\r\n    <g clip-path=\"url(#p642404fdf6)\">\r\n     <use style=\"fill:#7f3b08;stroke:#7f3b08;\" x=\"46.455422\" xlink:href=\"#C0_0_3af0533cb5\" y=\"153.687781\"/>\r\n    </g>\r\n    <g clip-path=\"url(#p642404fdf6)\">\r\n     <use style=\"fill:#2d004b;stroke:#2d004b;\" x=\"46.601441\" xlink:href=\"#C0_0_3af0533cb5\" y=\"171.069403\"/>\r\n    </g>\r\n    <g clip-path=\"url(#p642404fdf6)\">\r\n     <use style=\"fill:#7f3b08;stroke:#7f3b08;\" x=\"59.450429\" xlink:href=\"#C0_0_3af0533cb5\" y=\"195.900291\"/>\r\n    </g>\r\n    <g clip-path=\"url(#p642404fdf6)\">\r\n     <use style=\"fill:#2d004b;stroke:#2d004b;\" x=\"54.371237\" xlink:href=\"#C0_0_3af0533cb5\" y=\"213.281913\"/>\r\n    </g>\r\n    <g clip-path=\"url(#p642404fdf6)\">\r\n     <use style=\"fill:#7f3b08;stroke:#7f3b08;\" x=\"89.197857\" xlink:href=\"#C0_0_3af0533cb5\" y=\"101.542916\"/>\r\n    </g>\r\n    <g clip-path=\"url(#p642404fdf6)\">\r\n     <use style=\"fill:#7f3b08;stroke:#7f3b08;\" x=\"46.75245\" xlink:href=\"#C0_0_3af0533cb5\" y=\"142.019455\"/>\r\n    </g>\r\n    <g clip-path=\"url(#p642404fdf6)\">\r\n     <use style=\"fill:#7f3b08;stroke:#7f3b08;\" x=\"57.593999\" xlink:href=\"#C0_0_3af0533cb5\" y=\"176.035581\"/>\r\n    </g>\r\n    <g clip-path=\"url(#p642404fdf6)\">\r\n     <use style=\"fill:#7f3b08;stroke:#7f3b08;\" x=\"83.465202\" xlink:href=\"#C0_0_3af0533cb5\" y=\"142.019455\"/>\r\n    </g>\r\n    <g clip-path=\"url(#p642404fdf6)\">\r\n     <use style=\"fill:#7f3b08;stroke:#7f3b08;\" x=\"60.383574\" xlink:href=\"#C0_0_3af0533cb5\" y=\"142.019455\"/>\r\n    </g>\r\n    <g clip-path=\"url(#p642404fdf6)\">\r\n     <use style=\"fill:#7f3b08;stroke:#7f3b08;\" x=\"46.839064\" xlink:href=\"#C0_0_3af0533cb5\" y=\"153.687781\"/>\r\n    </g>\r\n    <g clip-path=\"url(#p642404fdf6)\">\r\n     <use style=\"fill:#7f3b08;stroke:#7f3b08;\" x=\"49.871252\" xlink:href=\"#C0_0_3af0533cb5\" y=\"118.924537\"/>\r\n    </g>\r\n    <g clip-path=\"url(#p642404fdf6)\">\r\n     <use style=\"fill:#2d004b;stroke:#2d004b;\" x=\"57.55194\" xlink:href=\"#C0_0_3af0533cb5\" y=\"94.093649\"/>\r\n    </g>\r\n    <g clip-path=\"url(#p642404fdf6)\">\r\n     <use style=\"fill:#2d004b;stroke:#2d004b;\" x=\"47.306884\" xlink:href=\"#C0_0_3af0533cb5\" y=\"138.789248\"/>\r\n    </g>\r\n    <g clip-path=\"url(#p642404fdf6)\">\r\n     <use style=\"fill:#7f3b08;stroke:#7f3b08;\" x=\"46.443065\" xlink:href=\"#C0_0_3af0533cb5\" y=\"141.272337\"/>\r\n    </g>\r\n    <g clip-path=\"url(#p642404fdf6)\">\r\n     <use style=\"fill:#7f3b08;stroke:#7f3b08;\" x=\"56.494993\" xlink:href=\"#C0_0_3af0533cb5\" y=\"141.272337\"/>\r\n    </g>\r\n    <g clip-path=\"url(#p642404fdf6)\">\r\n     <use style=\"fill:#7f3b08;stroke:#7f3b08;\" x=\"49.871252\" xlink:href=\"#C0_0_3af0533cb5\" y=\"131.339982\"/>\r\n    </g>\r\n    <g clip-path=\"url(#p642404fdf6)\">\r\n     <use style=\"fill:#2d004b;stroke:#2d004b;\" x=\"57.742514\" xlink:href=\"#C0_0_3af0533cb5\" y=\"138.789248\"/>\r\n    </g>\r\n    <g clip-path=\"url(#p642404fdf6)\">\r\n     <use style=\"fill:#2d004b;stroke:#2d004b;\" x=\"113.435402\" xlink:href=\"#C0_0_3af0533cb5\" y=\"188.451025\"/>\r\n    </g>\r\n    <g clip-path=\"url(#p642404fdf6)\">\r\n     <use style=\"fill:#2d004b;stroke:#2d004b;\" x=\"47.207914\" xlink:href=\"#C0_0_3af0533cb5\" y=\"214.722105\"/>\r\n    </g>\r\n    <g clip-path=\"url(#p642404fdf6)\">\r\n     <use style=\"fill:#2d004b;stroke:#2d004b;\" x=\"46.292056\" xlink:href=\"#C0_0_3af0533cb5\" y=\"148.721603\"/>\r\n    </g>\r\n    <g clip-path=\"url(#p642404fdf6)\">\r\n     <use style=\"fill:#7f3b08;stroke:#7f3b08;\" x=\"46.767302\" xlink:href=\"#C0_0_3af0533cb5\" y=\"138.789248\"/>\r\n    </g>\r\n    <g clip-path=\"url(#p642404fdf6)\">\r\n     <use style=\"fill:#7f3b08;stroke:#7f3b08;\" x=\"42.148505\" xlink:href=\"#C0_0_3af0533cb5\" y=\"118.924537\"/>\r\n    </g>\r\n    <g clip-path=\"url(#p642404fdf6)\">\r\n     <use style=\"fill:#7f3b08;stroke:#7f3b08;\" x=\"46.767302\" xlink:href=\"#C0_0_3af0533cb5\" y=\"171.069403\"/>\r\n    </g>\r\n    <g clip-path=\"url(#p642404fdf6)\">\r\n     <use style=\"fill:#7f3b08;stroke:#7f3b08;\" x=\"49.871252\" xlink:href=\"#C0_0_3af0533cb5\" y=\"118.924537\"/>\r\n    </g>\r\n    <g clip-path=\"url(#p642404fdf6)\">\r\n     <use style=\"fill:#2d004b;stroke:#2d004b;\" x=\"73.692957\" xlink:href=\"#C0_0_3af0533cb5\" y=\"133.82307\"/>\r\n    </g>\r\n    <g clip-path=\"url(#p642404fdf6)\">\r\n     <use style=\"fill:#7f3b08;stroke:#7f3b08;\" x=\"46.834133\" xlink:href=\"#C0_0_3af0533cb5\" y=\"151.204692\"/>\r\n    </g>\r\n    <g clip-path=\"url(#p642404fdf6)\">\r\n     <use style=\"fill:#7f3b08;stroke:#7f3b08;\" x=\"56.494993\" xlink:href=\"#C0_0_3af0533cb5\" y=\"118.924537\"/>\r\n    </g>\r\n    <g clip-path=\"url(#p642404fdf6)\">\r\n     <use style=\"fill:#7f3b08;stroke:#7f3b08;\" x=\"48.386108\" xlink:href=\"#C0_0_3af0533cb5\" y=\"128.856893\"/>\r\n    </g>\r\n    <g clip-path=\"url(#p642404fdf6)\">\r\n     <use style=\"fill:#7f3b08;stroke:#7f3b08;\" x=\"60.727652\" xlink:href=\"#C0_0_3af0533cb5\" y=\"200.866469\"/>\r\n    </g>\r\n    <g clip-path=\"url(#p642404fdf6)\">\r\n     <use style=\"fill:#7f3b08;stroke:#7f3b08;\" x=\"46.930668\" xlink:href=\"#C0_0_3af0533cb5\" y=\"140.030793\"/>\r\n    </g>\r\n    <g clip-path=\"url(#p642404fdf6)\">\r\n     <use style=\"fill:#7f3b08;stroke:#7f3b08;\" x=\"42.148505\" xlink:href=\"#C0_0_3af0533cb5\" y=\"142.019455\"/>\r\n    </g>\r\n    <g clip-path=\"url(#p642404fdf6)\">\r\n     <use style=\"fill:#7f3b08;stroke:#7f3b08;\" x=\"46.85641\" xlink:href=\"#C0_0_3af0533cb5\" y=\"158.653959\"/>\r\n    </g>\r\n    <g clip-path=\"url(#p642404fdf6)\">\r\n     <use style=\"fill:#7f3b08;stroke:#7f3b08;\" x=\"64.131126\" xlink:href=\"#C0_0_3af0533cb5\" y=\"138.789248\"/>\r\n    </g>\r\n    <g clip-path=\"url(#p642404fdf6)\">\r\n     <use style=\"fill:#7f3b08;stroke:#7f3b08;\" x=\"45.980176\" xlink:href=\"#C0_0_3af0533cb5\" y=\"108.992182\"/>\r\n    </g>\r\n    <g clip-path=\"url(#p642404fdf6)\">\r\n     <use style=\"fill:#7f3b08;stroke:#7f3b08;\" x=\"58.722708\" xlink:href=\"#C0_0_3af0533cb5\" y=\"190.934114\"/>\r\n    </g>\r\n    <g clip-path=\"url(#p642404fdf6)\">\r\n     <use style=\"fill:#2d004b;stroke:#2d004b;\" x=\"97.692879\" xlink:href=\"#C0_0_3af0533cb5\" y=\"86.644383\"/>\r\n    </g>\r\n    <g clip-path=\"url(#p642404fdf6)\">\r\n     <use style=\"fill:#2d004b;stroke:#2d004b;\" x=\"47.294528\" xlink:href=\"#C0_0_3af0533cb5\" y=\"148.721603\"/>\r\n    </g>\r\n    <g clip-path=\"url(#p642404fdf6)\">\r\n     <use style=\"fill:#7f3b08;stroke:#7f3b08;\" x=\"42.148505\" xlink:href=\"#C0_0_3af0533cb5\" y=\"121.407626\"/>\r\n    </g>\r\n    <g clip-path=\"url(#p642404fdf6)\">\r\n     <use style=\"fill:#2d004b;stroke:#2d004b;\" x=\"49.559372\" xlink:href=\"#C0_0_3af0533cb5\" y=\"148.721603\"/>\r\n    </g>\r\n    <g clip-path=\"url(#p642404fdf6)\">\r\n     <use style=\"fill:#7f3b08;stroke:#7f3b08;\" x=\"65.725161\" xlink:href=\"#C0_0_3af0533cb5\" y=\"210.798824\"/>\r\n    </g>\r\n    <g clip-path=\"url(#p642404fdf6)\">\r\n     <use style=\"fill:#7f3b08;stroke:#7f3b08;\" x=\"46.277204\" xlink:href=\"#C0_0_3af0533cb5\" y=\"142.019455\"/>\r\n    </g>\r\n    <g clip-path=\"url(#p642404fdf6)\">\r\n     <use style=\"fill:#7f3b08;stroke:#7f3b08;\" x=\"75.710257\" xlink:href=\"#C0_0_3af0533cb5\" y=\"142.019455\"/>\r\n    </g>\r\n    <g clip-path=\"url(#p642404fdf6)\">\r\n     <use style=\"fill:#2d004b;stroke:#2d004b;\" x=\"64.131126\" xlink:href=\"#C0_0_3af0533cb5\" y=\"213.281913\"/>\r\n    </g>\r\n    <g clip-path=\"url(#p642404fdf6)\">\r\n     <use style=\"fill:#2d004b;stroke:#2d004b;\" x=\"46.75245\" xlink:href=\"#C0_0_3af0533cb5\" y=\"142.019455\"/>\r\n    </g>\r\n    <g clip-path=\"url(#p642404fdf6)\">\r\n     <use style=\"fill:#2d004b;stroke:#2d004b;\" x=\"50.73513\" xlink:href=\"#C0_0_3af0533cb5\" y=\"178.518669\"/>\r\n    </g>\r\n    <g clip-path=\"url(#p642404fdf6)\">\r\n     <use style=\"fill:#2d004b;stroke:#2d004b;\" x=\"53.287083\" xlink:href=\"#C0_0_3af0533cb5\" y=\"213.704038\"/>\r\n    </g>\r\n    <g clip-path=\"url(#p642404fdf6)\">\r\n     <use style=\"fill:#7f3b08;stroke:#7f3b08;\" x=\"46.443065\" xlink:href=\"#C0_0_3af0533cb5\" y=\"142.019455\"/>\r\n    </g>\r\n    <g clip-path=\"url(#p642404fdf6)\">\r\n     <use style=\"fill:#7f3b08;stroke:#7f3b08;\" x=\"46.814351\" xlink:href=\"#C0_0_3af0533cb5\" y=\"158.653959\"/>\r\n    </g>\r\n    <g clip-path=\"url(#p642404fdf6)\">\r\n     <use style=\"fill:#7f3b08;stroke:#7f3b08;\" x=\"47.079182\" xlink:href=\"#C0_0_3af0533cb5\" y=\"171.069403\"/>\r\n    </g>\r\n    <g clip-path=\"url(#p642404fdf6)\">\r\n     <use style=\"fill:#2d004b;stroke:#2d004b;\" x=\"91.549315\" xlink:href=\"#C0_0_3af0533cb5\" y=\"118.924537\"/>\r\n    </g>\r\n    <g clip-path=\"url(#p642404fdf6)\">\r\n     <use style=\"fill:#7f3b08;stroke:#7f3b08;\" x=\"47.294528\" xlink:href=\"#C0_0_3af0533cb5\" y=\"163.620136\"/>\r\n    </g>\r\n    <g clip-path=\"url(#p642404fdf6)\">\r\n     <use style=\"fill:#7f3b08;stroke:#7f3b08;\" x=\"46.930668\" xlink:href=\"#C0_0_3af0533cb5\" y=\"142.019455\"/>\r\n    </g>\r\n    <g clip-path=\"url(#p642404fdf6)\">\r\n     <use style=\"fill:#2d004b;stroke:#2d004b;\" x=\"75.710257\" xlink:href=\"#C0_0_3af0533cb5\" y=\"136.306159\"/>\r\n    </g>\r\n    <g clip-path=\"url(#p642404fdf6)\">\r\n     <use style=\"fill:#2d004b;stroke:#2d004b;\" x=\"59.792012\" xlink:href=\"#C0_0_3af0533cb5\" y=\"142.019455\"/>\r\n    </g>\r\n    <g clip-path=\"url(#p642404fdf6)\">\r\n     <use style=\"fill:#7f3b08;stroke:#7f3b08;\" x=\"46.85641\" xlink:href=\"#C0_0_3af0533cb5\" y=\"166.103225\"/>\r\n    </g>\r\n    <g clip-path=\"url(#p642404fdf6)\">\r\n     <use style=\"fill:#7f3b08;stroke:#7f3b08;\" x=\"48.386108\" xlink:href=\"#C0_0_3af0533cb5\" y=\"176.035581\"/>\r\n    </g>\r\n    <g clip-path=\"url(#p642404fdf6)\">\r\n     <use style=\"fill:#2d004b;stroke:#2d004b;\" x=\"60.564287\" xlink:href=\"#C0_0_3af0533cb5\" y=\"141.272337\"/>\r\n    </g>\r\n    <g clip-path=\"url(#p642404fdf6)\">\r\n     <use style=\"fill:#7f3b08;stroke:#7f3b08;\" x=\"45.97275\" xlink:href=\"#C0_0_3af0533cb5\" y=\"130.098437\"/>\r\n    </g>\r\n    <g clip-path=\"url(#p642404fdf6)\">\r\n     <use style=\"fill:#7f3b08;stroke:#7f3b08;\" x=\"47.294528\" xlink:href=\"#C0_0_3af0533cb5\" y=\"173.552492\"/>\r\n    </g>\r\n    <g clip-path=\"url(#p642404fdf6)\">\r\n     <use style=\"fill:#7f3b08;stroke:#7f3b08;\" x=\"46.633639\" xlink:href=\"#C0_0_3af0533cb5\" y=\"111.475271\"/>\r\n    </g>\r\n    <g clip-path=\"url(#p642404fdf6)\">\r\n     <use style=\"fill:#7f3b08;stroke:#7f3b08;\" x=\"83.465202\" xlink:href=\"#C0_0_3af0533cb5\" y=\"142.019455\"/>\r\n    </g>\r\n    <g clip-path=\"url(#p642404fdf6)\">\r\n     <use style=\"fill:#7f3b08;stroke:#7f3b08;\" x=\"46.839064\" xlink:href=\"#C0_0_3af0533cb5\" y=\"128.856893\"/>\r\n    </g>\r\n    <g clip-path=\"url(#p642404fdf6)\">\r\n     <use style=\"fill:#7f3b08;stroke:#7f3b08;\" x=\"61.752402\" xlink:href=\"#C0_0_3af0533cb5\" y=\"146.238515\"/>\r\n    </g>\r\n    <g clip-path=\"url(#p642404fdf6)\">\r\n     <use style=\"fill:#2d004b;stroke:#2d004b;\" x=\"95.081521\" xlink:href=\"#C0_0_3af0533cb5\" y=\"142.019455\"/>\r\n    </g>\r\n    <g clip-path=\"url(#p642404fdf6)\">\r\n     <use style=\"fill:#7f3b08;stroke:#7f3b08;\" x=\"60.727652\" xlink:href=\"#C0_0_3af0533cb5\" y=\"205.832647\"/>\r\n    </g>\r\n    <g clip-path=\"url(#p642404fdf6)\">\r\n     <use style=\"fill:#7f3b08;stroke:#7f3b08;\" x=\"46.767302\" xlink:href=\"#C0_0_3af0533cb5\" y=\"32.016428\"/>\r\n    </g>\r\n    <g clip-path=\"url(#p642404fdf6)\">\r\n     <use style=\"fill:#7f3b08;stroke:#7f3b08;\" x=\"51.205386\" xlink:href=\"#C0_0_3af0533cb5\" y=\"193.417202\"/>\r\n    </g>\r\n    <g clip-path=\"url(#p642404fdf6)\">\r\n     <use style=\"fill:#2d004b;stroke:#2d004b;\" x=\"65.554369\" xlink:href=\"#C0_0_3af0533cb5\" y=\"176.035581\"/>\r\n    </g>\r\n    <g clip-path=\"url(#p642404fdf6)\">\r\n     <use style=\"fill:#7f3b08;stroke:#7f3b08;\" x=\"57.593999\" xlink:href=\"#C0_0_3af0533cb5\" y=\"106.509093\"/>\r\n    </g>\r\n    <g clip-path=\"url(#p642404fdf6)\">\r\n     <use style=\"fill:#2d004b;stroke:#2d004b;\" x=\"47.702942\" xlink:href=\"#C0_0_3af0533cb5\" y=\"171.069403\"/>\r\n    </g>\r\n    <g clip-path=\"url(#p642404fdf6)\">\r\n     <use style=\"fill:#2d004b;stroke:#2d004b;\" x=\"140.0888\" xlink:href=\"#C0_0_3af0533cb5\" y=\"104.026004\"/>\r\n    </g>\r\n    <g clip-path=\"url(#p642404fdf6)\">\r\n     <use style=\"fill:#2d004b;stroke:#2d004b;\" x=\"57.920731\" xlink:href=\"#C0_0_3af0533cb5\" y=\"89.127471\"/>\r\n    </g>\r\n    <g clip-path=\"url(#p642404fdf6)\">\r\n     <use style=\"fill:#2d004b;stroke:#2d004b;\" x=\"53.589042\" xlink:href=\"#C0_0_3af0533cb5\" y=\"156.17087\"/>\r\n    </g>\r\n    <g clip-path=\"url(#p642404fdf6)\">\r\n     <use style=\"fill:#7f3b08;stroke:#7f3b08;\" x=\"46.443065\" xlink:href=\"#C0_0_3af0533cb5\" y=\"142.019455\"/>\r\n    </g>\r\n    <g clip-path=\"url(#p642404fdf6)\">\r\n     <use style=\"fill:#7f3b08;stroke:#7f3b08;\" x=\"50.529646\" xlink:href=\"#C0_0_3af0533cb5\" y=\"113.95836\"/>\r\n    </g>\r\n    <g clip-path=\"url(#p642404fdf6)\">\r\n     <use style=\"fill:#7f3b08;stroke:#7f3b08;\" x=\"48.980166\" xlink:href=\"#C0_0_3af0533cb5\" y=\"163.620136\"/>\r\n    </g>\r\n    <g clip-path=\"url(#p642404fdf6)\">\r\n     <use style=\"fill:#2d004b;stroke:#2d004b;\" x=\"57.55194\" xlink:href=\"#C0_0_3af0533cb5\" y=\"96.576738\"/>\r\n    </g>\r\n    <g clip-path=\"url(#p642404fdf6)\">\r\n     <use style=\"fill:#7f3b08;stroke:#7f3b08;\" x=\"83.465202\" xlink:href=\"#C0_0_3af0533cb5\" y=\"142.019455\"/>\r\n    </g>\r\n    <g clip-path=\"url(#p642404fdf6)\">\r\n     <use style=\"fill:#7f3b08;stroke:#7f3b08;\" x=\"49.871252\" xlink:href=\"#C0_0_3af0533cb5\" y=\"156.17087\"/>\r\n    </g>\r\n    <g clip-path=\"url(#p642404fdf6)\">\r\n     <use style=\"fill:#2d004b;stroke:#2d004b;\" x=\"49.871252\" xlink:href=\"#C0_0_3af0533cb5\" y=\"111.475271\"/>\r\n    </g>\r\n    <g clip-path=\"url(#p642404fdf6)\">\r\n     <use style=\"fill:#2d004b;stroke:#2d004b;\" x=\"50.381132\" xlink:href=\"#C0_0_3af0533cb5\" y=\"148.721603\"/>\r\n    </g>\r\n    <g clip-path=\"url(#p642404fdf6)\">\r\n     <use style=\"fill:#7f3b08;stroke:#7f3b08;\" x=\"72.145912\" xlink:href=\"#C0_0_3af0533cb5\" y=\"138.789248\"/>\r\n    </g>\r\n    <g clip-path=\"url(#p642404fdf6)\">\r\n     <use style=\"fill:#7f3b08;stroke:#7f3b08;\" x=\"47.792051\" xlink:href=\"#C0_0_3af0533cb5\" y=\"142.019455\"/>\r\n    </g>\r\n    <g clip-path=\"url(#p642404fdf6)\">\r\n     <use style=\"fill:#2d004b;stroke:#2d004b;\" x=\"48.762325\" xlink:href=\"#C0_0_3af0533cb5\" y=\"205.832647\"/>\r\n    </g>\r\n    <g clip-path=\"url(#p642404fdf6)\">\r\n     <use style=\"fill:#7f3b08;stroke:#7f3b08;\" x=\"46.839064\" xlink:href=\"#C0_0_3af0533cb5\" y=\"151.204692\"/>\r\n    </g>\r\n    <g clip-path=\"url(#p642404fdf6)\">\r\n     <use style=\"fill:#2d004b;stroke:#2d004b;\" x=\"73.36872\" xlink:href=\"#C0_0_3af0533cb5\" y=\"99.059827\"/>\r\n    </g>\r\n    <g clip-path=\"url(#p642404fdf6)\">\r\n     <use style=\"fill:#7f3b08;stroke:#7f3b08;\" x=\"45.118792\" xlink:href=\"#C0_0_3af0533cb5\" y=\"133.82307\"/>\r\n    </g>\r\n    <g clip-path=\"url(#p642404fdf6)\">\r\n     <use style=\"fill:#7f3b08;stroke:#7f3b08;\" x=\"47.495022\" xlink:href=\"#C0_0_3af0533cb5\" y=\"99.059827\"/>\r\n    </g>\r\n    <g clip-path=\"url(#p642404fdf6)\">\r\n     <use style=\"fill:#2d004b;stroke:#2d004b;\" x=\"56.405884\" xlink:href=\"#C0_0_3af0533cb5\" y=\"146.238515\"/>\r\n    </g>\r\n    <g clip-path=\"url(#p642404fdf6)\">\r\n     <use style=\"fill:#2d004b;stroke:#2d004b;\" x=\"46.44057\" xlink:href=\"#C0_0_3af0533cb5\" y=\"178.518669\"/>\r\n    </g>\r\n    <g clip-path=\"url(#p642404fdf6)\">\r\n     <use style=\"fill:#7f3b08;stroke:#7f3b08;\" x=\"47.997476\" xlink:href=\"#C0_0_3af0533cb5\" y=\"166.103225\"/>\r\n    </g>\r\n    <g clip-path=\"url(#p642404fdf6)\">\r\n     <use style=\"fill:#7f3b08;stroke:#7f3b08;\" x=\"46.839064\" xlink:href=\"#C0_0_3af0533cb5\" y=\"168.586314\"/>\r\n    </g>\r\n    <g clip-path=\"url(#p642404fdf6)\">\r\n     <use style=\"fill:#7f3b08;stroke:#7f3b08;\" x=\"46.839064\" xlink:href=\"#C0_0_3af0533cb5\" y=\"142.019455\"/>\r\n    </g>\r\n    <g clip-path=\"url(#p642404fdf6)\">\r\n     <use style=\"fill:#2d004b;stroke:#2d004b;\" x=\"91.549315\" xlink:href=\"#C0_0_3af0533cb5\" y=\"76.712027\"/>\r\n    </g>\r\n    <g clip-path=\"url(#p642404fdf6)\">\r\n     <use style=\"fill:#2d004b;stroke:#2d004b;\" x=\"57.593999\" xlink:href=\"#C0_0_3af0533cb5\" y=\"153.687781\"/>\r\n    </g>\r\n    <g clip-path=\"url(#p642404fdf6)\">\r\n     <use style=\"fill:#7f3b08;stroke:#7f3b08;\" x=\"46.839064\" xlink:href=\"#C0_0_3af0533cb5\" y=\"133.82307\"/>\r\n    </g>\r\n    <g clip-path=\"url(#p642404fdf6)\">\r\n     <use style=\"fill:#7f3b08;stroke:#7f3b08;\" x=\"48.396029\" xlink:href=\"#C0_0_3af0533cb5\" y=\"161.137048\"/>\r\n    </g>\r\n    <g clip-path=\"url(#p642404fdf6)\">\r\n     <use style=\"fill:#7f3b08;stroke:#7f3b08;\" x=\"48.386108\" xlink:href=\"#C0_0_3af0533cb5\" y=\"146.238515\"/>\r\n    </g>\r\n    <g clip-path=\"url(#p642404fdf6)\">\r\n     <use style=\"fill:#7f3b08;stroke:#7f3b08;\" x=\"46.33661\" xlink:href=\"#C0_0_3af0533cb5\" y=\"153.687781\"/>\r\n    </g>\r\n    <g clip-path=\"url(#p642404fdf6)\">\r\n     <use style=\"fill:#7f3b08;stroke:#7f3b08;\" x=\"59.450429\" xlink:href=\"#C0_0_3af0533cb5\" y=\"118.924537\"/>\r\n    </g>\r\n    <g clip-path=\"url(#p642404fdf6)\">\r\n     <use style=\"fill:#7f3b08;stroke:#7f3b08;\" x=\"49.871252\" xlink:href=\"#C0_0_3af0533cb5\" y=\"148.721603\"/>\r\n    </g>\r\n    <g clip-path=\"url(#p642404fdf6)\">\r\n     <use style=\"fill:#2d004b;stroke:#2d004b;\" x=\"59.970229\" xlink:href=\"#C0_0_3af0533cb5\" y=\"168.586314\"/>\r\n    </g>\r\n    <g clip-path=\"url(#p642404fdf6)\">\r\n     <use style=\"fill:#7f3b08;stroke:#7f3b08;\" x=\"56.079153\" xlink:href=\"#C0_0_3af0533cb5\" y=\"142.019455\"/>\r\n    </g>\r\n    <g clip-path=\"url(#p642404fdf6)\">\r\n     <use style=\"fill:#2d004b;stroke:#2d004b;\" x=\"59.970229\" xlink:href=\"#C0_0_3af0533cb5\" y=\"151.204692\"/>\r\n    </g>\r\n    <g clip-path=\"url(#p642404fdf6)\">\r\n     <use style=\"fill:#7f3b08;stroke:#7f3b08;\" x=\"46.75245\" xlink:href=\"#C0_0_3af0533cb5\" y=\"136.306159\"/>\r\n    </g>\r\n   </g>\r\n   <g id=\"matplotlib.axis_1\">\r\n    <g id=\"xtick_1\">\r\n     <g id=\"line2d_1\">\r\n      <defs>\r\n       <path d=\"M 0 0 \r\nL 0 3.5 \r\n\" id=\"md2c96018db\" style=\"stroke:#000000;stroke-width:0.8;\"/>\r\n      </defs>\r\n      <g>\r\n       <use style=\"stroke:#000000;stroke-width:0.8;\" x=\"42.148505\" xlink:href=\"#md2c96018db\" y=\"224.64\"/>\r\n      </g>\r\n     </g>\r\n     <g id=\"text_1\">\r\n      <!-- 0 -->\r\n      <defs>\r\n       <path d=\"M 31.78125 66.40625 \r\nQ 24.171875 66.40625 20.328125 58.90625 \r\nQ 16.5 51.421875 16.5 36.375 \r\nQ 16.5 21.390625 20.328125 13.890625 \r\nQ 24.171875 6.390625 31.78125 6.390625 \r\nQ 39.453125 6.390625 43.28125 13.890625 \r\nQ 47.125 21.390625 47.125 36.375 \r\nQ 47.125 51.421875 43.28125 58.90625 \r\nQ 39.453125 66.40625 31.78125 66.40625 \r\nz\r\nM 31.78125 74.21875 \r\nQ 44.046875 74.21875 50.515625 64.515625 \r\nQ 56.984375 54.828125 56.984375 36.375 \r\nQ 56.984375 17.96875 50.515625 8.265625 \r\nQ 44.046875 -1.421875 31.78125 -1.421875 \r\nQ 19.53125 -1.421875 13.0625 8.265625 \r\nQ 6.59375 17.96875 6.59375 36.375 \r\nQ 6.59375 54.828125 13.0625 64.515625 \r\nQ 19.53125 74.21875 31.78125 74.21875 \r\nz\r\n\" id=\"DejaVuSans-48\"/>\r\n      </defs>\r\n      <g transform=\"translate(38.967255 239.238437)scale(0.1 -0.1)\">\r\n       <use xlink:href=\"#DejaVuSans-48\"/>\r\n      </g>\r\n     </g>\r\n    </g>\r\n    <g id=\"xtick_2\">\r\n     <g id=\"line2d_2\">\r\n      <g>\r\n       <use style=\"stroke:#000000;stroke-width:0.8;\" x=\"101.554252\" xlink:href=\"#md2c96018db\" y=\"224.64\"/>\r\n      </g>\r\n     </g>\r\n     <g id=\"text_2\">\r\n      <!-- 100 -->\r\n      <defs>\r\n       <path d=\"M 12.40625 8.296875 \r\nL 28.515625 8.296875 \r\nL 28.515625 63.921875 \r\nL 10.984375 60.40625 \r\nL 10.984375 69.390625 \r\nL 28.421875 72.90625 \r\nL 38.28125 72.90625 \r\nL 38.28125 8.296875 \r\nL 54.390625 8.296875 \r\nL 54.390625 0 \r\nL 12.40625 0 \r\nz\r\n\" id=\"DejaVuSans-49\"/>\r\n      </defs>\r\n      <g transform=\"translate(92.010502 239.238437)scale(0.1 -0.1)\">\r\n       <use xlink:href=\"#DejaVuSans-49\"/>\r\n       <use x=\"63.623047\" xlink:href=\"#DejaVuSans-48\"/>\r\n       <use x=\"127.246094\" xlink:href=\"#DejaVuSans-48\"/>\r\n      </g>\r\n     </g>\r\n    </g>\r\n    <g id=\"xtick_3\">\r\n     <g id=\"line2d_3\">\r\n      <g>\r\n       <use style=\"stroke:#000000;stroke-width:0.8;\" x=\"160.96\" xlink:href=\"#md2c96018db\" y=\"224.64\"/>\r\n      </g>\r\n     </g>\r\n     <g id=\"text_3\">\r\n      <!-- 200 -->\r\n      <defs>\r\n       <path d=\"M 19.1875 8.296875 \r\nL 53.609375 8.296875 \r\nL 53.609375 0 \r\nL 7.328125 0 \r\nL 7.328125 8.296875 \r\nQ 12.9375 14.109375 22.625 23.890625 \r\nQ 32.328125 33.6875 34.8125 36.53125 \r\nQ 39.546875 41.84375 41.421875 45.53125 \r\nQ 43.3125 49.21875 43.3125 52.78125 \r\nQ 43.3125 58.59375 39.234375 62.25 \r\nQ 35.15625 65.921875 28.609375 65.921875 \r\nQ 23.96875 65.921875 18.8125 64.3125 \r\nQ 13.671875 62.703125 7.8125 59.421875 \r\nL 7.8125 69.390625 \r\nQ 13.765625 71.78125 18.9375 73 \r\nQ 24.125 74.21875 28.421875 74.21875 \r\nQ 39.75 74.21875 46.484375 68.546875 \r\nQ 53.21875 62.890625 53.21875 53.421875 \r\nQ 53.21875 48.921875 51.53125 44.890625 \r\nQ 49.859375 40.875 45.40625 35.40625 \r\nQ 44.1875 33.984375 37.640625 27.21875 \r\nQ 31.109375 20.453125 19.1875 8.296875 \r\nz\r\n\" id=\"DejaVuSans-50\"/>\r\n      </defs>\r\n      <g transform=\"translate(151.41625 239.238437)scale(0.1 -0.1)\">\r\n       <use xlink:href=\"#DejaVuSans-50\"/>\r\n       <use x=\"63.623047\" xlink:href=\"#DejaVuSans-48\"/>\r\n       <use x=\"127.246094\" xlink:href=\"#DejaVuSans-48\"/>\r\n      </g>\r\n     </g>\r\n    </g>\r\n    <g id=\"xtick_4\">\r\n     <g id=\"line2d_4\">\r\n      <g>\r\n       <use style=\"stroke:#000000;stroke-width:0.8;\" x=\"220.365747\" xlink:href=\"#md2c96018db\" y=\"224.64\"/>\r\n      </g>\r\n     </g>\r\n     <g id=\"text_4\">\r\n      <!-- 300 -->\r\n      <defs>\r\n       <path d=\"M 40.578125 39.3125 \r\nQ 47.65625 37.796875 51.625 33 \r\nQ 55.609375 28.21875 55.609375 21.1875 \r\nQ 55.609375 10.40625 48.1875 4.484375 \r\nQ 40.765625 -1.421875 27.09375 -1.421875 \r\nQ 22.515625 -1.421875 17.65625 -0.515625 \r\nQ 12.796875 0.390625 7.625 2.203125 \r\nL 7.625 11.71875 \r\nQ 11.71875 9.328125 16.59375 8.109375 \r\nQ 21.484375 6.890625 26.8125 6.890625 \r\nQ 36.078125 6.890625 40.9375 10.546875 \r\nQ 45.796875 14.203125 45.796875 21.1875 \r\nQ 45.796875 27.640625 41.28125 31.265625 \r\nQ 36.765625 34.90625 28.71875 34.90625 \r\nL 20.21875 34.90625 \r\nL 20.21875 43.015625 \r\nL 29.109375 43.015625 \r\nQ 36.375 43.015625 40.234375 45.921875 \r\nQ 44.09375 48.828125 44.09375 54.296875 \r\nQ 44.09375 59.90625 40.109375 62.90625 \r\nQ 36.140625 65.921875 28.71875 65.921875 \r\nQ 24.65625 65.921875 20.015625 65.03125 \r\nQ 15.375 64.15625 9.8125 62.3125 \r\nL 9.8125 71.09375 \r\nQ 15.4375 72.65625 20.34375 73.4375 \r\nQ 25.25 74.21875 29.59375 74.21875 \r\nQ 40.828125 74.21875 47.359375 69.109375 \r\nQ 53.90625 64.015625 53.90625 55.328125 \r\nQ 53.90625 49.265625 50.4375 45.09375 \r\nQ 46.96875 40.921875 40.578125 39.3125 \r\nz\r\n\" id=\"DejaVuSans-51\"/>\r\n      </defs>\r\n      <g transform=\"translate(210.821997 239.238437)scale(0.1 -0.1)\">\r\n       <use xlink:href=\"#DejaVuSans-51\"/>\r\n       <use x=\"63.623047\" xlink:href=\"#DejaVuSans-48\"/>\r\n       <use x=\"127.246094\" xlink:href=\"#DejaVuSans-48\"/>\r\n      </g>\r\n     </g>\r\n    </g>\r\n    <g id=\"xtick_5\">\r\n     <g id=\"line2d_5\">\r\n      <g>\r\n       <use style=\"stroke:#000000;stroke-width:0.8;\" x=\"279.771494\" xlink:href=\"#md2c96018db\" y=\"224.64\"/>\r\n      </g>\r\n     </g>\r\n     <g id=\"text_5\">\r\n      <!-- 400 -->\r\n      <defs>\r\n       <path d=\"M 37.796875 64.3125 \r\nL 12.890625 25.390625 \r\nL 37.796875 25.390625 \r\nz\r\nM 35.203125 72.90625 \r\nL 47.609375 72.90625 \r\nL 47.609375 25.390625 \r\nL 58.015625 25.390625 \r\nL 58.015625 17.1875 \r\nL 47.609375 17.1875 \r\nL 47.609375 0 \r\nL 37.796875 0 \r\nL 37.796875 17.1875 \r\nL 4.890625 17.1875 \r\nL 4.890625 26.703125 \r\nz\r\n\" id=\"DejaVuSans-52\"/>\r\n      </defs>\r\n      <g transform=\"translate(270.227744 239.238437)scale(0.1 -0.1)\">\r\n       <use xlink:href=\"#DejaVuSans-52\"/>\r\n       <use x=\"63.623047\" xlink:href=\"#DejaVuSans-48\"/>\r\n       <use x=\"127.246094\" xlink:href=\"#DejaVuSans-48\"/>\r\n      </g>\r\n     </g>\r\n    </g>\r\n    <g id=\"xtick_6\">\r\n     <g id=\"line2d_6\">\r\n      <g>\r\n       <use style=\"stroke:#000000;stroke-width:0.8;\" x=\"339.177242\" xlink:href=\"#md2c96018db\" y=\"224.64\"/>\r\n      </g>\r\n     </g>\r\n     <g id=\"text_6\">\r\n      <!-- 500 -->\r\n      <defs>\r\n       <path d=\"M 10.796875 72.90625 \r\nL 49.515625 72.90625 \r\nL 49.515625 64.59375 \r\nL 19.828125 64.59375 \r\nL 19.828125 46.734375 \r\nQ 21.96875 47.46875 24.109375 47.828125 \r\nQ 26.265625 48.1875 28.421875 48.1875 \r\nQ 40.625 48.1875 47.75 41.5 \r\nQ 54.890625 34.8125 54.890625 23.390625 \r\nQ 54.890625 11.625 47.5625 5.09375 \r\nQ 40.234375 -1.421875 26.90625 -1.421875 \r\nQ 22.3125 -1.421875 17.546875 -0.640625 \r\nQ 12.796875 0.140625 7.71875 1.703125 \r\nL 7.71875 11.625 \r\nQ 12.109375 9.234375 16.796875 8.0625 \r\nQ 21.484375 6.890625 26.703125 6.890625 \r\nQ 35.15625 6.890625 40.078125 11.328125 \r\nQ 45.015625 15.765625 45.015625 23.390625 \r\nQ 45.015625 31 40.078125 35.4375 \r\nQ 35.15625 39.890625 26.703125 39.890625 \r\nQ 22.75 39.890625 18.8125 39.015625 \r\nQ 14.890625 38.140625 10.796875 36.28125 \r\nz\r\n\" id=\"DejaVuSans-53\"/>\r\n      </defs>\r\n      <g transform=\"translate(329.633492 239.238437)scale(0.1 -0.1)\">\r\n       <use xlink:href=\"#DejaVuSans-53\"/>\r\n       <use x=\"63.623047\" xlink:href=\"#DejaVuSans-48\"/>\r\n       <use x=\"127.246094\" xlink:href=\"#DejaVuSans-48\"/>\r\n      </g>\r\n     </g>\r\n    </g>\r\n   </g>\r\n   <g id=\"matplotlib.axis_2\">\r\n    <g id=\"ytick_1\">\r\n     <g id=\"line2d_7\">\r\n      <defs>\r\n       <path d=\"M 0 0 \r\nL -3.5 0 \r\n\" id=\"mb61c93b72b\" style=\"stroke:#000000;stroke-width:0.8;\"/>\r\n      </defs>\r\n      <g>\r\n       <use style=\"stroke:#000000;stroke-width:0.8;\" x=\"26.925\" xlink:href=\"#mb61c93b72b\" y=\"215.765002\"/>\r\n      </g>\r\n     </g>\r\n     <g id=\"text_7\">\r\n      <!-- 0 -->\r\n      <g transform=\"translate(13.5625 219.564221)scale(0.1 -0.1)\">\r\n       <use xlink:href=\"#DejaVuSans-48\"/>\r\n      </g>\r\n     </g>\r\n    </g>\r\n    <g id=\"ytick_2\">\r\n     <g id=\"line2d_8\">\r\n      <g>\r\n       <use style=\"stroke:#000000;stroke-width:0.8;\" x=\"26.925\" xlink:href=\"#mb61c93b72b\" y=\"190.934114\"/>\r\n      </g>\r\n     </g>\r\n     <g id=\"text_8\">\r\n      <!-- 10 -->\r\n      <g transform=\"translate(7.2 194.733332)scale(0.1 -0.1)\">\r\n       <use xlink:href=\"#DejaVuSans-49\"/>\r\n       <use x=\"63.623047\" xlink:href=\"#DejaVuSans-48\"/>\r\n      </g>\r\n     </g>\r\n    </g>\r\n    <g id=\"ytick_3\">\r\n     <g id=\"line2d_9\">\r\n      <g>\r\n       <use style=\"stroke:#000000;stroke-width:0.8;\" x=\"26.925\" xlink:href=\"#mb61c93b72b\" y=\"166.103225\"/>\r\n      </g>\r\n     </g>\r\n     <g id=\"text_9\">\r\n      <!-- 20 -->\r\n      <g transform=\"translate(7.2 169.902444)scale(0.1 -0.1)\">\r\n       <use xlink:href=\"#DejaVuSans-50\"/>\r\n       <use x=\"63.623047\" xlink:href=\"#DejaVuSans-48\"/>\r\n      </g>\r\n     </g>\r\n    </g>\r\n    <g id=\"ytick_4\">\r\n     <g id=\"line2d_10\">\r\n      <g>\r\n       <use style=\"stroke:#000000;stroke-width:0.8;\" x=\"26.925\" xlink:href=\"#mb61c93b72b\" y=\"141.272337\"/>\r\n      </g>\r\n     </g>\r\n     <g id=\"text_10\">\r\n      <!-- 30 -->\r\n      <g transform=\"translate(7.2 145.071556)scale(0.1 -0.1)\">\r\n       <use xlink:href=\"#DejaVuSans-51\"/>\r\n       <use x=\"63.623047\" xlink:href=\"#DejaVuSans-48\"/>\r\n      </g>\r\n     </g>\r\n    </g>\r\n    <g id=\"ytick_5\">\r\n     <g id=\"line2d_11\">\r\n      <g>\r\n       <use style=\"stroke:#000000;stroke-width:0.8;\" x=\"26.925\" xlink:href=\"#mb61c93b72b\" y=\"116.441449\"/>\r\n      </g>\r\n     </g>\r\n     <g id=\"text_11\">\r\n      <!-- 40 -->\r\n      <g transform=\"translate(7.2 120.240667)scale(0.1 -0.1)\">\r\n       <use xlink:href=\"#DejaVuSans-52\"/>\r\n       <use x=\"63.623047\" xlink:href=\"#DejaVuSans-48\"/>\r\n      </g>\r\n     </g>\r\n    </g>\r\n    <g id=\"ytick_6\">\r\n     <g id=\"line2d_12\">\r\n      <g>\r\n       <use style=\"stroke:#000000;stroke-width:0.8;\" x=\"26.925\" xlink:href=\"#mb61c93b72b\" y=\"91.61056\"/>\r\n      </g>\r\n     </g>\r\n     <g id=\"text_12\">\r\n      <!-- 50 -->\r\n      <g transform=\"translate(7.2 95.409779)scale(0.1 -0.1)\">\r\n       <use xlink:href=\"#DejaVuSans-53\"/>\r\n       <use x=\"63.623047\" xlink:href=\"#DejaVuSans-48\"/>\r\n      </g>\r\n     </g>\r\n    </g>\r\n    <g id=\"ytick_7\">\r\n     <g id=\"line2d_13\">\r\n      <g>\r\n       <use style=\"stroke:#000000;stroke-width:0.8;\" x=\"26.925\" xlink:href=\"#mb61c93b72b\" y=\"66.779672\"/>\r\n      </g>\r\n     </g>\r\n     <g id=\"text_13\">\r\n      <!-- 60 -->\r\n      <defs>\r\n       <path d=\"M 33.015625 40.375 \r\nQ 26.375 40.375 22.484375 35.828125 \r\nQ 18.609375 31.296875 18.609375 23.390625 \r\nQ 18.609375 15.53125 22.484375 10.953125 \r\nQ 26.375 6.390625 33.015625 6.390625 \r\nQ 39.65625 6.390625 43.53125 10.953125 \r\nQ 47.40625 15.53125 47.40625 23.390625 \r\nQ 47.40625 31.296875 43.53125 35.828125 \r\nQ 39.65625 40.375 33.015625 40.375 \r\nz\r\nM 52.59375 71.296875 \r\nL 52.59375 62.3125 \r\nQ 48.875 64.0625 45.09375 64.984375 \r\nQ 41.3125 65.921875 37.59375 65.921875 \r\nQ 27.828125 65.921875 22.671875 59.328125 \r\nQ 17.53125 52.734375 16.796875 39.40625 \r\nQ 19.671875 43.65625 24.015625 45.921875 \r\nQ 28.375 48.1875 33.59375 48.1875 \r\nQ 44.578125 48.1875 50.953125 41.515625 \r\nQ 57.328125 34.859375 57.328125 23.390625 \r\nQ 57.328125 12.15625 50.6875 5.359375 \r\nQ 44.046875 -1.421875 33.015625 -1.421875 \r\nQ 20.359375 -1.421875 13.671875 8.265625 \r\nQ 6.984375 17.96875 6.984375 36.375 \r\nQ 6.984375 53.65625 15.1875 63.9375 \r\nQ 23.390625 74.21875 37.203125 74.21875 \r\nQ 40.921875 74.21875 44.703125 73.484375 \r\nQ 48.484375 72.75 52.59375 71.296875 \r\nz\r\n\" id=\"DejaVuSans-54\"/>\r\n      </defs>\r\n      <g transform=\"translate(7.2 70.578891)scale(0.1 -0.1)\">\r\n       <use xlink:href=\"#DejaVuSans-54\"/>\r\n       <use x=\"63.623047\" xlink:href=\"#DejaVuSans-48\"/>\r\n      </g>\r\n     </g>\r\n    </g>\r\n    <g id=\"ytick_8\">\r\n     <g id=\"line2d_14\">\r\n      <g>\r\n       <use style=\"stroke:#000000;stroke-width:0.8;\" x=\"26.925\" xlink:href=\"#mb61c93b72b\" y=\"41.948784\"/>\r\n      </g>\r\n     </g>\r\n     <g id=\"text_14\">\r\n      <!-- 70 -->\r\n      <defs>\r\n       <path d=\"M 8.203125 72.90625 \r\nL 55.078125 72.90625 \r\nL 55.078125 68.703125 \r\nL 28.609375 0 \r\nL 18.3125 0 \r\nL 43.21875 64.59375 \r\nL 8.203125 64.59375 \r\nz\r\n\" id=\"DejaVuSans-55\"/>\r\n      </defs>\r\n      <g transform=\"translate(7.2 45.748002)scale(0.1 -0.1)\">\r\n       <use xlink:href=\"#DejaVuSans-55\"/>\r\n       <use x=\"63.623047\" xlink:href=\"#DejaVuSans-48\"/>\r\n      </g>\r\n     </g>\r\n    </g>\r\n    <g id=\"ytick_9\">\r\n     <g id=\"line2d_15\">\r\n      <g>\r\n       <use style=\"stroke:#000000;stroke-width:0.8;\" x=\"26.925\" xlink:href=\"#mb61c93b72b\" y=\"17.117895\"/>\r\n      </g>\r\n     </g>\r\n     <g id=\"text_15\">\r\n      <!-- 80 -->\r\n      <defs>\r\n       <path d=\"M 31.78125 34.625 \r\nQ 24.75 34.625 20.71875 30.859375 \r\nQ 16.703125 27.09375 16.703125 20.515625 \r\nQ 16.703125 13.921875 20.71875 10.15625 \r\nQ 24.75 6.390625 31.78125 6.390625 \r\nQ 38.8125 6.390625 42.859375 10.171875 \r\nQ 46.921875 13.96875 46.921875 20.515625 \r\nQ 46.921875 27.09375 42.890625 30.859375 \r\nQ 38.875 34.625 31.78125 34.625 \r\nz\r\nM 21.921875 38.8125 \r\nQ 15.578125 40.375 12.03125 44.71875 \r\nQ 8.5 49.078125 8.5 55.328125 \r\nQ 8.5 64.0625 14.71875 69.140625 \r\nQ 20.953125 74.21875 31.78125 74.21875 \r\nQ 42.671875 74.21875 48.875 69.140625 \r\nQ 55.078125 64.0625 55.078125 55.328125 \r\nQ 55.078125 49.078125 51.53125 44.71875 \r\nQ 48 40.375 41.703125 38.8125 \r\nQ 48.828125 37.15625 52.796875 32.3125 \r\nQ 56.78125 27.484375 56.78125 20.515625 \r\nQ 56.78125 9.90625 50.3125 4.234375 \r\nQ 43.84375 -1.421875 31.78125 -1.421875 \r\nQ 19.734375 -1.421875 13.25 4.234375 \r\nQ 6.78125 9.90625 6.78125 20.515625 \r\nQ 6.78125 27.484375 10.78125 32.3125 \r\nQ 14.796875 37.15625 21.921875 38.8125 \r\nz\r\nM 18.3125 54.390625 \r\nQ 18.3125 48.734375 21.84375 45.5625 \r\nQ 25.390625 42.390625 31.78125 42.390625 \r\nQ 38.140625 42.390625 41.71875 45.5625 \r\nQ 45.3125 48.734375 45.3125 54.390625 \r\nQ 45.3125 60.0625 41.71875 63.234375 \r\nQ 38.140625 66.40625 31.78125 66.40625 \r\nQ 25.390625 66.40625 21.84375 63.234375 \r\nQ 18.3125 60.0625 18.3125 54.390625 \r\nz\r\n\" id=\"DejaVuSans-56\"/>\r\n      </defs>\r\n      <g transform=\"translate(7.2 20.917114)scale(0.1 -0.1)\">\r\n       <use xlink:href=\"#DejaVuSans-56\"/>\r\n       <use x=\"63.623047\" xlink:href=\"#DejaVuSans-48\"/>\r\n      </g>\r\n     </g>\r\n    </g>\r\n   </g>\r\n   <g id=\"patch_3\">\r\n    <path d=\"M 26.925 224.64 \r\nL 26.925 7.2 \r\n\" style=\"fill:none;stroke:#000000;stroke-linecap:square;stroke-linejoin:miter;stroke-width:0.8;\"/>\r\n   </g>\r\n   <g id=\"patch_4\">\r\n    <path d=\"M 361.725 224.64 \r\nL 361.725 7.2 \r\n\" style=\"fill:none;stroke:#000000;stroke-linecap:square;stroke-linejoin:miter;stroke-width:0.8;\"/>\r\n   </g>\r\n   <g id=\"patch_5\">\r\n    <path d=\"M 26.925 224.64 \r\nL 361.725 224.64 \r\n\" style=\"fill:none;stroke:#000000;stroke-linecap:square;stroke-linejoin:miter;stroke-width:0.8;\"/>\r\n   </g>\r\n   <g id=\"patch_6\">\r\n    <path d=\"M 26.925 7.2 \r\nL 361.725 7.2 \r\n\" style=\"fill:none;stroke:#000000;stroke-linecap:square;stroke-linejoin:miter;stroke-width:0.8;\"/>\r\n   </g>\r\n  </g>\r\n </g>\r\n <defs>\r\n  <clipPath id=\"p642404fdf6\">\r\n   <rect height=\"217.44\" width=\"334.8\" x=\"26.925\" y=\"7.2\"/>\r\n  </clipPath>\r\n </defs>\r\n</svg>\r\n",
      "image/png": "[encoded data removed]"
     },
     "metadata": {
      "needs_background": "light"
     }
    }
   ],
   "source": [
    "fig8 = plt.scatter(train['Fare'], train['Age'], c=train['Survived'], cmap=\"PuOr\")\n",
    "fig8"
   ]
  },
  {
   "cell_type": "code",
   "execution_count": 25,
   "metadata": {},
   "outputs": [
    {
     "output_type": "execute_result",
     "data": {
      "text/plain": "<seaborn.axisgrid.FacetGrid at 0x2ad39d699c8>"
     },
     "metadata": {},
     "execution_count": 25
    },
    {
     "output_type": "display_data",
     "data": {
      "text/plain": "<Figure size 432x432 with 4 Axes>",
      "image/svg+xml": "<?xml version=\"1.0\" encoding=\"utf-8\" standalone=\"no\"?>\r\n<!DOCTYPE svg PUBLIC \"-//W3C//DTD SVG 1.1//EN\"\r\n  \"http://www.w3.org/Graphics/SVG/1.1/DTD/svg11.dtd\">\r\n<!-- Created with matplotlib (https://matplotlib.org/) -->\r\n<svg height=\"422.244219pt\" version=\"1.1\" viewBox=\"0 0 421.590632 422.244219\" width=\"421.590632pt\" xmlns=\"http://www.w3.org/2000/svg\" xmlns:xlink=\"http://www.w3.org/1999/xlink\">\r\n <defs>\r\n  <style type=\"text/css\">\r\n*{stroke-linecap:butt;stroke-linejoin:round;}\r\n  </style>\r\n </defs>\r\n <g id=\"figure_1\">\r\n  <g id=\"patch_1\">\r\n   <path d=\"M 0 422.244219 \r\nL 421.590632 422.244219 \r\nL 421.590632 0 \r\nL 0 0 \r\nz\r\n\" style=\"fill:#ffffff;\"/>\r\n  </g>\r\n  <g id=\"axes_1\">\r\n   <g id=\"patch_2\">\r\n    <path d=\"M 35.051094 191.599375 \r\nL 210.994244 191.599375 \r\nL 210.994244 21.789375 \r\nL 35.051094 21.789375 \r\nz\r\n\" style=\"fill:#eaeaf2;\"/>\r\n   </g>\r\n   <g id=\"matplotlib.axis_1\">\r\n    <g id=\"xtick_1\">\r\n     <g id=\"line2d_1\">\r\n      <path clip-path=\"url(#pbc725dd67b)\" d=\"M 43.04851 191.599375 \r\nL 43.04851 21.789375 \r\n\" style=\"fill:none;stroke:#ffffff;stroke-linecap:round;\"/>\r\n     </g>\r\n    </g>\r\n    <g id=\"xtick_2\">\r\n     <g id=\"line2d_2\">\r\n      <path clip-path=\"url(#pbc725dd67b)\" d=\"M 96.364616 191.599375 \r\nL 96.364616 21.789375 \r\n\" style=\"fill:none;stroke:#ffffff;stroke-linecap:round;\"/>\r\n     </g>\r\n    </g>\r\n    <g id=\"xtick_3\">\r\n     <g id=\"line2d_3\">\r\n      <path clip-path=\"url(#pbc725dd67b)\" d=\"M 149.680722 191.599375 \r\nL 149.680722 21.789375 \r\n\" style=\"fill:none;stroke:#ffffff;stroke-linecap:round;\"/>\r\n     </g>\r\n    </g>\r\n    <g id=\"xtick_4\">\r\n     <g id=\"line2d_4\">\r\n      <path clip-path=\"url(#pbc725dd67b)\" d=\"M 202.996828 191.599375 \r\nL 202.996828 21.789375 \r\n\" style=\"fill:none;stroke:#ffffff;stroke-linecap:round;\"/>\r\n     </g>\r\n    </g>\r\n   </g>\r\n   <g id=\"matplotlib.axis_2\">\r\n    <g id=\"ytick_1\">\r\n     <g id=\"line2d_5\">\r\n      <path clip-path=\"url(#pbc725dd67b)\" d=\"M 35.051094 191.599375 \r\nL 210.994244 191.599375 \r\n\" style=\"fill:none;stroke:#ffffff;stroke-linecap:round;\"/>\r\n     </g>\r\n     <g id=\"text_1\">\r\n      <!-- 0 -->\r\n      <defs>\r\n       <path d=\"M 4.15625 35.296875 \r\nQ 4.15625 48 6.765625 55.734375 \r\nQ 9.375 63.484375 14.515625 67.671875 \r\nQ 19.671875 71.875 27.484375 71.875 \r\nQ 33.25 71.875 37.59375 69.546875 \r\nQ 41.9375 67.234375 44.765625 62.859375 \r\nQ 47.609375 58.5 49.21875 52.21875 \r\nQ 50.828125 45.953125 50.828125 35.296875 \r\nQ 50.828125 22.703125 48.234375 14.96875 \r\nQ 45.65625 7.234375 40.5 3 \r\nQ 35.359375 -1.21875 27.484375 -1.21875 \r\nQ 17.140625 -1.21875 11.234375 6.203125 \r\nQ 4.15625 15.140625 4.15625 35.296875 \r\nz\r\nM 13.1875 35.296875 \r\nQ 13.1875 17.671875 17.3125 11.828125 \r\nQ 21.4375 6 27.484375 6 \r\nQ 33.546875 6 37.671875 11.859375 \r\nQ 41.796875 17.71875 41.796875 35.296875 \r\nQ 41.796875 52.984375 37.671875 58.78125 \r\nQ 33.546875 64.59375 27.390625 64.59375 \r\nQ 21.34375 64.59375 17.71875 59.46875 \r\nQ 13.1875 52.9375 13.1875 35.296875 \r\nz\r\n\" id=\"ArialMT-48\"/>\r\n      </defs>\r\n      <g style=\"fill:#262626;\" transform=\"translate(19.434062 195.536172)scale(0.11 -0.11)\">\r\n       <use xlink:href=\"#ArialMT-48\"/>\r\n      </g>\r\n     </g>\r\n    </g>\r\n    <g id=\"ytick_2\">\r\n     <g id=\"line2d_6\">\r\n      <path clip-path=\"url(#pbc725dd67b)\" d=\"M 35.051094 167.24338 \r\nL 210.994244 167.24338 \r\n\" style=\"fill:none;stroke:#ffffff;stroke-linecap:round;\"/>\r\n     </g>\r\n     <g id=\"text_2\">\r\n      <!-- 25 -->\r\n      <defs>\r\n       <path d=\"M 50.34375 8.453125 \r\nL 50.34375 0 \r\nL 3.03125 0 \r\nQ 2.9375 3.171875 4.046875 6.109375 \r\nQ 5.859375 10.9375 9.828125 15.625 \r\nQ 13.8125 20.3125 21.34375 26.46875 \r\nQ 33.015625 36.03125 37.109375 41.625 \r\nQ 41.21875 47.21875 41.21875 52.203125 \r\nQ 41.21875 57.421875 37.46875 61 \r\nQ 33.734375 64.59375 27.734375 64.59375 \r\nQ 21.390625 64.59375 17.578125 60.78125 \r\nQ 13.765625 56.984375 13.71875 50.25 \r\nL 4.6875 51.171875 \r\nQ 5.609375 61.28125 11.65625 66.578125 \r\nQ 17.71875 71.875 27.9375 71.875 \r\nQ 38.234375 71.875 44.234375 66.15625 \r\nQ 50.25 60.453125 50.25 52 \r\nQ 50.25 47.703125 48.484375 43.546875 \r\nQ 46.734375 39.40625 42.65625 34.8125 \r\nQ 38.578125 30.21875 29.109375 22.21875 \r\nQ 21.1875 15.578125 18.9375 13.203125 \r\nQ 16.703125 10.84375 15.234375 8.453125 \r\nz\r\n\" id=\"ArialMT-50\"/>\r\n       <path d=\"M 4.15625 18.75 \r\nL 13.375 19.53125 \r\nQ 14.40625 12.796875 18.140625 9.390625 \r\nQ 21.875 6 27.15625 6 \r\nQ 33.5 6 37.890625 10.78125 \r\nQ 42.28125 15.578125 42.28125 23.484375 \r\nQ 42.28125 31 38.0625 35.34375 \r\nQ 33.84375 39.703125 27 39.703125 \r\nQ 22.75 39.703125 19.328125 37.765625 \r\nQ 15.921875 35.84375 13.96875 32.765625 \r\nL 5.71875 33.84375 \r\nL 12.640625 70.609375 \r\nL 48.25 70.609375 \r\nL 48.25 62.203125 \r\nL 19.671875 62.203125 \r\nL 15.828125 42.96875 \r\nQ 22.265625 47.46875 29.34375 47.46875 \r\nQ 38.71875 47.46875 45.15625 40.96875 \r\nQ 51.609375 34.46875 51.609375 24.265625 \r\nQ 51.609375 14.546875 45.953125 7.46875 \r\nQ 39.0625 -1.21875 27.15625 -1.21875 \r\nQ 17.390625 -1.21875 11.203125 4.25 \r\nQ 5.03125 9.71875 4.15625 18.75 \r\nz\r\n\" id=\"ArialMT-53\"/>\r\n      </defs>\r\n      <g style=\"fill:#262626;\" transform=\"translate(13.317031 171.180176)scale(0.11 -0.11)\">\r\n       <use xlink:href=\"#ArialMT-50\"/>\r\n       <use x=\"55.615234\" xlink:href=\"#ArialMT-53\"/>\r\n      </g>\r\n     </g>\r\n    </g>\r\n    <g id=\"ytick_3\">\r\n     <g id=\"line2d_7\">\r\n      <path clip-path=\"url(#pbc725dd67b)\" d=\"M 35.051094 142.887384 \r\nL 210.994244 142.887384 \r\n\" style=\"fill:none;stroke:#ffffff;stroke-linecap:round;\"/>\r\n     </g>\r\n     <g id=\"text_3\">\r\n      <!-- 50 -->\r\n      <g style=\"fill:#262626;\" transform=\"translate(13.317031 146.824181)scale(0.11 -0.11)\">\r\n       <use xlink:href=\"#ArialMT-53\"/>\r\n       <use x=\"55.615234\" xlink:href=\"#ArialMT-48\"/>\r\n      </g>\r\n     </g>\r\n    </g>\r\n    <g id=\"ytick_4\">\r\n     <g id=\"line2d_8\">\r\n      <path clip-path=\"url(#pbc725dd67b)\" d=\"M 35.051094 118.531389 \r\nL 210.994244 118.531389 \r\n\" style=\"fill:none;stroke:#ffffff;stroke-linecap:round;\"/>\r\n     </g>\r\n     <g id=\"text_4\">\r\n      <!-- 75 -->\r\n      <defs>\r\n       <path d=\"M 4.734375 62.203125 \r\nL 4.734375 70.65625 \r\nL 51.078125 70.65625 \r\nL 51.078125 63.8125 \r\nQ 44.234375 56.546875 37.515625 44.484375 \r\nQ 30.8125 32.421875 27.15625 19.671875 \r\nQ 24.515625 10.6875 23.78125 0 \r\nL 14.75 0 \r\nQ 14.890625 8.453125 18.0625 20.40625 \r\nQ 21.234375 32.375 27.171875 43.484375 \r\nQ 33.109375 54.59375 39.796875 62.203125 \r\nz\r\n\" id=\"ArialMT-55\"/>\r\n      </defs>\r\n      <g style=\"fill:#262626;\" transform=\"translate(13.317031 122.468186)scale(0.11 -0.11)\">\r\n       <use xlink:href=\"#ArialMT-55\"/>\r\n       <use x=\"55.615234\" xlink:href=\"#ArialMT-53\"/>\r\n      </g>\r\n     </g>\r\n    </g>\r\n    <g id=\"ytick_5\">\r\n     <g id=\"line2d_9\">\r\n      <path clip-path=\"url(#pbc725dd67b)\" d=\"M 35.051094 94.175393 \r\nL 210.994244 94.175393 \r\n\" style=\"fill:none;stroke:#ffffff;stroke-linecap:round;\"/>\r\n     </g>\r\n     <g id=\"text_5\">\r\n      <!-- 100 -->\r\n      <defs>\r\n       <path d=\"M 37.25 0 \r\nL 28.46875 0 \r\nL 28.46875 56 \r\nQ 25.296875 52.984375 20.140625 49.953125 \r\nQ 14.984375 46.921875 10.890625 45.40625 \r\nL 10.890625 53.90625 \r\nQ 18.265625 57.375 23.78125 62.296875 \r\nQ 29.296875 67.234375 31.59375 71.875 \r\nL 37.25 71.875 \r\nz\r\n\" id=\"ArialMT-49\"/>\r\n      </defs>\r\n      <g style=\"fill:#262626;\" transform=\"translate(7.2 98.11219)scale(0.11 -0.11)\">\r\n       <use xlink:href=\"#ArialMT-49\"/>\r\n       <use x=\"55.615234\" xlink:href=\"#ArialMT-48\"/>\r\n       <use x=\"111.230469\" xlink:href=\"#ArialMT-48\"/>\r\n      </g>\r\n     </g>\r\n    </g>\r\n    <g id=\"ytick_6\">\r\n     <g id=\"line2d_10\">\r\n      <path clip-path=\"url(#pbc725dd67b)\" d=\"M 35.051094 69.819398 \r\nL 210.994244 69.819398 \r\n\" style=\"fill:none;stroke:#ffffff;stroke-linecap:round;\"/>\r\n     </g>\r\n     <g id=\"text_6\">\r\n      <!-- 125 -->\r\n      <g style=\"fill:#262626;\" transform=\"translate(7.2 73.756195)scale(0.11 -0.11)\">\r\n       <use xlink:href=\"#ArialMT-49\"/>\r\n       <use x=\"55.615234\" xlink:href=\"#ArialMT-50\"/>\r\n       <use x=\"111.230469\" xlink:href=\"#ArialMT-53\"/>\r\n      </g>\r\n     </g>\r\n    </g>\r\n    <g id=\"ytick_7\">\r\n     <g id=\"line2d_11\">\r\n      <path clip-path=\"url(#pbc725dd67b)\" d=\"M 35.051094 45.463403 \r\nL 210.994244 45.463403 \r\n\" style=\"fill:none;stroke:#ffffff;stroke-linecap:round;\"/>\r\n     </g>\r\n     <g id=\"text_7\">\r\n      <!-- 150 -->\r\n      <g style=\"fill:#262626;\" transform=\"translate(7.2 49.400199)scale(0.11 -0.11)\">\r\n       <use xlink:href=\"#ArialMT-49\"/>\r\n       <use x=\"55.615234\" xlink:href=\"#ArialMT-53\"/>\r\n       <use x=\"111.230469\" xlink:href=\"#ArialMT-48\"/>\r\n      </g>\r\n     </g>\r\n    </g>\r\n   </g>\r\n   <g id=\"patch_3\">\r\n    <path clip-path=\"url(#pbc725dd67b)\" d=\"M 43.04851 191.599375 \r\nL 56.377536 191.599375 \r\nL 56.377536 183.805456 \r\nL 43.04851 183.805456 \r\nz\r\n\" style=\"fill:#ffc0cb;stroke:#ffffff;stroke-linejoin:miter;\"/>\r\n   </g>\r\n   <g id=\"patch_4\">\r\n    <path clip-path=\"url(#pbc725dd67b)\" d=\"M 56.377536 191.599375 \r\nL 69.706563 191.599375 \r\nL 69.706563 186.728176 \r\nL 56.377536 186.728176 \r\nz\r\n\" style=\"fill:#ffc0cb;stroke:#ffffff;stroke-linejoin:miter;\"/>\r\n   </g>\r\n   <g id=\"patch_5\">\r\n    <path clip-path=\"url(#pbc725dd67b)\" d=\"M 69.706563 191.599375 \r\nL 83.035589 191.599375 \r\nL 83.035589 186.728176 \r\nL 69.706563 186.728176 \r\nz\r\n\" style=\"fill:#ffc0cb;stroke:#ffffff;stroke-linejoin:miter;\"/>\r\n   </g>\r\n   <g id=\"patch_6\">\r\n    <path clip-path=\"url(#pbc725dd67b)\" d=\"M 83.035589 191.599375 \r\nL 96.364616 191.599375 \r\nL 96.364616 147.758583 \r\nL 83.035589 147.758583 \r\nz\r\n\" style=\"fill:#ffc0cb;stroke:#ffffff;stroke-linejoin:miter;\"/>\r\n   </g>\r\n   <g id=\"patch_7\">\r\n    <path clip-path=\"url(#pbc725dd67b)\" d=\"M 96.364616 191.599375 \r\nL 109.693642 191.599375 \r\nL 109.693642 128.273787 \r\nL 96.364616 128.273787 \r\nz\r\n\" style=\"fill:#ffc0cb;stroke:#ffffff;stroke-linejoin:miter;\"/>\r\n   </g>\r\n   <g id=\"patch_8\">\r\n    <path clip-path=\"url(#pbc725dd67b)\" d=\"M 109.693642 191.599375 \r\nL 123.022669 191.599375 \r\nL 123.022669 29.875565 \r\nL 109.693642 29.875565 \r\nz\r\n\" style=\"fill:#ffc0cb;stroke:#ffffff;stroke-linejoin:miter;\"/>\r\n   </g>\r\n   <g id=\"patch_9\">\r\n    <path clip-path=\"url(#pbc725dd67b)\" d=\"M 123.022669 191.599375 \r\nL 136.351695 191.599375 \r\nL 136.351695 143.861624 \r\nL 123.022669 143.861624 \r\nz\r\n\" style=\"fill:#ffc0cb;stroke:#ffffff;stroke-linejoin:miter;\"/>\r\n   </g>\r\n   <g id=\"patch_10\">\r\n    <path clip-path=\"url(#pbc725dd67b)\" d=\"M 136.351695 191.599375 \r\nL 149.680722 191.599375 \r\nL 149.680722 157.500981 \r\nL 136.351695 157.500981 \r\nz\r\n\" style=\"fill:#ffc0cb;stroke:#ffffff;stroke-linejoin:miter;\"/>\r\n   </g>\r\n   <g id=\"patch_11\">\r\n    <path clip-path=\"url(#pbc725dd67b)\" d=\"M 149.680722 191.599375 \r\nL 163.009748 191.599375 \r\nL 163.009748 167.24338 \r\nL 149.680722 167.24338 \r\nz\r\n\" style=\"fill:#ffc0cb;stroke:#ffffff;stroke-linejoin:miter;\"/>\r\n   </g>\r\n   <g id=\"patch_12\">\r\n    <path clip-path=\"url(#pbc725dd67b)\" d=\"M 163.009748 191.599375 \r\nL 176.338775 191.599375 \r\nL 176.338775 172.114579 \r\nL 163.009748 172.114579 \r\nz\r\n\" style=\"fill:#ffc0cb;stroke:#ffffff;stroke-linejoin:miter;\"/>\r\n   </g>\r\n   <g id=\"patch_13\">\r\n    <path clip-path=\"url(#pbc725dd67b)\" d=\"M 176.338775 191.599375 \r\nL 189.667801 191.599375 \r\nL 189.667801 175.037298 \r\nL 176.338775 175.037298 \r\nz\r\n\" style=\"fill:#ffc0cb;stroke:#ffffff;stroke-linejoin:miter;\"/>\r\n   </g>\r\n   <g id=\"patch_14\">\r\n    <path clip-path=\"url(#pbc725dd67b)\" d=\"M 189.667801 191.599375 \r\nL 202.996828 191.599375 \r\nL 202.996828 180.882737 \r\nL 189.667801 180.882737 \r\nz\r\n\" style=\"fill:#ffc0cb;stroke:#ffffff;stroke-linejoin:miter;\"/>\r\n   </g>\r\n   <g id=\"patch_15\">\r\n    <path d=\"M 35.051094 191.599375 \r\nL 35.051094 21.789375 \r\n\" style=\"fill:none;stroke:#ffffff;stroke-linecap:square;stroke-linejoin:miter;stroke-width:1.25;\"/>\r\n   </g>\r\n   <g id=\"patch_16\">\r\n    <path d=\"M 35.051094 191.599375 \r\nL 210.994244 191.599375 \r\n\" style=\"fill:none;stroke:#ffffff;stroke-linecap:square;stroke-linejoin:miter;stroke-width:1.25;\"/>\r\n   </g>\r\n   <g id=\"text_8\">\r\n    <!-- Survived = 0 -->\r\n    <defs>\r\n     <path d=\"M 4.5 23 \r\nL 13.421875 23.78125 \r\nQ 14.0625 18.40625 16.375 14.96875 \r\nQ 18.703125 11.53125 23.578125 9.40625 \r\nQ 28.46875 7.28125 34.578125 7.28125 \r\nQ 39.984375 7.28125 44.140625 8.890625 \r\nQ 48.296875 10.5 50.3125 13.296875 \r\nQ 52.34375 16.109375 52.34375 19.4375 \r\nQ 52.34375 22.796875 50.390625 25.3125 \r\nQ 48.4375 27.828125 43.953125 29.546875 \r\nQ 41.0625 30.671875 31.203125 33.03125 \r\nQ 21.34375 35.40625 17.390625 37.5 \r\nQ 12.25 40.1875 9.734375 44.15625 \r\nQ 7.234375 48.140625 7.234375 53.078125 \r\nQ 7.234375 58.5 10.296875 63.203125 \r\nQ 13.375 67.921875 19.28125 70.359375 \r\nQ 25.203125 72.796875 32.421875 72.796875 \r\nQ 40.375 72.796875 46.453125 70.234375 \r\nQ 52.546875 67.671875 55.8125 62.6875 \r\nQ 59.078125 57.71875 59.328125 51.421875 \r\nL 50.25 50.734375 \r\nQ 49.515625 57.515625 45.28125 60.984375 \r\nQ 41.0625 64.453125 32.8125 64.453125 \r\nQ 24.21875 64.453125 20.28125 61.296875 \r\nQ 16.359375 58.15625 16.359375 53.71875 \r\nQ 16.359375 49.859375 19.140625 47.359375 \r\nQ 21.875 44.875 33.421875 42.265625 \r\nQ 44.96875 39.65625 49.265625 37.703125 \r\nQ 55.515625 34.8125 58.484375 30.390625 \r\nQ 61.46875 25.984375 61.46875 20.21875 \r\nQ 61.46875 14.5 58.203125 9.4375 \r\nQ 54.9375 4.390625 48.796875 1.578125 \r\nQ 42.671875 -1.21875 35.015625 -1.21875 \r\nQ 25.296875 -1.21875 18.71875 1.609375 \r\nQ 12.15625 4.4375 8.421875 10.125 \r\nQ 4.6875 15.828125 4.5 23 \r\nz\r\n\" id=\"ArialMT-83\"/>\r\n     <path d=\"M 40.578125 0 \r\nL 40.578125 7.625 \r\nQ 34.515625 -1.171875 24.125 -1.171875 \r\nQ 19.53125 -1.171875 15.546875 0.578125 \r\nQ 11.578125 2.34375 9.640625 5 \r\nQ 7.71875 7.671875 6.9375 11.53125 \r\nQ 6.390625 14.109375 6.390625 19.734375 \r\nL 6.390625 51.859375 \r\nL 15.1875 51.859375 \r\nL 15.1875 23.09375 \r\nQ 15.1875 16.21875 15.71875 13.8125 \r\nQ 16.546875 10.359375 19.234375 8.375 \r\nQ 21.921875 6.390625 25.875 6.390625 \r\nQ 29.828125 6.390625 33.296875 8.421875 \r\nQ 36.765625 10.453125 38.203125 13.9375 \r\nQ 39.65625 17.4375 39.65625 24.078125 \r\nL 39.65625 51.859375 \r\nL 48.4375 51.859375 \r\nL 48.4375 0 \r\nz\r\n\" id=\"ArialMT-117\"/>\r\n     <path d=\"M 6.5 0 \r\nL 6.5 51.859375 \r\nL 14.40625 51.859375 \r\nL 14.40625 44 \r\nQ 17.4375 49.515625 20 51.265625 \r\nQ 22.5625 53.03125 25.640625 53.03125 \r\nQ 30.078125 53.03125 34.671875 50.203125 \r\nL 31.640625 42.046875 \r\nQ 28.421875 43.953125 25.203125 43.953125 \r\nQ 22.3125 43.953125 20.015625 42.21875 \r\nQ 17.71875 40.484375 16.75 37.40625 \r\nQ 15.28125 32.71875 15.28125 27.15625 \r\nL 15.28125 0 \r\nz\r\n\" id=\"ArialMT-114\"/>\r\n     <path d=\"M 21 0 \r\nL 1.265625 51.859375 \r\nL 10.546875 51.859375 \r\nL 21.6875 20.796875 \r\nQ 23.484375 15.765625 25 10.359375 \r\nQ 26.171875 14.453125 28.265625 20.21875 \r\nL 39.796875 51.859375 \r\nL 48.828125 51.859375 \r\nL 29.203125 0 \r\nz\r\n\" id=\"ArialMT-118\"/>\r\n     <path d=\"M 6.640625 61.46875 \r\nL 6.640625 71.578125 \r\nL 15.4375 71.578125 \r\nL 15.4375 61.46875 \r\nz\r\nM 6.640625 0 \r\nL 6.640625 51.859375 \r\nL 15.4375 51.859375 \r\nL 15.4375 0 \r\nz\r\n\" id=\"ArialMT-105\"/>\r\n     <path d=\"M 42.09375 16.703125 \r\nL 51.171875 15.578125 \r\nQ 49.03125 7.625 43.21875 3.21875 \r\nQ 37.40625 -1.171875 28.375 -1.171875 \r\nQ 17 -1.171875 10.328125 5.828125 \r\nQ 3.65625 12.84375 3.65625 25.484375 \r\nQ 3.65625 38.578125 10.390625 45.796875 \r\nQ 17.140625 53.03125 27.875 53.03125 \r\nQ 38.28125 53.03125 44.875 45.953125 \r\nQ 51.46875 38.875 51.46875 26.03125 \r\nQ 51.46875 25.25 51.421875 23.6875 \r\nL 12.75 23.6875 \r\nQ 13.234375 15.140625 17.578125 10.59375 \r\nQ 21.921875 6.0625 28.421875 6.0625 \r\nQ 33.25 6.0625 36.671875 8.59375 \r\nQ 40.09375 11.140625 42.09375 16.703125 \r\nz\r\nM 13.234375 30.90625 \r\nL 42.1875 30.90625 \r\nQ 41.609375 37.453125 38.875 40.71875 \r\nQ 34.671875 45.796875 27.984375 45.796875 \r\nQ 21.921875 45.796875 17.796875 41.75 \r\nQ 13.671875 37.703125 13.234375 30.90625 \r\nz\r\n\" id=\"ArialMT-101\"/>\r\n     <path d=\"M 40.234375 0 \r\nL 40.234375 6.546875 \r\nQ 35.296875 -1.171875 25.734375 -1.171875 \r\nQ 19.53125 -1.171875 14.328125 2.25 \r\nQ 9.125 5.671875 6.265625 11.796875 \r\nQ 3.421875 17.921875 3.421875 25.875 \r\nQ 3.421875 33.640625 6 39.96875 \r\nQ 8.59375 46.296875 13.765625 49.65625 \r\nQ 18.953125 53.03125 25.34375 53.03125 \r\nQ 30.03125 53.03125 33.6875 51.046875 \r\nQ 37.359375 49.078125 39.65625 45.90625 \r\nL 39.65625 71.578125 \r\nL 48.390625 71.578125 \r\nL 48.390625 0 \r\nz\r\nM 12.453125 25.875 \r\nQ 12.453125 15.921875 16.640625 10.984375 \r\nQ 20.84375 6.0625 26.5625 6.0625 \r\nQ 32.328125 6.0625 36.34375 10.765625 \r\nQ 40.375 15.484375 40.375 25.140625 \r\nQ 40.375 35.796875 36.265625 40.765625 \r\nQ 32.171875 45.75 26.171875 45.75 \r\nQ 20.3125 45.75 16.375 40.96875 \r\nQ 12.453125 36.1875 12.453125 25.875 \r\nz\r\n\" id=\"ArialMT-100\"/>\r\n     <path id=\"ArialMT-32\"/>\r\n     <path d=\"M 52.828125 42.09375 \r\nL 5.5625 42.09375 \r\nL 5.5625 50.296875 \r\nL 52.828125 50.296875 \r\nz\r\nM 52.828125 20.359375 \r\nL 5.5625 20.359375 \r\nL 5.5625 28.5625 \r\nL 52.828125 28.5625 \r\nz\r\n\" id=\"ArialMT-61\"/>\r\n    </defs>\r\n    <g style=\"fill:#262626;\" transform=\"translate(89.505169 15.789375)scale(0.12 -0.12)\">\r\n     <use xlink:href=\"#ArialMT-83\"/>\r\n     <use x=\"66.699219\" xlink:href=\"#ArialMT-117\"/>\r\n     <use x=\"122.314453\" xlink:href=\"#ArialMT-114\"/>\r\n     <use x=\"155.615234\" xlink:href=\"#ArialMT-118\"/>\r\n     <use x=\"205.615234\" xlink:href=\"#ArialMT-105\"/>\r\n     <use x=\"227.832031\" xlink:href=\"#ArialMT-118\"/>\r\n     <use x=\"277.832031\" xlink:href=\"#ArialMT-101\"/>\r\n     <use x=\"333.447266\" xlink:href=\"#ArialMT-100\"/>\r\n     <use x=\"389.0625\" xlink:href=\"#ArialMT-32\"/>\r\n     <use x=\"416.845703\" xlink:href=\"#ArialMT-61\"/>\r\n     <use x=\"475.244141\" xlink:href=\"#ArialMT-32\"/>\r\n     <use x=\"503.027344\" xlink:href=\"#ArialMT-48\"/>\r\n    </g>\r\n   </g>\r\n  </g>\r\n  <g id=\"axes_2\">\r\n   <g id=\"patch_17\">\r\n    <path d=\"M 223.954244 191.599375 \r\nL 399.897394 191.599375 \r\nL 399.897394 21.789375 \r\nL 223.954244 21.789375 \r\nz\r\n\" style=\"fill:#eaeaf2;\"/>\r\n   </g>\r\n   <g id=\"matplotlib.axis_3\">\r\n    <g id=\"xtick_5\">\r\n     <g id=\"line2d_12\">\r\n      <path clip-path=\"url(#pb1e36a984e)\" d=\"M 231.95166 191.599375 \r\nL 231.95166 21.789375 \r\n\" style=\"fill:none;stroke:#ffffff;stroke-linecap:round;\"/>\r\n     </g>\r\n    </g>\r\n    <g id=\"xtick_6\">\r\n     <g id=\"line2d_13\">\r\n      <path clip-path=\"url(#pb1e36a984e)\" d=\"M 285.267766 191.599375 \r\nL 285.267766 21.789375 \r\n\" style=\"fill:none;stroke:#ffffff;stroke-linecap:round;\"/>\r\n     </g>\r\n    </g>\r\n    <g id=\"xtick_7\">\r\n     <g id=\"line2d_14\">\r\n      <path clip-path=\"url(#pb1e36a984e)\" d=\"M 338.583872 191.599375 \r\nL 338.583872 21.789375 \r\n\" style=\"fill:none;stroke:#ffffff;stroke-linecap:round;\"/>\r\n     </g>\r\n    </g>\r\n    <g id=\"xtick_8\">\r\n     <g id=\"line2d_15\">\r\n      <path clip-path=\"url(#pb1e36a984e)\" d=\"M 391.899978 191.599375 \r\nL 391.899978 21.789375 \r\n\" style=\"fill:none;stroke:#ffffff;stroke-linecap:round;\"/>\r\n     </g>\r\n    </g>\r\n   </g>\r\n   <g id=\"matplotlib.axis_4\">\r\n    <g id=\"ytick_8\">\r\n     <g id=\"line2d_16\">\r\n      <path clip-path=\"url(#pb1e36a984e)\" d=\"M 223.954244 191.599375 \r\nL 399.897394 191.599375 \r\n\" style=\"fill:none;stroke:#ffffff;stroke-linecap:round;\"/>\r\n     </g>\r\n    </g>\r\n    <g id=\"ytick_9\">\r\n     <g id=\"line2d_17\">\r\n      <path clip-path=\"url(#pb1e36a984e)\" d=\"M 223.954244 167.24338 \r\nL 399.897394 167.24338 \r\n\" style=\"fill:none;stroke:#ffffff;stroke-linecap:round;\"/>\r\n     </g>\r\n    </g>\r\n    <g id=\"ytick_10\">\r\n     <g id=\"line2d_18\">\r\n      <path clip-path=\"url(#pb1e36a984e)\" d=\"M 223.954244 142.887384 \r\nL 399.897394 142.887384 \r\n\" style=\"fill:none;stroke:#ffffff;stroke-linecap:round;\"/>\r\n     </g>\r\n    </g>\r\n    <g id=\"ytick_11\">\r\n     <g id=\"line2d_19\">\r\n      <path clip-path=\"url(#pb1e36a984e)\" d=\"M 223.954244 118.531389 \r\nL 399.897394 118.531389 \r\n\" style=\"fill:none;stroke:#ffffff;stroke-linecap:round;\"/>\r\n     </g>\r\n    </g>\r\n    <g id=\"ytick_12\">\r\n     <g id=\"line2d_20\">\r\n      <path clip-path=\"url(#pb1e36a984e)\" d=\"M 223.954244 94.175393 \r\nL 399.897394 94.175393 \r\n\" style=\"fill:none;stroke:#ffffff;stroke-linecap:round;\"/>\r\n     </g>\r\n    </g>\r\n    <g id=\"ytick_13\">\r\n     <g id=\"line2d_21\">\r\n      <path clip-path=\"url(#pb1e36a984e)\" d=\"M 223.954244 69.819398 \r\nL 399.897394 69.819398 \r\n\" style=\"fill:none;stroke:#ffffff;stroke-linecap:round;\"/>\r\n     </g>\r\n    </g>\r\n    <g id=\"ytick_14\">\r\n     <g id=\"line2d_22\">\r\n      <path clip-path=\"url(#pb1e36a984e)\" d=\"M 223.954244 45.463403 \r\nL 399.897394 45.463403 \r\n\" style=\"fill:none;stroke:#ffffff;stroke-linecap:round;\"/>\r\n     </g>\r\n    </g>\r\n   </g>\r\n   <g id=\"patch_18\">\r\n    <path clip-path=\"url(#pb1e36a984e)\" d=\"M 231.95166 191.599375 \r\nL 245.280686 191.599375 \r\nL 245.280686 176.985778 \r\nL 231.95166 176.985778 \r\nz\r\n\" style=\"fill:#ffc0cb;stroke:#ffffff;stroke-linejoin:miter;\"/>\r\n   </g>\r\n   <g id=\"patch_19\">\r\n    <path clip-path=\"url(#pb1e36a984e)\" d=\"M 245.280686 191.599375 \r\nL 258.609713 191.599375 \r\nL 258.609713 187.702416 \r\nL 245.280686 187.702416 \r\nz\r\n\" style=\"fill:#ffc0cb;stroke:#ffffff;stroke-linejoin:miter;\"/>\r\n   </g>\r\n   <g id=\"patch_20\">\r\n    <path clip-path=\"url(#pb1e36a984e)\" d=\"M 258.609713 191.599375 \r\nL 271.938739 191.599375 \r\nL 271.938739 189.650895 \r\nL 258.609713 189.650895 \r\nz\r\n\" style=\"fill:#ffc0cb;stroke:#ffffff;stroke-linejoin:miter;\"/>\r\n   </g>\r\n   <g id=\"patch_21\">\r\n    <path clip-path=\"url(#pb1e36a984e)\" d=\"M 271.938739 191.599375 \r\nL 285.267766 191.599375 \r\nL 285.267766 186.728176 \r\nL 271.938739 186.728176 \r\nz\r\n\" style=\"fill:#ffc0cb;stroke:#ffffff;stroke-linejoin:miter;\"/>\r\n   </g>\r\n   <g id=\"patch_22\">\r\n    <path clip-path=\"url(#pb1e36a984e)\" d=\"M 285.267766 191.599375 \r\nL 298.596792 191.599375 \r\nL 298.596792 184.779696 \r\nL 285.267766 184.779696 \r\nz\r\n\" style=\"fill:#ffc0cb;stroke:#ffffff;stroke-linejoin:miter;\"/>\r\n   </g>\r\n   <g id=\"patch_23\">\r\n    <path clip-path=\"url(#pb1e36a984e)\" d=\"M 298.596792 191.599375 \r\nL 311.925819 191.599375 \r\nL 311.925819 158.475221 \r\nL 298.596792 158.475221 \r\nz\r\n\" style=\"fill:#ffc0cb;stroke:#ffffff;stroke-linejoin:miter;\"/>\r\n   </g>\r\n   <g id=\"patch_24\">\r\n    <path clip-path=\"url(#pb1e36a984e)\" d=\"M 311.925819 191.599375 \r\nL 325.254845 191.599375 \r\nL 325.254845 178.934257 \r\nL 311.925819 178.934257 \r\nz\r\n\" style=\"fill:#ffc0cb;stroke:#ffffff;stroke-linejoin:miter;\"/>\r\n   </g>\r\n   <g id=\"patch_25\">\r\n    <path clip-path=\"url(#pb1e36a984e)\" d=\"M 325.254845 191.599375 \r\nL 338.583872 191.599375 \r\nL 338.583872 181.856977 \r\nL 325.254845 181.856977 \r\nz\r\n\" style=\"fill:#ffc0cb;stroke:#ffffff;stroke-linejoin:miter;\"/>\r\n   </g>\r\n   <g id=\"patch_26\">\r\n    <path clip-path=\"url(#pb1e36a984e)\" d=\"M 338.583872 191.599375 \r\nL 351.912898 191.599375 \r\nL 351.912898 186.728176 \r\nL 338.583872 186.728176 \r\nz\r\n\" style=\"fill:#ffc0cb;stroke:#ffffff;stroke-linejoin:miter;\"/>\r\n   </g>\r\n   <g id=\"patch_27\">\r\n    <path clip-path=\"url(#pb1e36a984e)\" d=\"M 351.912898 191.599375 \r\nL 365.241925 191.599375 \r\nL 365.241925 184.779696 \r\nL 351.912898 184.779696 \r\nz\r\n\" style=\"fill:#ffc0cb;stroke:#ffffff;stroke-linejoin:miter;\"/>\r\n   </g>\r\n   <g id=\"patch_28\">\r\n    <path clip-path=\"url(#pb1e36a984e)\" d=\"M 365.241925 191.599375 \r\nL 378.570951 191.599375 \r\nL 378.570951 188.676656 \r\nL 365.241925 188.676656 \r\nz\r\n\" style=\"fill:#ffc0cb;stroke:#ffffff;stroke-linejoin:miter;\"/>\r\n   </g>\r\n   <g id=\"patch_29\">\r\n    <path clip-path=\"url(#pb1e36a984e)\" d=\"M 378.570951 191.599375 \r\nL 391.899978 191.599375 \r\nL 391.899978 189.650895 \r\nL 378.570951 189.650895 \r\nz\r\n\" style=\"fill:#ffc0cb;stroke:#ffffff;stroke-linejoin:miter;\"/>\r\n   </g>\r\n   <g id=\"patch_30\">\r\n    <path d=\"M 223.954244 191.599375 \r\nL 223.954244 21.789375 \r\n\" style=\"fill:none;stroke:#ffffff;stroke-linecap:square;stroke-linejoin:miter;stroke-width:1.25;\"/>\r\n   </g>\r\n   <g id=\"patch_31\">\r\n    <path d=\"M 223.954244 191.599375 \r\nL 399.897394 191.599375 \r\n\" style=\"fill:none;stroke:#ffffff;stroke-linecap:square;stroke-linejoin:miter;stroke-width:1.25;\"/>\r\n   </g>\r\n   <g id=\"text_9\">\r\n    <g id=\"patch_32\">\r\n     <path d=\"M 399.456257 72.553437 \r\nL 399.456257 140.835312 \r\nL 418.350632 140.835312 \r\nL 418.350632 72.553437 \r\nz\r\n\" style=\"fill:#ffffff;stroke:#ffffff;stroke-linejoin:miter;\"/>\r\n    </g>\r\n    <!-- Sex = male -->\r\n    <defs>\r\n     <path d=\"M 0.734375 0 \r\nL 19.671875 26.953125 \r\nL 2.15625 51.859375 \r\nL 13.140625 51.859375 \r\nL 21.09375 39.703125 \r\nQ 23.34375 36.234375 24.703125 33.890625 \r\nQ 26.859375 37.109375 28.65625 39.59375 \r\nL 37.40625 51.859375 \r\nL 47.90625 51.859375 \r\nL 29.984375 27.4375 \r\nL 49.265625 0 \r\nL 38.484375 0 \r\nL 27.828125 16.109375 \r\nL 25 20.453125 \r\nL 11.375 0 \r\nz\r\n\" id=\"ArialMT-120\"/>\r\n     <path d=\"M 6.59375 0 \r\nL 6.59375 51.859375 \r\nL 14.453125 51.859375 \r\nL 14.453125 44.578125 \r\nQ 16.890625 48.390625 20.9375 50.703125 \r\nQ 25 53.03125 30.171875 53.03125 \r\nQ 35.9375 53.03125 39.625 50.640625 \r\nQ 43.3125 48.25 44.828125 43.953125 \r\nQ 50.984375 53.03125 60.84375 53.03125 \r\nQ 68.5625 53.03125 72.703125 48.75 \r\nQ 76.859375 44.484375 76.859375 35.59375 \r\nL 76.859375 0 \r\nL 68.109375 0 \r\nL 68.109375 32.671875 \r\nQ 68.109375 37.9375 67.25 40.25 \r\nQ 66.40625 42.578125 64.15625 43.984375 \r\nQ 61.921875 45.40625 58.890625 45.40625 \r\nQ 53.421875 45.40625 49.796875 41.765625 \r\nQ 46.1875 38.140625 46.1875 30.125 \r\nL 46.1875 0 \r\nL 37.40625 0 \r\nL 37.40625 33.6875 \r\nQ 37.40625 39.546875 35.25 42.46875 \r\nQ 33.109375 45.40625 28.21875 45.40625 \r\nQ 24.515625 45.40625 21.359375 43.453125 \r\nQ 18.21875 41.5 16.796875 37.734375 \r\nQ 15.375 33.984375 15.375 26.90625 \r\nL 15.375 0 \r\nz\r\n\" id=\"ArialMT-109\"/>\r\n     <path d=\"M 40.4375 6.390625 \r\nQ 35.546875 2.25 31.03125 0.53125 \r\nQ 26.515625 -1.171875 21.34375 -1.171875 \r\nQ 12.796875 -1.171875 8.203125 3 \r\nQ 3.609375 7.171875 3.609375 13.671875 \r\nQ 3.609375 17.484375 5.34375 20.625 \r\nQ 7.078125 23.78125 9.890625 25.6875 \r\nQ 12.703125 27.59375 16.21875 28.5625 \r\nQ 18.796875 29.25 24.03125 29.890625 \r\nQ 34.671875 31.15625 39.703125 32.90625 \r\nQ 39.75 34.71875 39.75 35.203125 \r\nQ 39.75 40.578125 37.25 42.78125 \r\nQ 33.890625 45.75 27.25 45.75 \r\nQ 21.046875 45.75 18.09375 43.578125 \r\nQ 15.140625 41.40625 13.71875 35.890625 \r\nL 5.125 37.0625 \r\nQ 6.296875 42.578125 8.984375 45.96875 \r\nQ 11.671875 49.359375 16.75 51.1875 \r\nQ 21.828125 53.03125 28.515625 53.03125 \r\nQ 35.15625 53.03125 39.296875 51.46875 \r\nQ 43.453125 49.90625 45.40625 47.53125 \r\nQ 47.359375 45.171875 48.140625 41.546875 \r\nQ 48.578125 39.3125 48.578125 33.453125 \r\nL 48.578125 21.734375 \r\nQ 48.578125 9.46875 49.140625 6.21875 \r\nQ 49.703125 2.984375 51.375 0 \r\nL 42.1875 0 \r\nQ 40.828125 2.734375 40.4375 6.390625 \r\nz\r\nM 39.703125 26.03125 \r\nQ 34.90625 24.078125 25.34375 22.703125 \r\nQ 19.921875 21.921875 17.671875 20.9375 \r\nQ 15.4375 19.96875 14.203125 18.09375 \r\nQ 12.984375 16.21875 12.984375 13.921875 \r\nQ 12.984375 10.40625 15.640625 8.0625 \r\nQ 18.3125 5.71875 23.4375 5.71875 \r\nQ 28.515625 5.71875 32.46875 7.9375 \r\nQ 36.421875 10.15625 38.28125 14.015625 \r\nQ 39.703125 17 39.703125 22.796875 \r\nz\r\n\" id=\"ArialMT-97\"/>\r\n     <path d=\"M 6.390625 0 \r\nL 6.390625 71.578125 \r\nL 15.1875 71.578125 \r\nL 15.1875 0 \r\nz\r\n\" id=\"ArialMT-108\"/>\r\n    </defs>\r\n    <g style=\"fill:#262626;\" transform=\"translate(405.801257 76.513437)rotate(-270)scale(0.12 -0.12)\">\r\n     <use xlink:href=\"#ArialMT-83\"/>\r\n     <use x=\"66.699219\" xlink:href=\"#ArialMT-101\"/>\r\n     <use x=\"122.314453\" xlink:href=\"#ArialMT-120\"/>\r\n     <use x=\"172.314453\" xlink:href=\"#ArialMT-32\"/>\r\n     <use x=\"200.097656\" xlink:href=\"#ArialMT-61\"/>\r\n     <use x=\"258.496094\" xlink:href=\"#ArialMT-32\"/>\r\n     <use x=\"286.279297\" xlink:href=\"#ArialMT-109\"/>\r\n     <use x=\"369.580078\" xlink:href=\"#ArialMT-97\"/>\r\n     <use x=\"425.195312\" xlink:href=\"#ArialMT-108\"/>\r\n     <use x=\"447.412109\" xlink:href=\"#ArialMT-101\"/>\r\n    </g>\r\n   </g>\r\n   <g id=\"text_10\">\r\n    <!-- Survived = 1 -->\r\n    <g style=\"fill:#262626;\" transform=\"translate(278.408319 15.789375)scale(0.12 -0.12)\">\r\n     <use xlink:href=\"#ArialMT-83\"/>\r\n     <use x=\"66.699219\" xlink:href=\"#ArialMT-117\"/>\r\n     <use x=\"122.314453\" xlink:href=\"#ArialMT-114\"/>\r\n     <use x=\"155.615234\" xlink:href=\"#ArialMT-118\"/>\r\n     <use x=\"205.615234\" xlink:href=\"#ArialMT-105\"/>\r\n     <use x=\"227.832031\" xlink:href=\"#ArialMT-118\"/>\r\n     <use x=\"277.832031\" xlink:href=\"#ArialMT-101\"/>\r\n     <use x=\"333.447266\" xlink:href=\"#ArialMT-100\"/>\r\n     <use x=\"389.0625\" xlink:href=\"#ArialMT-32\"/>\r\n     <use x=\"416.845703\" xlink:href=\"#ArialMT-61\"/>\r\n     <use x=\"475.244141\" xlink:href=\"#ArialMT-32\"/>\r\n     <use x=\"503.027344\" xlink:href=\"#ArialMT-49\"/>\r\n    </g>\r\n   </g>\r\n  </g>\r\n  <g id=\"axes_3\">\r\n   <g id=\"patch_33\">\r\n    <path d=\"M 35.051094 380.369375 \r\nL 210.994244 380.369375 \r\nL 210.994244 210.559375 \r\nL 35.051094 210.559375 \r\nz\r\n\" style=\"fill:#eaeaf2;\"/>\r\n   </g>\r\n   <g id=\"matplotlib.axis_5\">\r\n    <g id=\"xtick_9\">\r\n     <g id=\"line2d_23\">\r\n      <path clip-path=\"url(#p4b8efd03ea)\" d=\"M 43.04851 380.369375 \r\nL 43.04851 210.559375 \r\n\" style=\"fill:none;stroke:#ffffff;stroke-linecap:round;\"/>\r\n     </g>\r\n     <g id=\"text_11\">\r\n      <!-- 0 -->\r\n      <g style=\"fill:#262626;\" transform=\"translate(39.989994 397.742969)scale(0.11 -0.11)\">\r\n       <use xlink:href=\"#ArialMT-48\"/>\r\n      </g>\r\n     </g>\r\n    </g>\r\n    <g id=\"xtick_10\">\r\n     <g id=\"line2d_24\">\r\n      <path clip-path=\"url(#p4b8efd03ea)\" d=\"M 96.364616 380.369375 \r\nL 96.364616 210.559375 \r\n\" style=\"fill:none;stroke:#ffffff;stroke-linecap:round;\"/>\r\n     </g>\r\n     <g id=\"text_12\">\r\n      <!-- 20 -->\r\n      <g style=\"fill:#262626;\" transform=\"translate(90.247584 397.742969)scale(0.11 -0.11)\">\r\n       <use xlink:href=\"#ArialMT-50\"/>\r\n       <use x=\"55.615234\" xlink:href=\"#ArialMT-48\"/>\r\n      </g>\r\n     </g>\r\n    </g>\r\n    <g id=\"xtick_11\">\r\n     <g id=\"line2d_25\">\r\n      <path clip-path=\"url(#p4b8efd03ea)\" d=\"M 149.680722 380.369375 \r\nL 149.680722 210.559375 \r\n\" style=\"fill:none;stroke:#ffffff;stroke-linecap:round;\"/>\r\n     </g>\r\n     <g id=\"text_13\">\r\n      <!-- 40 -->\r\n      <defs>\r\n       <path d=\"M 32.328125 0 \r\nL 32.328125 17.140625 \r\nL 1.265625 17.140625 \r\nL 1.265625 25.203125 \r\nL 33.9375 71.578125 \r\nL 41.109375 71.578125 \r\nL 41.109375 25.203125 \r\nL 50.78125 25.203125 \r\nL 50.78125 17.140625 \r\nL 41.109375 17.140625 \r\nL 41.109375 0 \r\nz\r\nM 32.328125 25.203125 \r\nL 32.328125 57.46875 \r\nL 9.90625 25.203125 \r\nz\r\n\" id=\"ArialMT-52\"/>\r\n      </defs>\r\n      <g style=\"fill:#262626;\" transform=\"translate(143.563691 397.742969)scale(0.11 -0.11)\">\r\n       <use xlink:href=\"#ArialMT-52\"/>\r\n       <use x=\"55.615234\" xlink:href=\"#ArialMT-48\"/>\r\n      </g>\r\n     </g>\r\n    </g>\r\n    <g id=\"xtick_12\">\r\n     <g id=\"line2d_26\">\r\n      <path clip-path=\"url(#p4b8efd03ea)\" d=\"M 202.996828 380.369375 \r\nL 202.996828 210.559375 \r\n\" style=\"fill:none;stroke:#ffffff;stroke-linecap:round;\"/>\r\n     </g>\r\n     <g id=\"text_14\">\r\n      <!-- 60 -->\r\n      <defs>\r\n       <path d=\"M 49.75 54.046875 \r\nL 41.015625 53.375 \r\nQ 39.84375 58.546875 37.703125 60.890625 \r\nQ 34.125 64.65625 28.90625 64.65625 \r\nQ 24.703125 64.65625 21.53125 62.3125 \r\nQ 17.390625 59.28125 14.984375 53.46875 \r\nQ 12.59375 47.65625 12.5 36.921875 \r\nQ 15.671875 41.75 20.265625 44.09375 \r\nQ 24.859375 46.4375 29.890625 46.4375 \r\nQ 38.671875 46.4375 44.84375 39.96875 \r\nQ 51.03125 33.5 51.03125 23.25 \r\nQ 51.03125 16.5 48.125 10.71875 \r\nQ 45.21875 4.9375 40.140625 1.859375 \r\nQ 35.0625 -1.21875 28.609375 -1.21875 \r\nQ 17.625 -1.21875 10.6875 6.859375 \r\nQ 3.765625 14.9375 3.765625 33.5 \r\nQ 3.765625 54.25 11.421875 63.671875 \r\nQ 18.109375 71.875 29.4375 71.875 \r\nQ 37.890625 71.875 43.28125 67.140625 \r\nQ 48.6875 62.40625 49.75 54.046875 \r\nz\r\nM 13.875 23.1875 \r\nQ 13.875 18.65625 15.796875 14.5 \r\nQ 17.71875 10.359375 21.1875 8.171875 \r\nQ 24.65625 6 28.46875 6 \r\nQ 34.03125 6 38.03125 10.484375 \r\nQ 42.046875 14.984375 42.046875 22.703125 \r\nQ 42.046875 30.125 38.078125 34.390625 \r\nQ 34.125 38.671875 28.125 38.671875 \r\nQ 22.171875 38.671875 18.015625 34.390625 \r\nQ 13.875 30.125 13.875 23.1875 \r\nz\r\n\" id=\"ArialMT-54\"/>\r\n      </defs>\r\n      <g style=\"fill:#262626;\" transform=\"translate(196.879797 397.742969)scale(0.11 -0.11)\">\r\n       <use xlink:href=\"#ArialMT-54\"/>\r\n       <use x=\"55.615234\" xlink:href=\"#ArialMT-48\"/>\r\n      </g>\r\n     </g>\r\n    </g>\r\n    <g id=\"text_15\">\r\n     <!-- Age -->\r\n     <defs>\r\n      <path d=\"M -0.140625 0 \r\nL 27.34375 71.578125 \r\nL 37.546875 71.578125 \r\nL 66.84375 0 \r\nL 56.0625 0 \r\nL 47.703125 21.6875 \r\nL 17.78125 21.6875 \r\nL 9.90625 0 \r\nz\r\nM 20.515625 29.390625 \r\nL 44.78125 29.390625 \r\nL 37.3125 49.21875 \r\nQ 33.890625 58.25 32.234375 64.0625 \r\nQ 30.859375 57.171875 28.375 50.390625 \r\nz\r\n\" id=\"ArialMT-65\"/>\r\n      <path d=\"M 4.984375 -4.296875 \r\nL 13.53125 -5.5625 \r\nQ 14.0625 -9.515625 16.5 -11.328125 \r\nQ 19.78125 -13.765625 25.4375 -13.765625 \r\nQ 31.546875 -13.765625 34.859375 -11.328125 \r\nQ 38.1875 -8.890625 39.359375 -4.5 \r\nQ 40.046875 -1.8125 39.984375 6.78125 \r\nQ 34.234375 0 25.640625 0 \r\nQ 14.9375 0 9.078125 7.71875 \r\nQ 3.21875 15.4375 3.21875 26.21875 \r\nQ 3.21875 33.640625 5.90625 39.90625 \r\nQ 8.59375 46.1875 13.6875 49.609375 \r\nQ 18.796875 53.03125 25.6875 53.03125 \r\nQ 34.859375 53.03125 40.828125 45.609375 \r\nL 40.828125 51.859375 \r\nL 48.921875 51.859375 \r\nL 48.921875 7.03125 \r\nQ 48.921875 -5.078125 46.453125 -10.125 \r\nQ 44 -15.1875 38.640625 -18.109375 \r\nQ 33.296875 -21.046875 25.484375 -21.046875 \r\nQ 16.21875 -21.046875 10.5 -16.875 \r\nQ 4.78125 -12.703125 4.984375 -4.296875 \r\nz\r\nM 12.25 26.859375 \r\nQ 12.25 16.65625 16.296875 11.96875 \r\nQ 20.359375 7.28125 26.46875 7.28125 \r\nQ 32.515625 7.28125 36.609375 11.9375 \r\nQ 40.71875 16.609375 40.71875 26.5625 \r\nQ 40.71875 36.078125 36.5 40.90625 \r\nQ 32.28125 45.75 26.3125 45.75 \r\nQ 20.453125 45.75 16.34375 40.984375 \r\nQ 12.25 36.234375 12.25 26.859375 \r\nz\r\n\" id=\"ArialMT-103\"/>\r\n     </defs>\r\n     <g style=\"fill:#262626;\" transform=\"translate(112.347356 412.518594)scale(0.12 -0.12)\">\r\n      <use xlink:href=\"#ArialMT-65\"/>\r\n      <use x=\"66.699219\" xlink:href=\"#ArialMT-103\"/>\r\n      <use x=\"122.314453\" xlink:href=\"#ArialMT-101\"/>\r\n     </g>\r\n    </g>\r\n   </g>\r\n   <g id=\"matplotlib.axis_6\">\r\n    <g id=\"ytick_15\">\r\n     <g id=\"line2d_27\">\r\n      <path clip-path=\"url(#p4b8efd03ea)\" d=\"M 35.051094 380.369375 \r\nL 210.994244 380.369375 \r\n\" style=\"fill:none;stroke:#ffffff;stroke-linecap:round;\"/>\r\n     </g>\r\n     <g id=\"text_16\">\r\n      <!-- 0 -->\r\n      <g style=\"fill:#262626;\" transform=\"translate(19.434062 384.306172)scale(0.11 -0.11)\">\r\n       <use xlink:href=\"#ArialMT-48\"/>\r\n      </g>\r\n     </g>\r\n    </g>\r\n    <g id=\"ytick_16\">\r\n     <g id=\"line2d_28\">\r\n      <path clip-path=\"url(#p4b8efd03ea)\" d=\"M 35.051094 356.01338 \r\nL 210.994244 356.01338 \r\n\" style=\"fill:none;stroke:#ffffff;stroke-linecap:round;\"/>\r\n     </g>\r\n     <g id=\"text_17\">\r\n      <!-- 25 -->\r\n      <g style=\"fill:#262626;\" transform=\"translate(13.317031 359.950176)scale(0.11 -0.11)\">\r\n       <use xlink:href=\"#ArialMT-50\"/>\r\n       <use x=\"55.615234\" xlink:href=\"#ArialMT-53\"/>\r\n      </g>\r\n     </g>\r\n    </g>\r\n    <g id=\"ytick_17\">\r\n     <g id=\"line2d_29\">\r\n      <path clip-path=\"url(#p4b8efd03ea)\" d=\"M 35.051094 331.657384 \r\nL 210.994244 331.657384 \r\n\" style=\"fill:none;stroke:#ffffff;stroke-linecap:round;\"/>\r\n     </g>\r\n     <g id=\"text_18\">\r\n      <!-- 50 -->\r\n      <g style=\"fill:#262626;\" transform=\"translate(13.317031 335.594181)scale(0.11 -0.11)\">\r\n       <use xlink:href=\"#ArialMT-53\"/>\r\n       <use x=\"55.615234\" xlink:href=\"#ArialMT-48\"/>\r\n      </g>\r\n     </g>\r\n    </g>\r\n    <g id=\"ytick_18\">\r\n     <g id=\"line2d_30\">\r\n      <path clip-path=\"url(#p4b8efd03ea)\" d=\"M 35.051094 307.301389 \r\nL 210.994244 307.301389 \r\n\" style=\"fill:none;stroke:#ffffff;stroke-linecap:round;\"/>\r\n     </g>\r\n     <g id=\"text_19\">\r\n      <!-- 75 -->\r\n      <g style=\"fill:#262626;\" transform=\"translate(13.317031 311.238186)scale(0.11 -0.11)\">\r\n       <use xlink:href=\"#ArialMT-55\"/>\r\n       <use x=\"55.615234\" xlink:href=\"#ArialMT-53\"/>\r\n      </g>\r\n     </g>\r\n    </g>\r\n    <g id=\"ytick_19\">\r\n     <g id=\"line2d_31\">\r\n      <path clip-path=\"url(#p4b8efd03ea)\" d=\"M 35.051094 282.945393 \r\nL 210.994244 282.945393 \r\n\" style=\"fill:none;stroke:#ffffff;stroke-linecap:round;\"/>\r\n     </g>\r\n     <g id=\"text_20\">\r\n      <!-- 100 -->\r\n      <g style=\"fill:#262626;\" transform=\"translate(7.2 286.88219)scale(0.11 -0.11)\">\r\n       <use xlink:href=\"#ArialMT-49\"/>\r\n       <use x=\"55.615234\" xlink:href=\"#ArialMT-48\"/>\r\n       <use x=\"111.230469\" xlink:href=\"#ArialMT-48\"/>\r\n      </g>\r\n     </g>\r\n    </g>\r\n    <g id=\"ytick_20\">\r\n     <g id=\"line2d_32\">\r\n      <path clip-path=\"url(#p4b8efd03ea)\" d=\"M 35.051094 258.589398 \r\nL 210.994244 258.589398 \r\n\" style=\"fill:none;stroke:#ffffff;stroke-linecap:round;\"/>\r\n     </g>\r\n     <g id=\"text_21\">\r\n      <!-- 125 -->\r\n      <g style=\"fill:#262626;\" transform=\"translate(7.2 262.526195)scale(0.11 -0.11)\">\r\n       <use xlink:href=\"#ArialMT-49\"/>\r\n       <use x=\"55.615234\" xlink:href=\"#ArialMT-50\"/>\r\n       <use x=\"111.230469\" xlink:href=\"#ArialMT-53\"/>\r\n      </g>\r\n     </g>\r\n    </g>\r\n    <g id=\"ytick_21\">\r\n     <g id=\"line2d_33\">\r\n      <path clip-path=\"url(#p4b8efd03ea)\" d=\"M 35.051094 234.233403 \r\nL 210.994244 234.233403 \r\n\" style=\"fill:none;stroke:#ffffff;stroke-linecap:round;\"/>\r\n     </g>\r\n     <g id=\"text_22\">\r\n      <!-- 150 -->\r\n      <g style=\"fill:#262626;\" transform=\"translate(7.2 238.170199)scale(0.11 -0.11)\">\r\n       <use xlink:href=\"#ArialMT-49\"/>\r\n       <use x=\"55.615234\" xlink:href=\"#ArialMT-53\"/>\r\n       <use x=\"111.230469\" xlink:href=\"#ArialMT-48\"/>\r\n      </g>\r\n     </g>\r\n    </g>\r\n   </g>\r\n   <g id=\"patch_34\">\r\n    <path clip-path=\"url(#p4b8efd03ea)\" d=\"M 43.04851 380.369375 \r\nL 56.377536 380.369375 \r\nL 56.377536 375.498176 \r\nL 43.04851 375.498176 \r\nz\r\n\" style=\"fill:#ffc0cb;stroke:#ffffff;stroke-linejoin:miter;\"/>\r\n   </g>\r\n   <g id=\"patch_35\">\r\n    <path clip-path=\"url(#p4b8efd03ea)\" d=\"M 56.377536 380.369375 \r\nL 69.706563 380.369375 \r\nL 69.706563 374.523936 \r\nL 56.377536 374.523936 \r\nz\r\n\" style=\"fill:#ffc0cb;stroke:#ffffff;stroke-linejoin:miter;\"/>\r\n   </g>\r\n   <g id=\"patch_36\">\r\n    <path clip-path=\"url(#p4b8efd03ea)\" d=\"M 69.706563 380.369375 \r\nL 83.035589 380.369375 \r\nL 83.035589 376.472416 \r\nL 69.706563 376.472416 \r\nz\r\n\" style=\"fill:#ffc0cb;stroke:#ffffff;stroke-linejoin:miter;\"/>\r\n   </g>\r\n   <g id=\"patch_37\">\r\n    <path clip-path=\"url(#p4b8efd03ea)\" d=\"M 83.035589 380.369375 \r\nL 96.364616 380.369375 \r\nL 96.364616 373.549696 \r\nL 83.035589 373.549696 \r\nz\r\n\" style=\"fill:#ffc0cb;stroke:#ffffff;stroke-linejoin:miter;\"/>\r\n   </g>\r\n   <g id=\"patch_38\">\r\n    <path clip-path=\"url(#p4b8efd03ea)\" d=\"M 96.364616 380.369375 \r\nL 109.693642 380.369375 \r\nL 109.693642 370.626977 \r\nL 96.364616 370.626977 \r\nz\r\n\" style=\"fill:#ffc0cb;stroke:#ffffff;stroke-linejoin:miter;\"/>\r\n   </g>\r\n   <g id=\"patch_39\">\r\n    <path clip-path=\"url(#p4b8efd03ea)\" d=\"M 109.693642 380.369375 \r\nL 123.022669 380.369375 \r\nL 123.022669 354.0649 \r\nL 109.693642 354.0649 \r\nz\r\n\" style=\"fill:#ffc0cb;stroke:#ffffff;stroke-linejoin:miter;\"/>\r\n   </g>\r\n   <g id=\"patch_40\">\r\n    <path clip-path=\"url(#p4b8efd03ea)\" d=\"M 123.022669 380.369375 \r\nL 136.351695 380.369375 \r\nL 136.351695 374.523936 \r\nL 123.022669 374.523936 \r\nz\r\n\" style=\"fill:#ffc0cb;stroke:#ffffff;stroke-linejoin:miter;\"/>\r\n   </g>\r\n   <g id=\"patch_41\">\r\n    <path clip-path=\"url(#p4b8efd03ea)\" d=\"M 136.351695 380.369375 \r\nL 149.680722 380.369375 \r\nL 149.680722 376.472416 \r\nL 136.351695 376.472416 \r\nz\r\n\" style=\"fill:#ffc0cb;stroke:#ffffff;stroke-linejoin:miter;\"/>\r\n   </g>\r\n   <g id=\"patch_42\">\r\n    <path clip-path=\"url(#p4b8efd03ea)\" d=\"M 149.680722 380.369375 \r\nL 163.009748 380.369375 \r\nL 163.009748 375.498176 \r\nL 149.680722 375.498176 \r\nz\r\n\" style=\"fill:#ffc0cb;stroke:#ffffff;stroke-linejoin:miter;\"/>\r\n   </g>\r\n   <g id=\"patch_43\">\r\n    <path clip-path=\"url(#p4b8efd03ea)\" d=\"M 163.009748 380.369375 \r\nL 176.338775 380.369375 \r\nL 176.338775 375.498176 \r\nL 163.009748 375.498176 \r\nz\r\n\" style=\"fill:#ffc0cb;stroke:#ffffff;stroke-linejoin:miter;\"/>\r\n   </g>\r\n   <g id=\"patch_44\">\r\n    <path clip-path=\"url(#p4b8efd03ea)\" d=\"M 176.338775 380.369375 \r\nL 189.667801 380.369375 \r\nL 189.667801 379.395135 \r\nL 176.338775 379.395135 \r\nz\r\n\" style=\"fill:#ffc0cb;stroke:#ffffff;stroke-linejoin:miter;\"/>\r\n   </g>\r\n   <g id=\"patch_45\">\r\n    <path clip-path=\"url(#p4b8efd03ea)\" d=\"M 189.667801 380.369375 \r\nL 202.996828 380.369375 \r\nL 202.996828 379.395135 \r\nL 189.667801 379.395135 \r\nz\r\n\" style=\"fill:#ffc0cb;stroke:#ffffff;stroke-linejoin:miter;\"/>\r\n   </g>\r\n   <g id=\"patch_46\">\r\n    <path d=\"M 35.051094 380.369375 \r\nL 35.051094 210.559375 \r\n\" style=\"fill:none;stroke:#ffffff;stroke-linecap:square;stroke-linejoin:miter;stroke-width:1.25;\"/>\r\n   </g>\r\n   <g id=\"patch_47\">\r\n    <path d=\"M 35.051094 380.369375 \r\nL 210.994244 380.369375 \r\n\" style=\"fill:none;stroke:#ffffff;stroke-linecap:square;stroke-linejoin:miter;stroke-width:1.25;\"/>\r\n   </g>\r\n  </g>\r\n  <g id=\"axes_4\">\r\n   <g id=\"patch_48\">\r\n    <path d=\"M 223.954244 380.369375 \r\nL 399.897394 380.369375 \r\nL 399.897394 210.559375 \r\nL 223.954244 210.559375 \r\nz\r\n\" style=\"fill:#eaeaf2;\"/>\r\n   </g>\r\n   <g id=\"matplotlib.axis_7\">\r\n    <g id=\"xtick_13\">\r\n     <g id=\"line2d_34\">\r\n      <path clip-path=\"url(#p4fccf6ba34)\" d=\"M 231.95166 380.369375 \r\nL 231.95166 210.559375 \r\n\" style=\"fill:none;stroke:#ffffff;stroke-linecap:round;\"/>\r\n     </g>\r\n     <g id=\"text_23\">\r\n      <!-- 0 -->\r\n      <g style=\"fill:#262626;\" transform=\"translate(228.893144 397.742969)scale(0.11 -0.11)\">\r\n       <use xlink:href=\"#ArialMT-48\"/>\r\n      </g>\r\n     </g>\r\n    </g>\r\n    <g id=\"xtick_14\">\r\n     <g id=\"line2d_35\">\r\n      <path clip-path=\"url(#p4fccf6ba34)\" d=\"M 285.267766 380.369375 \r\nL 285.267766 210.559375 \r\n\" style=\"fill:none;stroke:#ffffff;stroke-linecap:round;\"/>\r\n     </g>\r\n     <g id=\"text_24\">\r\n      <!-- 20 -->\r\n      <g style=\"fill:#262626;\" transform=\"translate(279.150734 397.742969)scale(0.11 -0.11)\">\r\n       <use xlink:href=\"#ArialMT-50\"/>\r\n       <use x=\"55.615234\" xlink:href=\"#ArialMT-48\"/>\r\n      </g>\r\n     </g>\r\n    </g>\r\n    <g id=\"xtick_15\">\r\n     <g id=\"line2d_36\">\r\n      <path clip-path=\"url(#p4fccf6ba34)\" d=\"M 338.583872 380.369375 \r\nL 338.583872 210.559375 \r\n\" style=\"fill:none;stroke:#ffffff;stroke-linecap:round;\"/>\r\n     </g>\r\n     <g id=\"text_25\">\r\n      <!-- 40 -->\r\n      <g style=\"fill:#262626;\" transform=\"translate(332.466841 397.742969)scale(0.11 -0.11)\">\r\n       <use xlink:href=\"#ArialMT-52\"/>\r\n       <use x=\"55.615234\" xlink:href=\"#ArialMT-48\"/>\r\n      </g>\r\n     </g>\r\n    </g>\r\n    <g id=\"xtick_16\">\r\n     <g id=\"line2d_37\">\r\n      <path clip-path=\"url(#p4fccf6ba34)\" d=\"M 391.899978 380.369375 \r\nL 391.899978 210.559375 \r\n\" style=\"fill:none;stroke:#ffffff;stroke-linecap:round;\"/>\r\n     </g>\r\n     <g id=\"text_26\">\r\n      <!-- 60 -->\r\n      <g style=\"fill:#262626;\" transform=\"translate(385.782947 397.742969)scale(0.11 -0.11)\">\r\n       <use xlink:href=\"#ArialMT-54\"/>\r\n       <use x=\"55.615234\" xlink:href=\"#ArialMT-48\"/>\r\n      </g>\r\n     </g>\r\n    </g>\r\n    <g id=\"text_27\">\r\n     <!-- Age -->\r\n     <g style=\"fill:#262626;\" transform=\"translate(301.250506 412.518594)scale(0.12 -0.12)\">\r\n      <use xlink:href=\"#ArialMT-65\"/>\r\n      <use x=\"66.699219\" xlink:href=\"#ArialMT-103\"/>\r\n      <use x=\"122.314453\" xlink:href=\"#ArialMT-101\"/>\r\n     </g>\r\n    </g>\r\n   </g>\r\n   <g id=\"matplotlib.axis_8\">\r\n    <g id=\"ytick_22\">\r\n     <g id=\"line2d_38\">\r\n      <path clip-path=\"url(#p4fccf6ba34)\" d=\"M 223.954244 380.369375 \r\nL 399.897394 380.369375 \r\n\" style=\"fill:none;stroke:#ffffff;stroke-linecap:round;\"/>\r\n     </g>\r\n    </g>\r\n    <g id=\"ytick_23\">\r\n     <g id=\"line2d_39\">\r\n      <path clip-path=\"url(#p4fccf6ba34)\" d=\"M 223.954244 356.01338 \r\nL 399.897394 356.01338 \r\n\" style=\"fill:none;stroke:#ffffff;stroke-linecap:round;\"/>\r\n     </g>\r\n    </g>\r\n    <g id=\"ytick_24\">\r\n     <g id=\"line2d_40\">\r\n      <path clip-path=\"url(#p4fccf6ba34)\" d=\"M 223.954244 331.657384 \r\nL 399.897394 331.657384 \r\n\" style=\"fill:none;stroke:#ffffff;stroke-linecap:round;\"/>\r\n     </g>\r\n    </g>\r\n    <g id=\"ytick_25\">\r\n     <g id=\"line2d_41\">\r\n      <path clip-path=\"url(#p4fccf6ba34)\" d=\"M 223.954244 307.301389 \r\nL 399.897394 307.301389 \r\n\" style=\"fill:none;stroke:#ffffff;stroke-linecap:round;\"/>\r\n     </g>\r\n    </g>\r\n    <g id=\"ytick_26\">\r\n     <g id=\"line2d_42\">\r\n      <path clip-path=\"url(#p4fccf6ba34)\" d=\"M 223.954244 282.945393 \r\nL 399.897394 282.945393 \r\n\" style=\"fill:none;stroke:#ffffff;stroke-linecap:round;\"/>\r\n     </g>\r\n    </g>\r\n    <g id=\"ytick_27\">\r\n     <g id=\"line2d_43\">\r\n      <path clip-path=\"url(#p4fccf6ba34)\" d=\"M 223.954244 258.589398 \r\nL 399.897394 258.589398 \r\n\" style=\"fill:none;stroke:#ffffff;stroke-linecap:round;\"/>\r\n     </g>\r\n    </g>\r\n    <g id=\"ytick_28\">\r\n     <g id=\"line2d_44\">\r\n      <path clip-path=\"url(#p4fccf6ba34)\" d=\"M 223.954244 234.233403 \r\nL 399.897394 234.233403 \r\n\" style=\"fill:none;stroke:#ffffff;stroke-linecap:round;\"/>\r\n     </g>\r\n    </g>\r\n   </g>\r\n   <g id=\"patch_49\">\r\n    <path clip-path=\"url(#p4fccf6ba34)\" d=\"M 231.95166 380.369375 \r\nL 245.280686 380.369375 \r\nL 245.280686 368.678497 \r\nL 231.95166 368.678497 \r\nz\r\n\" style=\"fill:#ffc0cb;stroke:#ffffff;stroke-linejoin:miter;\"/>\r\n   </g>\r\n   <g id=\"patch_50\">\r\n    <path clip-path=\"url(#p4fccf6ba34)\" d=\"M 245.280686 380.369375 \r\nL 258.609713 380.369375 \r\nL 258.609713 373.549696 \r\nL 245.280686 373.549696 \r\nz\r\n\" style=\"fill:#ffc0cb;stroke:#ffffff;stroke-linejoin:miter;\"/>\r\n   </g>\r\n   <g id=\"patch_51\">\r\n    <path clip-path=\"url(#p4fccf6ba34)\" d=\"M 258.609713 380.369375 \r\nL 271.938739 380.369375 \r\nL 271.938739 375.498176 \r\nL 258.609713 375.498176 \r\nz\r\n\" style=\"fill:#ffc0cb;stroke:#ffffff;stroke-linejoin:miter;\"/>\r\n   </g>\r\n   <g id=\"patch_52\">\r\n    <path clip-path=\"url(#p4fccf6ba34)\" d=\"M 271.938739 380.369375 \r\nL 285.267766 380.369375 \r\nL 285.267766 352.11642 \r\nL 271.938739 352.11642 \r\nz\r\n\" style=\"fill:#ffc0cb;stroke:#ffffff;stroke-linejoin:miter;\"/>\r\n   </g>\r\n   <g id=\"patch_53\">\r\n    <path clip-path=\"url(#p4fccf6ba34)\" d=\"M 285.267766 380.369375 \r\nL 298.596792 380.369375 \r\nL 298.596792 349.193701 \r\nL 285.267766 349.193701 \r\nz\r\n\" style=\"fill:#ffc0cb;stroke:#ffffff;stroke-linejoin:miter;\"/>\r\n   </g>\r\n   <g id=\"patch_54\">\r\n    <path clip-path=\"url(#p4fccf6ba34)\" d=\"M 298.596792 380.369375 \r\nL 311.925819 380.369375 \r\nL 311.925819 325.811945 \r\nL 298.596792 325.811945 \r\nz\r\n\" style=\"fill:#ffc0cb;stroke:#ffffff;stroke-linejoin:miter;\"/>\r\n   </g>\r\n   <g id=\"patch_55\">\r\n    <path clip-path=\"url(#p4fccf6ba34)\" d=\"M 311.925819 380.369375 \r\nL 325.254845 380.369375 \r\nL 325.254845 354.0649 \r\nL 311.925819 354.0649 \r\nz\r\n\" style=\"fill:#ffc0cb;stroke:#ffffff;stroke-linejoin:miter;\"/>\r\n   </g>\r\n   <g id=\"patch_56\">\r\n    <path clip-path=\"url(#p4fccf6ba34)\" d=\"M 325.254845 380.369375 \r\nL 338.583872 380.369375 \r\nL 338.583872 358.936099 \r\nL 325.254845 358.936099 \r\nz\r\n\" style=\"fill:#ffc0cb;stroke:#ffffff;stroke-linejoin:miter;\"/>\r\n   </g>\r\n   <g id=\"patch_57\">\r\n    <path clip-path=\"url(#p4fccf6ba34)\" d=\"M 338.583872 380.369375 \r\nL 351.912898 380.369375 \r\nL 351.912898 367.704257 \r\nL 338.583872 367.704257 \r\nz\r\n\" style=\"fill:#ffc0cb;stroke:#ffffff;stroke-linejoin:miter;\"/>\r\n   </g>\r\n   <g id=\"patch_58\">\r\n    <path clip-path=\"url(#p4fccf6ba34)\" d=\"M 351.912898 380.369375 \r\nL 365.241925 380.369375 \r\nL 365.241925 371.601217 \r\nL 351.912898 371.601217 \r\nz\r\n\" style=\"fill:#ffc0cb;stroke:#ffffff;stroke-linejoin:miter;\"/>\r\n   </g>\r\n   <g id=\"patch_59\">\r\n    <path clip-path=\"url(#p4fccf6ba34)\" d=\"M 365.241925 380.369375 \r\nL 378.570951 380.369375 \r\nL 378.570951 369.652737 \r\nL 365.241925 369.652737 \r\nz\r\n\" style=\"fill:#ffc0cb;stroke:#ffffff;stroke-linejoin:miter;\"/>\r\n   </g>\r\n   <g id=\"patch_60\">\r\n    <path clip-path=\"url(#p4fccf6ba34)\" d=\"M 378.570951 380.369375 \r\nL 391.899978 380.369375 \r\nL 391.899978 374.523936 \r\nL 378.570951 374.523936 \r\nz\r\n\" style=\"fill:#ffc0cb;stroke:#ffffff;stroke-linejoin:miter;\"/>\r\n   </g>\r\n   <g id=\"patch_61\">\r\n    <path d=\"M 223.954244 380.369375 \r\nL 223.954244 210.559375 \r\n\" style=\"fill:none;stroke:#ffffff;stroke-linecap:square;stroke-linejoin:miter;stroke-width:1.25;\"/>\r\n   </g>\r\n   <g id=\"patch_62\">\r\n    <path d=\"M 223.954244 380.369375 \r\nL 399.897394 380.369375 \r\n\" style=\"fill:none;stroke:#ffffff;stroke-linecap:square;stroke-linejoin:miter;stroke-width:1.25;\"/>\r\n   </g>\r\n   <g id=\"text_28\">\r\n    <g id=\"patch_63\">\r\n     <path d=\"M 399.456257 256.32 \r\nL 399.456257 334.60875 \r\nL 418.350632 334.60875 \r\nL 418.350632 256.32 \r\nz\r\n\" style=\"fill:#ffffff;stroke:#ffffff;stroke-linejoin:miter;\"/>\r\n    </g>\r\n    <!-- Sex = female -->\r\n    <defs>\r\n     <path d=\"M 8.6875 0 \r\nL 8.6875 45.015625 \r\nL 0.921875 45.015625 \r\nL 0.921875 51.859375 \r\nL 8.6875 51.859375 \r\nL 8.6875 57.375 \r\nQ 8.6875 62.59375 9.625 65.140625 \r\nQ 10.890625 68.5625 14.078125 70.671875 \r\nQ 17.28125 72.796875 23.046875 72.796875 \r\nQ 26.765625 72.796875 31.25 71.921875 \r\nL 29.9375 64.265625 \r\nQ 27.203125 64.75 24.75 64.75 \r\nQ 20.75 64.75 19.09375 63.03125 \r\nQ 17.4375 61.328125 17.4375 56.640625 \r\nL 17.4375 51.859375 \r\nL 27.546875 51.859375 \r\nL 27.546875 45.015625 \r\nL 17.4375 45.015625 \r\nL 17.4375 0 \r\nz\r\n\" id=\"ArialMT-102\"/>\r\n    </defs>\r\n    <g style=\"fill:#262626;\" transform=\"translate(405.801257 260.28)rotate(-270)scale(0.12 -0.12)\">\r\n     <use xlink:href=\"#ArialMT-83\"/>\r\n     <use x=\"66.699219\" xlink:href=\"#ArialMT-101\"/>\r\n     <use x=\"122.314453\" xlink:href=\"#ArialMT-120\"/>\r\n     <use x=\"172.314453\" xlink:href=\"#ArialMT-32\"/>\r\n     <use x=\"200.097656\" xlink:href=\"#ArialMT-61\"/>\r\n     <use x=\"258.496094\" xlink:href=\"#ArialMT-32\"/>\r\n     <use x=\"286.279297\" xlink:href=\"#ArialMT-102\"/>\r\n     <use x=\"314.0625\" xlink:href=\"#ArialMT-101\"/>\r\n     <use x=\"369.677734\" xlink:href=\"#ArialMT-109\"/>\r\n     <use x=\"452.978516\" xlink:href=\"#ArialMT-97\"/>\r\n     <use x=\"508.59375\" xlink:href=\"#ArialMT-108\"/>\r\n     <use x=\"530.810547\" xlink:href=\"#ArialMT-101\"/>\r\n    </g>\r\n   </g>\r\n  </g>\r\n </g>\r\n <defs>\r\n  <clipPath id=\"pbc725dd67b\">\r\n   <rect height=\"169.81\" width=\"175.94315\" x=\"35.051094\" y=\"21.789375\"/>\r\n  </clipPath>\r\n  <clipPath id=\"pb1e36a984e\">\r\n   <rect height=\"169.81\" width=\"175.94315\" x=\"223.954244\" y=\"21.789375\"/>\r\n  </clipPath>\r\n  <clipPath id=\"p4b8efd03ea\">\r\n   <rect height=\"169.81\" width=\"175.94315\" x=\"35.051094\" y=\"210.559375\"/>\r\n  </clipPath>\r\n  <clipPath id=\"p4fccf6ba34\">\r\n   <rect height=\"169.81\" width=\"175.94315\" x=\"223.954244\" y=\"210.559375\"/>\r\n  </clipPath>\r\n </defs>\r\n</svg>\r\n",
      "image/png": "[encoded data removed]"
     },
     "metadata": {}
    }
   ],
   "source": [
    "sns.set(style=\"darkgrid\")\n",
    "g = sns.FacetGrid(train, row=\"Sex\", col=\"Survived\", margin_titles=True)\n",
    "bins = np.linspace(0, 60, 13)\n",
    "g.map(plt.hist, \"Age\", color=\"pink\", bins=bins)"
   ]
  },
  {
   "cell_type": "code",
   "execution_count": 26,
   "metadata": {},
   "outputs": [
    {
     "output_type": "execute_result",
     "data": {
      "text/plain": "<seaborn.axisgrid.FacetGrid at 0x2ad39fcc848>"
     },
     "metadata": {},
     "execution_count": 26
    },
    {
     "output_type": "display_data",
     "data": {
      "text/plain": "<Figure size 432.85x360 with 1 Axes>",
      "image/svg+xml": "<?xml version=\"1.0\" encoding=\"utf-8\" standalone=\"no\"?>\r\n<!DOCTYPE svg PUBLIC \"-//W3C//DTD SVG 1.1//EN\"\r\n  \"http://www.w3.org/Graphics/SVG/1.1/DTD/svg11.dtd\">\r\n<!-- Created with matplotlib (https://matplotlib.org/) -->\r\n<svg height=\"349.514219pt\" version=\"1.1\" viewBox=\"0 0 419.881758 349.514219\" width=\"419.881758pt\" xmlns=\"http://www.w3.org/2000/svg\" xmlns:xlink=\"http://www.w3.org/1999/xlink\">\r\n <defs>\r\n  <style type=\"text/css\">\r\n*{stroke-linecap:butt;stroke-linejoin:round;}\r\n  </style>\r\n </defs>\r\n <g id=\"figure_1\">\r\n  <g id=\"patch_1\">\r\n   <path d=\"M 0 349.514219 \r\nL 419.881758 349.514219 \r\nL 419.881758 0 \r\nL 0 0 \r\nz\r\n\" style=\"fill:#ffffff;\"/>\r\n  </g>\r\n  <g id=\"axes_1\">\r\n   <g id=\"patch_2\">\r\n    <path d=\"M 44.049063 307.78 \r\nL 341.003258 307.78 \r\nL 341.003258 7.2 \r\nL 44.049063 7.2 \r\nz\r\n\" style=\"fill:#eaeaf2;\"/>\r\n   </g>\r\n   <g id=\"matplotlib.axis_1\">\r\n    <g id=\"xtick_1\">\r\n     <g id=\"text_1\">\r\n      <!-- 1 -->\r\n      <defs>\r\n       <path d=\"M 37.25 0 \r\nL 28.46875 0 \r\nL 28.46875 56 \r\nQ 25.296875 52.984375 20.140625 49.953125 \r\nQ 14.984375 46.921875 10.890625 45.40625 \r\nL 10.890625 53.90625 \r\nQ 18.265625 57.375 23.78125 62.296875 \r\nQ 29.296875 67.234375 31.59375 71.875 \r\nL 37.25 71.875 \r\nz\r\n\" id=\"ArialMT-49\"/>\r\n      </defs>\r\n      <g style=\"fill:#262626;\" transform=\"translate(90.482913 325.153594)scale(0.11 -0.11)\">\r\n       <use xlink:href=\"#ArialMT-49\"/>\r\n      </g>\r\n     </g>\r\n    </g>\r\n    <g id=\"xtick_2\">\r\n     <g id=\"text_2\">\r\n      <!-- 2 -->\r\n      <defs>\r\n       <path d=\"M 50.34375 8.453125 \r\nL 50.34375 0 \r\nL 3.03125 0 \r\nQ 2.9375 3.171875 4.046875 6.109375 \r\nQ 5.859375 10.9375 9.828125 15.625 \r\nQ 13.8125 20.3125 21.34375 26.46875 \r\nQ 33.015625 36.03125 37.109375 41.625 \r\nQ 41.21875 47.21875 41.21875 52.203125 \r\nQ 41.21875 57.421875 37.46875 61 \r\nQ 33.734375 64.59375 27.734375 64.59375 \r\nQ 21.390625 64.59375 17.578125 60.78125 \r\nQ 13.765625 56.984375 13.71875 50.25 \r\nL 4.6875 51.171875 \r\nQ 5.609375 61.28125 11.65625 66.578125 \r\nQ 17.71875 71.875 27.9375 71.875 \r\nQ 38.234375 71.875 44.234375 66.15625 \r\nQ 50.25 60.453125 50.25 52 \r\nQ 50.25 47.703125 48.484375 43.546875 \r\nQ 46.734375 39.40625 42.65625 34.8125 \r\nQ 38.578125 30.21875 29.109375 22.21875 \r\nQ 21.1875 15.578125 18.9375 13.203125 \r\nQ 16.703125 10.84375 15.234375 8.453125 \r\nz\r\n\" id=\"ArialMT-50\"/>\r\n      </defs>\r\n      <g style=\"fill:#262626;\" transform=\"translate(189.467644 325.153594)scale(0.11 -0.11)\">\r\n       <use xlink:href=\"#ArialMT-50\"/>\r\n      </g>\r\n     </g>\r\n    </g>\r\n    <g id=\"xtick_3\">\r\n     <g id=\"text_3\">\r\n      <!-- 3 -->\r\n      <defs>\r\n       <path d=\"M 4.203125 18.890625 \r\nL 12.984375 20.0625 \r\nQ 14.5 12.59375 18.140625 9.296875 \r\nQ 21.78125 6 27 6 \r\nQ 33.203125 6 37.46875 10.296875 \r\nQ 41.75 14.59375 41.75 20.953125 \r\nQ 41.75 27 37.796875 30.921875 \r\nQ 33.84375 34.859375 27.734375 34.859375 \r\nQ 25.25 34.859375 21.53125 33.890625 \r\nL 22.515625 41.609375 \r\nQ 23.390625 41.5 23.921875 41.5 \r\nQ 29.546875 41.5 34.03125 44.421875 \r\nQ 38.53125 47.359375 38.53125 53.46875 \r\nQ 38.53125 58.296875 35.25 61.46875 \r\nQ 31.984375 64.65625 26.8125 64.65625 \r\nQ 21.6875 64.65625 18.265625 61.421875 \r\nQ 14.84375 58.203125 13.875 51.765625 \r\nL 5.078125 53.328125 \r\nQ 6.6875 62.15625 12.390625 67.015625 \r\nQ 18.109375 71.875 26.609375 71.875 \r\nQ 32.46875 71.875 37.390625 69.359375 \r\nQ 42.328125 66.84375 44.9375 62.5 \r\nQ 47.5625 58.15625 47.5625 53.265625 \r\nQ 47.5625 48.640625 45.0625 44.828125 \r\nQ 42.578125 41.015625 37.703125 38.765625 \r\nQ 44.046875 37.3125 47.5625 32.6875 \r\nQ 51.078125 28.078125 51.078125 21.140625 \r\nQ 51.078125 11.765625 44.234375 5.25 \r\nQ 37.40625 -1.265625 26.953125 -1.265625 \r\nQ 17.53125 -1.265625 11.296875 4.34375 \r\nQ 5.078125 9.96875 4.203125 18.890625 \r\nz\r\n\" id=\"ArialMT-51\"/>\r\n      </defs>\r\n      <g style=\"fill:#262626;\" transform=\"translate(288.452376 325.153594)scale(0.11 -0.11)\">\r\n       <use xlink:href=\"#ArialMT-51\"/>\r\n      </g>\r\n     </g>\r\n    </g>\r\n    <g id=\"text_4\">\r\n     <!-- Pclass -->\r\n     <defs>\r\n      <path d=\"M 7.71875 0 \r\nL 7.71875 71.578125 \r\nL 34.71875 71.578125 \r\nQ 41.84375 71.578125 45.609375 70.90625 \r\nQ 50.875 70.015625 54.4375 67.546875 \r\nQ 58.015625 65.09375 60.1875 60.640625 \r\nQ 62.359375 56.203125 62.359375 50.875 \r\nQ 62.359375 41.75 56.546875 35.421875 \r\nQ 50.734375 29.109375 35.546875 29.109375 \r\nL 17.1875 29.109375 \r\nL 17.1875 0 \r\nz\r\nM 17.1875 37.546875 \r\nL 35.6875 37.546875 \r\nQ 44.875 37.546875 48.734375 40.96875 \r\nQ 52.59375 44.390625 52.59375 50.59375 \r\nQ 52.59375 55.078125 50.3125 58.265625 \r\nQ 48.046875 61.46875 44.34375 62.5 \r\nQ 41.9375 63.140625 35.5 63.140625 \r\nL 17.1875 63.140625 \r\nz\r\n\" id=\"ArialMT-80\"/>\r\n      <path d=\"M 40.4375 19 \r\nL 49.078125 17.875 \r\nQ 47.65625 8.9375 41.8125 3.875 \r\nQ 35.984375 -1.171875 27.484375 -1.171875 \r\nQ 16.84375 -1.171875 10.375 5.78125 \r\nQ 3.90625 12.75 3.90625 25.734375 \r\nQ 3.90625 34.125 6.6875 40.421875 \r\nQ 9.46875 46.734375 15.15625 49.875 \r\nQ 20.84375 53.03125 27.546875 53.03125 \r\nQ 35.984375 53.03125 41.359375 48.75 \r\nQ 46.734375 44.484375 48.25 36.625 \r\nL 39.703125 35.296875 \r\nQ 38.484375 40.53125 35.375 43.15625 \r\nQ 32.28125 45.796875 27.875 45.796875 \r\nQ 21.234375 45.796875 17.078125 41.03125 \r\nQ 12.9375 36.28125 12.9375 25.984375 \r\nQ 12.9375 15.53125 16.9375 10.796875 \r\nQ 20.953125 6.0625 27.390625 6.0625 \r\nQ 32.5625 6.0625 36.03125 9.234375 \r\nQ 39.5 12.40625 40.4375 19 \r\nz\r\n\" id=\"ArialMT-99\"/>\r\n      <path d=\"M 6.390625 0 \r\nL 6.390625 71.578125 \r\nL 15.1875 71.578125 \r\nL 15.1875 0 \r\nz\r\n\" id=\"ArialMT-108\"/>\r\n      <path d=\"M 40.4375 6.390625 \r\nQ 35.546875 2.25 31.03125 0.53125 \r\nQ 26.515625 -1.171875 21.34375 -1.171875 \r\nQ 12.796875 -1.171875 8.203125 3 \r\nQ 3.609375 7.171875 3.609375 13.671875 \r\nQ 3.609375 17.484375 5.34375 20.625 \r\nQ 7.078125 23.78125 9.890625 25.6875 \r\nQ 12.703125 27.59375 16.21875 28.5625 \r\nQ 18.796875 29.25 24.03125 29.890625 \r\nQ 34.671875 31.15625 39.703125 32.90625 \r\nQ 39.75 34.71875 39.75 35.203125 \r\nQ 39.75 40.578125 37.25 42.78125 \r\nQ 33.890625 45.75 27.25 45.75 \r\nQ 21.046875 45.75 18.09375 43.578125 \r\nQ 15.140625 41.40625 13.71875 35.890625 \r\nL 5.125 37.0625 \r\nQ 6.296875 42.578125 8.984375 45.96875 \r\nQ 11.671875 49.359375 16.75 51.1875 \r\nQ 21.828125 53.03125 28.515625 53.03125 \r\nQ 35.15625 53.03125 39.296875 51.46875 \r\nQ 43.453125 49.90625 45.40625 47.53125 \r\nQ 47.359375 45.171875 48.140625 41.546875 \r\nQ 48.578125 39.3125 48.578125 33.453125 \r\nL 48.578125 21.734375 \r\nQ 48.578125 9.46875 49.140625 6.21875 \r\nQ 49.703125 2.984375 51.375 0 \r\nL 42.1875 0 \r\nQ 40.828125 2.734375 40.4375 6.390625 \r\nz\r\nM 39.703125 26.03125 \r\nQ 34.90625 24.078125 25.34375 22.703125 \r\nQ 19.921875 21.921875 17.671875 20.9375 \r\nQ 15.4375 19.96875 14.203125 18.09375 \r\nQ 12.984375 16.21875 12.984375 13.921875 \r\nQ 12.984375 10.40625 15.640625 8.0625 \r\nQ 18.3125 5.71875 23.4375 5.71875 \r\nQ 28.515625 5.71875 32.46875 7.9375 \r\nQ 36.421875 10.15625 38.28125 14.015625 \r\nQ 39.703125 17 39.703125 22.796875 \r\nz\r\n\" id=\"ArialMT-97\"/>\r\n      <path d=\"M 3.078125 15.484375 \r\nL 11.765625 16.84375 \r\nQ 12.5 11.625 15.84375 8.84375 \r\nQ 19.1875 6.0625 25.203125 6.0625 \r\nQ 31.25 6.0625 34.171875 8.515625 \r\nQ 37.109375 10.984375 37.109375 14.3125 \r\nQ 37.109375 17.28125 34.515625 19 \r\nQ 32.71875 20.171875 25.53125 21.96875 \r\nQ 15.875 24.421875 12.140625 26.203125 \r\nQ 8.40625 27.984375 6.46875 31.125 \r\nQ 4.546875 34.28125 4.546875 38.09375 \r\nQ 4.546875 41.546875 6.125 44.5 \r\nQ 7.71875 47.46875 10.453125 49.421875 \r\nQ 12.5 50.921875 16.03125 51.96875 \r\nQ 19.578125 53.03125 23.640625 53.03125 \r\nQ 29.734375 53.03125 34.34375 51.265625 \r\nQ 38.96875 49.515625 41.15625 46.5 \r\nQ 43.359375 43.5 44.1875 38.484375 \r\nL 35.59375 37.3125 \r\nQ 35.015625 41.3125 32.203125 43.546875 \r\nQ 29.390625 45.796875 24.265625 45.796875 \r\nQ 18.21875 45.796875 15.625 43.796875 \r\nQ 13.03125 41.796875 13.03125 39.109375 \r\nQ 13.03125 37.40625 14.109375 36.03125 \r\nQ 15.1875 34.625 17.484375 33.6875 \r\nQ 18.796875 33.203125 25.25 31.453125 \r\nQ 34.578125 28.953125 38.25 27.359375 \r\nQ 41.9375 25.78125 44.03125 22.75 \r\nQ 46.140625 19.734375 46.140625 15.234375 \r\nQ 46.140625 10.84375 43.578125 6.953125 \r\nQ 41.015625 3.078125 36.171875 0.953125 \r\nQ 31.34375 -1.171875 25.25 -1.171875 \r\nQ 15.140625 -1.171875 9.84375 3.03125 \r\nQ 4.546875 7.234375 3.078125 15.484375 \r\nz\r\n\" id=\"ArialMT-115\"/>\r\n     </defs>\r\n     <g style=\"fill:#262626;\" transform=\"translate(174.854285 339.929219)scale(0.12 -0.12)\">\r\n      <use xlink:href=\"#ArialMT-80\"/>\r\n      <use x=\"66.699219\" xlink:href=\"#ArialMT-99\"/>\r\n      <use x=\"116.699219\" xlink:href=\"#ArialMT-108\"/>\r\n      <use x=\"138.916016\" xlink:href=\"#ArialMT-97\"/>\r\n      <use x=\"194.53125\" xlink:href=\"#ArialMT-115\"/>\r\n      <use x=\"244.53125\" xlink:href=\"#ArialMT-115\"/>\r\n     </g>\r\n    </g>\r\n   </g>\r\n   <g id=\"matplotlib.axis_2\">\r\n    <g id=\"ytick_1\">\r\n     <g id=\"line2d_1\">\r\n      <path clip-path=\"url(#p3fc71d1115)\" d=\"M 44.049063 293.134836 \r\nL 341.003258 293.134836 \r\n\" style=\"fill:none;stroke:#ffffff;stroke-linecap:round;\"/>\r\n     </g>\r\n     <g id=\"text_5\">\r\n      <!-- 0 -->\r\n      <defs>\r\n       <path d=\"M 4.15625 35.296875 \r\nQ 4.15625 48 6.765625 55.734375 \r\nQ 9.375 63.484375 14.515625 67.671875 \r\nQ 19.671875 71.875 27.484375 71.875 \r\nQ 33.25 71.875 37.59375 69.546875 \r\nQ 41.9375 67.234375 44.765625 62.859375 \r\nQ 47.609375 58.5 49.21875 52.21875 \r\nQ 50.828125 45.953125 50.828125 35.296875 \r\nQ 50.828125 22.703125 48.234375 14.96875 \r\nQ 45.65625 7.234375 40.5 3 \r\nQ 35.359375 -1.21875 27.484375 -1.21875 \r\nQ 17.140625 -1.21875 11.234375 6.203125 \r\nQ 4.15625 15.140625 4.15625 35.296875 \r\nz\r\nM 13.1875 35.296875 \r\nQ 13.1875 17.671875 17.3125 11.828125 \r\nQ 21.4375 6 27.484375 6 \r\nQ 33.546875 6 37.671875 11.859375 \r\nQ 41.796875 17.71875 41.796875 35.296875 \r\nQ 41.796875 52.984375 37.671875 58.78125 \r\nQ 33.546875 64.59375 27.390625 64.59375 \r\nQ 21.34375 64.59375 17.71875 59.46875 \r\nQ 13.1875 52.9375 13.1875 35.296875 \r\nz\r\n\" id=\"ArialMT-48\"/>\r\n      </defs>\r\n      <g style=\"fill:#262626;\" transform=\"translate(28.432031 297.071633)scale(0.11 -0.11)\">\r\n       <use xlink:href=\"#ArialMT-48\"/>\r\n      </g>\r\n     </g>\r\n    </g>\r\n    <g id=\"ytick_2\">\r\n     <g id=\"line2d_2\">\r\n      <path clip-path=\"url(#p3fc71d1115)\" d=\"M 44.049063 259.104247 \r\nL 341.003258 259.104247 \r\n\" style=\"fill:none;stroke:#ffffff;stroke-linecap:round;\"/>\r\n     </g>\r\n     <g id=\"text_6\">\r\n      <!-- 10 -->\r\n      <g style=\"fill:#262626;\" transform=\"translate(22.315 263.041044)scale(0.11 -0.11)\">\r\n       <use xlink:href=\"#ArialMT-49\"/>\r\n       <use x=\"55.615234\" xlink:href=\"#ArialMT-48\"/>\r\n      </g>\r\n     </g>\r\n    </g>\r\n    <g id=\"ytick_3\">\r\n     <g id=\"line2d_3\">\r\n      <path clip-path=\"url(#p3fc71d1115)\" d=\"M 44.049063 225.073657 \r\nL 341.003258 225.073657 \r\n\" style=\"fill:none;stroke:#ffffff;stroke-linecap:round;\"/>\r\n     </g>\r\n     <g id=\"text_7\">\r\n      <!-- 20 -->\r\n      <g style=\"fill:#262626;\" transform=\"translate(22.315 229.010454)scale(0.11 -0.11)\">\r\n       <use xlink:href=\"#ArialMT-50\"/>\r\n       <use x=\"55.615234\" xlink:href=\"#ArialMT-48\"/>\r\n      </g>\r\n     </g>\r\n    </g>\r\n    <g id=\"ytick_4\">\r\n     <g id=\"line2d_4\">\r\n      <path clip-path=\"url(#p3fc71d1115)\" d=\"M 44.049063 191.043068 \r\nL 341.003258 191.043068 \r\n\" style=\"fill:none;stroke:#ffffff;stroke-linecap:round;\"/>\r\n     </g>\r\n     <g id=\"text_8\">\r\n      <!-- 30 -->\r\n      <g style=\"fill:#262626;\" transform=\"translate(22.315 194.979865)scale(0.11 -0.11)\">\r\n       <use xlink:href=\"#ArialMT-51\"/>\r\n       <use x=\"55.615234\" xlink:href=\"#ArialMT-48\"/>\r\n      </g>\r\n     </g>\r\n    </g>\r\n    <g id=\"ytick_5\">\r\n     <g id=\"line2d_5\">\r\n      <path clip-path=\"url(#p3fc71d1115)\" d=\"M 44.049063 157.012478 \r\nL 341.003258 157.012478 \r\n\" style=\"fill:none;stroke:#ffffff;stroke-linecap:round;\"/>\r\n     </g>\r\n     <g id=\"text_9\">\r\n      <!-- 40 -->\r\n      <defs>\r\n       <path d=\"M 32.328125 0 \r\nL 32.328125 17.140625 \r\nL 1.265625 17.140625 \r\nL 1.265625 25.203125 \r\nL 33.9375 71.578125 \r\nL 41.109375 71.578125 \r\nL 41.109375 25.203125 \r\nL 50.78125 25.203125 \r\nL 50.78125 17.140625 \r\nL 41.109375 17.140625 \r\nL 41.109375 0 \r\nz\r\nM 32.328125 25.203125 \r\nL 32.328125 57.46875 \r\nL 9.90625 25.203125 \r\nz\r\n\" id=\"ArialMT-52\"/>\r\n      </defs>\r\n      <g style=\"fill:#262626;\" transform=\"translate(22.315 160.949275)scale(0.11 -0.11)\">\r\n       <use xlink:href=\"#ArialMT-52\"/>\r\n       <use x=\"55.615234\" xlink:href=\"#ArialMT-48\"/>\r\n      </g>\r\n     </g>\r\n    </g>\r\n    <g id=\"ytick_6\">\r\n     <g id=\"line2d_6\">\r\n      <path clip-path=\"url(#p3fc71d1115)\" d=\"M 44.049063 122.981889 \r\nL 341.003258 122.981889 \r\n\" style=\"fill:none;stroke:#ffffff;stroke-linecap:round;\"/>\r\n     </g>\r\n     <g id=\"text_10\">\r\n      <!-- 50 -->\r\n      <defs>\r\n       <path d=\"M 4.15625 18.75 \r\nL 13.375 19.53125 \r\nQ 14.40625 12.796875 18.140625 9.390625 \r\nQ 21.875 6 27.15625 6 \r\nQ 33.5 6 37.890625 10.78125 \r\nQ 42.28125 15.578125 42.28125 23.484375 \r\nQ 42.28125 31 38.0625 35.34375 \r\nQ 33.84375 39.703125 27 39.703125 \r\nQ 22.75 39.703125 19.328125 37.765625 \r\nQ 15.921875 35.84375 13.96875 32.765625 \r\nL 5.71875 33.84375 \r\nL 12.640625 70.609375 \r\nL 48.25 70.609375 \r\nL 48.25 62.203125 \r\nL 19.671875 62.203125 \r\nL 15.828125 42.96875 \r\nQ 22.265625 47.46875 29.34375 47.46875 \r\nQ 38.71875 47.46875 45.15625 40.96875 \r\nQ 51.609375 34.46875 51.609375 24.265625 \r\nQ 51.609375 14.546875 45.953125 7.46875 \r\nQ 39.0625 -1.21875 27.15625 -1.21875 \r\nQ 17.390625 -1.21875 11.203125 4.25 \r\nQ 5.03125 9.71875 4.15625 18.75 \r\nz\r\n\" id=\"ArialMT-53\"/>\r\n      </defs>\r\n      <g style=\"fill:#262626;\" transform=\"translate(22.315 126.918686)scale(0.11 -0.11)\">\r\n       <use xlink:href=\"#ArialMT-53\"/>\r\n       <use x=\"55.615234\" xlink:href=\"#ArialMT-48\"/>\r\n      </g>\r\n     </g>\r\n    </g>\r\n    <g id=\"ytick_7\">\r\n     <g id=\"line2d_7\">\r\n      <path clip-path=\"url(#p3fc71d1115)\" d=\"M 44.049063 88.951299 \r\nL 341.003258 88.951299 \r\n\" style=\"fill:none;stroke:#ffffff;stroke-linecap:round;\"/>\r\n     </g>\r\n     <g id=\"text_11\">\r\n      <!-- 60 -->\r\n      <defs>\r\n       <path d=\"M 49.75 54.046875 \r\nL 41.015625 53.375 \r\nQ 39.84375 58.546875 37.703125 60.890625 \r\nQ 34.125 64.65625 28.90625 64.65625 \r\nQ 24.703125 64.65625 21.53125 62.3125 \r\nQ 17.390625 59.28125 14.984375 53.46875 \r\nQ 12.59375 47.65625 12.5 36.921875 \r\nQ 15.671875 41.75 20.265625 44.09375 \r\nQ 24.859375 46.4375 29.890625 46.4375 \r\nQ 38.671875 46.4375 44.84375 39.96875 \r\nQ 51.03125 33.5 51.03125 23.25 \r\nQ 51.03125 16.5 48.125 10.71875 \r\nQ 45.21875 4.9375 40.140625 1.859375 \r\nQ 35.0625 -1.21875 28.609375 -1.21875 \r\nQ 17.625 -1.21875 10.6875 6.859375 \r\nQ 3.765625 14.9375 3.765625 33.5 \r\nQ 3.765625 54.25 11.421875 63.671875 \r\nQ 18.109375 71.875 29.4375 71.875 \r\nQ 37.890625 71.875 43.28125 67.140625 \r\nQ 48.6875 62.40625 49.75 54.046875 \r\nz\r\nM 13.875 23.1875 \r\nQ 13.875 18.65625 15.796875 14.5 \r\nQ 17.71875 10.359375 21.1875 8.171875 \r\nQ 24.65625 6 28.46875 6 \r\nQ 34.03125 6 38.03125 10.484375 \r\nQ 42.046875 14.984375 42.046875 22.703125 \r\nQ 42.046875 30.125 38.078125 34.390625 \r\nQ 34.125 38.671875 28.125 38.671875 \r\nQ 22.171875 38.671875 18.015625 34.390625 \r\nQ 13.875 30.125 13.875 23.1875 \r\nz\r\n\" id=\"ArialMT-54\"/>\r\n      </defs>\r\n      <g style=\"fill:#262626;\" transform=\"translate(22.315 92.888096)scale(0.11 -0.11)\">\r\n       <use xlink:href=\"#ArialMT-54\"/>\r\n       <use x=\"55.615234\" xlink:href=\"#ArialMT-48\"/>\r\n      </g>\r\n     </g>\r\n    </g>\r\n    <g id=\"ytick_8\">\r\n     <g id=\"line2d_8\">\r\n      <path clip-path=\"url(#p3fc71d1115)\" d=\"M 44.049063 54.92071 \r\nL 341.003258 54.92071 \r\n\" style=\"fill:none;stroke:#ffffff;stroke-linecap:round;\"/>\r\n     </g>\r\n     <g id=\"text_12\">\r\n      <!-- 70 -->\r\n      <defs>\r\n       <path d=\"M 4.734375 62.203125 \r\nL 4.734375 70.65625 \r\nL 51.078125 70.65625 \r\nL 51.078125 63.8125 \r\nQ 44.234375 56.546875 37.515625 44.484375 \r\nQ 30.8125 32.421875 27.15625 19.671875 \r\nQ 24.515625 10.6875 23.78125 0 \r\nL 14.75 0 \r\nQ 14.890625 8.453125 18.0625 20.40625 \r\nQ 21.234375 32.375 27.171875 43.484375 \r\nQ 33.109375 54.59375 39.796875 62.203125 \r\nz\r\n\" id=\"ArialMT-55\"/>\r\n      </defs>\r\n      <g style=\"fill:#262626;\" transform=\"translate(22.315 58.857506)scale(0.11 -0.11)\">\r\n       <use xlink:href=\"#ArialMT-55\"/>\r\n       <use x=\"55.615234\" xlink:href=\"#ArialMT-48\"/>\r\n      </g>\r\n     </g>\r\n    </g>\r\n    <g id=\"ytick_9\">\r\n     <g id=\"line2d_9\">\r\n      <path clip-path=\"url(#p3fc71d1115)\" d=\"M 44.049063 20.89012 \r\nL 341.003258 20.89012 \r\n\" style=\"fill:none;stroke:#ffffff;stroke-linecap:round;\"/>\r\n     </g>\r\n     <g id=\"text_13\">\r\n      <!-- 80 -->\r\n      <defs>\r\n       <path d=\"M 17.671875 38.8125 \r\nQ 12.203125 40.828125 9.5625 44.53125 \r\nQ 6.9375 48.25 6.9375 53.421875 \r\nQ 6.9375 61.234375 12.546875 66.546875 \r\nQ 18.171875 71.875 27.484375 71.875 \r\nQ 36.859375 71.875 42.578125 66.421875 \r\nQ 48.296875 60.984375 48.296875 53.171875 \r\nQ 48.296875 48.1875 45.671875 44.5 \r\nQ 43.0625 40.828125 37.75 38.8125 \r\nQ 44.34375 36.671875 47.78125 31.875 \r\nQ 51.21875 27.09375 51.21875 20.453125 \r\nQ 51.21875 11.28125 44.71875 5.03125 \r\nQ 38.234375 -1.21875 27.640625 -1.21875 \r\nQ 17.046875 -1.21875 10.546875 5.046875 \r\nQ 4.046875 11.328125 4.046875 20.703125 \r\nQ 4.046875 27.6875 7.59375 32.390625 \r\nQ 11.140625 37.109375 17.671875 38.8125 \r\nz\r\nM 15.921875 53.71875 \r\nQ 15.921875 48.640625 19.1875 45.40625 \r\nQ 22.46875 42.1875 27.6875 42.1875 \r\nQ 32.765625 42.1875 36.015625 45.375 \r\nQ 39.265625 48.578125 39.265625 53.21875 \r\nQ 39.265625 58.0625 35.90625 61.359375 \r\nQ 32.5625 64.65625 27.59375 64.65625 \r\nQ 22.5625 64.65625 19.234375 61.421875 \r\nQ 15.921875 58.203125 15.921875 53.71875 \r\nz\r\nM 13.09375 20.65625 \r\nQ 13.09375 16.890625 14.875 13.375 \r\nQ 16.65625 9.859375 20.171875 7.921875 \r\nQ 23.6875 6 27.734375 6 \r\nQ 34.03125 6 38.125 10.046875 \r\nQ 42.234375 14.109375 42.234375 20.359375 \r\nQ 42.234375 26.703125 38.015625 30.859375 \r\nQ 33.796875 35.015625 27.4375 35.015625 \r\nQ 21.234375 35.015625 17.15625 30.90625 \r\nQ 13.09375 26.8125 13.09375 20.65625 \r\nz\r\n\" id=\"ArialMT-56\"/>\r\n      </defs>\r\n      <g style=\"fill:#262626;\" transform=\"translate(22.315 24.826917)scale(0.11 -0.11)\">\r\n       <use xlink:href=\"#ArialMT-56\"/>\r\n       <use x=\"55.615234\" xlink:href=\"#ArialMT-48\"/>\r\n      </g>\r\n     </g>\r\n    </g>\r\n    <g id=\"text_14\">\r\n     <!-- Age -->\r\n     <defs>\r\n      <path d=\"M -0.140625 0 \r\nL 27.34375 71.578125 \r\nL 37.546875 71.578125 \r\nL 66.84375 0 \r\nL 56.0625 0 \r\nL 47.703125 21.6875 \r\nL 17.78125 21.6875 \r\nL 9.90625 0 \r\nz\r\nM 20.515625 29.390625 \r\nL 44.78125 29.390625 \r\nL 37.3125 49.21875 \r\nQ 33.890625 58.25 32.234375 64.0625 \r\nQ 30.859375 57.171875 28.375 50.390625 \r\nz\r\n\" id=\"ArialMT-65\"/>\r\n      <path d=\"M 4.984375 -4.296875 \r\nL 13.53125 -5.5625 \r\nQ 14.0625 -9.515625 16.5 -11.328125 \r\nQ 19.78125 -13.765625 25.4375 -13.765625 \r\nQ 31.546875 -13.765625 34.859375 -11.328125 \r\nQ 38.1875 -8.890625 39.359375 -4.5 \r\nQ 40.046875 -1.8125 39.984375 6.78125 \r\nQ 34.234375 0 25.640625 0 \r\nQ 14.9375 0 9.078125 7.71875 \r\nQ 3.21875 15.4375 3.21875 26.21875 \r\nQ 3.21875 33.640625 5.90625 39.90625 \r\nQ 8.59375 46.1875 13.6875 49.609375 \r\nQ 18.796875 53.03125 25.6875 53.03125 \r\nQ 34.859375 53.03125 40.828125 45.609375 \r\nL 40.828125 51.859375 \r\nL 48.921875 51.859375 \r\nL 48.921875 7.03125 \r\nQ 48.921875 -5.078125 46.453125 -10.125 \r\nQ 44 -15.1875 38.640625 -18.109375 \r\nQ 33.296875 -21.046875 25.484375 -21.046875 \r\nQ 16.21875 -21.046875 10.5 -16.875 \r\nQ 4.78125 -12.703125 4.984375 -4.296875 \r\nz\r\nM 12.25 26.859375 \r\nQ 12.25 16.65625 16.296875 11.96875 \r\nQ 20.359375 7.28125 26.46875 7.28125 \r\nQ 32.515625 7.28125 36.609375 11.9375 \r\nQ 40.71875 16.609375 40.71875 26.5625 \r\nQ 40.71875 36.078125 36.5 40.90625 \r\nQ 32.28125 45.75 26.3125 45.75 \r\nQ 20.453125 45.75 16.34375 40.984375 \r\nQ 12.25 36.234375 12.25 26.859375 \r\nz\r\n\" id=\"ArialMT-103\"/>\r\n      <path d=\"M 42.09375 16.703125 \r\nL 51.171875 15.578125 \r\nQ 49.03125 7.625 43.21875 3.21875 \r\nQ 37.40625 -1.171875 28.375 -1.171875 \r\nQ 17 -1.171875 10.328125 5.828125 \r\nQ 3.65625 12.84375 3.65625 25.484375 \r\nQ 3.65625 38.578125 10.390625 45.796875 \r\nQ 17.140625 53.03125 27.875 53.03125 \r\nQ 38.28125 53.03125 44.875 45.953125 \r\nQ 51.46875 38.875 51.46875 26.03125 \r\nQ 51.46875 25.25 51.421875 23.6875 \r\nL 12.75 23.6875 \r\nQ 13.234375 15.140625 17.578125 10.59375 \r\nQ 21.921875 6.0625 28.421875 6.0625 \r\nQ 33.25 6.0625 36.671875 8.59375 \r\nQ 40.09375 11.140625 42.09375 16.703125 \r\nz\r\nM 13.234375 30.90625 \r\nL 42.1875 30.90625 \r\nQ 41.609375 37.453125 38.875 40.71875 \r\nQ 34.671875 45.796875 27.984375 45.796875 \r\nQ 21.921875 45.796875 17.796875 41.75 \r\nQ 13.671875 37.703125 13.234375 30.90625 \r\nz\r\n\" id=\"ArialMT-101\"/>\r\n     </defs>\r\n     <g style=\"fill:#262626;\" transform=\"translate(15.789375 168.165312)rotate(-90)scale(0.12 -0.12)\">\r\n      <use xlink:href=\"#ArialMT-65\"/>\r\n      <use x=\"66.699219\" xlink:href=\"#ArialMT-103\"/>\r\n      <use x=\"122.314453\" xlink:href=\"#ArialMT-101\"/>\r\n     </g>\r\n    </g>\r\n   </g>\r\n   <g id=\"PathCollection_1\"/>\r\n   <g id=\"PathCollection_2\"/>\r\n   <g id=\"patch_3\">\r\n    <path d=\"M 44.049063 307.78 \r\nL 44.049063 7.2 \r\n\" style=\"fill:none;stroke:#ffffff;stroke-linecap:square;stroke-linejoin:miter;stroke-width:1.25;\"/>\r\n   </g>\r\n   <g id=\"patch_4\">\r\n    <path d=\"M 44.049063 307.78 \r\nL 341.003258 307.78 \r\n\" style=\"fill:none;stroke:#ffffff;stroke-linecap:square;stroke-linejoin:miter;stroke-width:1.25;\"/>\r\n   </g>\r\n   <g id=\"PathCollection_3\">\r\n    <defs>\r\n     <path d=\"M 0 2.5 \r\nC 0.663008 2.5 1.29895 2.236584 1.767767 1.767767 \r\nC 2.236584 1.29895 2.5 0.663008 2.5 0 \r\nC 2.5 -0.663008 2.236584 -1.29895 1.767767 -1.767767 \r\nC 1.29895 -2.236584 0.663008 -2.5 0 -2.5 \r\nC -0.663008 -2.5 -1.29895 -2.236584 -1.767767 -1.767767 \r\nC -2.236584 -1.29895 -2.5 -0.663008 -2.5 0 \r\nC -2.5 0.663008 -2.236584 1.29895 -1.767767 1.767767 \r\nC -1.29895 2.236584 -0.663008 2.5 0 2.5 \r\nz\r\n\" id=\"C0_0_13399a8e3a\"/>\r\n    </defs>\r\n    <g clip-path=\"url(#p3fc71d1115)\">\r\n     <use style=\"fill:#dd8452;\" x=\"91.050771\" xlink:href=\"#C0_0_13399a8e3a\" y=\"163.818596\"/>\r\n    </g>\r\n    <g clip-path=\"url(#p3fc71d1115)\">\r\n     <use style=\"fill:#dd8452;\" x=\"92.147402\" xlink:href=\"#C0_0_13399a8e3a\" y=\"174.027773\"/>\r\n    </g>\r\n    <g clip-path=\"url(#p3fc71d1115)\">\r\n     <use style=\"fill:#4c72b0;\" x=\"95.955092\" xlink:href=\"#C0_0_13399a8e3a\" y=\"109.369653\"/>\r\n    </g>\r\n    <g clip-path=\"url(#p3fc71d1115)\">\r\n     <use style=\"fill:#dd8452;\" x=\"92.361923\" xlink:href=\"#C0_0_13399a8e3a\" y=\"95.757417\"/>\r\n    </g>\r\n    <g clip-path=\"url(#p3fc71d1115)\">\r\n     <use style=\"fill:#4c72b0;\" x=\"94.623276\" xlink:href=\"#C0_0_13399a8e3a\" y=\"197.849186\"/>\r\n    </g>\r\n    <g clip-path=\"url(#p3fc71d1115)\">\r\n     <use style=\"fill:#4c72b0;\" x=\"96.688446\" xlink:href=\"#C0_0_13399a8e3a\" y=\"228.476716\"/>\r\n    </g>\r\n    <g clip-path=\"url(#p3fc71d1115)\">\r\n     <use style=\"fill:#4c72b0;\" x=\"95.283814\" xlink:href=\"#C0_0_13399a8e3a\" y=\"157.012478\"/>\r\n    </g>\r\n    <g clip-path=\"url(#p3fc71d1115)\">\r\n     <use style=\"fill:#dd8452;\" x=\"90.841687\" xlink:href=\"#C0_0_13399a8e3a\" y=\"192.066988\"/>\r\n    </g>\r\n    <g clip-path=\"url(#p3fc71d1115)\">\r\n     <use style=\"fill:#4c72b0;\" x=\"90.463015\" xlink:href=\"#C0_0_13399a8e3a\" y=\"197.849186\"/>\r\n    </g>\r\n    <g clip-path=\"url(#p3fc71d1115)\">\r\n     <use style=\"fill:#4c72b0;\" x=\"84.741576\" xlink:href=\"#C0_0_13399a8e3a\" y=\"150.20636\"/>\r\n    </g>\r\n    <g clip-path=\"url(#p3fc71d1115)\">\r\n     <use style=\"fill:#dd8452;\" x=\"83.770528\" xlink:href=\"#C0_0_13399a8e3a\" y=\"126.384948\"/>\r\n    </g>\r\n    <g clip-path=\"url(#p3fc71d1115)\">\r\n     <use style=\"fill:#4c72b0;\" x=\"101.665169\" xlink:href=\"#C0_0_13399a8e3a\" y=\"71.936004\"/>\r\n    </g>\r\n    <g clip-path=\"url(#p3fc71d1115)\">\r\n     <use style=\"fill:#4c72b0;\" x=\"92.843938\" xlink:href=\"#C0_0_13399a8e3a\" y=\"192.066988\"/>\r\n    </g>\r\n    <g clip-path=\"url(#p3fc71d1115)\">\r\n     <use style=\"fill:#4c72b0;\" x=\"103.193573\" xlink:href=\"#C0_0_13399a8e3a\" y=\"139.997183\"/>\r\n    </g>\r\n    <g clip-path=\"url(#p3fc71d1115)\">\r\n     <use style=\"fill:#4c72b0;\" x=\"91.459653\" xlink:href=\"#C0_0_13399a8e3a\" y=\"192.066988\"/>\r\n    </g>\r\n    <g clip-path=\"url(#p3fc71d1115)\">\r\n     <use style=\"fill:#4c72b0;\" x=\"91.916926\" xlink:href=\"#C0_0_13399a8e3a\" y=\"197.849186\"/>\r\n    </g>\r\n    <g clip-path=\"url(#p3fc71d1115)\">\r\n     <use style=\"fill:#dd8452;\" x=\"99.934533\" xlink:href=\"#C0_0_13399a8e3a\" y=\"214.86448\"/>\r\n    </g>\r\n    <g clip-path=\"url(#p3fc71d1115)\">\r\n     <use style=\"fill:#4c72b0;\" x=\"95.923066\" xlink:href=\"#C0_0_13399a8e3a\" y=\"136.594125\"/>\r\n    </g>\r\n    <g clip-path=\"url(#p3fc71d1115)\">\r\n     <use style=\"fill:#4c72b0;\" x=\"101.446922\" xlink:href=\"#C0_0_13399a8e3a\" y=\"51.517651\"/>\r\n    </g>\r\n    <g clip-path=\"url(#p3fc71d1115)\">\r\n     <use style=\"fill:#4c72b0;\" x=\"91.340002\" xlink:href=\"#C0_0_13399a8e3a\" y=\"214.86448\"/>\r\n    </g>\r\n    <g clip-path=\"url(#p3fc71d1115)\">\r\n     <use style=\"fill:#4c72b0;\" x=\"97.161516\" xlink:href=\"#C0_0_13399a8e3a\" y=\"221.670598\"/>\r\n    </g>\r\n    <g clip-path=\"url(#p3fc71d1115)\">\r\n     <use style=\"fill:#4c72b0;\" x=\"91.453661\" xlink:href=\"#C0_0_13399a8e3a\" y=\"133.191066\"/>\r\n    </g>\r\n    <g clip-path=\"url(#p3fc71d1115)\">\r\n     <use style=\"fill:#4c72b0;\" x=\"91.261118\" xlink:href=\"#C0_0_13399a8e3a\" y=\"211.461422\"/>\r\n    </g>\r\n    <g clip-path=\"url(#p3fc71d1115)\">\r\n     <use style=\"fill:#4c72b0;\" x=\"85.879294\" xlink:href=\"#C0_0_13399a8e3a\" y=\"109.369653\"/>\r\n    </g>\r\n    <g clip-path=\"url(#p3fc71d1115)\">\r\n     <use style=\"fill:#dd8452;\" x=\"86.190781\" xlink:href=\"#C0_0_13399a8e3a\" y=\"228.476716\"/>\r\n    </g>\r\n    <g clip-path=\"url(#p3fc71d1115)\">\r\n     <use style=\"fill:#4c72b0;\" x=\"86.968972\" xlink:href=\"#C0_0_13399a8e3a\" y=\"167.221655\"/>\r\n    </g>\r\n    <g clip-path=\"url(#p3fc71d1115)\">\r\n     <use style=\"fill:#4c72b0;\" x=\"94.736351\" xlink:href=\"#C0_0_13399a8e3a\" y=\"211.461422\"/>\r\n    </g>\r\n    <g clip-path=\"url(#p3fc71d1115)\">\r\n     <use style=\"fill:#dd8452;\" x=\"95.618734\" xlink:href=\"#C0_0_13399a8e3a\" y=\"218.267539\"/>\r\n    </g>\r\n    <g clip-path=\"url(#p3fc71d1115)\">\r\n     <use style=\"fill:#4c72b0;\" x=\"100.735397\" xlink:href=\"#C0_0_13399a8e3a\" y=\"119.57883\"/>\r\n    </g>\r\n    <g clip-path=\"url(#p3fc71d1115)\">\r\n     <use style=\"fill:#dd8452;\" x=\"93.824186\" xlink:href=\"#C0_0_13399a8e3a\" y=\"192.066988\"/>\r\n    </g>\r\n    <g clip-path=\"url(#p3fc71d1115)\">\r\n     <use style=\"fill:#4c72b0;\" x=\"92.864789\" xlink:href=\"#C0_0_13399a8e3a\" y=\"192.066988\"/>\r\n    </g>\r\n    <g clip-path=\"url(#p3fc71d1115)\">\r\n     <use style=\"fill:#4c72b0;\" x=\"93.406883\" xlink:href=\"#C0_0_13399a8e3a\" y=\"85.54824\"/>\r\n    </g>\r\n    <g clip-path=\"url(#p3fc71d1115)\">\r\n     <use style=\"fill:#4c72b0;\" x=\"97.199246\" xlink:href=\"#C0_0_13399a8e3a\" y=\"102.563535\"/>\r\n    </g>\r\n    <g clip-path=\"url(#p3fc71d1115)\">\r\n     <use style=\"fill:#dd8452;\" x=\"101.453927\" xlink:href=\"#C0_0_13399a8e3a\" y=\"122.981889\"/>\r\n    </g>\r\n    <g clip-path=\"url(#p3fc71d1115)\">\r\n     <use style=\"fill:#4c72b0;\" x=\"102.052849\" xlink:href=\"#C0_0_13399a8e3a\" y=\"192.066988\"/>\r\n    </g>\r\n    <g clip-path=\"url(#p3fc71d1115)\">\r\n     <use style=\"fill:#4c72b0;\" x=\"101.028659\" xlink:href=\"#C0_0_13399a8e3a\" y=\"139.997183\"/>\r\n    </g>\r\n    <g clip-path=\"url(#p3fc71d1115)\">\r\n     <use style=\"fill:#dd8452;\" x=\"100.115702\" xlink:href=\"#C0_0_13399a8e3a\" y=\"143.400242\"/>\r\n    </g>\r\n    <g clip-path=\"url(#p3fc71d1115)\">\r\n     <use style=\"fill:#dd8452;\" x=\"99.506109\" xlink:href=\"#C0_0_13399a8e3a\" y=\"95.757417\"/>\r\n    </g>\r\n    <g clip-path=\"url(#p3fc71d1115)\">\r\n     <use style=\"fill:#4c72b0;\" x=\"85.11707\" xlink:href=\"#C0_0_13399a8e3a\" y=\"157.012478\"/>\r\n    </g>\r\n    <g clip-path=\"url(#p3fc71d1115)\">\r\n     <use style=\"fill:#dd8452;\" x=\"93.530263\" xlink:href=\"#C0_0_13399a8e3a\" y=\"187.640009\"/>\r\n    </g>\r\n    <g clip-path=\"url(#p3fc71d1115)\">\r\n     <use style=\"fill:#dd8452;\" x=\"95.963962\" xlink:href=\"#C0_0_13399a8e3a\" y=\"184.23695\"/>\r\n    </g>\r\n    <g clip-path=\"url(#p3fc71d1115)\">\r\n     <use style=\"fill:#4c72b0;\" x=\"96.055619\" xlink:href=\"#C0_0_13399a8e3a\" y=\"163.818596\"/>\r\n    </g>\r\n    <g clip-path=\"url(#p3fc71d1115)\">\r\n     <use style=\"fill:#dd8452;\" x=\"96.498429\" xlink:href=\"#C0_0_13399a8e3a\" y=\"174.027773\"/>\r\n    </g>\r\n    <g clip-path=\"url(#p3fc71d1115)\">\r\n     <use style=\"fill:#4c72b0;\" x=\"100.024689\" xlink:href=\"#C0_0_13399a8e3a\" y=\"143.400242\"/>\r\n    </g>\r\n    <g clip-path=\"url(#p3fc71d1115)\">\r\n     <use style=\"fill:#4c72b0;\" x=\"97.309304\" xlink:href=\"#C0_0_13399a8e3a\" y=\"167.221655\"/>\r\n    </g>\r\n    <g clip-path=\"url(#p3fc71d1115)\">\r\n     <use style=\"fill:#4c72b0;\" x=\"99.871608\" xlink:href=\"#C0_0_13399a8e3a\" y=\"82.145181\"/>\r\n    </g>\r\n    <g clip-path=\"url(#p3fc71d1115)\">\r\n     <use style=\"fill:#dd8452;\" x=\"87.018348\" xlink:href=\"#C0_0_13399a8e3a\" y=\"192.066988\"/>\r\n    </g>\r\n    <g clip-path=\"url(#p3fc71d1115)\">\r\n     <use style=\"fill:#dd8452;\" x=\"89.212106\" xlink:href=\"#C0_0_13399a8e3a\" y=\"191.043068\"/>\r\n    </g>\r\n    <g clip-path=\"url(#p3fc71d1115)\">\r\n     <use style=\"fill:#dd8452;\" x=\"94.682387\" xlink:href=\"#C0_0_13399a8e3a\" y=\"174.027773\"/>\r\n    </g>\r\n    <g clip-path=\"url(#p3fc71d1115)\">\r\n     <use style=\"fill:#4c72b0;\" x=\"103.364771\" xlink:href=\"#C0_0_13399a8e3a\" y=\"116.175771\"/>\r\n    </g>\r\n    <g clip-path=\"url(#p3fc71d1115)\">\r\n     <use style=\"fill:#4c72b0;\" x=\"98.40536\" xlink:href=\"#C0_0_13399a8e3a\" y=\"157.012478\"/>\r\n    </g>\r\n    <g clip-path=\"url(#p3fc71d1115)\">\r\n     <use style=\"fill:#dd8452;\" x=\"86.486501\" xlink:href=\"#C0_0_13399a8e3a\" y=\"95.757417\"/>\r\n    </g>\r\n    <g clip-path=\"url(#p3fc71d1115)\">\r\n     <use style=\"fill:#dd8452;\" x=\"99.25165\" xlink:href=\"#C0_0_13399a8e3a\" y=\"174.027773\"/>\r\n    </g>\r\n    <g clip-path=\"url(#p3fc71d1115)\">\r\n     <use style=\"fill:#4c72b0;\" x=\"90.067855\" xlink:href=\"#C0_0_13399a8e3a\" y=\"192.066988\"/>\r\n    </g>\r\n    <g clip-path=\"url(#p3fc71d1115)\">\r\n     <use style=\"fill:#4c72b0;\" x=\"85.842567\" xlink:href=\"#C0_0_13399a8e3a\" y=\"167.221655\"/>\r\n    </g>\r\n    <g clip-path=\"url(#p3fc71d1115)\">\r\n     <use style=\"fill:#dd8452;\" x=\"90.163436\" xlink:href=\"#C0_0_13399a8e3a\" y=\"78.742122\"/>\r\n    </g>\r\n    <g clip-path=\"url(#p3fc71d1115)\">\r\n     <use style=\"fill:#4c72b0;\" x=\"99.146607\" xlink:href=\"#C0_0_13399a8e3a\" y=\"192.066988\"/>\r\n    </g>\r\n    <g clip-path=\"url(#p3fc71d1115)\">\r\n     <use style=\"fill:#dd8452;\" x=\"96.01662\" xlink:href=\"#C0_0_13399a8e3a\" y=\"204.655304\"/>\r\n    </g>\r\n    <g clip-path=\"url(#p3fc71d1115)\">\r\n     <use style=\"fill:#dd8452;\" x=\"98.660042\" xlink:href=\"#C0_0_13399a8e3a\" y=\"228.476716\"/>\r\n    </g>\r\n    <g clip-path=\"url(#p3fc71d1115)\">\r\n     <use style=\"fill:#4c72b0;\" x=\"94.848347\" xlink:href=\"#C0_0_13399a8e3a\" y=\"192.066988\"/>\r\n    </g>\r\n    <g clip-path=\"url(#p3fc71d1115)\">\r\n     <use style=\"fill:#dd8452;\" x=\"91.438342\" xlink:href=\"#C0_0_13399a8e3a\" y=\"286.328719\"/>\r\n    </g>\r\n    <g clip-path=\"url(#p3fc71d1115)\">\r\n     <use style=\"fill:#4c72b0;\" x=\"87.337649\" xlink:href=\"#C0_0_13399a8e3a\" y=\"192.066988\"/>\r\n    </g>\r\n    <g clip-path=\"url(#p3fc71d1115)\">\r\n     <use style=\"fill:#dd8452;\" x=\"102.631147\" xlink:href=\"#C0_0_13399a8e3a\" y=\"122.981889\"/>\r\n    </g>\r\n    <g clip-path=\"url(#p3fc71d1115)\">\r\n     <use style=\"fill:#4c72b0;\" x=\"94.079935\" xlink:href=\"#C0_0_13399a8e3a\" y=\"290.004022\"/>\r\n    </g>\r\n    <g clip-path=\"url(#p3fc71d1115)\">\r\n     <use style=\"fill:#dd8452;\" x=\"98.110278\" xlink:href=\"#C0_0_13399a8e3a\" y=\"192.066988\"/>\r\n    </g>\r\n    <g clip-path=\"url(#p3fc71d1115)\">\r\n     <use style=\"fill:#dd8452;\" x=\"102.445208\" xlink:href=\"#C0_0_13399a8e3a\" y=\"235.282834\"/>\r\n    </g>\r\n    <g clip-path=\"url(#p3fc71d1115)\">\r\n     <use style=\"fill:#dd8452;\" x=\"102.029818\" xlink:href=\"#C0_0_13399a8e3a\" y=\"191.043068\"/>\r\n    </g>\r\n    <g clip-path=\"url(#p3fc71d1115)\">\r\n     <use style=\"fill:#dd8452;\" x=\"95.117266\" xlink:href=\"#C0_0_13399a8e3a\" y=\"211.461422\"/>\r\n    </g>\r\n    <g clip-path=\"url(#p3fc71d1115)\">\r\n     <use style=\"fill:#dd8452;\" x=\"85.536129\" xlink:href=\"#C0_0_13399a8e3a\" y=\"231.879775\"/>\r\n    </g>\r\n    <g clip-path=\"url(#p3fc71d1115)\">\r\n     <use style=\"fill:#dd8452;\" x=\"94.895394\" xlink:href=\"#C0_0_13399a8e3a\" y=\"187.640009\"/>\r\n    </g>\r\n    <g clip-path=\"url(#p3fc71d1115)\">\r\n     <use style=\"fill:#dd8452;\" x=\"102.113117\" xlink:href=\"#C0_0_13399a8e3a\" y=\"157.012478\"/>\r\n    </g>\r\n    <g clip-path=\"url(#p3fc71d1115)\">\r\n     <use style=\"fill:#dd8452;\" x=\"89.828222\" xlink:href=\"#C0_0_13399a8e3a\" y=\"170.624714\"/>\r\n    </g>\r\n    <g clip-path=\"url(#p3fc71d1115)\">\r\n     <use style=\"fill:#dd8452;\" x=\"100.646107\" xlink:href=\"#C0_0_13399a8e3a\" y=\"238.685893\"/>\r\n    </g>\r\n    <g clip-path=\"url(#p3fc71d1115)\">\r\n     <use style=\"fill:#4c72b0;\" x=\"101.262845\" xlink:href=\"#C0_0_13399a8e3a\" y=\"138.295654\"/>\r\n    </g>\r\n    <g clip-path=\"url(#p3fc71d1115)\">\r\n     <use style=\"fill:#4c72b0;\" x=\"100.290321\" xlink:href=\"#C0_0_13399a8e3a\" y=\"163.818596\"/>\r\n    </g>\r\n    <g clip-path=\"url(#p3fc71d1115)\">\r\n     <use style=\"fill:#dd8452;\" x=\"89.228364\" xlink:href=\"#C0_0_13399a8e3a\" y=\"192.066988\"/>\r\n    </g>\r\n    <g clip-path=\"url(#p3fc71d1115)\">\r\n     <use style=\"fill:#4c72b0;\" x=\"95.572563\" xlink:href=\"#C0_0_13399a8e3a\" y=\"194.446127\"/>\r\n    </g>\r\n    <g clip-path=\"url(#p3fc71d1115)\">\r\n     <use style=\"fill:#dd8452;\" x=\"97.672315\" xlink:href=\"#C0_0_13399a8e3a\" y=\"153.609419\"/>\r\n    </g>\r\n    <g clip-path=\"url(#p3fc71d1115)\">\r\n     <use style=\"fill:#4c72b0;\" x=\"95.077734\" xlink:href=\"#C0_0_13399a8e3a\" y=\"139.997183\"/>\r\n    </g>\r\n    <g clip-path=\"url(#p3fc71d1115)\">\r\n     <use style=\"fill:#dd8452;\" x=\"85.998386\" xlink:href=\"#C0_0_13399a8e3a\" y=\"211.461422\"/>\r\n    </g>\r\n    <g clip-path=\"url(#p3fc71d1115)\">\r\n     <use style=\"fill:#4c72b0;\" x=\"97.600891\" xlink:href=\"#C0_0_13399a8e3a\" y=\"192.066988\"/>\r\n    </g>\r\n    <g clip-path=\"url(#p3fc71d1115)\">\r\n     <use style=\"fill:#dd8452;\" x=\"83.955099\" xlink:href=\"#C0_0_13399a8e3a\" y=\"218.267539\"/>\r\n    </g>\r\n    <g clip-path=\"url(#p3fc71d1115)\">\r\n     <use style=\"fill:#dd8452;\" x=\"96.466156\" xlink:href=\"#C0_0_13399a8e3a\" y=\"88.951299\"/>\r\n    </g>\r\n    <g clip-path=\"url(#p3fc71d1115)\">\r\n     <use style=\"fill:#dd8452;\" x=\"90.916857\" xlink:href=\"#C0_0_13399a8e3a\" y=\"211.461422\"/>\r\n    </g>\r\n    <g clip-path=\"url(#p3fc71d1115)\">\r\n     <use style=\"fill:#4c72b0;\" x=\"90.199311\" xlink:href=\"#C0_0_13399a8e3a\" y=\"208.058363\"/>\r\n    </g>\r\n    <g clip-path=\"url(#p3fc71d1115)\">\r\n     <use style=\"fill:#4c72b0;\" x=\"99.186659\" xlink:href=\"#C0_0_13399a8e3a\" y=\"218.267539\"/>\r\n    </g>\r\n    <g clip-path=\"url(#p3fc71d1115)\">\r\n     <use style=\"fill:#dd8452;\" x=\"103.25062\" xlink:href=\"#C0_0_13399a8e3a\" y=\"192.066988\"/>\r\n    </g>\r\n    <g clip-path=\"url(#p3fc71d1115)\">\r\n     <use style=\"fill:#4c72b0;\" x=\"95.715824\" xlink:href=\"#C0_0_13399a8e3a\" y=\"201.252245\"/>\r\n    </g>\r\n    <g clip-path=\"url(#p3fc71d1115)\">\r\n     <use style=\"fill:#dd8452;\" x=\"91.016324\" xlink:href=\"#C0_0_13399a8e3a\" y=\"150.20636\"/>\r\n    </g>\r\n    <g clip-path=\"url(#p3fc71d1115)\">\r\n     <use style=\"fill:#dd8452;\" x=\"100.288123\" xlink:href=\"#C0_0_13399a8e3a\" y=\"174.027773\"/>\r\n    </g>\r\n    <g clip-path=\"url(#p3fc71d1115)\">\r\n     <use style=\"fill:#4c72b0;\" x=\"103.135306\" xlink:href=\"#C0_0_13399a8e3a\" y=\"170.624714\"/>\r\n    </g>\r\n    <g clip-path=\"url(#p3fc71d1115)\">\r\n     <use style=\"fill:#dd8452;\" x=\"94.125825\" xlink:href=\"#C0_0_13399a8e3a\" y=\"214.86448\"/>\r\n    </g>\r\n    <g clip-path=\"url(#p3fc71d1115)\">\r\n     <use style=\"fill:#dd8452;\" x=\"100.339204\" xlink:href=\"#C0_0_13399a8e3a\" y=\"180.833891\"/>\r\n    </g>\r\n    <g clip-path=\"url(#p3fc71d1115)\">\r\n     <use style=\"fill:#4c72b0;\" x=\"93.932716\" xlink:href=\"#C0_0_13399a8e3a\" y=\"197.849186\"/>\r\n    </g>\r\n    <g clip-path=\"url(#p3fc71d1115)\">\r\n     <use style=\"fill:#4c72b0;\" x=\"89.876631\" xlink:href=\"#C0_0_13399a8e3a\" y=\"122.981889\"/>\r\n    </g>\r\n    <g clip-path=\"url(#p3fc71d1115)\">\r\n     <use style=\"fill:#dd8452;\" x=\"96.347662\" xlink:href=\"#C0_0_13399a8e3a\" y=\"245.492011\"/>\r\n    </g>\r\n    <g clip-path=\"url(#p3fc71d1115)\">\r\n     <use style=\"fill:#4c72b0;\" x=\"90.897992\" xlink:href=\"#C0_0_13399a8e3a\" y=\"75.339063\"/>\r\n    </g>\r\n    <g clip-path=\"url(#p3fc71d1115)\">\r\n     <use style=\"fill:#4c72b0;\" x=\"86.215308\" xlink:href=\"#C0_0_13399a8e3a\" y=\"279.522601\"/>\r\n    </g>\r\n    <g clip-path=\"url(#p3fc71d1115)\">\r\n     <use style=\"fill:#4c72b0;\" x=\"84.415182\" xlink:href=\"#C0_0_13399a8e3a\" y=\"177.430832\"/>\r\n    </g>\r\n    <g clip-path=\"url(#p3fc71d1115)\">\r\n     <use style=\"fill:#4c72b0;\" x=\"95.45543\" xlink:href=\"#C0_0_13399a8e3a\" y=\"116.175771\"/>\r\n    </g>\r\n    <g clip-path=\"url(#p3fc71d1115)\">\r\n     <use style=\"fill:#4c72b0;\" x=\"97.329794\" xlink:href=\"#C0_0_13399a8e3a\" y=\"191.043068\"/>\r\n    </g>\r\n    <g clip-path=\"url(#p3fc71d1115)\">\r\n     <use style=\"fill:#4c72b0;\" x=\"94.028641\" xlink:href=\"#C0_0_13399a8e3a\" y=\"126.384948\"/>\r\n    </g>\r\n    <g clip-path=\"url(#p3fc71d1115)\">\r\n     <use style=\"fill:#4c72b0;\" x=\"84.117505\" xlink:href=\"#C0_0_13399a8e3a\" y=\"71.936004\"/>\r\n    </g>\r\n    <g clip-path=\"url(#p3fc71d1115)\">\r\n     <use style=\"fill:#dd8452;\" x=\"96.769154\" xlink:href=\"#C0_0_13399a8e3a\" y=\"192.066988\"/>\r\n    </g>\r\n    <g clip-path=\"url(#p3fc71d1115)\">\r\n     <use style=\"fill:#4c72b0;\" x=\"89.124903\" xlink:href=\"#C0_0_13399a8e3a\" y=\"129.788007\"/>\r\n    </g>\r\n    <g clip-path=\"url(#p3fc71d1115)\">\r\n     <use style=\"fill:#4c72b0;\" x=\"89.206019\" xlink:href=\"#C0_0_13399a8e3a\" y=\"133.191066\"/>\r\n    </g>\r\n    <g clip-path=\"url(#p3fc71d1115)\">\r\n     <use style=\"fill:#4c72b0;\" x=\"95.097036\" xlink:href=\"#C0_0_13399a8e3a\" y=\"102.563535\"/>\r\n    </g>\r\n    <g clip-path=\"url(#p3fc71d1115)\">\r\n     <use style=\"fill:#4c72b0;\" x=\"91.174169\" xlink:href=\"#C0_0_13399a8e3a\" y=\"192.066988\"/>\r\n    </g>\r\n    <g clip-path=\"url(#p3fc71d1115)\">\r\n     <use style=\"fill:#4c72b0;\" x=\"93.204287\" xlink:href=\"#C0_0_13399a8e3a\" y=\"208.058363\"/>\r\n    </g>\r\n    <g clip-path=\"url(#p3fc71d1115)\">\r\n     <use style=\"fill:#dd8452;\" x=\"84.229803\" xlink:href=\"#C0_0_13399a8e3a\" y=\"174.027773\"/>\r\n    </g>\r\n    <g clip-path=\"url(#p3fc71d1115)\">\r\n     <use style=\"fill:#4c72b0;\" x=\"87.721807\" xlink:href=\"#C0_0_13399a8e3a\" y=\"95.757417\"/>\r\n    </g>\r\n    <g clip-path=\"url(#p3fc71d1115)\">\r\n     <use style=\"fill:#4c72b0;\" x=\"101.758139\" xlink:href=\"#C0_0_13399a8e3a\" y=\"105.966594\"/>\r\n    </g>\r\n    <g clip-path=\"url(#p3fc71d1115)\">\r\n     <use style=\"fill:#4c72b0;\" x=\"87.110962\" xlink:href=\"#C0_0_13399a8e3a\" y=\"51.517651\"/>\r\n    </g>\r\n    <g clip-path=\"url(#p3fc71d1115)\">\r\n     <use style=\"fill:#dd8452;\" x=\"88.357099\" xlink:href=\"#C0_0_13399a8e3a\" y=\"109.369653\"/>\r\n    </g>\r\n    <g clip-path=\"url(#p3fc71d1115)\">\r\n     <use style=\"fill:#dd8452;\" x=\"93.051865\" xlink:href=\"#C0_0_13399a8e3a\" y=\"208.058363\"/>\r\n    </g>\r\n    <g clip-path=\"url(#p3fc71d1115)\">\r\n     <use style=\"fill:#dd8452;\" x=\"84.558167\" xlink:href=\"#C0_0_13399a8e3a\" y=\"238.685893\"/>\r\n    </g>\r\n    <g clip-path=\"url(#p3fc71d1115)\">\r\n     <use style=\"fill:#4c72b0;\" x=\"97.642447\" xlink:href=\"#C0_0_13399a8e3a\" y=\"231.879775\"/>\r\n    </g>\r\n    <g clip-path=\"url(#p3fc71d1115)\">\r\n     <use style=\"fill:#4c72b0;\" x=\"89.736081\" xlink:href=\"#C0_0_13399a8e3a\" y=\"192.066988\"/>\r\n    </g>\r\n    <g clip-path=\"url(#p3fc71d1115)\">\r\n     <use style=\"fill:#4c72b0;\" x=\"96.975991\" xlink:href=\"#C0_0_13399a8e3a\" y=\"170.624714\"/>\r\n    </g>\r\n    <g clip-path=\"url(#p3fc71d1115)\">\r\n     <use style=\"fill:#dd8452;\" x=\"88.086479\" xlink:href=\"#C0_0_13399a8e3a\" y=\"109.369653\"/>\r\n    </g>\r\n    <g clip-path=\"url(#p3fc71d1115)\">\r\n     <use style=\"fill:#4c72b0;\" x=\"88.530013\" xlink:href=\"#C0_0_13399a8e3a\" y=\"133.191066\"/>\r\n    </g>\r\n    <g clip-path=\"url(#p3fc71d1115)\">\r\n     <use style=\"fill:#dd8452;\" x=\"88.349476\" xlink:href=\"#C0_0_13399a8e3a\" y=\"191.043068\"/>\r\n    </g>\r\n    <g clip-path=\"url(#p3fc71d1115)\">\r\n     <use style=\"fill:#dd8452;\" x=\"100.695658\" xlink:href=\"#C0_0_13399a8e3a\" y=\"143.400242\"/>\r\n    </g>\r\n    <g clip-path=\"url(#p3fc71d1115)\">\r\n     <use style=\"fill:#4c72b0;\" x=\"94.612285\" xlink:href=\"#C0_0_13399a8e3a\" y=\"192.066988\"/>\r\n    </g>\r\n    <g clip-path=\"url(#p3fc71d1115)\">\r\n     <use style=\"fill:#4c72b0;\" x=\"85.929697\" xlink:href=\"#C0_0_13399a8e3a\" y=\"139.997183\"/>\r\n    </g>\r\n    <g clip-path=\"url(#p3fc71d1115)\">\r\n     <use style=\"fill:#dd8452;\" x=\"87.210939\" xlink:href=\"#C0_0_13399a8e3a\" y=\"191.043068\"/>\r\n    </g>\r\n    <g clip-path=\"url(#p3fc71d1115)\">\r\n     <use style=\"fill:#dd8452;\" x=\"85.466271\" xlink:href=\"#C0_0_13399a8e3a\" y=\"218.267539\"/>\r\n    </g>\r\n    <g clip-path=\"url(#p3fc71d1115)\">\r\n     <use style=\"fill:#dd8452;\" x=\"103.261496\" xlink:href=\"#C0_0_13399a8e3a\" y=\"170.624714\"/>\r\n    </g>\r\n    <g clip-path=\"url(#p3fc71d1115)\">\r\n     <use style=\"fill:#4c72b0;\" x=\"84.955272\" xlink:href=\"#C0_0_13399a8e3a\" y=\"122.981889\"/>\r\n    </g>\r\n    <g clip-path=\"url(#p3fc71d1115)\">\r\n     <use style=\"fill:#4c72b0;\" x=\"99.288081\" xlink:href=\"#C0_0_13399a8e3a\" y=\"75.339063\"/>\r\n    </g>\r\n    <g clip-path=\"url(#p3fc71d1115)\">\r\n     <use style=\"fill:#4c72b0;\" x=\"93.035311\" xlink:href=\"#C0_0_13399a8e3a\" y=\"235.282834\"/>\r\n    </g>\r\n    <g clip-path=\"url(#p3fc71d1115)\">\r\n     <use style=\"fill:#4c72b0;\" x=\"88.92013\" xlink:href=\"#C0_0_13399a8e3a\" y=\"82.145181\"/>\r\n    </g>\r\n    <g clip-path=\"url(#p3fc71d1115)\">\r\n     <use style=\"fill:#dd8452;\" x=\"100.141789\" xlink:href=\"#C0_0_13399a8e3a\" y=\"129.788007\"/>\r\n    </g>\r\n    <g clip-path=\"url(#p3fc71d1115)\">\r\n     <use style=\"fill:#4c72b0;\" x=\"83.68752\" xlink:href=\"#C0_0_13399a8e3a\" y=\"192.066988\"/>\r\n    </g>\r\n    <g clip-path=\"url(#p3fc71d1115)\">\r\n     <use style=\"fill:#dd8452;\" x=\"95.252972\" xlink:href=\"#C0_0_13399a8e3a\" y=\"160.415537\"/>\r\n    </g>\r\n    <g clip-path=\"url(#p3fc71d1115)\">\r\n     <use style=\"fill:#dd8452;\" x=\"87.809892\" xlink:href=\"#C0_0_13399a8e3a\" y=\"112.772712\"/>\r\n    </g>\r\n    <g clip-path=\"url(#p3fc71d1115)\">\r\n     <use style=\"fill:#4c72b0;\" x=\"94.66562\" xlink:href=\"#C0_0_13399a8e3a\" y=\"170.624714\"/>\r\n    </g>\r\n    <g clip-path=\"url(#p3fc71d1115)\">\r\n     <use style=\"fill:#dd8452;\" x=\"86.592448\" xlink:href=\"#C0_0_13399a8e3a\" y=\"160.415537\"/>\r\n    </g>\r\n    <g clip-path=\"url(#p3fc71d1115)\">\r\n     <use style=\"fill:#dd8452;\" x=\"88.167869\" xlink:href=\"#C0_0_13399a8e3a\" y=\"160.415537\"/>\r\n    </g>\r\n    <g clip-path=\"url(#p3fc71d1115)\">\r\n     <use style=\"fill:#4c72b0;\" x=\"87.178953\" xlink:href=\"#C0_0_13399a8e3a\" y=\"170.624714\"/>\r\n    </g>\r\n    <g clip-path=\"url(#p3fc71d1115)\">\r\n     <use style=\"fill:#dd8452;\" x=\"85.834592\" xlink:href=\"#C0_0_13399a8e3a\" y=\"231.879775\"/>\r\n    </g>\r\n    <g clip-path=\"url(#p3fc71d1115)\">\r\n     <use style=\"fill:#4c72b0;\" x=\"84.629748\" xlink:href=\"#C0_0_13399a8e3a\" y=\"88.951299\"/>\r\n    </g>\r\n    <g clip-path=\"url(#p3fc71d1115)\">\r\n     <use style=\"fill:#dd8452;\" x=\"93.986363\" xlink:href=\"#C0_0_13399a8e3a\" y=\"116.175771\"/>\r\n    </g>\r\n    <g clip-path=\"url(#p3fc71d1115)\">\r\n     <use style=\"fill:#4c72b0;\" x=\"87.771389\" xlink:href=\"#C0_0_13399a8e3a\" y=\"126.384948\"/>\r\n    </g>\r\n    <g clip-path=\"url(#p3fc71d1115)\">\r\n     <use style=\"fill:#4c72b0;\" x=\"87.012798\" xlink:href=\"#C0_0_13399a8e3a\" y=\"192.066988\"/>\r\n    </g>\r\n    <g clip-path=\"url(#p3fc71d1115)\">\r\n     <use style=\"fill:#4c72b0;\" x=\"100.628949\" xlink:href=\"#C0_0_13399a8e3a\" y=\"174.027773\"/>\r\n    </g>\r\n    <g clip-path=\"url(#p3fc71d1115)\">\r\n     <use style=\"fill:#4c72b0;\" x=\"100.255772\" xlink:href=\"#C0_0_13399a8e3a\" y=\"201.252245\"/>\r\n    </g>\r\n    <g clip-path=\"url(#p3fc71d1115)\">\r\n     <use style=\"fill:#dd8452;\" x=\"84.3992\" xlink:href=\"#C0_0_13399a8e3a\" y=\"157.012478\"/>\r\n    </g>\r\n    <g clip-path=\"url(#p3fc71d1115)\">\r\n     <use style=\"fill:#4c72b0;\" x=\"94.511767\" xlink:href=\"#C0_0_13399a8e3a\" y=\"150.20636\"/>\r\n    </g>\r\n    <g clip-path=\"url(#p3fc71d1115)\">\r\n     <use style=\"fill:#4c72b0;\" x=\"89.205662\" xlink:href=\"#C0_0_13399a8e3a\" y=\"85.54824\"/>\r\n    </g>\r\n    <g clip-path=\"url(#p3fc71d1115)\">\r\n     <use style=\"fill:#dd8452;\" x=\"97.839841\" xlink:href=\"#C0_0_13399a8e3a\" y=\"221.670598\"/>\r\n    </g>\r\n    <g clip-path=\"url(#p3fc71d1115)\">\r\n     <use style=\"fill:#4c72b0;\" x=\"92.155761\" xlink:href=\"#C0_0_13399a8e3a\" y=\"20.89012\"/>\r\n    </g>\r\n    <g clip-path=\"url(#p3fc71d1115)\">\r\n     <use style=\"fill:#4c72b0;\" x=\"100.23607\" xlink:href=\"#C0_0_13399a8e3a\" y=\"184.23695\"/>\r\n    </g>\r\n    <g clip-path=\"url(#p3fc71d1115)\">\r\n     <use style=\"fill:#4c72b0;\" x=\"97.160228\" xlink:href=\"#C0_0_13399a8e3a\" y=\"192.066988\"/>\r\n    </g>\r\n    <g clip-path=\"url(#p3fc71d1115)\">\r\n     <use style=\"fill:#dd8452;\" x=\"97.579989\" xlink:href=\"#C0_0_13399a8e3a\" y=\"211.461422\"/>\r\n    </g>\r\n    <g clip-path=\"url(#p3fc71d1115)\">\r\n     <use style=\"fill:#4c72b0;\" x=\"91.083734\" xlink:href=\"#C0_0_13399a8e3a\" y=\"129.788007\"/>\r\n    </g>\r\n    <g clip-path=\"url(#p3fc71d1115)\">\r\n     <use style=\"fill:#4c72b0;\" x=\"99.164484\" xlink:href=\"#C0_0_13399a8e3a\" y=\"102.563535\"/>\r\n    </g>\r\n    <g clip-path=\"url(#p3fc71d1115)\">\r\n     <use style=\"fill:#4c72b0;\" x=\"95.053253\" xlink:href=\"#C0_0_13399a8e3a\" y=\"95.757417\"/>\r\n    </g>\r\n    <g clip-path=\"url(#p3fc71d1115)\">\r\n     <use style=\"fill:#4c72b0;\" x=\"93.467134\" xlink:href=\"#C0_0_13399a8e3a\" y=\"122.981889\"/>\r\n    </g>\r\n    <g clip-path=\"url(#p3fc71d1115)\">\r\n     <use style=\"fill:#4c72b0;\" x=\"98.218638\" xlink:href=\"#C0_0_13399a8e3a\" y=\"133.191066\"/>\r\n    </g>\r\n    <g clip-path=\"url(#p3fc71d1115)\">\r\n     <use style=\"fill:#dd8452;\" x=\"94.341777\" xlink:href=\"#C0_0_13399a8e3a\" y=\"192.066988\"/>\r\n    </g>\r\n    <g clip-path=\"url(#p3fc71d1115)\">\r\n     <use style=\"fill:#4c72b0;\" x=\"90.88404\" xlink:href=\"#C0_0_13399a8e3a\" y=\"187.640009\"/>\r\n    </g>\r\n    <g clip-path=\"url(#p3fc71d1115)\">\r\n     <use style=\"fill:#4c72b0;\" x=\"86.941895\" xlink:href=\"#C0_0_13399a8e3a\" y=\"170.624714\"/>\r\n    </g>\r\n    <g clip-path=\"url(#p3fc71d1115)\">\r\n     <use style=\"fill:#4c72b0;\" x=\"90.217308\" xlink:href=\"#C0_0_13399a8e3a\" y=\"201.252245\"/>\r\n    </g>\r\n    <g clip-path=\"url(#p3fc71d1115)\">\r\n     <use style=\"fill:#dd8452;\" x=\"95.10433\" xlink:href=\"#C0_0_13399a8e3a\" y=\"242.088952\"/>\r\n    </g>\r\n    <g clip-path=\"url(#p3fc71d1115)\">\r\n     <use style=\"fill:#4c72b0;\" x=\"98.493286\" xlink:href=\"#C0_0_13399a8e3a\" y=\"187.640009\"/>\r\n    </g>\r\n    <g clip-path=\"url(#p3fc71d1115)\">\r\n     <use style=\"fill:#4c72b0;\" x=\"84.415879\" xlink:href=\"#C0_0_13399a8e3a\" y=\"88.951299\"/>\r\n    </g>\r\n    <g clip-path=\"url(#p3fc71d1115)\">\r\n     <use style=\"fill:#4c72b0;\" x=\"90.651452\" xlink:href=\"#C0_0_13399a8e3a\" y=\"126.384948\"/>\r\n    </g>\r\n    <g clip-path=\"url(#p3fc71d1115)\">\r\n     <use style=\"fill:#dd8452;\" x=\"96.28892\" xlink:href=\"#C0_0_13399a8e3a\" y=\"231.879775\"/>\r\n    </g>\r\n    <g clip-path=\"url(#p3fc71d1115)\">\r\n     <use style=\"fill:#4c72b0;\" x=\"94.06282\" xlink:href=\"#C0_0_13399a8e3a\" y=\"174.027773\"/>\r\n    </g>\r\n    <g clip-path=\"url(#p3fc71d1115)\">\r\n     <use style=\"fill:#4c72b0;\" x=\"93.019535\" xlink:href=\"#C0_0_13399a8e3a\" y=\"150.20636\"/>\r\n    </g>\r\n    <g clip-path=\"url(#p3fc71d1115)\">\r\n     <use style=\"fill:#dd8452;\" x=\"97.894545\" xlink:href=\"#C0_0_13399a8e3a\" y=\"218.267539\"/>\r\n    </g>\r\n    <g clip-path=\"url(#p3fc71d1115)\">\r\n     <use style=\"fill:#dd8452;\" x=\"95.720347\" xlink:href=\"#C0_0_13399a8e3a\" y=\"211.461422\"/>\r\n    </g>\r\n    <g clip-path=\"url(#p3fc71d1115)\">\r\n     <use style=\"fill:#4c72b0;\" x=\"85.486208\" xlink:href=\"#C0_0_13399a8e3a\" y=\"192.066988\"/>\r\n    </g>\r\n    <g clip-path=\"url(#p3fc71d1115)\">\r\n     <use style=\"fill:#4c72b0;\" x=\"91.171778\" xlink:href=\"#C0_0_13399a8e3a\" y=\"129.788007\"/>\r\n    </g>\r\n    <g clip-path=\"url(#p3fc71d1115)\">\r\n     <use style=\"fill:#dd8452;\" x=\"93.996978\" xlink:href=\"#C0_0_13399a8e3a\" y=\"163.818596\"/>\r\n    </g>\r\n    <g clip-path=\"url(#p3fc71d1115)\">\r\n     <use style=\"fill:#4c72b0;\" x=\"100.519119\" xlink:href=\"#C0_0_13399a8e3a\" y=\"201.252245\"/>\r\n    </g>\r\n    <g clip-path=\"url(#p3fc71d1115)\">\r\n     <use style=\"fill:#dd8452;\" x=\"88.715981\" xlink:href=\"#C0_0_13399a8e3a\" y=\"194.446127\"/>\r\n    </g>\r\n    <g clip-path=\"url(#p3fc71d1115)\">\r\n     <use style=\"fill:#4c72b0;\" x=\"97.129931\" xlink:href=\"#C0_0_13399a8e3a\" y=\"174.027773\"/>\r\n    </g>\r\n    <g clip-path=\"url(#p3fc71d1115)\">\r\n     <use style=\"fill:#4c72b0;\" x=\"97.771101\" xlink:href=\"#C0_0_13399a8e3a\" y=\"192.066988\"/>\r\n    </g>\r\n    <g clip-path=\"url(#p3fc71d1115)\">\r\n     <use style=\"fill:#4c72b0;\" x=\"83.916924\" xlink:href=\"#C0_0_13399a8e3a\" y=\"170.624714\"/>\r\n    </g>\r\n    <g clip-path=\"url(#p3fc71d1115)\">\r\n     <use style=\"fill:#dd8452;\" x=\"95.88771\" xlink:href=\"#C0_0_13399a8e3a\" y=\"221.670598\"/>\r\n    </g>\r\n    <g clip-path=\"url(#p3fc71d1115)\">\r\n     <use style=\"fill:#4c72b0;\" x=\"100.252927\" xlink:href=\"#C0_0_13399a8e3a\" y=\"54.92071\"/>\r\n    </g>\r\n    <g clip-path=\"url(#p3fc71d1115)\">\r\n     <use style=\"fill:#4c72b0;\" x=\"94.31078\" xlink:href=\"#C0_0_13399a8e3a\" y=\"228.476716\"/>\r\n    </g>\r\n    <g clip-path=\"url(#p3fc71d1115)\">\r\n     <use style=\"fill:#dd8452;\" x=\"94.520509\" xlink:href=\"#C0_0_13399a8e3a\" y=\"180.833891\"/>\r\n    </g>\r\n    <g clip-path=\"url(#p3fc71d1115)\">\r\n     <use style=\"fill:#dd8452;\" x=\"94.917541\" xlink:href=\"#C0_0_13399a8e3a\" y=\"170.624714\"/>\r\n    </g>\r\n    <g clip-path=\"url(#p3fc71d1115)\">\r\n     <use style=\"fill:#dd8452;\" x=\"95.917381\" xlink:href=\"#C0_0_13399a8e3a\" y=\"119.57883\"/>\r\n    </g>\r\n    <g clip-path=\"url(#p3fc71d1115)\">\r\n     <use style=\"fill:#4c72b0;\" x=\"95.937411\" xlink:href=\"#C0_0_13399a8e3a\" y=\"192.066988\"/>\r\n    </g>\r\n    <g clip-path=\"url(#p3fc71d1115)\">\r\n     <use style=\"fill:#dd8452;\" x=\"84.152603\" xlink:href=\"#C0_0_13399a8e3a\" y=\"146.803301\"/>\r\n    </g>\r\n    <g clip-path=\"url(#p3fc71d1115)\">\r\n     <use style=\"fill:#dd8452;\" x=\"99.444761\" xlink:href=\"#C0_0_13399a8e3a\" y=\"235.282834\"/>\r\n    </g>\r\n    <g clip-path=\"url(#p3fc71d1115)\">\r\n     <use style=\"fill:#4c72b0;\" x=\"103.027095\" xlink:href=\"#C0_0_13399a8e3a\" y=\"194.446127\"/>\r\n    </g>\r\n    <g clip-path=\"url(#p3fc71d1115)\">\r\n     <use style=\"fill:#4c72b0;\" x=\"86.632654\" xlink:href=\"#C0_0_13399a8e3a\" y=\"136.594125\"/>\r\n    </g>\r\n    <g clip-path=\"url(#p3fc71d1115)\">\r\n     <use style=\"fill:#4c72b0;\" x=\"95.956005\" xlink:href=\"#C0_0_13399a8e3a\" y=\"192.066988\"/>\r\n    </g>\r\n    <g clip-path=\"url(#p3fc71d1115)\">\r\n     <use style=\"fill:#dd8452;\" x=\"89.955484\" xlink:href=\"#C0_0_13399a8e3a\" y=\"126.384948\"/>\r\n    </g>\r\n    <g clip-path=\"url(#p3fc71d1115)\">\r\n     <use style=\"fill:#4c72b0;\" x=\"88.526417\" xlink:href=\"#C0_0_13399a8e3a\" y=\"255.701188\"/>\r\n    </g>\r\n    <g clip-path=\"url(#p3fc71d1115)\">\r\n     <use style=\"fill:#4c72b0;\" x=\"100.511488\" xlink:href=\"#C0_0_13399a8e3a\" y=\"160.415537\"/>\r\n    </g>\r\n    <g clip-path=\"url(#p3fc71d1115)\">\r\n     <use style=\"fill:#dd8452;\" x=\"97.669319\" xlink:href=\"#C0_0_13399a8e3a\" y=\"180.833891\"/>\r\n    </g>\r\n    <g clip-path=\"url(#p3fc71d1115)\">\r\n     <use style=\"fill:#4c72b0;\" x=\"91.603491\" xlink:href=\"#C0_0_13399a8e3a\" y=\"192.066988\"/>\r\n    </g>\r\n    <g clip-path=\"url(#p3fc71d1115)\">\r\n     <use style=\"fill:#dd8452;\" x=\"97.271536\" xlink:href=\"#C0_0_13399a8e3a\" y=\"116.175771\"/>\r\n    </g>\r\n    <g clip-path=\"url(#p3fc71d1115)\">\r\n     <use style=\"fill:#4c72b0;\" x=\"95.470303\" xlink:href=\"#C0_0_13399a8e3a\" y=\"163.818596\"/>\r\n    </g>\r\n    <g clip-path=\"url(#p3fc71d1115)\">\r\n     <use style=\"fill:#dd8452;\" x=\"89.940758\" xlink:href=\"#C0_0_13399a8e3a\" y=\"160.415537\"/>\r\n    </g>\r\n    <g clip-path=\"url(#p3fc71d1115)\">\r\n     <use style=\"fill:#4c72b0;\" x=\"84.565871\" xlink:href=\"#C0_0_13399a8e3a\" y=\"192.066988\"/>\r\n    </g>\r\n    <g clip-path=\"url(#p3fc71d1115)\">\r\n     <use style=\"fill:#dd8452;\" x=\"83.974625\" xlink:href=\"#C0_0_13399a8e3a\" y=\"191.043068\"/>\r\n    </g>\r\n    <g clip-path=\"url(#p3fc71d1115)\">\r\n     <use style=\"fill:#dd8452;\" x=\"99.120202\" xlink:href=\"#C0_0_13399a8e3a\" y=\"192.066988\"/>\r\n    </g>\r\n    <g clip-path=\"url(#p3fc71d1115)\">\r\n     <use style=\"fill:#dd8452;\" x=\"91.167931\" xlink:href=\"#C0_0_13399a8e3a\" y=\"238.685893\"/>\r\n    </g>\r\n    <g clip-path=\"url(#p3fc71d1115)\">\r\n     <use style=\"fill:#dd8452;\" x=\"101.249779\" xlink:href=\"#C0_0_13399a8e3a\" y=\"139.997183\"/>\r\n    </g>\r\n    <g clip-path=\"url(#p3fc71d1115)\">\r\n     <use style=\"fill:#4c72b0;\" x=\"99.025428\" xlink:href=\"#C0_0_13399a8e3a\" y=\"119.57883\"/>\r\n    </g>\r\n    <g clip-path=\"url(#p3fc71d1115)\">\r\n     <use style=\"fill:#dd8452;\" x=\"94.303663\" xlink:href=\"#C0_0_13399a8e3a\" y=\"129.788007\"/>\r\n    </g>\r\n    <g clip-path=\"url(#p3fc71d1115)\">\r\n     <use style=\"fill:#4c72b0;\" x=\"101.220738\" xlink:href=\"#C0_0_13399a8e3a\" y=\"187.640009\"/>\r\n    </g>\r\n    <g clip-path=\"url(#p3fc71d1115)\">\r\n     <use style=\"fill:#dd8452;\" x=\"95.214626\" xlink:href=\"#C0_0_13399a8e3a\" y=\"133.191066\"/>\r\n    </g>\r\n    <g clip-path=\"url(#p3fc71d1115)\">\r\n     <use style=\"fill:#4c72b0;\" x=\"89.891178\" xlink:href=\"#C0_0_13399a8e3a\" y=\"180.833891\"/>\r\n    </g>\r\n    <g clip-path=\"url(#p3fc71d1115)\">\r\n     <use style=\"fill:#dd8452;\" x=\"94.046853\" xlink:href=\"#C0_0_13399a8e3a\" y=\"102.563535\"/>\r\n    </g>\r\n    <g clip-path=\"url(#p3fc71d1115)\">\r\n     <use style=\"fill:#dd8452;\" x=\"102.194239\" xlink:href=\"#C0_0_13399a8e3a\" y=\"228.476716\"/>\r\n    </g>\r\n    <g clip-path=\"url(#p3fc71d1115)\">\r\n     <use style=\"fill:#4c72b0;\" x=\"98.275316\" xlink:href=\"#C0_0_13399a8e3a\" y=\"204.655304\"/>\r\n    </g>\r\n   </g>\r\n   <g id=\"PathCollection_4\">\r\n    <defs>\r\n     <path d=\"M 0 2.5 \r\nC 0.663008 2.5 1.29895 2.236584 1.767767 1.767767 \r\nC 2.236584 1.29895 2.5 0.663008 2.5 0 \r\nC 2.5 -0.663008 2.236584 -1.29895 1.767767 -1.767767 \r\nC 1.29895 -2.236584 0.663008 -2.5 0 -2.5 \r\nC -0.663008 -2.5 -1.29895 -2.236584 -1.767767 -1.767767 \r\nC -2.236584 -1.29895 -2.5 -0.663008 -2.5 0 \r\nC -2.5 0.663008 -2.236584 1.29895 -1.767767 1.767767 \r\nC -1.29895 2.236584 -0.663008 2.5 0 2.5 \r\nz\r\n\" id=\"C1_0_3ed3b367d1\"/>\r\n    </defs>\r\n    <g clip-path=\"url(#p3fc71d1115)\">\r\n     <use style=\"fill:#dd8452;\" x=\"200.637248\" xlink:href=\"#C1_0_3ed3b367d1\" y=\"245.492011\"/>\r\n    </g>\r\n    <g clip-path=\"url(#p3fc71d1115)\">\r\n     <use style=\"fill:#dd8452;\" x=\"192.602629\" xlink:href=\"#C1_0_3ed3b367d1\" y=\"105.966594\"/>\r\n    </g>\r\n    <g clip-path=\"url(#p3fc71d1115)\">\r\n     <use style=\"fill:#4c72b0;\" x=\"197.686961\" xlink:href=\"#C1_0_3ed3b367d1\" y=\"192.066988\"/>\r\n    </g>\r\n    <g clip-path=\"url(#p3fc71d1115)\">\r\n     <use style=\"fill:#4c72b0;\" x=\"184.176522\" xlink:href=\"#C1_0_3ed3b367d1\" y=\"174.027773\"/>\r\n    </g>\r\n    <g clip-path=\"url(#p3fc71d1115)\">\r\n     <use style=\"fill:#4c72b0;\" x=\"189.441875\" xlink:href=\"#C1_0_3ed3b367d1\" y=\"177.430832\"/>\r\n    </g>\r\n    <g clip-path=\"url(#p3fc71d1115)\">\r\n     <use style=\"fill:#4c72b0;\" x=\"201.621657\" xlink:href=\"#C1_0_3ed3b367d1\" y=\"68.532945\"/>\r\n    </g>\r\n    <g clip-path=\"url(#p3fc71d1115)\">\r\n     <use style=\"fill:#dd8452;\" x=\"200.881443\" xlink:href=\"#C1_0_3ed3b367d1\" y=\"201.252245\"/>\r\n    </g>\r\n    <g clip-path=\"url(#p3fc71d1115)\">\r\n     <use style=\"fill:#dd8452;\" x=\"194.701017\" xlink:href=\"#C1_0_3ed3b367d1\" y=\"282.92566\"/>\r\n    </g>\r\n    <g clip-path=\"url(#p3fc71d1115)\">\r\n     <use style=\"fill:#dd8452;\" x=\"184.005375\" xlink:href=\"#C1_0_3ed3b367d1\" y=\"194.446127\"/>\r\n    </g>\r\n    <g clip-path=\"url(#p3fc71d1115)\">\r\n     <use style=\"fill:#dd8452;\" x=\"196.309507\" xlink:href=\"#C1_0_3ed3b367d1\" y=\"221.670598\"/>\r\n    </g>\r\n    <g clip-path=\"url(#p3fc71d1115)\">\r\n     <use style=\"fill:#dd8452;\" x=\"196.402965\" xlink:href=\"#C1_0_3ed3b367d1\" y=\"276.119542\"/>\r\n    </g>\r\n    <g clip-path=\"url(#p3fc71d1115)\">\r\n     <use style=\"fill:#dd8452;\" x=\"201.062208\" xlink:href=\"#C1_0_3ed3b367d1\" y=\"194.446127\"/>\r\n    </g>\r\n    <g clip-path=\"url(#p3fc71d1115)\">\r\n     <use style=\"fill:#4c72b0;\" x=\"190.328852\" xlink:href=\"#C1_0_3ed3b367d1\" y=\"184.23695\"/>\r\n    </g>\r\n    <g clip-path=\"url(#p3fc71d1115)\">\r\n     <use style=\"fill:#4c72b0;\" x=\"200.395465\" xlink:href=\"#C1_0_3ed3b367d1\" y=\"221.670598\"/>\r\n    </g>\r\n    <g clip-path=\"url(#p3fc71d1115)\">\r\n     <use style=\"fill:#4c72b0;\" x=\"194.59\" xlink:href=\"#C1_0_3ed3b367d1\" y=\"290.310298\"/>\r\n    </g>\r\n    <g clip-path=\"url(#p3fc71d1115)\">\r\n     <use style=\"fill:#dd8452;\" x=\"197.116128\" xlink:href=\"#C1_0_3ed3b367d1\" y=\"235.282834\"/>\r\n    </g>\r\n    <g clip-path=\"url(#p3fc71d1115)\">\r\n     <use style=\"fill:#dd8452;\" x=\"182.71218\" xlink:href=\"#C1_0_3ed3b367d1\" y=\"177.430832\"/>\r\n    </g>\r\n    <g clip-path=\"url(#p3fc71d1115)\">\r\n     <use style=\"fill:#4c72b0;\" x=\"197.427894\" xlink:href=\"#C1_0_3ed3b367d1\" y=\"177.430832\"/>\r\n    </g>\r\n    <g clip-path=\"url(#p3fc71d1115)\">\r\n     <use style=\"fill:#4c72b0;\" x=\"183.75319\" xlink:href=\"#C1_0_3ed3b367d1\" y=\"194.446127\"/>\r\n    </g>\r\n    <g clip-path=\"url(#p3fc71d1115)\">\r\n     <use style=\"fill:#4c72b0;\" x=\"196.584005\" xlink:href=\"#C1_0_3ed3b367d1\" y=\"221.670598\"/>\r\n    </g>\r\n    <g clip-path=\"url(#p3fc71d1115)\">\r\n     <use style=\"fill:#4c72b0;\" x=\"192.511625\" xlink:href=\"#C1_0_3ed3b367d1\" y=\"182.53542\"/>\r\n    </g>\r\n    <g clip-path=\"url(#p3fc71d1115)\">\r\n     <use style=\"fill:#dd8452;\" x=\"185.213499\" xlink:href=\"#C1_0_3ed3b367d1\" y=\"182.53542\"/>\r\n    </g>\r\n    <g clip-path=\"url(#p3fc71d1115)\">\r\n     <use style=\"fill:#dd8452;\" x=\"183.771089\" xlink:href=\"#C1_0_3ed3b367d1\" y=\"194.446127\"/>\r\n    </g>\r\n    <g clip-path=\"url(#p3fc71d1115)\">\r\n     <use style=\"fill:#4c72b0;\" x=\"192.068997\" xlink:href=\"#C1_0_3ed3b367d1\" y=\"208.058363\"/>\r\n    </g>\r\n    <g clip-path=\"url(#p3fc71d1115)\">\r\n     <use style=\"fill:#4c72b0;\" x=\"187.71653\" xlink:href=\"#C1_0_3ed3b367d1\" y=\"214.86448\"/>\r\n    </g>\r\n    <g clip-path=\"url(#p3fc71d1115)\">\r\n     <use style=\"fill:#4c72b0;\" x=\"193.377188\" xlink:href=\"#C1_0_3ed3b367d1\" y=\"231.879775\"/>\r\n    </g>\r\n    <g clip-path=\"url(#p3fc71d1115)\">\r\n     <use style=\"fill:#4c72b0;\" x=\"188.029738\" xlink:href=\"#C1_0_3ed3b367d1\" y=\"228.476716\"/>\r\n    </g>\r\n    <g clip-path=\"url(#p3fc71d1115)\">\r\n     <use style=\"fill:#4c72b0;\" x=\"189.463843\" xlink:href=\"#C1_0_3ed3b367d1\" y=\"168.923185\"/>\r\n    </g>\r\n    <g clip-path=\"url(#p3fc71d1115)\">\r\n     <use style=\"fill:#4c72b0;\" x=\"189.261594\" xlink:href=\"#C1_0_3ed3b367d1\" y=\"150.20636\"/>\r\n    </g>\r\n    <g clip-path=\"url(#p3fc71d1115)\">\r\n     <use style=\"fill:#4c72b0;\" x=\"190.05611\" xlink:href=\"#C1_0_3ed3b367d1\" y=\"119.57883\"/>\r\n    </g>\r\n    <g clip-path=\"url(#p3fc71d1115)\">\r\n     <use style=\"fill:#dd8452;\" x=\"200.671754\" xlink:href=\"#C1_0_3ed3b367d1\" y=\"157.012478\"/>\r\n    </g>\r\n    <g clip-path=\"url(#p3fc71d1115)\">\r\n     <use style=\"fill:#4c72b0;\" x=\"190.484618\" xlink:href=\"#C1_0_3ed3b367d1\" y=\"191.043068\"/>\r\n    </g>\r\n    <g clip-path=\"url(#p3fc71d1115)\">\r\n     <use style=\"fill:#4c72b0;\" x=\"194.378253\" xlink:href=\"#C1_0_3ed3b367d1\" y=\"192.066988\"/>\r\n    </g>\r\n    <g clip-path=\"url(#p3fc71d1115)\">\r\n     <use style=\"fill:#4c72b0;\" x=\"192.657569\" xlink:href=\"#C1_0_3ed3b367d1\" y=\"289.731778\"/>\r\n    </g>\r\n    <g clip-path=\"url(#p3fc71d1115)\">\r\n     <use style=\"fill:#dd8452;\" x=\"195.241958\" xlink:href=\"#C1_0_3ed3b367d1\" y=\"184.23695\"/>\r\n    </g>\r\n    <g clip-path=\"url(#p3fc71d1115)\">\r\n     <use style=\"fill:#4c72b0;\" x=\"185.614316\" xlink:href=\"#C1_0_3ed3b367d1\" y=\"228.476716\"/>\r\n    </g>\r\n    <g clip-path=\"url(#p3fc71d1115)\">\r\n     <use style=\"fill:#4c72b0;\" x=\"195.660393\" xlink:href=\"#C1_0_3ed3b367d1\" y=\"282.92566\"/>\r\n    </g>\r\n    <g clip-path=\"url(#p3fc71d1115)\">\r\n     <use style=\"fill:#dd8452;\" x=\"191.774265\" xlink:href=\"#C1_0_3ed3b367d1\" y=\"211.461422\"/>\r\n    </g>\r\n    <g clip-path=\"url(#p3fc71d1115)\">\r\n     <use style=\"fill:#dd8452;\" x=\"189.818713\" xlink:href=\"#C1_0_3ed3b367d1\" y=\"174.027773\"/>\r\n    </g>\r\n    <g clip-path=\"url(#p3fc71d1115)\">\r\n     <use style=\"fill:#4c72b0;\" x=\"199.195303\" xlink:href=\"#C1_0_3ed3b367d1\" y=\"191.043068\"/>\r\n    </g>\r\n    <g clip-path=\"url(#p3fc71d1115)\">\r\n     <use style=\"fill:#4c72b0;\" x=\"184.420215\" xlink:href=\"#C1_0_3ed3b367d1\" y=\"150.20636\"/>\r\n    </g>\r\n    <g clip-path=\"url(#p3fc71d1115)\">\r\n     <use style=\"fill:#4c72b0;\" x=\"196.302326\" xlink:href=\"#C1_0_3ed3b367d1\" y=\"191.043068\"/>\r\n    </g>\r\n    <g clip-path=\"url(#p3fc71d1115)\">\r\n     <use style=\"fill:#4c72b0;\" x=\"183.367796\" xlink:href=\"#C1_0_3ed3b367d1\" y=\"201.252245\"/>\r\n    </g>\r\n    <g clip-path=\"url(#p3fc71d1115)\">\r\n     <use style=\"fill:#4c72b0;\" x=\"183.913398\" xlink:href=\"#C1_0_3ed3b367d1\" y=\"228.476716\"/>\r\n    </g>\r\n    <g clip-path=\"url(#p3fc71d1115)\">\r\n     <use style=\"fill:#4c72b0;\" x=\"197.415283\" xlink:href=\"#C1_0_3ed3b367d1\" y=\"231.879775\"/>\r\n    </g>\r\n    <g clip-path=\"url(#p3fc71d1115)\">\r\n     <use style=\"fill:#4c72b0;\" x=\"192.402205\" xlink:href=\"#C1_0_3ed3b367d1\" y=\"92.354358\"/>\r\n    </g>\r\n    <g clip-path=\"url(#p3fc71d1115)\">\r\n     <use style=\"fill:#4c72b0;\" x=\"202.300054\" xlink:href=\"#C1_0_3ed3b367d1\" y=\"211.461422\"/>\r\n    </g>\r\n    <g clip-path=\"url(#p3fc71d1115)\">\r\n     <use style=\"fill:#4c72b0;\" x=\"185.356551\" xlink:href=\"#C1_0_3ed3b367d1\" y=\"143.400242\"/>\r\n    </g>\r\n    <g clip-path=\"url(#p3fc71d1115)\">\r\n     <use style=\"fill:#dd8452;\" x=\"201.501748\" xlink:href=\"#C1_0_3ed3b367d1\" y=\"265.910365\"/>\r\n    </g>\r\n    <g clip-path=\"url(#p3fc71d1115)\">\r\n     <use style=\"fill:#4c72b0;\" x=\"183.072617\" xlink:href=\"#C1_0_3ed3b367d1\" y=\"228.476716\"/>\r\n    </g>\r\n    <g clip-path=\"url(#p3fc71d1115)\">\r\n     <use style=\"fill:#4c72b0;\" x=\"196.989679\" xlink:href=\"#C1_0_3ed3b367d1\" y=\"180.833891\"/>\r\n    </g>\r\n    <g clip-path=\"url(#p3fc71d1115)\">\r\n     <use style=\"fill:#4c72b0;\" x=\"185.207883\" xlink:href=\"#C1_0_3ed3b367d1\" y=\"194.446127\"/>\r\n    </g>\r\n    <g clip-path=\"url(#p3fc71d1115)\">\r\n     <use style=\"fill:#dd8452;\" x=\"190.049151\" xlink:href=\"#C1_0_3ed3b367d1\" y=\"211.461422\"/>\r\n    </g>\r\n    <g clip-path=\"url(#p3fc71d1115)\">\r\n     <use style=\"fill:#4c72b0;\" x=\"188.941148\" xlink:href=\"#C1_0_3ed3b367d1\" y=\"109.369653\"/>\r\n    </g>\r\n    <g clip-path=\"url(#p3fc71d1115)\">\r\n     <use style=\"fill:#dd8452;\" x=\"197.40006\" xlink:href=\"#C1_0_3ed3b367d1\" y=\"122.981889\"/>\r\n    </g>\r\n    <g clip-path=\"url(#p3fc71d1115)\">\r\n     <use style=\"fill:#4c72b0;\" x=\"190.836334\" xlink:href=\"#C1_0_3ed3b367d1\" y=\"170.624714\"/>\r\n    </g>\r\n    <g clip-path=\"url(#p3fc71d1115)\">\r\n     <use style=\"fill:#dd8452;\" x=\"190.460123\" xlink:href=\"#C1_0_3ed3b367d1\" y=\"153.609419\"/>\r\n    </g>\r\n    <g clip-path=\"url(#p3fc71d1115)\">\r\n     <use style=\"fill:#4c72b0;\" x=\"198.136543\" xlink:href=\"#C1_0_3ed3b367d1\" y=\"192.066988\"/>\r\n    </g>\r\n    <g clip-path=\"url(#p3fc71d1115)\">\r\n     <use style=\"fill:#4c72b0;\" x=\"189.054383\" xlink:href=\"#C1_0_3ed3b367d1\" y=\"150.20636\"/>\r\n    </g>\r\n    <g clip-path=\"url(#p3fc71d1115)\">\r\n     <use style=\"fill:#4c72b0;\" x=\"186.629477\" xlink:href=\"#C1_0_3ed3b367d1\" y=\"170.624714\"/>\r\n    </g>\r\n    <g clip-path=\"url(#p3fc71d1115)\">\r\n     <use style=\"fill:#dd8452;\" x=\"190.575602\" xlink:href=\"#C1_0_3ed3b367d1\" y=\"192.066988\"/>\r\n    </g>\r\n    <g clip-path=\"url(#p3fc71d1115)\">\r\n     <use style=\"fill:#4c72b0;\" x=\"192.939467\" xlink:href=\"#C1_0_3ed3b367d1\" y=\"191.043068\"/>\r\n    </g>\r\n    <g clip-path=\"url(#p3fc71d1115)\">\r\n     <use style=\"fill:#dd8452;\" x=\"197.631956\" xlink:href=\"#C1_0_3ed3b367d1\" y=\"204.655304\"/>\r\n    </g>\r\n    <g clip-path=\"url(#p3fc71d1115)\">\r\n     <use style=\"fill:#4c72b0;\" x=\"198.492947\" xlink:href=\"#C1_0_3ed3b367d1\" y=\"146.803301\"/>\r\n    </g>\r\n    <g clip-path=\"url(#p3fc71d1115)\">\r\n     <use style=\"fill:#dd8452;\" x=\"197.319328\" xlink:href=\"#C1_0_3ed3b367d1\" y=\"211.461422\"/>\r\n    </g>\r\n    <g clip-path=\"url(#p3fc71d1115)\">\r\n     <use style=\"fill:#4c72b0;\" x=\"185.735545\" xlink:href=\"#C1_0_3ed3b367d1\" y=\"109.369653\"/>\r\n    </g>\r\n    <g clip-path=\"url(#p3fc71d1115)\">\r\n     <use style=\"fill:#dd8452;\" x=\"189.396527\" xlink:href=\"#C1_0_3ed3b367d1\" y=\"191.043068\"/>\r\n    </g>\r\n    <g clip-path=\"url(#p3fc71d1115)\">\r\n     <use style=\"fill:#dd8452;\" x=\"186.711561\" xlink:href=\"#C1_0_3ed3b367d1\" y=\"218.267539\"/>\r\n    </g>\r\n    <g clip-path=\"url(#p3fc71d1115)\">\r\n     <use style=\"fill:#dd8452;\" x=\"199.043822\" xlink:href=\"#C1_0_3ed3b367d1\" y=\"170.624714\"/>\r\n    </g>\r\n    <g clip-path=\"url(#p3fc71d1115)\">\r\n     <use style=\"fill:#4c72b0;\" x=\"196.217146\" xlink:href=\"#C1_0_3ed3b367d1\" y=\"286.328719\"/>\r\n    </g>\r\n    <g clip-path=\"url(#p3fc71d1115)\">\r\n     <use style=\"fill:#4c72b0;\" x=\"183.619492\" xlink:href=\"#C1_0_3ed3b367d1\" y=\"197.849186\"/>\r\n    </g>\r\n    <g clip-path=\"url(#p3fc71d1115)\">\r\n     <use style=\"fill:#4c72b0;\" x=\"195.091036\" xlink:href=\"#C1_0_3ed3b367d1\" y=\"208.058363\"/>\r\n    </g>\r\n    <g clip-path=\"url(#p3fc71d1115)\">\r\n     <use style=\"fill:#4c72b0;\" x=\"198.035046\" xlink:href=\"#C1_0_3ed3b367d1\" y=\"170.624714\"/>\r\n    </g>\r\n    <g clip-path=\"url(#p3fc71d1115)\">\r\n     <use style=\"fill:#dd8452;\" x=\"187.477808\" xlink:href=\"#C1_0_3ed3b367d1\" y=\"211.461422\"/>\r\n    </g>\r\n    <g clip-path=\"url(#p3fc71d1115)\">\r\n     <use style=\"fill:#dd8452;\" x=\"201.125846\" xlink:href=\"#C1_0_3ed3b367d1\" y=\"157.012478\"/>\r\n    </g>\r\n    <g clip-path=\"url(#p3fc71d1115)\">\r\n     <use style=\"fill:#dd8452;\" x=\"197.162693\" xlink:href=\"#C1_0_3ed3b367d1\" y=\"163.818596\"/>\r\n    </g>\r\n    <g clip-path=\"url(#p3fc71d1115)\">\r\n     <use style=\"fill:#4c72b0;\" x=\"189.546896\" xlink:href=\"#C1_0_3ed3b367d1\" y=\"194.446127\"/>\r\n    </g>\r\n    <g clip-path=\"url(#p3fc71d1115)\">\r\n     <use style=\"fill:#4c72b0;\" x=\"201.25079\" xlink:href=\"#C1_0_3ed3b367d1\" y=\"231.879775\"/>\r\n    </g>\r\n    <g clip-path=\"url(#p3fc71d1115)\">\r\n     <use style=\"fill:#dd8452;\" x=\"196.226091\" xlink:href=\"#C1_0_3ed3b367d1\" y=\"170.624714\"/>\r\n    </g>\r\n    <g clip-path=\"url(#p3fc71d1115)\">\r\n     <use style=\"fill:#dd8452;\" x=\"183.043191\" xlink:href=\"#C1_0_3ed3b367d1\" y=\"235.282834\"/>\r\n    </g>\r\n    <g clip-path=\"url(#p3fc71d1115)\">\r\n     <use style=\"fill:#4c72b0;\" x=\"202.291635\" xlink:href=\"#C1_0_3ed3b367d1\" y=\"136.594125\"/>\r\n    </g>\r\n    <g clip-path=\"url(#p3fc71d1115)\">\r\n     <use style=\"fill:#4c72b0;\" x=\"196.805742\" xlink:href=\"#C1_0_3ed3b367d1\" y=\"214.86448\"/>\r\n    </g>\r\n    <g clip-path=\"url(#p3fc71d1115)\">\r\n     <use style=\"fill:#dd8452;\" x=\"192.726239\" xlink:href=\"#C1_0_3ed3b367d1\" y=\"197.849186\"/>\r\n    </g>\r\n    <g clip-path=\"url(#p3fc71d1115)\">\r\n     <use style=\"fill:#4c72b0;\" x=\"198.884583\" xlink:href=\"#C1_0_3ed3b367d1\" y=\"177.430832\"/>\r\n    </g>\r\n    <g clip-path=\"url(#p3fc71d1115)\">\r\n     <use style=\"fill:#4c72b0;\" x=\"192.679666\" xlink:href=\"#C1_0_3ed3b367d1\" y=\"282.92566\"/>\r\n    </g>\r\n    <g clip-path=\"url(#p3fc71d1115)\">\r\n     <use style=\"fill:#4c72b0;\" x=\"197.014829\" xlink:href=\"#C1_0_3ed3b367d1\" y=\"192.066988\"/>\r\n    </g>\r\n    <g clip-path=\"url(#p3fc71d1115)\">\r\n     <use style=\"fill:#dd8452;\" x=\"192.233509\" xlink:href=\"#C1_0_3ed3b367d1\" y=\"177.430832\"/>\r\n    </g>\r\n    <g clip-path=\"url(#p3fc71d1115)\">\r\n     <use style=\"fill:#dd8452;\" x=\"185.144146\" xlink:href=\"#C1_0_3ed3b367d1\" y=\"231.879775\"/>\r\n    </g>\r\n    <g clip-path=\"url(#p3fc71d1115)\">\r\n     <use style=\"fill:#4c72b0;\" x=\"190.482438\" xlink:href=\"#C1_0_3ed3b367d1\" y=\"191.043068\"/>\r\n    </g>\r\n    <g clip-path=\"url(#p3fc71d1115)\">\r\n     <use style=\"fill:#dd8452;\" x=\"185.054958\" xlink:href=\"#C1_0_3ed3b367d1\" y=\"197.849186\"/>\r\n    </g>\r\n    <g clip-path=\"url(#p3fc71d1115)\">\r\n     <use style=\"fill:#dd8452;\" x=\"187.116271\" xlink:href=\"#C1_0_3ed3b367d1\" y=\"228.476716\"/>\r\n    </g>\r\n    <g clip-path=\"url(#p3fc71d1115)\">\r\n     <use style=\"fill:#dd8452;\" x=\"189.819936\" xlink:href=\"#C1_0_3ed3b367d1\" y=\"150.20636\"/>\r\n    </g>\r\n    <g clip-path=\"url(#p3fc71d1115)\">\r\n     <use style=\"fill:#dd8452;\" x=\"193.256168\" xlink:href=\"#C1_0_3ed3b367d1\" y=\"211.461422\"/>\r\n    </g>\r\n    <g clip-path=\"url(#p3fc71d1115)\">\r\n     <use style=\"fill:#4c72b0;\" x=\"192.143684\" xlink:href=\"#C1_0_3ed3b367d1\" y=\"187.640009\"/>\r\n    </g>\r\n    <g clip-path=\"url(#p3fc71d1115)\">\r\n     <use style=\"fill:#dd8452;\" x=\"189.842562\" xlink:href=\"#C1_0_3ed3b367d1\" y=\"139.997183\"/>\r\n    </g>\r\n    <g clip-path=\"url(#p3fc71d1115)\">\r\n     <use style=\"fill:#dd8452;\" x=\"189.992752\" xlink:href=\"#C1_0_3ed3b367d1\" y=\"197.849186\"/>\r\n    </g>\r\n    <g clip-path=\"url(#p3fc71d1115)\">\r\n     <use style=\"fill:#dd8452;\" x=\"184.649917\" xlink:href=\"#C1_0_3ed3b367d1\" y=\"248.89507\"/>\r\n    </g>\r\n    <g clip-path=\"url(#p3fc71d1115)\">\r\n     <use style=\"fill:#4c72b0;\" x=\"183.42256\" xlink:href=\"#C1_0_3ed3b367d1\" y=\"170.624714\"/>\r\n    </g>\r\n    <g clip-path=\"url(#p3fc71d1115)\">\r\n     <use style=\"fill:#dd8452;\" x=\"195.038398\" xlink:href=\"#C1_0_3ed3b367d1\" y=\"122.981889\"/>\r\n    </g>\r\n    <g clip-path=\"url(#p3fc71d1115)\">\r\n     <use style=\"fill:#4c72b0;\" x=\"193.427492\" xlink:href=\"#C1_0_3ed3b367d1\" y=\"129.788007\"/>\r\n    </g>\r\n    <g clip-path=\"url(#p3fc71d1115)\">\r\n     <use style=\"fill:#4c72b0;\" x=\"187.388124\" xlink:href=\"#C1_0_3ed3b367d1\" y=\"192.066988\"/>\r\n    </g>\r\n    <g clip-path=\"url(#p3fc71d1115)\">\r\n     <use style=\"fill:#dd8452;\" x=\"184.505037\" xlink:href=\"#C1_0_3ed3b367d1\" y=\"180.833891\"/>\r\n    </g>\r\n    <g clip-path=\"url(#p3fc71d1115)\">\r\n     <use style=\"fill:#dd8452;\" x=\"190.797859\" xlink:href=\"#C1_0_3ed3b367d1\" y=\"214.86448\"/>\r\n    </g>\r\n    <g clip-path=\"url(#p3fc71d1115)\">\r\n     <use style=\"fill:#4c72b0;\" x=\"185.40063\" xlink:href=\"#C1_0_3ed3b367d1\" y=\"177.430832\"/>\r\n    </g>\r\n    <g clip-path=\"url(#p3fc71d1115)\">\r\n     <use style=\"fill:#4c72b0;\" x=\"202.23969\" xlink:href=\"#C1_0_3ed3b367d1\" y=\"192.066988\"/>\r\n    </g>\r\n    <g clip-path=\"url(#p3fc71d1115)\">\r\n     <use style=\"fill:#dd8452;\" x=\"194.447491\" xlink:href=\"#C1_0_3ed3b367d1\" y=\"180.833891\"/>\r\n    </g>\r\n    <g clip-path=\"url(#p3fc71d1115)\">\r\n     <use style=\"fill:#dd8452;\" x=\"186.11874\" xlink:href=\"#C1_0_3ed3b367d1\" y=\"177.430832\"/>\r\n    </g>\r\n    <g clip-path=\"url(#p3fc71d1115)\">\r\n     <use style=\"fill:#dd8452;\" x=\"191.005058\" xlink:href=\"#C1_0_3ed3b367d1\" y=\"170.624714\"/>\r\n    </g>\r\n    <g clip-path=\"url(#p3fc71d1115)\">\r\n     <use style=\"fill:#dd8452;\" x=\"194.785133\" xlink:href=\"#C1_0_3ed3b367d1\" y=\"122.981889\"/>\r\n    </g>\r\n    <g clip-path=\"url(#p3fc71d1115)\">\r\n     <use style=\"fill:#4c72b0;\" x=\"194.741846\" xlink:href=\"#C1_0_3ed3b367d1\" y=\"214.86448\"/>\r\n    </g>\r\n    <g clip-path=\"url(#p3fc71d1115)\">\r\n     <use style=\"fill:#dd8452;\" x=\"196.209645\" xlink:href=\"#C1_0_3ed3b367d1\" y=\"286.328719\"/>\r\n    </g>\r\n    <g clip-path=\"url(#p3fc71d1115)\">\r\n     <use style=\"fill:#dd8452;\" x=\"185.866041\" xlink:href=\"#C1_0_3ed3b367d1\" y=\"269.313424\"/>\r\n    </g>\r\n    <g clip-path=\"url(#p3fc71d1115)\">\r\n     <use style=\"fill:#4c72b0;\" x=\"186.553679\" xlink:href=\"#C1_0_3ed3b367d1\" y=\"184.23695\"/>\r\n    </g>\r\n    <g clip-path=\"url(#p3fc71d1115)\">\r\n     <use style=\"fill:#dd8452;\" x=\"183.80142\" xlink:href=\"#C1_0_3ed3b367d1\" y=\"228.476716\"/>\r\n    </g>\r\n    <g clip-path=\"url(#p3fc71d1115)\">\r\n     <use style=\"fill:#4c72b0;\" x=\"187.711558\" xlink:href=\"#C1_0_3ed3b367d1\" y=\"192.066988\"/>\r\n    </g>\r\n    <g clip-path=\"url(#p3fc71d1115)\">\r\n     <use style=\"fill:#4c72b0;\" x=\"199.057632\" xlink:href=\"#C1_0_3ed3b367d1\" y=\"265.910365\"/>\r\n    </g>\r\n    <g clip-path=\"url(#p3fc71d1115)\">\r\n     <use style=\"fill:#4c72b0;\" x=\"186.749524\" xlink:href=\"#C1_0_3ed3b367d1\" y=\"201.252245\"/>\r\n    </g>\r\n    <g clip-path=\"url(#p3fc71d1115)\">\r\n     <use style=\"fill:#4c72b0;\" x=\"196.258916\" xlink:href=\"#C1_0_3ed3b367d1\" y=\"197.849186\"/>\r\n    </g>\r\n    <g clip-path=\"url(#p3fc71d1115)\">\r\n     <use style=\"fill:#4c72b0;\" x=\"197.193296\" xlink:href=\"#C1_0_3ed3b367d1\" y=\"82.145181\"/>\r\n    </g>\r\n    <g clip-path=\"url(#p3fc71d1115)\">\r\n     <use style=\"fill:#dd8452;\" x=\"184.912905\" xlink:href=\"#C1_0_3ed3b367d1\" y=\"177.430832\"/>\r\n    </g>\r\n    <g clip-path=\"url(#p3fc71d1115)\">\r\n     <use style=\"fill:#dd8452;\" x=\"200.351158\" xlink:href=\"#C1_0_3ed3b367d1\" y=\"208.058363\"/>\r\n    </g>\r\n    <g clip-path=\"url(#p3fc71d1115)\">\r\n     <use style=\"fill:#4c72b0;\" x=\"199.966741\" xlink:href=\"#C1_0_3ed3b367d1\" y=\"109.369653\"/>\r\n    </g>\r\n    <g clip-path=\"url(#p3fc71d1115)\">\r\n     <use style=\"fill:#4c72b0;\" x=\"187.969117\" xlink:href=\"#C1_0_3ed3b367d1\" y=\"133.191066\"/>\r\n    </g>\r\n    <g clip-path=\"url(#p3fc71d1115)\">\r\n     <use style=\"fill:#4c72b0;\" x=\"192.442609\" xlink:href=\"#C1_0_3ed3b367d1\" y=\"167.221655\"/>\r\n    </g>\r\n    <g clip-path=\"url(#p3fc71d1115)\">\r\n     <use style=\"fill:#dd8452;\" x=\"197.354942\" xlink:href=\"#C1_0_3ed3b367d1\" y=\"192.066988\"/>\r\n    </g>\r\n    <g clip-path=\"url(#p3fc71d1115)\">\r\n     <use style=\"fill:#dd8452;\" x=\"198.170451\" xlink:href=\"#C1_0_3ed3b367d1\" y=\"211.461422\"/>\r\n    </g>\r\n    <g clip-path=\"url(#p3fc71d1115)\">\r\n     <use style=\"fill:#dd8452;\" x=\"193.913205\" xlink:href=\"#C1_0_3ed3b367d1\" y=\"218.267539\"/>\r\n    </g>\r\n    <g clip-path=\"url(#p3fc71d1115)\">\r\n     <use style=\"fill:#dd8452;\" x=\"183.72447\" xlink:href=\"#C1_0_3ed3b367d1\" y=\"211.461422\"/>\r\n    </g>\r\n    <g clip-path=\"url(#p3fc71d1115)\">\r\n     <use style=\"fill:#dd8452;\" x=\"183.553811\" xlink:href=\"#C1_0_3ed3b367d1\" y=\"279.522601\"/>\r\n    </g>\r\n    <g clip-path=\"url(#p3fc71d1115)\">\r\n     <use style=\"fill:#4c72b0;\" x=\"200.231362\" xlink:href=\"#C1_0_3ed3b367d1\" y=\"204.655304\"/>\r\n    </g>\r\n    <g clip-path=\"url(#p3fc71d1115)\">\r\n     <use style=\"fill:#4c72b0;\" x=\"192.326835\" xlink:href=\"#C1_0_3ed3b367d1\" y=\"99.160476\"/>\r\n    </g>\r\n    <g clip-path=\"url(#p3fc71d1115)\">\r\n     <use style=\"fill:#dd8452;\" x=\"189.890903\" xlink:href=\"#C1_0_3ed3b367d1\" y=\"197.849186\"/>\r\n    </g>\r\n    <g clip-path=\"url(#p3fc71d1115)\">\r\n     <use style=\"fill:#4c72b0;\" x=\"182.686373\" xlink:href=\"#C1_0_3ed3b367d1\" y=\"187.640009\"/>\r\n    </g>\r\n    <g clip-path=\"url(#p3fc71d1115)\">\r\n     <use style=\"fill:#dd8452;\" x=\"193.259697\" xlink:href=\"#C1_0_3ed3b367d1\" y=\"231.879775\"/>\r\n    </g>\r\n    <g clip-path=\"url(#p3fc71d1115)\">\r\n     <use style=\"fill:#4c72b0;\" x=\"184.535502\" xlink:href=\"#C1_0_3ed3b367d1\" y=\"211.461422\"/>\r\n    </g>\r\n    <g clip-path=\"url(#p3fc71d1115)\">\r\n     <use style=\"fill:#4c72b0;\" x=\"188.883026\" xlink:href=\"#C1_0_3ed3b367d1\" y=\"214.86448\"/>\r\n    </g>\r\n    <g clip-path=\"url(#p3fc71d1115)\">\r\n     <use style=\"fill:#4c72b0;\" x=\"199.286091\" xlink:href=\"#C1_0_3ed3b367d1\" y=\"184.23695\"/>\r\n    </g>\r\n    <g clip-path=\"url(#p3fc71d1115)\">\r\n     <use style=\"fill:#4c72b0;\" x=\"190.538585\" xlink:href=\"#C1_0_3ed3b367d1\" y=\"208.058363\"/>\r\n    </g>\r\n    <g clip-path=\"url(#p3fc71d1115)\">\r\n     <use style=\"fill:#dd8452;\" x=\"192.75093\" xlink:href=\"#C1_0_3ed3b367d1\" y=\"157.012478\"/>\r\n    </g>\r\n    <g clip-path=\"url(#p3fc71d1115)\">\r\n     <use style=\"fill:#4c72b0;\" x=\"201.573922\" xlink:href=\"#C1_0_3ed3b367d1\" y=\"54.92071\"/>\r\n    </g>\r\n    <g clip-path=\"url(#p3fc71d1115)\">\r\n     <use style=\"fill:#4c72b0;\" x=\"190.111501\" xlink:href=\"#C1_0_3ed3b367d1\" y=\"187.640009\"/>\r\n    </g>\r\n    <g clip-path=\"url(#p3fc71d1115)\">\r\n     <use style=\"fill:#4c72b0;\" x=\"201.009126\" xlink:href=\"#C1_0_3ed3b367d1\" y=\"192.066988\"/>\r\n    </g>\r\n    <g clip-path=\"url(#p3fc71d1115)\">\r\n     <use style=\"fill:#4c72b0;\" x=\"197.722602\" xlink:href=\"#C1_0_3ed3b367d1\" y=\"88.951299\"/>\r\n    </g>\r\n    <g clip-path=\"url(#p3fc71d1115)\">\r\n     <use style=\"fill:#4c72b0;\" x=\"183.629038\" xlink:href=\"#C1_0_3ed3b367d1\" y=\"208.058363\"/>\r\n    </g>\r\n    <g clip-path=\"url(#p3fc71d1115)\">\r\n     <use style=\"fill:#4c72b0;\" x=\"189.416664\" xlink:href=\"#C1_0_3ed3b367d1\" y=\"116.175771\"/>\r\n    </g>\r\n    <g clip-path=\"url(#p3fc71d1115)\">\r\n     <use style=\"fill:#4c72b0;\" x=\"196.120092\" xlink:href=\"#C1_0_3ed3b367d1\" y=\"160.415537\"/>\r\n    </g>\r\n    <g clip-path=\"url(#p3fc71d1115)\">\r\n     <use style=\"fill:#dd8452;\" x=\"195.482243\" xlink:href=\"#C1_0_3ed3b367d1\" y=\"139.997183\"/>\r\n    </g>\r\n    <g clip-path=\"url(#p3fc71d1115)\">\r\n     <use style=\"fill:#4c72b0;\" x=\"189.829661\" xlink:href=\"#C1_0_3ed3b367d1\" y=\"116.175771\"/>\r\n    </g>\r\n    <g clip-path=\"url(#p3fc71d1115)\">\r\n     <use style=\"fill:#dd8452;\" x=\"198.533638\" xlink:href=\"#C1_0_3ed3b367d1\" y=\"201.252245\"/>\r\n    </g>\r\n    <g clip-path=\"url(#p3fc71d1115)\">\r\n     <use style=\"fill:#dd8452;\" x=\"192.794553\" xlink:href=\"#C1_0_3ed3b367d1\" y=\"272.716483\"/>\r\n    </g>\r\n    <g clip-path=\"url(#p3fc71d1115)\">\r\n     <use style=\"fill:#4c72b0;\" x=\"200.399334\" xlink:href=\"#C1_0_3ed3b367d1\" y=\"177.430832\"/>\r\n    </g>\r\n    <g clip-path=\"url(#p3fc71d1115)\">\r\n     <use style=\"fill:#4c72b0;\" x=\"193.101822\" xlink:href=\"#C1_0_3ed3b367d1\" y=\"122.981889\"/>\r\n    </g>\r\n    <g clip-path=\"url(#p3fc71d1115)\">\r\n     <use style=\"fill:#dd8452;\" x=\"187.665914\" xlink:href=\"#C1_0_3ed3b367d1\" y=\"191.043068\"/>\r\n    </g>\r\n    <g clip-path=\"url(#p3fc71d1115)\">\r\n     <use style=\"fill:#4c72b0;\" x=\"191.892293\" xlink:href=\"#C1_0_3ed3b367d1\" y=\"208.058363\"/>\r\n    </g>\r\n    <g clip-path=\"url(#p3fc71d1115)\">\r\n     <use style=\"fill:#4c72b0;\" x=\"199.096814\" xlink:href=\"#C1_0_3ed3b367d1\" y=\"192.066988\"/>\r\n    </g>\r\n    <g clip-path=\"url(#p3fc71d1115)\">\r\n     <use style=\"fill:#4c72b0;\" x=\"200.173233\" xlink:href=\"#C1_0_3ed3b367d1\" y=\"214.86448\"/>\r\n    </g>\r\n    <g clip-path=\"url(#p3fc71d1115)\">\r\n     <use style=\"fill:#4c72b0;\" x=\"196.200622\" xlink:href=\"#C1_0_3ed3b367d1\" y=\"214.86448\"/>\r\n    </g>\r\n    <g clip-path=\"url(#p3fc71d1115)\">\r\n     <use style=\"fill:#dd8452;\" x=\"189.59768\" xlink:href=\"#C1_0_3ed3b367d1\" y=\"191.043068\"/>\r\n    </g>\r\n    <g clip-path=\"url(#p3fc71d1115)\">\r\n     <use style=\"fill:#dd8452;\" x=\"195.752737\" xlink:href=\"#C1_0_3ed3b367d1\" y=\"279.522601\"/>\r\n    </g>\r\n    <g clip-path=\"url(#p3fc71d1115)\">\r\n     <use style=\"fill:#dd8452;\" x=\"193.756645\" xlink:href=\"#C1_0_3ed3b367d1\" y=\"129.788007\"/>\r\n    </g>\r\n    <g clip-path=\"url(#p3fc71d1115)\">\r\n     <use style=\"fill:#4c72b0;\" x=\"187.176717\" xlink:href=\"#C1_0_3ed3b367d1\" y=\"290.854787\"/>\r\n    </g>\r\n    <g clip-path=\"url(#p3fc71d1115)\">\r\n     <use style=\"fill:#4c72b0;\" x=\"193.052591\" xlink:href=\"#C1_0_3ed3b367d1\" y=\"231.879775\"/>\r\n    </g>\r\n    <g clip-path=\"url(#p3fc71d1115)\">\r\n     <use style=\"fill:#dd8452;\" x=\"187.355854\" xlink:href=\"#C1_0_3ed3b367d1\" y=\"99.160476\"/>\r\n    </g>\r\n    <g clip-path=\"url(#p3fc71d1115)\">\r\n     <use style=\"fill:#dd8452;\" x=\"196.649793\" xlink:href=\"#C1_0_3ed3b367d1\" y=\"109.369653\"/>\r\n    </g>\r\n    <g clip-path=\"url(#p3fc71d1115)\">\r\n     <use style=\"fill:#4c72b0;\" x=\"184.62965\" xlink:href=\"#C1_0_3ed3b367d1\" y=\"238.685893\"/>\r\n    </g>\r\n    <g clip-path=\"url(#p3fc71d1115)\">\r\n     <use style=\"fill:#4c72b0;\" x=\"192.576079\" xlink:href=\"#C1_0_3ed3b367d1\" y=\"160.415537\"/>\r\n    </g>\r\n    <g clip-path=\"url(#p3fc71d1115)\">\r\n     <use style=\"fill:#4c72b0;\" x=\"196.699997\" xlink:href=\"#C1_0_3ed3b367d1\" y=\"177.430832\"/>\r\n    </g>\r\n    <g clip-path=\"url(#p3fc71d1115)\">\r\n     <use style=\"fill:#dd8452;\" x=\"200.83779\" xlink:href=\"#C1_0_3ed3b367d1\" y=\"187.640009\"/>\r\n    </g>\r\n    <g clip-path=\"url(#p3fc71d1115)\">\r\n     <use style=\"fill:#4c72b0;\" x=\"194.467751\" xlink:href=\"#C1_0_3ed3b367d1\" y=\"160.415537\"/>\r\n    </g>\r\n    <g clip-path=\"url(#p3fc71d1115)\">\r\n     <use style=\"fill:#4c72b0;\" x=\"191.717269\" xlink:href=\"#C1_0_3ed3b367d1\" y=\"174.027773\"/>\r\n    </g>\r\n    <g clip-path=\"url(#p3fc71d1115)\">\r\n     <use style=\"fill:#4c72b0;\" x=\"183.658617\" xlink:href=\"#C1_0_3ed3b367d1\" y=\"187.640009\"/>\r\n    </g>\r\n    <g clip-path=\"url(#p3fc71d1115)\">\r\n     <use style=\"fill:#4c72b0;\" x=\"183.222663\" xlink:href=\"#C1_0_3ed3b367d1\" y=\"289.731778\"/>\r\n    </g>\r\n    <g clip-path=\"url(#p3fc71d1115)\">\r\n     <use style=\"fill:#4c72b0;\" x=\"192.247983\" xlink:href=\"#C1_0_3ed3b367d1\" y=\"290.310298\"/>\r\n    </g>\r\n    <g clip-path=\"url(#p3fc71d1115)\">\r\n     <use style=\"fill:#4c72b0;\" x=\"187.841668\" xlink:href=\"#C1_0_3ed3b367d1\" y=\"238.685893\"/>\r\n    </g>\r\n    <g clip-path=\"url(#p3fc71d1115)\">\r\n     <use style=\"fill:#4c72b0;\" x=\"185.076069\" xlink:href=\"#C1_0_3ed3b367d1\" y=\"197.849186\"/>\r\n    </g>\r\n    <g clip-path=\"url(#p3fc71d1115)\">\r\n     <use style=\"fill:#dd8452;\" x=\"183.571892\" xlink:href=\"#C1_0_3ed3b367d1\" y=\"143.400242\"/>\r\n    </g>\r\n    <g clip-path=\"url(#p3fc71d1115)\">\r\n     <use style=\"fill:#4c72b0;\" x=\"200.431399\" xlink:href=\"#C1_0_3ed3b367d1\" y=\"221.670598\"/>\r\n    </g>\r\n    <g clip-path=\"url(#p3fc71d1115)\">\r\n     <use style=\"fill:#4c72b0;\" x=\"183.091426\" xlink:href=\"#C1_0_3ed3b367d1\" y=\"211.461422\"/>\r\n    </g>\r\n    <g clip-path=\"url(#p3fc71d1115)\">\r\n     <use style=\"fill:#dd8452;\" x=\"183.288384\" xlink:href=\"#C1_0_3ed3b367d1\" y=\"150.20636\"/>\r\n    </g>\r\n    <g clip-path=\"url(#p3fc71d1115)\">\r\n     <use style=\"fill:#dd8452;\" x=\"194.486338\" xlink:href=\"#C1_0_3ed3b367d1\" y=\"201.252245\"/>\r\n    </g>\r\n    <g clip-path=\"url(#p3fc71d1115)\">\r\n     <use style=\"fill:#dd8452;\" x=\"185.827707\" xlink:href=\"#C1_0_3ed3b367d1\" y=\"197.849186\"/>\r\n    </g>\r\n    <g clip-path=\"url(#p3fc71d1115)\">\r\n     <use style=\"fill:#dd8452;\" x=\"189.300378\" xlink:href=\"#C1_0_3ed3b367d1\" y=\"208.058363\"/>\r\n    </g>\r\n    <g clip-path=\"url(#p3fc71d1115)\">\r\n     <use style=\"fill:#4c72b0;\" x=\"195.88961\" xlink:href=\"#C1_0_3ed3b367d1\" y=\"197.849186\"/>\r\n    </g>\r\n    <g clip-path=\"url(#p3fc71d1115)\">\r\n     <use style=\"fill:#4c72b0;\" x=\"186.592548\" xlink:href=\"#C1_0_3ed3b367d1\" y=\"201.252245\"/>\r\n    </g>\r\n   </g>\r\n   <g id=\"PathCollection_5\">\r\n    <defs>\r\n     <path d=\"M 0 2.5 \r\nC 0.663008 2.5 1.29895 2.236584 1.767767 1.767767 \r\nC 2.236584 1.29895 2.5 0.663008 2.5 0 \r\nC 2.5 -0.663008 2.236584 -1.29895 1.767767 -1.767767 \r\nC 1.29895 -2.236584 0.663008 -2.5 0 -2.5 \r\nC -0.663008 -2.5 -1.29895 -2.236584 -1.767767 -1.767767 \r\nC -2.236584 -1.29895 -2.5 -0.663008 -2.5 0 \r\nC -2.5 0.663008 -2.236584 1.29895 -1.767767 1.767767 \r\nC -1.29895 2.236584 -0.663008 2.5 0 2.5 \r\nz\r\n\" id=\"C2_0_aef620cf1c\"/>\r\n    </defs>\r\n    <g clip-path=\"url(#p3fc71d1115)\">\r\n     <use style=\"fill:#4c72b0;\" x=\"294.284053\" xlink:href=\"#C2_0_aef620cf1c\" y=\"218.267539\"/>\r\n    </g>\r\n    <g clip-path=\"url(#p3fc71d1115)\">\r\n     <use style=\"fill:#dd8452;\" x=\"298.02208\" xlink:href=\"#C2_0_aef620cf1c\" y=\"204.655304\"/>\r\n    </g>\r\n    <g clip-path=\"url(#p3fc71d1115)\">\r\n     <use style=\"fill:#4c72b0;\" x=\"285.598488\" xlink:href=\"#C2_0_aef620cf1c\" y=\"174.027773\"/>\r\n    </g>\r\n    <g clip-path=\"url(#p3fc71d1115)\">\r\n     <use style=\"fill:#4c72b0;\" x=\"286.219719\" xlink:href=\"#C2_0_aef620cf1c\" y=\"192.066988\"/>\r\n    </g>\r\n    <g clip-path=\"url(#p3fc71d1115)\">\r\n     <use style=\"fill:#4c72b0;\" x=\"291.647135\" xlink:href=\"#C2_0_aef620cf1c\" y=\"286.328719\"/>\r\n    </g>\r\n    <g clip-path=\"url(#p3fc71d1115)\">\r\n     <use style=\"fill:#dd8452;\" x=\"282.318891\" xlink:href=\"#C2_0_aef620cf1c\" y=\"201.252245\"/>\r\n    </g>\r\n    <g clip-path=\"url(#p3fc71d1115)\">\r\n     <use style=\"fill:#dd8452;\" x=\"295.873888\" xlink:href=\"#C2_0_aef620cf1c\" y=\"279.522601\"/>\r\n    </g>\r\n    <g clip-path=\"url(#p3fc71d1115)\">\r\n     <use style=\"fill:#4c72b0;\" x=\"286.965677\" xlink:href=\"#C2_0_aef620cf1c\" y=\"225.073657\"/>\r\n    </g>\r\n    <g clip-path=\"url(#p3fc71d1115)\">\r\n     <use style=\"fill:#4c72b0;\" x=\"297.995048\" xlink:href=\"#C2_0_aef620cf1c\" y=\"160.415537\"/>\r\n    </g>\r\n    <g clip-path=\"url(#p3fc71d1115)\">\r\n     <use style=\"fill:#dd8452;\" x=\"300.566186\" xlink:href=\"#C2_0_aef620cf1c\" y=\"245.492011\"/>\r\n    </g>\r\n    <g clip-path=\"url(#p3fc71d1115)\">\r\n     <use style=\"fill:#4c72b0;\" x=\"291.94958\" xlink:href=\"#C2_0_aef620cf1c\" y=\"286.328719\"/>\r\n    </g>\r\n    <g clip-path=\"url(#p3fc71d1115)\">\r\n     <use style=\"fill:#dd8452;\" x=\"283.396301\" xlink:href=\"#C2_0_aef620cf1c\" y=\"187.640009\"/>\r\n    </g>\r\n    <g clip-path=\"url(#p3fc71d1115)\">\r\n     <use style=\"fill:#dd8452;\" x=\"296.403324\" xlink:href=\"#C2_0_aef620cf1c\" y=\"192.066988\"/>\r\n    </g>\r\n    <g clip-path=\"url(#p3fc71d1115)\">\r\n     <use style=\"fill:#dd8452;\" x=\"292.500485\" xlink:href=\"#C2_0_aef620cf1c\" y=\"242.088952\"/>\r\n    </g>\r\n    <g clip-path=\"url(#p3fc71d1115)\">\r\n     <use style=\"fill:#dd8452;\" x=\"283.283926\" xlink:href=\"#C2_0_aef620cf1c\" y=\"265.910365\"/>\r\n    </g>\r\n    <g clip-path=\"url(#p3fc71d1115)\">\r\n     <use style=\"fill:#dd8452;\" x=\"288.82938\" xlink:href=\"#C2_0_aef620cf1c\" y=\"163.818596\"/>\r\n    </g>\r\n    <g clip-path=\"url(#p3fc71d1115)\">\r\n     <use style=\"fill:#4c72b0;\" x=\"298.982074\" xlink:href=\"#C2_0_aef620cf1c\" y=\"192.066988\"/>\r\n    </g>\r\n    <g clip-path=\"url(#p3fc71d1115)\">\r\n     <use style=\"fill:#dd8452;\" x=\"282.658259\" xlink:href=\"#C2_0_aef620cf1c\" y=\"192.066988\"/>\r\n    </g>\r\n    <g clip-path=\"url(#p3fc71d1115)\">\r\n     <use style=\"fill:#4c72b0;\" x=\"292.811299\" xlink:href=\"#C2_0_aef620cf1c\" y=\"192.066988\"/>\r\n    </g>\r\n    <g clip-path=\"url(#p3fc71d1115)\">\r\n     <use style=\"fill:#dd8452;\" x=\"291.846578\" xlink:href=\"#C2_0_aef620cf1c\" y=\"192.066988\"/>\r\n    </g>\r\n    <g clip-path=\"url(#p3fc71d1115)\">\r\n     <use style=\"fill:#4c72b0;\" x=\"290.772756\" xlink:href=\"#C2_0_aef620cf1c\" y=\"192.066988\"/>\r\n    </g>\r\n    <g clip-path=\"url(#p3fc71d1115)\">\r\n     <use style=\"fill:#4c72b0;\" x=\"297.794085\" xlink:href=\"#C2_0_aef620cf1c\" y=\"221.670598\"/>\r\n    </g>\r\n    <g clip-path=\"url(#p3fc71d1115)\">\r\n     <use style=\"fill:#dd8452;\" x=\"286.305032\" xlink:href=\"#C2_0_aef620cf1c\" y=\"231.879775\"/>\r\n    </g>\r\n    <g clip-path=\"url(#p3fc71d1115)\">\r\n     <use style=\"fill:#dd8452;\" x=\"286.708902\" xlink:href=\"#C2_0_aef620cf1c\" y=\"245.492011\"/>\r\n    </g>\r\n    <g clip-path=\"url(#p3fc71d1115)\">\r\n     <use style=\"fill:#dd8452;\" x=\"296.689101\" xlink:href=\"#C2_0_aef620cf1c\" y=\"157.012478\"/>\r\n    </g>\r\n    <g clip-path=\"url(#p3fc71d1115)\">\r\n     <use style=\"fill:#4c72b0;\" x=\"299.00593\" xlink:href=\"#C2_0_aef620cf1c\" y=\"192.066988\"/>\r\n    </g>\r\n    <g clip-path=\"url(#p3fc71d1115)\">\r\n     <use style=\"fill:#dd8452;\" x=\"285.865575\" xlink:href=\"#C2_0_aef620cf1c\" y=\"228.476716\"/>\r\n    </g>\r\n    <g clip-path=\"url(#p3fc71d1115)\">\r\n     <use style=\"fill:#4c72b0;\" x=\"283.206324\" xlink:href=\"#C2_0_aef620cf1c\" y=\"192.066988\"/>\r\n    </g>\r\n    <g clip-path=\"url(#p3fc71d1115)\">\r\n     <use style=\"fill:#4c72b0;\" x=\"295.395551\" xlink:href=\"#C2_0_aef620cf1c\" y=\"192.066988\"/>\r\n    </g>\r\n    <g clip-path=\"url(#p3fc71d1115)\">\r\n     <use style=\"fill:#dd8452;\" x=\"297.16376\" xlink:href=\"#C2_0_aef620cf1c\" y=\"192.066988\"/>\r\n    </g>\r\n    <g clip-path=\"url(#p3fc71d1115)\">\r\n     <use style=\"fill:#4c72b0;\" x=\"287.995098\" xlink:href=\"#C2_0_aef620cf1c\" y=\"192.066988\"/>\r\n    </g>\r\n    <g clip-path=\"url(#p3fc71d1115)\">\r\n     <use style=\"fill:#dd8452;\" x=\"297.293255\" xlink:href=\"#C2_0_aef620cf1c\" y=\"231.879775\"/>\r\n    </g>\r\n    <g clip-path=\"url(#p3fc71d1115)\">\r\n     <use style=\"fill:#4c72b0;\" x=\"285.204132\" xlink:href=\"#C2_0_aef620cf1c\" y=\"269.313424\"/>\r\n    </g>\r\n    <g clip-path=\"url(#p3fc71d1115)\">\r\n     <use style=\"fill:#4c72b0;\" x=\"286.57797\" xlink:href=\"#C2_0_aef620cf1c\" y=\"221.670598\"/>\r\n    </g>\r\n    <g clip-path=\"url(#p3fc71d1115)\">\r\n     <use style=\"fill:#4c72b0;\" x=\"301.055653\" xlink:href=\"#C2_0_aef620cf1c\" y=\"196.147656\"/>\r\n    </g>\r\n    <g clip-path=\"url(#p3fc71d1115)\">\r\n     <use style=\"fill:#4c72b0;\" x=\"295.823547\" xlink:href=\"#C2_0_aef620cf1c\" y=\"255.701188\"/>\r\n    </g>\r\n    <g clip-path=\"url(#p3fc71d1115)\">\r\n     <use style=\"fill:#4c72b0;\" x=\"292.4802\" xlink:href=\"#C2_0_aef620cf1c\" y=\"218.267539\"/>\r\n    </g>\r\n    <g clip-path=\"url(#p3fc71d1115)\">\r\n     <use style=\"fill:#4c72b0;\" x=\"286.086382\" xlink:href=\"#C2_0_aef620cf1c\" y=\"279.522601\"/>\r\n    </g>\r\n    <g clip-path=\"url(#p3fc71d1115)\">\r\n     <use style=\"fill:#4c72b0;\" x=\"283.782796\" xlink:href=\"#C2_0_aef620cf1c\" y=\"192.066988\"/>\r\n    </g>\r\n    <g clip-path=\"url(#p3fc71d1115)\">\r\n     <use style=\"fill:#4c72b0;\" x=\"299.654353\" xlink:href=\"#C2_0_aef620cf1c\" y=\"228.476716\"/>\r\n    </g>\r\n    <g clip-path=\"url(#p3fc71d1115)\">\r\n     <use style=\"fill:#dd8452;\" x=\"290.944326\" xlink:href=\"#C2_0_aef620cf1c\" y=\"235.282834\"/>\r\n    </g>\r\n    <g clip-path=\"url(#p3fc71d1115)\">\r\n     <use style=\"fill:#4c72b0;\" x=\"282.259984\" xlink:href=\"#C2_0_aef620cf1c\" y=\"204.655304\"/>\r\n    </g>\r\n    <g clip-path=\"url(#p3fc71d1115)\">\r\n     <use style=\"fill:#dd8452;\" x=\"290.546795\" xlink:href=\"#C2_0_aef620cf1c\" y=\"238.685893\"/>\r\n    </g>\r\n    <g clip-path=\"url(#p3fc71d1115)\">\r\n     <use style=\"fill:#4c72b0;\" x=\"284.376362\" xlink:href=\"#C2_0_aef620cf1c\" y=\"204.655304\"/>\r\n    </g>\r\n    <g clip-path=\"url(#p3fc71d1115)\">\r\n     <use style=\"fill:#4c72b0;\" x=\"294.866763\" xlink:href=\"#C2_0_aef620cf1c\" y=\"184.23695\"/>\r\n    </g>\r\n    <g clip-path=\"url(#p3fc71d1115)\">\r\n     <use style=\"fill:#4c72b0;\" x=\"285.068322\" xlink:href=\"#C2_0_aef620cf1c\" y=\"208.058363\"/>\r\n    </g>\r\n    <g clip-path=\"url(#p3fc71d1115)\">\r\n     <use style=\"fill:#4c72b0;\" x=\"290.256177\" xlink:href=\"#C2_0_aef620cf1c\" y=\"192.066988\"/>\r\n    </g>\r\n    <g clip-path=\"url(#p3fc71d1115)\">\r\n     <use style=\"fill:#4c72b0;\" x=\"299.807262\" xlink:href=\"#C2_0_aef620cf1c\" y=\"192.066988\"/>\r\n    </g>\r\n    <g clip-path=\"url(#p3fc71d1115)\">\r\n     <use style=\"fill:#dd8452;\" x=\"288.861049\" xlink:href=\"#C2_0_aef620cf1c\" y=\"191.043068\"/>\r\n    </g>\r\n    <g clip-path=\"url(#p3fc71d1115)\">\r\n     <use style=\"fill:#4c72b0;\" x=\"281.950863\" xlink:href=\"#C2_0_aef620cf1c\" y=\"218.267539\"/>\r\n    </g>\r\n    <g clip-path=\"url(#p3fc71d1115)\">\r\n     <use style=\"fill:#4c72b0;\" x=\"297.679942\" xlink:href=\"#C2_0_aef620cf1c\" y=\"194.446127\"/>\r\n    </g>\r\n    <g clip-path=\"url(#p3fc71d1115)\">\r\n     <use style=\"fill:#dd8452;\" x=\"301.295009\" xlink:href=\"#C2_0_aef620cf1c\" y=\"192.066988\"/>\r\n    </g>\r\n    <g clip-path=\"url(#p3fc71d1115)\">\r\n     <use style=\"fill:#dd8452;\" x=\"286.953527\" xlink:href=\"#C2_0_aef620cf1c\" y=\"180.833891\"/>\r\n    </g>\r\n    <g clip-path=\"url(#p3fc71d1115)\">\r\n     <use style=\"fill:#4c72b0;\" x=\"290.281088\" xlink:href=\"#C2_0_aef620cf1c\" y=\"238.685893\"/>\r\n    </g>\r\n    <g clip-path=\"url(#p3fc71d1115)\">\r\n     <use style=\"fill:#4c72b0;\" x=\"294.796592\" xlink:href=\"#C2_0_aef620cf1c\" y=\"192.066988\"/>\r\n    </g>\r\n    <g clip-path=\"url(#p3fc71d1115)\">\r\n     <use style=\"fill:#4c72b0;\" x=\"286.658384\" xlink:href=\"#C2_0_aef620cf1c\" y=\"211.461422\"/>\r\n    </g>\r\n    <g clip-path=\"url(#p3fc71d1115)\">\r\n     <use style=\"fill:#4c72b0;\" x=\"287.772954\" xlink:href=\"#C2_0_aef620cf1c\" y=\"194.446127\"/>\r\n    </g>\r\n    <g clip-path=\"url(#p3fc71d1115)\">\r\n     <use style=\"fill:#4c72b0;\" x=\"298.888843\" xlink:href=\"#C2_0_aef620cf1c\" y=\"225.073657\"/>\r\n    </g>\r\n    <g clip-path=\"url(#p3fc71d1115)\">\r\n     <use style=\"fill:#4c72b0;\" x=\"296.211927\" xlink:href=\"#C2_0_aef620cf1c\" y=\"204.655304\"/>\r\n    </g>\r\n    <g clip-path=\"url(#p3fc71d1115)\">\r\n     <use style=\"fill:#4c72b0;\" x=\"298.039683\" xlink:href=\"#C2_0_aef620cf1c\" y=\"92.354358\"/>\r\n    </g>\r\n    <g clip-path=\"url(#p3fc71d1115)\">\r\n     <use style=\"fill:#4c72b0;\" x=\"299.812905\" xlink:href=\"#C2_0_aef620cf1c\" y=\"192.066988\"/>\r\n    </g>\r\n    <g clip-path=\"url(#p3fc71d1115)\">\r\n     <use style=\"fill:#dd8452;\" x=\"296.879506\" xlink:href=\"#C2_0_aef620cf1c\" y=\"197.849186\"/>\r\n    </g>\r\n    <g clip-path=\"url(#p3fc71d1115)\">\r\n     <use style=\"fill:#4c72b0;\" x=\"285.947737\" xlink:href=\"#C2_0_aef620cf1c\" y=\"192.066988\"/>\r\n    </g>\r\n    <g clip-path=\"url(#p3fc71d1115)\">\r\n     <use style=\"fill:#4c72b0;\" x=\"287.181129\" xlink:href=\"#C2_0_aef620cf1c\" y=\"180.833891\"/>\r\n    </g>\r\n    <g clip-path=\"url(#p3fc71d1115)\">\r\n     <use style=\"fill:#4c72b0;\" x=\"292.363453\" xlink:href=\"#C2_0_aef620cf1c\" y=\"167.221655\"/>\r\n    </g>\r\n    <g clip-path=\"url(#p3fc71d1115)\">\r\n     <use style=\"fill:#4c72b0;\" x=\"291.461457\" xlink:href=\"#C2_0_aef620cf1c\" y=\"197.849186\"/>\r\n    </g>\r\n    <g clip-path=\"url(#p3fc71d1115)\">\r\n     <use style=\"fill:#dd8452;\" x=\"283.124473\" xlink:href=\"#C2_0_aef620cf1c\" y=\"221.670598\"/>\r\n    </g>\r\n    <g clip-path=\"url(#p3fc71d1115)\">\r\n     <use style=\"fill:#4c72b0;\" x=\"283.159286\" xlink:href=\"#C2_0_aef620cf1c\" y=\"192.066988\"/>\r\n    </g>\r\n    <g clip-path=\"url(#p3fc71d1115)\">\r\n     <use style=\"fill:#4c72b0;\" x=\"296.226266\" xlink:href=\"#C2_0_aef620cf1c\" y=\"163.818596\"/>\r\n    </g>\r\n    <g clip-path=\"url(#p3fc71d1115)\">\r\n     <use style=\"fill:#dd8452;\" x=\"295.778945\" xlink:href=\"#C2_0_aef620cf1c\" y=\"192.066988\"/>\r\n    </g>\r\n    <g clip-path=\"url(#p3fc71d1115)\">\r\n     <use style=\"fill:#dd8452;\" x=\"287.823835\" xlink:href=\"#C2_0_aef620cf1c\" y=\"243.790482\"/>\r\n    </g>\r\n    <g clip-path=\"url(#p3fc71d1115)\">\r\n     <use style=\"fill:#4c72b0;\" x=\"291.86567\" xlink:href=\"#C2_0_aef620cf1c\" y=\"218.267539\"/>\r\n    </g>\r\n    <g clip-path=\"url(#p3fc71d1115)\">\r\n     <use style=\"fill:#dd8452;\" x=\"288.675348\" xlink:href=\"#C2_0_aef620cf1c\" y=\"225.073657\"/>\r\n    </g>\r\n    <g clip-path=\"url(#p3fc71d1115)\">\r\n     <use style=\"fill:#dd8452;\" x=\"298.769836\" xlink:href=\"#C2_0_aef620cf1c\" y=\"235.282834\"/>\r\n    </g>\r\n    <g clip-path=\"url(#p3fc71d1115)\">\r\n     <use style=\"fill:#4c72b0;\" x=\"292.619797\" xlink:href=\"#C2_0_aef620cf1c\" y=\"221.670598\"/>\r\n    </g>\r\n    <g clip-path=\"url(#p3fc71d1115)\">\r\n     <use style=\"fill:#4c72b0;\" x=\"288.253854\" xlink:href=\"#C2_0_aef620cf1c\" y=\"53.21918\"/>\r\n    </g>\r\n    <g clip-path=\"url(#p3fc71d1115)\">\r\n     <use style=\"fill:#dd8452;\" x=\"296.45761\" xlink:href=\"#C2_0_aef620cf1c\" y=\"286.328719\"/>\r\n    </g>\r\n    <g clip-path=\"url(#p3fc71d1115)\">\r\n     <use style=\"fill:#4c72b0;\" x=\"295.787681\" xlink:href=\"#C2_0_aef620cf1c\" y=\"192.066988\"/>\r\n    </g>\r\n    <g clip-path=\"url(#p3fc71d1115)\">\r\n     <use style=\"fill:#4c72b0;\" x=\"283.687252\" xlink:href=\"#C2_0_aef620cf1c\" y=\"252.298129\"/>\r\n    </g>\r\n    <g clip-path=\"url(#p3fc71d1115)\">\r\n     <use style=\"fill:#4c72b0;\" x=\"295.867426\" xlink:href=\"#C2_0_aef620cf1c\" y=\"192.066988\"/>\r\n    </g>\r\n    <g clip-path=\"url(#p3fc71d1115)\">\r\n     <use style=\"fill:#4c72b0;\" x=\"292.751897\" xlink:href=\"#C2_0_aef620cf1c\" y=\"211.461422\"/>\r\n    </g>\r\n    <g clip-path=\"url(#p3fc71d1115)\">\r\n     <use style=\"fill:#dd8452;\" x=\"288.449354\" xlink:href=\"#C2_0_aef620cf1c\" y=\"192.066988\"/>\r\n    </g>\r\n    <g clip-path=\"url(#p3fc71d1115)\">\r\n     <use style=\"fill:#4c72b0;\" x=\"294.188338\" xlink:href=\"#C2_0_aef620cf1c\" y=\"139.997183\"/>\r\n    </g>\r\n    <g clip-path=\"url(#p3fc71d1115)\">\r\n     <use style=\"fill:#4c72b0;\" x=\"289.945099\" xlink:href=\"#C2_0_aef620cf1c\" y=\"180.833891\"/>\r\n    </g>\r\n    <g clip-path=\"url(#p3fc71d1115)\">\r\n     <use style=\"fill:#4c72b0;\" x=\"286.218343\" xlink:href=\"#C2_0_aef620cf1c\" y=\"225.073657\"/>\r\n    </g>\r\n    <g clip-path=\"url(#p3fc71d1115)\">\r\n     <use style=\"fill:#dd8452;\" x=\"298.222631\" xlink:href=\"#C2_0_aef620cf1c\" y=\"133.191066\"/>\r\n    </g>\r\n    <g clip-path=\"url(#p3fc71d1115)\">\r\n     <use style=\"fill:#4c72b0;\" x=\"289.737223\" xlink:href=\"#C2_0_aef620cf1c\" y=\"238.685893\"/>\r\n    </g>\r\n    <g clip-path=\"url(#p3fc71d1115)\">\r\n     <use style=\"fill:#dd8452;\" x=\"288.700713\" xlink:href=\"#C2_0_aef620cf1c\" y=\"192.066988\"/>\r\n    </g>\r\n    <g clip-path=\"url(#p3fc71d1115)\">\r\n     <use style=\"fill:#dd8452;\" x=\"283.864681\" xlink:href=\"#C2_0_aef620cf1c\" y=\"218.267539\"/>\r\n    </g>\r\n    <g clip-path=\"url(#p3fc71d1115)\">\r\n     <use style=\"fill:#dd8452;\" x=\"284.452854\" xlink:href=\"#C2_0_aef620cf1c\" y=\"211.461422\"/>\r\n    </g>\r\n    <g clip-path=\"url(#p3fc71d1115)\">\r\n     <use style=\"fill:#4c72b0;\" x=\"295.947017\" xlink:href=\"#C2_0_aef620cf1c\" y=\"228.476716\"/>\r\n    </g>\r\n    <g clip-path=\"url(#p3fc71d1115)\">\r\n     <use style=\"fill:#4c72b0;\" x=\"290.420121\" xlink:href=\"#C2_0_aef620cf1c\" y=\"201.252245\"/>\r\n    </g>\r\n    <g clip-path=\"url(#p3fc71d1115)\">\r\n     <use style=\"fill:#dd8452;\" x=\"298.614391\" xlink:href=\"#C2_0_aef620cf1c\" y=\"262.507306\"/>\r\n    </g>\r\n    <g clip-path=\"url(#p3fc71d1115)\">\r\n     <use style=\"fill:#4c72b0;\" x=\"289.411315\" xlink:href=\"#C2_0_aef620cf1c\" y=\"104.265064\"/>\r\n    </g>\r\n    <g clip-path=\"url(#p3fc71d1115)\">\r\n     <use style=\"fill:#4c72b0;\" x=\"291.551988\" xlink:href=\"#C2_0_aef620cf1c\" y=\"155.310949\"/>\r\n    </g>\r\n    <g clip-path=\"url(#p3fc71d1115)\">\r\n     <use style=\"fill:#4c72b0;\" x=\"285.60855\" xlink:href=\"#C2_0_aef620cf1c\" y=\"192.066988\"/>\r\n    </g>\r\n    <g clip-path=\"url(#p3fc71d1115)\">\r\n     <use style=\"fill:#dd8452;\" x=\"284.000531\" xlink:href=\"#C2_0_aef620cf1c\" y=\"238.685893\"/>\r\n    </g>\r\n    <g clip-path=\"url(#p3fc71d1115)\">\r\n     <use style=\"fill:#4c72b0;\" x=\"289.043429\" xlink:href=\"#C2_0_aef620cf1c\" y=\"191.043068\"/>\r\n    </g>\r\n    <g clip-path=\"url(#p3fc71d1115)\">\r\n     <use style=\"fill:#4c72b0;\" x=\"291.709148\" xlink:href=\"#C2_0_aef620cf1c\" y=\"192.066988\"/>\r\n    </g>\r\n    <g clip-path=\"url(#p3fc71d1115)\">\r\n     <use style=\"fill:#4c72b0;\" x=\"298.098951\" xlink:href=\"#C2_0_aef620cf1c\" y=\"192.066988\"/>\r\n    </g>\r\n    <g clip-path=\"url(#p3fc71d1115)\">\r\n     <use style=\"fill:#4c72b0;\" x=\"291.468319\" xlink:href=\"#C2_0_aef620cf1c\" y=\"143.400242\"/>\r\n    </g>\r\n    <g clip-path=\"url(#p3fc71d1115)\">\r\n     <use style=\"fill:#4c72b0;\" x=\"294.078853\" xlink:href=\"#C2_0_aef620cf1c\" y=\"204.655304\"/>\r\n    </g>\r\n    <g clip-path=\"url(#p3fc71d1115)\">\r\n     <use style=\"fill:#4c72b0;\" x=\"283.208849\" xlink:href=\"#C2_0_aef620cf1c\" y=\"235.282834\"/>\r\n    </g>\r\n    <g clip-path=\"url(#p3fc71d1115)\">\r\n     <use style=\"fill:#4c72b0;\" x=\"295.13564\" xlink:href=\"#C2_0_aef620cf1c\" y=\"289.731778\"/>\r\n    </g>\r\n    <g clip-path=\"url(#p3fc71d1115)\">\r\n     <use style=\"fill:#4c72b0;\" x=\"287.120683\" xlink:href=\"#C2_0_aef620cf1c\" y=\"262.507306\"/>\r\n    </g>\r\n    <g clip-path=\"url(#p3fc71d1115)\">\r\n     <use style=\"fill:#dd8452;\" x=\"281.768964\" xlink:href=\"#C2_0_aef620cf1c\" y=\"139.997183\"/>\r\n    </g>\r\n    <g clip-path=\"url(#p3fc71d1115)\">\r\n     <use style=\"fill:#4c72b0;\" x=\"286.54265\" xlink:href=\"#C2_0_aef620cf1c\" y=\"197.849186\"/>\r\n    </g>\r\n    <g clip-path=\"url(#p3fc71d1115)\">\r\n     <use style=\"fill:#4c72b0;\" x=\"296.978657\" xlink:href=\"#C2_0_aef620cf1c\" y=\"279.522601\"/>\r\n    </g>\r\n    <g clip-path=\"url(#p3fc71d1115)\">\r\n     <use style=\"fill:#dd8452;\" x=\"285.4729\" xlink:href=\"#C2_0_aef620cf1c\" y=\"289.731778\"/>\r\n    </g>\r\n    <g clip-path=\"url(#p3fc71d1115)\">\r\n     <use style=\"fill:#4c72b0;\" x=\"291.421826\" xlink:href=\"#C2_0_aef620cf1c\" y=\"221.670598\"/>\r\n    </g>\r\n    <g clip-path=\"url(#p3fc71d1115)\">\r\n     <use style=\"fill:#4c72b0;\" x=\"291.444516\" xlink:href=\"#C2_0_aef620cf1c\" y=\"231.879775\"/>\r\n    </g>\r\n    <g clip-path=\"url(#p3fc71d1115)\">\r\n     <use style=\"fill:#4c72b0;\" x=\"291.38216\" xlink:href=\"#C2_0_aef620cf1c\" y=\"192.066988\"/>\r\n    </g>\r\n    <g clip-path=\"url(#p3fc71d1115)\">\r\n     <use style=\"fill:#4c72b0;\" x=\"299.124793\" xlink:href=\"#C2_0_aef620cf1c\" y=\"170.624714\"/>\r\n    </g>\r\n    <g clip-path=\"url(#p3fc71d1115)\">\r\n     <use style=\"fill:#dd8452;\" x=\"295.519852\" xlink:href=\"#C2_0_aef620cf1c\" y=\"192.066988\"/>\r\n    </g>\r\n    <g clip-path=\"url(#p3fc71d1115)\">\r\n     <use style=\"fill:#4c72b0;\" x=\"300.975802\" xlink:href=\"#C2_0_aef620cf1c\" y=\"262.507306\"/>\r\n    </g>\r\n    <g clip-path=\"url(#p3fc71d1115)\">\r\n     <use style=\"fill:#dd8452;\" x=\"294.489801\" xlink:href=\"#C2_0_aef620cf1c\" y=\"279.522601\"/>\r\n    </g>\r\n    <g clip-path=\"url(#p3fc71d1115)\">\r\n     <use style=\"fill:#dd8452;\" x=\"285.510475\" xlink:href=\"#C2_0_aef620cf1c\" y=\"192.066988\"/>\r\n    </g>\r\n    <g clip-path=\"url(#p3fc71d1115)\">\r\n     <use style=\"fill:#4c72b0;\" x=\"296.129405\" xlink:href=\"#C2_0_aef620cf1c\" y=\"157.012478\"/>\r\n    </g>\r\n    <g clip-path=\"url(#p3fc71d1115)\">\r\n     <use style=\"fill:#4c72b0;\" x=\"298.802893\" xlink:href=\"#C2_0_aef620cf1c\" y=\"170.624714\"/>\r\n    </g>\r\n    <g clip-path=\"url(#p3fc71d1115)\">\r\n     <use style=\"fill:#dd8452;\" x=\"299.033285\" xlink:href=\"#C2_0_aef620cf1c\" y=\"228.476716\"/>\r\n    </g>\r\n    <g clip-path=\"url(#p3fc71d1115)\">\r\n     <use style=\"fill:#4c72b0;\" x=\"282.843142\" xlink:href=\"#C2_0_aef620cf1c\" y=\"192.066988\"/>\r\n    </g>\r\n    <g clip-path=\"url(#p3fc71d1115)\">\r\n     <use style=\"fill:#4c72b0;\" x=\"282.086374\" xlink:href=\"#C2_0_aef620cf1c\" y=\"150.20636\"/>\r\n    </g>\r\n    <g clip-path=\"url(#p3fc71d1115)\">\r\n     <use style=\"fill:#dd8452;\" x=\"288.615791\" xlink:href=\"#C2_0_aef620cf1c\" y=\"192.066988\"/>\r\n    </g>\r\n    <g clip-path=\"url(#p3fc71d1115)\">\r\n     <use style=\"fill:#4c72b0;\" x=\"284.280422\" xlink:href=\"#C2_0_aef620cf1c\" y=\"197.849186\"/>\r\n    </g>\r\n    <g clip-path=\"url(#p3fc71d1115)\">\r\n     <use style=\"fill:#4c72b0;\" x=\"284.099102\" xlink:href=\"#C2_0_aef620cf1c\" y=\"192.066988\"/>\r\n    </g>\r\n    <g clip-path=\"url(#p3fc71d1115)\">\r\n     <use style=\"fill:#4c72b0;\" x=\"290.40116\" xlink:href=\"#C2_0_aef620cf1c\" y=\"177.430832\"/>\r\n    </g>\r\n    <g clip-path=\"url(#p3fc71d1115)\">\r\n     <use style=\"fill:#4c72b0;\" x=\"288.212915\" xlink:href=\"#C2_0_aef620cf1c\" y=\"138.295654\"/>\r\n    </g>\r\n    <g clip-path=\"url(#p3fc71d1115)\">\r\n     <use style=\"fill:#4c72b0;\" x=\"289.501673\" xlink:href=\"#C2_0_aef620cf1c\" y=\"231.879775\"/>\r\n    </g>\r\n    <g clip-path=\"url(#p3fc71d1115)\">\r\n     <use style=\"fill:#dd8452;\" x=\"290.983286\" xlink:href=\"#C2_0_aef620cf1c\" y=\"286.328719\"/>\r\n    </g>\r\n    <g clip-path=\"url(#p3fc71d1115)\">\r\n     <use style=\"fill:#4c72b0;\" x=\"295.169748\" xlink:href=\"#C2_0_aef620cf1c\" y=\"184.23695\"/>\r\n    </g>\r\n    <g clip-path=\"url(#p3fc71d1115)\">\r\n     <use style=\"fill:#4c72b0;\" x=\"289.579256\" xlink:href=\"#C2_0_aef620cf1c\" y=\"204.655304\"/>\r\n    </g>\r\n    <g clip-path=\"url(#p3fc71d1115)\">\r\n     <use style=\"fill:#dd8452;\" x=\"282.337532\" xlink:href=\"#C2_0_aef620cf1c\" y=\"238.685893\"/>\r\n    </g>\r\n    <g clip-path=\"url(#p3fc71d1115)\">\r\n     <use style=\"fill:#4c72b0;\" x=\"287.962086\" xlink:href=\"#C2_0_aef620cf1c\" y=\"211.461422\"/>\r\n    </g>\r\n    <g clip-path=\"url(#p3fc71d1115)\">\r\n     <use style=\"fill:#4c72b0;\" x=\"297.527513\" xlink:href=\"#C2_0_aef620cf1c\" y=\"218.267539\"/>\r\n    </g>\r\n    <g clip-path=\"url(#p3fc71d1115)\">\r\n     <use style=\"fill:#4c72b0;\" x=\"294.757335\" xlink:href=\"#C2_0_aef620cf1c\" y=\"192.066988\"/>\r\n    </g>\r\n    <g clip-path=\"url(#p3fc71d1115)\">\r\n     <use style=\"fill:#dd8452;\" x=\"293.150773\" xlink:href=\"#C2_0_aef620cf1c\" y=\"201.252245\"/>\r\n    </g>\r\n    <g clip-path=\"url(#p3fc71d1115)\">\r\n     <use style=\"fill:#4c72b0;\" x=\"299.993252\" xlink:href=\"#C2_0_aef620cf1c\" y=\"238.685893\"/>\r\n    </g>\r\n    <g clip-path=\"url(#p3fc71d1115)\">\r\n     <use style=\"fill:#4c72b0;\" x=\"299.288973\" xlink:href=\"#C2_0_aef620cf1c\" y=\"119.57883\"/>\r\n    </g>\r\n    <g clip-path=\"url(#p3fc71d1115)\">\r\n     <use style=\"fill:#4c72b0;\" x=\"293.588478\" xlink:href=\"#C2_0_aef620cf1c\" y=\"192.066988\"/>\r\n    </g>\r\n    <g clip-path=\"url(#p3fc71d1115)\">\r\n     <use style=\"fill:#4c72b0;\" x=\"284.711606\" xlink:href=\"#C2_0_aef620cf1c\" y=\"218.267539\"/>\r\n    </g>\r\n    <g clip-path=\"url(#p3fc71d1115)\">\r\n     <use style=\"fill:#4c72b0;\" x=\"301.106925\" xlink:href=\"#C2_0_aef620cf1c\" y=\"223.372128\"/>\r\n    </g>\r\n    <g clip-path=\"url(#p3fc71d1115)\">\r\n     <use style=\"fill:#dd8452;\" x=\"295.513831\" xlink:href=\"#C2_0_aef620cf1c\" y=\"192.066988\"/>\r\n    </g>\r\n    <g clip-path=\"url(#p3fc71d1115)\">\r\n     <use style=\"fill:#4c72b0;\" x=\"298.919673\" xlink:href=\"#C2_0_aef620cf1c\" y=\"194.446127\"/>\r\n    </g>\r\n    <g clip-path=\"url(#p3fc71d1115)\">\r\n     <use style=\"fill:#dd8452;\" x=\"296.806273\" xlink:href=\"#C2_0_aef620cf1c\" y=\"276.119542\"/>\r\n    </g>\r\n    <g clip-path=\"url(#p3fc71d1115)\">\r\n     <use style=\"fill:#dd8452;\" x=\"289.016787\" xlink:href=\"#C2_0_aef620cf1c\" y=\"192.066988\"/>\r\n    </g>\r\n    <g clip-path=\"url(#p3fc71d1115)\">\r\n     <use style=\"fill:#dd8452;\" x=\"288.198475\" xlink:href=\"#C2_0_aef620cf1c\" y=\"192.066988\"/>\r\n    </g>\r\n    <g clip-path=\"url(#p3fc71d1115)\">\r\n     <use style=\"fill:#dd8452;\" x=\"294.561495\" xlink:href=\"#C2_0_aef620cf1c\" y=\"192.066988\"/>\r\n    </g>\r\n    <g clip-path=\"url(#p3fc71d1115)\">\r\n     <use style=\"fill:#4c72b0;\" x=\"297.182022\" xlink:href=\"#C2_0_aef620cf1c\" y=\"218.267539\"/>\r\n    </g>\r\n    <g clip-path=\"url(#p3fc71d1115)\">\r\n     <use style=\"fill:#4c72b0;\" x=\"287.150064\" xlink:href=\"#C2_0_aef620cf1c\" y=\"191.043068\"/>\r\n    </g>\r\n    <g clip-path=\"url(#p3fc71d1115)\">\r\n     <use style=\"fill:#dd8452;\" x=\"287.466731\" xlink:href=\"#C2_0_aef620cf1c\" y=\"208.058363\"/>\r\n    </g>\r\n    <g clip-path=\"url(#p3fc71d1115)\">\r\n     <use style=\"fill:#4c72b0;\" x=\"286.263871\" xlink:href=\"#C2_0_aef620cf1c\" y=\"192.066988\"/>\r\n    </g>\r\n    <g clip-path=\"url(#p3fc71d1115)\">\r\n     <use style=\"fill:#dd8452;\" x=\"298.541184\" xlink:href=\"#C2_0_aef620cf1c\" y=\"194.446127\"/>\r\n    </g>\r\n    <g clip-path=\"url(#p3fc71d1115)\">\r\n     <use style=\"fill:#4c72b0;\" x=\"296.168713\" xlink:href=\"#C2_0_aef620cf1c\" y=\"191.043068\"/>\r\n    </g>\r\n    <g clip-path=\"url(#p3fc71d1115)\">\r\n     <use style=\"fill:#dd8452;\" x=\"281.903841\" xlink:href=\"#C2_0_aef620cf1c\" y=\"153.609419\"/>\r\n    </g>\r\n    <g clip-path=\"url(#p3fc71d1115)\">\r\n     <use style=\"fill:#dd8452;\" x=\"284.314151\" xlink:href=\"#C2_0_aef620cf1c\" y=\"194.446127\"/>\r\n    </g>\r\n    <g clip-path=\"url(#p3fc71d1115)\">\r\n     <use style=\"fill:#4c72b0;\" x=\"295.496139\" xlink:href=\"#C2_0_aef620cf1c\" y=\"192.066988\"/>\r\n    </g>\r\n    <g clip-path=\"url(#p3fc71d1115)\">\r\n     <use style=\"fill:#4c72b0;\" x=\"295.895889\" xlink:href=\"#C2_0_aef620cf1c\" y=\"282.92566\"/>\r\n    </g>\r\n    <g clip-path=\"url(#p3fc71d1115)\">\r\n     <use style=\"fill:#dd8452;\" x=\"287.985998\" xlink:href=\"#C2_0_aef620cf1c\" y=\"192.066988\"/>\r\n    </g>\r\n    <g clip-path=\"url(#p3fc71d1115)\">\r\n     <use style=\"fill:#4c72b0;\" x=\"282.958346\" xlink:href=\"#C2_0_aef620cf1c\" y=\"238.685893\"/>\r\n    </g>\r\n    <g clip-path=\"url(#p3fc71d1115)\">\r\n     <use style=\"fill:#4c72b0;\" x=\"299.103094\" xlink:href=\"#C2_0_aef620cf1c\" y=\"208.058363\"/>\r\n    </g>\r\n    <g clip-path=\"url(#p3fc71d1115)\">\r\n     <use style=\"fill:#4c72b0;\" x=\"294.863071\" xlink:href=\"#C2_0_aef620cf1c\" y=\"208.058363\"/>\r\n    </g>\r\n    <g clip-path=\"url(#p3fc71d1115)\">\r\n     <use style=\"fill:#dd8452;\" x=\"297.085035\" xlink:href=\"#C2_0_aef620cf1c\" y=\"192.066988\"/>\r\n    </g>\r\n    <g clip-path=\"url(#p3fc71d1115)\">\r\n     <use style=\"fill:#dd8452;\" x=\"292.923664\" xlink:href=\"#C2_0_aef620cf1c\" y=\"139.997183\"/>\r\n    </g>\r\n    <g clip-path=\"url(#p3fc71d1115)\">\r\n     <use style=\"fill:#4c72b0;\" x=\"286.325207\" xlink:href=\"#C2_0_aef620cf1c\" y=\"269.313424\"/>\r\n    </g>\r\n    <g clip-path=\"url(#p3fc71d1115)\">\r\n     <use style=\"fill:#dd8452;\" x=\"293.471137\" xlink:href=\"#C2_0_aef620cf1c\" y=\"174.027773\"/>\r\n    </g>\r\n    <g clip-path=\"url(#p3fc71d1115)\">\r\n     <use style=\"fill:#4c72b0;\" x=\"283.601901\" xlink:href=\"#C2_0_aef620cf1c\" y=\"71.936004\"/>\r\n    </g>\r\n    <g clip-path=\"url(#p3fc71d1115)\">\r\n     <use style=\"fill:#4c72b0;\" x=\"289.597327\" xlink:href=\"#C2_0_aef620cf1c\" y=\"197.849186\"/>\r\n    </g>\r\n    <g clip-path=\"url(#p3fc71d1115)\">\r\n     <use style=\"fill:#4c72b0;\" x=\"291.76888\" xlink:href=\"#C2_0_aef620cf1c\" y=\"238.685893\"/>\r\n    </g>\r\n    <g clip-path=\"url(#p3fc71d1115)\">\r\n     <use style=\"fill:#4c72b0;\" x=\"293.485321\" xlink:href=\"#C2_0_aef620cf1c\" y=\"228.476716\"/>\r\n    </g>\r\n    <g clip-path=\"url(#p3fc71d1115)\">\r\n     <use style=\"fill:#4c72b0;\" x=\"299.684545\" xlink:href=\"#C2_0_aef620cf1c\" y=\"180.833891\"/>\r\n    </g>\r\n    <g clip-path=\"url(#p3fc71d1115)\">\r\n     <use style=\"fill:#4c72b0;\" x=\"287.392306\" xlink:href=\"#C2_0_aef620cf1c\" y=\"191.043068\"/>\r\n    </g>\r\n    <g clip-path=\"url(#p3fc71d1115)\">\r\n     <use style=\"fill:#4c72b0;\" x=\"298.393889\" xlink:href=\"#C2_0_aef620cf1c\" y=\"218.267539\"/>\r\n    </g>\r\n    <g clip-path=\"url(#p3fc71d1115)\">\r\n     <use style=\"fill:#dd8452;\" x=\"283.587227\" xlink:href=\"#C2_0_aef620cf1c\" y=\"218.267539\"/>\r\n    </g>\r\n    <g clip-path=\"url(#p3fc71d1115)\">\r\n     <use style=\"fill:#dd8452;\" x=\"290.586722\" xlink:href=\"#C2_0_aef620cf1c\" y=\"211.461422\"/>\r\n    </g>\r\n    <g clip-path=\"url(#p3fc71d1115)\">\r\n     <use style=\"fill:#4c72b0;\" x=\"286.366852\" xlink:href=\"#C2_0_aef620cf1c\" y=\"211.461422\"/>\r\n    </g>\r\n    <g clip-path=\"url(#p3fc71d1115)\">\r\n     <use style=\"fill:#4c72b0;\" x=\"296.121572\" xlink:href=\"#C2_0_aef620cf1c\" y=\"213.162951\"/>\r\n    </g>\r\n    <g clip-path=\"url(#p3fc71d1115)\">\r\n     <use style=\"fill:#dd8452;\" x=\"300.708188\" xlink:href=\"#C2_0_aef620cf1c\" y=\"192.066988\"/>\r\n    </g>\r\n    <g clip-path=\"url(#p3fc71d1115)\">\r\n     <use style=\"fill:#4c72b0;\" x=\"282.474543\" xlink:href=\"#C2_0_aef620cf1c\" y=\"192.066988\"/>\r\n    </g>\r\n    <g clip-path=\"url(#p3fc71d1115)\">\r\n     <use style=\"fill:#4c72b0;\" x=\"283.44569\" xlink:href=\"#C2_0_aef620cf1c\" y=\"228.476716\"/>\r\n    </g>\r\n    <g clip-path=\"url(#p3fc71d1115)\">\r\n     <use style=\"fill:#4c72b0;\" x=\"291.984782\" xlink:href=\"#C2_0_aef620cf1c\" y=\"192.066988\"/>\r\n    </g>\r\n    <g clip-path=\"url(#p3fc71d1115)\">\r\n     <use style=\"fill:#4c72b0;\" x=\"298.171909\" xlink:href=\"#C2_0_aef620cf1c\" y=\"197.849186\"/>\r\n    </g>\r\n    <g clip-path=\"url(#p3fc71d1115)\">\r\n     <use style=\"fill:#dd8452;\" x=\"284.253007\" xlink:href=\"#C2_0_aef620cf1c\" y=\"204.655304\"/>\r\n    </g>\r\n    <g clip-path=\"url(#p3fc71d1115)\">\r\n     <use style=\"fill:#4c72b0;\" x=\"281.807972\" xlink:href=\"#C2_0_aef620cf1c\" y=\"218.267539\"/>\r\n    </g>\r\n    <g clip-path=\"url(#p3fc71d1115)\">\r\n     <use style=\"fill:#4c72b0;\" x=\"289.642565\" xlink:href=\"#C2_0_aef620cf1c\" y=\"201.252245\"/>\r\n    </g>\r\n    <g clip-path=\"url(#p3fc71d1115)\">\r\n     <use style=\"fill:#4c72b0;\" x=\"298.373211\" xlink:href=\"#C2_0_aef620cf1c\" y=\"192.066988\"/>\r\n    </g>\r\n    <g clip-path=\"url(#p3fc71d1115)\">\r\n     <use style=\"fill:#4c72b0;\" x=\"294.33786\" xlink:href=\"#C2_0_aef620cf1c\" y=\"85.54824\"/>\r\n    </g>\r\n    <g clip-path=\"url(#p3fc71d1115)\">\r\n     <use style=\"fill:#dd8452;\" x=\"297.908805\" xlink:href=\"#C2_0_aef620cf1c\" y=\"187.640009\"/>\r\n    </g>\r\n    <g clip-path=\"url(#p3fc71d1115)\">\r\n     <use style=\"fill:#dd8452;\" x=\"294.642148\" xlink:href=\"#C2_0_aef620cf1c\" y=\"192.066988\"/>\r\n    </g>\r\n    <g clip-path=\"url(#p3fc71d1115)\">\r\n     <use style=\"fill:#4c72b0;\" x=\"294.197405\" xlink:href=\"#C2_0_aef620cf1c\" y=\"238.685893\"/>\r\n    </g>\r\n    <g clip-path=\"url(#p3fc71d1115)\">\r\n     <use style=\"fill:#4c72b0;\" x=\"294.409543\" xlink:href=\"#C2_0_aef620cf1c\" y=\"192.066988\"/>\r\n    </g>\r\n    <g clip-path=\"url(#p3fc71d1115)\">\r\n     <use style=\"fill:#4c72b0;\" x=\"297.698538\" xlink:href=\"#C2_0_aef620cf1c\" y=\"139.997183\"/>\r\n    </g>\r\n    <g clip-path=\"url(#p3fc71d1115)\">\r\n     <use style=\"fill:#dd8452;\" x=\"285.511432\" xlink:href=\"#C2_0_aef620cf1c\" y=\"192.066988\"/>\r\n    </g>\r\n    <g clip-path=\"url(#p3fc71d1115)\">\r\n     <use style=\"fill:#4c72b0;\" x=\"282.801416\" xlink:href=\"#C2_0_aef620cf1c\" y=\"282.92566\"/>\r\n    </g>\r\n    <g clip-path=\"url(#p3fc71d1115)\">\r\n     <use style=\"fill:#4c72b0;\" x=\"300.260483\" xlink:href=\"#C2_0_aef620cf1c\" y=\"150.20636\"/>\r\n    </g>\r\n    <g clip-path=\"url(#p3fc71d1115)\">\r\n     <use style=\"fill:#4c72b0;\" x=\"286.736974\" xlink:href=\"#C2_0_aef620cf1c\" y=\"214.86448\"/>\r\n    </g>\r\n    <g clip-path=\"url(#p3fc71d1115)\">\r\n     <use style=\"fill:#4c72b0;\" x=\"291.159857\" xlink:href=\"#C2_0_aef620cf1c\" y=\"242.088952\"/>\r\n    </g>\r\n    <g clip-path=\"url(#p3fc71d1115)\">\r\n     <use style=\"fill:#4c72b0;\" x=\"295.517728\" xlink:href=\"#C2_0_aef620cf1c\" y=\"208.058363\"/>\r\n    </g>\r\n    <g clip-path=\"url(#p3fc71d1115)\">\r\n     <use style=\"fill:#4c72b0;\" x=\"285.892888\" xlink:href=\"#C2_0_aef620cf1c\" y=\"192.066988\"/>\r\n    </g>\r\n    <g clip-path=\"url(#p3fc71d1115)\">\r\n     <use style=\"fill:#4c72b0;\" x=\"282.594455\" xlink:href=\"#C2_0_aef620cf1c\" y=\"197.849186\"/>\r\n    </g>\r\n    <g clip-path=\"url(#p3fc71d1115)\">\r\n     <use style=\"fill:#dd8452;\" x=\"287.061699\" xlink:href=\"#C2_0_aef620cf1c\" y=\"192.066988\"/>\r\n    </g>\r\n    <g clip-path=\"url(#p3fc71d1115)\">\r\n     <use style=\"fill:#dd8452;\" x=\"292.09051\" xlink:href=\"#C2_0_aef620cf1c\" y=\"192.066988\"/>\r\n    </g>\r\n    <g clip-path=\"url(#p3fc71d1115)\">\r\n     <use style=\"fill:#4c72b0;\" x=\"295.139217\" xlink:href=\"#C2_0_aef620cf1c\" y=\"157.012478\"/>\r\n    </g>\r\n    <g clip-path=\"url(#p3fc71d1115)\">\r\n     <use style=\"fill:#dd8452;\" x=\"285.129946\" xlink:href=\"#C2_0_aef620cf1c\" y=\"139.997183\"/>\r\n    </g>\r\n    <g clip-path=\"url(#p3fc71d1115)\">\r\n     <use style=\"fill:#4c72b0;\" x=\"284.898987\" xlink:href=\"#C2_0_aef620cf1c\" y=\"174.027773\"/>\r\n    </g>\r\n    <g clip-path=\"url(#p3fc71d1115)\">\r\n     <use style=\"fill:#4c72b0;\" x=\"290.851492\" xlink:href=\"#C2_0_aef620cf1c\" y=\"192.066988\"/>\r\n    </g>\r\n    <g clip-path=\"url(#p3fc71d1115)\">\r\n     <use style=\"fill:#4c72b0;\" x=\"284.813714\" xlink:href=\"#C2_0_aef620cf1c\" y=\"191.043068\"/>\r\n    </g>\r\n    <g clip-path=\"url(#p3fc71d1115)\">\r\n     <use style=\"fill:#dd8452;\" x=\"293.720545\" xlink:href=\"#C2_0_aef620cf1c\" y=\"192.066988\"/>\r\n    </g>\r\n    <g clip-path=\"url(#p3fc71d1115)\">\r\n     <use style=\"fill:#dd8452;\" x=\"288.137709\" xlink:href=\"#C2_0_aef620cf1c\" y=\"192.066988\"/>\r\n    </g>\r\n    <g clip-path=\"url(#p3fc71d1115)\">\r\n     <use style=\"fill:#4c72b0;\" x=\"301.059154\" xlink:href=\"#C2_0_aef620cf1c\" y=\"231.879775\"/>\r\n    </g>\r\n    <g clip-path=\"url(#p3fc71d1115)\">\r\n     <use style=\"fill:#4c72b0;\" x=\"300.700791\" xlink:href=\"#C2_0_aef620cf1c\" y=\"228.476716\"/>\r\n    </g>\r\n    <g clip-path=\"url(#p3fc71d1115)\">\r\n     <use style=\"fill:#dd8452;\" x=\"285.000502\" xlink:href=\"#C2_0_aef620cf1c\" y=\"282.92566\"/>\r\n    </g>\r\n    <g clip-path=\"url(#p3fc71d1115)\">\r\n     <use style=\"fill:#dd8452;\" x=\"295.099054\" xlink:href=\"#C2_0_aef620cf1c\" y=\"218.267539\"/>\r\n    </g>\r\n    <g clip-path=\"url(#p3fc71d1115)\">\r\n     <use style=\"fill:#4c72b0;\" x=\"295.10853\" xlink:href=\"#C2_0_aef620cf1c\" y=\"225.073657\"/>\r\n    </g>\r\n    <g clip-path=\"url(#p3fc71d1115)\">\r\n     <use style=\"fill:#4c72b0;\" x=\"291.056222\" xlink:href=\"#C2_0_aef620cf1c\" y=\"228.476716\"/>\r\n    </g>\r\n    <g clip-path=\"url(#p3fc71d1115)\">\r\n     <use style=\"fill:#dd8452;\" x=\"290.324644\" xlink:href=\"#C2_0_aef620cf1c\" y=\"289.731778\"/>\r\n    </g>\r\n    <g clip-path=\"url(#p3fc71d1115)\">\r\n     <use style=\"fill:#4c72b0;\" x=\"284.983057\" xlink:href=\"#C2_0_aef620cf1c\" y=\"184.23695\"/>\r\n    </g>\r\n    <g clip-path=\"url(#p3fc71d1115)\">\r\n     <use style=\"fill:#4c72b0;\" x=\"295.050503\" xlink:href=\"#C2_0_aef620cf1c\" y=\"192.066988\"/>\r\n    </g>\r\n    <g clip-path=\"url(#p3fc71d1115)\">\r\n     <use style=\"fill:#4c72b0;\" x=\"283.658911\" xlink:href=\"#C2_0_aef620cf1c\" y=\"289.731778\"/>\r\n    </g>\r\n    <g clip-path=\"url(#p3fc71d1115)\">\r\n     <use style=\"fill:#4c72b0;\" x=\"297.761675\" xlink:href=\"#C2_0_aef620cf1c\" y=\"192.066988\"/>\r\n    </g>\r\n    <g clip-path=\"url(#p3fc71d1115)\">\r\n     <use style=\"fill:#4c72b0;\" x=\"297.768214\" xlink:href=\"#C2_0_aef620cf1c\" y=\"221.670598\"/>\r\n    </g>\r\n    <g clip-path=\"url(#p3fc71d1115)\">\r\n     <use style=\"fill:#4c72b0;\" x=\"292.853671\" xlink:href=\"#C2_0_aef620cf1c\" y=\"197.849186\"/>\r\n    </g>\r\n    <g clip-path=\"url(#p3fc71d1115)\">\r\n     <use style=\"fill:#dd8452;\" x=\"296.827438\" xlink:href=\"#C2_0_aef620cf1c\" y=\"211.461422\"/>\r\n    </g>\r\n    <g clip-path=\"url(#p3fc71d1115)\">\r\n     <use style=\"fill:#4c72b0;\" x=\"283.812683\" xlink:href=\"#C2_0_aef620cf1c\" y=\"218.267539\"/>\r\n    </g>\r\n    <g clip-path=\"url(#p3fc71d1115)\">\r\n     <use style=\"fill:#dd8452;\" x=\"286.896482\" xlink:href=\"#C2_0_aef620cf1c\" y=\"187.640009\"/>\r\n    </g>\r\n    <g clip-path=\"url(#p3fc71d1115)\">\r\n     <use style=\"fill:#4c72b0;\" x=\"283.315407\" xlink:href=\"#C2_0_aef620cf1c\" y=\"160.415537\"/>\r\n    </g>\r\n    <g clip-path=\"url(#p3fc71d1115)\">\r\n     <use style=\"fill:#4c72b0;\" x=\"290.95837\" xlink:href=\"#C2_0_aef620cf1c\" y=\"204.655304\"/>\r\n    </g>\r\n    <g clip-path=\"url(#p3fc71d1115)\">\r\n     <use style=\"fill:#dd8452;\" x=\"286.657878\" xlink:href=\"#C2_0_aef620cf1c\" y=\"221.670598\"/>\r\n    </g>\r\n    <g clip-path=\"url(#p3fc71d1115)\">\r\n     <use style=\"fill:#4c72b0;\" x=\"293.14387\" xlink:href=\"#C2_0_aef620cf1c\" y=\"197.849186\"/>\r\n    </g>\r\n    <g clip-path=\"url(#p3fc71d1115)\">\r\n     <use style=\"fill:#dd8452;\" x=\"295.12212\" xlink:href=\"#C2_0_aef620cf1c\" y=\"225.073657\"/>\r\n    </g>\r\n    <g clip-path=\"url(#p3fc71d1115)\">\r\n     <use style=\"fill:#4c72b0;\" x=\"299.161218\" xlink:href=\"#C2_0_aef620cf1c\" y=\"119.57883\"/>\r\n    </g>\r\n    <g clip-path=\"url(#p3fc71d1115)\">\r\n     <use style=\"fill:#4c72b0;\" x=\"298.781073\" xlink:href=\"#C2_0_aef620cf1c\" y=\"221.670598\"/>\r\n    </g>\r\n    <g clip-path=\"url(#p3fc71d1115)\">\r\n     <use style=\"fill:#dd8452;\" x=\"293.635636\" xlink:href=\"#C2_0_aef620cf1c\" y=\"192.066988\"/>\r\n    </g>\r\n    <g clip-path=\"url(#p3fc71d1115)\">\r\n     <use style=\"fill:#4c72b0;\" x=\"294.342999\" xlink:href=\"#C2_0_aef620cf1c\" y=\"192.066988\"/>\r\n    </g>\r\n    <g clip-path=\"url(#p3fc71d1115)\">\r\n     <use style=\"fill:#4c72b0;\" x=\"286.158289\" xlink:href=\"#C2_0_aef620cf1c\" y=\"192.066988\"/>\r\n    </g>\r\n    <g clip-path=\"url(#p3fc71d1115)\">\r\n     <use style=\"fill:#4c72b0;\" x=\"284.812556\" xlink:href=\"#C2_0_aef620cf1c\" y=\"143.400242\"/>\r\n    </g>\r\n    <g clip-path=\"url(#p3fc71d1115)\">\r\n     <use style=\"fill:#dd8452;\" x=\"301.394461\" xlink:href=\"#C2_0_aef620cf1c\" y=\"192.066988\"/>\r\n    </g>\r\n    <g clip-path=\"url(#p3fc71d1115)\">\r\n     <use style=\"fill:#dd8452;\" x=\"285.020436\" xlink:href=\"#C2_0_aef620cf1c\" y=\"259.104247\"/>\r\n    </g>\r\n    <g clip-path=\"url(#p3fc71d1115)\">\r\n     <use style=\"fill:#4c72b0;\" x=\"289.869585\" xlink:href=\"#C2_0_aef620cf1c\" y=\"192.066988\"/>\r\n    </g>\r\n    <g clip-path=\"url(#p3fc71d1115)\">\r\n     <use style=\"fill:#4c72b0;\" x=\"295.152577\" xlink:href=\"#C2_0_aef620cf1c\" y=\"221.670598\"/>\r\n    </g>\r\n    <g clip-path=\"url(#p3fc71d1115)\">\r\n     <use style=\"fill:#4c72b0;\" x=\"295.349669\" xlink:href=\"#C2_0_aef620cf1c\" y=\"194.446127\"/>\r\n    </g>\r\n    <g clip-path=\"url(#p3fc71d1115)\">\r\n     <use style=\"fill:#dd8452;\" x=\"296.245704\" xlink:href=\"#C2_0_aef620cf1c\" y=\"197.849186\"/>\r\n    </g>\r\n    <g clip-path=\"url(#p3fc71d1115)\">\r\n     <use style=\"fill:#4c72b0;\" x=\"292.342597\" xlink:href=\"#C2_0_aef620cf1c\" y=\"231.879775\"/>\r\n    </g>\r\n    <g clip-path=\"url(#p3fc71d1115)\">\r\n     <use style=\"fill:#4c72b0;\" x=\"294.441246\" xlink:href=\"#C2_0_aef620cf1c\" y=\"192.066988\"/>\r\n    </g>\r\n    <g clip-path=\"url(#p3fc71d1115)\">\r\n     <use style=\"fill:#4c72b0;\" x=\"282.157547\" xlink:href=\"#C2_0_aef620cf1c\" y=\"192.066988\"/>\r\n    </g>\r\n    <g clip-path=\"url(#p3fc71d1115)\">\r\n     <use style=\"fill:#4c72b0;\" x=\"295.726183\" xlink:href=\"#C2_0_aef620cf1c\" y=\"184.23695\"/>\r\n    </g>\r\n    <g clip-path=\"url(#p3fc71d1115)\">\r\n     <use style=\"fill:#dd8452;\" x=\"292.104872\" xlink:href=\"#C2_0_aef620cf1c\" y=\"192.066988\"/>\r\n    </g>\r\n    <g clip-path=\"url(#p3fc71d1115)\">\r\n     <use style=\"fill:#4c72b0;\" x=\"286.290013\" xlink:href=\"#C2_0_aef620cf1c\" y=\"235.282834\"/>\r\n    </g>\r\n    <g clip-path=\"url(#p3fc71d1115)\">\r\n     <use style=\"fill:#dd8452;\" x=\"288.483678\" xlink:href=\"#C2_0_aef620cf1c\" y=\"221.670598\"/>\r\n    </g>\r\n    <g clip-path=\"url(#p3fc71d1115)\">\r\n     <use style=\"fill:#4c72b0;\" x=\"299.020884\" xlink:href=\"#C2_0_aef620cf1c\" y=\"225.073657\"/>\r\n    </g>\r\n    <g clip-path=\"url(#p3fc71d1115)\">\r\n     <use style=\"fill:#4c72b0;\" x=\"284.302997\" xlink:href=\"#C2_0_aef620cf1c\" y=\"208.058363\"/>\r\n    </g>\r\n    <g clip-path=\"url(#p3fc71d1115)\">\r\n     <use style=\"fill:#4c72b0;\" x=\"291.800319\" xlink:href=\"#C2_0_aef620cf1c\" y=\"192.066988\"/>\r\n    </g>\r\n    <g clip-path=\"url(#p3fc71d1115)\">\r\n     <use style=\"fill:#dd8452;\" x=\"290.073828\" xlink:href=\"#C2_0_aef620cf1c\" y=\"276.119542\"/>\r\n    </g>\r\n    <g clip-path=\"url(#p3fc71d1115)\">\r\n     <use style=\"fill:#4c72b0;\" x=\"287.13424\" xlink:href=\"#C2_0_aef620cf1c\" y=\"192.066988\"/>\r\n    </g>\r\n    <g clip-path=\"url(#p3fc71d1115)\">\r\n     <use style=\"fill:#4c72b0;\" x=\"298.012997\" xlink:href=\"#C2_0_aef620cf1c\" y=\"192.066988\"/>\r\n    </g>\r\n    <g clip-path=\"url(#p3fc71d1115)\">\r\n     <use style=\"fill:#4c72b0;\" x=\"289.642538\" xlink:href=\"#C2_0_aef620cf1c\" y=\"194.446127\"/>\r\n    </g>\r\n    <g clip-path=\"url(#p3fc71d1115)\">\r\n     <use style=\"fill:#4c72b0;\" x=\"301.389238\" xlink:href=\"#C2_0_aef620cf1c\" y=\"192.066988\"/>\r\n    </g>\r\n    <g clip-path=\"url(#p3fc71d1115)\">\r\n     <use style=\"fill:#4c72b0;\" x=\"286.350887\" xlink:href=\"#C2_0_aef620cf1c\" y=\"177.430832\"/>\r\n    </g>\r\n    <g clip-path=\"url(#p3fc71d1115)\">\r\n     <use style=\"fill:#4c72b0;\" x=\"299.35947\" xlink:href=\"#C2_0_aef620cf1c\" y=\"192.066988\"/>\r\n    </g>\r\n    <g clip-path=\"url(#p3fc71d1115)\">\r\n     <use style=\"fill:#4c72b0;\" x=\"297.277101\" xlink:href=\"#C2_0_aef620cf1c\" y=\"163.818596\"/>\r\n    </g>\r\n    <g clip-path=\"url(#p3fc71d1115)\">\r\n     <use style=\"fill:#4c72b0;\" x=\"284.957953\" xlink:href=\"#C2_0_aef620cf1c\" y=\"192.066988\"/>\r\n    </g>\r\n    <g clip-path=\"url(#p3fc71d1115)\">\r\n     <use style=\"fill:#dd8452;\" x=\"292.983241\" xlink:href=\"#C2_0_aef620cf1c\" y=\"290.582542\"/>\r\n    </g>\r\n    <g clip-path=\"url(#p3fc71d1115)\">\r\n     <use style=\"fill:#4c72b0;\" x=\"287.426296\" xlink:href=\"#C2_0_aef620cf1c\" y=\"192.066988\"/>\r\n    </g>\r\n    <g clip-path=\"url(#p3fc71d1115)\">\r\n     <use style=\"fill:#4c72b0;\" x=\"299.157539\" xlink:href=\"#C2_0_aef620cf1c\" y=\"163.818596\"/>\r\n    </g>\r\n    <g clip-path=\"url(#p3fc71d1115)\">\r\n     <use style=\"fill:#dd8452;\" x=\"292.403148\" xlink:href=\"#C2_0_aef620cf1c\" y=\"218.267539\"/>\r\n    </g>\r\n    <g clip-path=\"url(#p3fc71d1115)\">\r\n     <use style=\"fill:#4c72b0;\" x=\"298.65752\" xlink:href=\"#C2_0_aef620cf1c\" y=\"194.446127\"/>\r\n    </g>\r\n    <g clip-path=\"url(#p3fc71d1115)\">\r\n     <use style=\"fill:#4c72b0;\" x=\"294.441294\" xlink:href=\"#C2_0_aef620cf1c\" y=\"218.267539\"/>\r\n    </g>\r\n    <g clip-path=\"url(#p3fc71d1115)\">\r\n     <use style=\"fill:#dd8452;\" x=\"295.889752\" xlink:href=\"#C2_0_aef620cf1c\" y=\"286.328719\"/>\r\n    </g>\r\n    <g clip-path=\"url(#p3fc71d1115)\">\r\n     <use style=\"fill:#4c72b0;\" x=\"291.61977\" xlink:href=\"#C2_0_aef620cf1c\" y=\"262.507306\"/>\r\n    </g>\r\n    <g clip-path=\"url(#p3fc71d1115)\">\r\n     <use style=\"fill:#4c72b0;\" x=\"301.397671\" xlink:href=\"#C2_0_aef620cf1c\" y=\"122.981889\"/>\r\n    </g>\r\n    <g clip-path=\"url(#p3fc71d1115)\">\r\n     <use style=\"fill:#dd8452;\" x=\"295.357854\" xlink:href=\"#C2_0_aef620cf1c\" y=\"78.742122\"/>\r\n    </g>\r\n    <g clip-path=\"url(#p3fc71d1115)\">\r\n     <use style=\"fill:#dd8452;\" x=\"291.632454\" xlink:href=\"#C2_0_aef620cf1c\" y=\"192.066988\"/>\r\n    </g>\r\n    <g clip-path=\"url(#p3fc71d1115)\">\r\n     <use style=\"fill:#4c72b0;\" x=\"294.173245\" xlink:href=\"#C2_0_aef620cf1c\" y=\"191.043068\"/>\r\n    </g>\r\n    <g clip-path=\"url(#p3fc71d1115)\">\r\n     <use style=\"fill:#4c72b0;\" x=\"299.480085\" xlink:href=\"#C2_0_aef620cf1c\" y=\"262.507306\"/>\r\n    </g>\r\n    <g clip-path=\"url(#p3fc71d1115)\">\r\n     <use style=\"fill:#4c72b0;\" x=\"301.343845\" xlink:href=\"#C2_0_aef620cf1c\" y=\"192.066988\"/>\r\n    </g>\r\n    <g clip-path=\"url(#p3fc71d1115)\">\r\n     <use style=\"fill:#4c72b0;\" x=\"290.392378\" xlink:href=\"#C2_0_aef620cf1c\" y=\"221.670598\"/>\r\n    </g>\r\n    <g clip-path=\"url(#p3fc71d1115)\">\r\n     <use style=\"fill:#4c72b0;\" x=\"285.536283\" xlink:href=\"#C2_0_aef620cf1c\" y=\"221.670598\"/>\r\n    </g>\r\n    <g clip-path=\"url(#p3fc71d1115)\">\r\n     <use style=\"fill:#4c72b0;\" x=\"293.170834\" xlink:href=\"#C2_0_aef620cf1c\" y=\"192.066988\"/>\r\n    </g>\r\n    <g clip-path=\"url(#p3fc71d1115)\">\r\n     <use style=\"fill:#4c72b0;\" x=\"281.822733\" xlink:href=\"#C2_0_aef620cf1c\" y=\"192.066988\"/>\r\n    </g>\r\n    <g clip-path=\"url(#p3fc71d1115)\">\r\n     <use style=\"fill:#4c72b0;\" x=\"285.12471\" xlink:href=\"#C2_0_aef620cf1c\" y=\"211.461422\"/>\r\n    </g>\r\n    <g clip-path=\"url(#p3fc71d1115)\">\r\n     <use style=\"fill:#4c72b0;\" x=\"291.012826\" xlink:href=\"#C2_0_aef620cf1c\" y=\"235.282834\"/>\r\n    </g>\r\n    <g clip-path=\"url(#p3fc71d1115)\">\r\n     <use style=\"fill:#dd8452;\" x=\"299.962701\" xlink:href=\"#C2_0_aef620cf1c\" y=\"221.670598\"/>\r\n    </g>\r\n    <g clip-path=\"url(#p3fc71d1115)\">\r\n     <use style=\"fill:#dd8452;\" x=\"297.816839\" xlink:href=\"#C2_0_aef620cf1c\" y=\"192.066988\"/>\r\n    </g>\r\n    <g clip-path=\"url(#p3fc71d1115)\">\r\n     <use style=\"fill:#dd8452;\" x=\"298.960555\" xlink:href=\"#C2_0_aef620cf1c\" y=\"167.221655\"/>\r\n    </g>\r\n    <g clip-path=\"url(#p3fc71d1115)\">\r\n     <use style=\"fill:#4c72b0;\" x=\"282.234564\" xlink:href=\"#C2_0_aef620cf1c\" y=\"197.849186\"/>\r\n    </g>\r\n    <g clip-path=\"url(#p3fc71d1115)\">\r\n     <use style=\"fill:#4c72b0;\" x=\"284.095619\" xlink:href=\"#C2_0_aef620cf1c\" y=\"204.655304\"/>\r\n    </g>\r\n    <g clip-path=\"url(#p3fc71d1115)\">\r\n     <use style=\"fill:#4c72b0;\" x=\"285.980465\" xlink:href=\"#C2_0_aef620cf1c\" y=\"194.446127\"/>\r\n    </g>\r\n    <g clip-path=\"url(#p3fc71d1115)\">\r\n     <use style=\"fill:#4c72b0;\" x=\"284.161636\" xlink:href=\"#C2_0_aef620cf1c\" y=\"192.066988\"/>\r\n    </g>\r\n    <g clip-path=\"url(#p3fc71d1115)\">\r\n     <use style=\"fill:#4c72b0;\" x=\"295.021169\" xlink:href=\"#C2_0_aef620cf1c\" y=\"211.461422\"/>\r\n    </g>\r\n    <g clip-path=\"url(#p3fc71d1115)\">\r\n     <use style=\"fill:#4c72b0;\" x=\"295.866214\" xlink:href=\"#C2_0_aef620cf1c\" y=\"192.066988\"/>\r\n    </g>\r\n    <g clip-path=\"url(#p3fc71d1115)\">\r\n     <use style=\"fill:#4c72b0;\" x=\"283.792925\" xlink:href=\"#C2_0_aef620cf1c\" y=\"184.23695\"/>\r\n    </g>\r\n    <g clip-path=\"url(#p3fc71d1115)\">\r\n     <use style=\"fill:#4c72b0;\" x=\"291.814281\" xlink:href=\"#C2_0_aef620cf1c\" y=\"218.267539\"/>\r\n    </g>\r\n    <g clip-path=\"url(#p3fc71d1115)\">\r\n     <use style=\"fill:#4c72b0;\" x=\"297.519379\" xlink:href=\"#C2_0_aef620cf1c\" y=\"192.066988\"/>\r\n    </g>\r\n    <g clip-path=\"url(#p3fc71d1115)\">\r\n     <use style=\"fill:#4c72b0;\" x=\"298.866942\" xlink:href=\"#C2_0_aef620cf1c\" y=\"192.066988\"/>\r\n    </g>\r\n    <g clip-path=\"url(#p3fc71d1115)\">\r\n     <use style=\"fill:#4c72b0;\" x=\"291.562393\" xlink:href=\"#C2_0_aef620cf1c\" y=\"155.310949\"/>\r\n    </g>\r\n    <g clip-path=\"url(#p3fc71d1115)\">\r\n     <use style=\"fill:#4c72b0;\" x=\"282.013284\" xlink:href=\"#C2_0_aef620cf1c\" y=\"160.415537\"/>\r\n    </g>\r\n    <g clip-path=\"url(#p3fc71d1115)\">\r\n     <use style=\"fill:#4c72b0;\" x=\"301.246211\" xlink:href=\"#C2_0_aef620cf1c\" y=\"192.066988\"/>\r\n    </g>\r\n    <g clip-path=\"url(#p3fc71d1115)\">\r\n     <use style=\"fill:#4c72b0;\" x=\"288.026452\" xlink:href=\"#C2_0_aef620cf1c\" y=\"235.282834\"/>\r\n    </g>\r\n    <g clip-path=\"url(#p3fc71d1115)\">\r\n     <use style=\"fill:#dd8452;\" x=\"294.369749\" xlink:href=\"#C2_0_aef620cf1c\" y=\"192.066988\"/>\r\n    </g>\r\n    <g clip-path=\"url(#p3fc71d1115)\">\r\n     <use style=\"fill:#dd8452;\" x=\"286.804092\" xlink:href=\"#C2_0_aef620cf1c\" y=\"191.043068\"/>\r\n    </g>\r\n    <g clip-path=\"url(#p3fc71d1115)\">\r\n     <use style=\"fill:#4c72b0;\" x=\"294.018871\" xlink:href=\"#C2_0_aef620cf1c\" y=\"192.066988\"/>\r\n    </g>\r\n    <g clip-path=\"url(#p3fc71d1115)\">\r\n     <use style=\"fill:#dd8452;\" x=\"286.873638\" xlink:href=\"#C2_0_aef620cf1c\" y=\"262.507306\"/>\r\n    </g>\r\n    <g clip-path=\"url(#p3fc71d1115)\">\r\n     <use style=\"fill:#dd8452;\" x=\"298.922094\" xlink:href=\"#C2_0_aef620cf1c\" y=\"255.701188\"/>\r\n    </g>\r\n    <g clip-path=\"url(#p3fc71d1115)\">\r\n     <use style=\"fill:#4c72b0;\" x=\"296.920278\" xlink:href=\"#C2_0_aef620cf1c\" y=\"180.833891\"/>\r\n    </g>\r\n    <g clip-path=\"url(#p3fc71d1115)\">\r\n     <use style=\"fill:#4c72b0;\" x=\"300.186483\" xlink:href=\"#C2_0_aef620cf1c\" y=\"192.066988\"/>\r\n    </g>\r\n    <g clip-path=\"url(#p3fc71d1115)\">\r\n     <use style=\"fill:#4c72b0;\" x=\"289.680088\" xlink:href=\"#C2_0_aef620cf1c\" y=\"218.267539\"/>\r\n    </g>\r\n    <g clip-path=\"url(#p3fc71d1115)\">\r\n     <use style=\"fill:#dd8452;\" x=\"282.466854\" xlink:href=\"#C2_0_aef620cf1c\" y=\"218.267539\"/>\r\n    </g>\r\n    <g clip-path=\"url(#p3fc71d1115)\">\r\n     <use style=\"fill:#dd8452;\" x=\"293.874614\" xlink:href=\"#C2_0_aef620cf1c\" y=\"170.624714\"/>\r\n    </g>\r\n    <g clip-path=\"url(#p3fc71d1115)\">\r\n     <use style=\"fill:#4c72b0;\" x=\"288.191155\" xlink:href=\"#C2_0_aef620cf1c\" y=\"192.066988\"/>\r\n    </g>\r\n    <g clip-path=\"url(#p3fc71d1115)\">\r\n     <use style=\"fill:#4c72b0;\" x=\"291.221779\" xlink:href=\"#C2_0_aef620cf1c\" y=\"157.012478\"/>\r\n    </g>\r\n    <g clip-path=\"url(#p3fc71d1115)\">\r\n     <use style=\"fill:#4c72b0;\" x=\"290.532632\" xlink:href=\"#C2_0_aef620cf1c\" y=\"192.066988\"/>\r\n    </g>\r\n    <g clip-path=\"url(#p3fc71d1115)\">\r\n     <use style=\"fill:#dd8452;\" x=\"295.605915\" xlink:href=\"#C2_0_aef620cf1c\" y=\"192.066988\"/>\r\n    </g>\r\n    <g clip-path=\"url(#p3fc71d1115)\">\r\n     <use style=\"fill:#4c72b0;\" x=\"283.756932\" xlink:href=\"#C2_0_aef620cf1c\" y=\"211.461422\"/>\r\n    </g>\r\n    <g clip-path=\"url(#p3fc71d1115)\">\r\n     <use style=\"fill:#4c72b0;\" x=\"283.523285\" xlink:href=\"#C2_0_aef620cf1c\" y=\"228.476716\"/>\r\n    </g>\r\n    <g clip-path=\"url(#p3fc71d1115)\">\r\n     <use style=\"fill:#dd8452;\" x=\"294.74899\" xlink:href=\"#C2_0_aef620cf1c\" y=\"194.446127\"/>\r\n    </g>\r\n    <g clip-path=\"url(#p3fc71d1115)\">\r\n     <use style=\"fill:#4c72b0;\" x=\"295.268068\" xlink:href=\"#C2_0_aef620cf1c\" y=\"192.066988\"/>\r\n    </g>\r\n    <g clip-path=\"url(#p3fc71d1115)\">\r\n     <use style=\"fill:#4c72b0;\" x=\"286.702373\" xlink:href=\"#C2_0_aef620cf1c\" y=\"184.23695\"/>\r\n    </g>\r\n    <g clip-path=\"url(#p3fc71d1115)\">\r\n     <use style=\"fill:#dd8452;\" x=\"290.483062\" xlink:href=\"#C2_0_aef620cf1c\" y=\"192.066988\"/>\r\n    </g>\r\n    <g clip-path=\"url(#p3fc71d1115)\">\r\n     <use style=\"fill:#4c72b0;\" x=\"300.3366\" xlink:href=\"#C2_0_aef620cf1c\" y=\"238.685893\"/>\r\n    </g>\r\n    <g clip-path=\"url(#p3fc71d1115)\">\r\n     <use style=\"fill:#4c72b0;\" x=\"289.385507\" xlink:href=\"#C2_0_aef620cf1c\" y=\"228.476716\"/>\r\n    </g>\r\n    <g clip-path=\"url(#p3fc71d1115)\">\r\n     <use style=\"fill:#dd8452;\" x=\"294.961417\" xlink:href=\"#C2_0_aef620cf1c\" y=\"192.066988\"/>\r\n    </g>\r\n    <g clip-path=\"url(#p3fc71d1115)\">\r\n     <use style=\"fill:#4c72b0;\" x=\"293.605148\" xlink:href=\"#C2_0_aef620cf1c\" y=\"184.23695\"/>\r\n    </g>\r\n    <g clip-path=\"url(#p3fc71d1115)\">\r\n     <use style=\"fill:#4c72b0;\" x=\"299.178536\" xlink:href=\"#C2_0_aef620cf1c\" y=\"192.066988\"/>\r\n    </g>\r\n    <g clip-path=\"url(#p3fc71d1115)\">\r\n     <use style=\"fill:#4c72b0;\" x=\"292.68084\" xlink:href=\"#C2_0_aef620cf1c\" y=\"218.267539\"/>\r\n    </g>\r\n    <g clip-path=\"url(#p3fc71d1115)\">\r\n     <use style=\"fill:#4c72b0;\" x=\"295.088495\" xlink:href=\"#C2_0_aef620cf1c\" y=\"192.066988\"/>\r\n    </g>\r\n    <g clip-path=\"url(#p3fc71d1115)\">\r\n     <use style=\"fill:#4c72b0;\" x=\"287.723416\" xlink:href=\"#C2_0_aef620cf1c\" y=\"174.027773\"/>\r\n    </g>\r\n    <g clip-path=\"url(#p3fc71d1115)\">\r\n     <use style=\"fill:#4c72b0;\" x=\"283.803878\" xlink:href=\"#C2_0_aef620cf1c\" y=\"133.191066\"/>\r\n    </g>\r\n    <g clip-path=\"url(#p3fc71d1115)\">\r\n     <use style=\"fill:#dd8452;\" x=\"293.919835\" xlink:href=\"#C2_0_aef620cf1c\" y=\"192.066988\"/>\r\n    </g>\r\n    <g clip-path=\"url(#p3fc71d1115)\">\r\n     <use style=\"fill:#4c72b0;\" x=\"289.718889\" xlink:href=\"#C2_0_aef620cf1c\" y=\"170.624714\"/>\r\n    </g>\r\n    <g clip-path=\"url(#p3fc71d1115)\">\r\n     <use style=\"fill:#4c72b0;\" x=\"290.965105\" xlink:href=\"#C2_0_aef620cf1c\" y=\"126.384948\"/>\r\n    </g>\r\n    <g clip-path=\"url(#p3fc71d1115)\">\r\n     <use style=\"fill:#4c72b0;\" x=\"289.54146\" xlink:href=\"#C2_0_aef620cf1c\" y=\"192.066988\"/>\r\n    </g>\r\n    <g clip-path=\"url(#p3fc71d1115)\">\r\n     <use style=\"fill:#4c72b0;\" x=\"292.274226\" xlink:href=\"#C2_0_aef620cf1c\" y=\"192.066988\"/>\r\n    </g>\r\n    <g clip-path=\"url(#p3fc71d1115)\">\r\n     <use style=\"fill:#4c72b0;\" x=\"285.103718\" xlink:href=\"#C2_0_aef620cf1c\" y=\"143.400242\"/>\r\n    </g>\r\n    <g clip-path=\"url(#p3fc71d1115)\">\r\n     <use style=\"fill:#4c72b0;\" x=\"291.787755\" xlink:href=\"#C2_0_aef620cf1c\" y=\"170.624714\"/>\r\n    </g>\r\n    <g clip-path=\"url(#p3fc71d1115)\">\r\n     <use style=\"fill:#4c72b0;\" x=\"284.399816\" xlink:href=\"#C2_0_aef620cf1c\" y=\"191.043068\"/>\r\n    </g>\r\n    <g clip-path=\"url(#p3fc71d1115)\">\r\n     <use style=\"fill:#dd8452;\" x=\"285.228987\" xlink:href=\"#C2_0_aef620cf1c\" y=\"160.415537\"/>\r\n    </g>\r\n    <g clip-path=\"url(#p3fc71d1115)\">\r\n     <use style=\"fill:#4c72b0;\" x=\"296.919396\" xlink:href=\"#C2_0_aef620cf1c\" y=\"192.066988\"/>\r\n    </g>\r\n    <g clip-path=\"url(#p3fc71d1115)\">\r\n     <use style=\"fill:#dd8452;\" x=\"288.009309\" xlink:href=\"#C2_0_aef620cf1c\" y=\"192.066988\"/>\r\n    </g>\r\n    <g clip-path=\"url(#p3fc71d1115)\">\r\n     <use style=\"fill:#4c72b0;\" x=\"300.647333\" xlink:href=\"#C2_0_aef620cf1c\" y=\"192.066988\"/>\r\n    </g>\r\n    <g clip-path=\"url(#p3fc71d1115)\">\r\n     <use style=\"fill:#4c72b0;\" x=\"282.005933\" xlink:href=\"#C2_0_aef620cf1c\" y=\"174.027773\"/>\r\n    </g>\r\n    <g clip-path=\"url(#p3fc71d1115)\">\r\n     <use style=\"fill:#4c72b0;\" x=\"293.119132\" xlink:href=\"#C2_0_aef620cf1c\" y=\"177.430832\"/>\r\n    </g>\r\n    <g clip-path=\"url(#p3fc71d1115)\">\r\n     <use style=\"fill:#dd8452;\" x=\"294.820753\" xlink:href=\"#C2_0_aef620cf1c\" y=\"204.655304\"/>\r\n    </g>\r\n    <g clip-path=\"url(#p3fc71d1115)\">\r\n     <use style=\"fill:#4c72b0;\" x=\"294.631627\" xlink:href=\"#C2_0_aef620cf1c\" y=\"201.252245\"/>\r\n    </g>\r\n    <g clip-path=\"url(#p3fc71d1115)\">\r\n     <use style=\"fill:#4c72b0;\" x=\"286.817278\" xlink:href=\"#C2_0_aef620cf1c\" y=\"225.073657\"/>\r\n    </g>\r\n    <g clip-path=\"url(#p3fc71d1115)\">\r\n     <use style=\"fill:#4c72b0;\" x=\"295.997468\" xlink:href=\"#C2_0_aef620cf1c\" y=\"221.670598\"/>\r\n    </g>\r\n    <g clip-path=\"url(#p3fc71d1115)\">\r\n     <use style=\"fill:#4c72b0;\" x=\"287.424073\" xlink:href=\"#C2_0_aef620cf1c\" y=\"221.670598\"/>\r\n    </g>\r\n    <g clip-path=\"url(#p3fc71d1115)\">\r\n     <use style=\"fill:#4c72b0;\" x=\"292.262181\" xlink:href=\"#C2_0_aef620cf1c\" y=\"204.655304\"/>\r\n    </g>\r\n    <g clip-path=\"url(#p3fc71d1115)\">\r\n     <use style=\"fill:#4c72b0;\" x=\"299.095457\" xlink:href=\"#C2_0_aef620cf1c\" y=\"192.066988\"/>\r\n    </g>\r\n    <g clip-path=\"url(#p3fc71d1115)\">\r\n     <use style=\"fill:#4c72b0;\" x=\"289.527125\" xlink:href=\"#C2_0_aef620cf1c\" y=\"119.57883\"/>\r\n    </g>\r\n    <g clip-path=\"url(#p3fc71d1115)\">\r\n     <use style=\"fill:#dd8452;\" x=\"282.510278\" xlink:href=\"#C2_0_aef620cf1c\" y=\"262.507306\"/>\r\n    </g>\r\n    <g clip-path=\"url(#p3fc71d1115)\">\r\n     <use style=\"fill:#4c72b0;\" x=\"286.845548\" xlink:href=\"#C2_0_aef620cf1c\" y=\"184.23695\"/>\r\n    </g>\r\n    <g clip-path=\"url(#p3fc71d1115)\">\r\n     <use style=\"fill:#dd8452;\" x=\"293.765604\" xlink:href=\"#C2_0_aef620cf1c\" y=\"153.609419\"/>\r\n    </g>\r\n    <g clip-path=\"url(#p3fc71d1115)\">\r\n     <use style=\"fill:#4c72b0;\" x=\"299.064252\" xlink:href=\"#C2_0_aef620cf1c\" y=\"192.066988\"/>\r\n    </g>\r\n    <g clip-path=\"url(#p3fc71d1115)\">\r\n     <use style=\"fill:#4c72b0;\" x=\"287.663785\" xlink:href=\"#C2_0_aef620cf1c\" y=\"225.073657\"/>\r\n    </g>\r\n    <g clip-path=\"url(#p3fc71d1115)\">\r\n     <use style=\"fill:#dd8452;\" x=\"292.286521\" xlink:href=\"#C2_0_aef620cf1c\" y=\"286.328719\"/>\r\n    </g>\r\n    <g clip-path=\"url(#p3fc71d1115)\">\r\n     <use style=\"fill:#4c72b0;\" x=\"288.471844\" xlink:href=\"#C2_0_aef620cf1c\" y=\"192.066988\"/>\r\n    </g>\r\n    <g clip-path=\"url(#p3fc71d1115)\">\r\n     <use style=\"fill:#dd8452;\" x=\"293.038689\" xlink:href=\"#C2_0_aef620cf1c\" y=\"290.582542\"/>\r\n    </g>\r\n    <g clip-path=\"url(#p3fc71d1115)\">\r\n     <use style=\"fill:#4c72b0;\" x=\"291.210862\" xlink:href=\"#C2_0_aef620cf1c\" y=\"228.476716\"/>\r\n    </g>\r\n    <g clip-path=\"url(#p3fc71d1115)\">\r\n     <use style=\"fill:#4c72b0;\" x=\"299.363905\" xlink:href=\"#C2_0_aef620cf1c\" y=\"192.066988\"/>\r\n    </g>\r\n    <g clip-path=\"url(#p3fc71d1115)\">\r\n     <use style=\"fill:#dd8452;\" x=\"293.834748\" xlink:href=\"#C2_0_aef620cf1c\" y=\"214.86448\"/>\r\n    </g>\r\n    <g clip-path=\"url(#p3fc71d1115)\">\r\n     <use style=\"fill:#4c72b0;\" x=\"294.839206\" xlink:href=\"#C2_0_aef620cf1c\" y=\"192.066988\"/>\r\n    </g>\r\n    <g clip-path=\"url(#p3fc71d1115)\">\r\n     <use style=\"fill:#4c72b0;\" x=\"285.101134\" xlink:href=\"#C2_0_aef620cf1c\" y=\"221.670598\"/>\r\n    </g>\r\n    <g clip-path=\"url(#p3fc71d1115)\">\r\n     <use style=\"fill:#dd8452;\" x=\"296.459368\" xlink:href=\"#C2_0_aef620cf1c\" y=\"192.066988\"/>\r\n    </g>\r\n    <g clip-path=\"url(#p3fc71d1115)\">\r\n     <use style=\"fill:#dd8452;\" x=\"284.628752\" xlink:href=\"#C2_0_aef620cf1c\" y=\"231.879775\"/>\r\n    </g>\r\n    <g clip-path=\"url(#p3fc71d1115)\">\r\n     <use style=\"fill:#4c72b0;\" x=\"284.969077\" xlink:href=\"#C2_0_aef620cf1c\" y=\"192.066988\"/>\r\n    </g>\r\n    <g clip-path=\"url(#p3fc71d1115)\">\r\n     <use style=\"fill:#dd8452;\" x=\"291.268846\" xlink:href=\"#C2_0_aef620cf1c\" y=\"184.23695\"/>\r\n    </g>\r\n    <g clip-path=\"url(#p3fc71d1115)\">\r\n     <use style=\"fill:#4c72b0;\" x=\"282.702091\" xlink:href=\"#C2_0_aef620cf1c\" y=\"157.012478\"/>\r\n    </g>\r\n    <g clip-path=\"url(#p3fc71d1115)\">\r\n     <use style=\"fill:#4c72b0;\" x=\"299.978052\" xlink:href=\"#C2_0_aef620cf1c\" y=\"170.624714\"/>\r\n    </g>\r\n    <g clip-path=\"url(#p3fc71d1115)\">\r\n     <use style=\"fill:#4c72b0;\" x=\"290.476828\" xlink:href=\"#C2_0_aef620cf1c\" y=\"225.073657\"/>\r\n    </g>\r\n    <g clip-path=\"url(#p3fc71d1115)\">\r\n     <use style=\"fill:#4c72b0;\" x=\"292.555455\" xlink:href=\"#C2_0_aef620cf1c\" y=\"192.066988\"/>\r\n    </g>\r\n    <g clip-path=\"url(#p3fc71d1115)\">\r\n     <use style=\"fill:#4c72b0;\" x=\"281.855307\" xlink:href=\"#C2_0_aef620cf1c\" y=\"146.803301\"/>\r\n    </g>\r\n    <g clip-path=\"url(#p3fc71d1115)\">\r\n     <use style=\"fill:#4c72b0;\" x=\"283.963304\" xlink:href=\"#C2_0_aef620cf1c\" y=\"231.879775\"/>\r\n    </g>\r\n    <g clip-path=\"url(#p3fc71d1115)\">\r\n     <use style=\"fill:#4c72b0;\" x=\"292.483893\" xlink:href=\"#C2_0_aef620cf1c\" y=\"209.759892\"/>\r\n    </g>\r\n    <g clip-path=\"url(#p3fc71d1115)\">\r\n     <use style=\"fill:#dd8452;\" x=\"288.530675\" xlink:href=\"#C2_0_aef620cf1c\" y=\"231.879775\"/>\r\n    </g>\r\n    <g clip-path=\"url(#p3fc71d1115)\">\r\n     <use style=\"fill:#dd8452;\" x=\"283.596481\" xlink:href=\"#C2_0_aef620cf1c\" y=\"146.803301\"/>\r\n    </g>\r\n    <g clip-path=\"url(#p3fc71d1115)\">\r\n     <use style=\"fill:#dd8452;\" x=\"301.408365\" xlink:href=\"#C2_0_aef620cf1c\" y=\"192.066988\"/>\r\n    </g>\r\n    <g clip-path=\"url(#p3fc71d1115)\">\r\n     <use style=\"fill:#4c72b0;\" x=\"288.29233\" xlink:href=\"#C2_0_aef620cf1c\" y=\"225.073657\"/>\r\n    </g>\r\n    <g clip-path=\"url(#p3fc71d1115)\">\r\n     <use style=\"fill:#4c72b0;\" x=\"295.327767\" xlink:href=\"#C2_0_aef620cf1c\" y=\"245.492011\"/>\r\n    </g>\r\n    <g clip-path=\"url(#p3fc71d1115)\">\r\n     <use style=\"fill:#4c72b0;\" x=\"292.236815\" xlink:href=\"#C2_0_aef620cf1c\" y=\"245.492011\"/>\r\n    </g>\r\n    <g clip-path=\"url(#p3fc71d1115)\">\r\n     <use style=\"fill:#4c72b0;\" x=\"299.401762\" xlink:href=\"#C2_0_aef620cf1c\" y=\"228.476716\"/>\r\n    </g>\r\n    <g clip-path=\"url(#p3fc71d1115)\">\r\n     <use style=\"fill:#4c72b0;\" x=\"288.875115\" xlink:href=\"#C2_0_aef620cf1c\" y=\"231.879775\"/>\r\n    </g>\r\n    <g clip-path=\"url(#p3fc71d1115)\">\r\n     <use style=\"fill:#dd8452;\" x=\"299.551374\" xlink:href=\"#C2_0_aef620cf1c\" y=\"279.522601\"/>\r\n    </g>\r\n    <g clip-path=\"url(#p3fc71d1115)\">\r\n     <use style=\"fill:#4c72b0;\" x=\"300.676914\" xlink:href=\"#C2_0_aef620cf1c\" y=\"192.066988\"/>\r\n    </g>\r\n    <g clip-path=\"url(#p3fc71d1115)\">\r\n     <use style=\"fill:#4c72b0;\" x=\"293.252716\" xlink:href=\"#C2_0_aef620cf1c\" y=\"208.058363\"/>\r\n    </g>\r\n    <g clip-path=\"url(#p3fc71d1115)\">\r\n     <use style=\"fill:#4c72b0;\" x=\"281.704861\" xlink:href=\"#C2_0_aef620cf1c\" y=\"143.400242\"/>\r\n    </g>\r\n    <g clip-path=\"url(#p3fc71d1115)\">\r\n     <use style=\"fill:#dd8452;\" x=\"296.738192\" xlink:href=\"#C2_0_aef620cf1c\" y=\"192.066988\"/>\r\n    </g>\r\n    <g clip-path=\"url(#p3fc71d1115)\">\r\n     <use style=\"fill:#4c72b0;\" x=\"287.556256\" xlink:href=\"#C2_0_aef620cf1c\" y=\"150.20636\"/>\r\n    </g>\r\n    <g clip-path=\"url(#p3fc71d1115)\">\r\n     <use style=\"fill:#dd8452;\" x=\"284.097768\" xlink:href=\"#C2_0_aef620cf1c\" y=\"231.879775\"/>\r\n    </g>\r\n    <g clip-path=\"url(#p3fc71d1115)\">\r\n     <use style=\"fill:#4c72b0;\" x=\"300.519271\" xlink:href=\"#C2_0_aef620cf1c\" y=\"208.058363\"/>\r\n    </g>\r\n    <g clip-path=\"url(#p3fc71d1115)\">\r\n     <use style=\"fill:#4c72b0;\" x=\"285.293129\" xlink:href=\"#C2_0_aef620cf1c\" y=\"204.655304\"/>\r\n    </g>\r\n    <g clip-path=\"url(#p3fc71d1115)\">\r\n     <use style=\"fill:#4c72b0;\" x=\"295.372636\" xlink:href=\"#C2_0_aef620cf1c\" y=\"192.066988\"/>\r\n    </g>\r\n    <g clip-path=\"url(#p3fc71d1115)\">\r\n     <use style=\"fill:#4c72b0;\" x=\"292.254165\" xlink:href=\"#C2_0_aef620cf1c\" y=\"194.446127\"/>\r\n    </g>\r\n    <g clip-path=\"url(#p3fc71d1115)\">\r\n     <use style=\"fill:#4c72b0;\" x=\"288.32556\" xlink:href=\"#C2_0_aef620cf1c\" y=\"228.476716\"/>\r\n    </g>\r\n    <g clip-path=\"url(#p3fc71d1115)\">\r\n     <use style=\"fill:#4c72b0;\" x=\"293.203835\" xlink:href=\"#C2_0_aef620cf1c\" y=\"192.066988\"/>\r\n    </g>\r\n    <g clip-path=\"url(#p3fc71d1115)\">\r\n     <use style=\"fill:#4c72b0;\" x=\"291.504719\" xlink:href=\"#C2_0_aef620cf1c\" y=\"180.833891\"/>\r\n    </g>\r\n    <g clip-path=\"url(#p3fc71d1115)\">\r\n     <use style=\"fill:#4c72b0;\" x=\"298.58097\" xlink:href=\"#C2_0_aef620cf1c\" y=\"235.282834\"/>\r\n    </g>\r\n    <g clip-path=\"url(#p3fc71d1115)\">\r\n     <use style=\"fill:#4c72b0;\" x=\"287.583385\" xlink:href=\"#C2_0_aef620cf1c\" y=\"225.073657\"/>\r\n    </g>\r\n    <g clip-path=\"url(#p3fc71d1115)\">\r\n     <use style=\"fill:#dd8452;\" x=\"283.174678\" xlink:href=\"#C2_0_aef620cf1c\" y=\"192.066988\"/>\r\n    </g>\r\n    <g clip-path=\"url(#p3fc71d1115)\">\r\n     <use style=\"fill:#dd8452;\" x=\"292.769471\" xlink:href=\"#C2_0_aef620cf1c\" y=\"208.058363\"/>\r\n    </g>\r\n    <g clip-path=\"url(#p3fc71d1115)\">\r\n     <use style=\"fill:#4c72b0;\" x=\"285.776033\" xlink:href=\"#C2_0_aef620cf1c\" y=\"255.701188\"/>\r\n    </g>\r\n    <g clip-path=\"url(#p3fc71d1115)\">\r\n     <use style=\"fill:#4c72b0;\" x=\"283.851911\" xlink:href=\"#C2_0_aef620cf1c\" y=\"196.147656\"/>\r\n    </g>\r\n    <g clip-path=\"url(#p3fc71d1115)\">\r\n     <use style=\"fill:#dd8452;\" x=\"296.934605\" xlink:href=\"#C2_0_aef620cf1c\" y=\"129.788007\"/>\r\n    </g>\r\n    <g clip-path=\"url(#p3fc71d1115)\">\r\n     <use style=\"fill:#4c72b0;\" x=\"289.299328\" xlink:href=\"#C2_0_aef620cf1c\" y=\"192.066988\"/>\r\n    </g>\r\n    <g clip-path=\"url(#p3fc71d1115)\">\r\n     <use style=\"fill:#4c72b0;\" x=\"291.314914\" xlink:href=\"#C2_0_aef620cf1c\" y=\"192.066988\"/>\r\n    </g>\r\n    <g clip-path=\"url(#p3fc71d1115)\">\r\n     <use style=\"fill:#4c72b0;\" x=\"283.370186\" xlink:href=\"#C2_0_aef620cf1c\" y=\"211.461422\"/>\r\n    </g>\r\n    <g clip-path=\"url(#p3fc71d1115)\">\r\n     <use style=\"fill:#4c72b0;\" x=\"300.173251\" xlink:href=\"#C2_0_aef620cf1c\" y=\"187.640009\"/>\r\n    </g>\r\n    <g clip-path=\"url(#p3fc71d1115)\">\r\n     <use style=\"fill:#4c72b0;\" x=\"300.331599\" xlink:href=\"#C2_0_aef620cf1c\" y=\"238.685893\"/>\r\n    </g>\r\n    <g clip-path=\"url(#p3fc71d1115)\">\r\n     <use style=\"fill:#4c72b0;\" x=\"282.402272\" xlink:href=\"#C2_0_aef620cf1c\" y=\"187.640009\"/>\r\n    </g>\r\n    <g clip-path=\"url(#p3fc71d1115)\">\r\n     <use style=\"fill:#4c72b0;\" x=\"281.613756\" xlink:href=\"#C2_0_aef620cf1c\" y=\"272.716483\"/>\r\n    </g>\r\n    <g clip-path=\"url(#p3fc71d1115)\">\r\n     <use style=\"fill:#4c72b0;\" x=\"289.844739\" xlink:href=\"#C2_0_aef620cf1c\" y=\"180.833891\"/>\r\n    </g>\r\n    <g clip-path=\"url(#p3fc71d1115)\">\r\n     <use style=\"fill:#4c72b0;\" x=\"282.680797\" xlink:href=\"#C2_0_aef620cf1c\" y=\"214.86448\"/>\r\n    </g>\r\n    <g clip-path=\"url(#p3fc71d1115)\">\r\n     <use style=\"fill:#4c72b0;\" x=\"284.882046\" xlink:href=\"#C2_0_aef620cf1c\" y=\"197.849186\"/>\r\n    </g>\r\n    <g clip-path=\"url(#p3fc71d1115)\">\r\n     <use style=\"fill:#4c72b0;\" x=\"294.77441\" xlink:href=\"#C2_0_aef620cf1c\" y=\"177.430832\"/>\r\n    </g>\r\n    <g clip-path=\"url(#p3fc71d1115)\">\r\n     <use style=\"fill:#4c72b0;\" x=\"286.51971\" xlink:href=\"#C2_0_aef620cf1c\" y=\"192.066988\"/>\r\n    </g>\r\n    <g clip-path=\"url(#p3fc71d1115)\">\r\n     <use style=\"fill:#4c72b0;\" x=\"297.770886\" xlink:href=\"#C2_0_aef620cf1c\" y=\"153.609419\"/>\r\n    </g>\r\n    <g clip-path=\"url(#p3fc71d1115)\">\r\n     <use style=\"fill:#4c72b0;\" x=\"290.76115\" xlink:href=\"#C2_0_aef620cf1c\" y=\"225.073657\"/>\r\n    </g>\r\n    <g clip-path=\"url(#p3fc71d1115)\">\r\n     <use style=\"fill:#4c72b0;\" x=\"285.304347\" xlink:href=\"#C2_0_aef620cf1c\" y=\"238.685893\"/>\r\n    </g>\r\n    <g clip-path=\"url(#p3fc71d1115)\">\r\n     <use style=\"fill:#dd8452;\" x=\"291.133241\" xlink:href=\"#C2_0_aef620cf1c\" y=\"189.341538\"/>\r\n    </g>\r\n    <g clip-path=\"url(#p3fc71d1115)\">\r\n     <use style=\"fill:#4c72b0;\" x=\"301.080371\" xlink:href=\"#C2_0_aef620cf1c\" y=\"192.066988\"/>\r\n    </g>\r\n    <g clip-path=\"url(#p3fc71d1115)\">\r\n     <use style=\"fill:#4c72b0;\" x=\"282.2662\" xlink:href=\"#C2_0_aef620cf1c\" y=\"184.23695\"/>\r\n    </g>\r\n    <g clip-path=\"url(#p3fc71d1115)\">\r\n     <use style=\"fill:#4c72b0;\" x=\"293.384149\" xlink:href=\"#C2_0_aef620cf1c\" y=\"211.461422\"/>\r\n    </g>\r\n    <g clip-path=\"url(#p3fc71d1115)\">\r\n     <use style=\"fill:#4c72b0;\" x=\"298.22133\" xlink:href=\"#C2_0_aef620cf1c\" y=\"129.788007\"/>\r\n    </g>\r\n    <g clip-path=\"url(#p3fc71d1115)\">\r\n     <use style=\"fill:#4c72b0;\" x=\"300.509563\" xlink:href=\"#C2_0_aef620cf1c\" y=\"192.066988\"/>\r\n    </g>\r\n    <g clip-path=\"url(#p3fc71d1115)\">\r\n     <use style=\"fill:#4c72b0;\" x=\"294.625902\" xlink:href=\"#C2_0_aef620cf1c\" y=\"231.879775\"/>\r\n    </g>\r\n    <g clip-path=\"url(#p3fc71d1115)\">\r\n     <use style=\"fill:#4c72b0;\" x=\"294.988711\" xlink:href=\"#C2_0_aef620cf1c\" y=\"192.066988\"/>\r\n    </g>\r\n    <g clip-path=\"url(#p3fc71d1115)\">\r\n     <use style=\"fill:#dd8452;\" x=\"297.440724\" xlink:href=\"#C2_0_aef620cf1c\" y=\"276.119542\"/>\r\n    </g>\r\n    <g clip-path=\"url(#p3fc71d1115)\">\r\n     <use style=\"fill:#4c72b0;\" x=\"299.646\" xlink:href=\"#C2_0_aef620cf1c\" y=\"192.066988\"/>\r\n    </g>\r\n    <g clip-path=\"url(#p3fc71d1115)\">\r\n     <use style=\"fill:#dd8452;\" x=\"298.761329\" xlink:href=\"#C2_0_aef620cf1c\" y=\"248.89507\"/>\r\n    </g>\r\n    <g clip-path=\"url(#p3fc71d1115)\">\r\n     <use style=\"fill:#4c72b0;\" x=\"292.642843\" xlink:href=\"#C2_0_aef620cf1c\" y=\"192.066988\"/>\r\n    </g>\r\n    <g clip-path=\"url(#p3fc71d1115)\">\r\n     <use style=\"fill:#4c72b0;\" x=\"285.247427\" xlink:href=\"#C2_0_aef620cf1c\" y=\"208.058363\"/>\r\n    </g>\r\n    <g clip-path=\"url(#p3fc71d1115)\">\r\n     <use style=\"fill:#4c72b0;\" x=\"287.637612\" xlink:href=\"#C2_0_aef620cf1c\" y=\"208.058363\"/>\r\n    </g>\r\n    <g clip-path=\"url(#p3fc71d1115)\">\r\n     <use style=\"fill:#dd8452;\" x=\"287.229344\" xlink:href=\"#C2_0_aef620cf1c\" y=\"231.879775\"/>\r\n    </g>\r\n    <g clip-path=\"url(#p3fc71d1115)\">\r\n     <use style=\"fill:#4c72b0;\" x=\"285.448233\" xlink:href=\"#C2_0_aef620cf1c\" y=\"265.910365\"/>\r\n    </g>\r\n    <g clip-path=\"url(#p3fc71d1115)\">\r\n     <use style=\"fill:#4c72b0;\" x=\"291.626343\" xlink:href=\"#C2_0_aef620cf1c\" y=\"289.731778\"/>\r\n    </g>\r\n    <g clip-path=\"url(#p3fc71d1115)\">\r\n     <use style=\"fill:#4c72b0;\" x=\"291.040413\" xlink:href=\"#C2_0_aef620cf1c\" y=\"192.066988\"/>\r\n    </g>\r\n    <g clip-path=\"url(#p3fc71d1115)\">\r\n     <use style=\"fill:#dd8452;\" x=\"296.109184\" xlink:href=\"#C2_0_aef620cf1c\" y=\"192.066988\"/>\r\n    </g>\r\n    <g clip-path=\"url(#p3fc71d1115)\">\r\n     <use style=\"fill:#4c72b0;\" x=\"288.963869\" xlink:href=\"#C2_0_aef620cf1c\" y=\"208.058363\"/>\r\n    </g>\r\n    <g clip-path=\"url(#p3fc71d1115)\">\r\n     <use style=\"fill:#dd8452;\" x=\"297.314962\" xlink:href=\"#C2_0_aef620cf1c\" y=\"187.640009\"/>\r\n    </g>\r\n    <g clip-path=\"url(#p3fc71d1115)\">\r\n     <use style=\"fill:#4c72b0;\" x=\"294.530567\" xlink:href=\"#C2_0_aef620cf1c\" y=\"191.043068\"/>\r\n    </g>\r\n    <g clip-path=\"url(#p3fc71d1115)\">\r\n     <use style=\"fill:#dd8452;\" x=\"285.634189\" xlink:href=\"#C2_0_aef620cf1c\" y=\"191.043068\"/>\r\n    </g>\r\n    <g clip-path=\"url(#p3fc71d1115)\">\r\n     <use style=\"fill:#4c72b0;\" x=\"294.773691\" xlink:href=\"#C2_0_aef620cf1c\" y=\"291.705552\"/>\r\n    </g>\r\n    <g clip-path=\"url(#p3fc71d1115)\">\r\n     <use style=\"fill:#4c72b0;\" x=\"285.469433\" xlink:href=\"#C2_0_aef620cf1c\" y=\"201.252245\"/>\r\n    </g>\r\n    <g clip-path=\"url(#p3fc71d1115)\">\r\n     <use style=\"fill:#4c72b0;\" x=\"287.489296\" xlink:href=\"#C2_0_aef620cf1c\" y=\"187.640009\"/>\r\n    </g>\r\n    <g clip-path=\"url(#p3fc71d1115)\">\r\n     <use style=\"fill:#dd8452;\" x=\"282.709688\" xlink:href=\"#C2_0_aef620cf1c\" y=\"231.879775\"/>\r\n    </g>\r\n    <g clip-path=\"url(#p3fc71d1115)\">\r\n     <use style=\"fill:#4c72b0;\" x=\"298.327946\" xlink:href=\"#C2_0_aef620cf1c\" y=\"204.655304\"/>\r\n    </g>\r\n    <g clip-path=\"url(#p3fc71d1115)\">\r\n     <use style=\"fill:#4c72b0;\" x=\"284.707077\" xlink:href=\"#C2_0_aef620cf1c\" y=\"160.415537\"/>\r\n    </g>\r\n    <g clip-path=\"url(#p3fc71d1115)\">\r\n     <use style=\"fill:#dd8452;\" x=\"291.374734\" xlink:href=\"#C2_0_aef620cf1c\" y=\"272.716483\"/>\r\n    </g>\r\n    <g clip-path=\"url(#p3fc71d1115)\">\r\n     <use style=\"fill:#4c72b0;\" x=\"286.729417\" xlink:href=\"#C2_0_aef620cf1c\" y=\"189.341538\"/>\r\n    </g>\r\n    <g clip-path=\"url(#p3fc71d1115)\">\r\n     <use style=\"fill:#dd8452;\" x=\"299.865705\" xlink:href=\"#C2_0_aef620cf1c\" y=\"214.86448\"/>\r\n    </g>\r\n    <g clip-path=\"url(#p3fc71d1115)\">\r\n     <use style=\"fill:#4c72b0;\" x=\"285.905036\" xlink:href=\"#C2_0_aef620cf1c\" y=\"146.803301\"/>\r\n    </g>\r\n    <g clip-path=\"url(#p3fc71d1115)\">\r\n     <use style=\"fill:#4c72b0;\" x=\"289.871648\" xlink:href=\"#C2_0_aef620cf1c\" y=\"259.104247\"/>\r\n    </g>\r\n    <g clip-path=\"url(#p3fc71d1115)\">\r\n     <use style=\"fill:#4c72b0;\" x=\"283.642037\" xlink:href=\"#C2_0_aef620cf1c\" y=\"201.252245\"/>\r\n    </g>\r\n    <g clip-path=\"url(#p3fc71d1115)\">\r\n     <use style=\"fill:#dd8452;\" x=\"287.111676\" xlink:href=\"#C2_0_aef620cf1c\" y=\"201.252245\"/>\r\n    </g>\r\n    <g clip-path=\"url(#p3fc71d1115)\">\r\n     <use style=\"fill:#4c72b0;\" x=\"297.382264\" xlink:href=\"#C2_0_aef620cf1c\" y=\"286.328719\"/>\r\n    </g>\r\n    <g clip-path=\"url(#p3fc71d1115)\">\r\n     <use style=\"fill:#4c72b0;\" x=\"283.663544\" xlink:href=\"#C2_0_aef620cf1c\" y=\"192.066988\"/>\r\n    </g>\r\n    <g clip-path=\"url(#p3fc71d1115)\">\r\n     <use style=\"fill:#4c72b0;\" x=\"293.048918\" xlink:href=\"#C2_0_aef620cf1c\" y=\"192.066988\"/>\r\n    </g>\r\n    <g clip-path=\"url(#p3fc71d1115)\">\r\n     <use style=\"fill:#4c72b0;\" x=\"295.084096\" xlink:href=\"#C2_0_aef620cf1c\" y=\"192.066988\"/>\r\n    </g>\r\n    <g clip-path=\"url(#p3fc71d1115)\">\r\n     <use style=\"fill:#dd8452;\" x=\"289.26431\" xlink:href=\"#C2_0_aef620cf1c\" y=\"242.088952\"/>\r\n    </g>\r\n    <g clip-path=\"url(#p3fc71d1115)\">\r\n     <use style=\"fill:#4c72b0;\" x=\"293.659307\" xlink:href=\"#C2_0_aef620cf1c\" y=\"192.066988\"/>\r\n    </g>\r\n    <g clip-path=\"url(#p3fc71d1115)\">\r\n     <use style=\"fill:#4c72b0;\" x=\"284.042464\" xlink:href=\"#C2_0_aef620cf1c\" y=\"214.86448\"/>\r\n    </g>\r\n    <g clip-path=\"url(#p3fc71d1115)\">\r\n     <use style=\"fill:#4c72b0;\" x=\"290.536235\" xlink:href=\"#C2_0_aef620cf1c\" y=\"231.879775\"/>\r\n    </g>\r\n    <g clip-path=\"url(#p3fc71d1115)\">\r\n     <use style=\"fill:#4c72b0;\" x=\"283.046138\" xlink:href=\"#C2_0_aef620cf1c\" y=\"221.670598\"/>\r\n    </g>\r\n    <g clip-path=\"url(#p3fc71d1115)\">\r\n     <use style=\"fill:#4c72b0;\" x=\"288.778181\" xlink:href=\"#C2_0_aef620cf1c\" y=\"192.066988\"/>\r\n    </g>\r\n    <g clip-path=\"url(#p3fc71d1115)\">\r\n     <use style=\"fill:#4c72b0;\" x=\"292.260225\" xlink:href=\"#C2_0_aef620cf1c\" y=\"184.23695\"/>\r\n    </g>\r\n    <g clip-path=\"url(#p3fc71d1115)\">\r\n     <use style=\"fill:#4c72b0;\" x=\"290.323554\" xlink:href=\"#C2_0_aef620cf1c\" y=\"225.073657\"/>\r\n    </g>\r\n    <g clip-path=\"url(#p3fc71d1115)\">\r\n     <use style=\"fill:#4c72b0;\" x=\"297.963484\" xlink:href=\"#C2_0_aef620cf1c\" y=\"175.729303\"/>\r\n    </g>\r\n    <g clip-path=\"url(#p3fc71d1115)\">\r\n     <use style=\"fill:#4c72b0;\" x=\"292.660288\" xlink:href=\"#C2_0_aef620cf1c\" y=\"235.282834\"/>\r\n    </g>\r\n    <g clip-path=\"url(#p3fc71d1115)\">\r\n     <use style=\"fill:#4c72b0;\" x=\"287.574858\" xlink:href=\"#C2_0_aef620cf1c\" y=\"150.20636\"/>\r\n    </g>\r\n    <g clip-path=\"url(#p3fc71d1115)\">\r\n     <use style=\"fill:#4c72b0;\" x=\"283.717961\" xlink:href=\"#C2_0_aef620cf1c\" y=\"192.066988\"/>\r\n    </g>\r\n    <g clip-path=\"url(#p3fc71d1115)\">\r\n     <use style=\"fill:#4c72b0;\" x=\"296.234498\" xlink:href=\"#C2_0_aef620cf1c\" y=\"174.027773\"/>\r\n    </g>\r\n    <g clip-path=\"url(#p3fc71d1115)\">\r\n     <use style=\"fill:#4c72b0;\" x=\"292.614588\" xlink:href=\"#C2_0_aef620cf1c\" y=\"279.522601\"/>\r\n    </g>\r\n    <g clip-path=\"url(#p3fc71d1115)\">\r\n     <use style=\"fill:#4c72b0;\" x=\"298.695382\" xlink:href=\"#C2_0_aef620cf1c\" y=\"41.308474\"/>\r\n    </g>\r\n    <g clip-path=\"url(#p3fc71d1115)\">\r\n     <use style=\"fill:#dd8452;\" x=\"294.957239\" xlink:href=\"#C2_0_aef620cf1c\" y=\"262.507306\"/>\r\n    </g>\r\n    <g clip-path=\"url(#p3fc71d1115)\">\r\n     <use style=\"fill:#dd8452;\" x=\"288.257042\" xlink:href=\"#C2_0_aef620cf1c\" y=\"231.879775\"/>\r\n    </g>\r\n    <g clip-path=\"url(#p3fc71d1115)\">\r\n     <use style=\"fill:#dd8452;\" x=\"300.420329\" xlink:href=\"#C2_0_aef620cf1c\" y=\"211.461422\"/>\r\n    </g>\r\n    <g clip-path=\"url(#p3fc71d1115)\">\r\n     <use style=\"fill:#4c72b0;\" x=\"298.548135\" xlink:href=\"#C2_0_aef620cf1c\" y=\"192.066988\"/>\r\n    </g>\r\n    <g clip-path=\"url(#p3fc71d1115)\">\r\n     <use style=\"fill:#4c72b0;\" x=\"300.142235\" xlink:href=\"#C2_0_aef620cf1c\" y=\"153.609419\"/>\r\n    </g>\r\n    <g clip-path=\"url(#p3fc71d1115)\">\r\n     <use style=\"fill:#dd8452;\" x=\"290.524613\" xlink:href=\"#C2_0_aef620cf1c\" y=\"192.066988\"/>\r\n    </g>\r\n    <g clip-path=\"url(#p3fc71d1115)\">\r\n     <use style=\"fill:#4c72b0;\" x=\"289.633838\" xlink:href=\"#C2_0_aef620cf1c\" y=\"192.066988\"/>\r\n    </g>\r\n    <g clip-path=\"url(#p3fc71d1115)\">\r\n     <use style=\"fill:#4c72b0;\" x=\"288.212295\" xlink:href=\"#C2_0_aef620cf1c\" y=\"279.522601\"/>\r\n    </g>\r\n    <g clip-path=\"url(#p3fc71d1115)\">\r\n     <use style=\"fill:#4c72b0;\" x=\"286.251337\" xlink:href=\"#C2_0_aef620cf1c\" y=\"204.655304\"/>\r\n    </g>\r\n    <g clip-path=\"url(#p3fc71d1115)\">\r\n     <use style=\"fill:#4c72b0;\" x=\"283.198069\" xlink:href=\"#C2_0_aef620cf1c\" y=\"133.191066\"/>\r\n    </g>\r\n    <g clip-path=\"url(#p3fc71d1115)\">\r\n     <use style=\"fill:#dd8452;\" x=\"290.753272\" xlink:href=\"#C2_0_aef620cf1c\" y=\"242.088952\"/>\r\n    </g>\r\n    <g clip-path=\"url(#p3fc71d1115)\">\r\n     <use style=\"fill:#4c72b0;\" x=\"294.556927\" xlink:href=\"#C2_0_aef620cf1c\" y=\"225.073657\"/>\r\n    </g>\r\n    <g clip-path=\"url(#p3fc71d1115)\">\r\n     <use style=\"fill:#4c72b0;\" x=\"296.049564\" xlink:href=\"#C2_0_aef620cf1c\" y=\"228.476716\"/>\r\n    </g>\r\n    <g clip-path=\"url(#p3fc71d1115)\">\r\n     <use style=\"fill:#4c72b0;\" x=\"290.547739\" xlink:href=\"#C2_0_aef620cf1c\" y=\"192.066988\"/>\r\n    </g>\r\n    <g clip-path=\"url(#p3fc71d1115)\">\r\n     <use style=\"fill:#4c72b0;\" x=\"294.051412\" xlink:href=\"#C2_0_aef620cf1c\" y=\"180.833891\"/>\r\n    </g>\r\n    <g clip-path=\"url(#p3fc71d1115)\">\r\n     <use style=\"fill:#dd8452;\" x=\"300.666418\" xlink:href=\"#C2_0_aef620cf1c\" y=\"218.267539\"/>\r\n    </g>\r\n    <g clip-path=\"url(#p3fc71d1115)\">\r\n     <use style=\"fill:#4c72b0;\" x=\"295.845214\" xlink:href=\"#C2_0_aef620cf1c\" y=\"208.058363\"/>\r\n    </g>\r\n    <g clip-path=\"url(#p3fc71d1115)\">\r\n     <use style=\"fill:#dd8452;\" x=\"281.716546\" xlink:href=\"#C2_0_aef620cf1c\" y=\"160.415537\"/>\r\n    </g>\r\n    <g clip-path=\"url(#p3fc71d1115)\">\r\n     <use style=\"fill:#dd8452;\" x=\"291.741791\" xlink:href=\"#C2_0_aef620cf1c\" y=\"192.066988\"/>\r\n    </g>\r\n    <g clip-path=\"url(#p3fc71d1115)\">\r\n     <use style=\"fill:#4c72b0;\" x=\"289.036086\" xlink:href=\"#C2_0_aef620cf1c\" y=\"184.23695\"/>\r\n    </g>\r\n   </g>\r\n  </g>\r\n  <g id=\"legend_1\">\r\n   <g id=\"text_15\">\r\n    <!-- Sex -->\r\n    <defs>\r\n     <path d=\"M 4.5 23 \r\nL 13.421875 23.78125 \r\nQ 14.0625 18.40625 16.375 14.96875 \r\nQ 18.703125 11.53125 23.578125 9.40625 \r\nQ 28.46875 7.28125 34.578125 7.28125 \r\nQ 39.984375 7.28125 44.140625 8.890625 \r\nQ 48.296875 10.5 50.3125 13.296875 \r\nQ 52.34375 16.109375 52.34375 19.4375 \r\nQ 52.34375 22.796875 50.390625 25.3125 \r\nQ 48.4375 27.828125 43.953125 29.546875 \r\nQ 41.0625 30.671875 31.203125 33.03125 \r\nQ 21.34375 35.40625 17.390625 37.5 \r\nQ 12.25 40.1875 9.734375 44.15625 \r\nQ 7.234375 48.140625 7.234375 53.078125 \r\nQ 7.234375 58.5 10.296875 63.203125 \r\nQ 13.375 67.921875 19.28125 70.359375 \r\nQ 25.203125 72.796875 32.421875 72.796875 \r\nQ 40.375 72.796875 46.453125 70.234375 \r\nQ 52.546875 67.671875 55.8125 62.6875 \r\nQ 59.078125 57.71875 59.328125 51.421875 \r\nL 50.25 50.734375 \r\nQ 49.515625 57.515625 45.28125 60.984375 \r\nQ 41.0625 64.453125 32.8125 64.453125 \r\nQ 24.21875 64.453125 20.28125 61.296875 \r\nQ 16.359375 58.15625 16.359375 53.71875 \r\nQ 16.359375 49.859375 19.140625 47.359375 \r\nQ 21.875 44.875 33.421875 42.265625 \r\nQ 44.96875 39.65625 49.265625 37.703125 \r\nQ 55.515625 34.8125 58.484375 30.390625 \r\nQ 61.46875 25.984375 61.46875 20.21875 \r\nQ 61.46875 14.5 58.203125 9.4375 \r\nQ 54.9375 4.390625 48.796875 1.578125 \r\nQ 42.671875 -1.21875 35.015625 -1.21875 \r\nQ 25.296875 -1.21875 18.71875 1.609375 \r\nQ 12.15625 4.4375 8.421875 10.125 \r\nQ 4.6875 15.828125 4.5 23 \r\nz\r\n\" id=\"ArialMT-83\"/>\r\n     <path d=\"M 0.734375 0 \r\nL 19.671875 26.953125 \r\nL 2.15625 51.859375 \r\nL 13.140625 51.859375 \r\nL 21.09375 39.703125 \r\nQ 23.34375 36.234375 24.703125 33.890625 \r\nQ 26.859375 37.109375 28.65625 39.59375 \r\nL 37.40625 51.859375 \r\nL 47.90625 51.859375 \r\nL 29.984375 27.4375 \r\nL 49.265625 0 \r\nL 38.484375 0 \r\nL 27.828125 16.109375 \r\nL 25 20.453125 \r\nL 11.375 0 \r\nz\r\n\" id=\"ArialMT-120\"/>\r\n    </defs>\r\n    <g style=\"fill:#262626;\" transform=\"translate(369.286945 161.834125)scale(0.102 -0.102)\">\r\n     <use xlink:href=\"#ArialMT-83\"/>\r\n     <use x=\"66.699219\" xlink:href=\"#ArialMT-101\"/>\r\n     <use x=\"122.314453\" xlink:href=\"#ArialMT-120\"/>\r\n    </g>\r\n   </g>\r\n   <g id=\"PathCollection_6\">\r\n    <defs>\r\n     <path d=\"M 0 3.872983 \r\nC 1.027127 3.872983 2.012324 3.464901 2.738613 2.738613 \r\nC 3.464901 2.012324 3.872983 1.027127 3.872983 0 \r\nC 3.872983 -1.027127 3.464901 -2.012324 2.738613 -2.738613 \r\nC 2.012324 -3.464901 1.027127 -3.872983 0 -3.872983 \r\nC -1.027127 -3.872983 -2.012324 -3.464901 -2.738613 -2.738613 \r\nC -3.464901 -2.012324 -3.872983 -1.027127 -3.872983 0 \r\nC -3.872983 1.027127 -3.464901 2.012324 -2.738613 2.738613 \r\nC -2.012324 3.464901 -1.027127 3.872983 0 3.872983 \r\nz\r\n\" id=\"mcfcd578086\" style=\"stroke:#4c72b0;\"/>\r\n    </defs>\r\n    <g>\r\n     <use style=\"fill:#4c72b0;stroke:#4c72b0;\" x=\"357.168008\" xlink:href=\"#mcfcd578086\" y=\"174.347469\"/>\r\n    </g>\r\n   </g>\r\n   <g id=\"text_16\">\r\n    <!-- male -->\r\n    <defs>\r\n     <path d=\"M 6.59375 0 \r\nL 6.59375 51.859375 \r\nL 14.453125 51.859375 \r\nL 14.453125 44.578125 \r\nQ 16.890625 48.390625 20.9375 50.703125 \r\nQ 25 53.03125 30.171875 53.03125 \r\nQ 35.9375 53.03125 39.625 50.640625 \r\nQ 43.3125 48.25 44.828125 43.953125 \r\nQ 50.984375 53.03125 60.84375 53.03125 \r\nQ 68.5625 53.03125 72.703125 48.75 \r\nQ 76.859375 44.484375 76.859375 35.59375 \r\nL 76.859375 0 \r\nL 68.109375 0 \r\nL 68.109375 32.671875 \r\nQ 68.109375 37.9375 67.25 40.25 \r\nQ 66.40625 42.578125 64.15625 43.984375 \r\nQ 61.921875 45.40625 58.890625 45.40625 \r\nQ 53.421875 45.40625 49.796875 41.765625 \r\nQ 46.1875 38.140625 46.1875 30.125 \r\nL 46.1875 0 \r\nL 37.40625 0 \r\nL 37.40625 33.6875 \r\nQ 37.40625 39.546875 35.25 42.46875 \r\nQ 33.109375 45.40625 28.21875 45.40625 \r\nQ 24.515625 45.40625 21.359375 43.453125 \r\nQ 18.21875 41.5 16.796875 37.734375 \r\nQ 15.375 33.984375 15.375 26.90625 \r\nL 15.375 0 \r\nz\r\n\" id=\"ArialMT-109\"/>\r\n    </defs>\r\n    <g style=\"fill:#262626;\" transform=\"translate(376.968008 177.234969)scale(0.11 -0.11)\">\r\n     <use xlink:href=\"#ArialMT-109\"/>\r\n     <use x=\"83.300781\" xlink:href=\"#ArialMT-97\"/>\r\n     <use x=\"138.916016\" xlink:href=\"#ArialMT-108\"/>\r\n     <use x=\"161.132812\" xlink:href=\"#ArialMT-101\"/>\r\n    </g>\r\n   </g>\r\n   <g id=\"PathCollection_7\">\r\n    <defs>\r\n     <path d=\"M 0 3.872983 \r\nC 1.027127 3.872983 2.012324 3.464901 2.738613 2.738613 \r\nC 3.464901 2.012324 3.872983 1.027127 3.872983 0 \r\nC 3.872983 -1.027127 3.464901 -2.012324 2.738613 -2.738613 \r\nC 2.012324 -3.464901 1.027127 -3.872983 0 -3.872983 \r\nC -1.027127 -3.872983 -2.012324 -3.464901 -2.738613 -2.738613 \r\nC -3.464901 -2.012324 -3.872983 -1.027127 -3.872983 0 \r\nC -3.872983 1.027127 -3.464901 2.012324 -2.738613 2.738613 \r\nC -2.012324 3.464901 -1.027127 3.872983 0 3.872983 \r\nz\r\n\" id=\"m1fd1661169\" style=\"stroke:#dd8452;\"/>\r\n    </defs>\r\n    <g>\r\n     <use style=\"fill:#dd8452;stroke:#dd8452;\" x=\"357.168008\" xlink:href=\"#m1fd1661169\" y=\"189.907312\"/>\r\n    </g>\r\n   </g>\r\n   <g id=\"text_17\">\r\n    <!-- female -->\r\n    <defs>\r\n     <path d=\"M 8.6875 0 \r\nL 8.6875 45.015625 \r\nL 0.921875 45.015625 \r\nL 0.921875 51.859375 \r\nL 8.6875 51.859375 \r\nL 8.6875 57.375 \r\nQ 8.6875 62.59375 9.625 65.140625 \r\nQ 10.890625 68.5625 14.078125 70.671875 \r\nQ 17.28125 72.796875 23.046875 72.796875 \r\nQ 26.765625 72.796875 31.25 71.921875 \r\nL 29.9375 64.265625 \r\nQ 27.203125 64.75 24.75 64.75 \r\nQ 20.75 64.75 19.09375 63.03125 \r\nQ 17.4375 61.328125 17.4375 56.640625 \r\nL 17.4375 51.859375 \r\nL 27.546875 51.859375 \r\nL 27.546875 45.015625 \r\nL 17.4375 45.015625 \r\nL 17.4375 0 \r\nz\r\n\" id=\"ArialMT-102\"/>\r\n    </defs>\r\n    <g style=\"fill:#262626;\" transform=\"translate(376.968008 192.794812)scale(0.11 -0.11)\">\r\n     <use xlink:href=\"#ArialMT-102\"/>\r\n     <use x=\"27.783203\" xlink:href=\"#ArialMT-101\"/>\r\n     <use x=\"83.398438\" xlink:href=\"#ArialMT-109\"/>\r\n     <use x=\"166.699219\" xlink:href=\"#ArialMT-97\"/>\r\n     <use x=\"222.314453\" xlink:href=\"#ArialMT-108\"/>\r\n     <use x=\"244.53125\" xlink:href=\"#ArialMT-101\"/>\r\n    </g>\r\n   </g>\r\n  </g>\r\n </g>\r\n <defs>\r\n  <clipPath id=\"p3fc71d1115\">\r\n   <rect height=\"300.58\" width=\"296.954195\" x=\"44.049063\" y=\"7.2\"/>\r\n  </clipPath>\r\n </defs>\r\n</svg>\r\n",
      "image/png": "[encoded data removed]"
     },
     "metadata": {}
    }
   ],
   "source": [
    "sns.catplot(x=\"Pclass\", y=\"Age\", data=train, hue = \"Sex\")"
   ]
  },
  {
   "cell_type": "code",
   "execution_count": 27,
   "metadata": {},
   "outputs": [
    {
     "output_type": "execute_result",
     "data": {
      "text/plain": "<matplotlib.axes._subplots.AxesSubplot at 0x2ad3931d448>"
     },
     "metadata": {},
     "execution_count": 27
    },
    {
     "output_type": "display_data",
     "data": {
      "text/plain": "<Figure size 432x288 with 1 Axes>",
      "image/svg+xml": "<?xml version=\"1.0\" encoding=\"utf-8\" standalone=\"no\"?>\r\n<!DOCTYPE svg PUBLIC \"-//W3C//DTD SVG 1.1//EN\"\r\n  \"http://www.w3.org/Graphics/SVG/1.1/DTD/svg11.dtd\">\r\n<!-- Created with matplotlib (https://matplotlib.org/) -->\r\n<svg height=\"266.374219pt\" version=\"1.1\" viewBox=\"0 0 386.049062 266.374219\" width=\"386.049062pt\" xmlns=\"http://www.w3.org/2000/svg\" xmlns:xlink=\"http://www.w3.org/1999/xlink\">\r\n <defs>\r\n  <style type=\"text/css\">\r\n*{stroke-linecap:butt;stroke-linejoin:round;}\r\n  </style>\r\n </defs>\r\n <g id=\"figure_1\">\r\n  <g id=\"patch_1\">\r\n   <path d=\"M 0 266.374219 \r\nL 386.049062 266.374219 \r\nL 386.049062 0 \r\nL 0 0 \r\nz\r\n\" style=\"fill:#ffffff;\"/>\r\n  </g>\r\n  <g id=\"axes_1\">\r\n   <g id=\"patch_2\">\r\n    <path d=\"M 44.049063 224.64 \r\nL 378.849063 224.64 \r\nL 378.849063 7.2 \r\nL 44.049063 7.2 \r\nz\r\n\" style=\"fill:#eaeaf2;\"/>\r\n   </g>\r\n   <g id=\"matplotlib.axis_1\">\r\n    <g id=\"xtick_1\">\r\n     <g id=\"text_1\">\r\n      <!-- 1 -->\r\n      <defs>\r\n       <path d=\"M 37.25 0 \r\nL 28.46875 0 \r\nL 28.46875 56 \r\nQ 25.296875 52.984375 20.140625 49.953125 \r\nQ 14.984375 46.921875 10.890625 45.40625 \r\nL 10.890625 53.90625 \r\nQ 18.265625 57.375 23.78125 62.296875 \r\nQ 29.296875 67.234375 31.59375 71.875 \r\nL 37.25 71.875 \r\nz\r\n\" id=\"ArialMT-49\"/>\r\n      </defs>\r\n      <g style=\"fill:#262626;\" transform=\"translate(96.790547 242.013594)scale(0.11 -0.11)\">\r\n       <use xlink:href=\"#ArialMT-49\"/>\r\n      </g>\r\n     </g>\r\n    </g>\r\n    <g id=\"xtick_2\">\r\n     <g id=\"text_2\">\r\n      <!-- 2 -->\r\n      <defs>\r\n       <path d=\"M 50.34375 8.453125 \r\nL 50.34375 0 \r\nL 3.03125 0 \r\nQ 2.9375 3.171875 4.046875 6.109375 \r\nQ 5.859375 10.9375 9.828125 15.625 \r\nQ 13.8125 20.3125 21.34375 26.46875 \r\nQ 33.015625 36.03125 37.109375 41.625 \r\nQ 41.21875 47.21875 41.21875 52.203125 \r\nQ 41.21875 57.421875 37.46875 61 \r\nQ 33.734375 64.59375 27.734375 64.59375 \r\nQ 21.390625 64.59375 17.578125 60.78125 \r\nQ 13.765625 56.984375 13.71875 50.25 \r\nL 4.6875 51.171875 \r\nQ 5.609375 61.28125 11.65625 66.578125 \r\nQ 17.71875 71.875 27.9375 71.875 \r\nQ 38.234375 71.875 44.234375 66.15625 \r\nQ 50.25 60.453125 50.25 52 \r\nQ 50.25 47.703125 48.484375 43.546875 \r\nQ 46.734375 39.40625 42.65625 34.8125 \r\nQ 38.578125 30.21875 29.109375 22.21875 \r\nQ 21.1875 15.578125 18.9375 13.203125 \r\nQ 16.703125 10.84375 15.234375 8.453125 \r\nz\r\n\" id=\"ArialMT-50\"/>\r\n      </defs>\r\n      <g style=\"fill:#262626;\" transform=\"translate(208.390547 242.013594)scale(0.11 -0.11)\">\r\n       <use xlink:href=\"#ArialMT-50\"/>\r\n      </g>\r\n     </g>\r\n    </g>\r\n    <g id=\"xtick_3\">\r\n     <g id=\"text_3\">\r\n      <!-- 3 -->\r\n      <defs>\r\n       <path d=\"M 4.203125 18.890625 \r\nL 12.984375 20.0625 \r\nQ 14.5 12.59375 18.140625 9.296875 \r\nQ 21.78125 6 27 6 \r\nQ 33.203125 6 37.46875 10.296875 \r\nQ 41.75 14.59375 41.75 20.953125 \r\nQ 41.75 27 37.796875 30.921875 \r\nQ 33.84375 34.859375 27.734375 34.859375 \r\nQ 25.25 34.859375 21.53125 33.890625 \r\nL 22.515625 41.609375 \r\nQ 23.390625 41.5 23.921875 41.5 \r\nQ 29.546875 41.5 34.03125 44.421875 \r\nQ 38.53125 47.359375 38.53125 53.46875 \r\nQ 38.53125 58.296875 35.25 61.46875 \r\nQ 31.984375 64.65625 26.8125 64.65625 \r\nQ 21.6875 64.65625 18.265625 61.421875 \r\nQ 14.84375 58.203125 13.875 51.765625 \r\nL 5.078125 53.328125 \r\nQ 6.6875 62.15625 12.390625 67.015625 \r\nQ 18.109375 71.875 26.609375 71.875 \r\nQ 32.46875 71.875 37.390625 69.359375 \r\nQ 42.328125 66.84375 44.9375 62.5 \r\nQ 47.5625 58.15625 47.5625 53.265625 \r\nQ 47.5625 48.640625 45.0625 44.828125 \r\nQ 42.578125 41.015625 37.703125 38.765625 \r\nQ 44.046875 37.3125 47.5625 32.6875 \r\nQ 51.078125 28.078125 51.078125 21.140625 \r\nQ 51.078125 11.765625 44.234375 5.25 \r\nQ 37.40625 -1.265625 26.953125 -1.265625 \r\nQ 17.53125 -1.265625 11.296875 4.34375 \r\nQ 5.078125 9.96875 4.203125 18.890625 \r\nz\r\n\" id=\"ArialMT-51\"/>\r\n      </defs>\r\n      <g style=\"fill:#262626;\" transform=\"translate(319.990547 242.013594)scale(0.11 -0.11)\">\r\n       <use xlink:href=\"#ArialMT-51\"/>\r\n      </g>\r\n     </g>\r\n    </g>\r\n    <g id=\"text_4\">\r\n     <!-- Pclass -->\r\n     <defs>\r\n      <path d=\"M 7.71875 0 \r\nL 7.71875 71.578125 \r\nL 34.71875 71.578125 \r\nQ 41.84375 71.578125 45.609375 70.90625 \r\nQ 50.875 70.015625 54.4375 67.546875 \r\nQ 58.015625 65.09375 60.1875 60.640625 \r\nQ 62.359375 56.203125 62.359375 50.875 \r\nQ 62.359375 41.75 56.546875 35.421875 \r\nQ 50.734375 29.109375 35.546875 29.109375 \r\nL 17.1875 29.109375 \r\nL 17.1875 0 \r\nz\r\nM 17.1875 37.546875 \r\nL 35.6875 37.546875 \r\nQ 44.875 37.546875 48.734375 40.96875 \r\nQ 52.59375 44.390625 52.59375 50.59375 \r\nQ 52.59375 55.078125 50.3125 58.265625 \r\nQ 48.046875 61.46875 44.34375 62.5 \r\nQ 41.9375 63.140625 35.5 63.140625 \r\nL 17.1875 63.140625 \r\nz\r\n\" id=\"ArialMT-80\"/>\r\n      <path d=\"M 40.4375 19 \r\nL 49.078125 17.875 \r\nQ 47.65625 8.9375 41.8125 3.875 \r\nQ 35.984375 -1.171875 27.484375 -1.171875 \r\nQ 16.84375 -1.171875 10.375 5.78125 \r\nQ 3.90625 12.75 3.90625 25.734375 \r\nQ 3.90625 34.125 6.6875 40.421875 \r\nQ 9.46875 46.734375 15.15625 49.875 \r\nQ 20.84375 53.03125 27.546875 53.03125 \r\nQ 35.984375 53.03125 41.359375 48.75 \r\nQ 46.734375 44.484375 48.25 36.625 \r\nL 39.703125 35.296875 \r\nQ 38.484375 40.53125 35.375 43.15625 \r\nQ 32.28125 45.796875 27.875 45.796875 \r\nQ 21.234375 45.796875 17.078125 41.03125 \r\nQ 12.9375 36.28125 12.9375 25.984375 \r\nQ 12.9375 15.53125 16.9375 10.796875 \r\nQ 20.953125 6.0625 27.390625 6.0625 \r\nQ 32.5625 6.0625 36.03125 9.234375 \r\nQ 39.5 12.40625 40.4375 19 \r\nz\r\n\" id=\"ArialMT-99\"/>\r\n      <path d=\"M 6.390625 0 \r\nL 6.390625 71.578125 \r\nL 15.1875 71.578125 \r\nL 15.1875 0 \r\nz\r\n\" id=\"ArialMT-108\"/>\r\n      <path d=\"M 40.4375 6.390625 \r\nQ 35.546875 2.25 31.03125 0.53125 \r\nQ 26.515625 -1.171875 21.34375 -1.171875 \r\nQ 12.796875 -1.171875 8.203125 3 \r\nQ 3.609375 7.171875 3.609375 13.671875 \r\nQ 3.609375 17.484375 5.34375 20.625 \r\nQ 7.078125 23.78125 9.890625 25.6875 \r\nQ 12.703125 27.59375 16.21875 28.5625 \r\nQ 18.796875 29.25 24.03125 29.890625 \r\nQ 34.671875 31.15625 39.703125 32.90625 \r\nQ 39.75 34.71875 39.75 35.203125 \r\nQ 39.75 40.578125 37.25 42.78125 \r\nQ 33.890625 45.75 27.25 45.75 \r\nQ 21.046875 45.75 18.09375 43.578125 \r\nQ 15.140625 41.40625 13.71875 35.890625 \r\nL 5.125 37.0625 \r\nQ 6.296875 42.578125 8.984375 45.96875 \r\nQ 11.671875 49.359375 16.75 51.1875 \r\nQ 21.828125 53.03125 28.515625 53.03125 \r\nQ 35.15625 53.03125 39.296875 51.46875 \r\nQ 43.453125 49.90625 45.40625 47.53125 \r\nQ 47.359375 45.171875 48.140625 41.546875 \r\nQ 48.578125 39.3125 48.578125 33.453125 \r\nL 48.578125 21.734375 \r\nQ 48.578125 9.46875 49.140625 6.21875 \r\nQ 49.703125 2.984375 51.375 0 \r\nL 42.1875 0 \r\nQ 40.828125 2.734375 40.4375 6.390625 \r\nz\r\nM 39.703125 26.03125 \r\nQ 34.90625 24.078125 25.34375 22.703125 \r\nQ 19.921875 21.921875 17.671875 20.9375 \r\nQ 15.4375 19.96875 14.203125 18.09375 \r\nQ 12.984375 16.21875 12.984375 13.921875 \r\nQ 12.984375 10.40625 15.640625 8.0625 \r\nQ 18.3125 5.71875 23.4375 5.71875 \r\nQ 28.515625 5.71875 32.46875 7.9375 \r\nQ 36.421875 10.15625 38.28125 14.015625 \r\nQ 39.703125 17 39.703125 22.796875 \r\nz\r\n\" id=\"ArialMT-97\"/>\r\n      <path d=\"M 3.078125 15.484375 \r\nL 11.765625 16.84375 \r\nQ 12.5 11.625 15.84375 8.84375 \r\nQ 19.1875 6.0625 25.203125 6.0625 \r\nQ 31.25 6.0625 34.171875 8.515625 \r\nQ 37.109375 10.984375 37.109375 14.3125 \r\nQ 37.109375 17.28125 34.515625 19 \r\nQ 32.71875 20.171875 25.53125 21.96875 \r\nQ 15.875 24.421875 12.140625 26.203125 \r\nQ 8.40625 27.984375 6.46875 31.125 \r\nQ 4.546875 34.28125 4.546875 38.09375 \r\nQ 4.546875 41.546875 6.125 44.5 \r\nQ 7.71875 47.46875 10.453125 49.421875 \r\nQ 12.5 50.921875 16.03125 51.96875 \r\nQ 19.578125 53.03125 23.640625 53.03125 \r\nQ 29.734375 53.03125 34.34375 51.265625 \r\nQ 38.96875 49.515625 41.15625 46.5 \r\nQ 43.359375 43.5 44.1875 38.484375 \r\nL 35.59375 37.3125 \r\nQ 35.015625 41.3125 32.203125 43.546875 \r\nQ 29.390625 45.796875 24.265625 45.796875 \r\nQ 18.21875 45.796875 15.625 43.796875 \r\nQ 13.03125 41.796875 13.03125 39.109375 \r\nQ 13.03125 37.40625 14.109375 36.03125 \r\nQ 15.1875 34.625 17.484375 33.6875 \r\nQ 18.796875 33.203125 25.25 31.453125 \r\nQ 34.578125 28.953125 38.25 27.359375 \r\nQ 41.9375 25.78125 44.03125 22.75 \r\nQ 46.140625 19.734375 46.140625 15.234375 \r\nQ 46.140625 10.84375 43.578125 6.953125 \r\nQ 41.015625 3.078125 36.171875 0.953125 \r\nQ 31.34375 -1.171875 25.25 -1.171875 \r\nQ 15.140625 -1.171875 9.84375 3.03125 \r\nQ 4.546875 7.234375 3.078125 15.484375 \r\nz\r\n\" id=\"ArialMT-115\"/>\r\n     </defs>\r\n     <g style=\"fill:#262626;\" transform=\"translate(193.777188 256.789219)scale(0.12 -0.12)\">\r\n      <use xlink:href=\"#ArialMT-80\"/>\r\n      <use x=\"66.699219\" xlink:href=\"#ArialMT-99\"/>\r\n      <use x=\"116.699219\" xlink:href=\"#ArialMT-108\"/>\r\n      <use x=\"138.916016\" xlink:href=\"#ArialMT-97\"/>\r\n      <use x=\"194.53125\" xlink:href=\"#ArialMT-115\"/>\r\n      <use x=\"244.53125\" xlink:href=\"#ArialMT-115\"/>\r\n     </g>\r\n    </g>\r\n   </g>\r\n   <g id=\"matplotlib.axis_2\">\r\n    <g id=\"ytick_1\">\r\n     <g id=\"line2d_1\">\r\n      <path clip-path=\"url(#pe90f30374e)\" d=\"M 44.049063 215.799623 \r\nL 378.849063 215.799623 \r\n\" style=\"fill:none;stroke:#ffffff;stroke-linecap:round;\"/>\r\n     </g>\r\n     <g id=\"text_5\">\r\n      <!-- 0 -->\r\n      <defs>\r\n       <path d=\"M 4.15625 35.296875 \r\nQ 4.15625 48 6.765625 55.734375 \r\nQ 9.375 63.484375 14.515625 67.671875 \r\nQ 19.671875 71.875 27.484375 71.875 \r\nQ 33.25 71.875 37.59375 69.546875 \r\nQ 41.9375 67.234375 44.765625 62.859375 \r\nQ 47.609375 58.5 49.21875 52.21875 \r\nQ 50.828125 45.953125 50.828125 35.296875 \r\nQ 50.828125 22.703125 48.234375 14.96875 \r\nQ 45.65625 7.234375 40.5 3 \r\nQ 35.359375 -1.21875 27.484375 -1.21875 \r\nQ 17.140625 -1.21875 11.234375 6.203125 \r\nQ 4.15625 15.140625 4.15625 35.296875 \r\nz\r\nM 13.1875 35.296875 \r\nQ 13.1875 17.671875 17.3125 11.828125 \r\nQ 21.4375 6 27.484375 6 \r\nQ 33.546875 6 37.671875 11.859375 \r\nQ 41.796875 17.71875 41.796875 35.296875 \r\nQ 41.796875 52.984375 37.671875 58.78125 \r\nQ 33.546875 64.59375 27.390625 64.59375 \r\nQ 21.34375 64.59375 17.71875 59.46875 \r\nQ 13.1875 52.9375 13.1875 35.296875 \r\nz\r\n\" id=\"ArialMT-48\"/>\r\n      </defs>\r\n      <g style=\"fill:#262626;\" transform=\"translate(28.432031 219.736419)scale(0.11 -0.11)\">\r\n       <use xlink:href=\"#ArialMT-48\"/>\r\n      </g>\r\n     </g>\r\n    </g>\r\n    <g id=\"ytick_2\">\r\n     <g id=\"line2d_2\">\r\n      <path clip-path=\"url(#pe90f30374e)\" d=\"M 44.049063 190.960124 \r\nL 378.849063 190.960124 \r\n\" style=\"fill:none;stroke:#ffffff;stroke-linecap:round;\"/>\r\n     </g>\r\n     <g id=\"text_6\">\r\n      <!-- 10 -->\r\n      <g style=\"fill:#262626;\" transform=\"translate(22.315 194.896921)scale(0.11 -0.11)\">\r\n       <use xlink:href=\"#ArialMT-49\"/>\r\n       <use x=\"55.615234\" xlink:href=\"#ArialMT-48\"/>\r\n      </g>\r\n     </g>\r\n    </g>\r\n    <g id=\"ytick_3\">\r\n     <g id=\"line2d_3\">\r\n      <path clip-path=\"url(#pe90f30374e)\" d=\"M 44.049063 166.120626 \r\nL 378.849063 166.120626 \r\n\" style=\"fill:none;stroke:#ffffff;stroke-linecap:round;\"/>\r\n     </g>\r\n     <g id=\"text_7\">\r\n      <!-- 20 -->\r\n      <g style=\"fill:#262626;\" transform=\"translate(22.315 170.057423)scale(0.11 -0.11)\">\r\n       <use xlink:href=\"#ArialMT-50\"/>\r\n       <use x=\"55.615234\" xlink:href=\"#ArialMT-48\"/>\r\n      </g>\r\n     </g>\r\n    </g>\r\n    <g id=\"ytick_4\">\r\n     <g id=\"line2d_4\">\r\n      <path clip-path=\"url(#pe90f30374e)\" d=\"M 44.049063 141.281128 \r\nL 378.849063 141.281128 \r\n\" style=\"fill:none;stroke:#ffffff;stroke-linecap:round;\"/>\r\n     </g>\r\n     <g id=\"text_8\">\r\n      <!-- 30 -->\r\n      <g style=\"fill:#262626;\" transform=\"translate(22.315 145.217925)scale(0.11 -0.11)\">\r\n       <use xlink:href=\"#ArialMT-51\"/>\r\n       <use x=\"55.615234\" xlink:href=\"#ArialMT-48\"/>\r\n      </g>\r\n     </g>\r\n    </g>\r\n    <g id=\"ytick_5\">\r\n     <g id=\"line2d_5\">\r\n      <path clip-path=\"url(#pe90f30374e)\" d=\"M 44.049063 116.441629 \r\nL 378.849063 116.441629 \r\n\" style=\"fill:none;stroke:#ffffff;stroke-linecap:round;\"/>\r\n     </g>\r\n     <g id=\"text_9\">\r\n      <!-- 40 -->\r\n      <defs>\r\n       <path d=\"M 32.328125 0 \r\nL 32.328125 17.140625 \r\nL 1.265625 17.140625 \r\nL 1.265625 25.203125 \r\nL 33.9375 71.578125 \r\nL 41.109375 71.578125 \r\nL 41.109375 25.203125 \r\nL 50.78125 25.203125 \r\nL 50.78125 17.140625 \r\nL 41.109375 17.140625 \r\nL 41.109375 0 \r\nz\r\nM 32.328125 25.203125 \r\nL 32.328125 57.46875 \r\nL 9.90625 25.203125 \r\nz\r\n\" id=\"ArialMT-52\"/>\r\n      </defs>\r\n      <g style=\"fill:#262626;\" transform=\"translate(22.315 120.378426)scale(0.11 -0.11)\">\r\n       <use xlink:href=\"#ArialMT-52\"/>\r\n       <use x=\"55.615234\" xlink:href=\"#ArialMT-48\"/>\r\n      </g>\r\n     </g>\r\n    </g>\r\n    <g id=\"ytick_6\">\r\n     <g id=\"line2d_6\">\r\n      <path clip-path=\"url(#pe90f30374e)\" d=\"M 44.049063 91.602131 \r\nL 378.849063 91.602131 \r\n\" style=\"fill:none;stroke:#ffffff;stroke-linecap:round;\"/>\r\n     </g>\r\n     <g id=\"text_10\">\r\n      <!-- 50 -->\r\n      <defs>\r\n       <path d=\"M 4.15625 18.75 \r\nL 13.375 19.53125 \r\nQ 14.40625 12.796875 18.140625 9.390625 \r\nQ 21.875 6 27.15625 6 \r\nQ 33.5 6 37.890625 10.78125 \r\nQ 42.28125 15.578125 42.28125 23.484375 \r\nQ 42.28125 31 38.0625 35.34375 \r\nQ 33.84375 39.703125 27 39.703125 \r\nQ 22.75 39.703125 19.328125 37.765625 \r\nQ 15.921875 35.84375 13.96875 32.765625 \r\nL 5.71875 33.84375 \r\nL 12.640625 70.609375 \r\nL 48.25 70.609375 \r\nL 48.25 62.203125 \r\nL 19.671875 62.203125 \r\nL 15.828125 42.96875 \r\nQ 22.265625 47.46875 29.34375 47.46875 \r\nQ 38.71875 47.46875 45.15625 40.96875 \r\nQ 51.609375 34.46875 51.609375 24.265625 \r\nQ 51.609375 14.546875 45.953125 7.46875 \r\nQ 39.0625 -1.21875 27.15625 -1.21875 \r\nQ 17.390625 -1.21875 11.203125 4.25 \r\nQ 5.03125 9.71875 4.15625 18.75 \r\nz\r\n\" id=\"ArialMT-53\"/>\r\n      </defs>\r\n      <g style=\"fill:#262626;\" transform=\"translate(22.315 95.538928)scale(0.11 -0.11)\">\r\n       <use xlink:href=\"#ArialMT-53\"/>\r\n       <use x=\"55.615234\" xlink:href=\"#ArialMT-48\"/>\r\n      </g>\r\n     </g>\r\n    </g>\r\n    <g id=\"ytick_7\">\r\n     <g id=\"line2d_7\">\r\n      <path clip-path=\"url(#pe90f30374e)\" d=\"M 44.049063 66.762633 \r\nL 378.849063 66.762633 \r\n\" style=\"fill:none;stroke:#ffffff;stroke-linecap:round;\"/>\r\n     </g>\r\n     <g id=\"text_11\">\r\n      <!-- 60 -->\r\n      <defs>\r\n       <path d=\"M 49.75 54.046875 \r\nL 41.015625 53.375 \r\nQ 39.84375 58.546875 37.703125 60.890625 \r\nQ 34.125 64.65625 28.90625 64.65625 \r\nQ 24.703125 64.65625 21.53125 62.3125 \r\nQ 17.390625 59.28125 14.984375 53.46875 \r\nQ 12.59375 47.65625 12.5 36.921875 \r\nQ 15.671875 41.75 20.265625 44.09375 \r\nQ 24.859375 46.4375 29.890625 46.4375 \r\nQ 38.671875 46.4375 44.84375 39.96875 \r\nQ 51.03125 33.5 51.03125 23.25 \r\nQ 51.03125 16.5 48.125 10.71875 \r\nQ 45.21875 4.9375 40.140625 1.859375 \r\nQ 35.0625 -1.21875 28.609375 -1.21875 \r\nQ 17.625 -1.21875 10.6875 6.859375 \r\nQ 3.765625 14.9375 3.765625 33.5 \r\nQ 3.765625 54.25 11.421875 63.671875 \r\nQ 18.109375 71.875 29.4375 71.875 \r\nQ 37.890625 71.875 43.28125 67.140625 \r\nQ 48.6875 62.40625 49.75 54.046875 \r\nz\r\nM 13.875 23.1875 \r\nQ 13.875 18.65625 15.796875 14.5 \r\nQ 17.71875 10.359375 21.1875 8.171875 \r\nQ 24.65625 6 28.46875 6 \r\nQ 34.03125 6 38.03125 10.484375 \r\nQ 42.046875 14.984375 42.046875 22.703125 \r\nQ 42.046875 30.125 38.078125 34.390625 \r\nQ 34.125 38.671875 28.125 38.671875 \r\nQ 22.171875 38.671875 18.015625 34.390625 \r\nQ 13.875 30.125 13.875 23.1875 \r\nz\r\n\" id=\"ArialMT-54\"/>\r\n      </defs>\r\n      <g style=\"fill:#262626;\" transform=\"translate(22.315 70.69943)scale(0.11 -0.11)\">\r\n       <use xlink:href=\"#ArialMT-54\"/>\r\n       <use x=\"55.615234\" xlink:href=\"#ArialMT-48\"/>\r\n      </g>\r\n     </g>\r\n    </g>\r\n    <g id=\"ytick_8\">\r\n     <g id=\"line2d_8\">\r\n      <path clip-path=\"url(#pe90f30374e)\" d=\"M 44.049063 41.923135 \r\nL 378.849063 41.923135 \r\n\" style=\"fill:none;stroke:#ffffff;stroke-linecap:round;\"/>\r\n     </g>\r\n     <g id=\"text_12\">\r\n      <!-- 70 -->\r\n      <defs>\r\n       <path d=\"M 4.734375 62.203125 \r\nL 4.734375 70.65625 \r\nL 51.078125 70.65625 \r\nL 51.078125 63.8125 \r\nQ 44.234375 56.546875 37.515625 44.484375 \r\nQ 30.8125 32.421875 27.15625 19.671875 \r\nQ 24.515625 10.6875 23.78125 0 \r\nL 14.75 0 \r\nQ 14.890625 8.453125 18.0625 20.40625 \r\nQ 21.234375 32.375 27.171875 43.484375 \r\nQ 33.109375 54.59375 39.796875 62.203125 \r\nz\r\n\" id=\"ArialMT-55\"/>\r\n      </defs>\r\n      <g style=\"fill:#262626;\" transform=\"translate(22.315 45.859932)scale(0.11 -0.11)\">\r\n       <use xlink:href=\"#ArialMT-55\"/>\r\n       <use x=\"55.615234\" xlink:href=\"#ArialMT-48\"/>\r\n      </g>\r\n     </g>\r\n    </g>\r\n    <g id=\"ytick_9\">\r\n     <g id=\"line2d_9\">\r\n      <path clip-path=\"url(#pe90f30374e)\" d=\"M 44.049063 17.083636 \r\nL 378.849063 17.083636 \r\n\" style=\"fill:none;stroke:#ffffff;stroke-linecap:round;\"/>\r\n     </g>\r\n     <g id=\"text_13\">\r\n      <!-- 80 -->\r\n      <defs>\r\n       <path d=\"M 17.671875 38.8125 \r\nQ 12.203125 40.828125 9.5625 44.53125 \r\nQ 6.9375 48.25 6.9375 53.421875 \r\nQ 6.9375 61.234375 12.546875 66.546875 \r\nQ 18.171875 71.875 27.484375 71.875 \r\nQ 36.859375 71.875 42.578125 66.421875 \r\nQ 48.296875 60.984375 48.296875 53.171875 \r\nQ 48.296875 48.1875 45.671875 44.5 \r\nQ 43.0625 40.828125 37.75 38.8125 \r\nQ 44.34375 36.671875 47.78125 31.875 \r\nQ 51.21875 27.09375 51.21875 20.453125 \r\nQ 51.21875 11.28125 44.71875 5.03125 \r\nQ 38.234375 -1.21875 27.640625 -1.21875 \r\nQ 17.046875 -1.21875 10.546875 5.046875 \r\nQ 4.046875 11.328125 4.046875 20.703125 \r\nQ 4.046875 27.6875 7.59375 32.390625 \r\nQ 11.140625 37.109375 17.671875 38.8125 \r\nz\r\nM 15.921875 53.71875 \r\nQ 15.921875 48.640625 19.1875 45.40625 \r\nQ 22.46875 42.1875 27.6875 42.1875 \r\nQ 32.765625 42.1875 36.015625 45.375 \r\nQ 39.265625 48.578125 39.265625 53.21875 \r\nQ 39.265625 58.0625 35.90625 61.359375 \r\nQ 32.5625 64.65625 27.59375 64.65625 \r\nQ 22.5625 64.65625 19.234375 61.421875 \r\nQ 15.921875 58.203125 15.921875 53.71875 \r\nz\r\nM 13.09375 20.65625 \r\nQ 13.09375 16.890625 14.875 13.375 \r\nQ 16.65625 9.859375 20.171875 7.921875 \r\nQ 23.6875 6 27.734375 6 \r\nQ 34.03125 6 38.125 10.046875 \r\nQ 42.234375 14.109375 42.234375 20.359375 \r\nQ 42.234375 26.703125 38.015625 30.859375 \r\nQ 33.796875 35.015625 27.4375 35.015625 \r\nQ 21.234375 35.015625 17.15625 30.90625 \r\nQ 13.09375 26.8125 13.09375 20.65625 \r\nz\r\n\" id=\"ArialMT-56\"/>\r\n      </defs>\r\n      <g style=\"fill:#262626;\" transform=\"translate(22.315 21.020433)scale(0.11 -0.11)\">\r\n       <use xlink:href=\"#ArialMT-56\"/>\r\n       <use x=\"55.615234\" xlink:href=\"#ArialMT-48\"/>\r\n      </g>\r\n     </g>\r\n    </g>\r\n    <g id=\"text_14\">\r\n     <!-- Age -->\r\n     <defs>\r\n      <path d=\"M -0.140625 0 \r\nL 27.34375 71.578125 \r\nL 37.546875 71.578125 \r\nL 66.84375 0 \r\nL 56.0625 0 \r\nL 47.703125 21.6875 \r\nL 17.78125 21.6875 \r\nL 9.90625 0 \r\nz\r\nM 20.515625 29.390625 \r\nL 44.78125 29.390625 \r\nL 37.3125 49.21875 \r\nQ 33.890625 58.25 32.234375 64.0625 \r\nQ 30.859375 57.171875 28.375 50.390625 \r\nz\r\n\" id=\"ArialMT-65\"/>\r\n      <path d=\"M 4.984375 -4.296875 \r\nL 13.53125 -5.5625 \r\nQ 14.0625 -9.515625 16.5 -11.328125 \r\nQ 19.78125 -13.765625 25.4375 -13.765625 \r\nQ 31.546875 -13.765625 34.859375 -11.328125 \r\nQ 38.1875 -8.890625 39.359375 -4.5 \r\nQ 40.046875 -1.8125 39.984375 6.78125 \r\nQ 34.234375 0 25.640625 0 \r\nQ 14.9375 0 9.078125 7.71875 \r\nQ 3.21875 15.4375 3.21875 26.21875 \r\nQ 3.21875 33.640625 5.90625 39.90625 \r\nQ 8.59375 46.1875 13.6875 49.609375 \r\nQ 18.796875 53.03125 25.6875 53.03125 \r\nQ 34.859375 53.03125 40.828125 45.609375 \r\nL 40.828125 51.859375 \r\nL 48.921875 51.859375 \r\nL 48.921875 7.03125 \r\nQ 48.921875 -5.078125 46.453125 -10.125 \r\nQ 44 -15.1875 38.640625 -18.109375 \r\nQ 33.296875 -21.046875 25.484375 -21.046875 \r\nQ 16.21875 -21.046875 10.5 -16.875 \r\nQ 4.78125 -12.703125 4.984375 -4.296875 \r\nz\r\nM 12.25 26.859375 \r\nQ 12.25 16.65625 16.296875 11.96875 \r\nQ 20.359375 7.28125 26.46875 7.28125 \r\nQ 32.515625 7.28125 36.609375 11.9375 \r\nQ 40.71875 16.609375 40.71875 26.5625 \r\nQ 40.71875 36.078125 36.5 40.90625 \r\nQ 32.28125 45.75 26.3125 45.75 \r\nQ 20.453125 45.75 16.34375 40.984375 \r\nQ 12.25 36.234375 12.25 26.859375 \r\nz\r\n\" id=\"ArialMT-103\"/>\r\n      <path d=\"M 42.09375 16.703125 \r\nL 51.171875 15.578125 \r\nQ 49.03125 7.625 43.21875 3.21875 \r\nQ 37.40625 -1.171875 28.375 -1.171875 \r\nQ 17 -1.171875 10.328125 5.828125 \r\nQ 3.65625 12.84375 3.65625 25.484375 \r\nQ 3.65625 38.578125 10.390625 45.796875 \r\nQ 17.140625 53.03125 27.875 53.03125 \r\nQ 38.28125 53.03125 44.875 45.953125 \r\nQ 51.46875 38.875 51.46875 26.03125 \r\nQ 51.46875 25.25 51.421875 23.6875 \r\nL 12.75 23.6875 \r\nQ 13.234375 15.140625 17.578125 10.59375 \r\nQ 21.921875 6.0625 28.421875 6.0625 \r\nQ 33.25 6.0625 36.671875 8.59375 \r\nQ 40.09375 11.140625 42.09375 16.703125 \r\nz\r\nM 13.234375 30.90625 \r\nL 42.1875 30.90625 \r\nQ 41.609375 37.453125 38.875 40.71875 \r\nQ 34.671875 45.796875 27.984375 45.796875 \r\nQ 21.921875 45.796875 17.796875 41.75 \r\nQ 13.671875 37.703125 13.234375 30.90625 \r\nz\r\n\" id=\"ArialMT-101\"/>\r\n     </defs>\r\n     <g style=\"fill:#262626;\" transform=\"translate(15.789375 126.595312)rotate(-90)scale(0.12 -0.12)\">\r\n      <use xlink:href=\"#ArialMT-65\"/>\r\n      <use x=\"66.699219\" xlink:href=\"#ArialMT-103\"/>\r\n      <use x=\"122.314453\" xlink:href=\"#ArialMT-101\"/>\r\n     </g>\r\n    </g>\r\n   </g>\r\n   <g id=\"patch_3\">\r\n    <path clip-path=\"url(#pe90f30374e)\" d=\"M 55.655463 142.028504 \r\nL 99.402663 142.028504 \r\nL 99.402663 94.086081 \r\nL 55.655463 94.086081 \r\nL 55.655463 142.028504 \r\nz\r\n\" style=\"fill:#5875a4;stroke:#4c4c4c;stroke-linejoin:miter;stroke-width:1.5;\"/>\r\n   </g>\r\n   <g id=\"patch_4\">\r\n    <path clip-path=\"url(#pe90f30374e)\" d=\"M 100.295462 156.184827 \r\nL 144.042663 156.184827 \r\nL 144.042663 110.852742 \r\nL 100.295462 110.852742 \r\nL 100.295462 156.184827 \r\nz\r\n\" style=\"fill:#cc8963;stroke:#4c4c4c;stroke-linejoin:miter;stroke-width:1.5;\"/>\r\n   </g>\r\n   <g id=\"patch_5\">\r\n    <path clip-path=\"url(#pe90f30374e)\" d=\"M 167.255463 158.668777 \r\nL 211.002662 158.668777 \r\nL 211.002662 126.377429 \r\nL 167.255463 126.377429 \r\nL 167.255463 158.668777 \r\nz\r\n\" style=\"fill:#5875a4;stroke:#4c4c4c;stroke-linejoin:miter;stroke-width:1.5;\"/>\r\n   </g>\r\n   <g id=\"patch_6\">\r\n    <path clip-path=\"url(#pe90f30374e)\" d=\"M 211.895463 159.289764 \r\nL 255.642662 159.289764 \r\nL 255.642662 126.377429 \r\nL 211.895463 126.377429 \r\nL 211.895463 159.289764 \r\nz\r\n\" style=\"fill:#cc8963;stroke:#4c4c4c;stroke-linejoin:miter;stroke-width:1.5;\"/>\r\n   </g>\r\n   <g id=\"patch_7\">\r\n    <path clip-path=\"url(#pe90f30374e)\" d=\"M 278.855463 163.636676 \r\nL 322.602662 163.636676 \r\nL 322.602662 141.281128 \r\nL 278.855463 141.281128 \r\nL 278.855463 163.636676 \r\nz\r\n\" style=\"fill:#5875a4;stroke:#4c4c4c;stroke-linejoin:miter;stroke-width:1.5;\"/>\r\n   </g>\r\n   <g id=\"patch_8\">\r\n    <path clip-path=\"url(#pe90f30374e)\" d=\"M 323.495463 171.088526 \r\nL 367.242663 171.088526 \r\nL 367.242663 142.028504 \r\nL 323.495463 142.028504 \r\nL 323.495463 171.088526 \r\nz\r\n\" style=\"fill:#cc8963;stroke:#4c4c4c;stroke-linejoin:miter;stroke-width:1.5;\"/>\r\n   </g>\r\n   <g id=\"patch_9\">\r\n    <path clip-path=\"url(#pe90f30374e)\" d=\"M 99.849063 215.799623 \r\nL 99.849063 215.799623 \r\nL 99.849063 215.799623 \r\nL 99.849063 215.799623 \r\nz\r\n\" style=\"fill:#5875a4;stroke:#4c4c4c;stroke-linejoin:miter;stroke-width:0.75;\"/>\r\n   </g>\r\n   <g id=\"patch_10\">\r\n    <path clip-path=\"url(#pe90f30374e)\" d=\"M 99.849063 215.799623 \r\nL 99.849063 215.799623 \r\nL 99.849063 215.799623 \r\nL 99.849063 215.799623 \r\nz\r\n\" style=\"fill:#cc8963;stroke:#4c4c4c;stroke-linejoin:miter;stroke-width:0.75;\"/>\r\n   </g>\r\n   <g id=\"line2d_10\">\r\n    <path clip-path=\"url(#pe90f30374e)\" d=\"M 77.529063 142.028504 \r\nL 77.529063 213.514389 \r\n\" style=\"fill:none;stroke:#4c4c4c;stroke-linecap:round;stroke-width:1.5;\"/>\r\n   </g>\r\n   <g id=\"line2d_11\">\r\n    <path clip-path=\"url(#pe90f30374e)\" d=\"M 77.529063 94.086081 \r\nL 77.529063 39.439185 \r\n\" style=\"fill:none;stroke:#4c4c4c;stroke-linecap:round;stroke-width:1.5;\"/>\r\n   </g>\r\n   <g id=\"line2d_12\">\r\n    <path clip-path=\"url(#pe90f30374e)\" d=\"M 66.592263 213.514389 \r\nL 88.465863 213.514389 \r\n\" style=\"fill:none;stroke:#4c4c4c;stroke-linecap:round;stroke-width:1.5;\"/>\r\n   </g>\r\n   <g id=\"line2d_13\">\r\n    <path clip-path=\"url(#pe90f30374e)\" d=\"M 66.592263 39.439185 \r\nL 88.465863 39.439185 \r\n\" style=\"fill:none;stroke:#4c4c4c;stroke-linecap:round;stroke-width:1.5;\"/>\r\n   </g>\r\n   <g id=\"line2d_14\">\r\n    <defs>\r\n     <path d=\"M 0 3.535534 \r\nL 2.12132 0 \r\nL 0 -3.535534 \r\nL -2.12132 0 \r\nz\r\n\" id=\"mdec4507232\" style=\"stroke:#4c4c4c;stroke-linejoin:miter;\"/>\r\n    </defs>\r\n    <g clip-path=\"url(#pe90f30374e)\">\r\n     <use style=\"fill:#4c4c4c;stroke:#4c4c4c;stroke-linejoin:miter;\" x=\"77.529063\" xlink:href=\"#mdec4507232\" y=\"17.083636\"/>\r\n    </g>\r\n   </g>\r\n   <g id=\"line2d_15\">\r\n    <path clip-path=\"url(#pe90f30374e)\" d=\"M 122.169062 156.184827 \r\nL 122.169062 210.831723 \r\n\" style=\"fill:none;stroke:#4c4c4c;stroke-linecap:round;stroke-width:1.5;\"/>\r\n   </g>\r\n   <g id=\"line2d_16\">\r\n    <path clip-path=\"url(#pe90f30374e)\" d=\"M 122.169062 110.852742 \r\nL 122.169062 59.310783 \r\n\" style=\"fill:none;stroke:#4c4c4c;stroke-linecap:round;stroke-width:1.5;\"/>\r\n   </g>\r\n   <g id=\"line2d_17\">\r\n    <path clip-path=\"url(#pe90f30374e)\" d=\"M 111.232263 210.831723 \r\nL 133.105863 210.831723 \r\n\" style=\"fill:none;stroke:#4c4c4c;stroke-linecap:round;stroke-width:1.5;\"/>\r\n   </g>\r\n   <g id=\"line2d_18\">\r\n    <path clip-path=\"url(#pe90f30374e)\" d=\"M 111.232263 59.310783 \r\nL 133.105863 59.310783 \r\n\" style=\"fill:none;stroke:#4c4c4c;stroke-linecap:round;stroke-width:1.5;\"/>\r\n   </g>\r\n   <g id=\"line2d_19\"/>\r\n   <g id=\"line2d_20\">\r\n    <path clip-path=\"url(#pe90f30374e)\" d=\"M 189.129063 158.668777 \r\nL 189.129063 195.928024 \r\n\" style=\"fill:none;stroke:#4c4c4c;stroke-linecap:round;stroke-width:1.5;\"/>\r\n   </g>\r\n   <g id=\"line2d_21\">\r\n    <path clip-path=\"url(#pe90f30374e)\" d=\"M 189.129063 126.377429 \r\nL 189.129063 81.666332 \r\n\" style=\"fill:none;stroke:#4c4c4c;stroke-linecap:round;stroke-width:1.5;\"/>\r\n   </g>\r\n   <g id=\"line2d_22\">\r\n    <path clip-path=\"url(#pe90f30374e)\" d=\"M 178.192263 195.928024 \r\nL 200.065862 195.928024 \r\n\" style=\"fill:none;stroke:#4c4c4c;stroke-linecap:round;stroke-width:1.5;\"/>\r\n   </g>\r\n   <g id=\"line2d_23\">\r\n    <path clip-path=\"url(#pe90f30374e)\" d=\"M 178.192263 81.666332 \r\nL 200.065862 81.666332 \r\n\" style=\"fill:none;stroke:#4c4c4c;stroke-linecap:round;stroke-width:1.5;\"/>\r\n   </g>\r\n   <g id=\"line2d_24\">\r\n    <g clip-path=\"url(#pe90f30374e)\">\r\n     <use style=\"fill:#4c4c4c;stroke:#4c4c4c;stroke-linejoin:miter;\" x=\"189.129063\" xlink:href=\"#mdec4507232\" y=\"213.737944\"/>\r\n     <use style=\"fill:#4c4c4c;stroke:#4c4c4c;stroke-linejoin:miter;\" x=\"189.129063\" xlink:href=\"#mdec4507232\" y=\"213.315673\"/>\r\n     <use style=\"fill:#4c4c4c;stroke:#4c4c4c;stroke-linejoin:miter;\" x=\"189.129063\" xlink:href=\"#mdec4507232\" y=\"208.347773\"/>\r\n     <use style=\"fill:#4c4c4c;stroke:#4c4c4c;stroke-linejoin:miter;\" x=\"189.129063\" xlink:href=\"#mdec4507232\" y=\"210.831723\"/>\r\n     <use style=\"fill:#4c4c4c;stroke:#4c4c4c;stroke-linejoin:miter;\" x=\"189.129063\" xlink:href=\"#mdec4507232\" y=\"208.347773\"/>\r\n     <use style=\"fill:#4c4c4c;stroke:#4c4c4c;stroke-linejoin:miter;\" x=\"189.129063\" xlink:href=\"#mdec4507232\" y=\"214.135376\"/>\r\n     <use style=\"fill:#4c4c4c;stroke:#4c4c4c;stroke-linejoin:miter;\" x=\"189.129063\" xlink:href=\"#mdec4507232\" y=\"213.315673\"/>\r\n     <use style=\"fill:#4c4c4c;stroke:#4c4c4c;stroke-linejoin:miter;\" x=\"189.129063\" xlink:href=\"#mdec4507232\" y=\"213.737944\"/>\r\n     <use style=\"fill:#4c4c4c;stroke:#4c4c4c;stroke-linejoin:miter;\" x=\"189.129063\" xlink:href=\"#mdec4507232\" y=\"51.858934\"/>\r\n     <use style=\"fill:#4c4c4c;stroke:#4c4c4c;stroke-linejoin:miter;\" x=\"189.129063\" xlink:href=\"#mdec4507232\" y=\"69.246583\"/>\r\n     <use style=\"fill:#4c4c4c;stroke:#4c4c4c;stroke-linejoin:miter;\" x=\"189.129063\" xlink:href=\"#mdec4507232\" y=\"61.794733\"/>\r\n     <use style=\"fill:#4c4c4c;stroke:#4c4c4c;stroke-linejoin:miter;\" x=\"189.129063\" xlink:href=\"#mdec4507232\" y=\"74.214482\"/>\r\n     <use style=\"fill:#4c4c4c;stroke:#4c4c4c;stroke-linejoin:miter;\" x=\"189.129063\" xlink:href=\"#mdec4507232\" y=\"41.923135\"/>\r\n     <use style=\"fill:#4c4c4c;stroke:#4c4c4c;stroke-linejoin:miter;\" x=\"189.129063\" xlink:href=\"#mdec4507232\" y=\"66.762633\"/>\r\n    </g>\r\n   </g>\r\n   <g id=\"line2d_25\">\r\n    <path clip-path=\"url(#pe90f30374e)\" d=\"M 233.769062 159.289764 \r\nL 233.769062 208.347773 \r\n\" style=\"fill:none;stroke:#4c4c4c;stroke-linecap:round;stroke-width:1.5;\"/>\r\n   </g>\r\n   <g id=\"line2d_26\">\r\n    <path clip-path=\"url(#pe90f30374e)\" d=\"M 233.769062 126.377429 \r\nL 233.769062 79.182382 \r\n\" style=\"fill:none;stroke:#4c4c4c;stroke-linecap:round;stroke-width:1.5;\"/>\r\n   </g>\r\n   <g id=\"line2d_27\">\r\n    <path clip-path=\"url(#pe90f30374e)\" d=\"M 222.832262 208.347773 \r\nL 244.705862 208.347773 \r\n\" style=\"fill:none;stroke:#4c4c4c;stroke-linecap:round;stroke-width:1.5;\"/>\r\n   </g>\r\n   <g id=\"line2d_28\">\r\n    <path clip-path=\"url(#pe90f30374e)\" d=\"M 222.832262 79.182382 \r\nL 244.705862 79.182382 \r\n\" style=\"fill:none;stroke:#4c4c4c;stroke-linecap:round;stroke-width:1.5;\"/>\r\n   </g>\r\n   <g id=\"line2d_29\">\r\n    <g clip-path=\"url(#pe90f30374e)\">\r\n     <use style=\"fill:#4c4c4c;stroke:#4c4c4c;stroke-linejoin:miter;\" x=\"233.769062\" xlink:href=\"#mdec4507232\" y=\"210.831723\"/>\r\n     <use style=\"fill:#4c4c4c;stroke:#4c4c4c;stroke-linejoin:miter;\" x=\"233.769062\" xlink:href=\"#mdec4507232\" y=\"74.214482\"/>\r\n    </g>\r\n   </g>\r\n   <g id=\"line2d_30\">\r\n    <path clip-path=\"url(#pe90f30374e)\" d=\"M 300.729062 163.636676 \r\nL 300.729062 195.928024 \r\n\" style=\"fill:none;stroke:#4c4c4c;stroke-linecap:round;stroke-width:1.5;\"/>\r\n   </g>\r\n   <g id=\"line2d_31\">\r\n    <path clip-path=\"url(#pe90f30374e)\" d=\"M 300.729062 141.281128 \r\nL 300.729062 108.98978 \r\n\" style=\"fill:none;stroke:#4c4c4c;stroke-linecap:round;stroke-width:1.5;\"/>\r\n   </g>\r\n   <g id=\"line2d_32\">\r\n    <path clip-path=\"url(#pe90f30374e)\" d=\"M 289.792262 195.928024 \r\nL 311.665863 195.928024 \r\n\" style=\"fill:none;stroke:#4c4c4c;stroke-linecap:round;stroke-width:1.5;\"/>\r\n   </g>\r\n   <g id=\"line2d_33\">\r\n    <path clip-path=\"url(#pe90f30374e)\" d=\"M 289.792262 108.98978 \r\nL 311.665863 108.98978 \r\n\" style=\"fill:none;stroke:#4c4c4c;stroke-linecap:round;stroke-width:1.5;\"/>\r\n   </g>\r\n   <g id=\"line2d_34\">\r\n    <g clip-path=\"url(#pe90f30374e)\">\r\n     <use style=\"fill:#4c4c4c;stroke:#4c4c4c;stroke-linejoin:miter;\" x=\"300.729062\" xlink:href=\"#mdec4507232\" y=\"210.831723\"/>\r\n     <use style=\"fill:#4c4c4c;stroke:#4c4c4c;stroke-linejoin:miter;\" x=\"300.729062\" xlink:href=\"#mdec4507232\" y=\"210.831723\"/>\r\n     <use style=\"fill:#4c4c4c;stroke:#4c4c4c;stroke-linejoin:miter;\" x=\"300.729062\" xlink:href=\"#mdec4507232\" y=\"198.411974\"/>\r\n     <use style=\"fill:#4c4c4c;stroke:#4c4c4c;stroke-linejoin:miter;\" x=\"300.729062\" xlink:href=\"#mdec4507232\" y=\"205.863823\"/>\r\n     <use style=\"fill:#4c4c4c;stroke:#4c4c4c;stroke-linejoin:miter;\" x=\"300.729062\" xlink:href=\"#mdec4507232\" y=\"213.315673\"/>\r\n     <use style=\"fill:#4c4c4c;stroke:#4c4c4c;stroke-linejoin:miter;\" x=\"300.729062\" xlink:href=\"#mdec4507232\" y=\"205.863823\"/>\r\n     <use style=\"fill:#4c4c4c;stroke:#4c4c4c;stroke-linejoin:miter;\" x=\"300.729062\" xlink:href=\"#mdec4507232\" y=\"208.347773\"/>\r\n     <use style=\"fill:#4c4c4c;stroke:#4c4c4c;stroke-linejoin:miter;\" x=\"300.729062\" xlink:href=\"#mdec4507232\" y=\"198.411974\"/>\r\n     <use style=\"fill:#4c4c4c;stroke:#4c4c4c;stroke-linejoin:miter;\" x=\"300.729062\" xlink:href=\"#mdec4507232\" y=\"208.347773\"/>\r\n     <use style=\"fill:#4c4c4c;stroke:#4c4c4c;stroke-linejoin:miter;\" x=\"300.729062\" xlink:href=\"#mdec4507232\" y=\"213.315673\"/>\r\n     <use style=\"fill:#4c4c4c;stroke:#4c4c4c;stroke-linejoin:miter;\" x=\"300.729062\" xlink:href=\"#mdec4507232\" y=\"200.895924\"/>\r\n     <use style=\"fill:#4c4c4c;stroke:#4c4c4c;stroke-linejoin:miter;\" x=\"300.729062\" xlink:href=\"#mdec4507232\" y=\"213.315673\"/>\r\n     <use style=\"fill:#4c4c4c;stroke:#4c4c4c;stroke-linejoin:miter;\" x=\"300.729062\" xlink:href=\"#mdec4507232\" y=\"214.756364\"/>\r\n     <use style=\"fill:#4c4c4c;stroke:#4c4c4c;stroke-linejoin:miter;\" x=\"300.729062\" xlink:href=\"#mdec4507232\" y=\"210.831723\"/>\r\n     <use style=\"fill:#4c4c4c;stroke:#4c4c4c;stroke-linejoin:miter;\" x=\"300.729062\" xlink:href=\"#mdec4507232\" y=\"205.863823\"/>\r\n     <use style=\"fill:#4c4c4c;stroke:#4c4c4c;stroke-linejoin:miter;\" x=\"300.729062\" xlink:href=\"#mdec4507232\" y=\"205.863823\"/>\r\n     <use style=\"fill:#4c4c4c;stroke:#4c4c4c;stroke-linejoin:miter;\" x=\"300.729062\" xlink:href=\"#mdec4507232\" y=\"69.246583\"/>\r\n     <use style=\"fill:#4c4c4c;stroke:#4c4c4c;stroke-linejoin:miter;\" x=\"300.729062\" xlink:href=\"#mdec4507232\" y=\"40.68116\"/>\r\n     <use style=\"fill:#4c4c4c;stroke:#4c4c4c;stroke-linejoin:miter;\" x=\"300.729062\" xlink:href=\"#mdec4507232\" y=\"104.02188\"/>\r\n     <use style=\"fill:#4c4c4c;stroke:#4c4c4c;stroke-linejoin:miter;\" x=\"300.729062\" xlink:href=\"#mdec4507232\" y=\"77.940407\"/>\r\n     <use style=\"fill:#4c4c4c;stroke:#4c4c4c;stroke-linejoin:miter;\" x=\"300.729062\" xlink:href=\"#mdec4507232\" y=\"106.50583\"/>\r\n     <use style=\"fill:#4c4c4c;stroke:#4c4c4c;stroke-linejoin:miter;\" x=\"300.729062\" xlink:href=\"#mdec4507232\" y=\"102.779905\"/>\r\n     <use style=\"fill:#4c4c4c;stroke:#4c4c4c;stroke-linejoin:miter;\" x=\"300.729062\" xlink:href=\"#mdec4507232\" y=\"89.118181\"/>\r\n     <use style=\"fill:#4c4c4c;stroke:#4c4c4c;stroke-linejoin:miter;\" x=\"300.729062\" xlink:href=\"#mdec4507232\" y=\"54.342884\"/>\r\n     <use style=\"fill:#4c4c4c;stroke:#4c4c4c;stroke-linejoin:miter;\" x=\"300.729062\" xlink:href=\"#mdec4507232\" y=\"64.278683\"/>\r\n     <use style=\"fill:#4c4c4c;stroke:#4c4c4c;stroke-linejoin:miter;\" x=\"300.729062\" xlink:href=\"#mdec4507232\" y=\"104.02188\"/>\r\n     <use style=\"fill:#4c4c4c;stroke:#4c4c4c;stroke-linejoin:miter;\" x=\"300.729062\" xlink:href=\"#mdec4507232\" y=\"89.118181\"/>\r\n     <use style=\"fill:#4c4c4c;stroke:#4c4c4c;stroke-linejoin:miter;\" x=\"300.729062\" xlink:href=\"#mdec4507232\" y=\"106.50583\"/>\r\n     <use style=\"fill:#4c4c4c;stroke:#4c4c4c;stroke-linejoin:miter;\" x=\"300.729062\" xlink:href=\"#mdec4507232\" y=\"91.602131\"/>\r\n     <use style=\"fill:#4c4c4c;stroke:#4c4c4c;stroke-linejoin:miter;\" x=\"300.729062\" xlink:href=\"#mdec4507232\" y=\"99.053981\"/>\r\n     <use style=\"fill:#4c4c4c;stroke:#4c4c4c;stroke-linejoin:miter;\" x=\"300.729062\" xlink:href=\"#mdec4507232\" y=\"94.086081\"/>\r\n     <use style=\"fill:#4c4c4c;stroke:#4c4c4c;stroke-linejoin:miter;\" x=\"300.729062\" xlink:href=\"#mdec4507232\" y=\"106.50583\"/>\r\n     <use style=\"fill:#4c4c4c;stroke:#4c4c4c;stroke-linejoin:miter;\" x=\"300.729062\" xlink:href=\"#mdec4507232\" y=\"89.118181\"/>\r\n     <use style=\"fill:#4c4c4c;stroke:#4c4c4c;stroke-linejoin:miter;\" x=\"300.729062\" xlink:href=\"#mdec4507232\" y=\"106.50583\"/>\r\n     <use style=\"fill:#4c4c4c;stroke:#4c4c4c;stroke-linejoin:miter;\" x=\"300.729062\" xlink:href=\"#mdec4507232\" y=\"96.570031\"/>\r\n     <use style=\"fill:#4c4c4c;stroke:#4c4c4c;stroke-linejoin:miter;\" x=\"300.729062\" xlink:href=\"#mdec4507232\" y=\"31.987335\"/>\r\n     <use style=\"fill:#4c4c4c;stroke:#4c4c4c;stroke-linejoin:miter;\" x=\"300.729062\" xlink:href=\"#mdec4507232\" y=\"99.053981\"/>\r\n    </g>\r\n   </g>\r\n   <g id=\"line2d_35\">\r\n    <path clip-path=\"url(#pe90f30374e)\" d=\"M 345.369063 171.088526 \r\nL 345.369063 213.93666 \r\n\" style=\"fill:none;stroke:#4c4c4c;stroke-linecap:round;stroke-width:1.5;\"/>\r\n   </g>\r\n   <g id=\"line2d_36\">\r\n    <path clip-path=\"url(#pe90f30374e)\" d=\"M 345.369063 142.028504 \r\nL 345.369063 99.053981 \r\n\" style=\"fill:none;stroke:#4c4c4c;stroke-linecap:round;stroke-width:1.5;\"/>\r\n   </g>\r\n   <g id=\"line2d_37\">\r\n    <path clip-path=\"url(#pe90f30374e)\" d=\"M 334.432263 213.93666 \r\nL 356.305862 213.93666 \r\n\" style=\"fill:none;stroke:#4c4c4c;stroke-linecap:round;stroke-width:1.5;\"/>\r\n   </g>\r\n   <g id=\"line2d_38\">\r\n    <path clip-path=\"url(#pe90f30374e)\" d=\"M 334.432263 99.053981 \r\nL 356.305862 99.053981 \r\n\" style=\"fill:none;stroke:#4c4c4c;stroke-linecap:round;stroke-width:1.5;\"/>\r\n   </g>\r\n   <g id=\"line2d_39\">\r\n    <g clip-path=\"url(#pe90f30374e)\">\r\n     <use style=\"fill:#4c4c4c;stroke:#4c4c4c;stroke-linejoin:miter;\" x=\"345.369063\" xlink:href=\"#mdec4507232\" y=\"59.310783\"/>\r\n     <use style=\"fill:#4c4c4c;stroke:#4c4c4c;stroke-linejoin:miter;\" x=\"345.369063\" xlink:href=\"#mdec4507232\" y=\"96.570031\"/>\r\n    </g>\r\n   </g>\r\n   <g id=\"line2d_40\">\r\n    <path clip-path=\"url(#pe90f30374e)\" d=\"M 55.655463 126.377429 \r\nL 99.402663 126.377429 \r\n\" style=\"fill:none;stroke:#4c4c4c;stroke-linecap:round;stroke-width:1.5;\"/>\r\n   </g>\r\n   <g id=\"line2d_41\">\r\n    <path clip-path=\"url(#pe90f30374e)\" d=\"M 100.295462 137.555203 \r\nL 144.042663 137.555203 \r\n\" style=\"fill:none;stroke:#4c4c4c;stroke-linecap:round;stroke-width:1.5;\"/>\r\n   </g>\r\n   <g id=\"line2d_42\">\r\n    <path clip-path=\"url(#pe90f30374e)\" d=\"M 167.255463 142.028504 \r\nL 211.002662 142.028504 \r\n\" style=\"fill:none;stroke:#4c4c4c;stroke-linecap:round;stroke-width:1.5;\"/>\r\n   </g>\r\n   <g id=\"line2d_43\">\r\n    <path clip-path=\"url(#pe90f30374e)\" d=\"M 211.895463 145.007052 \r\nL 255.642662 145.007052 \r\n\" style=\"fill:none;stroke:#4c4c4c;stroke-linecap:round;stroke-width:1.5;\"/>\r\n   </g>\r\n   <g id=\"line2d_44\">\r\n    <path clip-path=\"url(#pe90f30374e)\" d=\"M 278.855463 142.028504 \r\nL 322.602662 142.028504 \r\n\" style=\"fill:none;stroke:#4c4c4c;stroke-linecap:round;stroke-width:1.5;\"/>\r\n   </g>\r\n   <g id=\"line2d_45\">\r\n    <path clip-path=\"url(#pe90f30374e)\" d=\"M 323.495463 146.249027 \r\nL 367.242663 146.249027 \r\n\" style=\"fill:none;stroke:#4c4c4c;stroke-linecap:round;stroke-width:1.5;\"/>\r\n   </g>\r\n   <g id=\"patch_11\">\r\n    <path d=\"M 44.049063 224.64 \r\nL 44.049063 7.2 \r\n\" style=\"fill:none;stroke:#ffffff;stroke-linecap:square;stroke-linejoin:miter;stroke-width:1.25;\"/>\r\n   </g>\r\n   <g id=\"patch_12\">\r\n    <path d=\"M 378.849063 224.64 \r\nL 378.849063 7.2 \r\n\" style=\"fill:none;stroke:#ffffff;stroke-linecap:square;stroke-linejoin:miter;stroke-width:1.25;\"/>\r\n   </g>\r\n   <g id=\"patch_13\">\r\n    <path d=\"M 44.049063 224.64 \r\nL 378.849063 224.64 \r\n\" style=\"fill:none;stroke:#ffffff;stroke-linecap:square;stroke-linejoin:miter;stroke-width:1.25;\"/>\r\n   </g>\r\n   <g id=\"patch_14\">\r\n    <path d=\"M 44.049063 7.2 \r\nL 378.849063 7.2 \r\n\" style=\"fill:none;stroke:#ffffff;stroke-linecap:square;stroke-linejoin:miter;stroke-width:1.25;\"/>\r\n   </g>\r\n   <g id=\"legend_1\">\r\n    <g id=\"patch_15\">\r\n     <path d=\"M 302.935313 61.947906 \r\nL 371.149063 61.947906 \r\nQ 373.349063 61.947906 373.349063 59.747906 \r\nL 373.349063 14.9 \r\nQ 373.349063 12.7 371.149063 12.7 \r\nL 302.935313 12.7 \r\nQ 300.735313 12.7 300.735313 14.9 \r\nL 300.735313 59.747906 \r\nQ 300.735313 61.947906 302.935313 61.947906 \r\nz\r\n\" style=\"fill:#eaeaf2;opacity:0.8;stroke:#cccccc;stroke-linejoin:miter;\"/>\r\n    </g>\r\n    <g id=\"text_15\">\r\n     <!-- Sex -->\r\n     <defs>\r\n      <path d=\"M 4.5 23 \r\nL 13.421875 23.78125 \r\nQ 14.0625 18.40625 16.375 14.96875 \r\nQ 18.703125 11.53125 23.578125 9.40625 \r\nQ 28.46875 7.28125 34.578125 7.28125 \r\nQ 39.984375 7.28125 44.140625 8.890625 \r\nQ 48.296875 10.5 50.3125 13.296875 \r\nQ 52.34375 16.109375 52.34375 19.4375 \r\nQ 52.34375 22.796875 50.390625 25.3125 \r\nQ 48.4375 27.828125 43.953125 29.546875 \r\nQ 41.0625 30.671875 31.203125 33.03125 \r\nQ 21.34375 35.40625 17.390625 37.5 \r\nQ 12.25 40.1875 9.734375 44.15625 \r\nQ 7.234375 48.140625 7.234375 53.078125 \r\nQ 7.234375 58.5 10.296875 63.203125 \r\nQ 13.375 67.921875 19.28125 70.359375 \r\nQ 25.203125 72.796875 32.421875 72.796875 \r\nQ 40.375 72.796875 46.453125 70.234375 \r\nQ 52.546875 67.671875 55.8125 62.6875 \r\nQ 59.078125 57.71875 59.328125 51.421875 \r\nL 50.25 50.734375 \r\nQ 49.515625 57.515625 45.28125 60.984375 \r\nQ 41.0625 64.453125 32.8125 64.453125 \r\nQ 24.21875 64.453125 20.28125 61.296875 \r\nQ 16.359375 58.15625 16.359375 53.71875 \r\nQ 16.359375 49.859375 19.140625 47.359375 \r\nQ 21.875 44.875 33.421875 42.265625 \r\nQ 44.96875 39.65625 49.265625 37.703125 \r\nQ 55.515625 34.8125 58.484375 30.390625 \r\nQ 61.46875 25.984375 61.46875 20.21875 \r\nQ 61.46875 14.5 58.203125 9.4375 \r\nQ 54.9375 4.390625 48.796875 1.578125 \r\nQ 42.671875 -1.21875 35.015625 -1.21875 \r\nQ 25.296875 -1.21875 18.71875 1.609375 \r\nQ 12.15625 4.4375 8.421875 10.125 \r\nQ 4.6875 15.828125 4.5 23 \r\nz\r\n\" id=\"ArialMT-83\"/>\r\n      <path d=\"M 0.734375 0 \r\nL 19.671875 26.953125 \r\nL 2.15625 51.859375 \r\nL 13.140625 51.859375 \r\nL 21.09375 39.703125 \r\nQ 23.34375 36.234375 24.703125 33.890625 \r\nQ 26.859375 37.109375 28.65625 39.59375 \r\nL 37.40625 51.859375 \r\nL 47.90625 51.859375 \r\nL 29.984375 27.4375 \r\nL 49.265625 0 \r\nL 38.484375 0 \r\nL 27.828125 16.109375 \r\nL 25 20.453125 \r\nL 11.375 0 \r\nz\r\n\" id=\"ArialMT-120\"/>\r\n     </defs>\r\n     <g style=\"fill:#262626;\" transform=\"translate(328.25425 24.400969)scale(0.102 -0.102)\">\r\n      <use xlink:href=\"#ArialMT-83\"/>\r\n      <use x=\"66.699219\" xlink:href=\"#ArialMT-101\"/>\r\n      <use x=\"122.314453\" xlink:href=\"#ArialMT-120\"/>\r\n     </g>\r\n    </g>\r\n    <g id=\"patch_16\">\r\n     <path d=\"M 305.135312 39.801812 \r\nL 327.135312 39.801812 \r\nL 327.135312 32.101812 \r\nL 305.135312 32.101812 \r\nz\r\n\" style=\"fill:#5875a4;stroke:#4c4c4c;stroke-linejoin:miter;stroke-width:0.75;\"/>\r\n    </g>\r\n    <g id=\"text_16\">\r\n     <!-- male -->\r\n     <defs>\r\n      <path d=\"M 6.59375 0 \r\nL 6.59375 51.859375 \r\nL 14.453125 51.859375 \r\nL 14.453125 44.578125 \r\nQ 16.890625 48.390625 20.9375 50.703125 \r\nQ 25 53.03125 30.171875 53.03125 \r\nQ 35.9375 53.03125 39.625 50.640625 \r\nQ 43.3125 48.25 44.828125 43.953125 \r\nQ 50.984375 53.03125 60.84375 53.03125 \r\nQ 68.5625 53.03125 72.703125 48.75 \r\nQ 76.859375 44.484375 76.859375 35.59375 \r\nL 76.859375 0 \r\nL 68.109375 0 \r\nL 68.109375 32.671875 \r\nQ 68.109375 37.9375 67.25 40.25 \r\nQ 66.40625 42.578125 64.15625 43.984375 \r\nQ 61.921875 45.40625 58.890625 45.40625 \r\nQ 53.421875 45.40625 49.796875 41.765625 \r\nQ 46.1875 38.140625 46.1875 30.125 \r\nL 46.1875 0 \r\nL 37.40625 0 \r\nL 37.40625 33.6875 \r\nQ 37.40625 39.546875 35.25 42.46875 \r\nQ 33.109375 45.40625 28.21875 45.40625 \r\nQ 24.515625 45.40625 21.359375 43.453125 \r\nQ 18.21875 41.5 16.796875 37.734375 \r\nQ 15.375 33.984375 15.375 26.90625 \r\nL 15.375 0 \r\nz\r\n\" id=\"ArialMT-109\"/>\r\n     </defs>\r\n     <g style=\"fill:#262626;\" transform=\"translate(335.935313 39.801812)scale(0.11 -0.11)\">\r\n      <use xlink:href=\"#ArialMT-109\"/>\r\n      <use x=\"83.300781\" xlink:href=\"#ArialMT-97\"/>\r\n      <use x=\"138.916016\" xlink:href=\"#ArialMT-108\"/>\r\n      <use x=\"161.132812\" xlink:href=\"#ArialMT-101\"/>\r\n     </g>\r\n    </g>\r\n    <g id=\"patch_17\">\r\n     <path d=\"M 305.135312 55.361656 \r\nL 327.135312 55.361656 \r\nL 327.135312 47.661656 \r\nL 305.135312 47.661656 \r\nz\r\n\" style=\"fill:#cc8963;stroke:#4c4c4c;stroke-linejoin:miter;stroke-width:0.75;\"/>\r\n    </g>\r\n    <g id=\"text_17\">\r\n     <!-- female -->\r\n     <defs>\r\n      <path d=\"M 8.6875 0 \r\nL 8.6875 45.015625 \r\nL 0.921875 45.015625 \r\nL 0.921875 51.859375 \r\nL 8.6875 51.859375 \r\nL 8.6875 57.375 \r\nQ 8.6875 62.59375 9.625 65.140625 \r\nQ 10.890625 68.5625 14.078125 70.671875 \r\nQ 17.28125 72.796875 23.046875 72.796875 \r\nQ 26.765625 72.796875 31.25 71.921875 \r\nL 29.9375 64.265625 \r\nQ 27.203125 64.75 24.75 64.75 \r\nQ 20.75 64.75 19.09375 63.03125 \r\nQ 17.4375 61.328125 17.4375 56.640625 \r\nL 17.4375 51.859375 \r\nL 27.546875 51.859375 \r\nL 27.546875 45.015625 \r\nL 17.4375 45.015625 \r\nL 17.4375 0 \r\nz\r\n\" id=\"ArialMT-102\"/>\r\n     </defs>\r\n     <g style=\"fill:#262626;\" transform=\"translate(335.935313 55.361656)scale(0.11 -0.11)\">\r\n      <use xlink:href=\"#ArialMT-102\"/>\r\n      <use x=\"27.783203\" xlink:href=\"#ArialMT-101\"/>\r\n      <use x=\"83.398438\" xlink:href=\"#ArialMT-109\"/>\r\n      <use x=\"166.699219\" xlink:href=\"#ArialMT-97\"/>\r\n      <use x=\"222.314453\" xlink:href=\"#ArialMT-108\"/>\r\n      <use x=\"244.53125\" xlink:href=\"#ArialMT-101\"/>\r\n     </g>\r\n    </g>\r\n   </g>\r\n  </g>\r\n </g>\r\n <defs>\r\n  <clipPath id=\"pe90f30374e\">\r\n   <rect height=\"217.44\" width=\"334.8\" x=\"44.049063\" y=\"7.2\"/>\r\n  </clipPath>\r\n </defs>\r\n</svg>\r\n",
      "image/png": "[encoded data removed]"
     },
     "metadata": {}
    }
   ],
   "source": [
    "sns.boxplot(x=\"Pclass\", y=\"Age\", data=train, hue = \"Sex\")"
   ]
  },
  {
   "cell_type": "code",
   "execution_count": 28,
   "metadata": {},
   "outputs": [
    {
     "output_type": "execute_result",
     "data": {
      "text/plain": "<seaborn.axisgrid.FacetGrid at 0x2ad386a97c8>"
     },
     "metadata": {},
     "execution_count": 28
    },
    {
     "output_type": "display_data",
     "data": {
      "text/plain": "<Figure size 405.725x360 with 1 Axes>",
      "image/svg+xml": "<?xml version=\"1.0\" encoding=\"utf-8\" standalone=\"no\"?>\r\n<!DOCTYPE svg PUBLIC \"-//W3C//DTD SVG 1.1//EN\"\r\n  \"http://www.w3.org/Graphics/SVG/1.1/DTD/svg11.dtd\">\r\n<!-- Created with matplotlib (https://matplotlib.org/) -->\r\n<svg height=\"349.514219pt\" version=\"1.1\" viewBox=\"0 0 395.829733 349.514219\" width=\"395.829733pt\" xmlns=\"http://www.w3.org/2000/svg\" xmlns:xlink=\"http://www.w3.org/1999/xlink\">\r\n <defs>\r\n  <style type=\"text/css\">\r\n*{stroke-linecap:butt;stroke-linejoin:round;}\r\n  </style>\r\n </defs>\r\n <g id=\"figure_1\">\r\n  <g id=\"patch_1\">\r\n   <path d=\"M 0 349.514219 \r\nL 395.829733 349.514219 \r\nL 395.829733 0 \r\nL 0 0 \r\nz\r\n\" style=\"fill:#ffffff;\"/>\r\n  </g>\r\n  <g id=\"axes_1\">\r\n   <g id=\"patch_2\">\r\n    <path d=\"M 46.964375 307.78 \r\nL 344.347483 307.78 \r\nL 344.347483 7.2 \r\nL 46.964375 7.2 \r\nz\r\n\" style=\"fill:#eaeaf2;\"/>\r\n   </g>\r\n   <g id=\"matplotlib.axis_1\">\r\n    <g id=\"xtick_1\">\r\n     <g id=\"text_1\">\r\n      <!-- male -->\r\n      <defs>\r\n       <path d=\"M 6.59375 0 \r\nL 6.59375 51.859375 \r\nL 14.453125 51.859375 \r\nL 14.453125 44.578125 \r\nQ 16.890625 48.390625 20.9375 50.703125 \r\nQ 25 53.03125 30.171875 53.03125 \r\nQ 35.9375 53.03125 39.625 50.640625 \r\nQ 43.3125 48.25 44.828125 43.953125 \r\nQ 50.984375 53.03125 60.84375 53.03125 \r\nQ 68.5625 53.03125 72.703125 48.75 \r\nQ 76.859375 44.484375 76.859375 35.59375 \r\nL 76.859375 0 \r\nL 68.109375 0 \r\nL 68.109375 32.671875 \r\nQ 68.109375 37.9375 67.25 40.25 \r\nQ 66.40625 42.578125 64.15625 43.984375 \r\nQ 61.921875 45.40625 58.890625 45.40625 \r\nQ 53.421875 45.40625 49.796875 41.765625 \r\nQ 46.1875 38.140625 46.1875 30.125 \r\nL 46.1875 0 \r\nL 37.40625 0 \r\nL 37.40625 33.6875 \r\nQ 37.40625 39.546875 35.25 42.46875 \r\nQ 33.109375 45.40625 28.21875 45.40625 \r\nQ 24.515625 45.40625 21.359375 43.453125 \r\nQ 18.21875 41.5 16.796875 37.734375 \r\nQ 15.375 33.984375 15.375 26.90625 \r\nL 15.375 0 \r\nz\r\n\" id=\"ArialMT-109\"/>\r\n       <path d=\"M 40.4375 6.390625 \r\nQ 35.546875 2.25 31.03125 0.53125 \r\nQ 26.515625 -1.171875 21.34375 -1.171875 \r\nQ 12.796875 -1.171875 8.203125 3 \r\nQ 3.609375 7.171875 3.609375 13.671875 \r\nQ 3.609375 17.484375 5.34375 20.625 \r\nQ 7.078125 23.78125 9.890625 25.6875 \r\nQ 12.703125 27.59375 16.21875 28.5625 \r\nQ 18.796875 29.25 24.03125 29.890625 \r\nQ 34.671875 31.15625 39.703125 32.90625 \r\nQ 39.75 34.71875 39.75 35.203125 \r\nQ 39.75 40.578125 37.25 42.78125 \r\nQ 33.890625 45.75 27.25 45.75 \r\nQ 21.046875 45.75 18.09375 43.578125 \r\nQ 15.140625 41.40625 13.71875 35.890625 \r\nL 5.125 37.0625 \r\nQ 6.296875 42.578125 8.984375 45.96875 \r\nQ 11.671875 49.359375 16.75 51.1875 \r\nQ 21.828125 53.03125 28.515625 53.03125 \r\nQ 35.15625 53.03125 39.296875 51.46875 \r\nQ 43.453125 49.90625 45.40625 47.53125 \r\nQ 47.359375 45.171875 48.140625 41.546875 \r\nQ 48.578125 39.3125 48.578125 33.453125 \r\nL 48.578125 21.734375 \r\nQ 48.578125 9.46875 49.140625 6.21875 \r\nQ 49.703125 2.984375 51.375 0 \r\nL 42.1875 0 \r\nQ 40.828125 2.734375 40.4375 6.390625 \r\nz\r\nM 39.703125 26.03125 \r\nQ 34.90625 24.078125 25.34375 22.703125 \r\nQ 19.921875 21.921875 17.671875 20.9375 \r\nQ 15.4375 19.96875 14.203125 18.09375 \r\nQ 12.984375 16.21875 12.984375 13.921875 \r\nQ 12.984375 10.40625 15.640625 8.0625 \r\nQ 18.3125 5.71875 23.4375 5.71875 \r\nQ 28.515625 5.71875 32.46875 7.9375 \r\nQ 36.421875 10.15625 38.28125 14.015625 \r\nQ 39.703125 17 39.703125 22.796875 \r\nz\r\n\" id=\"ArialMT-97\"/>\r\n       <path d=\"M 6.390625 0 \r\nL 6.390625 71.578125 \r\nL 15.1875 71.578125 \r\nL 15.1875 0 \r\nz\r\n\" id=\"ArialMT-108\"/>\r\n       <path d=\"M 42.09375 16.703125 \r\nL 51.171875 15.578125 \r\nQ 49.03125 7.625 43.21875 3.21875 \r\nQ 37.40625 -1.171875 28.375 -1.171875 \r\nQ 17 -1.171875 10.328125 5.828125 \r\nQ 3.65625 12.84375 3.65625 25.484375 \r\nQ 3.65625 38.578125 10.390625 45.796875 \r\nQ 17.140625 53.03125 27.875 53.03125 \r\nQ 38.28125 53.03125 44.875 45.953125 \r\nQ 51.46875 38.875 51.46875 26.03125 \r\nQ 51.46875 25.25 51.421875 23.6875 \r\nL 12.75 23.6875 \r\nQ 13.234375 15.140625 17.578125 10.59375 \r\nQ 21.921875 6.0625 28.421875 6.0625 \r\nQ 33.25 6.0625 36.671875 8.59375 \r\nQ 40.09375 11.140625 42.09375 16.703125 \r\nz\r\nM 13.234375 30.90625 \r\nL 42.1875 30.90625 \r\nQ 41.609375 37.453125 38.875 40.71875 \r\nQ 34.671875 45.796875 27.984375 45.796875 \r\nQ 21.921875 45.796875 17.796875 41.75 \r\nQ 13.671875 37.703125 13.234375 30.90625 \r\nz\r\n\" id=\"ArialMT-101\"/>\r\n      </defs>\r\n      <g style=\"fill:#262626;\" transform=\"translate(109.389761 325.153594)scale(0.11 -0.11)\">\r\n       <use xlink:href=\"#ArialMT-109\"/>\r\n       <use x=\"83.300781\" xlink:href=\"#ArialMT-97\"/>\r\n       <use x=\"138.916016\" xlink:href=\"#ArialMT-108\"/>\r\n       <use x=\"161.132812\" xlink:href=\"#ArialMT-101\"/>\r\n      </g>\r\n     </g>\r\n    </g>\r\n    <g id=\"xtick_2\">\r\n     <g id=\"text_2\">\r\n      <!-- female -->\r\n      <defs>\r\n       <path d=\"M 8.6875 0 \r\nL 8.6875 45.015625 \r\nL 0.921875 45.015625 \r\nL 0.921875 51.859375 \r\nL 8.6875 51.859375 \r\nL 8.6875 57.375 \r\nQ 8.6875 62.59375 9.625 65.140625 \r\nQ 10.890625 68.5625 14.078125 70.671875 \r\nQ 17.28125 72.796875 23.046875 72.796875 \r\nQ 26.765625 72.796875 31.25 71.921875 \r\nL 29.9375 64.265625 \r\nQ 27.203125 64.75 24.75 64.75 \r\nQ 20.75 64.75 19.09375 63.03125 \r\nQ 17.4375 61.328125 17.4375 56.640625 \r\nL 17.4375 51.859375 \r\nL 27.546875 51.859375 \r\nL 27.546875 45.015625 \r\nL 17.4375 45.015625 \r\nL 17.4375 0 \r\nz\r\n\" id=\"ArialMT-102\"/>\r\n      </defs>\r\n      <g style=\"fill:#262626;\" transform=\"translate(253.494831 325.153594)scale(0.11 -0.11)\">\r\n       <use xlink:href=\"#ArialMT-102\"/>\r\n       <use x=\"27.783203\" xlink:href=\"#ArialMT-101\"/>\r\n       <use x=\"83.398438\" xlink:href=\"#ArialMT-109\"/>\r\n       <use x=\"166.699219\" xlink:href=\"#ArialMT-97\"/>\r\n       <use x=\"222.314453\" xlink:href=\"#ArialMT-108\"/>\r\n       <use x=\"244.53125\" xlink:href=\"#ArialMT-101\"/>\r\n      </g>\r\n     </g>\r\n    </g>\r\n    <g id=\"text_3\">\r\n     <!-- Sex -->\r\n     <defs>\r\n      <path d=\"M 4.5 23 \r\nL 13.421875 23.78125 \r\nQ 14.0625 18.40625 16.375 14.96875 \r\nQ 18.703125 11.53125 23.578125 9.40625 \r\nQ 28.46875 7.28125 34.578125 7.28125 \r\nQ 39.984375 7.28125 44.140625 8.890625 \r\nQ 48.296875 10.5 50.3125 13.296875 \r\nQ 52.34375 16.109375 52.34375 19.4375 \r\nQ 52.34375 22.796875 50.390625 25.3125 \r\nQ 48.4375 27.828125 43.953125 29.546875 \r\nQ 41.0625 30.671875 31.203125 33.03125 \r\nQ 21.34375 35.40625 17.390625 37.5 \r\nQ 12.25 40.1875 9.734375 44.15625 \r\nQ 7.234375 48.140625 7.234375 53.078125 \r\nQ 7.234375 58.5 10.296875 63.203125 \r\nQ 13.375 67.921875 19.28125 70.359375 \r\nQ 25.203125 72.796875 32.421875 72.796875 \r\nQ 40.375 72.796875 46.453125 70.234375 \r\nQ 52.546875 67.671875 55.8125 62.6875 \r\nQ 59.078125 57.71875 59.328125 51.421875 \r\nL 50.25 50.734375 \r\nQ 49.515625 57.515625 45.28125 60.984375 \r\nQ 41.0625 64.453125 32.8125 64.453125 \r\nQ 24.21875 64.453125 20.28125 61.296875 \r\nQ 16.359375 58.15625 16.359375 53.71875 \r\nQ 16.359375 49.859375 19.140625 47.359375 \r\nQ 21.875 44.875 33.421875 42.265625 \r\nQ 44.96875 39.65625 49.265625 37.703125 \r\nQ 55.515625 34.8125 58.484375 30.390625 \r\nQ 61.46875 25.984375 61.46875 20.21875 \r\nQ 61.46875 14.5 58.203125 9.4375 \r\nQ 54.9375 4.390625 48.796875 1.578125 \r\nQ 42.671875 -1.21875 35.015625 -1.21875 \r\nQ 25.296875 -1.21875 18.71875 1.609375 \r\nQ 12.15625 4.4375 8.421875 10.125 \r\nQ 4.6875 15.828125 4.5 23 \r\nz\r\n\" id=\"ArialMT-83\"/>\r\n      <path d=\"M 0.734375 0 \r\nL 19.671875 26.953125 \r\nL 2.15625 51.859375 \r\nL 13.140625 51.859375 \r\nL 21.09375 39.703125 \r\nQ 23.34375 36.234375 24.703125 33.890625 \r\nQ 26.859375 37.109375 28.65625 39.59375 \r\nL 37.40625 51.859375 \r\nL 47.90625 51.859375 \r\nL 29.984375 27.4375 \r\nL 49.265625 0 \r\nL 38.484375 0 \r\nL 27.828125 16.109375 \r\nL 25 20.453125 \r\nL 11.375 0 \r\nz\r\n\" id=\"ArialMT-120\"/>\r\n     </defs>\r\n     <g style=\"fill:#262626;\" transform=\"translate(185.317179 339.929219)scale(0.12 -0.12)\">\r\n      <use xlink:href=\"#ArialMT-83\"/>\r\n      <use x=\"66.699219\" xlink:href=\"#ArialMT-101\"/>\r\n      <use x=\"122.314453\" xlink:href=\"#ArialMT-120\"/>\r\n     </g>\r\n    </g>\r\n   </g>\r\n   <g id=\"matplotlib.axis_2\">\r\n    <g id=\"ytick_1\">\r\n     <g id=\"line2d_1\">\r\n      <path clip-path=\"url(#p1b72bb3742)\" d=\"M 46.964375 259.339421 \r\nL 344.347483 259.339421 \r\n\" style=\"fill:none;stroke:#ffffff;stroke-linecap:round;\"/>\r\n     </g>\r\n     <g id=\"text_4\">\r\n      <!-- 0.2 -->\r\n      <defs>\r\n       <path d=\"M 4.15625 35.296875 \r\nQ 4.15625 48 6.765625 55.734375 \r\nQ 9.375 63.484375 14.515625 67.671875 \r\nQ 19.671875 71.875 27.484375 71.875 \r\nQ 33.25 71.875 37.59375 69.546875 \r\nQ 41.9375 67.234375 44.765625 62.859375 \r\nQ 47.609375 58.5 49.21875 52.21875 \r\nQ 50.828125 45.953125 50.828125 35.296875 \r\nQ 50.828125 22.703125 48.234375 14.96875 \r\nQ 45.65625 7.234375 40.5 3 \r\nQ 35.359375 -1.21875 27.484375 -1.21875 \r\nQ 17.140625 -1.21875 11.234375 6.203125 \r\nQ 4.15625 15.140625 4.15625 35.296875 \r\nz\r\nM 13.1875 35.296875 \r\nQ 13.1875 17.671875 17.3125 11.828125 \r\nQ 21.4375 6 27.484375 6 \r\nQ 33.546875 6 37.671875 11.859375 \r\nQ 41.796875 17.71875 41.796875 35.296875 \r\nQ 41.796875 52.984375 37.671875 58.78125 \r\nQ 33.546875 64.59375 27.390625 64.59375 \r\nQ 21.34375 64.59375 17.71875 59.46875 \r\nQ 13.1875 52.9375 13.1875 35.296875 \r\nz\r\n\" id=\"ArialMT-48\"/>\r\n       <path d=\"M 9.078125 0 \r\nL 9.078125 10.015625 \r\nL 19.09375 10.015625 \r\nL 19.09375 0 \r\nz\r\n\" id=\"ArialMT-46\"/>\r\n       <path d=\"M 50.34375 8.453125 \r\nL 50.34375 0 \r\nL 3.03125 0 \r\nQ 2.9375 3.171875 4.046875 6.109375 \r\nQ 5.859375 10.9375 9.828125 15.625 \r\nQ 13.8125 20.3125 21.34375 26.46875 \r\nQ 33.015625 36.03125 37.109375 41.625 \r\nQ 41.21875 47.21875 41.21875 52.203125 \r\nQ 41.21875 57.421875 37.46875 61 \r\nQ 33.734375 64.59375 27.734375 64.59375 \r\nQ 21.390625 64.59375 17.578125 60.78125 \r\nQ 13.765625 56.984375 13.71875 50.25 \r\nL 4.6875 51.171875 \r\nQ 5.609375 61.28125 11.65625 66.578125 \r\nQ 17.71875 71.875 27.9375 71.875 \r\nQ 38.234375 71.875 44.234375 66.15625 \r\nQ 50.25 60.453125 50.25 52 \r\nQ 50.25 47.703125 48.484375 43.546875 \r\nQ 46.734375 39.40625 42.65625 34.8125 \r\nQ 38.578125 30.21875 29.109375 22.21875 \r\nQ 21.1875 15.578125 18.9375 13.203125 \r\nQ 16.703125 10.84375 15.234375 8.453125 \r\nz\r\n\" id=\"ArialMT-50\"/>\r\n      </defs>\r\n      <g style=\"fill:#262626;\" transform=\"translate(22.174375 263.276218)scale(0.11 -0.11)\">\r\n       <use xlink:href=\"#ArialMT-48\"/>\r\n       <use x=\"55.615234\" xlink:href=\"#ArialMT-46\"/>\r\n       <use x=\"83.398438\" xlink:href=\"#ArialMT-50\"/>\r\n      </g>\r\n     </g>\r\n    </g>\r\n    <g id=\"ytick_2\">\r\n     <g id=\"line2d_2\">\r\n      <path clip-path=\"url(#p1b72bb3742)\" d=\"M 46.964375 199.720248 \r\nL 344.347483 199.720248 \r\n\" style=\"fill:none;stroke:#ffffff;stroke-linecap:round;\"/>\r\n     </g>\r\n     <g id=\"text_5\">\r\n      <!-- 0.4 -->\r\n      <defs>\r\n       <path d=\"M 32.328125 0 \r\nL 32.328125 17.140625 \r\nL 1.265625 17.140625 \r\nL 1.265625 25.203125 \r\nL 33.9375 71.578125 \r\nL 41.109375 71.578125 \r\nL 41.109375 25.203125 \r\nL 50.78125 25.203125 \r\nL 50.78125 17.140625 \r\nL 41.109375 17.140625 \r\nL 41.109375 0 \r\nz\r\nM 32.328125 25.203125 \r\nL 32.328125 57.46875 \r\nL 9.90625 25.203125 \r\nz\r\n\" id=\"ArialMT-52\"/>\r\n      </defs>\r\n      <g style=\"fill:#262626;\" transform=\"translate(22.174375 203.657045)scale(0.11 -0.11)\">\r\n       <use xlink:href=\"#ArialMT-48\"/>\r\n       <use x=\"55.615234\" xlink:href=\"#ArialMT-46\"/>\r\n       <use x=\"83.398438\" xlink:href=\"#ArialMT-52\"/>\r\n      </g>\r\n     </g>\r\n    </g>\r\n    <g id=\"ytick_3\">\r\n     <g id=\"line2d_3\">\r\n      <path clip-path=\"url(#p1b72bb3742)\" d=\"M 46.964375 140.101074 \r\nL 344.347483 140.101074 \r\n\" style=\"fill:none;stroke:#ffffff;stroke-linecap:round;\"/>\r\n     </g>\r\n     <g id=\"text_6\">\r\n      <!-- 0.6 -->\r\n      <defs>\r\n       <path d=\"M 49.75 54.046875 \r\nL 41.015625 53.375 \r\nQ 39.84375 58.546875 37.703125 60.890625 \r\nQ 34.125 64.65625 28.90625 64.65625 \r\nQ 24.703125 64.65625 21.53125 62.3125 \r\nQ 17.390625 59.28125 14.984375 53.46875 \r\nQ 12.59375 47.65625 12.5 36.921875 \r\nQ 15.671875 41.75 20.265625 44.09375 \r\nQ 24.859375 46.4375 29.890625 46.4375 \r\nQ 38.671875 46.4375 44.84375 39.96875 \r\nQ 51.03125 33.5 51.03125 23.25 \r\nQ 51.03125 16.5 48.125 10.71875 \r\nQ 45.21875 4.9375 40.140625 1.859375 \r\nQ 35.0625 -1.21875 28.609375 -1.21875 \r\nQ 17.625 -1.21875 10.6875 6.859375 \r\nQ 3.765625 14.9375 3.765625 33.5 \r\nQ 3.765625 54.25 11.421875 63.671875 \r\nQ 18.109375 71.875 29.4375 71.875 \r\nQ 37.890625 71.875 43.28125 67.140625 \r\nQ 48.6875 62.40625 49.75 54.046875 \r\nz\r\nM 13.875 23.1875 \r\nQ 13.875 18.65625 15.796875 14.5 \r\nQ 17.71875 10.359375 21.1875 8.171875 \r\nQ 24.65625 6 28.46875 6 \r\nQ 34.03125 6 38.03125 10.484375 \r\nQ 42.046875 14.984375 42.046875 22.703125 \r\nQ 42.046875 30.125 38.078125 34.390625 \r\nQ 34.125 38.671875 28.125 38.671875 \r\nQ 22.171875 38.671875 18.015625 34.390625 \r\nQ 13.875 30.125 13.875 23.1875 \r\nz\r\n\" id=\"ArialMT-54\"/>\r\n      </defs>\r\n      <g style=\"fill:#262626;\" transform=\"translate(22.174375 144.037871)scale(0.11 -0.11)\">\r\n       <use xlink:href=\"#ArialMT-48\"/>\r\n       <use x=\"55.615234\" xlink:href=\"#ArialMT-46\"/>\r\n       <use x=\"83.398438\" xlink:href=\"#ArialMT-54\"/>\r\n      </g>\r\n     </g>\r\n    </g>\r\n    <g id=\"ytick_4\">\r\n     <g id=\"line2d_4\">\r\n      <path clip-path=\"url(#p1b72bb3742)\" d=\"M 46.964375 80.481901 \r\nL 344.347483 80.481901 \r\n\" style=\"fill:none;stroke:#ffffff;stroke-linecap:round;\"/>\r\n     </g>\r\n     <g id=\"text_7\">\r\n      <!-- 0.8 -->\r\n      <defs>\r\n       <path d=\"M 17.671875 38.8125 \r\nQ 12.203125 40.828125 9.5625 44.53125 \r\nQ 6.9375 48.25 6.9375 53.421875 \r\nQ 6.9375 61.234375 12.546875 66.546875 \r\nQ 18.171875 71.875 27.484375 71.875 \r\nQ 36.859375 71.875 42.578125 66.421875 \r\nQ 48.296875 60.984375 48.296875 53.171875 \r\nQ 48.296875 48.1875 45.671875 44.5 \r\nQ 43.0625 40.828125 37.75 38.8125 \r\nQ 44.34375 36.671875 47.78125 31.875 \r\nQ 51.21875 27.09375 51.21875 20.453125 \r\nQ 51.21875 11.28125 44.71875 5.03125 \r\nQ 38.234375 -1.21875 27.640625 -1.21875 \r\nQ 17.046875 -1.21875 10.546875 5.046875 \r\nQ 4.046875 11.328125 4.046875 20.703125 \r\nQ 4.046875 27.6875 7.59375 32.390625 \r\nQ 11.140625 37.109375 17.671875 38.8125 \r\nz\r\nM 15.921875 53.71875 \r\nQ 15.921875 48.640625 19.1875 45.40625 \r\nQ 22.46875 42.1875 27.6875 42.1875 \r\nQ 32.765625 42.1875 36.015625 45.375 \r\nQ 39.265625 48.578125 39.265625 53.21875 \r\nQ 39.265625 58.0625 35.90625 61.359375 \r\nQ 32.5625 64.65625 27.59375 64.65625 \r\nQ 22.5625 64.65625 19.234375 61.421875 \r\nQ 15.921875 58.203125 15.921875 53.71875 \r\nz\r\nM 13.09375 20.65625 \r\nQ 13.09375 16.890625 14.875 13.375 \r\nQ 16.65625 9.859375 20.171875 7.921875 \r\nQ 23.6875 6 27.734375 6 \r\nQ 34.03125 6 38.125 10.046875 \r\nQ 42.234375 14.109375 42.234375 20.359375 \r\nQ 42.234375 26.703125 38.015625 30.859375 \r\nQ 33.796875 35.015625 27.4375 35.015625 \r\nQ 21.234375 35.015625 17.15625 30.90625 \r\nQ 13.09375 26.8125 13.09375 20.65625 \r\nz\r\n\" id=\"ArialMT-56\"/>\r\n      </defs>\r\n      <g style=\"fill:#262626;\" transform=\"translate(22.174375 84.418698)scale(0.11 -0.11)\">\r\n       <use xlink:href=\"#ArialMT-48\"/>\r\n       <use x=\"55.615234\" xlink:href=\"#ArialMT-46\"/>\r\n       <use x=\"83.398438\" xlink:href=\"#ArialMT-56\"/>\r\n      </g>\r\n     </g>\r\n    </g>\r\n    <g id=\"ytick_5\">\r\n     <g id=\"line2d_5\">\r\n      <path clip-path=\"url(#p1b72bb3742)\" d=\"M 46.964375 20.862727 \r\nL 344.347483 20.862727 \r\n\" style=\"fill:none;stroke:#ffffff;stroke-linecap:round;\"/>\r\n     </g>\r\n     <g id=\"text_8\">\r\n      <!-- 1.0 -->\r\n      <defs>\r\n       <path d=\"M 37.25 0 \r\nL 28.46875 0 \r\nL 28.46875 56 \r\nQ 25.296875 52.984375 20.140625 49.953125 \r\nQ 14.984375 46.921875 10.890625 45.40625 \r\nL 10.890625 53.90625 \r\nQ 18.265625 57.375 23.78125 62.296875 \r\nQ 29.296875 67.234375 31.59375 71.875 \r\nL 37.25 71.875 \r\nz\r\n\" id=\"ArialMT-49\"/>\r\n      </defs>\r\n      <g style=\"fill:#262626;\" transform=\"translate(22.174375 24.799524)scale(0.11 -0.11)\">\r\n       <use xlink:href=\"#ArialMT-49\"/>\r\n       <use x=\"55.615234\" xlink:href=\"#ArialMT-46\"/>\r\n       <use x=\"83.398438\" xlink:href=\"#ArialMT-48\"/>\r\n      </g>\r\n     </g>\r\n    </g>\r\n    <g id=\"text_9\">\r\n     <!-- Survived -->\r\n     <defs>\r\n      <path d=\"M 40.578125 0 \r\nL 40.578125 7.625 \r\nQ 34.515625 -1.171875 24.125 -1.171875 \r\nQ 19.53125 -1.171875 15.546875 0.578125 \r\nQ 11.578125 2.34375 9.640625 5 \r\nQ 7.71875 7.671875 6.9375 11.53125 \r\nQ 6.390625 14.109375 6.390625 19.734375 \r\nL 6.390625 51.859375 \r\nL 15.1875 51.859375 \r\nL 15.1875 23.09375 \r\nQ 15.1875 16.21875 15.71875 13.8125 \r\nQ 16.546875 10.359375 19.234375 8.375 \r\nQ 21.921875 6.390625 25.875 6.390625 \r\nQ 29.828125 6.390625 33.296875 8.421875 \r\nQ 36.765625 10.453125 38.203125 13.9375 \r\nQ 39.65625 17.4375 39.65625 24.078125 \r\nL 39.65625 51.859375 \r\nL 48.4375 51.859375 \r\nL 48.4375 0 \r\nz\r\n\" id=\"ArialMT-117\"/>\r\n      <path d=\"M 6.5 0 \r\nL 6.5 51.859375 \r\nL 14.40625 51.859375 \r\nL 14.40625 44 \r\nQ 17.4375 49.515625 20 51.265625 \r\nQ 22.5625 53.03125 25.640625 53.03125 \r\nQ 30.078125 53.03125 34.671875 50.203125 \r\nL 31.640625 42.046875 \r\nQ 28.421875 43.953125 25.203125 43.953125 \r\nQ 22.3125 43.953125 20.015625 42.21875 \r\nQ 17.71875 40.484375 16.75 37.40625 \r\nQ 15.28125 32.71875 15.28125 27.15625 \r\nL 15.28125 0 \r\nz\r\n\" id=\"ArialMT-114\"/>\r\n      <path d=\"M 21 0 \r\nL 1.265625 51.859375 \r\nL 10.546875 51.859375 \r\nL 21.6875 20.796875 \r\nQ 23.484375 15.765625 25 10.359375 \r\nQ 26.171875 14.453125 28.265625 20.21875 \r\nL 39.796875 51.859375 \r\nL 48.828125 51.859375 \r\nL 29.203125 0 \r\nz\r\n\" id=\"ArialMT-118\"/>\r\n      <path d=\"M 6.640625 61.46875 \r\nL 6.640625 71.578125 \r\nL 15.4375 71.578125 \r\nL 15.4375 61.46875 \r\nz\r\nM 6.640625 0 \r\nL 6.640625 51.859375 \r\nL 15.4375 51.859375 \r\nL 15.4375 0 \r\nz\r\n\" id=\"ArialMT-105\"/>\r\n      <path d=\"M 40.234375 0 \r\nL 40.234375 6.546875 \r\nQ 35.296875 -1.171875 25.734375 -1.171875 \r\nQ 19.53125 -1.171875 14.328125 2.25 \r\nQ 9.125 5.671875 6.265625 11.796875 \r\nQ 3.421875 17.921875 3.421875 25.875 \r\nQ 3.421875 33.640625 6 39.96875 \r\nQ 8.59375 46.296875 13.765625 49.65625 \r\nQ 18.953125 53.03125 25.34375 53.03125 \r\nQ 30.03125 53.03125 33.6875 51.046875 \r\nQ 37.359375 49.078125 39.65625 45.90625 \r\nL 39.65625 71.578125 \r\nL 48.390625 71.578125 \r\nL 48.390625 0 \r\nz\r\nM 12.453125 25.875 \r\nQ 12.453125 15.921875 16.640625 10.984375 \r\nQ 20.84375 6.0625 26.5625 6.0625 \r\nQ 32.328125 6.0625 36.34375 10.765625 \r\nQ 40.375 15.484375 40.375 25.140625 \r\nQ 40.375 35.796875 36.265625 40.765625 \r\nQ 32.171875 45.75 26.171875 45.75 \r\nQ 20.3125 45.75 16.375 40.96875 \r\nQ 12.453125 36.1875 12.453125 25.875 \r\nz\r\n\" id=\"ArialMT-100\"/>\r\n     </defs>\r\n     <g style=\"fill:#262626;\" transform=\"translate(15.789375 180.832812)rotate(-90)scale(0.12 -0.12)\">\r\n      <use xlink:href=\"#ArialMT-83\"/>\r\n      <use x=\"66.699219\" xlink:href=\"#ArialMT-117\"/>\r\n      <use x=\"122.314453\" xlink:href=\"#ArialMT-114\"/>\r\n      <use x=\"155.615234\" xlink:href=\"#ArialMT-118\"/>\r\n      <use x=\"205.615234\" xlink:href=\"#ArialMT-105\"/>\r\n      <use x=\"227.832031\" xlink:href=\"#ArialMT-118\"/>\r\n      <use x=\"277.832031\" xlink:href=\"#ArialMT-101\"/>\r\n      <use x=\"333.447266\" xlink:href=\"#ArialMT-100\"/>\r\n     </g>\r\n    </g>\r\n   </g>\r\n   <g id=\"PathCollection_1\">\r\n    <defs>\r\n     <path d=\"M 0 3.383948 \r\nC 0.897434 3.383948 1.758231 3.027394 2.392813 2.392813 \r\nC 3.027394 1.758231 3.383948 0.897434 3.383948 0 \r\nC 3.383948 -0.897434 3.027394 -1.758231 2.392813 -2.392813 \r\nC 1.758231 -3.027394 0.897434 -3.383948 0 -3.383948 \r\nC -0.897434 -3.383948 -1.758231 -3.027394 -2.392813 -2.392813 \r\nC -3.027394 -1.758231 -3.383948 -0.897434 -3.383948 0 \r\nC -3.383948 0.897434 -3.027394 1.758231 -2.392813 2.392813 \r\nC -1.758231 3.027394 -0.897434 3.383948 0 3.383948 \r\nz\r\n\" id=\"mbdd0da6a87\" style=\"stroke:#4c72b0;stroke-width:2.025;\"/>\r\n    </defs>\r\n    <g clip-path=\"url(#p1b72bb3742)\">\r\n     <use style=\"fill:#4c72b0;stroke:#4c72b0;stroke-width:2.025;\" x=\"121.310152\" xlink:href=\"#mbdd0da6a87\" y=\"209.005201\"/>\r\n     <use style=\"fill:#4c72b0;stroke:#4c72b0;stroke-width:2.025;\" x=\"270.001706\" xlink:href=\"#mbdd0da6a87\" y=\"30.583245\"/>\r\n    </g>\r\n   </g>\r\n   <g id=\"line2d_6\">\r\n    <path clip-path=\"url(#p1b72bb3742)\" d=\"M 121.310152 209.005201 \r\nL 270.001706 30.583245 \r\n\" style=\"fill:none;stroke:#4c72b0;stroke-linecap:round;stroke-width:2.7;\"/>\r\n   </g>\r\n   <g id=\"line2d_7\">\r\n    <path clip-path=\"url(#p1b72bb3742)\" d=\"M 121.310152 235.882697 \r\nL 121.310152 182.127705 \r\n\" style=\"fill:none;stroke:#4c72b0;stroke-linecap:round;stroke-width:2.7;\"/>\r\n   </g>\r\n   <g id=\"line2d_8\">\r\n    <path clip-path=\"url(#p1b72bb3742)\" d=\"M 270.001706 43.543935 \r\nL 270.001706 20.862727 \r\n\" style=\"fill:none;stroke:#4c72b0;stroke-linecap:round;stroke-width:2.7;\"/>\r\n   </g>\r\n   <g id=\"PathCollection_2\">\r\n    <defs>\r\n     <path d=\"M 0 3.383948 \r\nC 0.897434 3.383948 1.758231 3.027394 2.392813 2.392813 \r\nC 3.027394 1.758231 3.383948 0.897434 3.383948 0 \r\nC 3.383948 -0.897434 3.027394 -1.758231 2.392813 -2.392813 \r\nC 1.758231 -3.027394 0.897434 -3.383948 0 -3.383948 \r\nC -0.897434 -3.383948 -1.758231 -3.027394 -2.392813 -2.392813 \r\nC -3.027394 -1.758231 -3.383948 -0.897434 -3.383948 0 \r\nC -3.383948 0.897434 -3.027394 1.758231 -2.392813 2.392813 \r\nC -1.758231 3.027394 -0.897434 3.383948 0 3.383948 \r\nz\r\n\" id=\"maf731bac2f\" style=\"stroke:#dd8452;stroke-width:2.025;\"/>\r\n    </defs>\r\n    <g clip-path=\"url(#p1b72bb3742)\">\r\n     <use style=\"fill:#dd8452;stroke:#dd8452;stroke-width:2.025;\" x=\"121.310152\" xlink:href=\"#maf731bac2f\" y=\"272.036097\"/>\r\n     <use style=\"fill:#dd8452;stroke:#dd8452;stroke-width:2.025;\" x=\"270.001706\" xlink:href=\"#maf731bac2f\" y=\"44.396612\"/>\r\n    </g>\r\n   </g>\r\n   <g id=\"line2d_9\">\r\n    <path clip-path=\"url(#p1b72bb3742)\" d=\"M 121.310152 272.036097 \r\nL 270.001706 44.396612 \r\n\" style=\"fill:none;stroke:#dd8452;stroke-linecap:round;stroke-width:2.7;\"/>\r\n   </g>\r\n   <g id=\"line2d_10\">\r\n    <path clip-path=\"url(#p1b72bb3742)\" d=\"M 121.310152 294.117273 \r\nL 121.310152 252.715069 \r\n\" style=\"fill:none;stroke:#dd8452;stroke-linecap:round;stroke-width:2.7;\"/>\r\n   </g>\r\n   <g id=\"line2d_11\">\r\n    <path clip-path=\"url(#p1b72bb3742)\" d=\"M 270.001706 64.008182 \r\nL 270.001706 28.707355 \r\n\" style=\"fill:none;stroke:#dd8452;stroke-linecap:round;stroke-width:2.7;\"/>\r\n   </g>\r\n   <g id=\"patch_3\">\r\n    <path d=\"M 46.964375 307.78 \r\nL 46.964375 7.2 \r\n\" style=\"fill:none;stroke:#ffffff;stroke-linecap:square;stroke-linejoin:miter;stroke-width:1.25;\"/>\r\n   </g>\r\n   <g id=\"patch_4\">\r\n    <path d=\"M 46.964375 307.78 \r\nL 344.347483 307.78 \r\n\" style=\"fill:none;stroke:#ffffff;stroke-linecap:square;stroke-linejoin:miter;stroke-width:1.25;\"/>\r\n   </g>\r\n   <g id=\"PathCollection_3\">\r\n    <defs>\r\n     <path d=\"M 0 3.383948 \r\nC 0.897434 3.383948 1.758231 3.027394 2.392813 2.392813 \r\nC 3.027394 1.758231 3.383948 0.897434 3.383948 0 \r\nC 3.383948 -0.897434 3.027394 -1.758231 2.392813 -2.392813 \r\nC 1.758231 -3.027394 0.897434 -3.383948 0 -3.383948 \r\nC -0.897434 -3.383948 -1.758231 -3.027394 -2.392813 -2.392813 \r\nC -3.027394 -1.758231 -3.383948 -0.897434 -3.383948 0 \r\nC -3.383948 0.897434 -3.027394 1.758231 -2.392813 2.392813 \r\nC -1.758231 3.027394 -0.897434 3.383948 0 3.383948 \r\nz\r\n\" id=\"meffc4df44b\" style=\"stroke:#55a868;stroke-width:2.025;\"/>\r\n    </defs>\r\n    <g clip-path=\"url(#p1b72bb3742)\">\r\n     <use style=\"fill:#55a868;stroke:#55a868;stroke-width:2.025;\" x=\"121.310152\" xlink:href=\"#meffc4df44b\" y=\"278.582498\"/>\r\n     <use style=\"fill:#55a868;stroke:#55a868;stroke-width:2.025;\" x=\"270.001706\" xlink:href=\"#meffc4df44b\" y=\"169.910661\"/>\r\n    </g>\r\n   </g>\r\n   <g id=\"line2d_12\">\r\n    <path clip-path=\"url(#p1b72bb3742)\" d=\"M 121.310152 278.582498 \r\nL 270.001706 169.910661 \r\n\" style=\"fill:none;stroke:#55a868;stroke-linecap:round;stroke-width:2.7;\"/>\r\n   </g>\r\n   <g id=\"line2d_13\">\r\n    <path clip-path=\"url(#p1b72bb3742)\" d=\"M 121.310152 288.891288 \r\nL 121.310152 267.414641 \r\n\" style=\"fill:none;stroke:#55a868;stroke-linecap:round;stroke-width:2.7;\"/>\r\n   </g>\r\n   <g id=\"line2d_14\">\r\n    <path clip-path=\"url(#p1b72bb3742)\" d=\"M 270.001706 194.751983 \r\nL 270.001706 145.069339 \r\n\" style=\"fill:none;stroke:#55a868;stroke-linecap:round;stroke-width:2.7;\"/>\r\n   </g>\r\n  </g>\r\n  <g id=\"legend_1\">\r\n   <g id=\"text_10\">\r\n    <!-- Pclass -->\r\n    <defs>\r\n     <path d=\"M 7.71875 0 \r\nL 7.71875 71.578125 \r\nL 34.71875 71.578125 \r\nQ 41.84375 71.578125 45.609375 70.90625 \r\nQ 50.875 70.015625 54.4375 67.546875 \r\nQ 58.015625 65.09375 60.1875 60.640625 \r\nQ 62.359375 56.203125 62.359375 50.875 \r\nQ 62.359375 41.75 56.546875 35.421875 \r\nQ 50.734375 29.109375 35.546875 29.109375 \r\nL 17.1875 29.109375 \r\nL 17.1875 0 \r\nz\r\nM 17.1875 37.546875 \r\nL 35.6875 37.546875 \r\nQ 44.875 37.546875 48.734375 40.96875 \r\nQ 52.59375 44.390625 52.59375 50.59375 \r\nQ 52.59375 55.078125 50.3125 58.265625 \r\nQ 48.046875 61.46875 44.34375 62.5 \r\nQ 41.9375 63.140625 35.5 63.140625 \r\nL 17.1875 63.140625 \r\nz\r\n\" id=\"ArialMT-80\"/>\r\n     <path d=\"M 40.4375 19 \r\nL 49.078125 17.875 \r\nQ 47.65625 8.9375 41.8125 3.875 \r\nQ 35.984375 -1.171875 27.484375 -1.171875 \r\nQ 16.84375 -1.171875 10.375 5.78125 \r\nQ 3.90625 12.75 3.90625 25.734375 \r\nQ 3.90625 34.125 6.6875 40.421875 \r\nQ 9.46875 46.734375 15.15625 49.875 \r\nQ 20.84375 53.03125 27.546875 53.03125 \r\nQ 35.984375 53.03125 41.359375 48.75 \r\nQ 46.734375 44.484375 48.25 36.625 \r\nL 39.703125 35.296875 \r\nQ 38.484375 40.53125 35.375 43.15625 \r\nQ 32.28125 45.796875 27.875 45.796875 \r\nQ 21.234375 45.796875 17.078125 41.03125 \r\nQ 12.9375 36.28125 12.9375 25.984375 \r\nQ 12.9375 15.53125 16.9375 10.796875 \r\nQ 20.953125 6.0625 27.390625 6.0625 \r\nQ 32.5625 6.0625 36.03125 9.234375 \r\nQ 39.5 12.40625 40.4375 19 \r\nz\r\n\" id=\"ArialMT-99\"/>\r\n     <path d=\"M 3.078125 15.484375 \r\nL 11.765625 16.84375 \r\nQ 12.5 11.625 15.84375 8.84375 \r\nQ 19.1875 6.0625 25.203125 6.0625 \r\nQ 31.25 6.0625 34.171875 8.515625 \r\nQ 37.109375 10.984375 37.109375 14.3125 \r\nQ 37.109375 17.28125 34.515625 19 \r\nQ 32.71875 20.171875 25.53125 21.96875 \r\nQ 15.875 24.421875 12.140625 26.203125 \r\nQ 8.40625 27.984375 6.46875 31.125 \r\nQ 4.546875 34.28125 4.546875 38.09375 \r\nQ 4.546875 41.546875 6.125 44.5 \r\nQ 7.71875 47.46875 10.453125 49.421875 \r\nQ 12.5 50.921875 16.03125 51.96875 \r\nQ 19.578125 53.03125 23.640625 53.03125 \r\nQ 29.734375 53.03125 34.34375 51.265625 \r\nQ 38.96875 49.515625 41.15625 46.5 \r\nQ 43.359375 43.5 44.1875 38.484375 \r\nL 35.59375 37.3125 \r\nQ 35.015625 41.3125 32.203125 43.546875 \r\nQ 29.390625 45.796875 24.265625 45.796875 \r\nQ 18.21875 45.796875 15.625 43.796875 \r\nQ 13.03125 41.796875 13.03125 39.109375 \r\nQ 13.03125 37.40625 14.109375 36.03125 \r\nQ 15.1875 34.625 17.484375 33.6875 \r\nQ 18.796875 33.203125 25.25 31.453125 \r\nQ 34.578125 28.953125 38.25 27.359375 \r\nQ 41.9375 25.78125 44.03125 22.75 \r\nQ 46.140625 19.734375 46.140625 15.234375 \r\nQ 46.140625 10.84375 43.578125 6.953125 \r\nQ 41.015625 3.078125 36.171875 0.953125 \r\nQ 31.34375 -1.171875 25.25 -1.171875 \r\nQ 15.140625 -1.171875 9.84375 3.03125 \r\nQ 4.546875 7.234375 3.078125 15.484375 \r\nz\r\n\" id=\"ArialMT-115\"/>\r\n    </defs>\r\n    <g style=\"fill:#262626;\" transform=\"translate(352.450124 154.054203)scale(0.102 -0.102)\">\r\n     <use xlink:href=\"#ArialMT-80\"/>\r\n     <use x=\"66.699219\" xlink:href=\"#ArialMT-99\"/>\r\n     <use x=\"116.699219\" xlink:href=\"#ArialMT-108\"/>\r\n     <use x=\"138.916016\" xlink:href=\"#ArialMT-97\"/>\r\n     <use x=\"194.53125\" xlink:href=\"#ArialMT-115\"/>\r\n     <use x=\"244.53125\" xlink:href=\"#ArialMT-115\"/>\r\n    </g>\r\n   </g>\r\n   <g id=\"PathCollection_4\">\r\n    <g>\r\n     <use style=\"fill:#4c72b0;stroke:#4c72b0;stroke-width:2.025;\" x=\"360.012702\" xlink:href=\"#mbdd0da6a87\" y=\"166.567547\"/>\r\n    </g>\r\n   </g>\r\n   <g id=\"text_11\">\r\n    <!-- 1 -->\r\n    <g style=\"fill:#262626;\" transform=\"translate(379.812702 169.455047)scale(0.11 -0.11)\">\r\n     <use xlink:href=\"#ArialMT-49\"/>\r\n    </g>\r\n   </g>\r\n   <g id=\"PathCollection_5\">\r\n    <g>\r\n     <use style=\"fill:#dd8452;stroke:#dd8452;stroke-width:2.025;\" x=\"360.012702\" xlink:href=\"#maf731bac2f\" y=\"182.127391\"/>\r\n    </g>\r\n   </g>\r\n   <g id=\"text_12\">\r\n    <!-- 2 -->\r\n    <g style=\"fill:#262626;\" transform=\"translate(379.812702 185.014891)scale(0.11 -0.11)\">\r\n     <use xlink:href=\"#ArialMT-50\"/>\r\n    </g>\r\n   </g>\r\n   <g id=\"PathCollection_6\">\r\n    <g>\r\n     <use style=\"fill:#55a868;stroke:#55a868;stroke-width:2.025;\" x=\"360.012702\" xlink:href=\"#meffc4df44b\" y=\"197.687234\"/>\r\n    </g>\r\n   </g>\r\n   <g id=\"text_13\">\r\n    <!-- 3 -->\r\n    <defs>\r\n     <path d=\"M 4.203125 18.890625 \r\nL 12.984375 20.0625 \r\nQ 14.5 12.59375 18.140625 9.296875 \r\nQ 21.78125 6 27 6 \r\nQ 33.203125 6 37.46875 10.296875 \r\nQ 41.75 14.59375 41.75 20.953125 \r\nQ 41.75 27 37.796875 30.921875 \r\nQ 33.84375 34.859375 27.734375 34.859375 \r\nQ 25.25 34.859375 21.53125 33.890625 \r\nL 22.515625 41.609375 \r\nQ 23.390625 41.5 23.921875 41.5 \r\nQ 29.546875 41.5 34.03125 44.421875 \r\nQ 38.53125 47.359375 38.53125 53.46875 \r\nQ 38.53125 58.296875 35.25 61.46875 \r\nQ 31.984375 64.65625 26.8125 64.65625 \r\nQ 21.6875 64.65625 18.265625 61.421875 \r\nQ 14.84375 58.203125 13.875 51.765625 \r\nL 5.078125 53.328125 \r\nQ 6.6875 62.15625 12.390625 67.015625 \r\nQ 18.109375 71.875 26.609375 71.875 \r\nQ 32.46875 71.875 37.390625 69.359375 \r\nQ 42.328125 66.84375 44.9375 62.5 \r\nQ 47.5625 58.15625 47.5625 53.265625 \r\nQ 47.5625 48.640625 45.0625 44.828125 \r\nQ 42.578125 41.015625 37.703125 38.765625 \r\nQ 44.046875 37.3125 47.5625 32.6875 \r\nQ 51.078125 28.078125 51.078125 21.140625 \r\nQ 51.078125 11.765625 44.234375 5.25 \r\nQ 37.40625 -1.265625 26.953125 -1.265625 \r\nQ 17.53125 -1.265625 11.296875 4.34375 \r\nQ 5.078125 9.96875 4.203125 18.890625 \r\nz\r\n\" id=\"ArialMT-51\"/>\r\n    </defs>\r\n    <g style=\"fill:#262626;\" transform=\"translate(379.812702 200.574734)scale(0.11 -0.11)\">\r\n     <use xlink:href=\"#ArialMT-51\"/>\r\n    </g>\r\n   </g>\r\n  </g>\r\n </g>\r\n <defs>\r\n  <clipPath id=\"p1b72bb3742\">\r\n   <rect height=\"300.58\" width=\"297.383108\" x=\"46.964375\" y=\"7.2\"/>\r\n  </clipPath>\r\n </defs>\r\n</svg>\r\n",
      "image/png": "[encoded data removed]"
     },
     "metadata": {}
    }
   ],
   "source": [
    "sns.catplot(x=\"Sex\", y=\"Survived\", hue=\"Pclass\", kind=\"point\", data=train)"
   ]
  },
  {
   "cell_type": "code",
   "execution_count": 29,
   "metadata": {},
   "outputs": [
    {
     "output_type": "execute_result",
     "data": {
      "text/plain": "<matplotlib.axes._subplots.AxesSubplot at 0x2ad38ae0d48>"
     },
     "metadata": {},
     "execution_count": 29
    },
    {
     "output_type": "display_data",
     "data": {
      "text/plain": "<Figure size 432x288 with 1 Axes>",
      "image/svg+xml": "<?xml version=\"1.0\" encoding=\"utf-8\" standalone=\"no\"?>\r\n<!DOCTYPE svg PUBLIC \"-//W3C//DTD SVG 1.1//EN\"\r\n  \"http://www.w3.org/Graphics/SVG/1.1/DTD/svg11.dtd\">\r\n<!-- Created with matplotlib (https://matplotlib.org/) -->\r\n<svg height=\"266.569862pt\" version=\"1.1\" viewBox=\"0 0 386.224063 266.569862\" width=\"386.224063pt\" xmlns=\"http://www.w3.org/2000/svg\" xmlns:xlink=\"http://www.w3.org/1999/xlink\">\r\n <defs>\r\n  <style type=\"text/css\">\r\n*{stroke-linecap:butt;stroke-linejoin:round;}\r\n  </style>\r\n </defs>\r\n <g id=\"figure_1\">\r\n  <g id=\"patch_1\">\r\n   <path d=\"M 0 266.569862 \r\nL 386.224063 266.569862 \r\nL 386.224063 0 \r\nL 0 0 \r\nz\r\n\" style=\"fill:#ffffff;\"/>\r\n  </g>\r\n  <g id=\"axes_1\">\r\n   <g id=\"patch_2\">\r\n    <path d=\"M 44.224063 224.835643 \r\nL 379.024063 224.835643 \r\nL 379.024063 7.395643 \r\nL 44.224063 7.395643 \r\nz\r\n\" style=\"fill:#eaeaf2;\"/>\r\n   </g>\r\n   <g id=\"matplotlib.axis_1\">\r\n    <g id=\"xtick_1\">\r\n     <g id=\"line2d_1\">\r\n      <path clip-path=\"url(#pc3c665c468)\" d=\"M 67.324693 224.835643 \r\nL 67.324693 7.395643 \r\n\" style=\"fill:none;stroke:#ffffff;stroke-linecap:round;\"/>\r\n     </g>\r\n     <g id=\"text_1\">\r\n      <!-- 0 -->\r\n      <defs>\r\n       <path d=\"M 4.15625 35.296875 \r\nQ 4.15625 48 6.765625 55.734375 \r\nQ 9.375 63.484375 14.515625 67.671875 \r\nQ 19.671875 71.875 27.484375 71.875 \r\nQ 33.25 71.875 37.59375 69.546875 \r\nQ 41.9375 67.234375 44.765625 62.859375 \r\nQ 47.609375 58.5 49.21875 52.21875 \r\nQ 50.828125 45.953125 50.828125 35.296875 \r\nQ 50.828125 22.703125 48.234375 14.96875 \r\nQ 45.65625 7.234375 40.5 3 \r\nQ 35.359375 -1.21875 27.484375 -1.21875 \r\nQ 17.140625 -1.21875 11.234375 6.203125 \r\nQ 4.15625 15.140625 4.15625 35.296875 \r\nz\r\nM 13.1875 35.296875 \r\nQ 13.1875 17.671875 17.3125 11.828125 \r\nQ 21.4375 6 27.484375 6 \r\nQ 33.546875 6 37.671875 11.859375 \r\nQ 41.796875 17.71875 41.796875 35.296875 \r\nQ 41.796875 52.984375 37.671875 58.78125 \r\nQ 33.546875 64.59375 27.390625 64.59375 \r\nQ 21.34375 64.59375 17.71875 59.46875 \r\nQ 13.1875 52.9375 13.1875 35.296875 \r\nz\r\n\" id=\"ArialMT-48\"/>\r\n      </defs>\r\n      <g style=\"fill:#262626;\" transform=\"translate(64.266178 242.209237)scale(0.11 -0.11)\">\r\n       <use xlink:href=\"#ArialMT-48\"/>\r\n      </g>\r\n     </g>\r\n    </g>\r\n    <g id=\"xtick_2\">\r\n     <g id=\"line2d_2\">\r\n      <path clip-path=\"url(#pc3c665c468)\" d=\"M 123.655415 224.835643 \r\nL 123.655415 7.395643 \r\n\" style=\"fill:none;stroke:#ffffff;stroke-linecap:round;\"/>\r\n     </g>\r\n     <g id=\"text_2\">\r\n      <!-- 100 -->\r\n      <defs>\r\n       <path d=\"M 37.25 0 \r\nL 28.46875 0 \r\nL 28.46875 56 \r\nQ 25.296875 52.984375 20.140625 49.953125 \r\nQ 14.984375 46.921875 10.890625 45.40625 \r\nL 10.890625 53.90625 \r\nQ 18.265625 57.375 23.78125 62.296875 \r\nQ 29.296875 67.234375 31.59375 71.875 \r\nL 37.25 71.875 \r\nz\r\n\" id=\"ArialMT-49\"/>\r\n      </defs>\r\n      <g style=\"fill:#262626;\" transform=\"translate(114.479869 242.209237)scale(0.11 -0.11)\">\r\n       <use xlink:href=\"#ArialMT-49\"/>\r\n       <use x=\"55.615234\" xlink:href=\"#ArialMT-48\"/>\r\n       <use x=\"111.230469\" xlink:href=\"#ArialMT-48\"/>\r\n      </g>\r\n     </g>\r\n    </g>\r\n    <g id=\"xtick_3\">\r\n     <g id=\"line2d_3\">\r\n      <path clip-path=\"url(#pc3c665c468)\" d=\"M 179.986138 224.835643 \r\nL 179.986138 7.395643 \r\n\" style=\"fill:none;stroke:#ffffff;stroke-linecap:round;\"/>\r\n     </g>\r\n     <g id=\"text_3\">\r\n      <!-- 200 -->\r\n      <defs>\r\n       <path d=\"M 50.34375 8.453125 \r\nL 50.34375 0 \r\nL 3.03125 0 \r\nQ 2.9375 3.171875 4.046875 6.109375 \r\nQ 5.859375 10.9375 9.828125 15.625 \r\nQ 13.8125 20.3125 21.34375 26.46875 \r\nQ 33.015625 36.03125 37.109375 41.625 \r\nQ 41.21875 47.21875 41.21875 52.203125 \r\nQ 41.21875 57.421875 37.46875 61 \r\nQ 33.734375 64.59375 27.734375 64.59375 \r\nQ 21.390625 64.59375 17.578125 60.78125 \r\nQ 13.765625 56.984375 13.71875 50.25 \r\nL 4.6875 51.171875 \r\nQ 5.609375 61.28125 11.65625 66.578125 \r\nQ 17.71875 71.875 27.9375 71.875 \r\nQ 38.234375 71.875 44.234375 66.15625 \r\nQ 50.25 60.453125 50.25 52 \r\nQ 50.25 47.703125 48.484375 43.546875 \r\nQ 46.734375 39.40625 42.65625 34.8125 \r\nQ 38.578125 30.21875 29.109375 22.21875 \r\nQ 21.1875 15.578125 18.9375 13.203125 \r\nQ 16.703125 10.84375 15.234375 8.453125 \r\nz\r\n\" id=\"ArialMT-50\"/>\r\n      </defs>\r\n      <g style=\"fill:#262626;\" transform=\"translate(170.810591 242.209237)scale(0.11 -0.11)\">\r\n       <use xlink:href=\"#ArialMT-50\"/>\r\n       <use x=\"55.615234\" xlink:href=\"#ArialMT-48\"/>\r\n       <use x=\"111.230469\" xlink:href=\"#ArialMT-48\"/>\r\n      </g>\r\n     </g>\r\n    </g>\r\n    <g id=\"xtick_4\">\r\n     <g id=\"line2d_4\">\r\n      <path clip-path=\"url(#pc3c665c468)\" d=\"M 236.31686 224.835643 \r\nL 236.31686 7.395643 \r\n\" style=\"fill:none;stroke:#ffffff;stroke-linecap:round;\"/>\r\n     </g>\r\n     <g id=\"text_4\">\r\n      <!-- 300 -->\r\n      <defs>\r\n       <path d=\"M 4.203125 18.890625 \r\nL 12.984375 20.0625 \r\nQ 14.5 12.59375 18.140625 9.296875 \r\nQ 21.78125 6 27 6 \r\nQ 33.203125 6 37.46875 10.296875 \r\nQ 41.75 14.59375 41.75 20.953125 \r\nQ 41.75 27 37.796875 30.921875 \r\nQ 33.84375 34.859375 27.734375 34.859375 \r\nQ 25.25 34.859375 21.53125 33.890625 \r\nL 22.515625 41.609375 \r\nQ 23.390625 41.5 23.921875 41.5 \r\nQ 29.546875 41.5 34.03125 44.421875 \r\nQ 38.53125 47.359375 38.53125 53.46875 \r\nQ 38.53125 58.296875 35.25 61.46875 \r\nQ 31.984375 64.65625 26.8125 64.65625 \r\nQ 21.6875 64.65625 18.265625 61.421875 \r\nQ 14.84375 58.203125 13.875 51.765625 \r\nL 5.078125 53.328125 \r\nQ 6.6875 62.15625 12.390625 67.015625 \r\nQ 18.109375 71.875 26.609375 71.875 \r\nQ 32.46875 71.875 37.390625 69.359375 \r\nQ 42.328125 66.84375 44.9375 62.5 \r\nQ 47.5625 58.15625 47.5625 53.265625 \r\nQ 47.5625 48.640625 45.0625 44.828125 \r\nQ 42.578125 41.015625 37.703125 38.765625 \r\nQ 44.046875 37.3125 47.5625 32.6875 \r\nQ 51.078125 28.078125 51.078125 21.140625 \r\nQ 51.078125 11.765625 44.234375 5.25 \r\nQ 37.40625 -1.265625 26.953125 -1.265625 \r\nQ 17.53125 -1.265625 11.296875 4.34375 \r\nQ 5.078125 9.96875 4.203125 18.890625 \r\nz\r\n\" id=\"ArialMT-51\"/>\r\n      </defs>\r\n      <g style=\"fill:#262626;\" transform=\"translate(227.141313 242.209237)scale(0.11 -0.11)\">\r\n       <use xlink:href=\"#ArialMT-51\"/>\r\n       <use x=\"55.615234\" xlink:href=\"#ArialMT-48\"/>\r\n       <use x=\"111.230469\" xlink:href=\"#ArialMT-48\"/>\r\n      </g>\r\n     </g>\r\n    </g>\r\n    <g id=\"xtick_5\">\r\n     <g id=\"line2d_5\">\r\n      <path clip-path=\"url(#pc3c665c468)\" d=\"M 292.647582 224.835643 \r\nL 292.647582 7.395643 \r\n\" style=\"fill:none;stroke:#ffffff;stroke-linecap:round;\"/>\r\n     </g>\r\n     <g id=\"text_5\">\r\n      <!-- 400 -->\r\n      <defs>\r\n       <path d=\"M 32.328125 0 \r\nL 32.328125 17.140625 \r\nL 1.265625 17.140625 \r\nL 1.265625 25.203125 \r\nL 33.9375 71.578125 \r\nL 41.109375 71.578125 \r\nL 41.109375 25.203125 \r\nL 50.78125 25.203125 \r\nL 50.78125 17.140625 \r\nL 41.109375 17.140625 \r\nL 41.109375 0 \r\nz\r\nM 32.328125 25.203125 \r\nL 32.328125 57.46875 \r\nL 9.90625 25.203125 \r\nz\r\n\" id=\"ArialMT-52\"/>\r\n      </defs>\r\n      <g style=\"fill:#262626;\" transform=\"translate(283.472035 242.209237)scale(0.11 -0.11)\">\r\n       <use xlink:href=\"#ArialMT-52\"/>\r\n       <use x=\"55.615234\" xlink:href=\"#ArialMT-48\"/>\r\n       <use x=\"111.230469\" xlink:href=\"#ArialMT-48\"/>\r\n      </g>\r\n     </g>\r\n    </g>\r\n    <g id=\"xtick_6\">\r\n     <g id=\"line2d_6\">\r\n      <path clip-path=\"url(#pc3c665c468)\" d=\"M 348.978304 224.835643 \r\nL 348.978304 7.395643 \r\n\" style=\"fill:none;stroke:#ffffff;stroke-linecap:round;\"/>\r\n     </g>\r\n     <g id=\"text_6\">\r\n      <!-- 500 -->\r\n      <defs>\r\n       <path d=\"M 4.15625 18.75 \r\nL 13.375 19.53125 \r\nQ 14.40625 12.796875 18.140625 9.390625 \r\nQ 21.875 6 27.15625 6 \r\nQ 33.5 6 37.890625 10.78125 \r\nQ 42.28125 15.578125 42.28125 23.484375 \r\nQ 42.28125 31 38.0625 35.34375 \r\nQ 33.84375 39.703125 27 39.703125 \r\nQ 22.75 39.703125 19.328125 37.765625 \r\nQ 15.921875 35.84375 13.96875 32.765625 \r\nL 5.71875 33.84375 \r\nL 12.640625 70.609375 \r\nL 48.25 70.609375 \r\nL 48.25 62.203125 \r\nL 19.671875 62.203125 \r\nL 15.828125 42.96875 \r\nQ 22.265625 47.46875 29.34375 47.46875 \r\nQ 38.71875 47.46875 45.15625 40.96875 \r\nQ 51.609375 34.46875 51.609375 24.265625 \r\nQ 51.609375 14.546875 45.953125 7.46875 \r\nQ 39.0625 -1.21875 27.15625 -1.21875 \r\nQ 17.390625 -1.21875 11.203125 4.25 \r\nQ 5.03125 9.71875 4.15625 18.75 \r\nz\r\n\" id=\"ArialMT-53\"/>\r\n      </defs>\r\n      <g style=\"fill:#262626;\" transform=\"translate(339.802757 242.209237)scale(0.11 -0.11)\">\r\n       <use xlink:href=\"#ArialMT-53\"/>\r\n       <use x=\"55.615234\" xlink:href=\"#ArialMT-48\"/>\r\n       <use x=\"111.230469\" xlink:href=\"#ArialMT-48\"/>\r\n      </g>\r\n     </g>\r\n    </g>\r\n    <g id=\"text_7\">\r\n     <!-- Fare -->\r\n     <defs>\r\n      <path d=\"M 8.203125 0 \r\nL 8.203125 71.578125 \r\nL 56.5 71.578125 \r\nL 56.5 63.140625 \r\nL 17.671875 63.140625 \r\nL 17.671875 40.96875 \r\nL 51.265625 40.96875 \r\nL 51.265625 32.515625 \r\nL 17.671875 32.515625 \r\nL 17.671875 0 \r\nz\r\n\" id=\"ArialMT-70\"/>\r\n      <path d=\"M 40.4375 6.390625 \r\nQ 35.546875 2.25 31.03125 0.53125 \r\nQ 26.515625 -1.171875 21.34375 -1.171875 \r\nQ 12.796875 -1.171875 8.203125 3 \r\nQ 3.609375 7.171875 3.609375 13.671875 \r\nQ 3.609375 17.484375 5.34375 20.625 \r\nQ 7.078125 23.78125 9.890625 25.6875 \r\nQ 12.703125 27.59375 16.21875 28.5625 \r\nQ 18.796875 29.25 24.03125 29.890625 \r\nQ 34.671875 31.15625 39.703125 32.90625 \r\nQ 39.75 34.71875 39.75 35.203125 \r\nQ 39.75 40.578125 37.25 42.78125 \r\nQ 33.890625 45.75 27.25 45.75 \r\nQ 21.046875 45.75 18.09375 43.578125 \r\nQ 15.140625 41.40625 13.71875 35.890625 \r\nL 5.125 37.0625 \r\nQ 6.296875 42.578125 8.984375 45.96875 \r\nQ 11.671875 49.359375 16.75 51.1875 \r\nQ 21.828125 53.03125 28.515625 53.03125 \r\nQ 35.15625 53.03125 39.296875 51.46875 \r\nQ 43.453125 49.90625 45.40625 47.53125 \r\nQ 47.359375 45.171875 48.140625 41.546875 \r\nQ 48.578125 39.3125 48.578125 33.453125 \r\nL 48.578125 21.734375 \r\nQ 48.578125 9.46875 49.140625 6.21875 \r\nQ 49.703125 2.984375 51.375 0 \r\nL 42.1875 0 \r\nQ 40.828125 2.734375 40.4375 6.390625 \r\nz\r\nM 39.703125 26.03125 \r\nQ 34.90625 24.078125 25.34375 22.703125 \r\nQ 19.921875 21.921875 17.671875 20.9375 \r\nQ 15.4375 19.96875 14.203125 18.09375 \r\nQ 12.984375 16.21875 12.984375 13.921875 \r\nQ 12.984375 10.40625 15.640625 8.0625 \r\nQ 18.3125 5.71875 23.4375 5.71875 \r\nQ 28.515625 5.71875 32.46875 7.9375 \r\nQ 36.421875 10.15625 38.28125 14.015625 \r\nQ 39.703125 17 39.703125 22.796875 \r\nz\r\n\" id=\"ArialMT-97\"/>\r\n      <path d=\"M 6.5 0 \r\nL 6.5 51.859375 \r\nL 14.40625 51.859375 \r\nL 14.40625 44 \r\nQ 17.4375 49.515625 20 51.265625 \r\nQ 22.5625 53.03125 25.640625 53.03125 \r\nQ 30.078125 53.03125 34.671875 50.203125 \r\nL 31.640625 42.046875 \r\nQ 28.421875 43.953125 25.203125 43.953125 \r\nQ 22.3125 43.953125 20.015625 42.21875 \r\nQ 17.71875 40.484375 16.75 37.40625 \r\nQ 15.28125 32.71875 15.28125 27.15625 \r\nL 15.28125 0 \r\nz\r\n\" id=\"ArialMT-114\"/>\r\n      <path d=\"M 42.09375 16.703125 \r\nL 51.171875 15.578125 \r\nQ 49.03125 7.625 43.21875 3.21875 \r\nQ 37.40625 -1.171875 28.375 -1.171875 \r\nQ 17 -1.171875 10.328125 5.828125 \r\nQ 3.65625 12.84375 3.65625 25.484375 \r\nQ 3.65625 38.578125 10.390625 45.796875 \r\nQ 17.140625 53.03125 27.875 53.03125 \r\nQ 38.28125 53.03125 44.875 45.953125 \r\nQ 51.46875 38.875 51.46875 26.03125 \r\nQ 51.46875 25.25 51.421875 23.6875 \r\nL 12.75 23.6875 \r\nQ 13.234375 15.140625 17.578125 10.59375 \r\nQ 21.921875 6.0625 28.421875 6.0625 \r\nQ 33.25 6.0625 36.671875 8.59375 \r\nQ 40.09375 11.140625 42.09375 16.703125 \r\nz\r\nM 13.234375 30.90625 \r\nL 42.1875 30.90625 \r\nQ 41.609375 37.453125 38.875 40.71875 \r\nQ 34.671875 45.796875 27.984375 45.796875 \r\nQ 21.921875 45.796875 17.796875 41.75 \r\nQ 13.671875 37.703125 13.234375 30.90625 \r\nz\r\n\" id=\"ArialMT-101\"/>\r\n     </defs>\r\n     <g style=\"fill:#262626;\" transform=\"translate(199.288438 256.984862)scale(0.12 -0.12)\">\r\n      <use xlink:href=\"#ArialMT-70\"/>\r\n      <use x=\"61.083984\" xlink:href=\"#ArialMT-97\"/>\r\n      <use x=\"116.699219\" xlink:href=\"#ArialMT-114\"/>\r\n      <use x=\"150\" xlink:href=\"#ArialMT-101\"/>\r\n     </g>\r\n    </g>\r\n   </g>\r\n   <g id=\"matplotlib.axis_2\">\r\n    <g id=\"ytick_1\">\r\n     <g id=\"line2d_7\">\r\n      <path clip-path=\"url(#pc3c665c468)\" d=\"M 44.224063 224.835643 \r\nL 379.024063 224.835643 \r\n\" style=\"fill:none;stroke:#ffffff;stroke-linecap:round;\"/>\r\n     </g>\r\n     <g id=\"text_8\">\r\n      <!-- 0.000 -->\r\n      <defs>\r\n       <path d=\"M 9.078125 0 \r\nL 9.078125 10.015625 \r\nL 19.09375 10.015625 \r\nL 19.09375 0 \r\nz\r\n\" id=\"ArialMT-46\"/>\r\n      </defs>\r\n      <g style=\"fill:#262626;\" transform=\"translate(7.2 228.77244)scale(0.11 -0.11)\">\r\n       <use xlink:href=\"#ArialMT-48\"/>\r\n       <use x=\"55.615234\" xlink:href=\"#ArialMT-46\"/>\r\n       <use x=\"83.398438\" xlink:href=\"#ArialMT-48\"/>\r\n       <use x=\"139.013672\" xlink:href=\"#ArialMT-48\"/>\r\n       <use x=\"194.628906\" xlink:href=\"#ArialMT-48\"/>\r\n      </g>\r\n     </g>\r\n    </g>\r\n    <g id=\"ytick_2\">\r\n     <g id=\"line2d_8\">\r\n      <path clip-path=\"url(#pc3c665c468)\" d=\"M 44.224063 198.123287 \r\nL 379.024063 198.123287 \r\n\" style=\"fill:none;stroke:#ffffff;stroke-linecap:round;\"/>\r\n     </g>\r\n     <g id=\"text_9\">\r\n      <!-- 0.005 -->\r\n      <g style=\"fill:#262626;\" transform=\"translate(7.2 202.060084)scale(0.11 -0.11)\">\r\n       <use xlink:href=\"#ArialMT-48\"/>\r\n       <use x=\"55.615234\" xlink:href=\"#ArialMT-46\"/>\r\n       <use x=\"83.398438\" xlink:href=\"#ArialMT-48\"/>\r\n       <use x=\"139.013672\" xlink:href=\"#ArialMT-48\"/>\r\n       <use x=\"194.628906\" xlink:href=\"#ArialMT-53\"/>\r\n      </g>\r\n     </g>\r\n    </g>\r\n    <g id=\"ytick_3\">\r\n     <g id=\"line2d_9\">\r\n      <path clip-path=\"url(#pc3c665c468)\" d=\"M 44.224063 171.410932 \r\nL 379.024063 171.410932 \r\n\" style=\"fill:none;stroke:#ffffff;stroke-linecap:round;\"/>\r\n     </g>\r\n     <g id=\"text_10\">\r\n      <!-- 0.010 -->\r\n      <g style=\"fill:#262626;\" transform=\"translate(7.2 175.347728)scale(0.11 -0.11)\">\r\n       <use xlink:href=\"#ArialMT-48\"/>\r\n       <use x=\"55.615234\" xlink:href=\"#ArialMT-46\"/>\r\n       <use x=\"83.398438\" xlink:href=\"#ArialMT-48\"/>\r\n       <use x=\"139.013672\" xlink:href=\"#ArialMT-49\"/>\r\n       <use x=\"194.628906\" xlink:href=\"#ArialMT-48\"/>\r\n      </g>\r\n     </g>\r\n    </g>\r\n    <g id=\"ytick_4\">\r\n     <g id=\"line2d_10\">\r\n      <path clip-path=\"url(#pc3c665c468)\" d=\"M 44.224063 144.698576 \r\nL 379.024063 144.698576 \r\n\" style=\"fill:none;stroke:#ffffff;stroke-linecap:round;\"/>\r\n     </g>\r\n     <g id=\"text_11\">\r\n      <!-- 0.015 -->\r\n      <g style=\"fill:#262626;\" transform=\"translate(7.2 148.635373)scale(0.11 -0.11)\">\r\n       <use xlink:href=\"#ArialMT-48\"/>\r\n       <use x=\"55.615234\" xlink:href=\"#ArialMT-46\"/>\r\n       <use x=\"83.398438\" xlink:href=\"#ArialMT-48\"/>\r\n       <use x=\"139.013672\" xlink:href=\"#ArialMT-49\"/>\r\n       <use x=\"194.628906\" xlink:href=\"#ArialMT-53\"/>\r\n      </g>\r\n     </g>\r\n    </g>\r\n    <g id=\"ytick_5\">\r\n     <g id=\"line2d_11\">\r\n      <path clip-path=\"url(#pc3c665c468)\" d=\"M 44.224063 117.98622 \r\nL 379.024063 117.98622 \r\n\" style=\"fill:none;stroke:#ffffff;stroke-linecap:round;\"/>\r\n     </g>\r\n     <g id=\"text_12\">\r\n      <!-- 0.020 -->\r\n      <g style=\"fill:#262626;\" transform=\"translate(7.2 121.923017)scale(0.11 -0.11)\">\r\n       <use xlink:href=\"#ArialMT-48\"/>\r\n       <use x=\"55.615234\" xlink:href=\"#ArialMT-46\"/>\r\n       <use x=\"83.398438\" xlink:href=\"#ArialMT-48\"/>\r\n       <use x=\"139.013672\" xlink:href=\"#ArialMT-50\"/>\r\n       <use x=\"194.628906\" xlink:href=\"#ArialMT-48\"/>\r\n      </g>\r\n     </g>\r\n    </g>\r\n    <g id=\"ytick_6\">\r\n     <g id=\"line2d_12\">\r\n      <path clip-path=\"url(#pc3c665c468)\" d=\"M 44.224063 91.273864 \r\nL 379.024063 91.273864 \r\n\" style=\"fill:none;stroke:#ffffff;stroke-linecap:round;\"/>\r\n     </g>\r\n     <g id=\"text_13\">\r\n      <!-- 0.025 -->\r\n      <g style=\"fill:#262626;\" transform=\"translate(7.2 95.210661)scale(0.11 -0.11)\">\r\n       <use xlink:href=\"#ArialMT-48\"/>\r\n       <use x=\"55.615234\" xlink:href=\"#ArialMT-46\"/>\r\n       <use x=\"83.398438\" xlink:href=\"#ArialMT-48\"/>\r\n       <use x=\"139.013672\" xlink:href=\"#ArialMT-50\"/>\r\n       <use x=\"194.628906\" xlink:href=\"#ArialMT-53\"/>\r\n      </g>\r\n     </g>\r\n    </g>\r\n    <g id=\"ytick_7\">\r\n     <g id=\"line2d_13\">\r\n      <path clip-path=\"url(#pc3c665c468)\" d=\"M 44.224063 64.561508 \r\nL 379.024063 64.561508 \r\n\" style=\"fill:none;stroke:#ffffff;stroke-linecap:round;\"/>\r\n     </g>\r\n     <g id=\"text_14\">\r\n      <!-- 0.030 -->\r\n      <g style=\"fill:#262626;\" transform=\"translate(7.2 68.498305)scale(0.11 -0.11)\">\r\n       <use xlink:href=\"#ArialMT-48\"/>\r\n       <use x=\"55.615234\" xlink:href=\"#ArialMT-46\"/>\r\n       <use x=\"83.398438\" xlink:href=\"#ArialMT-48\"/>\r\n       <use x=\"139.013672\" xlink:href=\"#ArialMT-51\"/>\r\n       <use x=\"194.628906\" xlink:href=\"#ArialMT-48\"/>\r\n      </g>\r\n     </g>\r\n    </g>\r\n    <g id=\"ytick_8\">\r\n     <g id=\"line2d_14\">\r\n      <path clip-path=\"url(#pc3c665c468)\" d=\"M 44.224063 37.849153 \r\nL 379.024063 37.849153 \r\n\" style=\"fill:none;stroke:#ffffff;stroke-linecap:round;\"/>\r\n     </g>\r\n     <g id=\"text_15\">\r\n      <!-- 0.035 -->\r\n      <g style=\"fill:#262626;\" transform=\"translate(7.2 41.78595)scale(0.11 -0.11)\">\r\n       <use xlink:href=\"#ArialMT-48\"/>\r\n       <use x=\"55.615234\" xlink:href=\"#ArialMT-46\"/>\r\n       <use x=\"83.398438\" xlink:href=\"#ArialMT-48\"/>\r\n       <use x=\"139.013672\" xlink:href=\"#ArialMT-51\"/>\r\n       <use x=\"194.628906\" xlink:href=\"#ArialMT-53\"/>\r\n      </g>\r\n     </g>\r\n    </g>\r\n    <g id=\"ytick_9\">\r\n     <g id=\"line2d_15\">\r\n      <path clip-path=\"url(#pc3c665c468)\" d=\"M 44.224063 11.136797 \r\nL 379.024063 11.136797 \r\n\" style=\"fill:none;stroke:#ffffff;stroke-linecap:round;\"/>\r\n     </g>\r\n     <g id=\"text_16\">\r\n      <!-- 0.040 -->\r\n      <g style=\"fill:#262626;\" transform=\"translate(7.2 15.073594)scale(0.11 -0.11)\">\r\n       <use xlink:href=\"#ArialMT-48\"/>\r\n       <use x=\"55.615234\" xlink:href=\"#ArialMT-46\"/>\r\n       <use x=\"83.398438\" xlink:href=\"#ArialMT-48\"/>\r\n       <use x=\"139.013672\" xlink:href=\"#ArialMT-52\"/>\r\n       <use x=\"194.628906\" xlink:href=\"#ArialMT-48\"/>\r\n      </g>\r\n     </g>\r\n    </g>\r\n   </g>\r\n   <g id=\"patch_3\">\r\n    <path clip-path=\"url(#pc3c665c468)\" d=\"M 67.324693 224.835643 \r\nL 73.096668 224.835643 \r\nL 73.096668 27.18819 \r\nL 67.324693 27.18819 \r\nz\r\n\" style=\"fill:#4c72b0;opacity:0.4;stroke:#ffffff;stroke-linejoin:miter;\"/>\r\n   </g>\r\n   <g id=\"patch_4\">\r\n    <path clip-path=\"url(#pc3c665c468)\" d=\"M 73.096668 224.835643 \r\nL 78.868643 224.835643 \r\nL 78.868643 118.094289 \r\nL 73.096668 118.094289 \r\nz\r\n\" style=\"fill:#4c72b0;opacity:0.4;stroke:#ffffff;stroke-linejoin:miter;\"/>\r\n   </g>\r\n   <g id=\"patch_5\">\r\n    <path clip-path=\"url(#pc3c665c468)\" d=\"M 78.868643 224.835643 \r\nL 84.640618 224.835643 \r\nL 84.640618 138.621472 \r\nL 78.868643 138.621472 \r\nz\r\n\" style=\"fill:#4c72b0;opacity:0.4;stroke:#ffffff;stroke-linejoin:miter;\"/>\r\n   </g>\r\n   <g id=\"patch_6\">\r\n    <path clip-path=\"url(#pc3c665c468)\" d=\"M 84.640618 224.835643 \r\nL 90.412592 224.835643 \r\nL 90.412592 195.511095 \r\nL 84.640618 195.511095 \r\nz\r\n\" style=\"fill:#4c72b0;opacity:0.4;stroke:#ffffff;stroke-linejoin:miter;\"/>\r\n   </g>\r\n   <g id=\"patch_7\">\r\n    <path clip-path=\"url(#pc3c665c468)\" d=\"M 90.412592 224.835643 \r\nL 96.184567 224.835643 \r\nL 96.184567 215.451788 \r\nL 90.412592 215.451788 \r\nz\r\n\" style=\"fill:#4c72b0;opacity:0.4;stroke:#ffffff;stroke-linejoin:miter;\"/>\r\n   </g>\r\n   <g id=\"patch_8\">\r\n    <path clip-path=\"url(#pc3c665c468)\" d=\"M 96.184567 224.835643 \r\nL 101.956542 224.835643 \r\nL 101.956542 201.962496 \r\nL 96.184567 201.962496 \r\nz\r\n\" style=\"fill:#4c72b0;opacity:0.4;stroke:#ffffff;stroke-linejoin:miter;\"/>\r\n   </g>\r\n   <g id=\"patch_9\">\r\n    <path clip-path=\"url(#pc3c665c468)\" d=\"M 101.956542 224.835643 \r\nL 107.728517 224.835643 \r\nL 107.728517 214.278806 \r\nL 101.956542 214.278806 \r\nz\r\n\" style=\"fill:#4c72b0;opacity:0.4;stroke:#ffffff;stroke-linejoin:miter;\"/>\r\n   </g>\r\n   <g id=\"patch_10\">\r\n    <path clip-path=\"url(#pc3c665c468)\" d=\"M 107.728517 224.835643 \r\nL 113.500491 224.835643 \r\nL 113.500491 209.000387 \r\nL 107.728517 209.000387 \r\nz\r\n\" style=\"fill:#4c72b0;opacity:0.4;stroke:#ffffff;stroke-linejoin:miter;\"/>\r\n   </g>\r\n   <g id=\"patch_11\">\r\n    <path clip-path=\"url(#pc3c665c468)\" d=\"M 113.500491 224.835643 \r\nL 119.272466 224.835643 \r\nL 119.272466 214.278806 \r\nL 113.500491 214.278806 \r\nz\r\n\" style=\"fill:#4c72b0;opacity:0.4;stroke:#ffffff;stroke-linejoin:miter;\"/>\r\n   </g>\r\n   <g id=\"patch_12\">\r\n    <path clip-path=\"url(#pc3c665c468)\" d=\"M 119.272466 224.835643 \r\nL 125.044441 224.835643 \r\nL 125.044441 223.662661 \r\nL 119.272466 223.662661 \r\nz\r\n\" style=\"fill:#4c72b0;opacity:0.4;stroke:#ffffff;stroke-linejoin:miter;\"/>\r\n   </g>\r\n   <g id=\"patch_13\">\r\n    <path clip-path=\"url(#pc3c665c468)\" d=\"M 125.044441 224.835643 \r\nL 130.816416 224.835643 \r\nL 130.816416 220.143715 \r\nL 125.044441 220.143715 \r\nz\r\n\" style=\"fill:#4c72b0;opacity:0.4;stroke:#ffffff;stroke-linejoin:miter;\"/>\r\n   </g>\r\n   <g id=\"patch_14\">\r\n    <path clip-path=\"url(#pc3c665c468)\" d=\"M 130.816416 224.835643 \r\nL 136.588391 224.835643 \r\nL 136.588391 220.730206 \r\nL 130.816416 220.730206 \r\nz\r\n\" style=\"fill:#4c72b0;opacity:0.4;stroke:#ffffff;stroke-linejoin:miter;\"/>\r\n   </g>\r\n   <g id=\"patch_15\">\r\n    <path clip-path=\"url(#pc3c665c468)\" d=\"M 136.588391 224.835643 \r\nL 142.360365 224.835643 \r\nL 142.360365 224.835643 \r\nL 136.588391 224.835643 \r\nz\r\n\" style=\"fill:#4c72b0;opacity:0.4;stroke:#ffffff;stroke-linejoin:miter;\"/>\r\n   </g>\r\n   <g id=\"patch_16\">\r\n    <path clip-path=\"url(#pc3c665c468)\" d=\"M 142.360365 224.835643 \r\nL 148.13234 224.835643 \r\nL 148.13234 220.730206 \r\nL 142.360365 220.730206 \r\nz\r\n\" style=\"fill:#4c72b0;opacity:0.4;stroke:#ffffff;stroke-linejoin:miter;\"/>\r\n   </g>\r\n   <g id=\"patch_17\">\r\n    <path clip-path=\"url(#pc3c665c468)\" d=\"M 148.13234 224.835643 \r\nL 153.904315 224.835643 \r\nL 153.904315 219.557225 \r\nL 148.13234 219.557225 \r\nz\r\n\" style=\"fill:#4c72b0;opacity:0.4;stroke:#ffffff;stroke-linejoin:miter;\"/>\r\n   </g>\r\n   <g id=\"patch_18\">\r\n    <path clip-path=\"url(#pc3c665c468)\" d=\"M 153.904315 224.835643 \r\nL 159.67629 224.835643 \r\nL 159.67629 224.835643 \r\nL 153.904315 224.835643 \r\nz\r\n\" style=\"fill:#4c72b0;opacity:0.4;stroke:#ffffff;stroke-linejoin:miter;\"/>\r\n   </g>\r\n   <g id=\"patch_19\">\r\n    <path clip-path=\"url(#pc3c665c468)\" d=\"M 159.67629 224.835643 \r\nL 165.448264 224.835643 \r\nL 165.448264 223.662661 \r\nL 159.67629 223.662661 \r\nz\r\n\" style=\"fill:#4c72b0;opacity:0.4;stroke:#ffffff;stroke-linejoin:miter;\"/>\r\n   </g>\r\n   <g id=\"patch_20\">\r\n    <path clip-path=\"url(#pc3c665c468)\" d=\"M 165.448264 224.835643 \r\nL 171.220239 224.835643 \r\nL 171.220239 224.835643 \r\nL 165.448264 224.835643 \r\nz\r\n\" style=\"fill:#4c72b0;opacity:0.4;stroke:#ffffff;stroke-linejoin:miter;\"/>\r\n   </g>\r\n   <g id=\"patch_21\">\r\n    <path clip-path=\"url(#pc3c665c468)\" d=\"M 171.220239 224.835643 \r\nL 176.992214 224.835643 \r\nL 176.992214 224.835643 \r\nL 171.220239 224.835643 \r\nz\r\n\" style=\"fill:#4c72b0;opacity:0.4;stroke:#ffffff;stroke-linejoin:miter;\"/>\r\n   </g>\r\n   <g id=\"patch_22\">\r\n    <path clip-path=\"url(#pc3c665c468)\" d=\"M 176.992214 224.835643 \r\nL 182.764189 224.835643 \r\nL 182.764189 224.835643 \r\nL 176.992214 224.835643 \r\nz\r\n\" style=\"fill:#4c72b0;opacity:0.4;stroke:#ffffff;stroke-linejoin:miter;\"/>\r\n   </g>\r\n   <g id=\"patch_23\">\r\n    <path clip-path=\"url(#pc3c665c468)\" d=\"M 182.764189 224.835643 \r\nL 188.536163 224.835643 \r\nL 188.536163 222.489679 \r\nL 182.764189 222.489679 \r\nz\r\n\" style=\"fill:#4c72b0;opacity:0.4;stroke:#ffffff;stroke-linejoin:miter;\"/>\r\n   </g>\r\n   <g id=\"patch_24\">\r\n    <path clip-path=\"url(#pc3c665c468)\" d=\"M 188.536163 224.835643 \r\nL 194.308138 224.835643 \r\nL 194.308138 224.249152 \r\nL 188.536163 224.249152 \r\nz\r\n\" style=\"fill:#4c72b0;opacity:0.4;stroke:#ffffff;stroke-linejoin:miter;\"/>\r\n   </g>\r\n   <g id=\"patch_25\">\r\n    <path clip-path=\"url(#pc3c665c468)\" d=\"M 194.308138 224.835643 \r\nL 200.080113 224.835643 \r\nL 200.080113 222.489679 \r\nL 194.308138 222.489679 \r\nz\r\n\" style=\"fill:#4c72b0;opacity:0.4;stroke:#ffffff;stroke-linejoin:miter;\"/>\r\n   </g>\r\n   <g id=\"patch_26\">\r\n    <path clip-path=\"url(#pc3c665c468)\" d=\"M 200.080113 224.835643 \r\nL 205.852088 224.835643 \r\nL 205.852088 224.835643 \r\nL 200.080113 224.835643 \r\nz\r\n\" style=\"fill:#4c72b0;opacity:0.4;stroke:#ffffff;stroke-linejoin:miter;\"/>\r\n   </g>\r\n   <g id=\"patch_27\">\r\n    <path clip-path=\"url(#pc3c665c468)\" d=\"M 205.852088 224.835643 \r\nL 211.624063 224.835643 \r\nL 211.624063 223.662661 \r\nL 205.852088 223.662661 \r\nz\r\n\" style=\"fill:#4c72b0;opacity:0.4;stroke:#ffffff;stroke-linejoin:miter;\"/>\r\n   </g>\r\n   <g id=\"patch_28\">\r\n    <path clip-path=\"url(#pc3c665c468)\" d=\"M 211.624063 224.835643 \r\nL 217.396037 224.835643 \r\nL 217.396037 221.316697 \r\nL 211.624063 221.316697 \r\nz\r\n\" style=\"fill:#4c72b0;opacity:0.4;stroke:#ffffff;stroke-linejoin:miter;\"/>\r\n   </g>\r\n   <g id=\"patch_29\">\r\n    <path clip-path=\"url(#pc3c665c468)\" d=\"M 217.396037 224.835643 \r\nL 223.168012 224.835643 \r\nL 223.168012 224.835643 \r\nL 217.396037 224.835643 \r\nz\r\n\" style=\"fill:#4c72b0;opacity:0.4;stroke:#ffffff;stroke-linejoin:miter;\"/>\r\n   </g>\r\n   <g id=\"patch_30\">\r\n    <path clip-path=\"url(#pc3c665c468)\" d=\"M 223.168012 224.835643 \r\nL 228.939987 224.835643 \r\nL 228.939987 224.835643 \r\nL 223.168012 224.835643 \r\nz\r\n\" style=\"fill:#4c72b0;opacity:0.4;stroke:#ffffff;stroke-linejoin:miter;\"/>\r\n   </g>\r\n   <g id=\"patch_31\">\r\n    <path clip-path=\"url(#pc3c665c468)\" d=\"M 228.939987 224.835643 \r\nL 234.711962 224.835643 \r\nL 234.711962 224.835643 \r\nL 228.939987 224.835643 \r\nz\r\n\" style=\"fill:#4c72b0;opacity:0.4;stroke:#ffffff;stroke-linejoin:miter;\"/>\r\n   </g>\r\n   <g id=\"patch_32\">\r\n    <path clip-path=\"url(#pc3c665c468)\" d=\"M 234.711962 224.835643 \r\nL 240.483936 224.835643 \r\nL 240.483936 224.835643 \r\nL 234.711962 224.835643 \r\nz\r\n\" style=\"fill:#4c72b0;opacity:0.4;stroke:#ffffff;stroke-linejoin:miter;\"/>\r\n   </g>\r\n   <g id=\"patch_33\">\r\n    <path clip-path=\"url(#pc3c665c468)\" d=\"M 240.483936 224.835643 \r\nL 246.255911 224.835643 \r\nL 246.255911 224.835643 \r\nL 240.483936 224.835643 \r\nz\r\n\" style=\"fill:#4c72b0;opacity:0.4;stroke:#ffffff;stroke-linejoin:miter;\"/>\r\n   </g>\r\n   <g id=\"patch_34\">\r\n    <path clip-path=\"url(#pc3c665c468)\" d=\"M 246.255911 224.835643 \r\nL 252.027886 224.835643 \r\nL 252.027886 224.835643 \r\nL 246.255911 224.835643 \r\nz\r\n\" style=\"fill:#4c72b0;opacity:0.4;stroke:#ffffff;stroke-linejoin:miter;\"/>\r\n   </g>\r\n   <g id=\"patch_35\">\r\n    <path clip-path=\"url(#pc3c665c468)\" d=\"M 252.027886 224.835643 \r\nL 257.799861 224.835643 \r\nL 257.799861 224.835643 \r\nL 252.027886 224.835643 \r\nz\r\n\" style=\"fill:#4c72b0;opacity:0.4;stroke:#ffffff;stroke-linejoin:miter;\"/>\r\n   </g>\r\n   <g id=\"patch_36\">\r\n    <path clip-path=\"url(#pc3c665c468)\" d=\"M 257.799861 224.835643 \r\nL 263.571835 224.835643 \r\nL 263.571835 224.835643 \r\nL 257.799861 224.835643 \r\nz\r\n\" style=\"fill:#4c72b0;opacity:0.4;stroke:#ffffff;stroke-linejoin:miter;\"/>\r\n   </g>\r\n   <g id=\"patch_37\">\r\n    <path clip-path=\"url(#pc3c665c468)\" d=\"M 263.571835 224.835643 \r\nL 269.34381 224.835643 \r\nL 269.34381 224.835643 \r\nL 263.571835 224.835643 \r\nz\r\n\" style=\"fill:#4c72b0;opacity:0.4;stroke:#ffffff;stroke-linejoin:miter;\"/>\r\n   </g>\r\n   <g id=\"patch_38\">\r\n    <path clip-path=\"url(#pc3c665c468)\" d=\"M 269.34381 224.835643 \r\nL 275.115785 224.835643 \r\nL 275.115785 224.835643 \r\nL 269.34381 224.835643 \r\nz\r\n\" style=\"fill:#4c72b0;opacity:0.4;stroke:#ffffff;stroke-linejoin:miter;\"/>\r\n   </g>\r\n   <g id=\"patch_39\">\r\n    <path clip-path=\"url(#pc3c665c468)\" d=\"M 275.115785 224.835643 \r\nL 280.88776 224.835643 \r\nL 280.88776 224.835643 \r\nL 275.115785 224.835643 \r\nz\r\n\" style=\"fill:#4c72b0;opacity:0.4;stroke:#ffffff;stroke-linejoin:miter;\"/>\r\n   </g>\r\n   <g id=\"patch_40\">\r\n    <path clip-path=\"url(#pc3c665c468)\" d=\"M 280.88776 224.835643 \r\nL 286.659734 224.835643 \r\nL 286.659734 224.835643 \r\nL 280.88776 224.835643 \r\nz\r\n\" style=\"fill:#4c72b0;opacity:0.4;stroke:#ffffff;stroke-linejoin:miter;\"/>\r\n   </g>\r\n   <g id=\"patch_41\">\r\n    <path clip-path=\"url(#pc3c665c468)\" d=\"M 286.659734 224.835643 \r\nL 292.431709 224.835643 \r\nL 292.431709 224.835643 \r\nL 286.659734 224.835643 \r\nz\r\n\" style=\"fill:#4c72b0;opacity:0.4;stroke:#ffffff;stroke-linejoin:miter;\"/>\r\n   </g>\r\n   <g id=\"patch_42\">\r\n    <path clip-path=\"url(#pc3c665c468)\" d=\"M 292.431709 224.835643 \r\nL 298.203684 224.835643 \r\nL 298.203684 224.835643 \r\nL 292.431709 224.835643 \r\nz\r\n\" style=\"fill:#4c72b0;opacity:0.4;stroke:#ffffff;stroke-linejoin:miter;\"/>\r\n   </g>\r\n   <g id=\"patch_43\">\r\n    <path clip-path=\"url(#pc3c665c468)\" d=\"M 298.203684 224.835643 \r\nL 303.975659 224.835643 \r\nL 303.975659 224.835643 \r\nL 298.203684 224.835643 \r\nz\r\n\" style=\"fill:#4c72b0;opacity:0.4;stroke:#ffffff;stroke-linejoin:miter;\"/>\r\n   </g>\r\n   <g id=\"patch_44\">\r\n    <path clip-path=\"url(#pc3c665c468)\" d=\"M 303.975659 224.835643 \r\nL 309.747634 224.835643 \r\nL 309.747634 224.835643 \r\nL 303.975659 224.835643 \r\nz\r\n\" style=\"fill:#4c72b0;opacity:0.4;stroke:#ffffff;stroke-linejoin:miter;\"/>\r\n   </g>\r\n   <g id=\"patch_45\">\r\n    <path clip-path=\"url(#pc3c665c468)\" d=\"M 309.747634 224.835643 \r\nL 315.519608 224.835643 \r\nL 315.519608 224.835643 \r\nL 309.747634 224.835643 \r\nz\r\n\" style=\"fill:#4c72b0;opacity:0.4;stroke:#ffffff;stroke-linejoin:miter;\"/>\r\n   </g>\r\n   <g id=\"patch_46\">\r\n    <path clip-path=\"url(#pc3c665c468)\" d=\"M 315.519608 224.835643 \r\nL 321.291583 224.835643 \r\nL 321.291583 224.835643 \r\nL 315.519608 224.835643 \r\nz\r\n\" style=\"fill:#4c72b0;opacity:0.4;stroke:#ffffff;stroke-linejoin:miter;\"/>\r\n   </g>\r\n   <g id=\"patch_47\">\r\n    <path clip-path=\"url(#pc3c665c468)\" d=\"M 321.291583 224.835643 \r\nL 327.063558 224.835643 \r\nL 327.063558 224.835643 \r\nL 321.291583 224.835643 \r\nz\r\n\" style=\"fill:#4c72b0;opacity:0.4;stroke:#ffffff;stroke-linejoin:miter;\"/>\r\n   </g>\r\n   <g id=\"patch_48\">\r\n    <path clip-path=\"url(#pc3c665c468)\" d=\"M 327.063558 224.835643 \r\nL 332.835533 224.835643 \r\nL 332.835533 224.835643 \r\nL 327.063558 224.835643 \r\nz\r\n\" style=\"fill:#4c72b0;opacity:0.4;stroke:#ffffff;stroke-linejoin:miter;\"/>\r\n   </g>\r\n   <g id=\"patch_49\">\r\n    <path clip-path=\"url(#pc3c665c468)\" d=\"M 332.835533 224.835643 \r\nL 338.607507 224.835643 \r\nL 338.607507 224.835643 \r\nL 332.835533 224.835643 \r\nz\r\n\" style=\"fill:#4c72b0;opacity:0.4;stroke:#ffffff;stroke-linejoin:miter;\"/>\r\n   </g>\r\n   <g id=\"patch_50\">\r\n    <path clip-path=\"url(#pc3c665c468)\" d=\"M 338.607507 224.835643 \r\nL 344.379482 224.835643 \r\nL 344.379482 224.835643 \r\nL 338.607507 224.835643 \r\nz\r\n\" style=\"fill:#4c72b0;opacity:0.4;stroke:#ffffff;stroke-linejoin:miter;\"/>\r\n   </g>\r\n   <g id=\"patch_51\">\r\n    <path clip-path=\"url(#pc3c665c468)\" d=\"M 344.379482 224.835643 \r\nL 350.151457 224.835643 \r\nL 350.151457 224.835643 \r\nL 344.379482 224.835643 \r\nz\r\n\" style=\"fill:#4c72b0;opacity:0.4;stroke:#ffffff;stroke-linejoin:miter;\"/>\r\n   </g>\r\n   <g id=\"patch_52\">\r\n    <path clip-path=\"url(#pc3c665c468)\" d=\"M 350.151457 224.835643 \r\nL 355.923432 224.835643 \r\nL 355.923432 223.07617 \r\nL 350.151457 223.07617 \r\nz\r\n\" style=\"fill:#4c72b0;opacity:0.4;stroke:#ffffff;stroke-linejoin:miter;\"/>\r\n   </g>\r\n   <g id=\"line2d_16\">\r\n    <path clip-path=\"url(#pc3c665c468)\" d=\"M 59.442244 224.6888 \r\nL 61.838808 223.869476 \r\nL 64.235372 218.09994 \r\nL 66.631937 192.655944 \r\nL 69.028501 112.004634 \r\nL 71.425065 17.749929 \r\nL 73.821629 29.714787 \r\nL 76.218193 98.66867 \r\nL 78.614757 139.850933 \r\nL 81.011321 146.494626 \r\nL 83.407885 152.729401 \r\nL 85.804449 175.102147 \r\nL 88.201013 195.894029 \r\nL 90.597577 206.812019 \r\nL 92.994141 209.820481 \r\nL 95.390705 206.72347 \r\nL 97.787269 204.724918 \r\nL 100.183833 208.741262 \r\nL 102.580398 213.653385 \r\nL 104.976962 213.997877 \r\nL 107.373526 211.380145 \r\nL 109.77009 209.043274 \r\nL 112.166654 208.827653 \r\nL 114.563218 212.125858 \r\nL 116.959782 215.80749 \r\nL 121.75291 222.06265 \r\nL 124.149474 223.180483 \r\nL 126.546038 221.719727 \r\nL 128.942602 219.791848 \r\nL 131.339166 219.779652 \r\nL 136.132294 222.554554 \r\nL 138.528858 223.234722 \r\nL 143.321987 221.151367 \r\nL 145.718551 222.176122 \r\nL 148.115115 222.821532 \r\nL 150.511679 221.57946 \r\nL 152.908243 220.701018 \r\nL 157.701371 223.349896 \r\nL 160.097935 223.604102 \r\nL 164.891063 224.650308 \r\nL 167.287627 224.814439 \r\nL 176.873884 224.835643 \r\nL 179.270448 224.791221 \r\nL 181.667012 224.485726 \r\nL 184.063576 223.450147 \r\nL 186.46014 222.580044 \r\nL 188.856704 223.174342 \r\nL 191.253268 223.49418 \r\nL 193.649832 222.814711 \r\nL 196.046396 222.626837 \r\nL 198.44296 223.669001 \r\nL 200.839524 224.483748 \r\nL 203.236088 224.370025 \r\nL 205.632652 223.927369 \r\nL 210.42578 223.959213 \r\nL 215.218909 221.605591 \r\nL 217.615473 222.72987 \r\nL 220.012037 224.247763 \r\nL 222.408601 224.751969 \r\nL 227.201729 224.833471 \r\nL 344.633368 224.835643 \r\nL 349.426496 224.756269 \r\nL 351.82306 224.358336 \r\nL 354.219624 223.645082 \r\nL 356.616188 223.340109 \r\nL 359.012753 224.064674 \r\nL 361.409317 224.627444 \r\nL 363.805881 224.835643 \r\nL 363.805881 224.835643 \r\n\" style=\"fill:none;stroke:#4c72b0;stroke-linecap:round;stroke-width:1.5;\"/>\r\n   </g>\r\n   <g id=\"patch_53\">\r\n    <path d=\"M 44.224063 224.835643 \r\nL 44.224063 7.395643 \r\n\" style=\"fill:none;stroke:#ffffff;stroke-linecap:square;stroke-linejoin:miter;stroke-width:1.25;\"/>\r\n   </g>\r\n   <g id=\"patch_54\">\r\n    <path d=\"M 379.024063 224.835643 \r\nL 379.024063 7.395643 \r\n\" style=\"fill:none;stroke:#ffffff;stroke-linecap:square;stroke-linejoin:miter;stroke-width:1.25;\"/>\r\n   </g>\r\n   <g id=\"patch_55\">\r\n    <path d=\"M 44.224063 224.835643 \r\nL 379.024063 224.835643 \r\n\" style=\"fill:none;stroke:#ffffff;stroke-linecap:square;stroke-linejoin:miter;stroke-width:1.25;\"/>\r\n   </g>\r\n   <g id=\"patch_56\">\r\n    <path d=\"M 44.224063 7.395643 \r\nL 379.024063 7.395643 \r\n\" style=\"fill:none;stroke:#ffffff;stroke-linecap:square;stroke-linejoin:miter;stroke-width:1.25;\"/>\r\n   </g>\r\n  </g>\r\n </g>\r\n <defs>\r\n  <clipPath id=\"pc3c665c468\">\r\n   <rect height=\"217.44\" width=\"334.8\" x=\"44.224063\" y=\"7.395643\"/>\r\n  </clipPath>\r\n </defs>\r\n</svg>\r\n",
      "image/png": "[encoded data removed]"
     },
     "metadata": {}
    }
   ],
   "source": [
    "sns.distplot(train['Fare'])"
   ]
  },
  {
   "cell_type": "markdown",
   "metadata": {},
   "source": [
    "# Tests Statistiques"
   ]
  },
  {
   "cell_type": "code",
   "execution_count": 30,
   "metadata": {},
   "outputs": [],
   "source": [
    "train = pd.read_csv(\"D:/Simplon/Brief projet/Titanic/train.csv\")\n",
    "train[\"Age\"].fillna(train[\"Age\"].mean(), inplace = True)\n",
    "del train[\"Cabin\"]\n",
    "train.dropna(inplace= True)\n",
    "train = process_age(train)\n",
    "train = process_fare(train)"
   ]
  },
  {
   "cell_type": "code",
   "execution_count": 31,
   "metadata": {},
   "outputs": [],
   "source": [
    "train_stats = train\n",
    "del train_stats['Name']\n",
    "del train_stats['Ticket']\n",
    "del train_stats['Age_categorie']\n",
    "del train_stats['Fare_categorie']"
   ]
  },
  {
   "cell_type": "code",
   "execution_count": 32,
   "metadata": {},
   "outputs": [],
   "source": [
    "train_stats = pd.get_dummies(train_stats)"
   ]
  },
  {
   "cell_type": "code",
   "execution_count": 33,
   "metadata": {},
   "outputs": [
    {
     "output_type": "execute_result",
     "data": {
      "text/plain": "   PassengerId  Survived  Pclass   Age  SibSp  Parch     Fare  Sex_female  \\\n0            1         0       3  22.0      1      0   7.2500           0   \n1            2         1       1  38.0      1      0  71.2833           1   \n2            3         1       3  26.0      0      0   7.9250           1   \n3            4         1       1  35.0      1      0  53.1000           1   \n4            5         0       3  35.0      0      0   8.0500           0   \n\n   Sex_male  Embarked_C  Embarked_Q  Embarked_S  \n0         1           0           0           1  \n1         0           1           0           0  \n2         0           0           0           1  \n3         0           0           0           1  \n4         1           0           0           1  ",
      "text/html": "<div>\n<style scoped>\n    .dataframe tbody tr th:only-of-type {\n        vertical-align: middle;\n    }\n\n    .dataframe tbody tr th {\n        vertical-align: top;\n    }\n\n    .dataframe thead th {\n        text-align: right;\n    }\n</style>\n<table border=\"1\" class=\"dataframe\">\n  <thead>\n    <tr style=\"text-align: right;\">\n      <th></th>\n      <th>PassengerId</th>\n      <th>Survived</th>\n      <th>Pclass</th>\n      <th>Age</th>\n      <th>SibSp</th>\n      <th>Parch</th>\n      <th>Fare</th>\n      <th>Sex_female</th>\n      <th>Sex_male</th>\n      <th>Embarked_C</th>\n      <th>Embarked_Q</th>\n      <th>Embarked_S</th>\n    </tr>\n  </thead>\n  <tbody>\n    <tr>\n      <th>0</th>\n      <td>1</td>\n      <td>0</td>\n      <td>3</td>\n      <td>22.0</td>\n      <td>1</td>\n      <td>0</td>\n      <td>7.2500</td>\n      <td>0</td>\n      <td>1</td>\n      <td>0</td>\n      <td>0</td>\n      <td>1</td>\n    </tr>\n    <tr>\n      <th>1</th>\n      <td>2</td>\n      <td>1</td>\n      <td>1</td>\n      <td>38.0</td>\n      <td>1</td>\n      <td>0</td>\n      <td>71.2833</td>\n      <td>1</td>\n      <td>0</td>\n      <td>1</td>\n      <td>0</td>\n      <td>0</td>\n    </tr>\n    <tr>\n      <th>2</th>\n      <td>3</td>\n      <td>1</td>\n      <td>3</td>\n      <td>26.0</td>\n      <td>0</td>\n      <td>0</td>\n      <td>7.9250</td>\n      <td>1</td>\n      <td>0</td>\n      <td>0</td>\n      <td>0</td>\n      <td>1</td>\n    </tr>\n    <tr>\n      <th>3</th>\n      <td>4</td>\n      <td>1</td>\n      <td>1</td>\n      <td>35.0</td>\n      <td>1</td>\n      <td>0</td>\n      <td>53.1000</td>\n      <td>1</td>\n      <td>0</td>\n      <td>0</td>\n      <td>0</td>\n      <td>1</td>\n    </tr>\n    <tr>\n      <th>4</th>\n      <td>5</td>\n      <td>0</td>\n      <td>3</td>\n      <td>35.0</td>\n      <td>0</td>\n      <td>0</td>\n      <td>8.0500</td>\n      <td>0</td>\n      <td>1</td>\n      <td>0</td>\n      <td>0</td>\n      <td>1</td>\n    </tr>\n  </tbody>\n</table>\n</div>"
     },
     "metadata": {},
     "execution_count": 33
    }
   ],
   "source": [
    "train_stats.head()"
   ]
  },
  {
   "cell_type": "code",
   "execution_count": 34,
   "metadata": {},
   "outputs": [
    {
     "output_type": "execute_result",
     "data": {
      "text/plain": "<pandas.io.formats.style.Styler at 0x2ad3938f8c8>",
      "text/html": "<style  type=\"text/css\" >\n    #T_27acf2d0_7ab3_11ea_9c6b_54a050d383aerow0_col0 {\n            background-color:  #b40426;\n            color:  #f1f1f1;\n        }    #T_27acf2d0_7ab3_11ea_9c6b_54a050d383aerow0_col1 {\n            background-color:  #afcafc;\n            color:  #000000;\n        }    #T_27acf2d0_7ab3_11ea_9c6b_54a050d383aerow0_col2 {\n            background-color:  #a9c6fd;\n            color:  #000000;\n        }    #T_27acf2d0_7ab3_11ea_9c6b_54a050d383aerow0_col3 {\n            background-color:  #94b6ff;\n            color:  #000000;\n        }    #T_27acf2d0_7ab3_11ea_9c6b_54a050d383aerow0_col4 {\n            background-color:  #6788ee;\n            color:  #000000;\n        }    #T_27acf2d0_7ab3_11ea_9c6b_54a050d383aerow0_col5 {\n            background-color:  #7a9df8;\n            color:  #000000;\n        }    #T_27acf2d0_7ab3_11ea_9c6b_54a050d383aerow0_col6 {\n            background-color:  #b3cdfb;\n            color:  #000000;\n        }    #T_27acf2d0_7ab3_11ea_9c6b_54a050d383aerow0_col7 {\n            background-color:  #d7dce3;\n            color:  #000000;\n        }    #T_27acf2d0_7ab3_11ea_9c6b_54a050d383aerow0_col8 {\n            background-color:  #e2dad5;\n            color:  #000000;\n        }    #T_27acf2d0_7ab3_11ea_9c6b_54a050d383aerow0_col9 {\n            background-color:  #ccd9ed;\n            color:  #000000;\n        }    #T_27acf2d0_7ab3_11ea_9c6b_54a050d383aerow0_col10 {\n            background-color:  #a2c1ff;\n            color:  #000000;\n        }    #T_27acf2d0_7ab3_11ea_9c6b_54a050d383aerow0_col11 {\n            background-color:  #cfdaea;\n            color:  #000000;\n        }    #T_27acf2d0_7ab3_11ea_9c6b_54a050d383aerow1_col0 {\n            background-color:  #4961d2;\n            color:  #f1f1f1;\n        }    #T_27acf2d0_7ab3_11ea_9c6b_54a050d383aerow1_col1 {\n            background-color:  #b40426;\n            color:  #f1f1f1;\n        }    #T_27acf2d0_7ab3_11ea_9c6b_54a050d383aerow1_col2 {\n            background-color:  #6687ed;\n            color:  #000000;\n        }    #T_27acf2d0_7ab3_11ea_9c6b_54a050d383aerow1_col3 {\n            background-color:  #779af7;\n            color:  #000000;\n        }    #T_27acf2d0_7ab3_11ea_9c6b_54a050d383aerow1_col4 {\n            background-color:  #6e90f2;\n            color:  #000000;\n        }    #T_27acf2d0_7ab3_11ea_9c6b_54a050d383aerow1_col5 {\n            background-color:  #92b4fe;\n            color:  #000000;\n        }    #T_27acf2d0_7ab3_11ea_9c6b_54a050d383aerow1_col6 {\n            background-color:  #e1dad6;\n            color:  #000000;\n        }    #T_27acf2d0_7ab3_11ea_9c6b_54a050d383aerow1_col7 {\n            background-color:  #f29072;\n            color:  #000000;\n        }    #T_27acf2d0_7ab3_11ea_9c6b_54a050d383aerow1_col8 {\n            background-color:  #85a8fc;\n            color:  #000000;\n        }    #T_27acf2d0_7ab3_11ea_9c6b_54a050d383aerow1_col9 {\n            background-color:  #e5d8d1;\n            color:  #000000;\n        }    #T_27acf2d0_7ab3_11ea_9c6b_54a050d383aerow1_col10 {\n            background-color:  #abc8fd;\n            color:  #000000;\n        }    #T_27acf2d0_7ab3_11ea_9c6b_54a050d383aerow1_col11 {\n            background-color:  #b1cbfc;\n            color:  #000000;\n        }    #T_27acf2d0_7ab3_11ea_9c6b_54a050d383aerow2_col0 {\n            background-color:  #4055c8;\n            color:  #f1f1f1;\n        }    #T_27acf2d0_7ab3_11ea_9c6b_54a050d383aerow2_col1 {\n            background-color:  #6485ec;\n            color:  #000000;\n        }    #T_27acf2d0_7ab3_11ea_9c6b_54a050d383aerow2_col2 {\n            background-color:  #b40426;\n            color:  #f1f1f1;\n        }    #T_27acf2d0_7ab3_11ea_9c6b_54a050d383aerow2_col3 {\n            background-color:  #3b4cc0;\n            color:  #f1f1f1;\n        }    #T_27acf2d0_7ab3_11ea_9c6b_54a050d383aerow2_col4 {\n            background-color:  #8fb1fe;\n            color:  #000000;\n        }    #T_27acf2d0_7ab3_11ea_9c6b_54a050d383aerow2_col5 {\n            background-color:  #80a3fa;\n            color:  #000000;\n        }    #T_27acf2d0_7ab3_11ea_9c6b_54a050d383aerow2_col6 {\n            background-color:  #3b4cc0;\n            color:  #f1f1f1;\n        }    #T_27acf2d0_7ab3_11ea_9c6b_54a050d383aerow2_col7 {\n            background-color:  #cbd8ee;\n            color:  #000000;\n        }    #T_27acf2d0_7ab3_11ea_9c6b_54a050d383aerow2_col8 {\n            background-color:  #ecd3c5;\n            color:  #000000;\n        }    #T_27acf2d0_7ab3_11ea_9c6b_54a050d383aerow2_col9 {\n            background-color:  #9fbfff;\n            color:  #000000;\n        }    #T_27acf2d0_7ab3_11ea_9c6b_54a050d383aerow2_col10 {\n            background-color:  #d7dce3;\n            color:  #000000;\n        }    #T_27acf2d0_7ab3_11ea_9c6b_54a050d383aerow2_col11 {\n            background-color:  #d8dce2;\n            color:  #000000;\n        }    #T_27acf2d0_7ab3_11ea_9c6b_54a050d383aerow3_col0 {\n            background-color:  #5470de;\n            color:  #000000;\n        }    #T_27acf2d0_7ab3_11ea_9c6b_54a050d383aerow3_col1 {\n            background-color:  #9fbfff;\n            color:  #000000;\n        }    #T_27acf2d0_7ab3_11ea_9c6b_54a050d383aerow3_col2 {\n            background-color:  #6788ee;\n            color:  #000000;\n        }    #T_27acf2d0_7ab3_11ea_9c6b_54a050d383aerow3_col3 {\n            background-color:  #b40426;\n            color:  #f1f1f1;\n        }    #T_27acf2d0_7ab3_11ea_9c6b_54a050d383aerow3_col4 {\n            background-color:  #3b4cc0;\n            color:  #f1f1f1;\n        }    #T_27acf2d0_7ab3_11ea_9c6b_54a050d383aerow3_col5 {\n            background-color:  #4b64d5;\n            color:  #f1f1f1;\n        }    #T_27acf2d0_7ab3_11ea_9c6b_54a050d383aerow3_col6 {\n            background-color:  #c4d5f3;\n            color:  #000000;\n        }    #T_27acf2d0_7ab3_11ea_9c6b_54a050d383aerow3_col7 {\n            background-color:  #d1dae9;\n            color:  #000000;\n        }    #T_27acf2d0_7ab3_11ea_9c6b_54a050d383aerow3_col8 {\n            background-color:  #e8d6cc;\n            color:  #000000;\n        }    #T_27acf2d0_7ab3_11ea_9c6b_54a050d383aerow3_col9 {\n            background-color:  #d2dbe8;\n            color:  #000000;\n        }    #T_27acf2d0_7ab3_11ea_9c6b_54a050d383aerow3_col10 {\n            background-color:  #a7c5fe;\n            color:  #000000;\n        }    #T_27acf2d0_7ab3_11ea_9c6b_54a050d383aerow3_col11 {\n            background-color:  #c9d7f0;\n            color:  #000000;\n        }    #T_27acf2d0_7ab3_11ea_9c6b_54a050d383aerow4_col0 {\n            background-color:  #3b4cc0;\n            color:  #f1f1f1;\n        }    #T_27acf2d0_7ab3_11ea_9c6b_54a050d383aerow4_col1 {\n            background-color:  #a9c6fd;\n            color:  #000000;\n        }    #T_27acf2d0_7ab3_11ea_9c6b_54a050d383aerow4_col2 {\n            background-color:  #c3d5f4;\n            color:  #000000;\n        }    #T_27acf2d0_7ab3_11ea_9c6b_54a050d383aerow4_col3 {\n            background-color:  #506bda;\n            color:  #000000;\n        }    #T_27acf2d0_7ab3_11ea_9c6b_54a050d383aerow4_col4 {\n            background-color:  #b40426;\n            color:  #f1f1f1;\n        }    #T_27acf2d0_7ab3_11ea_9c6b_54a050d383aerow4_col5 {\n            background-color:  #e4d9d2;\n            color:  #000000;\n        }    #T_27acf2d0_7ab3_11ea_9c6b_54a050d383aerow4_col6 {\n            background-color:  #d2dbe8;\n            color:  #000000;\n        }    #T_27acf2d0_7ab3_11ea_9c6b_54a050d383aerow4_col7 {\n            background-color:  #ead4c8;\n            color:  #000000;\n        }    #T_27acf2d0_7ab3_11ea_9c6b_54a050d383aerow4_col8 {\n            background-color:  #cdd9ec;\n            color:  #000000;\n        }    #T_27acf2d0_7ab3_11ea_9c6b_54a050d383aerow4_col9 {\n            background-color:  #c1d4f4;\n            color:  #000000;\n        }    #T_27acf2d0_7ab3_11ea_9c6b_54a050d383aerow4_col10 {\n            background-color:  #a3c2fe;\n            color:  #000000;\n        }    #T_27acf2d0_7ab3_11ea_9c6b_54a050d383aerow4_col11 {\n            background-color:  #d7dce3;\n            color:  #000000;\n        }    #T_27acf2d0_7ab3_11ea_9c6b_54a050d383aerow5_col0 {\n            background-color:  #4a63d3;\n            color:  #f1f1f1;\n        }    #T_27acf2d0_7ab3_11ea_9c6b_54a050d383aerow5_col1 {\n            background-color:  #c1d4f4;\n            color:  #000000;\n        }    #T_27acf2d0_7ab3_11ea_9c6b_54a050d383aerow5_col2 {\n            background-color:  #b5cdfa;\n            color:  #000000;\n        }    #T_27acf2d0_7ab3_11ea_9c6b_54a050d383aerow5_col3 {\n            background-color:  #5d7ce6;\n            color:  #000000;\n        }    #T_27acf2d0_7ab3_11ea_9c6b_54a050d383aerow5_col4 {\n            background-color:  #e3d9d3;\n            color:  #000000;\n        }    #T_27acf2d0_7ab3_11ea_9c6b_54a050d383aerow5_col5 {\n            background-color:  #b40426;\n            color:  #f1f1f1;\n        }    #T_27acf2d0_7ab3_11ea_9c6b_54a050d383aerow5_col6 {\n            background-color:  #dbdcde;\n            color:  #000000;\n        }    #T_27acf2d0_7ab3_11ea_9c6b_54a050d383aerow5_col7 {\n            background-color:  #f4c5ad;\n            color:  #000000;\n        }    #T_27acf2d0_7ab3_11ea_9c6b_54a050d383aerow5_col8 {\n            background-color:  #b9d0f9;\n            color:  #000000;\n        }    #T_27acf2d0_7ab3_11ea_9c6b_54a050d383aerow5_col9 {\n            background-color:  #cad8ef;\n            color:  #000000;\n        }    #T_27acf2d0_7ab3_11ea_9c6b_54a050d383aerow5_col10 {\n            background-color:  #97b8ff;\n            color:  #000000;\n        }    #T_27acf2d0_7ab3_11ea_9c6b_54a050d383aerow5_col11 {\n            background-color:  #d6dce4;\n            color:  #000000;\n        }    #T_27acf2d0_7ab3_11ea_9c6b_54a050d383aerow6_col0 {\n            background-color:  #4f69d9;\n            color:  #000000;\n        }    #T_27acf2d0_7ab3_11ea_9c6b_54a050d383aerow6_col1 {\n            background-color:  #e1dad6;\n            color:  #000000;\n        }    #T_27acf2d0_7ab3_11ea_9c6b_54a050d383aerow6_col2 {\n            background-color:  #3b4cc0;\n            color:  #f1f1f1;\n        }    #T_27acf2d0_7ab3_11ea_9c6b_54a050d383aerow6_col3 {\n            background-color:  #a3c2fe;\n            color:  #000000;\n        }    #T_27acf2d0_7ab3_11ea_9c6b_54a050d383aerow6_col4 {\n            background-color:  #a5c3fe;\n            color:  #000000;\n        }    #T_27acf2d0_7ab3_11ea_9c6b_54a050d383aerow6_col5 {\n            background-color:  #b7cff9;\n            color:  #000000;\n        }    #T_27acf2d0_7ab3_11ea_9c6b_54a050d383aerow6_col6 {\n            background-color:  #b40426;\n            color:  #f1f1f1;\n        }    #T_27acf2d0_7ab3_11ea_9c6b_54a050d383aerow6_col7 {\n            background-color:  #f1cdba;\n            color:  #000000;\n        }    #T_27acf2d0_7ab3_11ea_9c6b_54a050d383aerow6_col8 {\n            background-color:  #c3d5f4;\n            color:  #000000;\n        }    #T_27acf2d0_7ab3_11ea_9c6b_54a050d383aerow6_col9 {\n            background-color:  #f1cdba;\n            color:  #000000;\n        }    #T_27acf2d0_7ab3_11ea_9c6b_54a050d383aerow6_col10 {\n            background-color:  #8fb1fe;\n            color:  #000000;\n        }    #T_27acf2d0_7ab3_11ea_9c6b_54a050d383aerow6_col11 {\n            background-color:  #aec9fc;\n            color:  #000000;\n        }    #T_27acf2d0_7ab3_11ea_9c6b_54a050d383aerow7_col0 {\n            background-color:  #3e51c5;\n            color:  #f1f1f1;\n        }    #T_27acf2d0_7ab3_11ea_9c6b_54a050d383aerow7_col1 {\n            background-color:  #f7ac8e;\n            color:  #000000;\n        }    #T_27acf2d0_7ab3_11ea_9c6b_54a050d383aerow7_col2 {\n            background-color:  #94b6ff;\n            color:  #000000;\n        }    #T_27acf2d0_7ab3_11ea_9c6b_54a050d383aerow7_col3 {\n            background-color:  #7396f5;\n            color:  #000000;\n        }    #T_27acf2d0_7ab3_11ea_9c6b_54a050d383aerow7_col4 {\n            background-color:  #98b9ff;\n            color:  #000000;\n        }    #T_27acf2d0_7ab3_11ea_9c6b_54a050d383aerow7_col5 {\n            background-color:  #bfd3f6;\n            color:  #000000;\n        }    #T_27acf2d0_7ab3_11ea_9c6b_54a050d383aerow7_col6 {\n            background-color:  #d5dbe5;\n            color:  #000000;\n        }    #T_27acf2d0_7ab3_11ea_9c6b_54a050d383aerow7_col7 {\n            background-color:  #b40426;\n            color:  #f1f1f1;\n        }    #T_27acf2d0_7ab3_11ea_9c6b_54a050d383aerow7_col8 {\n            background-color:  #3b4cc0;\n            color:  #f1f1f1;\n        }    #T_27acf2d0_7ab3_11ea_9c6b_54a050d383aerow7_col9 {\n            background-color:  #d9dce1;\n            color:  #000000;\n        }    #T_27acf2d0_7ab3_11ea_9c6b_54a050d383aerow7_col10 {\n            background-color:  #bbd1f8;\n            color:  #000000;\n        }    #T_27acf2d0_7ab3_11ea_9c6b_54a050d383aerow7_col11 {\n            background-color:  #b6cefa;\n            color:  #000000;\n        }    #T_27acf2d0_7ab3_11ea_9c6b_54a050d383aerow8_col0 {\n            background-color:  #5875e1;\n            color:  #000000;\n        }    #T_27acf2d0_7ab3_11ea_9c6b_54a050d383aerow8_col1 {\n            background-color:  #3b4cc0;\n            color:  #f1f1f1;\n        }    #T_27acf2d0_7ab3_11ea_9c6b_54a050d383aerow8_col2 {\n            background-color:  #cbd8ee;\n            color:  #000000;\n        }    #T_27acf2d0_7ab3_11ea_9c6b_54a050d383aerow8_col3 {\n            background-color:  #a3c2fe;\n            color:  #000000;\n        }    #T_27acf2d0_7ab3_11ea_9c6b_54a050d383aerow8_col4 {\n            background-color:  #5875e1;\n            color:  #000000;\n        }    #T_27acf2d0_7ab3_11ea_9c6b_54a050d383aerow8_col5 {\n            background-color:  #3b4cc0;\n            color:  #f1f1f1;\n        }    #T_27acf2d0_7ab3_11ea_9c6b_54a050d383aerow8_col6 {\n            background-color:  #88abfd;\n            color:  #000000;\n        }    #T_27acf2d0_7ab3_11ea_9c6b_54a050d383aerow8_col7 {\n            background-color:  #3b4cc0;\n            color:  #f1f1f1;\n        }    #T_27acf2d0_7ab3_11ea_9c6b_54a050d383aerow8_col8 {\n            background-color:  #b40426;\n            color:  #f1f1f1;\n        }    #T_27acf2d0_7ab3_11ea_9c6b_54a050d383aerow8_col9 {\n            background-color:  #bed2f6;\n            color:  #000000;\n        }    #T_27acf2d0_7ab3_11ea_9c6b_54a050d383aerow8_col10 {\n            background-color:  #98b9ff;\n            color:  #000000;\n        }    #T_27acf2d0_7ab3_11ea_9c6b_54a050d383aerow8_col11 {\n            background-color:  #dedcdb;\n            color:  #000000;\n        }    #T_27acf2d0_7ab3_11ea_9c6b_54a050d383aerow9_col0 {\n            background-color:  #4a63d3;\n            color:  #f1f1f1;\n        }    #T_27acf2d0_7ab3_11ea_9c6b_54a050d383aerow9_col1 {\n            background-color:  #d3dbe7;\n            color:  #000000;\n        }    #T_27acf2d0_7ab3_11ea_9c6b_54a050d383aerow9_col2 {\n            background-color:  #7a9df8;\n            color:  #000000;\n        }    #T_27acf2d0_7ab3_11ea_9c6b_54a050d383aerow9_col3 {\n            background-color:  #94b6ff;\n            color:  #000000;\n        }    #T_27acf2d0_7ab3_11ea_9c6b_54a050d383aerow9_col4 {\n            background-color:  #6687ed;\n            color:  #000000;\n        }    #T_27acf2d0_7ab3_11ea_9c6b_54a050d383aerow9_col5 {\n            background-color:  #779af7;\n            color:  #000000;\n        }    #T_27acf2d0_7ab3_11ea_9c6b_54a050d383aerow9_col6 {\n            background-color:  #e4d9d2;\n            color:  #000000;\n        }    #T_27acf2d0_7ab3_11ea_9c6b_54a050d383aerow9_col7 {\n            background-color:  #e7d7ce;\n            color:  #000000;\n        }    #T_27acf2d0_7ab3_11ea_9c6b_54a050d383aerow9_col8 {\n            background-color:  #d2dbe8;\n            color:  #000000;\n        }    #T_27acf2d0_7ab3_11ea_9c6b_54a050d383aerow9_col9 {\n            background-color:  #b40426;\n            color:  #f1f1f1;\n        }    #T_27acf2d0_7ab3_11ea_9c6b_54a050d383aerow9_col10 {\n            background-color:  #86a9fc;\n            color:  #000000;\n        }    #T_27acf2d0_7ab3_11ea_9c6b_54a050d383aerow9_col11 {\n            background-color:  #3b4cc0;\n            color:  #f1f1f1;\n        }    #T_27acf2d0_7ab3_11ea_9c6b_54a050d383aerow10_col0 {\n            background-color:  #4055c8;\n            color:  #f1f1f1;\n        }    #T_27acf2d0_7ab3_11ea_9c6b_54a050d383aerow10_col1 {\n            background-color:  #b1cbfc;\n            color:  #000000;\n        }    #T_27acf2d0_7ab3_11ea_9c6b_54a050d383aerow10_col2 {\n            background-color:  #dcdddd;\n            color:  #000000;\n        }    #T_27acf2d0_7ab3_11ea_9c6b_54a050d383aerow10_col3 {\n            background-color:  #88abfd;\n            color:  #000000;\n        }    #T_27acf2d0_7ab3_11ea_9c6b_54a050d383aerow10_col4 {\n            background-color:  #6f92f3;\n            color:  #000000;\n        }    #T_27acf2d0_7ab3_11ea_9c6b_54a050d383aerow10_col5 {\n            background-color:  #6485ec;\n            color:  #000000;\n        }    #T_27acf2d0_7ab3_11ea_9c6b_54a050d383aerow10_col6 {\n            background-color:  #97b8ff;\n            color:  #000000;\n        }    #T_27acf2d0_7ab3_11ea_9c6b_54a050d383aerow10_col7 {\n            background-color:  #e6d7cf;\n            color:  #000000;\n        }    #T_27acf2d0_7ab3_11ea_9c6b_54a050d383aerow10_col8 {\n            background-color:  #d3dbe7;\n            color:  #000000;\n        }    #T_27acf2d0_7ab3_11ea_9c6b_54a050d383aerow10_col9 {\n            background-color:  #b2ccfb;\n            color:  #000000;\n        }    #T_27acf2d0_7ab3_11ea_9c6b_54a050d383aerow10_col10 {\n            background-color:  #b40426;\n            color:  #f1f1f1;\n        }    #T_27acf2d0_7ab3_11ea_9c6b_54a050d383aerow10_col11 {\n            background-color:  #6c8ff1;\n            color:  #000000;\n        }    #T_27acf2d0_7ab3_11ea_9c6b_54a050d383aerow11_col0 {\n            background-color:  #516ddb;\n            color:  #000000;\n        }    #T_27acf2d0_7ab3_11ea_9c6b_54a050d383aerow11_col1 {\n            background-color:  #8db0fe;\n            color:  #000000;\n        }    #T_27acf2d0_7ab3_11ea_9c6b_54a050d383aerow11_col2 {\n            background-color:  #c1d4f4;\n            color:  #000000;\n        }    #T_27acf2d0_7ab3_11ea_9c6b_54a050d383aerow11_col3 {\n            background-color:  #86a9fc;\n            color:  #000000;\n        }    #T_27acf2d0_7ab3_11ea_9c6b_54a050d383aerow11_col4 {\n            background-color:  #8badfd;\n            color:  #000000;\n        }    #T_27acf2d0_7ab3_11ea_9c6b_54a050d383aerow11_col5 {\n            background-color:  #8caffe;\n            color:  #000000;\n        }    #T_27acf2d0_7ab3_11ea_9c6b_54a050d383aerow11_col6 {\n            background-color:  #8caffe;\n            color:  #000000;\n        }    #T_27acf2d0_7ab3_11ea_9c6b_54a050d383aerow11_col7 {\n            background-color:  #ccd9ed;\n            color:  #000000;\n        }    #T_27acf2d0_7ab3_11ea_9c6b_54a050d383aerow11_col8 {\n            background-color:  #ebd3c6;\n            color:  #000000;\n        }    #T_27acf2d0_7ab3_11ea_9c6b_54a050d383aerow11_col9 {\n            background-color:  #3b4cc0;\n            color:  #f1f1f1;\n        }    #T_27acf2d0_7ab3_11ea_9c6b_54a050d383aerow11_col10 {\n            background-color:  #3b4cc0;\n            color:  #f1f1f1;\n        }    #T_27acf2d0_7ab3_11ea_9c6b_54a050d383aerow11_col11 {\n            background-color:  #b40426;\n            color:  #f1f1f1;\n        }</style><table id=\"T_27acf2d0_7ab3_11ea_9c6b_54a050d383ae\" ><thead>    <tr>        <th class=\"blank level0\" ></th>        <th class=\"col_heading level0 col0\" >PassengerId</th>        <th class=\"col_heading level0 col1\" >Survived</th>        <th class=\"col_heading level0 col2\" >Pclass</th>        <th class=\"col_heading level0 col3\" >Age</th>        <th class=\"col_heading level0 col4\" >SibSp</th>        <th class=\"col_heading level0 col5\" >Parch</th>        <th class=\"col_heading level0 col6\" >Fare</th>        <th class=\"col_heading level0 col7\" >Sex_female</th>        <th class=\"col_heading level0 col8\" >Sex_male</th>        <th class=\"col_heading level0 col9\" >Embarked_C</th>        <th class=\"col_heading level0 col10\" >Embarked_Q</th>        <th class=\"col_heading level0 col11\" >Embarked_S</th>    </tr></thead><tbody>\n                <tr>\n                        <th id=\"T_27acf2d0_7ab3_11ea_9c6b_54a050d383aelevel0_row0\" class=\"row_heading level0 row0\" >PassengerId</th>\n                        <td id=\"T_27acf2d0_7ab3_11ea_9c6b_54a050d383aerow0_col0\" class=\"data row0 col0\" >1.0</td>\n                        <td id=\"T_27acf2d0_7ab3_11ea_9c6b_54a050d383aerow0_col1\" class=\"data row0 col1\" >-0.005</td>\n                        <td id=\"T_27acf2d0_7ab3_11ea_9c6b_54a050d383aerow0_col2\" class=\"data row0 col2\" >-0.035</td>\n                        <td id=\"T_27acf2d0_7ab3_11ea_9c6b_54a050d383aerow0_col3\" class=\"data row0 col3\" >0.03</td>\n                        <td id=\"T_27acf2d0_7ab3_11ea_9c6b_54a050d383aerow0_col4\" class=\"data row0 col4\" >-0.058</td>\n                        <td id=\"T_27acf2d0_7ab3_11ea_9c6b_54a050d383aerow0_col5\" class=\"data row0 col5\" >-0.0017</td>\n                        <td id=\"T_27acf2d0_7ab3_11ea_9c6b_54a050d383aerow0_col6\" class=\"data row0 col6\" >0.013</td>\n                        <td id=\"T_27acf2d0_7ab3_11ea_9c6b_54a050d383aerow0_col7\" class=\"data row0 col7\" >-0.043</td>\n                        <td id=\"T_27acf2d0_7ab3_11ea_9c6b_54a050d383aerow0_col8\" class=\"data row0 col8\" >0.043</td>\n                        <td id=\"T_27acf2d0_7ab3_11ea_9c6b_54a050d383aerow0_col9\" class=\"data row0 col9\" >-0.0012</td>\n                        <td id=\"T_27acf2d0_7ab3_11ea_9c6b_54a050d383aerow0_col10\" class=\"data row0 col10\" >-0.034</td>\n                        <td id=\"T_27acf2d0_7ab3_11ea_9c6b_54a050d383aerow0_col11\" class=\"data row0 col11\" >0.022</td>\n            </tr>\n            <tr>\n                        <th id=\"T_27acf2d0_7ab3_11ea_9c6b_54a050d383aelevel0_row1\" class=\"row_heading level0 row1\" >Survived</th>\n                        <td id=\"T_27acf2d0_7ab3_11ea_9c6b_54a050d383aerow1_col0\" class=\"data row1 col0\" >-0.005</td>\n                        <td id=\"T_27acf2d0_7ab3_11ea_9c6b_54a050d383aerow1_col1\" class=\"data row1 col1\" >1.0</td>\n                        <td id=\"T_27acf2d0_7ab3_11ea_9c6b_54a050d383aerow1_col2\" class=\"data row1 col2\" >-0.34</td>\n                        <td id=\"T_27acf2d0_7ab3_11ea_9c6b_54a050d383aerow1_col3\" class=\"data row1 col3\" >-0.075</td>\n                        <td id=\"T_27acf2d0_7ab3_11ea_9c6b_54a050d383aerow1_col4\" class=\"data row1 col4\" >-0.034</td>\n                        <td id=\"T_27acf2d0_7ab3_11ea_9c6b_54a050d383aerow1_col5\" class=\"data row1 col5\" >0.083</td>\n                        <td id=\"T_27acf2d0_7ab3_11ea_9c6b_54a050d383aerow1_col6\" class=\"data row1 col6\" >0.26</td>\n                        <td id=\"T_27acf2d0_7ab3_11ea_9c6b_54a050d383aerow1_col7\" class=\"data row1 col7\" >0.54</td>\n                        <td id=\"T_27acf2d0_7ab3_11ea_9c6b_54a050d383aerow1_col8\" class=\"data row1 col8\" >-0.54</td>\n                        <td id=\"T_27acf2d0_7ab3_11ea_9c6b_54a050d383aerow1_col9\" class=\"data row1 col9\" >0.17</td>\n                        <td id=\"T_27acf2d0_7ab3_11ea_9c6b_54a050d383aerow1_col10\" class=\"data row1 col10\" >0.0045</td>\n                        <td id=\"T_27acf2d0_7ab3_11ea_9c6b_54a050d383aerow1_col11\" class=\"data row1 col11\" >-0.15</td>\n            </tr>\n            <tr>\n                        <th id=\"T_27acf2d0_7ab3_11ea_9c6b_54a050d383aelevel0_row2\" class=\"row_heading level0 row2\" >Pclass</th>\n                        <td id=\"T_27acf2d0_7ab3_11ea_9c6b_54a050d383aerow2_col0\" class=\"data row2 col0\" >-0.035</td>\n                        <td id=\"T_27acf2d0_7ab3_11ea_9c6b_54a050d383aerow2_col1\" class=\"data row2 col1\" >-0.34</td>\n                        <td id=\"T_27acf2d0_7ab3_11ea_9c6b_54a050d383aerow2_col2\" class=\"data row2 col2\" >1.0</td>\n                        <td id=\"T_27acf2d0_7ab3_11ea_9c6b_54a050d383aerow2_col3\" class=\"data row2 col3\" >-0.33</td>\n                        <td id=\"T_27acf2d0_7ab3_11ea_9c6b_54a050d383aerow2_col4\" class=\"data row2 col4\" >0.082</td>\n                        <td id=\"T_27acf2d0_7ab3_11ea_9c6b_54a050d383aerow2_col5\" class=\"data row2 col5\" >0.017</td>\n                        <td id=\"T_27acf2d0_7ab3_11ea_9c6b_54a050d383aerow2_col6\" class=\"data row2 col6\" >-0.55</td>\n                        <td id=\"T_27acf2d0_7ab3_11ea_9c6b_54a050d383aerow2_col7\" class=\"data row2 col7\" >-0.13</td>\n                        <td id=\"T_27acf2d0_7ab3_11ea_9c6b_54a050d383aerow2_col8\" class=\"data row2 col8\" >0.13</td>\n                        <td id=\"T_27acf2d0_7ab3_11ea_9c6b_54a050d383aerow2_col9\" class=\"data row2 col9\" >-0.25</td>\n                        <td id=\"T_27acf2d0_7ab3_11ea_9c6b_54a050d383aerow2_col10\" class=\"data row2 col10\" >0.22</td>\n                        <td id=\"T_27acf2d0_7ab3_11ea_9c6b_54a050d383aerow2_col11\" class=\"data row2 col11\" >0.076</td>\n            </tr>\n            <tr>\n                        <th id=\"T_27acf2d0_7ab3_11ea_9c6b_54a050d383aelevel0_row3\" class=\"row_heading level0 row3\" >Age</th>\n                        <td id=\"T_27acf2d0_7ab3_11ea_9c6b_54a050d383aerow3_col0\" class=\"data row3 col0\" >0.03</td>\n                        <td id=\"T_27acf2d0_7ab3_11ea_9c6b_54a050d383aerow3_col1\" class=\"data row3 col1\" >-0.075</td>\n                        <td id=\"T_27acf2d0_7ab3_11ea_9c6b_54a050d383aerow3_col2\" class=\"data row3 col2\" >-0.33</td>\n                        <td id=\"T_27acf2d0_7ab3_11ea_9c6b_54a050d383aerow3_col3\" class=\"data row3 col3\" >1.0</td>\n                        <td id=\"T_27acf2d0_7ab3_11ea_9c6b_54a050d383aerow3_col4\" class=\"data row3 col4\" >-0.23</td>\n                        <td id=\"T_27acf2d0_7ab3_11ea_9c6b_54a050d383aerow3_col5\" class=\"data row3 col5\" >-0.18</td>\n                        <td id=\"T_27acf2d0_7ab3_11ea_9c6b_54a050d383aerow3_col6\" class=\"data row3 col6\" >0.089</td>\n                        <td id=\"T_27acf2d0_7ab3_11ea_9c6b_54a050d383aerow3_col7\" class=\"data row3 col7\" >-0.089</td>\n                        <td id=\"T_27acf2d0_7ab3_11ea_9c6b_54a050d383aerow3_col8\" class=\"data row3 col8\" >0.089</td>\n                        <td id=\"T_27acf2d0_7ab3_11ea_9c6b_54a050d383aerow3_col9\" class=\"data row3 col9\" >0.034</td>\n                        <td id=\"T_27acf2d0_7ab3_11ea_9c6b_54a050d383aerow3_col10\" class=\"data row3 col10\" >-0.013</td>\n                        <td id=\"T_27acf2d0_7ab3_11ea_9c6b_54a050d383aerow3_col11\" class=\"data row3 col11\" >-0.022</td>\n            </tr>\n            <tr>\n                        <th id=\"T_27acf2d0_7ab3_11ea_9c6b_54a050d383aelevel0_row4\" class=\"row_heading level0 row4\" >SibSp</th>\n                        <td id=\"T_27acf2d0_7ab3_11ea_9c6b_54a050d383aerow4_col0\" class=\"data row4 col0\" >-0.058</td>\n                        <td id=\"T_27acf2d0_7ab3_11ea_9c6b_54a050d383aerow4_col1\" class=\"data row4 col1\" >-0.034</td>\n                        <td id=\"T_27acf2d0_7ab3_11ea_9c6b_54a050d383aerow4_col2\" class=\"data row4 col2\" >0.082</td>\n                        <td id=\"T_27acf2d0_7ab3_11ea_9c6b_54a050d383aerow4_col3\" class=\"data row4 col3\" >-0.23</td>\n                        <td id=\"T_27acf2d0_7ab3_11ea_9c6b_54a050d383aerow4_col4\" class=\"data row4 col4\" >1.0</td>\n                        <td id=\"T_27acf2d0_7ab3_11ea_9c6b_54a050d383aerow4_col5\" class=\"data row4 col5\" >0.41</td>\n                        <td id=\"T_27acf2d0_7ab3_11ea_9c6b_54a050d383aerow4_col6\" class=\"data row4 col6\" >0.16</td>\n                        <td id=\"T_27acf2d0_7ab3_11ea_9c6b_54a050d383aerow4_col7\" class=\"data row4 col7\" >0.12</td>\n                        <td id=\"T_27acf2d0_7ab3_11ea_9c6b_54a050d383aerow4_col8\" class=\"data row4 col8\" >-0.12</td>\n                        <td id=\"T_27acf2d0_7ab3_11ea_9c6b_54a050d383aerow4_col9\" class=\"data row4 col9\" >-0.06</td>\n                        <td id=\"T_27acf2d0_7ab3_11ea_9c6b_54a050d383aerow4_col10\" class=\"data row4 col10\" >-0.027</td>\n                        <td id=\"T_27acf2d0_7ab3_11ea_9c6b_54a050d383aerow4_col11\" class=\"data row4 col11\" >0.069</td>\n            </tr>\n            <tr>\n                        <th id=\"T_27acf2d0_7ab3_11ea_9c6b_54a050d383aelevel0_row5\" class=\"row_heading level0 row5\" >Parch</th>\n                        <td id=\"T_27acf2d0_7ab3_11ea_9c6b_54a050d383aerow5_col0\" class=\"data row5 col0\" >-0.0017</td>\n                        <td id=\"T_27acf2d0_7ab3_11ea_9c6b_54a050d383aerow5_col1\" class=\"data row5 col1\" >0.083</td>\n                        <td id=\"T_27acf2d0_7ab3_11ea_9c6b_54a050d383aerow5_col2\" class=\"data row5 col2\" >0.017</td>\n                        <td id=\"T_27acf2d0_7ab3_11ea_9c6b_54a050d383aerow5_col3\" class=\"data row5 col3\" >-0.18</td>\n                        <td id=\"T_27acf2d0_7ab3_11ea_9c6b_54a050d383aerow5_col4\" class=\"data row5 col4\" >0.41</td>\n                        <td id=\"T_27acf2d0_7ab3_11ea_9c6b_54a050d383aerow5_col5\" class=\"data row5 col5\" >1.0</td>\n                        <td id=\"T_27acf2d0_7ab3_11ea_9c6b_54a050d383aerow5_col6\" class=\"data row5 col6\" >0.22</td>\n                        <td id=\"T_27acf2d0_7ab3_11ea_9c6b_54a050d383aerow5_col7\" class=\"data row5 col7\" >0.25</td>\n                        <td id=\"T_27acf2d0_7ab3_11ea_9c6b_54a050d383aerow5_col8\" class=\"data row5 col8\" >-0.25</td>\n                        <td id=\"T_27acf2d0_7ab3_11ea_9c6b_54a050d383aerow5_col9\" class=\"data row5 col9\" >-0.012</td>\n                        <td id=\"T_27acf2d0_7ab3_11ea_9c6b_54a050d383aerow5_col10\" class=\"data row5 col10\" >-0.082</td>\n                        <td id=\"T_27acf2d0_7ab3_11ea_9c6b_54a050d383aerow5_col11\" class=\"data row5 col11\" >0.062</td>\n            </tr>\n            <tr>\n                        <th id=\"T_27acf2d0_7ab3_11ea_9c6b_54a050d383aelevel0_row6\" class=\"row_heading level0 row6\" >Fare</th>\n                        <td id=\"T_27acf2d0_7ab3_11ea_9c6b_54a050d383aerow6_col0\" class=\"data row6 col0\" >0.013</td>\n                        <td id=\"T_27acf2d0_7ab3_11ea_9c6b_54a050d383aerow6_col1\" class=\"data row6 col1\" >0.26</td>\n                        <td id=\"T_27acf2d0_7ab3_11ea_9c6b_54a050d383aerow6_col2\" class=\"data row6 col2\" >-0.55</td>\n                        <td id=\"T_27acf2d0_7ab3_11ea_9c6b_54a050d383aerow6_col3\" class=\"data row6 col3\" >0.089</td>\n                        <td id=\"T_27acf2d0_7ab3_11ea_9c6b_54a050d383aerow6_col4\" class=\"data row6 col4\" >0.16</td>\n                        <td id=\"T_27acf2d0_7ab3_11ea_9c6b_54a050d383aerow6_col5\" class=\"data row6 col5\" >0.22</td>\n                        <td id=\"T_27acf2d0_7ab3_11ea_9c6b_54a050d383aerow6_col6\" class=\"data row6 col6\" >1.0</td>\n                        <td id=\"T_27acf2d0_7ab3_11ea_9c6b_54a050d383aerow6_col7\" class=\"data row6 col7\" >0.18</td>\n                        <td id=\"T_27acf2d0_7ab3_11ea_9c6b_54a050d383aerow6_col8\" class=\"data row6 col8\" >-0.18</td>\n                        <td id=\"T_27acf2d0_7ab3_11ea_9c6b_54a050d383aerow6_col9\" class=\"data row6 col9\" >0.27</td>\n                        <td id=\"T_27acf2d0_7ab3_11ea_9c6b_54a050d383aerow6_col10\" class=\"data row6 col10\" >-0.12</td>\n                        <td id=\"T_27acf2d0_7ab3_11ea_9c6b_54a050d383aerow6_col11\" class=\"data row6 col11\" >-0.16</td>\n            </tr>\n            <tr>\n                        <th id=\"T_27acf2d0_7ab3_11ea_9c6b_54a050d383aelevel0_row7\" class=\"row_heading level0 row7\" >Sex_female</th>\n                        <td id=\"T_27acf2d0_7ab3_11ea_9c6b_54a050d383aerow7_col0\" class=\"data row7 col0\" >-0.043</td>\n                        <td id=\"T_27acf2d0_7ab3_11ea_9c6b_54a050d383aerow7_col1\" class=\"data row7 col1\" >0.54</td>\n                        <td id=\"T_27acf2d0_7ab3_11ea_9c6b_54a050d383aerow7_col2\" class=\"data row7 col2\" >-0.13</td>\n                        <td id=\"T_27acf2d0_7ab3_11ea_9c6b_54a050d383aerow7_col3\" class=\"data row7 col3\" >-0.089</td>\n                        <td id=\"T_27acf2d0_7ab3_11ea_9c6b_54a050d383aerow7_col4\" class=\"data row7 col4\" >0.12</td>\n                        <td id=\"T_27acf2d0_7ab3_11ea_9c6b_54a050d383aerow7_col5\" class=\"data row7 col5\" >0.25</td>\n                        <td id=\"T_27acf2d0_7ab3_11ea_9c6b_54a050d383aerow7_col6\" class=\"data row7 col6\" >0.18</td>\n                        <td id=\"T_27acf2d0_7ab3_11ea_9c6b_54a050d383aerow7_col7\" class=\"data row7 col7\" >1.0</td>\n                        <td id=\"T_27acf2d0_7ab3_11ea_9c6b_54a050d383aerow7_col8\" class=\"data row7 col8\" >-1.0</td>\n                        <td id=\"T_27acf2d0_7ab3_11ea_9c6b_54a050d383aerow7_col9\" class=\"data row7 col9\" >0.085</td>\n                        <td id=\"T_27acf2d0_7ab3_11ea_9c6b_54a050d383aerow7_col10\" class=\"data row7 col10\" >0.075</td>\n                        <td id=\"T_27acf2d0_7ab3_11ea_9c6b_54a050d383aerow7_col11\" class=\"data row7 col11\" >-0.12</td>\n            </tr>\n            <tr>\n                        <th id=\"T_27acf2d0_7ab3_11ea_9c6b_54a050d383aelevel0_row8\" class=\"row_heading level0 row8\" >Sex_male</th>\n                        <td id=\"T_27acf2d0_7ab3_11ea_9c6b_54a050d383aerow8_col0\" class=\"data row8 col0\" >0.043</td>\n                        <td id=\"T_27acf2d0_7ab3_11ea_9c6b_54a050d383aerow8_col1\" class=\"data row8 col1\" >-0.54</td>\n                        <td id=\"T_27acf2d0_7ab3_11ea_9c6b_54a050d383aerow8_col2\" class=\"data row8 col2\" >0.13</td>\n                        <td id=\"T_27acf2d0_7ab3_11ea_9c6b_54a050d383aerow8_col3\" class=\"data row8 col3\" >0.089</td>\n                        <td id=\"T_27acf2d0_7ab3_11ea_9c6b_54a050d383aerow8_col4\" class=\"data row8 col4\" >-0.12</td>\n                        <td id=\"T_27acf2d0_7ab3_11ea_9c6b_54a050d383aerow8_col5\" class=\"data row8 col5\" >-0.25</td>\n                        <td id=\"T_27acf2d0_7ab3_11ea_9c6b_54a050d383aerow8_col6\" class=\"data row8 col6\" >-0.18</td>\n                        <td id=\"T_27acf2d0_7ab3_11ea_9c6b_54a050d383aerow8_col7\" class=\"data row8 col7\" >-1.0</td>\n                        <td id=\"T_27acf2d0_7ab3_11ea_9c6b_54a050d383aerow8_col8\" class=\"data row8 col8\" >1.0</td>\n                        <td id=\"T_27acf2d0_7ab3_11ea_9c6b_54a050d383aerow8_col9\" class=\"data row8 col9\" >-0.085</td>\n                        <td id=\"T_27acf2d0_7ab3_11ea_9c6b_54a050d383aerow8_col10\" class=\"data row8 col10\" >-0.075</td>\n                        <td id=\"T_27acf2d0_7ab3_11ea_9c6b_54a050d383aerow8_col11\" class=\"data row8 col11\" >0.12</td>\n            </tr>\n            <tr>\n                        <th id=\"T_27acf2d0_7ab3_11ea_9c6b_54a050d383aelevel0_row9\" class=\"row_heading level0 row9\" >Embarked_C</th>\n                        <td id=\"T_27acf2d0_7ab3_11ea_9c6b_54a050d383aerow9_col0\" class=\"data row9 col0\" >-0.0012</td>\n                        <td id=\"T_27acf2d0_7ab3_11ea_9c6b_54a050d383aerow9_col1\" class=\"data row9 col1\" >0.17</td>\n                        <td id=\"T_27acf2d0_7ab3_11ea_9c6b_54a050d383aerow9_col2\" class=\"data row9 col2\" >-0.25</td>\n                        <td id=\"T_27acf2d0_7ab3_11ea_9c6b_54a050d383aerow9_col3\" class=\"data row9 col3\" >0.034</td>\n                        <td id=\"T_27acf2d0_7ab3_11ea_9c6b_54a050d383aerow9_col4\" class=\"data row9 col4\" >-0.06</td>\n                        <td id=\"T_27acf2d0_7ab3_11ea_9c6b_54a050d383aerow9_col5\" class=\"data row9 col5\" >-0.012</td>\n                        <td id=\"T_27acf2d0_7ab3_11ea_9c6b_54a050d383aerow9_col6\" class=\"data row9 col6\" >0.27</td>\n                        <td id=\"T_27acf2d0_7ab3_11ea_9c6b_54a050d383aerow9_col7\" class=\"data row9 col7\" >0.085</td>\n                        <td id=\"T_27acf2d0_7ab3_11ea_9c6b_54a050d383aerow9_col8\" class=\"data row9 col8\" >-0.085</td>\n                        <td id=\"T_27acf2d0_7ab3_11ea_9c6b_54a050d383aerow9_col9\" class=\"data row9 col9\" >1.0</td>\n                        <td id=\"T_27acf2d0_7ab3_11ea_9c6b_54a050d383aerow9_col10\" class=\"data row9 col10\" >-0.15</td>\n                        <td id=\"T_27acf2d0_7ab3_11ea_9c6b_54a050d383aerow9_col11\" class=\"data row9 col11\" >-0.78</td>\n            </tr>\n            <tr>\n                        <th id=\"T_27acf2d0_7ab3_11ea_9c6b_54a050d383aelevel0_row10\" class=\"row_heading level0 row10\" >Embarked_Q</th>\n                        <td id=\"T_27acf2d0_7ab3_11ea_9c6b_54a050d383aerow10_col0\" class=\"data row10 col0\" >-0.034</td>\n                        <td id=\"T_27acf2d0_7ab3_11ea_9c6b_54a050d383aerow10_col1\" class=\"data row10 col1\" >0.0045</td>\n                        <td id=\"T_27acf2d0_7ab3_11ea_9c6b_54a050d383aerow10_col2\" class=\"data row10 col2\" >0.22</td>\n                        <td id=\"T_27acf2d0_7ab3_11ea_9c6b_54a050d383aerow10_col3\" class=\"data row10 col3\" >-0.013</td>\n                        <td id=\"T_27acf2d0_7ab3_11ea_9c6b_54a050d383aerow10_col4\" class=\"data row10 col4\" >-0.027</td>\n                        <td id=\"T_27acf2d0_7ab3_11ea_9c6b_54a050d383aerow10_col5\" class=\"data row10 col5\" >-0.082</td>\n                        <td id=\"T_27acf2d0_7ab3_11ea_9c6b_54a050d383aerow10_col6\" class=\"data row10 col6\" >-0.12</td>\n                        <td id=\"T_27acf2d0_7ab3_11ea_9c6b_54a050d383aerow10_col7\" class=\"data row10 col7\" >0.075</td>\n                        <td id=\"T_27acf2d0_7ab3_11ea_9c6b_54a050d383aerow10_col8\" class=\"data row10 col8\" >-0.075</td>\n                        <td id=\"T_27acf2d0_7ab3_11ea_9c6b_54a050d383aerow10_col9\" class=\"data row10 col9\" >-0.15</td>\n                        <td id=\"T_27acf2d0_7ab3_11ea_9c6b_54a050d383aerow10_col10\" class=\"data row10 col10\" >1.0</td>\n                        <td id=\"T_27acf2d0_7ab3_11ea_9c6b_54a050d383aerow10_col11\" class=\"data row10 col11\" >-0.5</td>\n            </tr>\n            <tr>\n                        <th id=\"T_27acf2d0_7ab3_11ea_9c6b_54a050d383aelevel0_row11\" class=\"row_heading level0 row11\" >Embarked_S</th>\n                        <td id=\"T_27acf2d0_7ab3_11ea_9c6b_54a050d383aerow11_col0\" class=\"data row11 col0\" >0.022</td>\n                        <td id=\"T_27acf2d0_7ab3_11ea_9c6b_54a050d383aerow11_col1\" class=\"data row11 col1\" >-0.15</td>\n                        <td id=\"T_27acf2d0_7ab3_11ea_9c6b_54a050d383aerow11_col2\" class=\"data row11 col2\" >0.076</td>\n                        <td id=\"T_27acf2d0_7ab3_11ea_9c6b_54a050d383aerow11_col3\" class=\"data row11 col3\" >-0.022</td>\n                        <td id=\"T_27acf2d0_7ab3_11ea_9c6b_54a050d383aerow11_col4\" class=\"data row11 col4\" >0.069</td>\n                        <td id=\"T_27acf2d0_7ab3_11ea_9c6b_54a050d383aerow11_col5\" class=\"data row11 col5\" >0.062</td>\n                        <td id=\"T_27acf2d0_7ab3_11ea_9c6b_54a050d383aerow11_col6\" class=\"data row11 col6\" >-0.16</td>\n                        <td id=\"T_27acf2d0_7ab3_11ea_9c6b_54a050d383aerow11_col7\" class=\"data row11 col7\" >-0.12</td>\n                        <td id=\"T_27acf2d0_7ab3_11ea_9c6b_54a050d383aerow11_col8\" class=\"data row11 col8\" >0.12</td>\n                        <td id=\"T_27acf2d0_7ab3_11ea_9c6b_54a050d383aerow11_col9\" class=\"data row11 col9\" >-0.78</td>\n                        <td id=\"T_27acf2d0_7ab3_11ea_9c6b_54a050d383aerow11_col10\" class=\"data row11 col10\" >-0.5</td>\n                        <td id=\"T_27acf2d0_7ab3_11ea_9c6b_54a050d383aerow11_col11\" class=\"data row11 col11\" >1.0</td>\n            </tr>\n    </tbody></table>"
     },
     "metadata": {},
     "execution_count": 34
    }
   ],
   "source": [
    "train_stats.corr(method='pearson').style.format(\"{:.2}\").background_gradient(cmap=plt.get_cmap('coolwarm'))"
   ]
  },
  {
   "cell_type": "code",
   "execution_count": 83,
   "metadata": {},
   "outputs": [
    {
     "output_type": "stream",
     "name": "stdout",
     "text": "pvalue = 3.7799096665574906e-58 alpha = 0.05\nLes deux variables ne sont pas indépendantes.\n"
    }
   ],
   "source": [
    "from scipy.stats import chi2_contingency\n",
    "contingence = pd.crosstab(train_stats.Sex_female, train_stats.Survived)\n",
    "khi2, p, dof, expected = chi2_contingency(contingence)\n",
    "alpha = 0.05\n",
    "print('pvalue =', p, 'alpha =', alpha)\n",
    "if p <= alpha:\n",
    "    print('Les deux variables ne sont pas indépendantes.')\n",
    "else:\n",
    "    print('Les deux variables sont indépendantes.')"
   ]
  },
  {
   "cell_type": "code",
   "execution_count": 84,
   "metadata": {},
   "outputs": [
    {
     "output_type": "stream",
     "name": "stdout",
     "text": "pvalue = 0.00034261369274988666 alpha = 0.05\nLes deux variables ne sont pas indépendantes.\n"
    }
   ],
   "source": [
    "from scipy.stats import chi2_contingency\n",
    "contingence = pd.crosstab(train_stats.Age < 18, train_stats.Survived)\n",
    "khi2, p, dof, expected = chi2_contingency(contingence)\n",
    "alpha = 0.05\n",
    "print('pvalue =', p, 'alpha =', alpha)\n",
    "if p <= alpha:\n",
    "    print('Les deux variables ne sont pas indépendantes.')\n",
    "else:\n",
    "    print('Les deux variables sont indépendantes.')"
   ]
  },
  {
   "cell_type": "code",
   "execution_count": 85,
   "metadata": {},
   "outputs": [
    {
     "output_type": "stream",
     "name": "stdout",
     "text": "pvalue = 1.553812876621213e-11 alpha = 0.05\nLes deux variables ne sont pas indépendantes.\n"
    }
   ],
   "source": [
    "from scipy.stats import chi2_contingency\n",
    "contingence = pd.crosstab(train_stats.Fare, train_stats.Survived)\n",
    "khi2, p, dof, expected = chi2_contingency(contingence)\n",
    "alpha = 0.05\n",
    "print('pvalue =', p, 'alpha =', alpha)\n",
    "if p <= alpha:\n",
    "    print('Les deux variables ne sont pas indépendantes.')\n",
    "else:\n",
    "    print('Les deux variables sont indépendantes.')"
   ]
  },
  {
   "cell_type": "code",
   "execution_count": 86,
   "metadata": {},
   "outputs": [
    {
     "output_type": "stream",
     "name": "stdout",
     "text": "pvalue = 1.1813624785477922e-22 alpha = 0.05\nLes deux variables ne sont pas indépendantes.\n"
    }
   ],
   "source": [
    "from scipy.stats import chi2_contingency\n",
    "contingence = pd.crosstab(train_stats.Pclass, train_stats.Survived)\n",
    "khi2, p, dof, expected = chi2_contingency(contingence)\n",
    "alpha = 0.05\n",
    "print('pvalue =', p, 'alpha =', alpha)\n",
    "if p <= alpha:\n",
    "    print('Les deux variables ne sont pas indépendantes.')\n",
    "else:\n",
    "    print('Les deux variables sont indépendantes.')"
   ]
  },
  {
   "cell_type": "code",
   "execution_count": null,
   "metadata": {},
   "outputs": [],
   "source": []
  },
  {
   "cell_type": "code",
   "execution_count": 64,
   "metadata": {},
   "outputs": [],
   "source": [
    "def legend_embarked(liste) :\n",
    "    L = liste.to_list()\n",
    "    for k in range(len(L)) :\n",
    "        if L[k] == \"C\" :\n",
    "            L[k] = \"Cherbourg\"\n",
    "        elif L[k] == \"Q\" :\n",
    "            L[k] = \"Queenstown\"\n",
    "        elif L[k] == \"S\" :\n",
    "            L[k] = \"Southampton\"\n",
    "    return L"
   ]
  },
  {
   "cell_type": "code",
   "execution_count": 49,
   "metadata": {},
   "outputs": [
    {
     "output_type": "execute_result",
     "data": {
      "text/plain": "['Cherbourg',\n 'Cherbourg',\n 'Queenstown',\n 'Queenstown',\n 'Southampton',\n 'Southampton']"
     },
     "metadata": {},
     "execution_count": 49
    }
   ],
   "source": [
    "legend_embarked([train.Sex.groupby(train.Embarked).value_counts().index[i][0] for i in range(6)])"
   ]
  },
  {
   "cell_type": "code",
   "execution_count": 69,
   "metadata": {},
   "outputs": [
    {
     "output_type": "execute_result",
     "data": {
      "text/plain": "Embarked  Sex   \nC         male       95\n          female     73\nQ         male       41\n          female     36\nS         male      441\n          female    203\nName: Sex, dtype: int64"
     },
     "metadata": {},
     "execution_count": 69
    }
   ],
   "source": [
    "train.Sex.groupby(train.Embarked).value_counts()"
   ]
  },
  {
   "cell_type": "code",
   "execution_count": null,
   "metadata": {},
   "outputs": [],
   "source": []
  }
 ]
}